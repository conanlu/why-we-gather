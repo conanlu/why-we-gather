{
 "cells": [
  {
   "cell_type": "markdown",
   "metadata": {},
   "source": [
    "### Run `process_locations.ipynb` before this!"
   ]
  },
  {
   "cell_type": "code",
   "execution_count": 1,
   "metadata": {},
   "outputs": [],
   "source": [
    "import pandas as pd\n",
    "from find_nearest import *"
   ]
  },
  {
   "cell_type": "code",
   "execution_count": 2,
   "metadata": {},
   "outputs": [],
   "source": [
    "open_spaces = pd.read_csv('data/locations/open_spaces.csv')\n",
    "bluebike_stations = pd.read_csv('data/locations/bluebike_stations.csv')\n",
    "restaurants = pd.read_csv('data/locations/restaurants.csv')\n",
    "food_trucks = pd.read_csv('data/locations/food_trucks.csv')\n",
    "farmers_markets = pd.read_csv('data/locations/winter_farmers_markets.csv')\n",
    "murals = pd.read_csv('data/locations/murals.csv')"
   ]
  },
  {
   "cell_type": "code",
   "execution_count": 4,
   "metadata": {},
   "outputs": [],
   "source": [
    "find_nearest(open_spaces, bluebike_stations).to_csv('nearest_bluebike_stations_k_10_d_0.5.csv', index=False)"
   ]
  },
  {
   "cell_type": "code",
   "execution_count": 5,
   "metadata": {},
   "outputs": [],
   "source": [
    "find_nearest(open_spaces, restaurants).to_csv('nearest_restaurants_k_10_d_0.5.csv', index=False)"
   ]
  },
  {
   "cell_type": "code",
   "execution_count": null,
   "metadata": {},
   "outputs": [],
   "source": [
    "find_nearest(open_spaces, food_trucks).to_csv('nearest_food_trucks_k_10_d_0.5.csv', index=False)"
   ]
  },
  {
   "cell_type": "code",
   "execution_count": null,
   "metadata": {},
   "outputs": [],
   "source": [
    "find_nearest(open_spaces, farmers_markets).to_csv('nearest_farmers_markets_k_7_d_0.5.csv', index=False)"
   ]
  },
  {
   "cell_type": "code",
   "execution_count": null,
   "metadata": {},
   "outputs": [],
   "source": [
    "find_nearest(open_spaces, murals).to_csv('nearest_murals_k_10_d_0.5.csv', index=False)"
   ]
  }
 ],
 "metadata": {
  "kernelspec": {
   "display_name": "base",
   "language": "python",
   "name": "python3"
  },
  "language_info": {
   "codemirror_mode": {
    "name": "ipython",
    "version": 3
   },
   "file_extension": ".py",
   "mimetype": "text/x-python",
   "name": "python",
   "nbconvert_exporter": "python",
   "pygments_lexer": "ipython3",
   "version": "3.9.13"
  }
 },
 "nbformat": 4,
 "nbformat_minor": 2
}
