{
 "cells": [
  {
   "cell_type": "code",
   "execution_count": 1,
   "metadata": {},
   "outputs": [],
   "source": [
    "import numpy as np\n",
    "import pandas as pd\n",
    "import datetime\n",
    "from matplotlib import pyplot as plt\n",
    "# from matplotlib import dates as mdates\n",
    "import plotly.express as px\n",
    "px.set_mapbox_access_token(open(\".mapbox_token\").read())\n",
    "from exported import *"
   ]
  },
  {
   "cell_type": "code",
   "execution_count": 2,
   "metadata": {},
   "outputs": [
    {
     "data": {
      "text/html": [
       "<div>\n",
       "<style scoped>\n",
       "    .dataframe tbody tr th:only-of-type {\n",
       "        vertical-align: middle;\n",
       "    }\n",
       "\n",
       "    .dataframe tbody tr th {\n",
       "        vertical-align: top;\n",
       "    }\n",
       "\n",
       "    .dataframe thead th {\n",
       "        text-align: right;\n",
       "    }\n",
       "</style>\n",
       "<table border=\"1\" class=\"dataframe\">\n",
       "  <thead>\n",
       "    <tr style=\"text-align: right;\">\n",
       "      <th></th>\n",
       "      <th>duration</th>\n",
       "      <th>started_at</th>\n",
       "      <th>ended_at</th>\n",
       "      <th>start_station_id_old</th>\n",
       "      <th>start_station_name</th>\n",
       "      <th>start_lat</th>\n",
       "      <th>start_lng</th>\n",
       "      <th>end_station_id_old</th>\n",
       "      <th>end_station_name</th>\n",
       "      <th>end_lat</th>\n",
       "      <th>...</th>\n",
       "      <th>bikeid</th>\n",
       "      <th>usertype</th>\n",
       "      <th>birth year</th>\n",
       "      <th>gender</th>\n",
       "      <th>postal code</th>\n",
       "      <th>ride_id</th>\n",
       "      <th>rideable_type</th>\n",
       "      <th>start_station_id_new</th>\n",
       "      <th>end_station_id_new</th>\n",
       "      <th>member_casual</th>\n",
       "    </tr>\n",
       "  </thead>\n",
       "  <tbody>\n",
       "    <tr>\n",
       "      <th>0</th>\n",
       "      <td>413</td>\n",
       "      <td>2015-01-01 16:19:32</td>\n",
       "      <td>2015-01-01 16:26:26</td>\n",
       "      <td>143.0</td>\n",
       "      <td>EF - North Point Park</td>\n",
       "      <td>42.369885</td>\n",
       "      <td>-71.069957</td>\n",
       "      <td>85</td>\n",
       "      <td>Spaulding Rehabilitation Hospital - Charlestow...</td>\n",
       "      <td>42.378338</td>\n",
       "      <td>...</td>\n",
       "      <td>481.0</td>\n",
       "      <td>member</td>\n",
       "      <td>1983</td>\n",
       "      <td>1.0</td>\n",
       "      <td>NaN</td>\n",
       "      <td>NaN</td>\n",
       "      <td>NaN</td>\n",
       "      <td>NaN</td>\n",
       "      <td>NaN</td>\n",
       "      <td>NaN</td>\n",
       "    </tr>\n",
       "    <tr>\n",
       "      <th>1</th>\n",
       "      <td>575</td>\n",
       "      <td>2015-01-02 08:06:49</td>\n",
       "      <td>2015-01-02 08:16:25</td>\n",
       "      <td>90.0</td>\n",
       "      <td>Lechmere Station at Cambridge St / First St</td>\n",
       "      <td>42.370677</td>\n",
       "      <td>-71.076529</td>\n",
       "      <td>85</td>\n",
       "      <td>Spaulding Rehabilitation Hospital - Charlestow...</td>\n",
       "      <td>42.378338</td>\n",
       "      <td>...</td>\n",
       "      <td>1295.0</td>\n",
       "      <td>member</td>\n",
       "      <td>1983</td>\n",
       "      <td>1.0</td>\n",
       "      <td>NaN</td>\n",
       "      <td>NaN</td>\n",
       "      <td>NaN</td>\n",
       "      <td>NaN</td>\n",
       "      <td>NaN</td>\n",
       "      <td>NaN</td>\n",
       "    </tr>\n",
       "    <tr>\n",
       "      <th>2</th>\n",
       "      <td>886</td>\n",
       "      <td>2015-01-02 11:38:38</td>\n",
       "      <td>2015-01-02 11:53:24</td>\n",
       "      <td>95.0</td>\n",
       "      <td>Cambridge St - at Columbia St / Webster Ave</td>\n",
       "      <td>42.372969</td>\n",
       "      <td>-71.094445</td>\n",
       "      <td>85</td>\n",
       "      <td>Spaulding Rehabilitation Hospital - Charlestow...</td>\n",
       "      <td>42.378338</td>\n",
       "      <td>...</td>\n",
       "      <td>652.0</td>\n",
       "      <td>casual</td>\n",
       "      <td>1992</td>\n",
       "      <td>2.0</td>\n",
       "      <td>NaN</td>\n",
       "      <td>NaN</td>\n",
       "      <td>NaN</td>\n",
       "      <td>NaN</td>\n",
       "      <td>NaN</td>\n",
       "      <td>NaN</td>\n",
       "    </tr>\n",
       "    <tr>\n",
       "      <th>3</th>\n",
       "      <td>1027</td>\n",
       "      <td>2015-01-02 13:33:05</td>\n",
       "      <td>2015-01-02 13:50:12</td>\n",
       "      <td>91.0</td>\n",
       "      <td>One Kendall Square at Hampshire St / Portland St</td>\n",
       "      <td>42.366277</td>\n",
       "      <td>-71.091690</td>\n",
       "      <td>85</td>\n",
       "      <td>Spaulding Rehabilitation Hospital - Charlestow...</td>\n",
       "      <td>42.378338</td>\n",
       "      <td>...</td>\n",
       "      <td>1094.0</td>\n",
       "      <td>member</td>\n",
       "      <td>1983</td>\n",
       "      <td>1.0</td>\n",
       "      <td>NaN</td>\n",
       "      <td>NaN</td>\n",
       "      <td>NaN</td>\n",
       "      <td>NaN</td>\n",
       "      <td>NaN</td>\n",
       "      <td>NaN</td>\n",
       "    </tr>\n",
       "    <tr>\n",
       "      <th>4</th>\n",
       "      <td>383</td>\n",
       "      <td>2015-01-05 10:15:46</td>\n",
       "      <td>2015-01-05 10:22:09</td>\n",
       "      <td>143.0</td>\n",
       "      <td>EF - North Point Park</td>\n",
       "      <td>42.369885</td>\n",
       "      <td>-71.069957</td>\n",
       "      <td>85</td>\n",
       "      <td>Spaulding Rehabilitation Hospital - Charlestow...</td>\n",
       "      <td>42.378338</td>\n",
       "      <td>...</td>\n",
       "      <td>761.0</td>\n",
       "      <td>member</td>\n",
       "      <td>1983</td>\n",
       "      <td>1.0</td>\n",
       "      <td>NaN</td>\n",
       "      <td>NaN</td>\n",
       "      <td>NaN</td>\n",
       "      <td>NaN</td>\n",
       "      <td>NaN</td>\n",
       "      <td>NaN</td>\n",
       "    </tr>\n",
       "    <tr>\n",
       "      <th>...</th>\n",
       "      <td>...</td>\n",
       "      <td>...</td>\n",
       "      <td>...</td>\n",
       "      <td>...</td>\n",
       "      <td>...</td>\n",
       "      <td>...</td>\n",
       "      <td>...</td>\n",
       "      <td>...</td>\n",
       "      <td>...</td>\n",
       "      <td>...</td>\n",
       "      <td>...</td>\n",
       "      <td>...</td>\n",
       "      <td>...</td>\n",
       "      <td>...</td>\n",
       "      <td>...</td>\n",
       "      <td>...</td>\n",
       "      <td>...</td>\n",
       "      <td>...</td>\n",
       "      <td>...</td>\n",
       "      <td>...</td>\n",
       "      <td>...</td>\n",
       "    </tr>\n",
       "    <tr>\n",
       "      <th>11616979</th>\n",
       "      <td>312</td>\n",
       "      <td>2024-01-12 15:38:53</td>\n",
       "      <td>2024-01-12 15:44:05</td>\n",
       "      <td>NaN</td>\n",
       "      <td>Charlestown Navy Yard</td>\n",
       "      <td>42.374125</td>\n",
       "      <td>-71.054812</td>\n",
       "      <td>NaN</td>\n",
       "      <td>Main St at Thompson Sq</td>\n",
       "      <td>42.374878</td>\n",
       "      <td>...</td>\n",
       "      <td>NaN</td>\n",
       "      <td>NaN</td>\n",
       "      <td>NaN</td>\n",
       "      <td>NaN</td>\n",
       "      <td>NaN</td>\n",
       "      <td>BA5F71F2B4F60857</td>\n",
       "      <td>classic_bike</td>\n",
       "      <td>D32039</td>\n",
       "      <td>D32038</td>\n",
       "      <td>member</td>\n",
       "    </tr>\n",
       "    <tr>\n",
       "      <th>11616980</th>\n",
       "      <td>1926</td>\n",
       "      <td>2024-01-13 12:10:36</td>\n",
       "      <td>2024-01-13 12:42:42</td>\n",
       "      <td>NaN</td>\n",
       "      <td>Newmarket Square T Stop - Massachusetts Ave at...</td>\n",
       "      <td>42.326599</td>\n",
       "      <td>-71.066498</td>\n",
       "      <td>NaN</td>\n",
       "      <td>Somerville City Hall Annex</td>\n",
       "      <td>42.391898</td>\n",
       "      <td>...</td>\n",
       "      <td>NaN</td>\n",
       "      <td>NaN</td>\n",
       "      <td>NaN</td>\n",
       "      <td>NaN</td>\n",
       "      <td>NaN</td>\n",
       "      <td>C77DAA204E19EF6A</td>\n",
       "      <td>classic_bike</td>\n",
       "      <td>C32022</td>\n",
       "      <td>S32036</td>\n",
       "      <td>member</td>\n",
       "    </tr>\n",
       "    <tr>\n",
       "      <th>11616981</th>\n",
       "      <td>2214</td>\n",
       "      <td>2024-01-27 12:08:39</td>\n",
       "      <td>2024-01-27 12:45:33</td>\n",
       "      <td>NaN</td>\n",
       "      <td>Newmarket Square T Stop - Massachusetts Ave at...</td>\n",
       "      <td>42.326599</td>\n",
       "      <td>-71.066498</td>\n",
       "      <td>NaN</td>\n",
       "      <td>Somerville City Hall Annex</td>\n",
       "      <td>42.391898</td>\n",
       "      <td>...</td>\n",
       "      <td>NaN</td>\n",
       "      <td>NaN</td>\n",
       "      <td>NaN</td>\n",
       "      <td>NaN</td>\n",
       "      <td>NaN</td>\n",
       "      <td>77BC9B9BCAD3EBA6</td>\n",
       "      <td>classic_bike</td>\n",
       "      <td>C32022</td>\n",
       "      <td>S32036</td>\n",
       "      <td>member</td>\n",
       "    </tr>\n",
       "    <tr>\n",
       "      <th>11616982</th>\n",
       "      <td>457</td>\n",
       "      <td>2024-01-23 19:13:05</td>\n",
       "      <td>2024-01-23 19:20:42</td>\n",
       "      <td>NaN</td>\n",
       "      <td>Aquarium T Stop - 200 Atlantic Ave</td>\n",
       "      <td>42.360479</td>\n",
       "      <td>-71.050593</td>\n",
       "      <td>NaN</td>\n",
       "      <td>Main St at Thompson Sq</td>\n",
       "      <td>42.374878</td>\n",
       "      <td>...</td>\n",
       "      <td>NaN</td>\n",
       "      <td>NaN</td>\n",
       "      <td>NaN</td>\n",
       "      <td>NaN</td>\n",
       "      <td>NaN</td>\n",
       "      <td>C24A84547C47B792</td>\n",
       "      <td>electric_bike</td>\n",
       "      <td>B32004</td>\n",
       "      <td>D32038</td>\n",
       "      <td>member</td>\n",
       "    </tr>\n",
       "    <tr>\n",
       "      <th>11616983</th>\n",
       "      <td>1150</td>\n",
       "      <td>2024-01-27 00:12:18</td>\n",
       "      <td>2024-01-27 00:31:28</td>\n",
       "      <td>NaN</td>\n",
       "      <td>Aquarium T Stop - 200 Atlantic Ave</td>\n",
       "      <td>42.360441</td>\n",
       "      <td>-71.050439</td>\n",
       "      <td>NaN</td>\n",
       "      <td>Main St at Thompson Sq</td>\n",
       "      <td>42.374878</td>\n",
       "      <td>...</td>\n",
       "      <td>NaN</td>\n",
       "      <td>NaN</td>\n",
       "      <td>NaN</td>\n",
       "      <td>NaN</td>\n",
       "      <td>NaN</td>\n",
       "      <td>0C09D09DCF1171F1</td>\n",
       "      <td>classic_bike</td>\n",
       "      <td>B32004</td>\n",
       "      <td>D32038</td>\n",
       "      <td>casual</td>\n",
       "    </tr>\n",
       "  </tbody>\n",
       "</table>\n",
       "<p>11616984 rows × 21 columns</p>\n",
       "</div>"
      ],
      "text/plain": [
       "          duration          started_at            ended_at  \\\n",
       "0              413 2015-01-01 16:19:32 2015-01-01 16:26:26   \n",
       "1              575 2015-01-02 08:06:49 2015-01-02 08:16:25   \n",
       "2              886 2015-01-02 11:38:38 2015-01-02 11:53:24   \n",
       "3             1027 2015-01-02 13:33:05 2015-01-02 13:50:12   \n",
       "4              383 2015-01-05 10:15:46 2015-01-05 10:22:09   \n",
       "...            ...                 ...                 ...   \n",
       "11616979       312 2024-01-12 15:38:53 2024-01-12 15:44:05   \n",
       "11616980      1926 2024-01-13 12:10:36 2024-01-13 12:42:42   \n",
       "11616981      2214 2024-01-27 12:08:39 2024-01-27 12:45:33   \n",
       "11616982       457 2024-01-23 19:13:05 2024-01-23 19:20:42   \n",
       "11616983      1150 2024-01-27 00:12:18 2024-01-27 00:31:28   \n",
       "\n",
       "          start_station_id_old  \\\n",
       "0                        143.0   \n",
       "1                         90.0   \n",
       "2                         95.0   \n",
       "3                         91.0   \n",
       "4                        143.0   \n",
       "...                        ...   \n",
       "11616979                   NaN   \n",
       "11616980                   NaN   \n",
       "11616981                   NaN   \n",
       "11616982                   NaN   \n",
       "11616983                   NaN   \n",
       "\n",
       "                                         start_station_name  start_lat  \\\n",
       "0                                     EF - North Point Park  42.369885   \n",
       "1               Lechmere Station at Cambridge St / First St  42.370677   \n",
       "2               Cambridge St - at Columbia St / Webster Ave  42.372969   \n",
       "3          One Kendall Square at Hampshire St / Portland St  42.366277   \n",
       "4                                     EF - North Point Park  42.369885   \n",
       "...                                                     ...        ...   \n",
       "11616979                              Charlestown Navy Yard  42.374125   \n",
       "11616980  Newmarket Square T Stop - Massachusetts Ave at...  42.326599   \n",
       "11616981  Newmarket Square T Stop - Massachusetts Ave at...  42.326599   \n",
       "11616982                 Aquarium T Stop - 200 Atlantic Ave  42.360479   \n",
       "11616983                 Aquarium T Stop - 200 Atlantic Ave  42.360441   \n",
       "\n",
       "          start_lng end_station_id_old  \\\n",
       "0        -71.069957                 85   \n",
       "1        -71.076529                 85   \n",
       "2        -71.094445                 85   \n",
       "3        -71.091690                 85   \n",
       "4        -71.069957                 85   \n",
       "...             ...                ...   \n",
       "11616979 -71.054812                NaN   \n",
       "11616980 -71.066498                NaN   \n",
       "11616981 -71.066498                NaN   \n",
       "11616982 -71.050593                NaN   \n",
       "11616983 -71.050439                NaN   \n",
       "\n",
       "                                           end_station_name    end_lat  ...  \\\n",
       "0         Spaulding Rehabilitation Hospital - Charlestow...  42.378338  ...   \n",
       "1         Spaulding Rehabilitation Hospital - Charlestow...  42.378338  ...   \n",
       "2         Spaulding Rehabilitation Hospital - Charlestow...  42.378338  ...   \n",
       "3         Spaulding Rehabilitation Hospital - Charlestow...  42.378338  ...   \n",
       "4         Spaulding Rehabilitation Hospital - Charlestow...  42.378338  ...   \n",
       "...                                                     ...        ...  ...   \n",
       "11616979                             Main St at Thompson Sq  42.374878  ...   \n",
       "11616980                         Somerville City Hall Annex  42.391898  ...   \n",
       "11616981                         Somerville City Hall Annex  42.391898  ...   \n",
       "11616982                             Main St at Thompson Sq  42.374878  ...   \n",
       "11616983                             Main St at Thompson Sq  42.374878  ...   \n",
       "\n",
       "          bikeid  usertype birth year gender  postal code           ride_id  \\\n",
       "0          481.0    member       1983    1.0          NaN               NaN   \n",
       "1         1295.0    member       1983    1.0          NaN               NaN   \n",
       "2          652.0    casual       1992    2.0          NaN               NaN   \n",
       "3         1094.0    member       1983    1.0          NaN               NaN   \n",
       "4          761.0    member       1983    1.0          NaN               NaN   \n",
       "...          ...       ...        ...    ...          ...               ...   \n",
       "11616979     NaN       NaN        NaN    NaN          NaN  BA5F71F2B4F60857   \n",
       "11616980     NaN       NaN        NaN    NaN          NaN  C77DAA204E19EF6A   \n",
       "11616981     NaN       NaN        NaN    NaN          NaN  77BC9B9BCAD3EBA6   \n",
       "11616982     NaN       NaN        NaN    NaN          NaN  C24A84547C47B792   \n",
       "11616983     NaN       NaN        NaN    NaN          NaN  0C09D09DCF1171F1   \n",
       "\n",
       "          rideable_type start_station_id_new end_station_id_new member_casual  \n",
       "0                   NaN                  NaN                NaN           NaN  \n",
       "1                   NaN                  NaN                NaN           NaN  \n",
       "2                   NaN                  NaN                NaN           NaN  \n",
       "3                   NaN                  NaN                NaN           NaN  \n",
       "4                   NaN                  NaN                NaN           NaN  \n",
       "...                 ...                  ...                ...           ...  \n",
       "11616979   classic_bike               D32039             D32038        member  \n",
       "11616980   classic_bike               C32022             S32036        member  \n",
       "11616981   classic_bike               C32022             S32036        member  \n",
       "11616982  electric_bike               B32004             D32038        member  \n",
       "11616983   classic_bike               B32004             D32038        casual  \n",
       "\n",
       "[11616984 rows x 21 columns]"
      ]
     },
     "execution_count": 2,
     "metadata": {},
     "output_type": "execute_result"
    }
   ],
   "source": [
    "trips = []\n",
    "for i in range(1, 25):\n",
    "    trips.append(pd.read_pickle(f'data/bluebikes/trips_combined_boston/{i}.pkl'))\n",
    "combined_trips = pd.concat(trips)\n",
    "combined_trips"
   ]
  },
  {
   "cell_type": "code",
   "execution_count": 3,
   "metadata": {},
   "outputs": [],
   "source": [
    "open_spaces = pd.read_csv('open_spaces_nearest_stations_k_10_d_0.3.csv')"
   ]
  },
  {
   "cell_type": "code",
   "execution_count": 4,
   "metadata": {},
   "outputs": [
    {
     "data": {
      "text/html": [
       "<div>\n",
       "<style scoped>\n",
       "    .dataframe tbody tr th:only-of-type {\n",
       "        vertical-align: middle;\n",
       "    }\n",
       "\n",
       "    .dataframe tbody tr th {\n",
       "        vertical-align: top;\n",
       "    }\n",
       "\n",
       "    .dataframe thead th {\n",
       "        text-align: right;\n",
       "    }\n",
       "</style>\n",
       "<table border=\"1\" class=\"dataframe\">\n",
       "  <thead>\n",
       "    <tr style=\"text-align: right;\">\n",
       "      <th></th>\n",
       "      <th>Number</th>\n",
       "      <th>Name</th>\n",
       "      <th>Latitude</th>\n",
       "      <th>Longitude</th>\n",
       "      <th>Public</th>\n",
       "      <th>Total docks</th>\n",
       "      <th>roundtrip_ratio</th>\n",
       "      <th>trips</th>\n",
       "      <th>log_trips</th>\n",
       "    </tr>\n",
       "  </thead>\n",
       "  <tbody>\n",
       "    <tr>\n",
       "      <th>0</th>\n",
       "      <td>A32019</td>\n",
       "      <td>175 N Harvard St</td>\n",
       "      <td>42.364475</td>\n",
       "      <td>-71.128408</td>\n",
       "      <td>Yes</td>\n",
       "      <td>17</td>\n",
       "      <td>0.041054</td>\n",
       "      <td>175088</td>\n",
       "      <td>5.243256</td>\n",
       "    </tr>\n",
       "    <tr>\n",
       "      <th>1</th>\n",
       "      <td>C32094</td>\n",
       "      <td>2 Hummingbird Lane at Olmsted Green</td>\n",
       "      <td>42.288870</td>\n",
       "      <td>-71.095003</td>\n",
       "      <td>Yes</td>\n",
       "      <td>17</td>\n",
       "      <td>0.329957</td>\n",
       "      <td>691</td>\n",
       "      <td>2.839478</td>\n",
       "    </tr>\n",
       "    <tr>\n",
       "      <th>2</th>\n",
       "      <td>C32106</td>\n",
       "      <td>555 Metropolitan Ave</td>\n",
       "      <td>42.268100</td>\n",
       "      <td>-71.119240</td>\n",
       "      <td>Yes</td>\n",
       "      <td>18</td>\n",
       "      <td>0.275449</td>\n",
       "      <td>334</td>\n",
       "      <td>2.523746</td>\n",
       "    </tr>\n",
       "    <tr>\n",
       "      <th>3</th>\n",
       "      <td>C32105</td>\n",
       "      <td>606 American Legion Hwy at Canterbury St</td>\n",
       "      <td>42.285780</td>\n",
       "      <td>-71.109725</td>\n",
       "      <td>Yes</td>\n",
       "      <td>18</td>\n",
       "      <td>0.075178</td>\n",
       "      <td>1543</td>\n",
       "      <td>3.188366</td>\n",
       "    </tr>\n",
       "    <tr>\n",
       "      <th>4</th>\n",
       "      <td>C32091</td>\n",
       "      <td>645 Summer St</td>\n",
       "      <td>42.341781</td>\n",
       "      <td>-71.039870</td>\n",
       "      <td>Yes</td>\n",
       "      <td>19</td>\n",
       "      <td>0.027830</td>\n",
       "      <td>17032</td>\n",
       "      <td>4.231266</td>\n",
       "    </tr>\n",
       "    <tr>\n",
       "      <th>...</th>\n",
       "      <td>...</td>\n",
       "      <td>...</td>\n",
       "      <td>...</td>\n",
       "      <td>...</td>\n",
       "      <td>...</td>\n",
       "      <td>...</td>\n",
       "      <td>...</td>\n",
       "      <td>...</td>\n",
       "      <td>...</td>\n",
       "    </tr>\n",
       "    <tr>\n",
       "      <th>208</th>\n",
       "      <td>C32034</td>\n",
       "      <td>Watermark Seaport - Boston Wharf Rd at Seaport...</td>\n",
       "      <td>42.351586</td>\n",
       "      <td>-71.045693</td>\n",
       "      <td>Yes</td>\n",
       "      <td>15</td>\n",
       "      <td>0.026880</td>\n",
       "      <td>161461</td>\n",
       "      <td>5.208068</td>\n",
       "    </tr>\n",
       "    <tr>\n",
       "      <th>209</th>\n",
       "      <td>B32021</td>\n",
       "      <td>Wentworth Institute of Technology - Huntington...</td>\n",
       "      <td>42.337586</td>\n",
       "      <td>-71.096271</td>\n",
       "      <td>Yes</td>\n",
       "      <td>12</td>\n",
       "      <td>0.049047</td>\n",
       "      <td>89669</td>\n",
       "      <td>4.952642</td>\n",
       "    </tr>\n",
       "    <tr>\n",
       "      <th>210</th>\n",
       "      <td>D32022</td>\n",
       "      <td>West End Park</td>\n",
       "      <td>42.365908</td>\n",
       "      <td>-71.064467</td>\n",
       "      <td>Yes</td>\n",
       "      <td>35</td>\n",
       "      <td>0.015364</td>\n",
       "      <td>41526</td>\n",
       "      <td>4.618320</td>\n",
       "    </tr>\n",
       "    <tr>\n",
       "      <th>211</th>\n",
       "      <td>B32059</td>\n",
       "      <td>Whittier St Health Center</td>\n",
       "      <td>42.332863</td>\n",
       "      <td>-71.092189</td>\n",
       "      <td>Yes</td>\n",
       "      <td>19</td>\n",
       "      <td>0.017747</td>\n",
       "      <td>12284</td>\n",
       "      <td>4.089340</td>\n",
       "    </tr>\n",
       "    <tr>\n",
       "      <th>212</th>\n",
       "      <td>D32040</td>\n",
       "      <td>Williams St at Washington St</td>\n",
       "      <td>42.306539</td>\n",
       "      <td>-71.107669</td>\n",
       "      <td>Yes</td>\n",
       "      <td>23</td>\n",
       "      <td>0.057739</td>\n",
       "      <td>33253</td>\n",
       "      <td>4.521831</td>\n",
       "    </tr>\n",
       "  </tbody>\n",
       "</table>\n",
       "<p>213 rows × 9 columns</p>\n",
       "</div>"
      ],
      "text/plain": [
       "     Number                                               Name   Latitude  \\\n",
       "0    A32019                                   175 N Harvard St  42.364475   \n",
       "1    C32094                2 Hummingbird Lane at Olmsted Green  42.288870   \n",
       "2    C32106                               555 Metropolitan Ave  42.268100   \n",
       "3    C32105           606 American Legion Hwy at Canterbury St  42.285780   \n",
       "4    C32091                                      645 Summer St  42.341781   \n",
       "..      ...                                                ...        ...   \n",
       "208  C32034  Watermark Seaport - Boston Wharf Rd at Seaport...  42.351586   \n",
       "209  B32021  Wentworth Institute of Technology - Huntington...  42.337586   \n",
       "210  D32022                                      West End Park  42.365908   \n",
       "211  B32059                          Whittier St Health Center  42.332863   \n",
       "212  D32040                       Williams St at Washington St  42.306539   \n",
       "\n",
       "     Longitude Public  Total docks  roundtrip_ratio   trips  log_trips  \n",
       "0   -71.128408    Yes           17         0.041054  175088   5.243256  \n",
       "1   -71.095003    Yes           17         0.329957     691   2.839478  \n",
       "2   -71.119240    Yes           18         0.275449     334   2.523746  \n",
       "3   -71.109725    Yes           18         0.075178    1543   3.188366  \n",
       "4   -71.039870    Yes           19         0.027830   17032   4.231266  \n",
       "..         ...    ...          ...              ...     ...        ...  \n",
       "208 -71.045693    Yes           15         0.026880  161461   5.208068  \n",
       "209 -71.096271    Yes           12         0.049047   89669   4.952642  \n",
       "210 -71.064467    Yes           35         0.015364   41526   4.618320  \n",
       "211 -71.092189    Yes           19         0.017747   12284   4.089340  \n",
       "212 -71.107669    Yes           23         0.057739   33253   4.521831  \n",
       "\n",
       "[213 rows x 9 columns]"
      ]
     },
     "execution_count": 4,
     "metadata": {},
     "output_type": "execute_result"
    }
   ],
   "source": [
    "stations = pd.read_csv('data/bluebikes/stations_with_roundtrip_data.csv')\n",
    "stations"
   ]
  },
  {
   "cell_type": "markdown",
   "metadata": {},
   "source": [
    "# Weighted Roundtrip Ratio Bar Graph\n",
    "Do the thing like Four Seasons"
   ]
  },
  {
   "cell_type": "markdown",
   "metadata": {},
   "source": [
    "Correlation between weighted roundtrip ratios if you consider trips between two different stations close to an open space as roundtrips or not?"
   ]
  },
  {
   "cell_type": "code",
   "execution_count": 5,
   "metadata": {},
   "outputs": [
    {
     "data": {
      "text/html": [
       "<div>\n",
       "<style scoped>\n",
       "    .dataframe tbody tr th:only-of-type {\n",
       "        vertical-align: middle;\n",
       "    }\n",
       "\n",
       "    .dataframe tbody tr th {\n",
       "        vertical-align: top;\n",
       "    }\n",
       "\n",
       "    .dataframe thead th {\n",
       "        text-align: right;\n",
       "    }\n",
       "</style>\n",
       "<table border=\"1\" class=\"dataframe\">\n",
       "  <thead>\n",
       "    <tr style=\"text-align: right;\">\n",
       "      <th></th>\n",
       "      <th>Name</th>\n",
       "      <th>Weighted Roundtrip Ratio</th>\n",
       "    </tr>\n",
       "  </thead>\n",
       "  <tbody>\n",
       "    <tr>\n",
       "      <th>0</th>\n",
       "      <td>Wilson Park</td>\n",
       "      <td>0.000000</td>\n",
       "    </tr>\n",
       "    <tr>\n",
       "      <th>1</th>\n",
       "      <td>James H. Roberts Playground</td>\n",
       "      <td>0.051670</td>\n",
       "    </tr>\n",
       "    <tr>\n",
       "      <th>2</th>\n",
       "      <td>Smith Playground</td>\n",
       "      <td>0.041054</td>\n",
       "    </tr>\n",
       "    <tr>\n",
       "      <th>3</th>\n",
       "      <td>Fern Square</td>\n",
       "      <td>0.000000</td>\n",
       "    </tr>\n",
       "    <tr>\n",
       "      <th>4</th>\n",
       "      <td>Ringer Playground</td>\n",
       "      <td>0.031234</td>\n",
       "    </tr>\n",
       "    <tr>\n",
       "      <th>...</th>\n",
       "      <td>...</td>\n",
       "      <td>...</td>\n",
       "    </tr>\n",
       "    <tr>\n",
       "      <th>529</th>\n",
       "      <td>Mahoney Park</td>\n",
       "      <td>0.028803</td>\n",
       "    </tr>\n",
       "    <tr>\n",
       "      <th>530</th>\n",
       "      <td>Boundary I</td>\n",
       "      <td>0.000000</td>\n",
       "    </tr>\n",
       "    <tr>\n",
       "      <th>531</th>\n",
       "      <td>Sprague Pond</td>\n",
       "      <td>0.000000</td>\n",
       "    </tr>\n",
       "    <tr>\n",
       "      <th>532</th>\n",
       "      <td>Codman Square</td>\n",
       "      <td>0.126667</td>\n",
       "    </tr>\n",
       "    <tr>\n",
       "      <th>533</th>\n",
       "      <td>Murphy Playground I</td>\n",
       "      <td>0.076338</td>\n",
       "    </tr>\n",
       "  </tbody>\n",
       "</table>\n",
       "<p>534 rows × 2 columns</p>\n",
       "</div>"
      ],
      "text/plain": [
       "                            Name  Weighted Roundtrip Ratio\n",
       "0                    Wilson Park                  0.000000\n",
       "1    James H. Roberts Playground                  0.051670\n",
       "2               Smith Playground                  0.041054\n",
       "3                    Fern Square                  0.000000\n",
       "4              Ringer Playground                  0.031234\n",
       "..                           ...                       ...\n",
       "529                 Mahoney Park                  0.028803\n",
       "530                   Boundary I                  0.000000\n",
       "531                 Sprague Pond                  0.000000\n",
       "532                Codman Square                  0.126667\n",
       "533          Murphy Playground I                  0.076338\n",
       "\n",
       "[534 rows x 2 columns]"
      ]
     },
     "execution_count": 5,
     "metadata": {},
     "output_type": "execute_result"
    }
   ],
   "source": [
    "open_spaces['Weighted Roundtrip Ratio'] = open_spaces['Name'].apply(get_weighted_roundtrip_ratio)\n",
    "open_spaces[['Name', 'Weighted Roundtrip Ratio']]"
   ]
  },
  {
   "cell_type": "code",
   "execution_count": 6,
   "metadata": {},
   "outputs": [
    {
     "data": {
      "application/vnd.plotly.v1+json": {
       "config": {
        "plotlyServerURL": "https://plot.ly"
       },
       "data": [
        {
         "alignmentgroup": "True",
         "hovertemplate": "Name=%{x}<br>Weighted Roundtrip Ratio=%{y}<extra></extra>",
         "legendgroup": "",
         "marker": {
          "color": "#636efa",
          "pattern": {
           "shape": ""
          }
         },
         "name": "",
         "offsetgroup": "",
         "orientation": "v",
         "showlegend": false,
         "textposition": "auto",
         "type": "bar",
         "x": [
          "Wilson Park",
          "Franklin Park Zoo",
          "West Austin Rock",
          "Truman Parkway",
          "Condor Street Overlook",
          "Parley Vale Preserve",
          "Rivermoor III",
          "Rivermoor II",
          "Leo M. Birmingham Parkway",
          "Stanley-Bellevue Park",
          "Patten's Cove",
          "Morton Street",
          "American Legion Highway",
          "Chestnut Street",
          "Perkins Street",
          "Allandale Field",
          "Belle Isle Marsh Reservation",
          "Oakview Terrace",
          "Daniel E. O'Connor Park",
          "St Michael's Cemetery",
          "Allandale Woods ROW",
          "Theresa Hynes Park",
          "Ernst Chery Jr. Playground",
          "Allandale Woods V",
          "Allandale Woods IV",
          "Arborway II",
          "East Boston Memorial Park II",
          "Woodworth Square",
          "Roslindale Wetlands Urban Wild I",
          "Schraffts Centre Harborwalk",
          "Jones Square",
          "Golden Stairs Terrace Park II",
          "Algonquin Square",
          "Beethoven School Play Area",
          "Mattahunt Woods I",
          "Mattahunt Woods II",
          "Allandale Woods II",
          "Brian Honan Park",
          "Franklin Park II",
          "McGann Park",
          "North Point Park",
          "Millennium Park II",
          "Savin Hill Cove",
          "Back Bay Fens",
          "Kennedy Library Harborwalk",
          "Little Mystic Access Area",
          "Stonehill Park",
          "M Street Beach",
          "L Street Beach",
          "East Boston Piers Park",
          "Chestnut Hill Reservoir",
          "West Roxbury H.S. Athletic Fields",
          "Bellevue Hill Reservation",
          "Allandale Woods III",
          "Strandway/Castle Island",
          "Allandale Woods I",
          "Piemonte Park",
          "Draper Playground",
          "Congregation Mishkan Tefia Cemetery",
          "Sawmill Brook/Brook Farm",
          "Hancock Woods I",
          "Gethsemane Cemetery",
          "Mount Lebanon Cemetery",
          "Mount Benedict Cemetery",
          "St Joseph's Cemetery",
          "Malibu Beach",
          "Victory Road Park",
          "Parkman Memorial",
          "Ohrenberger Play Area",
          "Chestnut Hill Reservoir Garden",
          "Nellie Miranda Memorial Park",
          "The Rockies",
          "Golden Stairs Terrace Park I",
          "Millennium Park I",
          "Havey Beach",
          "Kennedy Garden",
          "Clark/Cooper Community Garden",
          "Stony Brook Reservation I",
          "Dooley Playground",
          "Neponset Valley Parkway",
          "Colella Playground",
          "Reservation Road Park",
          "Martini Playground",
          "Cedar Grove Cemetery",
          "Tenean Beach",
          "West Roxbury Parkway",
          "West Roxbury High School Marsh",
          "Moakley Park",
          "Riverway I",
          "Jamaica Pond Park",
          "Charlesgate II",
          "Calvary Cemetery",
          "Mt. Hope Cemetery",
          "Union Park Street Playground",
          "Forbes Street Playground",
          "Charles River Reservation",
          "Commercial Point",
          "Carson Beach",
          "West Link Park",
          "New Calvary Cemetery",
          "Neponset River Reservation I",
          "Port Norfolk Park",
          "Pope John Paul II Park I",
          "Arnold Arboretum",
          "Charlesgate I",
          "Franklin Park",
          "Fort Point Channel Harborwalk",
          "Stony Brook Reservation II",
          "Puopolo Playground",
          "Pope John Paul II Park II",
          "Savin Hill Park",
          "Boston Nature Center_Visitor Ctr",
          "Boston Nature Center",
          "Sprague Pond",
          "Boundary I",
          "Nonquit Street Green",
          "Paula Titus Park",
          "Dearborn Street Square",
          "Wood Island Bay Edge Park",
          "Mount Hope Park",
          "Rink Grounds 2",
          "Stony Brook Reservation CR",
          "Blake Estates Urban Wild II",
          "Theresa Hynes Park Access Easement",
          "Mirabella Pool",
          "Bellevue Street Green",
          "Columbia Road/Day Boulevard",
          "Grove Street Cemetery",
          "O'Donnell Square",
          "Carroll Pond Playground",
          "VFW Parkway II",
          "VFW Parkway I",
          "Massport Harborwalk",
          "Spectacle Island II",
          "Spectacle Island I",
          "Healy Playground",
          "Hynes Playground",
          "Laviscount Park",
          "Lincoln Square 2",
          "Dunbarton Woods",
          "Elmhurst Street Park",
          "Meany Park",
          "Adams/King Playground",
          "Ryan Play Area",
          "Brighton Common",
          "Nancy Kafka Reserve",
          "Tunnel Harborwalk",
          "Centre Street IV",
          "Centre Street I",
          "Centre Street II",
          "Riverway II",
          "Fire Alarm House Grounds",
          "Park Drive I",
          "Boylston Street II",
          "Agassiz Road",
          "Blake Estates Urban Wild I",
          "Commonwealth Plaza",
          "Railroad Avenue",
          "Joyce Playground",
          "Hannon Playground",
          "Denton Square",
          "Winthrop Playground",
          "Children's Park",
          "Beauford Play Area",
          "Parker Hilltop",
          "McLaughlin Playground",
          "DeForest Urban Wild",
          "George Wright Golf Course",
          "Stony Brook Reservation III",
          "Willow Pond Meadow",
          "Richardson Park",
          "Bonito Square",
          "Tremlett Square",
          "Emmel Square",
          "Mt. Pleasant Play Area",
          "Tebroc Street Playlot",
          "The Fenway I",
          "St Augustine Burying Ground",
          "Fairview Cemetery",
          "Titus Sparrow Park",
          "Wilson Square",
          "Monterey Hilltop I",
          "Elm Hill Park",
          "West Street",
          "Doyle Playground",
          "Quincy Street Play Area",
          "Howes Playground",
          "Sherrin Woods I",
          "Little Scobie Playground",
          "Weider Park",
          "Connell Fields/Hickey Courts",
          "Bynoe Park",
          "Cedar Square",
          "Buena Vista",
          "Dennis Street Park",
          "Georges Island",
          "Medal of Honor Park",
          "Christopher Lee Playground",
          "Lovells Island",
          "Hawes Burying Ground",
          "Union Burying Ground",
          "Dorchester Heights NHS",
          "Willowwood Rock",
          "Condor Street Beach I",
          "Thompson Island",
          "Putnam Square",
          "Dell Rock I",
          "Marcella Playground",
          "Walker Playground",
          "Gladeside I",
          "Kennedy Playground",
          "Forest Hills Cemetery",
          "Walter Street Cemetery",
          "Pagel Playground",
          "Thetford/Evans Playground",
          "Poplar Street Play Area",
          "Delano Park",
          "Lawrence Farm",
          "Highland Park",
          "Mother Brook Reservation",
          "Williams Square",
          "Rockledge Street Urban Wild",
          "St James Street Park",
          "Stony Brook Recreation Complex",
          "Jeremiah Hurley Memorial Park",
          "Camp Meigs",
          "Trotter School Playground",
          "Iacono/Readville Playground",
          "Moynihan Playground",
          "Amatucci Playground",
          "Dana Avenue Urban Wild I",
          "Ronan Park",
          "Gallops Island",
          "Ripley Playground",
          "Mother's Rest at Four Corners",
          "Byrne Playground",
          "Garvey Playground",
          "Paul Revere Mall",
          "Charter Street Park",
          "Foster Street Play Area",
          "Copp's Hill Terrace",
          "Copp's Hill Burying Ground",
          "Old Harbor Park",
          "Ventura Playground",
          "Savin Hill Beach",
          "10 Josephine Street Garden",
          "Deer Street Park",
          "Downer Avenue Playground",
          "Dorchester North Burying Ground",
          "Geneva Cliffs I",
          "Mullen Square",
          "Chandler Pond",
          "Evergreen Cemetery",
          "Boyden Park",
          "Jackson Square",
          "Hobart Park",
          "McKinney Playground",
          "Fern Square",
          "Quincy/Stanley Play Area",
          "Martin/Hilltop Playground",
          "Msgr. Francis A. Ryan Park",
          "Gallivan/Hallet Circle",
          "Wellesley Park",
          "Bennington Street Cemetery",
          "East Boston Memorial Park I",
          "Hayes Square",
          "St Francis De Sales Cemetery",
          "Toohig Playground",
          "Doherty Playground",
          "Prescott Square",
          "Barry Playground",
          "Ryan Playground",
          "McMorrow Playground",
          "American Legion Playground",
          "Dorchester Park",
          "Prince Street Park",
          "Walsh Playground",
          "Dorchester South Burying Ground",
          "Langone Park",
          "Hemenway Playground",
          "Riverway IV",
          "Riverway III",
          "Riverway V",
          "Joslin Park",
          "Nashua Street Park",
          "Federal Reserve Bank Harborwalk",
          "Russia Wharf Harborwalk",
          "Tai Tung Park",
          "Hanlon Square",
          "Chinatown Park",
          "Lincoln Street Green",
          "Norman Leventhal Park",
          "Dewey Square Parks",
          "Mission Hill Playground",
          "Roxbury Heritage State Park I",
          "Bradford Street Play Area",
          "Peters Park II",
          "Temple Street Park",
          "Independence Wharf Harborwalk",
          "Tufts Wharf Harborwalk",
          "Lambert Avenue Playground",
          "Kittredge Park",
          "Phillips Street Play Area",
          "Myrtle Street Playground",
          "Frieda Garcia Park",
          "Martin's Park",
          "Children's Wharf Harborwalk",
          "St Helena's Park",
          "Waltham Square",
          "Puerto Rican Veterans Memorial Park",
          "Msgr. Reynolds Playground",
          "South Bank Park",
          "Union Park",
          "Portal Park",
          "DeFilippo Playground",
          "Bunker Hill Monument",
          "Peter Looney Park",
          "Rink Grounds 1",
          "Phipps Street Burying Ground",
          "Jeep Jones Park",
          "King Street Play Area",
          "Peters Park I",
          "Ringgold Park",
          "Watson Park",
          "Linwood Park",
          "Gibbons Playground",
          "Rotch Playground",
          "Childe Hassam Park",
          "Blackstone Square",
          "South End South Burying Ground",
          "Worcester Square",
          "Caldwell Street Play Area",
          "Franklin Square",
          "General Edward O. Gourdin African-American Veterans Memorial Park",
          "408 Atlantic Avenue Harborwalk",
          "Edgerly Road Playground",
          "O'Day Playground",
          "Newland Street Park",
          "400R Atlantic Avenue Harborwalk",
          "Park Drive II",
          "The Fenway II",
          "Copley Square Park",
          "Reserved Channel Harborwalk",
          "Concord Square",
          "Rutland Square",
          "BPL Courtyard",
          "Clifford Playground",
          "A Street Park",
          "Flaherty Park",
          "Mahoney Park",
          "City Hall Plaza",
          "King's Chapel Burying Ground",
          "Stony Brook Sewer Easement",
          "Carter Playground",
          "Cutillo Park",
          "Endicott Triangle",
          "Faneuil Square",
          "Hayes Park",
          "Angell Memorial Square",
          "Union Street Park I",
          "Commonwealth Avenue Outbound",
          "Ringer Playground",
          "Fan Pier Plaza",
          "Ramler Park",
          "Polcari Park",
          "Union Square Plaza",
          "Penniman Road Play Area",
          "Fidelis Way Park",
          "Amory Street Park",
          "Hiscock Park",
          "Harriet Tubman Square",
          "North End Park",
          "Eliot Burying Ground",
          "Orton Field",
          "Buckley Playground",
          "Sweeney Playground",
          "Boylston Street I",
          "Spaulding Rehabilitation Plaza",
          "Menino Park",
          "Ramsay Park",
          "Fan Pier Harborwalk",
          "Pier Four Harborwalk",
          "ICA Pier Walk",
          "Melnea A. Cass Recreational Complex",
          "Malcolm X Park I",
          "Mozart Street Playground",
          "Heath Square",
          "Wharf District Park",
          "Rowe's Wharf Harborwalk",
          "Chester Square",
          "Braddock Park",
          "Essex Square",
          "Clarendon Street Playlot",
          "Elliot Norton Park",
          "Bay Village Garden",
          "Leo F. McCarthy Playground",
          "Olmsted Park",
          "Jamaicaway",
          "Back of the Hill Urban Wild",
          "Nira Rock",
          "Jefferson Playground",
          "Central Burying Ground",
          "Commonwealth Avenue Mall II",
          "Bay Village Neighborhood Park",
          "Mahoney Square",
          "Paul Gore Street Park",
          "Cunningham Park",
          "Market Street Burying Ground",
          "Public Ground",
          "Smith Playground",
          "Aquarium Harborwalk II",
          "India Wharf Harborwalk",
          "Aquarium Harborwalk I",
          "Rachel Revere Square",
          "Symphony Community Park",
          "Granary Burying Ground",
          "John Harvard Mall",
          "Charlestown Naval Shipyard Park I",
          "Navy Yard Grounds",
          "Patrick J. Kelly Park",
          "Holborn Street Playlot",
          "Robert G. Lawson Park",
          "Walnut Park",
          "Lincoln Square 1",
          "Statler Park",
          "Madison Park H.S. Athletic Fields",
          "Paul Revere Park",
          "Winthrop Square",
          "City Square",
          "Mt. Bowdoin Green",
          "Armenian Heritage Park",
          "Commercial Wharf Harborwalk",
          "Long Wharf",
          "Raymond V. Mellone Park II",
          "Rena Park",
          "James H. Roberts Playground",
          "Raymond V. Mellone Park I",
          "Christopher Columbus Park",
          "Joe's American Harborwalk",
          "Portsmouth Street Playground",
          "Charlestown Sprouts Garden",
          "Bunker Hill Burying Ground",
          "Charlestown H.S. Athletic Fields",
          "Cook Street Play Area",
          "Dudley Town Common",
          "Boston Common",
          "English H.S. Athletic Fields",
          "Rossmore/Stedman Park",
          "Southwest Corridor Park",
          "Flaherty Playground",
          "Johnson Park II",
          "Johnson Park I",
          "Beecher Street Play Area",
          "First Church Cemetery",
          "Soldier's Monument",
          "Brewer-Burroughs Tot Lot",
          "Commonwealth Avenue Mall I",
          "Horatio Harris Park",
          "Wolf Square",
          "Crawford Street Playground",
          "Fernald Rock",
          "Coppens Square",
          "Allen Park",
          "Murphy Playground I",
          "South Street Mall & Courts",
          "Public Garden",
          "Veterans Park II",
          "Shubow Park I",
          "Shubow Park II",
          "Oak Square I",
          "Hardiman Playground",
          "Central Square",
          "Sharon's Park",
          "Columbia Road Park",
          "Fenelon Street Playground",
          "Bremen Street Park II",
          "Parkman Playground",
          "Bussey Brook Meadow I",
          "Toll Gate Cemetery",
          "Ceylon Park",
          "Grove Hall Plaza",
          "Bussey Brook Meadow II",
          "Arborway Overpass Path",
          "Arborway I",
          "Florida Street Reservation",
          "Duffie Square",
          "Rogers Park",
          "Adams Park",
          "Roberts Playground",
          "Rev. Loesch Family Park",
          "St Mary's Cemetery",
          "Peabody Square",
          "McConnell Park",
          "Codman Burying Ground",
          "Codman Square",
          "Doherty/Gibson Playground",
          "Cassidy Playground",
          "Reilly Playground",
          "East Boston Greenway",
          "Father Jack Play Area",
          "East Boston Memorial Park III",
          "Bremen Street Park I",
          "Zero Quinn Way",
          "Westerly Burying Ground",
          "Billings Field",
          "Fallon Field",
          "Webster Square",
          "Columbia Park",
          "White Stadium",
          "Porzio Park",
          "Navy Fuel Pier Airport Edge Buffer",
          "LoPresti Park",
          "Brophy Park",
          "Sumner & Lamson Street Playground",
          "UMass Harborwalk",
          "Constitution Beach",
          "Noyes Playground",
          "Paris Street Playground",
          "Woodhaven",
          "Cuneo Park",
          "McLean Playground",
          "Temple Ohabei Shalom Cemetery",
          "East Boston Greenway Extension",
          "Harambee Park",
          "Blue Hill Club Recreation Center",
          "Puddingstone Park",
          "Erie/Ellington Playground",
          "Marine Park",
          "Babson Cookson Tract",
          "Hunt Playground",
          "Hunt Playground II",
          "Henry Square",
          "Foley Square",
          "Ross Playground"
         ],
         "xaxis": "x",
         "y": [
          0,
          0,
          0,
          0,
          0,
          0,
          0,
          0,
          0,
          0,
          0,
          0,
          0,
          0,
          0,
          0,
          0,
          0,
          0,
          0,
          0,
          0,
          0,
          0,
          0,
          0,
          0,
          0,
          0,
          0,
          0,
          0,
          0,
          0,
          0,
          0,
          0,
          0,
          0,
          0,
          0,
          0,
          0,
          0,
          0,
          0,
          0,
          0,
          0,
          0,
          0,
          0,
          0,
          0,
          0,
          0,
          0,
          0,
          0,
          0,
          0,
          0,
          0,
          0,
          0,
          0,
          0,
          0,
          0,
          0,
          0,
          0,
          0,
          0,
          0,
          0,
          0,
          0,
          0,
          0,
          0,
          0,
          0,
          0,
          0,
          0,
          0,
          0,
          0,
          0,
          0,
          0,
          0,
          0,
          0,
          0,
          0,
          0,
          0,
          0,
          0,
          0,
          0,
          0,
          0,
          0,
          0,
          0,
          0,
          0,
          0,
          0,
          0,
          0,
          0,
          0,
          0,
          0,
          0,
          0,
          0,
          0,
          0,
          0,
          0,
          0,
          0,
          0,
          0,
          0,
          0,
          0,
          0,
          0,
          0,
          0,
          0,
          0,
          0,
          0,
          0,
          0,
          0,
          0,
          0,
          0,
          0,
          0,
          0,
          0,
          0,
          0,
          0,
          0,
          0,
          0,
          0,
          0,
          0,
          0,
          0,
          0,
          0,
          0,
          0,
          0,
          0,
          0,
          0,
          0,
          0,
          0,
          0,
          0,
          0,
          0,
          0,
          0,
          0,
          0,
          0,
          0,
          0,
          0,
          0,
          0,
          0,
          0,
          0,
          0,
          0,
          0,
          0,
          0,
          0,
          0,
          0,
          0,
          0,
          0,
          0,
          0,
          0,
          0,
          0,
          0,
          0,
          0,
          0,
          0,
          0,
          0,
          0,
          0,
          0,
          0,
          0,
          0,
          0,
          0,
          0,
          0,
          0,
          0,
          0,
          0,
          0,
          0,
          0,
          0,
          0,
          0,
          0,
          0,
          0,
          0,
          0,
          0,
          0,
          0,
          0,
          0,
          0,
          0,
          0,
          0,
          0,
          0,
          0,
          0,
          0,
          0,
          0,
          0,
          0,
          0,
          0,
          0,
          0,
          0,
          0,
          0,
          0,
          0,
          0,
          0,
          0,
          0,
          0,
          0,
          0,
          0,
          0,
          0,
          0,
          0,
          0,
          0,
          0,
          0,
          0.0120978828704976,
          0.0120978828704976,
          0.0120978828704976,
          0.012991259884654183,
          0.015363868419785098,
          0.0158956603370576,
          0.016736284990926685,
          0.01741754639781176,
          0.018195267606650183,
          0.018652409607304004,
          0.018652409607304004,
          0.0193322475570032,
          0.0193322475570032,
          0.0197220014179216,
          0.01972439279592148,
          0.0201639850818128,
          0.0201639850818128,
          0.020388831250845743,
          0.0204489308637013,
          0.0204489308637013,
          0.0204688218170675,
          0.0204688218170675,
          0.0205206459106748,
          0.0205206459106748,
          0.020828823347004668,
          0.021084952041706004,
          0.021084952041706004,
          0.021470820610279447,
          0.021470820610279447,
          0.021470820610279447,
          0.021470820610279447,
          0.021488069477605027,
          0.02169169495652006,
          0.0218901391843744,
          0.0218901391843744,
          0.0219465456379223,
          0.02196344026666094,
          0.02196344026666094,
          0.02196947323685966,
          0.02209960533018481,
          0.02209960533018481,
          0.022524313362577205,
          0.022524313362577205,
          0.022524313362577205,
          0.0227457154968812,
          0.0227457154968812,
          0.023390861623046,
          0.02340546319590331,
          0.0235063337433919,
          0.0235063337433919,
          0.0235063337433919,
          0.023795315530359504,
          0.02379657941485065,
          0.0238782565308813,
          0.02409131270348793,
          0.0253370864727393,
          0.025495967796464937,
          0.02573189100369705,
          0.026545121406452234,
          0.0269565742794748,
          0.0269565742794748,
          0.027013568236383532,
          0.0278299671207139,
          0.02822882837871591,
          0.02822882837871591,
          0.028376544661757496,
          0.0287784467802837,
          0.0288033423915448,
          0.0288033423915448,
          0.0288033423915448,
          0.028860736224513187,
          0.029175163261388398,
          0.0293518744770494,
          0.029551751769146803,
          0.029845107669059304,
          0.029845107669059304,
          0.030206898813036863,
          0.03061238080017042,
          0.0306594638670879,
          0.030873497861274322,
          0.0312344693604012,
          0.0312344693604012,
          0.031294929854007586,
          0.031932341491031926,
          0.0320058483603704,
          0.0323114292400681,
          0.0323114292400681,
          0.03252982959960354,
          0.0326207442596991,
          0.03281216186972512,
          0.03281216186972512,
          0.032990435674248066,
          0.0329964513250461,
          0.0330226791915179,
          0.0330226791915179,
          0.0330226791915179,
          0.0331055166248522,
          0.0333705810646078,
          0.0333705810646078,
          0.033847407496830975,
          0.03515017929247618,
          0.03515017929247618,
          0.03515017929247618,
          0.035521087653789,
          0.035521087653789,
          0.0356737963872723,
          0.0356737963872723,
          0.03577607778651599,
          0.03577607778651599,
          0.035885296174745736,
          0.036399414003242016,
          0.036575640666422375,
          0.036650379203708,
          0.03686190470644409,
          0.03686190470644409,
          0.0369510159778714,
          0.0385007310265384,
          0.0385007310265384,
          0.0385007310265384,
          0.0385007310265384,
          0.0385007310265384,
          0.039462813710550916,
          0.03989629375397125,
          0.04005199020300215,
          0.040348391835878,
          0.040348391835878,
          0.0407578052002448,
          0.0407578052002448,
          0.0407578052002448,
          0.0410536415973681,
          0.04235384317330241,
          0.04235384317330241,
          0.04235384317330241,
          0.04246010774731454,
          0.0427840572325801,
          0.043316201519639656,
          0.044315323174915065,
          0.0444325930440745,
          0.0444325930440745,
          0.0444325930440745,
          0.0469651031448784,
          0.0474144624462963,
          0.0474144624462963,
          0.047707533927172224,
          0.047707533927172224,
          0.0481768685035472,
          0.0502597145016644,
          0.0502597145016644,
          0.0502597145016644,
          0.0509554140127388,
          0.05114325948416942,
          0.0513097567386035,
          0.0513097567386035,
          0.0516696852220509,
          0.0516696852220509,
          0.0516696852220509,
          0.0516696852220509,
          0.05354929078585112,
          0.05354929078585112,
          0.053632398753894,
          0.0537648934158268,
          0.0537648934158268,
          0.0537648934158268,
          0.0537648934158268,
          0.05410806240873099,
          0.05528781360847859,
          0.0577391513547649,
          0.0577391513547649,
          0.0585376457618433,
          0.0585376457618433,
          0.0585376457618433,
          0.0585376457618433,
          0.0592069442932034,
          0.0669585115908864,
          0.0669585115908864,
          0.0669585115908864,
          0.0694493971972898,
          0.0711049146043917,
          0.0711049146043917,
          0.0711049146043917,
          0.0752602081665332,
          0.0752602081665332,
          0.0752602081665332,
          0.07633846269611338,
          0.07633846269611338,
          0.07769100702183875,
          0.07962725440410434,
          0.0807051255273821,
          0.0807051255273821,
          0.0876677316293929,
          0.0876677316293929,
          0.08818092856366204,
          0.0907518450184501,
          0.0907518450184501,
          0.09107768390686173,
          0.0931329207191276,
          0.0955041234370843,
          0.0955041234370843,
          0.0955041234370843,
          0.0960321136328547,
          0.0986259149865159,
          0.1051485759776445,
          0.1051485759776445,
          0.1054500540373629,
          0.1054706752094628,
          0.1059050064184852,
          0.1084904171008177,
          0.10911042213212492,
          0.1106107007746352,
          0.1143005585140927,
          0.1196581196581196,
          0.1217022915463123,
          0.122948312773983,
          0.1266666666666666,
          0.1266666666666666,
          0.1371787455582183,
          0.1447391982809342,
          0.1447391982809342,
          0.1606547748253891,
          0.1777930324352153,
          0.1836538461538461,
          0.1836538461538461,
          0.1983769161406672,
          0.1983769161406672,
          0.1983769161406672,
          0.2009910802775024,
          0.2166666666666666,
          0.2214878357474335,
          0.2301487721813945,
          0.2333584054155697,
          0.2333584054155697,
          0.2369595864661654,
          0.2473856209150327,
          0.2473856209150327,
          0.2550626243708299,
          0.2599708879184861,
          0.2599708879184861,
          0.2708803611738149,
          0.2758620689655172,
          0.292399022232569,
          0.292399022232569,
          0.292399022232569,
          0.292399022232569,
          0.2967101179391682,
          0.2967101179391682,
          0.3070751898950243,
          0.3070751898950243,
          0.3087432016327879,
          0.3268348623853211,
          0.3268348623853211,
          0.3268348623853211,
          0.4158212698050837,
          0.5511811023622047,
          0.5511811023622047
         ],
         "yaxis": "y"
        }
       ],
       "layout": {
        "barmode": "relative",
        "legend": {
         "tracegroupgap": 0
        },
        "margin": {
         "t": 60
        },
        "template": {
         "data": {
          "bar": [
           {
            "error_x": {
             "color": "#2a3f5f"
            },
            "error_y": {
             "color": "#2a3f5f"
            },
            "marker": {
             "line": {
              "color": "#E5ECF6",
              "width": 0.5
             },
             "pattern": {
              "fillmode": "overlay",
              "size": 10,
              "solidity": 0.2
             }
            },
            "type": "bar"
           }
          ],
          "barpolar": [
           {
            "marker": {
             "line": {
              "color": "#E5ECF6",
              "width": 0.5
             },
             "pattern": {
              "fillmode": "overlay",
              "size": 10,
              "solidity": 0.2
             }
            },
            "type": "barpolar"
           }
          ],
          "carpet": [
           {
            "aaxis": {
             "endlinecolor": "#2a3f5f",
             "gridcolor": "white",
             "linecolor": "white",
             "minorgridcolor": "white",
             "startlinecolor": "#2a3f5f"
            },
            "baxis": {
             "endlinecolor": "#2a3f5f",
             "gridcolor": "white",
             "linecolor": "white",
             "minorgridcolor": "white",
             "startlinecolor": "#2a3f5f"
            },
            "type": "carpet"
           }
          ],
          "choropleth": [
           {
            "colorbar": {
             "outlinewidth": 0,
             "ticks": ""
            },
            "type": "choropleth"
           }
          ],
          "contour": [
           {
            "colorbar": {
             "outlinewidth": 0,
             "ticks": ""
            },
            "colorscale": [
             [
              0,
              "#0d0887"
             ],
             [
              0.1111111111111111,
              "#46039f"
             ],
             [
              0.2222222222222222,
              "#7201a8"
             ],
             [
              0.3333333333333333,
              "#9c179e"
             ],
             [
              0.4444444444444444,
              "#bd3786"
             ],
             [
              0.5555555555555556,
              "#d8576b"
             ],
             [
              0.6666666666666666,
              "#ed7953"
             ],
             [
              0.7777777777777778,
              "#fb9f3a"
             ],
             [
              0.8888888888888888,
              "#fdca26"
             ],
             [
              1,
              "#f0f921"
             ]
            ],
            "type": "contour"
           }
          ],
          "contourcarpet": [
           {
            "colorbar": {
             "outlinewidth": 0,
             "ticks": ""
            },
            "type": "contourcarpet"
           }
          ],
          "heatmap": [
           {
            "colorbar": {
             "outlinewidth": 0,
             "ticks": ""
            },
            "colorscale": [
             [
              0,
              "#0d0887"
             ],
             [
              0.1111111111111111,
              "#46039f"
             ],
             [
              0.2222222222222222,
              "#7201a8"
             ],
             [
              0.3333333333333333,
              "#9c179e"
             ],
             [
              0.4444444444444444,
              "#bd3786"
             ],
             [
              0.5555555555555556,
              "#d8576b"
             ],
             [
              0.6666666666666666,
              "#ed7953"
             ],
             [
              0.7777777777777778,
              "#fb9f3a"
             ],
             [
              0.8888888888888888,
              "#fdca26"
             ],
             [
              1,
              "#f0f921"
             ]
            ],
            "type": "heatmap"
           }
          ],
          "heatmapgl": [
           {
            "colorbar": {
             "outlinewidth": 0,
             "ticks": ""
            },
            "colorscale": [
             [
              0,
              "#0d0887"
             ],
             [
              0.1111111111111111,
              "#46039f"
             ],
             [
              0.2222222222222222,
              "#7201a8"
             ],
             [
              0.3333333333333333,
              "#9c179e"
             ],
             [
              0.4444444444444444,
              "#bd3786"
             ],
             [
              0.5555555555555556,
              "#d8576b"
             ],
             [
              0.6666666666666666,
              "#ed7953"
             ],
             [
              0.7777777777777778,
              "#fb9f3a"
             ],
             [
              0.8888888888888888,
              "#fdca26"
             ],
             [
              1,
              "#f0f921"
             ]
            ],
            "type": "heatmapgl"
           }
          ],
          "histogram": [
           {
            "marker": {
             "pattern": {
              "fillmode": "overlay",
              "size": 10,
              "solidity": 0.2
             }
            },
            "type": "histogram"
           }
          ],
          "histogram2d": [
           {
            "colorbar": {
             "outlinewidth": 0,
             "ticks": ""
            },
            "colorscale": [
             [
              0,
              "#0d0887"
             ],
             [
              0.1111111111111111,
              "#46039f"
             ],
             [
              0.2222222222222222,
              "#7201a8"
             ],
             [
              0.3333333333333333,
              "#9c179e"
             ],
             [
              0.4444444444444444,
              "#bd3786"
             ],
             [
              0.5555555555555556,
              "#d8576b"
             ],
             [
              0.6666666666666666,
              "#ed7953"
             ],
             [
              0.7777777777777778,
              "#fb9f3a"
             ],
             [
              0.8888888888888888,
              "#fdca26"
             ],
             [
              1,
              "#f0f921"
             ]
            ],
            "type": "histogram2d"
           }
          ],
          "histogram2dcontour": [
           {
            "colorbar": {
             "outlinewidth": 0,
             "ticks": ""
            },
            "colorscale": [
             [
              0,
              "#0d0887"
             ],
             [
              0.1111111111111111,
              "#46039f"
             ],
             [
              0.2222222222222222,
              "#7201a8"
             ],
             [
              0.3333333333333333,
              "#9c179e"
             ],
             [
              0.4444444444444444,
              "#bd3786"
             ],
             [
              0.5555555555555556,
              "#d8576b"
             ],
             [
              0.6666666666666666,
              "#ed7953"
             ],
             [
              0.7777777777777778,
              "#fb9f3a"
             ],
             [
              0.8888888888888888,
              "#fdca26"
             ],
             [
              1,
              "#f0f921"
             ]
            ],
            "type": "histogram2dcontour"
           }
          ],
          "mesh3d": [
           {
            "colorbar": {
             "outlinewidth": 0,
             "ticks": ""
            },
            "type": "mesh3d"
           }
          ],
          "parcoords": [
           {
            "line": {
             "colorbar": {
              "outlinewidth": 0,
              "ticks": ""
             }
            },
            "type": "parcoords"
           }
          ],
          "pie": [
           {
            "automargin": true,
            "type": "pie"
           }
          ],
          "scatter": [
           {
            "fillpattern": {
             "fillmode": "overlay",
             "size": 10,
             "solidity": 0.2
            },
            "type": "scatter"
           }
          ],
          "scatter3d": [
           {
            "line": {
             "colorbar": {
              "outlinewidth": 0,
              "ticks": ""
             }
            },
            "marker": {
             "colorbar": {
              "outlinewidth": 0,
              "ticks": ""
             }
            },
            "type": "scatter3d"
           }
          ],
          "scattercarpet": [
           {
            "marker": {
             "colorbar": {
              "outlinewidth": 0,
              "ticks": ""
             }
            },
            "type": "scattercarpet"
           }
          ],
          "scattergeo": [
           {
            "marker": {
             "colorbar": {
              "outlinewidth": 0,
              "ticks": ""
             }
            },
            "type": "scattergeo"
           }
          ],
          "scattergl": [
           {
            "marker": {
             "colorbar": {
              "outlinewidth": 0,
              "ticks": ""
             }
            },
            "type": "scattergl"
           }
          ],
          "scattermapbox": [
           {
            "marker": {
             "colorbar": {
              "outlinewidth": 0,
              "ticks": ""
             }
            },
            "type": "scattermapbox"
           }
          ],
          "scatterpolar": [
           {
            "marker": {
             "colorbar": {
              "outlinewidth": 0,
              "ticks": ""
             }
            },
            "type": "scatterpolar"
           }
          ],
          "scatterpolargl": [
           {
            "marker": {
             "colorbar": {
              "outlinewidth": 0,
              "ticks": ""
             }
            },
            "type": "scatterpolargl"
           }
          ],
          "scatterternary": [
           {
            "marker": {
             "colorbar": {
              "outlinewidth": 0,
              "ticks": ""
             }
            },
            "type": "scatterternary"
           }
          ],
          "surface": [
           {
            "colorbar": {
             "outlinewidth": 0,
             "ticks": ""
            },
            "colorscale": [
             [
              0,
              "#0d0887"
             ],
             [
              0.1111111111111111,
              "#46039f"
             ],
             [
              0.2222222222222222,
              "#7201a8"
             ],
             [
              0.3333333333333333,
              "#9c179e"
             ],
             [
              0.4444444444444444,
              "#bd3786"
             ],
             [
              0.5555555555555556,
              "#d8576b"
             ],
             [
              0.6666666666666666,
              "#ed7953"
             ],
             [
              0.7777777777777778,
              "#fb9f3a"
             ],
             [
              0.8888888888888888,
              "#fdca26"
             ],
             [
              1,
              "#f0f921"
             ]
            ],
            "type": "surface"
           }
          ],
          "table": [
           {
            "cells": {
             "fill": {
              "color": "#EBF0F8"
             },
             "line": {
              "color": "white"
             }
            },
            "header": {
             "fill": {
              "color": "#C8D4E3"
             },
             "line": {
              "color": "white"
             }
            },
            "type": "table"
           }
          ]
         },
         "layout": {
          "annotationdefaults": {
           "arrowcolor": "#2a3f5f",
           "arrowhead": 0,
           "arrowwidth": 1
          },
          "autotypenumbers": "strict",
          "coloraxis": {
           "colorbar": {
            "outlinewidth": 0,
            "ticks": ""
           }
          },
          "colorscale": {
           "diverging": [
            [
             0,
             "#8e0152"
            ],
            [
             0.1,
             "#c51b7d"
            ],
            [
             0.2,
             "#de77ae"
            ],
            [
             0.3,
             "#f1b6da"
            ],
            [
             0.4,
             "#fde0ef"
            ],
            [
             0.5,
             "#f7f7f7"
            ],
            [
             0.6,
             "#e6f5d0"
            ],
            [
             0.7,
             "#b8e186"
            ],
            [
             0.8,
             "#7fbc41"
            ],
            [
             0.9,
             "#4d9221"
            ],
            [
             1,
             "#276419"
            ]
           ],
           "sequential": [
            [
             0,
             "#0d0887"
            ],
            [
             0.1111111111111111,
             "#46039f"
            ],
            [
             0.2222222222222222,
             "#7201a8"
            ],
            [
             0.3333333333333333,
             "#9c179e"
            ],
            [
             0.4444444444444444,
             "#bd3786"
            ],
            [
             0.5555555555555556,
             "#d8576b"
            ],
            [
             0.6666666666666666,
             "#ed7953"
            ],
            [
             0.7777777777777778,
             "#fb9f3a"
            ],
            [
             0.8888888888888888,
             "#fdca26"
            ],
            [
             1,
             "#f0f921"
            ]
           ],
           "sequentialminus": [
            [
             0,
             "#0d0887"
            ],
            [
             0.1111111111111111,
             "#46039f"
            ],
            [
             0.2222222222222222,
             "#7201a8"
            ],
            [
             0.3333333333333333,
             "#9c179e"
            ],
            [
             0.4444444444444444,
             "#bd3786"
            ],
            [
             0.5555555555555556,
             "#d8576b"
            ],
            [
             0.6666666666666666,
             "#ed7953"
            ],
            [
             0.7777777777777778,
             "#fb9f3a"
            ],
            [
             0.8888888888888888,
             "#fdca26"
            ],
            [
             1,
             "#f0f921"
            ]
           ]
          },
          "colorway": [
           "#636efa",
           "#EF553B",
           "#00cc96",
           "#ab63fa",
           "#FFA15A",
           "#19d3f3",
           "#FF6692",
           "#B6E880",
           "#FF97FF",
           "#FECB52"
          ],
          "font": {
           "color": "#2a3f5f"
          },
          "geo": {
           "bgcolor": "white",
           "lakecolor": "white",
           "landcolor": "#E5ECF6",
           "showlakes": true,
           "showland": true,
           "subunitcolor": "white"
          },
          "hoverlabel": {
           "align": "left"
          },
          "hovermode": "closest",
          "mapbox": {
           "style": "light"
          },
          "paper_bgcolor": "white",
          "plot_bgcolor": "#E5ECF6",
          "polar": {
           "angularaxis": {
            "gridcolor": "white",
            "linecolor": "white",
            "ticks": ""
           },
           "bgcolor": "#E5ECF6",
           "radialaxis": {
            "gridcolor": "white",
            "linecolor": "white",
            "ticks": ""
           }
          },
          "scene": {
           "xaxis": {
            "backgroundcolor": "#E5ECF6",
            "gridcolor": "white",
            "gridwidth": 2,
            "linecolor": "white",
            "showbackground": true,
            "ticks": "",
            "zerolinecolor": "white"
           },
           "yaxis": {
            "backgroundcolor": "#E5ECF6",
            "gridcolor": "white",
            "gridwidth": 2,
            "linecolor": "white",
            "showbackground": true,
            "ticks": "",
            "zerolinecolor": "white"
           },
           "zaxis": {
            "backgroundcolor": "#E5ECF6",
            "gridcolor": "white",
            "gridwidth": 2,
            "linecolor": "white",
            "showbackground": true,
            "ticks": "",
            "zerolinecolor": "white"
           }
          },
          "shapedefaults": {
           "line": {
            "color": "#2a3f5f"
           }
          },
          "ternary": {
           "aaxis": {
            "gridcolor": "white",
            "linecolor": "white",
            "ticks": ""
           },
           "baxis": {
            "gridcolor": "white",
            "linecolor": "white",
            "ticks": ""
           },
           "bgcolor": "#E5ECF6",
           "caxis": {
            "gridcolor": "white",
            "linecolor": "white",
            "ticks": ""
           }
          },
          "title": {
           "x": 0.05
          },
          "xaxis": {
           "automargin": true,
           "gridcolor": "white",
           "linecolor": "white",
           "ticks": "",
           "title": {
            "standoff": 15
           },
           "zerolinecolor": "white",
           "zerolinewidth": 2
          },
          "yaxis": {
           "automargin": true,
           "gridcolor": "white",
           "linecolor": "white",
           "ticks": "",
           "title": {
            "standoff": 15
           },
           "zerolinecolor": "white",
           "zerolinewidth": 2
          }
         }
        },
        "xaxis": {
         "anchor": "y",
         "domain": [
          0,
          1
         ],
         "showticklabels": false,
         "title": {
          "text": "Weighted Roundtrip Ratio (proportion of nearby rides that start and end at the same station)"
         }
        },
        "yaxis": {
         "anchor": "x",
         "domain": [
          0,
          1
         ],
         "title": {
          "text": "Ratio"
         }
        }
       }
      }
     },
     "metadata": {},
     "output_type": "display_data"
    }
   ],
   "source": [
    "fig = px.bar(open_spaces.sort_values(by='Weighted Roundtrip Ratio'), x='Name', y='Weighted Roundtrip Ratio')\n",
    "fig.update_layout(\n",
    "    xaxis_title='Weighted Roundtrip Ratio (proportion of nearby rides that start and end at the same station)',\n",
    "    yaxis_title='Ratio',\n",
    "    xaxis={\n",
    "    'showticklabels': False,\n",
    "})\n",
    "fig.show()"
   ]
  },
  {
   "cell_type": "markdown",
   "metadata": {},
   "source": [
    "# Hourly Activity Plots"
   ]
  },
  {
   "cell_type": "code",
   "execution_count": 7,
   "metadata": {},
   "outputs": [],
   "source": [
    "TOTAL_DAYS = (datetime.date(2024, 1, 31) - datetime.date(2015, 1, 1)).days + 1\n",
    "TOTAL_WEEKDAYS = TOTAL_DAYS * 5 / 7\n",
    "TOTAL_WEEKENDS = TOTAL_DAYS * 2 / 7\n",
    "HOURS_FORMATTED = [datetime.time(i).strftime('%-I %p') for i in range(24)]"
   ]
  },
  {
   "cell_type": "code",
   "execution_count": 8,
   "metadata": {},
   "outputs": [],
   "source": [
    "def generate_df_by_day_type(df_name, df, station_names):\n",
    "    day_corrector = TOTAL_WEEKDAYS if df_name == 'weekdays' else TOTAL_WEEKENDS\n",
    "    started = df.loc[df['start_station_name'].isin(station_names)]\n",
    "    ended = df.loc[df['end_station_name'].isin(station_names)]\n",
    "\n",
    "    departures = pd.DataFrame(columns=['Time', 'Trips', 'Day Type', 'Trip Type'])\n",
    "    departures['Time'] = np.linspace(7.5, 352.5, 24)\n",
    "    departures['Day Type'] = df_name.title()\n",
    "    arrivals = departures.copy()\n",
    "\n",
    "    b1 = np.histogram([t.hour for t in started['started_at'].dt.time], bins=range(25))[0] / day_corrector\n",
    "    b2 = np.histogram([t.hour for t in ended['ended_at'].dt.time], bins=range(25))[0] / day_corrector\n",
    "    departures['Trips'] = b1\n",
    "    departures['Trip Type'] = 'Departures'\n",
    "    arrivals['Trips'] = b2\n",
    "    arrivals['Trip Type'] = 'Arrivals'\n",
    "    return [departures, arrivals]"
   ]
  },
  {
   "cell_type": "code",
   "execution_count": 25,
   "metadata": {},
   "outputs": [],
   "source": [
    "def plot_activity(open_space):\n",
    "    station_names = get_nearest_stations(open_space, verbose=True)\n",
    "    if len(station_names) == 0:\n",
    "        return\n",
    "    selected_stations = combined_trips.loc[(combined_trips['start_station_name'].isin(station_names)) | (combined_trips['end_station_name'].isin(station_names))]\n",
    "    weekday = selected_stations.loc[selected_stations['ended_at'].dt.day_of_week < 5]\n",
    "    weekend = selected_stations.loc[selected_stations['ended_at'].dt.day_of_week >= 5]\n",
    "    \n",
    "    temp_data = []\n",
    "    for w in ['weekday', 'weekend']:\n",
    "        temp_data.extend(generate_df_by_day_type(w, eval(w), station_names))\n",
    "    \n",
    "    fig = px.line_polar(pd.concat(temp_data), 'Trips', 'Time', 'Day Type', 'Trip Type', hover_data={\n",
    "        'Trips': ':.2f',\n",
    "        'Time': False\n",
    "    }, line_close=True, start_angle=270, width=800, height=600)\n",
    "    fig.update_layout(\n",
    "        title=f'Hourly Bluebike Trips Near {open_space}',\n",
    "        polar={\n",
    "            'angularaxis': {\n",
    "                'tickmode': 'array',\n",
    "                'tickvals': np.linspace(0, 345, 24),\n",
    "                'ticktext': HOURS_FORMATTED\n",
    "            }\n",
    "        },\n",
    "        legend_title_text='',\n",
    "        margin={\"r\":0,\"t\":50,\"l\":0,\"b\":25}\n",
    "    )\n",
    "    fig.show()"
   ]
  },
  {
   "cell_type": "code",
   "execution_count": 26,
   "metadata": {},
   "outputs": [
    {
     "name": "stdout",
     "output_type": "stream",
     "text": [
      "1 nearest station to Smith Playground: 175 N Harvard St\n"
     ]
    },
    {
     "name": "stderr",
     "output_type": "stream",
     "text": [
      "/Users/henrywu/opt/anaconda3/lib/python3.9/site-packages/plotly/express/_core.py:271: FutureWarning:\n",
      "\n",
      "The frame.append method is deprecated and will be removed from pandas in a future version. Use pandas.concat instead.\n",
      "\n",
      "/Users/henrywu/opt/anaconda3/lib/python3.9/site-packages/plotly/express/_core.py:271: FutureWarning:\n",
      "\n",
      "The frame.append method is deprecated and will be removed from pandas in a future version. Use pandas.concat instead.\n",
      "\n",
      "/Users/henrywu/opt/anaconda3/lib/python3.9/site-packages/plotly/express/_core.py:271: FutureWarning:\n",
      "\n",
      "The frame.append method is deprecated and will be removed from pandas in a future version. Use pandas.concat instead.\n",
      "\n",
      "/Users/henrywu/opt/anaconda3/lib/python3.9/site-packages/plotly/express/_core.py:271: FutureWarning:\n",
      "\n",
      "The frame.append method is deprecated and will be removed from pandas in a future version. Use pandas.concat instead.\n",
      "\n"
     ]
    },
    {
     "data": {
      "application/vnd.plotly.v1+json": {
       "config": {
        "plotlyServerURL": "https://plot.ly"
       },
       "data": [
        {
         "customdata": [
          [
           1.4314345991561181,
           7.5
          ],
          [
           0.7489451476793249,
           22.5
          ],
          [
           0.5453586497890295,
           37.5
          ],
          [
           0.27637130801687765,
           52.5
          ],
          [
           0.2320675105485232,
           67.5
          ],
          [
           0.2141350210970464,
           82.5
          ],
          [
           0.6118143459915611,
           97.5
          ],
          [
           2.217299578059072,
           112.5
          ],
          [
           4.693037974683544,
           127.5
          ],
          [
           2.7932489451476794,
           142.5
          ],
          [
           2.339662447257384,
           157.5
          ],
          [
           2.7668776371308015,
           172.5
          ],
          [
           2.9915611814345993,
           187.5
          ],
          [
           3.0970464135021096,
           202.5
          ],
          [
           3.0569620253164556,
           217.5
          ],
          [
           3.4567510548523206,
           232.5
          ],
          [
           4.14662447257384,
           247.5
          ],
          [
           5.434599156118144,
           262.5
          ],
          [
           5.14873417721519,
           277.5
          ],
          [
           4.6761603375527425,
           292.5
          ],
          [
           3.850210970464135,
           307.5
          ],
          [
           3.378691983122363,
           322.5
          ],
          [
           3.25,
           337.5
          ],
          [
           2.4367088607594938,
           352.5
          ],
          [
           1.4314345991561181,
           7.5
          ]
         ],
         "hovertemplate": "Day Type=Weekday<br>Trip Type=Departures<br>Trips=%{customdata[0]:.2f}<extra></extra>",
         "legendgroup": "Weekday, Departures",
         "line": {
          "color": "#636efa",
          "dash": "solid"
         },
         "marker": {
          "symbol": "circle"
         },
         "mode": "lines",
         "name": "Weekday, Departures",
         "r": [
          1.4314345991561181,
          0.7489451476793249,
          0.5453586497890295,
          0.27637130801687765,
          0.2320675105485232,
          0.2141350210970464,
          0.6118143459915611,
          2.217299578059072,
          4.693037974683544,
          2.7932489451476794,
          2.339662447257384,
          2.7668776371308015,
          2.9915611814345993,
          3.0970464135021096,
          3.0569620253164556,
          3.4567510548523206,
          4.14662447257384,
          5.434599156118144,
          5.14873417721519,
          4.6761603375527425,
          3.850210970464135,
          3.378691983122363,
          3.25,
          2.4367088607594938,
          1.4314345991561181
         ],
         "showlegend": true,
         "subplot": "polar",
         "theta": [
          7.5,
          22.5,
          37.5,
          52.5,
          67.5,
          82.5,
          97.5,
          112.5,
          127.5,
          142.5,
          157.5,
          172.5,
          187.5,
          202.5,
          217.5,
          232.5,
          247.5,
          262.5,
          277.5,
          292.5,
          307.5,
          322.5,
          337.5,
          352.5,
          7.5
         ],
         "type": "scatterpolar"
        },
        {
         "customdata": [
          [
           1.6012658227848102,
           7.5
          ],
          [
           0.9968354430379747,
           22.5
          ],
          [
           0.680379746835443,
           37.5
          ],
          [
           0.5274261603375527,
           52.5
          ],
          [
           0.34282700421940926,
           67.5
          ],
          [
           0.46835443037974683,
           82.5
          ],
          [
           0.9651898734177216,
           97.5
          ],
          [
           1.3027426160337552,
           112.5
          ],
          [
           2.178270042194093,
           127.5
          ],
          [
           2.521097046413502,
           142.5
          ],
          [
           2.20042194092827,
           157.5
          ],
          [
           2.19831223628692,
           172.5
          ],
          [
           2.8554852320675104,
           187.5
          ],
          [
           3.228902953586498,
           202.5
          ],
          [
           3.3164556962025316,
           217.5
          ],
          [
           3.7130801687763713,
           232.5
          ],
          [
           4.462025316455696,
           247.5
          ],
          [
           6.511603375527426,
           262.5
          ],
          [
           6.627637130801688,
           277.5
          ],
          [
           5.09915611814346,
           292.5
          ],
          [
           4.3354430379746836,
           307.5
          ],
          [
           3.7489451476793247,
           322.5
          ],
          [
           3.4050632911392404,
           337.5
          ],
          [
           2.5474683544303796,
           352.5
          ],
          [
           1.6012658227848102,
           7.5
          ]
         ],
         "hovertemplate": "Day Type=Weekday<br>Trip Type=Arrivals<br>Trips=%{customdata[0]:.2f}<extra></extra>",
         "legendgroup": "Weekday, Arrivals",
         "line": {
          "color": "#636efa",
          "dash": "dot"
         },
         "marker": {
          "symbol": "circle"
         },
         "mode": "lines",
         "name": "Weekday, Arrivals",
         "r": [
          1.6012658227848102,
          0.9968354430379747,
          0.680379746835443,
          0.5274261603375527,
          0.34282700421940926,
          0.46835443037974683,
          0.9651898734177216,
          1.3027426160337552,
          2.178270042194093,
          2.521097046413502,
          2.20042194092827,
          2.19831223628692,
          2.8554852320675104,
          3.228902953586498,
          3.3164556962025316,
          3.7130801687763713,
          4.462025316455696,
          6.511603375527426,
          6.627637130801688,
          5.09915611814346,
          4.3354430379746836,
          3.7489451476793247,
          3.4050632911392404,
          2.5474683544303796,
          1.6012658227848102
         ],
         "showlegend": true,
         "subplot": "polar",
         "theta": [
          7.5,
          22.5,
          37.5,
          52.5,
          67.5,
          82.5,
          97.5,
          112.5,
          127.5,
          142.5,
          157.5,
          172.5,
          187.5,
          202.5,
          217.5,
          232.5,
          247.5,
          262.5,
          277.5,
          292.5,
          307.5,
          322.5,
          337.5,
          352.5,
          7.5
         ],
         "type": "scatterpolar"
        },
        {
         "customdata": [
          [
           0.7172995780590717,
           7.5
          ],
          [
           0.41561181434599154,
           22.5
          ],
          [
           0.36603375527426163,
           37.5
          ],
          [
           0.1909282700421941,
           52.5
          ],
          [
           0.10548523206751055,
           67.5
          ],
          [
           0.1308016877637131,
           82.5
          ],
          [
           0.12552742616033755,
           97.5
          ],
          [
           0.21624472573839662,
           112.5
          ],
          [
           0.4166666666666667,
           127.5
          ],
          [
           0.8175105485232067,
           142.5
          ],
          [
           1.1867088607594938,
           157.5
          ],
          [
           1.6139240506329113,
           172.5
          ],
          [
           1.8238396624472575,
           187.5
          ],
          [
           1.9345991561181435,
           202.5
          ],
          [
           2.1244725738396624,
           217.5
          ],
          [
           2.3607594936708862,
           232.5
          ],
          [
           2.3565400843881856,
           247.5
          ],
          [
           2.0970464135021096,
           262.5
          ],
          [
           2.1930379746835444,
           277.5
          ],
          [
           1.9398734177215189,
           292.5
          ],
          [
           1.5780590717299579,
           307.5
          ],
          [
           1.2668776371308017,
           322.5
          ],
          [
           1.0759493670886076,
           337.5
          ],
          [
           0.8354430379746836,
           352.5
          ],
          [
           0.7172995780590717,
           7.5
          ]
         ],
         "hovertemplate": "Day Type=Weekend<br>Trip Type=Departures<br>Trips=%{customdata[0]:.2f}<extra></extra>",
         "legendgroup": "Weekend, Departures",
         "line": {
          "color": "#EF553B",
          "dash": "solid"
         },
         "marker": {
          "symbol": "circle"
         },
         "mode": "lines",
         "name": "Weekend, Departures",
         "r": [
          0.7172995780590717,
          0.41561181434599154,
          0.36603375527426163,
          0.1909282700421941,
          0.10548523206751055,
          0.1308016877637131,
          0.12552742616033755,
          0.21624472573839662,
          0.4166666666666667,
          0.8175105485232067,
          1.1867088607594938,
          1.6139240506329113,
          1.8238396624472575,
          1.9345991561181435,
          2.1244725738396624,
          2.3607594936708862,
          2.3565400843881856,
          2.0970464135021096,
          2.1930379746835444,
          1.9398734177215189,
          1.5780590717299579,
          1.2668776371308017,
          1.0759493670886076,
          0.8354430379746836,
          0.7172995780590717
         ],
         "showlegend": true,
         "subplot": "polar",
         "theta": [
          7.5,
          22.5,
          37.5,
          52.5,
          67.5,
          82.5,
          97.5,
          112.5,
          127.5,
          142.5,
          157.5,
          172.5,
          187.5,
          202.5,
          217.5,
          232.5,
          247.5,
          262.5,
          277.5,
          292.5,
          307.5,
          322.5,
          337.5,
          352.5,
          7.5
         ],
         "type": "scatterpolar"
        },
        {
         "customdata": [
          [
           0.8966244725738397,
           7.5
          ],
          [
           0.5727848101265823,
           22.5
          ],
          [
           0.39556962025316456,
           37.5
          ],
          [
           0.2848101265822785,
           52.5
          ],
          [
           0.24261603375527427,
           67.5
          ],
          [
           0.25,
           82.5
          ],
          [
           0.2478902953586498,
           97.5
          ],
          [
           0.23734177215189872,
           112.5
          ],
          [
           0.5073839662447257,
           127.5
          ],
          [
           0.8227848101265823,
           142.5
          ],
          [
           1.0611814345991561,
           157.5
          ],
          [
           1.371308016877637,
           172.5
          ],
          [
           1.540084388185654,
           187.5
          ],
          [
           1.8375527426160339,
           202.5
          ],
          [
           2.009493670886076,
           217.5
          ],
          [
           2.2352320675105486,
           232.5
          ],
          [
           2.3987341772151898,
           247.5
          ],
          [
           2.3702531645569622,
           262.5
          ],
          [
           2.2510548523206753,
           277.5
          ],
          [
           1.8818565400843883,
           292.5
          ],
          [
           1.6561181434599157,
           307.5
          ],
          [
           1.369198312236287,
           322.5
          ],
          [
           1.120253164556962,
           337.5
          ],
          [
           0.8544303797468354,
           352.5
          ],
          [
           0.8966244725738397,
           7.5
          ]
         ],
         "hovertemplate": "Day Type=Weekend<br>Trip Type=Arrivals<br>Trips=%{customdata[0]:.2f}<extra></extra>",
         "legendgroup": "Weekend, Arrivals",
         "line": {
          "color": "#EF553B",
          "dash": "dot"
         },
         "marker": {
          "symbol": "circle"
         },
         "mode": "lines",
         "name": "Weekend, Arrivals",
         "r": [
          0.8966244725738397,
          0.5727848101265823,
          0.39556962025316456,
          0.2848101265822785,
          0.24261603375527427,
          0.25,
          0.2478902953586498,
          0.23734177215189872,
          0.5073839662447257,
          0.8227848101265823,
          1.0611814345991561,
          1.371308016877637,
          1.540084388185654,
          1.8375527426160339,
          2.009493670886076,
          2.2352320675105486,
          2.3987341772151898,
          2.3702531645569622,
          2.2510548523206753,
          1.8818565400843883,
          1.6561181434599157,
          1.369198312236287,
          1.120253164556962,
          0.8544303797468354,
          0.8966244725738397
         ],
         "showlegend": true,
         "subplot": "polar",
         "theta": [
          7.5,
          22.5,
          37.5,
          52.5,
          67.5,
          82.5,
          97.5,
          112.5,
          127.5,
          142.5,
          157.5,
          172.5,
          187.5,
          202.5,
          217.5,
          232.5,
          247.5,
          262.5,
          277.5,
          292.5,
          307.5,
          322.5,
          337.5,
          352.5,
          7.5
         ],
         "type": "scatterpolar"
        }
       ],
       "layout": {
        "height": 600,
        "legend": {
         "title": {
          "text": ""
         },
         "tracegroupgap": 0
        },
        "margin": {
         "b": 25,
         "l": 0,
         "r": 0,
         "t": 50
        },
        "polar": {
         "angularaxis": {
          "direction": "clockwise",
          "rotation": -90,
          "tickmode": "array",
          "ticktext": [
           "12 AM",
           "1 AM",
           "2 AM",
           "3 AM",
           "4 AM",
           "5 AM",
           "6 AM",
           "7 AM",
           "8 AM",
           "9 AM",
           "10 AM",
           "11 AM",
           "12 PM",
           "1 PM",
           "2 PM",
           "3 PM",
           "4 PM",
           "5 PM",
           "6 PM",
           "7 PM",
           "8 PM",
           "9 PM",
           "10 PM",
           "11 PM"
          ],
          "tickvals": [
           0,
           15,
           30,
           45,
           60,
           75,
           90,
           105,
           120,
           135,
           150,
           165,
           180,
           195,
           210,
           225,
           240,
           255,
           270,
           285,
           300,
           315,
           330,
           345
          ]
         },
         "domain": {
          "x": [
           0,
           1
          ],
          "y": [
           0,
           1
          ]
         }
        },
        "template": {
         "data": {
          "bar": [
           {
            "error_x": {
             "color": "#2a3f5f"
            },
            "error_y": {
             "color": "#2a3f5f"
            },
            "marker": {
             "line": {
              "color": "#E5ECF6",
              "width": 0.5
             },
             "pattern": {
              "fillmode": "overlay",
              "size": 10,
              "solidity": 0.2
             }
            },
            "type": "bar"
           }
          ],
          "barpolar": [
           {
            "marker": {
             "line": {
              "color": "#E5ECF6",
              "width": 0.5
             },
             "pattern": {
              "fillmode": "overlay",
              "size": 10,
              "solidity": 0.2
             }
            },
            "type": "barpolar"
           }
          ],
          "carpet": [
           {
            "aaxis": {
             "endlinecolor": "#2a3f5f",
             "gridcolor": "white",
             "linecolor": "white",
             "minorgridcolor": "white",
             "startlinecolor": "#2a3f5f"
            },
            "baxis": {
             "endlinecolor": "#2a3f5f",
             "gridcolor": "white",
             "linecolor": "white",
             "minorgridcolor": "white",
             "startlinecolor": "#2a3f5f"
            },
            "type": "carpet"
           }
          ],
          "choropleth": [
           {
            "colorbar": {
             "outlinewidth": 0,
             "ticks": ""
            },
            "type": "choropleth"
           }
          ],
          "contour": [
           {
            "colorbar": {
             "outlinewidth": 0,
             "ticks": ""
            },
            "colorscale": [
             [
              0,
              "#0d0887"
             ],
             [
              0.1111111111111111,
              "#46039f"
             ],
             [
              0.2222222222222222,
              "#7201a8"
             ],
             [
              0.3333333333333333,
              "#9c179e"
             ],
             [
              0.4444444444444444,
              "#bd3786"
             ],
             [
              0.5555555555555556,
              "#d8576b"
             ],
             [
              0.6666666666666666,
              "#ed7953"
             ],
             [
              0.7777777777777778,
              "#fb9f3a"
             ],
             [
              0.8888888888888888,
              "#fdca26"
             ],
             [
              1,
              "#f0f921"
             ]
            ],
            "type": "contour"
           }
          ],
          "contourcarpet": [
           {
            "colorbar": {
             "outlinewidth": 0,
             "ticks": ""
            },
            "type": "contourcarpet"
           }
          ],
          "heatmap": [
           {
            "colorbar": {
             "outlinewidth": 0,
             "ticks": ""
            },
            "colorscale": [
             [
              0,
              "#0d0887"
             ],
             [
              0.1111111111111111,
              "#46039f"
             ],
             [
              0.2222222222222222,
              "#7201a8"
             ],
             [
              0.3333333333333333,
              "#9c179e"
             ],
             [
              0.4444444444444444,
              "#bd3786"
             ],
             [
              0.5555555555555556,
              "#d8576b"
             ],
             [
              0.6666666666666666,
              "#ed7953"
             ],
             [
              0.7777777777777778,
              "#fb9f3a"
             ],
             [
              0.8888888888888888,
              "#fdca26"
             ],
             [
              1,
              "#f0f921"
             ]
            ],
            "type": "heatmap"
           }
          ],
          "heatmapgl": [
           {
            "colorbar": {
             "outlinewidth": 0,
             "ticks": ""
            },
            "colorscale": [
             [
              0,
              "#0d0887"
             ],
             [
              0.1111111111111111,
              "#46039f"
             ],
             [
              0.2222222222222222,
              "#7201a8"
             ],
             [
              0.3333333333333333,
              "#9c179e"
             ],
             [
              0.4444444444444444,
              "#bd3786"
             ],
             [
              0.5555555555555556,
              "#d8576b"
             ],
             [
              0.6666666666666666,
              "#ed7953"
             ],
             [
              0.7777777777777778,
              "#fb9f3a"
             ],
             [
              0.8888888888888888,
              "#fdca26"
             ],
             [
              1,
              "#f0f921"
             ]
            ],
            "type": "heatmapgl"
           }
          ],
          "histogram": [
           {
            "marker": {
             "pattern": {
              "fillmode": "overlay",
              "size": 10,
              "solidity": 0.2
             }
            },
            "type": "histogram"
           }
          ],
          "histogram2d": [
           {
            "colorbar": {
             "outlinewidth": 0,
             "ticks": ""
            },
            "colorscale": [
             [
              0,
              "#0d0887"
             ],
             [
              0.1111111111111111,
              "#46039f"
             ],
             [
              0.2222222222222222,
              "#7201a8"
             ],
             [
              0.3333333333333333,
              "#9c179e"
             ],
             [
              0.4444444444444444,
              "#bd3786"
             ],
             [
              0.5555555555555556,
              "#d8576b"
             ],
             [
              0.6666666666666666,
              "#ed7953"
             ],
             [
              0.7777777777777778,
              "#fb9f3a"
             ],
             [
              0.8888888888888888,
              "#fdca26"
             ],
             [
              1,
              "#f0f921"
             ]
            ],
            "type": "histogram2d"
           }
          ],
          "histogram2dcontour": [
           {
            "colorbar": {
             "outlinewidth": 0,
             "ticks": ""
            },
            "colorscale": [
             [
              0,
              "#0d0887"
             ],
             [
              0.1111111111111111,
              "#46039f"
             ],
             [
              0.2222222222222222,
              "#7201a8"
             ],
             [
              0.3333333333333333,
              "#9c179e"
             ],
             [
              0.4444444444444444,
              "#bd3786"
             ],
             [
              0.5555555555555556,
              "#d8576b"
             ],
             [
              0.6666666666666666,
              "#ed7953"
             ],
             [
              0.7777777777777778,
              "#fb9f3a"
             ],
             [
              0.8888888888888888,
              "#fdca26"
             ],
             [
              1,
              "#f0f921"
             ]
            ],
            "type": "histogram2dcontour"
           }
          ],
          "mesh3d": [
           {
            "colorbar": {
             "outlinewidth": 0,
             "ticks": ""
            },
            "type": "mesh3d"
           }
          ],
          "parcoords": [
           {
            "line": {
             "colorbar": {
              "outlinewidth": 0,
              "ticks": ""
             }
            },
            "type": "parcoords"
           }
          ],
          "pie": [
           {
            "automargin": true,
            "type": "pie"
           }
          ],
          "scatter": [
           {
            "fillpattern": {
             "fillmode": "overlay",
             "size": 10,
             "solidity": 0.2
            },
            "type": "scatter"
           }
          ],
          "scatter3d": [
           {
            "line": {
             "colorbar": {
              "outlinewidth": 0,
              "ticks": ""
             }
            },
            "marker": {
             "colorbar": {
              "outlinewidth": 0,
              "ticks": ""
             }
            },
            "type": "scatter3d"
           }
          ],
          "scattercarpet": [
           {
            "marker": {
             "colorbar": {
              "outlinewidth": 0,
              "ticks": ""
             }
            },
            "type": "scattercarpet"
           }
          ],
          "scattergeo": [
           {
            "marker": {
             "colorbar": {
              "outlinewidth": 0,
              "ticks": ""
             }
            },
            "type": "scattergeo"
           }
          ],
          "scattergl": [
           {
            "marker": {
             "colorbar": {
              "outlinewidth": 0,
              "ticks": ""
             }
            },
            "type": "scattergl"
           }
          ],
          "scattermapbox": [
           {
            "marker": {
             "colorbar": {
              "outlinewidth": 0,
              "ticks": ""
             }
            },
            "type": "scattermapbox"
           }
          ],
          "scatterpolar": [
           {
            "marker": {
             "colorbar": {
              "outlinewidth": 0,
              "ticks": ""
             }
            },
            "type": "scatterpolar"
           }
          ],
          "scatterpolargl": [
           {
            "marker": {
             "colorbar": {
              "outlinewidth": 0,
              "ticks": ""
             }
            },
            "type": "scatterpolargl"
           }
          ],
          "scatterternary": [
           {
            "marker": {
             "colorbar": {
              "outlinewidth": 0,
              "ticks": ""
             }
            },
            "type": "scatterternary"
           }
          ],
          "surface": [
           {
            "colorbar": {
             "outlinewidth": 0,
             "ticks": ""
            },
            "colorscale": [
             [
              0,
              "#0d0887"
             ],
             [
              0.1111111111111111,
              "#46039f"
             ],
             [
              0.2222222222222222,
              "#7201a8"
             ],
             [
              0.3333333333333333,
              "#9c179e"
             ],
             [
              0.4444444444444444,
              "#bd3786"
             ],
             [
              0.5555555555555556,
              "#d8576b"
             ],
             [
              0.6666666666666666,
              "#ed7953"
             ],
             [
              0.7777777777777778,
              "#fb9f3a"
             ],
             [
              0.8888888888888888,
              "#fdca26"
             ],
             [
              1,
              "#f0f921"
             ]
            ],
            "type": "surface"
           }
          ],
          "table": [
           {
            "cells": {
             "fill": {
              "color": "#EBF0F8"
             },
             "line": {
              "color": "white"
             }
            },
            "header": {
             "fill": {
              "color": "#C8D4E3"
             },
             "line": {
              "color": "white"
             }
            },
            "type": "table"
           }
          ]
         },
         "layout": {
          "annotationdefaults": {
           "arrowcolor": "#2a3f5f",
           "arrowhead": 0,
           "arrowwidth": 1
          },
          "autotypenumbers": "strict",
          "coloraxis": {
           "colorbar": {
            "outlinewidth": 0,
            "ticks": ""
           }
          },
          "colorscale": {
           "diverging": [
            [
             0,
             "#8e0152"
            ],
            [
             0.1,
             "#c51b7d"
            ],
            [
             0.2,
             "#de77ae"
            ],
            [
             0.3,
             "#f1b6da"
            ],
            [
             0.4,
             "#fde0ef"
            ],
            [
             0.5,
             "#f7f7f7"
            ],
            [
             0.6,
             "#e6f5d0"
            ],
            [
             0.7,
             "#b8e186"
            ],
            [
             0.8,
             "#7fbc41"
            ],
            [
             0.9,
             "#4d9221"
            ],
            [
             1,
             "#276419"
            ]
           ],
           "sequential": [
            [
             0,
             "#0d0887"
            ],
            [
             0.1111111111111111,
             "#46039f"
            ],
            [
             0.2222222222222222,
             "#7201a8"
            ],
            [
             0.3333333333333333,
             "#9c179e"
            ],
            [
             0.4444444444444444,
             "#bd3786"
            ],
            [
             0.5555555555555556,
             "#d8576b"
            ],
            [
             0.6666666666666666,
             "#ed7953"
            ],
            [
             0.7777777777777778,
             "#fb9f3a"
            ],
            [
             0.8888888888888888,
             "#fdca26"
            ],
            [
             1,
             "#f0f921"
            ]
           ],
           "sequentialminus": [
            [
             0,
             "#0d0887"
            ],
            [
             0.1111111111111111,
             "#46039f"
            ],
            [
             0.2222222222222222,
             "#7201a8"
            ],
            [
             0.3333333333333333,
             "#9c179e"
            ],
            [
             0.4444444444444444,
             "#bd3786"
            ],
            [
             0.5555555555555556,
             "#d8576b"
            ],
            [
             0.6666666666666666,
             "#ed7953"
            ],
            [
             0.7777777777777778,
             "#fb9f3a"
            ],
            [
             0.8888888888888888,
             "#fdca26"
            ],
            [
             1,
             "#f0f921"
            ]
           ]
          },
          "colorway": [
           "#636efa",
           "#EF553B",
           "#00cc96",
           "#ab63fa",
           "#FFA15A",
           "#19d3f3",
           "#FF6692",
           "#B6E880",
           "#FF97FF",
           "#FECB52"
          ],
          "font": {
           "color": "#2a3f5f"
          },
          "geo": {
           "bgcolor": "white",
           "lakecolor": "white",
           "landcolor": "#E5ECF6",
           "showlakes": true,
           "showland": true,
           "subunitcolor": "white"
          },
          "hoverlabel": {
           "align": "left"
          },
          "hovermode": "closest",
          "mapbox": {
           "style": "light"
          },
          "paper_bgcolor": "white",
          "plot_bgcolor": "#E5ECF6",
          "polar": {
           "angularaxis": {
            "gridcolor": "white",
            "linecolor": "white",
            "ticks": ""
           },
           "bgcolor": "#E5ECF6",
           "radialaxis": {
            "gridcolor": "white",
            "linecolor": "white",
            "ticks": ""
           }
          },
          "scene": {
           "xaxis": {
            "backgroundcolor": "#E5ECF6",
            "gridcolor": "white",
            "gridwidth": 2,
            "linecolor": "white",
            "showbackground": true,
            "ticks": "",
            "zerolinecolor": "white"
           },
           "yaxis": {
            "backgroundcolor": "#E5ECF6",
            "gridcolor": "white",
            "gridwidth": 2,
            "linecolor": "white",
            "showbackground": true,
            "ticks": "",
            "zerolinecolor": "white"
           },
           "zaxis": {
            "backgroundcolor": "#E5ECF6",
            "gridcolor": "white",
            "gridwidth": 2,
            "linecolor": "white",
            "showbackground": true,
            "ticks": "",
            "zerolinecolor": "white"
           }
          },
          "shapedefaults": {
           "line": {
            "color": "#2a3f5f"
           }
          },
          "ternary": {
           "aaxis": {
            "gridcolor": "white",
            "linecolor": "white",
            "ticks": ""
           },
           "baxis": {
            "gridcolor": "white",
            "linecolor": "white",
            "ticks": ""
           },
           "bgcolor": "#E5ECF6",
           "caxis": {
            "gridcolor": "white",
            "linecolor": "white",
            "ticks": ""
           }
          },
          "title": {
           "x": 0.05
          },
          "xaxis": {
           "automargin": true,
           "gridcolor": "white",
           "linecolor": "white",
           "ticks": "",
           "title": {
            "standoff": 15
           },
           "zerolinecolor": "white",
           "zerolinewidth": 2
          },
          "yaxis": {
           "automargin": true,
           "gridcolor": "white",
           "linecolor": "white",
           "ticks": "",
           "title": {
            "standoff": 15
           },
           "zerolinecolor": "white",
           "zerolinewidth": 2
          }
         }
        },
        "title": {
         "text": "Hourly Bluebike Trips Near Smith Playground"
        },
        "width": 800
       }
      }
     },
     "metadata": {},
     "output_type": "display_data"
    },
    {
     "name": "stdout",
     "output_type": "stream",
     "text": [
      "No stations within 0.3 km of McGann Park\n",
      "3 nearest stations to East Boston Greenway: Gove St at Orleans St, East Boston Neighborhood Health Center - 20 Maverick Square, Maverick Square - Lewis Mall\n"
     ]
    },
    {
     "name": "stderr",
     "output_type": "stream",
     "text": [
      "/Users/henrywu/opt/anaconda3/lib/python3.9/site-packages/plotly/express/_core.py:271: FutureWarning:\n",
      "\n",
      "The frame.append method is deprecated and will be removed from pandas in a future version. Use pandas.concat instead.\n",
      "\n",
      "/Users/henrywu/opt/anaconda3/lib/python3.9/site-packages/plotly/express/_core.py:271: FutureWarning:\n",
      "\n",
      "The frame.append method is deprecated and will be removed from pandas in a future version. Use pandas.concat instead.\n",
      "\n",
      "/Users/henrywu/opt/anaconda3/lib/python3.9/site-packages/plotly/express/_core.py:271: FutureWarning:\n",
      "\n",
      "The frame.append method is deprecated and will be removed from pandas in a future version. Use pandas.concat instead.\n",
      "\n",
      "/Users/henrywu/opt/anaconda3/lib/python3.9/site-packages/plotly/express/_core.py:271: FutureWarning:\n",
      "\n",
      "The frame.append method is deprecated and will be removed from pandas in a future version. Use pandas.concat instead.\n",
      "\n"
     ]
    },
    {
     "data": {
      "application/vnd.plotly.v1+json": {
       "config": {
        "plotlyServerURL": "https://plot.ly"
       },
       "data": [
        {
         "customdata": [
          [
           0.7679324894514767,
           7.5
          ],
          [
           0.4641350210970464,
           22.5
          ],
          [
           0.3618143459915612,
           37.5
          ],
          [
           0.33860759493670883,
           52.5
          ],
          [
           0.14767932489451477,
           67.5
          ],
          [
           0.1371308016877637,
           82.5
          ],
          [
           0.24472573839662448,
           97.5
          ],
          [
           0.3924050632911392,
           112.5
          ],
          [
           0.6339662447257384,
           127.5
          ],
          [
           0.4989451476793249,
           142.5
          ],
          [
           0.7225738396624473,
           157.5
          ],
          [
           1.011603375527426,
           172.5
          ],
          [
           1.3312236286919832,
           187.5
          ],
          [
           1.1645569620253164,
           202.5
          ],
          [
           1.3449367088607596,
           217.5
          ],
          [
           1.7035864978902953,
           232.5
          ],
          [
           2.6276371308016877,
           247.5
          ],
          [
           3.979957805907173,
           262.5
          ],
          [
           3.088607594936709,
           277.5
          ],
          [
           2.2721518987341773,
           292.5
          ],
          [
           1.770042194092827,
           307.5
          ],
          [
           1.8681434599156117,
           322.5
          ],
          [
           1.8829113924050633,
           337.5
          ],
          [
           1.238396624472574,
           352.5
          ],
          [
           0.7679324894514767,
           7.5
          ]
         ],
         "hovertemplate": "Day Type=Weekday<br>Trip Type=Departures<br>Trips=%{customdata[0]:.2f}<extra></extra>",
         "legendgroup": "Weekday, Departures",
         "line": {
          "color": "#636efa",
          "dash": "solid"
         },
         "marker": {
          "symbol": "circle"
         },
         "mode": "lines",
         "name": "Weekday, Departures",
         "r": [
          0.7679324894514767,
          0.4641350210970464,
          0.3618143459915612,
          0.33860759493670883,
          0.14767932489451477,
          0.1371308016877637,
          0.24472573839662448,
          0.3924050632911392,
          0.6339662447257384,
          0.4989451476793249,
          0.7225738396624473,
          1.011603375527426,
          1.3312236286919832,
          1.1645569620253164,
          1.3449367088607596,
          1.7035864978902953,
          2.6276371308016877,
          3.979957805907173,
          3.088607594936709,
          2.2721518987341773,
          1.770042194092827,
          1.8681434599156117,
          1.8829113924050633,
          1.238396624472574,
          0.7679324894514767
         ],
         "showlegend": true,
         "subplot": "polar",
         "theta": [
          7.5,
          22.5,
          37.5,
          52.5,
          67.5,
          82.5,
          97.5,
          112.5,
          127.5,
          142.5,
          157.5,
          172.5,
          187.5,
          202.5,
          217.5,
          232.5,
          247.5,
          262.5,
          277.5,
          292.5,
          307.5,
          322.5,
          337.5,
          352.5,
          7.5
         ],
         "type": "scatterpolar"
        },
        {
         "customdata": [
          [
           0.6867088607594937,
           7.5
          ],
          [
           0.40822784810126583,
           22.5
          ],
          [
           0.23523206751054854,
           37.5
          ],
          [
           0.169831223628692,
           52.5
          ],
          [
           0.0970464135021097,
           67.5
          ],
          [
           0.26582278481012656,
           82.5
          ],
          [
           0.709915611814346,
           97.5
          ],
          [
           1.7869198312236287,
           112.5
          ],
          [
           3.1392405063291138,
           127.5
          ],
          [
           1.4251054852320675,
           142.5
          ],
          [
           0.9578059071729957,
           157.5
          ],
          [
           0.9767932489451476,
           172.5
          ],
          [
           1.600210970464135,
           187.5
          ],
          [
           1.5569620253164558,
           202.5
          ],
          [
           1.4050632911392404,
           217.5
          ],
          [
           1.469409282700422,
           232.5
          ],
          [
           1.8059071729957805,
           247.5
          ],
          [
           2.0316455696202533,
           262.5
          ],
          [
           2.201476793248945,
           277.5
          ],
          [
           1.8966244725738397,
           292.5
          ],
          [
           1.5348101265822784,
           307.5
          ],
          [
           1.391350210970464,
           322.5
          ],
          [
           1.220464135021097,
           337.5
          ],
          [
           1.0147679324894514,
           352.5
          ],
          [
           0.6867088607594937,
           7.5
          ]
         ],
         "hovertemplate": "Day Type=Weekday<br>Trip Type=Arrivals<br>Trips=%{customdata[0]:.2f}<extra></extra>",
         "legendgroup": "Weekday, Arrivals",
         "line": {
          "color": "#636efa",
          "dash": "dot"
         },
         "marker": {
          "symbol": "circle"
         },
         "mode": "lines",
         "name": "Weekday, Arrivals",
         "r": [
          0.6867088607594937,
          0.40822784810126583,
          0.23523206751054854,
          0.169831223628692,
          0.0970464135021097,
          0.26582278481012656,
          0.709915611814346,
          1.7869198312236287,
          3.1392405063291138,
          1.4251054852320675,
          0.9578059071729957,
          0.9767932489451476,
          1.600210970464135,
          1.5569620253164558,
          1.4050632911392404,
          1.469409282700422,
          1.8059071729957805,
          2.0316455696202533,
          2.201476793248945,
          1.8966244725738397,
          1.5348101265822784,
          1.391350210970464,
          1.220464135021097,
          1.0147679324894514,
          0.6867088607594937
         ],
         "showlegend": true,
         "subplot": "polar",
         "theta": [
          7.5,
          22.5,
          37.5,
          52.5,
          67.5,
          82.5,
          97.5,
          112.5,
          127.5,
          142.5,
          157.5,
          172.5,
          187.5,
          202.5,
          217.5,
          232.5,
          247.5,
          262.5,
          277.5,
          292.5,
          307.5,
          322.5,
          337.5,
          352.5,
          7.5
         ],
         "type": "scatterpolar"
        },
        {
         "customdata": [
          [
           0.38396624472573837,
           7.5
          ],
          [
           0.2120253164556962,
           22.5
          ],
          [
           0.16666666666666666,
           37.5
          ],
          [
           0.19831223628691982,
           52.5
          ],
          [
           0.11708860759493671,
           67.5
          ],
          [
           0.0770042194092827,
           82.5
          ],
          [
           0.060126582278481014,
           97.5
          ],
          [
           0.07911392405063292,
           112.5
          ],
          [
           0.1571729957805907,
           127.5
          ],
          [
           0.21729957805907174,
           142.5
          ],
          [
           0.35443037974683544,
           157.5
          ],
          [
           0.5390295358649789,
           172.5
          ],
          [
           0.6508438818565401,
           187.5
          ],
          [
           0.7447257383966245,
           202.5
          ],
          [
           0.819620253164557,
           217.5
          ],
          [
           0.8966244725738397,
           232.5
          ],
          [
           0.9324894514767933,
           247.5
          ],
          [
           0.9345991561181435,
           262.5
          ],
          [
           0.7805907172995781,
           277.5
          ],
          [
           0.8270042194092827,
           292.5
          ],
          [
           0.7310126582278481,
           307.5
          ],
          [
           0.6107594936708861,
           322.5
          ],
          [
           0.5379746835443038,
           337.5
          ],
          [
           0.4282700421940928,
           352.5
          ],
          [
           0.38396624472573837,
           7.5
          ]
         ],
         "hovertemplate": "Day Type=Weekend<br>Trip Type=Departures<br>Trips=%{customdata[0]:.2f}<extra></extra>",
         "legendgroup": "Weekend, Departures",
         "line": {
          "color": "#EF553B",
          "dash": "solid"
         },
         "marker": {
          "symbol": "circle"
         },
         "mode": "lines",
         "name": "Weekend, Departures",
         "r": [
          0.38396624472573837,
          0.2120253164556962,
          0.16666666666666666,
          0.19831223628691982,
          0.11708860759493671,
          0.0770042194092827,
          0.060126582278481014,
          0.07911392405063292,
          0.1571729957805907,
          0.21729957805907174,
          0.35443037974683544,
          0.5390295358649789,
          0.6508438818565401,
          0.7447257383966245,
          0.819620253164557,
          0.8966244725738397,
          0.9324894514767933,
          0.9345991561181435,
          0.7805907172995781,
          0.8270042194092827,
          0.7310126582278481,
          0.6107594936708861,
          0.5379746835443038,
          0.4282700421940928,
          0.38396624472573837
         ],
         "showlegend": true,
         "subplot": "polar",
         "theta": [
          7.5,
          22.5,
          37.5,
          52.5,
          67.5,
          82.5,
          97.5,
          112.5,
          127.5,
          142.5,
          157.5,
          172.5,
          187.5,
          202.5,
          217.5,
          232.5,
          247.5,
          262.5,
          277.5,
          292.5,
          307.5,
          322.5,
          337.5,
          352.5,
          7.5
         ],
         "type": "scatterpolar"
        },
        {
         "customdata": [
          [
           0.3470464135021097,
           7.5
          ],
          [
           0.22046413502109705,
           22.5
          ],
          [
           0.14978902953586498,
           37.5
          ],
          [
           0.11708860759493671,
           52.5
          ],
          [
           0.0770042194092827,
           67.5
          ],
          [
           0.05907172995780591,
           82.5
          ],
          [
           0.08649789029535865,
           97.5
          ],
          [
           0.14029535864978904,
           112.5
          ],
          [
           0.24472573839662448,
           127.5
          ],
          [
           0.27531645569620256,
           142.5
          ],
          [
           0.4208860759493671,
           157.5
          ],
          [
           0.5875527426160337,
           172.5
          ],
          [
           0.6656118143459916,
           187.5
          ],
          [
           0.7616033755274262,
           202.5
          ],
          [
           0.95042194092827,
           217.5
          ],
          [
           0.9261603375527426,
           232.5
          ],
          [
           1.0274261603375527,
           247.5
          ],
          [
           0.9261603375527426,
           262.5
          ],
          [
           0.9409282700421941,
           277.5
          ],
          [
           0.830168776371308,
           292.5
          ],
          [
           0.7331223628691983,
           307.5
          ],
          [
           0.5907172995780591,
           322.5
          ],
          [
           0.4588607594936709,
           337.5
          ],
          [
           0.3829113924050633,
           352.5
          ],
          [
           0.3470464135021097,
           7.5
          ]
         ],
         "hovertemplate": "Day Type=Weekend<br>Trip Type=Arrivals<br>Trips=%{customdata[0]:.2f}<extra></extra>",
         "legendgroup": "Weekend, Arrivals",
         "line": {
          "color": "#EF553B",
          "dash": "dot"
         },
         "marker": {
          "symbol": "circle"
         },
         "mode": "lines",
         "name": "Weekend, Arrivals",
         "r": [
          0.3470464135021097,
          0.22046413502109705,
          0.14978902953586498,
          0.11708860759493671,
          0.0770042194092827,
          0.05907172995780591,
          0.08649789029535865,
          0.14029535864978904,
          0.24472573839662448,
          0.27531645569620256,
          0.4208860759493671,
          0.5875527426160337,
          0.6656118143459916,
          0.7616033755274262,
          0.95042194092827,
          0.9261603375527426,
          1.0274261603375527,
          0.9261603375527426,
          0.9409282700421941,
          0.830168776371308,
          0.7331223628691983,
          0.5907172995780591,
          0.4588607594936709,
          0.3829113924050633,
          0.3470464135021097
         ],
         "showlegend": true,
         "subplot": "polar",
         "theta": [
          7.5,
          22.5,
          37.5,
          52.5,
          67.5,
          82.5,
          97.5,
          112.5,
          127.5,
          142.5,
          157.5,
          172.5,
          187.5,
          202.5,
          217.5,
          232.5,
          247.5,
          262.5,
          277.5,
          292.5,
          307.5,
          322.5,
          337.5,
          352.5,
          7.5
         ],
         "type": "scatterpolar"
        }
       ],
       "layout": {
        "height": 600,
        "legend": {
         "title": {
          "text": ""
         },
         "tracegroupgap": 0
        },
        "margin": {
         "b": 25,
         "l": 0,
         "r": 0,
         "t": 50
        },
        "polar": {
         "angularaxis": {
          "direction": "clockwise",
          "rotation": -90,
          "tickmode": "array",
          "ticktext": [
           "12 AM",
           "1 AM",
           "2 AM",
           "3 AM",
           "4 AM",
           "5 AM",
           "6 AM",
           "7 AM",
           "8 AM",
           "9 AM",
           "10 AM",
           "11 AM",
           "12 PM",
           "1 PM",
           "2 PM",
           "3 PM",
           "4 PM",
           "5 PM",
           "6 PM",
           "7 PM",
           "8 PM",
           "9 PM",
           "10 PM",
           "11 PM"
          ],
          "tickvals": [
           0,
           15,
           30,
           45,
           60,
           75,
           90,
           105,
           120,
           135,
           150,
           165,
           180,
           195,
           210,
           225,
           240,
           255,
           270,
           285,
           300,
           315,
           330,
           345
          ]
         },
         "domain": {
          "x": [
           0,
           1
          ],
          "y": [
           0,
           1
          ]
         }
        },
        "template": {
         "data": {
          "bar": [
           {
            "error_x": {
             "color": "#2a3f5f"
            },
            "error_y": {
             "color": "#2a3f5f"
            },
            "marker": {
             "line": {
              "color": "#E5ECF6",
              "width": 0.5
             },
             "pattern": {
              "fillmode": "overlay",
              "size": 10,
              "solidity": 0.2
             }
            },
            "type": "bar"
           }
          ],
          "barpolar": [
           {
            "marker": {
             "line": {
              "color": "#E5ECF6",
              "width": 0.5
             },
             "pattern": {
              "fillmode": "overlay",
              "size": 10,
              "solidity": 0.2
             }
            },
            "type": "barpolar"
           }
          ],
          "carpet": [
           {
            "aaxis": {
             "endlinecolor": "#2a3f5f",
             "gridcolor": "white",
             "linecolor": "white",
             "minorgridcolor": "white",
             "startlinecolor": "#2a3f5f"
            },
            "baxis": {
             "endlinecolor": "#2a3f5f",
             "gridcolor": "white",
             "linecolor": "white",
             "minorgridcolor": "white",
             "startlinecolor": "#2a3f5f"
            },
            "type": "carpet"
           }
          ],
          "choropleth": [
           {
            "colorbar": {
             "outlinewidth": 0,
             "ticks": ""
            },
            "type": "choropleth"
           }
          ],
          "contour": [
           {
            "colorbar": {
             "outlinewidth": 0,
             "ticks": ""
            },
            "colorscale": [
             [
              0,
              "#0d0887"
             ],
             [
              0.1111111111111111,
              "#46039f"
             ],
             [
              0.2222222222222222,
              "#7201a8"
             ],
             [
              0.3333333333333333,
              "#9c179e"
             ],
             [
              0.4444444444444444,
              "#bd3786"
             ],
             [
              0.5555555555555556,
              "#d8576b"
             ],
             [
              0.6666666666666666,
              "#ed7953"
             ],
             [
              0.7777777777777778,
              "#fb9f3a"
             ],
             [
              0.8888888888888888,
              "#fdca26"
             ],
             [
              1,
              "#f0f921"
             ]
            ],
            "type": "contour"
           }
          ],
          "contourcarpet": [
           {
            "colorbar": {
             "outlinewidth": 0,
             "ticks": ""
            },
            "type": "contourcarpet"
           }
          ],
          "heatmap": [
           {
            "colorbar": {
             "outlinewidth": 0,
             "ticks": ""
            },
            "colorscale": [
             [
              0,
              "#0d0887"
             ],
             [
              0.1111111111111111,
              "#46039f"
             ],
             [
              0.2222222222222222,
              "#7201a8"
             ],
             [
              0.3333333333333333,
              "#9c179e"
             ],
             [
              0.4444444444444444,
              "#bd3786"
             ],
             [
              0.5555555555555556,
              "#d8576b"
             ],
             [
              0.6666666666666666,
              "#ed7953"
             ],
             [
              0.7777777777777778,
              "#fb9f3a"
             ],
             [
              0.8888888888888888,
              "#fdca26"
             ],
             [
              1,
              "#f0f921"
             ]
            ],
            "type": "heatmap"
           }
          ],
          "heatmapgl": [
           {
            "colorbar": {
             "outlinewidth": 0,
             "ticks": ""
            },
            "colorscale": [
             [
              0,
              "#0d0887"
             ],
             [
              0.1111111111111111,
              "#46039f"
             ],
             [
              0.2222222222222222,
              "#7201a8"
             ],
             [
              0.3333333333333333,
              "#9c179e"
             ],
             [
              0.4444444444444444,
              "#bd3786"
             ],
             [
              0.5555555555555556,
              "#d8576b"
             ],
             [
              0.6666666666666666,
              "#ed7953"
             ],
             [
              0.7777777777777778,
              "#fb9f3a"
             ],
             [
              0.8888888888888888,
              "#fdca26"
             ],
             [
              1,
              "#f0f921"
             ]
            ],
            "type": "heatmapgl"
           }
          ],
          "histogram": [
           {
            "marker": {
             "pattern": {
              "fillmode": "overlay",
              "size": 10,
              "solidity": 0.2
             }
            },
            "type": "histogram"
           }
          ],
          "histogram2d": [
           {
            "colorbar": {
             "outlinewidth": 0,
             "ticks": ""
            },
            "colorscale": [
             [
              0,
              "#0d0887"
             ],
             [
              0.1111111111111111,
              "#46039f"
             ],
             [
              0.2222222222222222,
              "#7201a8"
             ],
             [
              0.3333333333333333,
              "#9c179e"
             ],
             [
              0.4444444444444444,
              "#bd3786"
             ],
             [
              0.5555555555555556,
              "#d8576b"
             ],
             [
              0.6666666666666666,
              "#ed7953"
             ],
             [
              0.7777777777777778,
              "#fb9f3a"
             ],
             [
              0.8888888888888888,
              "#fdca26"
             ],
             [
              1,
              "#f0f921"
             ]
            ],
            "type": "histogram2d"
           }
          ],
          "histogram2dcontour": [
           {
            "colorbar": {
             "outlinewidth": 0,
             "ticks": ""
            },
            "colorscale": [
             [
              0,
              "#0d0887"
             ],
             [
              0.1111111111111111,
              "#46039f"
             ],
             [
              0.2222222222222222,
              "#7201a8"
             ],
             [
              0.3333333333333333,
              "#9c179e"
             ],
             [
              0.4444444444444444,
              "#bd3786"
             ],
             [
              0.5555555555555556,
              "#d8576b"
             ],
             [
              0.6666666666666666,
              "#ed7953"
             ],
             [
              0.7777777777777778,
              "#fb9f3a"
             ],
             [
              0.8888888888888888,
              "#fdca26"
             ],
             [
              1,
              "#f0f921"
             ]
            ],
            "type": "histogram2dcontour"
           }
          ],
          "mesh3d": [
           {
            "colorbar": {
             "outlinewidth": 0,
             "ticks": ""
            },
            "type": "mesh3d"
           }
          ],
          "parcoords": [
           {
            "line": {
             "colorbar": {
              "outlinewidth": 0,
              "ticks": ""
             }
            },
            "type": "parcoords"
           }
          ],
          "pie": [
           {
            "automargin": true,
            "type": "pie"
           }
          ],
          "scatter": [
           {
            "fillpattern": {
             "fillmode": "overlay",
             "size": 10,
             "solidity": 0.2
            },
            "type": "scatter"
           }
          ],
          "scatter3d": [
           {
            "line": {
             "colorbar": {
              "outlinewidth": 0,
              "ticks": ""
             }
            },
            "marker": {
             "colorbar": {
              "outlinewidth": 0,
              "ticks": ""
             }
            },
            "type": "scatter3d"
           }
          ],
          "scattercarpet": [
           {
            "marker": {
             "colorbar": {
              "outlinewidth": 0,
              "ticks": ""
             }
            },
            "type": "scattercarpet"
           }
          ],
          "scattergeo": [
           {
            "marker": {
             "colorbar": {
              "outlinewidth": 0,
              "ticks": ""
             }
            },
            "type": "scattergeo"
           }
          ],
          "scattergl": [
           {
            "marker": {
             "colorbar": {
              "outlinewidth": 0,
              "ticks": ""
             }
            },
            "type": "scattergl"
           }
          ],
          "scattermapbox": [
           {
            "marker": {
             "colorbar": {
              "outlinewidth": 0,
              "ticks": ""
             }
            },
            "type": "scattermapbox"
           }
          ],
          "scatterpolar": [
           {
            "marker": {
             "colorbar": {
              "outlinewidth": 0,
              "ticks": ""
             }
            },
            "type": "scatterpolar"
           }
          ],
          "scatterpolargl": [
           {
            "marker": {
             "colorbar": {
              "outlinewidth": 0,
              "ticks": ""
             }
            },
            "type": "scatterpolargl"
           }
          ],
          "scatterternary": [
           {
            "marker": {
             "colorbar": {
              "outlinewidth": 0,
              "ticks": ""
             }
            },
            "type": "scatterternary"
           }
          ],
          "surface": [
           {
            "colorbar": {
             "outlinewidth": 0,
             "ticks": ""
            },
            "colorscale": [
             [
              0,
              "#0d0887"
             ],
             [
              0.1111111111111111,
              "#46039f"
             ],
             [
              0.2222222222222222,
              "#7201a8"
             ],
             [
              0.3333333333333333,
              "#9c179e"
             ],
             [
              0.4444444444444444,
              "#bd3786"
             ],
             [
              0.5555555555555556,
              "#d8576b"
             ],
             [
              0.6666666666666666,
              "#ed7953"
             ],
             [
              0.7777777777777778,
              "#fb9f3a"
             ],
             [
              0.8888888888888888,
              "#fdca26"
             ],
             [
              1,
              "#f0f921"
             ]
            ],
            "type": "surface"
           }
          ],
          "table": [
           {
            "cells": {
             "fill": {
              "color": "#EBF0F8"
             },
             "line": {
              "color": "white"
             }
            },
            "header": {
             "fill": {
              "color": "#C8D4E3"
             },
             "line": {
              "color": "white"
             }
            },
            "type": "table"
           }
          ]
         },
         "layout": {
          "annotationdefaults": {
           "arrowcolor": "#2a3f5f",
           "arrowhead": 0,
           "arrowwidth": 1
          },
          "autotypenumbers": "strict",
          "coloraxis": {
           "colorbar": {
            "outlinewidth": 0,
            "ticks": ""
           }
          },
          "colorscale": {
           "diverging": [
            [
             0,
             "#8e0152"
            ],
            [
             0.1,
             "#c51b7d"
            ],
            [
             0.2,
             "#de77ae"
            ],
            [
             0.3,
             "#f1b6da"
            ],
            [
             0.4,
             "#fde0ef"
            ],
            [
             0.5,
             "#f7f7f7"
            ],
            [
             0.6,
             "#e6f5d0"
            ],
            [
             0.7,
             "#b8e186"
            ],
            [
             0.8,
             "#7fbc41"
            ],
            [
             0.9,
             "#4d9221"
            ],
            [
             1,
             "#276419"
            ]
           ],
           "sequential": [
            [
             0,
             "#0d0887"
            ],
            [
             0.1111111111111111,
             "#46039f"
            ],
            [
             0.2222222222222222,
             "#7201a8"
            ],
            [
             0.3333333333333333,
             "#9c179e"
            ],
            [
             0.4444444444444444,
             "#bd3786"
            ],
            [
             0.5555555555555556,
             "#d8576b"
            ],
            [
             0.6666666666666666,
             "#ed7953"
            ],
            [
             0.7777777777777778,
             "#fb9f3a"
            ],
            [
             0.8888888888888888,
             "#fdca26"
            ],
            [
             1,
             "#f0f921"
            ]
           ],
           "sequentialminus": [
            [
             0,
             "#0d0887"
            ],
            [
             0.1111111111111111,
             "#46039f"
            ],
            [
             0.2222222222222222,
             "#7201a8"
            ],
            [
             0.3333333333333333,
             "#9c179e"
            ],
            [
             0.4444444444444444,
             "#bd3786"
            ],
            [
             0.5555555555555556,
             "#d8576b"
            ],
            [
             0.6666666666666666,
             "#ed7953"
            ],
            [
             0.7777777777777778,
             "#fb9f3a"
            ],
            [
             0.8888888888888888,
             "#fdca26"
            ],
            [
             1,
             "#f0f921"
            ]
           ]
          },
          "colorway": [
           "#636efa",
           "#EF553B",
           "#00cc96",
           "#ab63fa",
           "#FFA15A",
           "#19d3f3",
           "#FF6692",
           "#B6E880",
           "#FF97FF",
           "#FECB52"
          ],
          "font": {
           "color": "#2a3f5f"
          },
          "geo": {
           "bgcolor": "white",
           "lakecolor": "white",
           "landcolor": "#E5ECF6",
           "showlakes": true,
           "showland": true,
           "subunitcolor": "white"
          },
          "hoverlabel": {
           "align": "left"
          },
          "hovermode": "closest",
          "mapbox": {
           "style": "light"
          },
          "paper_bgcolor": "white",
          "plot_bgcolor": "#E5ECF6",
          "polar": {
           "angularaxis": {
            "gridcolor": "white",
            "linecolor": "white",
            "ticks": ""
           },
           "bgcolor": "#E5ECF6",
           "radialaxis": {
            "gridcolor": "white",
            "linecolor": "white",
            "ticks": ""
           }
          },
          "scene": {
           "xaxis": {
            "backgroundcolor": "#E5ECF6",
            "gridcolor": "white",
            "gridwidth": 2,
            "linecolor": "white",
            "showbackground": true,
            "ticks": "",
            "zerolinecolor": "white"
           },
           "yaxis": {
            "backgroundcolor": "#E5ECF6",
            "gridcolor": "white",
            "gridwidth": 2,
            "linecolor": "white",
            "showbackground": true,
            "ticks": "",
            "zerolinecolor": "white"
           },
           "zaxis": {
            "backgroundcolor": "#E5ECF6",
            "gridcolor": "white",
            "gridwidth": 2,
            "linecolor": "white",
            "showbackground": true,
            "ticks": "",
            "zerolinecolor": "white"
           }
          },
          "shapedefaults": {
           "line": {
            "color": "#2a3f5f"
           }
          },
          "ternary": {
           "aaxis": {
            "gridcolor": "white",
            "linecolor": "white",
            "ticks": ""
           },
           "baxis": {
            "gridcolor": "white",
            "linecolor": "white",
            "ticks": ""
           },
           "bgcolor": "#E5ECF6",
           "caxis": {
            "gridcolor": "white",
            "linecolor": "white",
            "ticks": ""
           }
          },
          "title": {
           "x": 0.05
          },
          "xaxis": {
           "automargin": true,
           "gridcolor": "white",
           "linecolor": "white",
           "ticks": "",
           "title": {
            "standoff": 15
           },
           "zerolinecolor": "white",
           "zerolinewidth": 2
          },
          "yaxis": {
           "automargin": true,
           "gridcolor": "white",
           "linecolor": "white",
           "ticks": "",
           "title": {
            "standoff": 15
           },
           "zerolinecolor": "white",
           "zerolinewidth": 2
          }
         }
        },
        "title": {
         "text": "Hourly Bluebike Trips Near East Boston Greenway"
        },
        "width": 800
       }
      }
     },
     "metadata": {},
     "output_type": "display_data"
    },
    {
     "name": "stdout",
     "output_type": "stream",
     "text": [
      "No stations within 0.3 km of East Boston Memorial Park I\n",
      "1 nearest station to Edgerly Road Playground: Boylston St at Massachusetts Ave\n"
     ]
    },
    {
     "name": "stderr",
     "output_type": "stream",
     "text": [
      "/Users/henrywu/opt/anaconda3/lib/python3.9/site-packages/plotly/express/_core.py:271: FutureWarning:\n",
      "\n",
      "The frame.append method is deprecated and will be removed from pandas in a future version. Use pandas.concat instead.\n",
      "\n",
      "/Users/henrywu/opt/anaconda3/lib/python3.9/site-packages/plotly/express/_core.py:271: FutureWarning:\n",
      "\n",
      "The frame.append method is deprecated and will be removed from pandas in a future version. Use pandas.concat instead.\n",
      "\n",
      "/Users/henrywu/opt/anaconda3/lib/python3.9/site-packages/plotly/express/_core.py:271: FutureWarning:\n",
      "\n",
      "The frame.append method is deprecated and will be removed from pandas in a future version. Use pandas.concat instead.\n",
      "\n",
      "/Users/henrywu/opt/anaconda3/lib/python3.9/site-packages/plotly/express/_core.py:271: FutureWarning:\n",
      "\n",
      "The frame.append method is deprecated and will be removed from pandas in a future version. Use pandas.concat instead.\n",
      "\n"
     ]
    },
    {
     "data": {
      "application/vnd.plotly.v1+json": {
       "config": {
        "plotlyServerURL": "https://plot.ly"
       },
       "data": [
        {
         "customdata": [
          [
           2.6202531645569622,
           7.5
          ],
          [
           1.859704641350211,
           22.5
          ],
          [
           1.6582278481012658,
           37.5
          ],
          [
           0.9683544303797469,
           52.5
          ],
          [
           0.5221518987341772,
           67.5
          ],
          [
           0.5559071729957806,
           82.5
          ],
          [
           1.231012658227848,
           97.5
          ],
          [
           3.3343881856540083,
           112.5
          ],
          [
           5.5284810126582276,
           127.5
          ],
          [
           3.978902953586498,
           142.5
          ],
          [
           2.901898734177215,
           157.5
          ],
          [
           3.7046413502109705,
           172.5
          ],
          [
           4.871308016877637,
           187.5
          ],
          [
           5.1118143459915615,
           202.5
          ],
          [
           5.030590717299578,
           217.5
          ],
          [
           5.812236286919831,
           232.5
          ],
          [
           7.198312236286919,
           247.5
          ],
          [
           9.36603375527426,
           262.5
          ],
          [
           8.869198312236287,
           277.5
          ],
          [
           7.706751054852321,
           292.5
          ],
          [
           6.8048523206751055,
           307.5
          ],
          [
           6.762658227848101,
           322.5
          ],
          [
           6.198312236286919,
           337.5
          ],
          [
           4.518987341772152,
           352.5
          ],
          [
           2.6202531645569622,
           7.5
          ]
         ],
         "hovertemplate": "Day Type=Weekday<br>Trip Type=Departures<br>Trips=%{customdata[0]:.2f}<extra></extra>",
         "legendgroup": "Weekday, Departures",
         "line": {
          "color": "#636efa",
          "dash": "solid"
         },
         "marker": {
          "symbol": "circle"
         },
         "mode": "lines",
         "name": "Weekday, Departures",
         "r": [
          2.6202531645569622,
          1.859704641350211,
          1.6582278481012658,
          0.9683544303797469,
          0.5221518987341772,
          0.5559071729957806,
          1.231012658227848,
          3.3343881856540083,
          5.5284810126582276,
          3.978902953586498,
          2.901898734177215,
          3.7046413502109705,
          4.871308016877637,
          5.1118143459915615,
          5.030590717299578,
          5.812236286919831,
          7.198312236286919,
          9.36603375527426,
          8.869198312236287,
          7.706751054852321,
          6.8048523206751055,
          6.762658227848101,
          6.198312236286919,
          4.518987341772152,
          2.6202531645569622
         ],
         "showlegend": true,
         "subplot": "polar",
         "theta": [
          7.5,
          22.5,
          37.5,
          52.5,
          67.5,
          82.5,
          97.5,
          112.5,
          127.5,
          142.5,
          157.5,
          172.5,
          187.5,
          202.5,
          217.5,
          232.5,
          247.5,
          262.5,
          277.5,
          292.5,
          307.5,
          322.5,
          337.5,
          352.5,
          7.5
         ],
         "type": "scatterpolar"
        },
        {
         "customdata": [
          [
           2.579113924050633,
           7.5
          ],
          [
           1.6149789029535866,
           22.5
          ],
          [
           1.1582278481012658,
           37.5
          ],
          [
           0.7763713080168776,
           52.5
          ],
          [
           0.3829113924050633,
           67.5
          ],
          [
           0.5147679324894515,
           82.5
          ],
          [
           1.1856540084388185,
           97.5
          ],
          [
           2.7510548523206753,
           112.5
          ],
          [
           4.5548523206751055,
           127.5
          ],
          [
           4.020042194092827,
           142.5
          ],
          [
           3.3987341772151898,
           157.5
          ],
          [
           3.792194092827004,
           172.5
          ],
          [
           5.100210970464135,
           187.5
          ],
          [
           5.511603375527426,
           202.5
          ],
          [
           5.705696202531645,
           217.5
          ],
          [
           6.899789029535865,
           232.5
          ],
          [
           7.720464135021097,
           247.5
          ],
          [
           10.684599156118143,
           262.5
          ],
          [
           9.746835443037975,
           277.5
          ],
          [
           7.793248945147679,
           292.5
          ],
          [
           6.436708860759493,
           307.5
          ],
          [
           6.410337552742616,
           322.5
          ],
          [
           5.580168776371308,
           337.5
          ],
          [
           4.350210970464135,
           352.5
          ],
          [
           2.579113924050633,
           7.5
          ]
         ],
         "hovertemplate": "Day Type=Weekday<br>Trip Type=Arrivals<br>Trips=%{customdata[0]:.2f}<extra></extra>",
         "legendgroup": "Weekday, Arrivals",
         "line": {
          "color": "#636efa",
          "dash": "dot"
         },
         "marker": {
          "symbol": "circle"
         },
         "mode": "lines",
         "name": "Weekday, Arrivals",
         "r": [
          2.579113924050633,
          1.6149789029535866,
          1.1582278481012658,
          0.7763713080168776,
          0.3829113924050633,
          0.5147679324894515,
          1.1856540084388185,
          2.7510548523206753,
          4.5548523206751055,
          4.020042194092827,
          3.3987341772151898,
          3.792194092827004,
          5.100210970464135,
          5.511603375527426,
          5.705696202531645,
          6.899789029535865,
          7.720464135021097,
          10.684599156118143,
          9.746835443037975,
          7.793248945147679,
          6.436708860759493,
          6.410337552742616,
          5.580168776371308,
          4.350210970464135,
          2.579113924050633
         ],
         "showlegend": true,
         "subplot": "polar",
         "theta": [
          7.5,
          22.5,
          37.5,
          52.5,
          67.5,
          82.5,
          97.5,
          112.5,
          127.5,
          142.5,
          157.5,
          172.5,
          187.5,
          202.5,
          217.5,
          232.5,
          247.5,
          262.5,
          277.5,
          292.5,
          307.5,
          322.5,
          337.5,
          352.5,
          7.5
         ],
         "type": "scatterpolar"
        },
        {
         "customdata": [
          [
           1.5527426160337552,
           7.5
          ],
          [
           1.2732067510548524,
           22.5
          ],
          [
           1.1571729957805907,
           37.5
          ],
          [
           0.7542194092827004,
           52.5
          ],
          [
           0.48523206751054854,
           67.5
          ],
          [
           0.49050632911392406,
           82.5
          ],
          [
           0.3744725738396624,
           97.5
          ],
          [
           0.35443037974683544,
           112.5
          ],
          [
           0.6234177215189873,
           127.5
          ],
          [
           1.0158227848101267,
           142.5
          ],
          [
           1.5358649789029535,
           157.5
          ],
          [
           1.9208860759493671,
           172.5
          ],
          [
           2.4567510548523206,
           187.5
          ],
          [
           2.8491561181434597,
           202.5
          ],
          [
           3.1508438818565403,
           217.5
          ],
          [
           3.488396624472574,
           232.5
          ],
          [
           3.757383966244726,
           247.5
          ],
          [
           3.8913502109704643,
           262.5
          ],
          [
           3.8354430379746836,
           277.5
          ],
          [
           3.338607594936709,
           292.5
          ],
          [
           2.979957805907173,
           307.5
          ],
          [
           2.7542194092827006,
           322.5
          ],
          [
           2.380801687763713,
           337.5
          ],
          [
           1.9620253164556962,
           352.5
          ],
          [
           1.5527426160337552,
           7.5
          ]
         ],
         "hovertemplate": "Day Type=Weekend<br>Trip Type=Departures<br>Trips=%{customdata[0]:.2f}<extra></extra>",
         "legendgroup": "Weekend, Departures",
         "line": {
          "color": "#EF553B",
          "dash": "solid"
         },
         "marker": {
          "symbol": "circle"
         },
         "mode": "lines",
         "name": "Weekend, Departures",
         "r": [
          1.5527426160337552,
          1.2732067510548524,
          1.1571729957805907,
          0.7542194092827004,
          0.48523206751054854,
          0.49050632911392406,
          0.3744725738396624,
          0.35443037974683544,
          0.6234177215189873,
          1.0158227848101267,
          1.5358649789029535,
          1.9208860759493671,
          2.4567510548523206,
          2.8491561181434597,
          3.1508438818565403,
          3.488396624472574,
          3.757383966244726,
          3.8913502109704643,
          3.8354430379746836,
          3.338607594936709,
          2.979957805907173,
          2.7542194092827006,
          2.380801687763713,
          1.9620253164556962,
          1.5527426160337552
         ],
         "showlegend": true,
         "subplot": "polar",
         "theta": [
          7.5,
          22.5,
          37.5,
          52.5,
          67.5,
          82.5,
          97.5,
          112.5,
          127.5,
          142.5,
          157.5,
          172.5,
          187.5,
          202.5,
          217.5,
          232.5,
          247.5,
          262.5,
          277.5,
          292.5,
          307.5,
          322.5,
          337.5,
          352.5,
          7.5
         ],
         "type": "scatterpolar"
        },
        {
         "customdata": [
          [
           1.4778481012658229,
           7.5
          ],
          [
           1.2141350210970465,
           22.5
          ],
          [
           0.9377637130801688,
           37.5
          ],
          [
           0.5622362869198312,
           52.5
          ],
          [
           0.38924050632911394,
           67.5
          ],
          [
           0.4472573839662447,
           82.5
          ],
          [
           0.4588607594936709,
           97.5
          ],
          [
           0.3691983122362869,
           112.5
          ],
          [
           0.680379746835443,
           127.5
          ],
          [
           1.09915611814346,
           142.5
          ],
          [
           1.5569620253164558,
           157.5
          ],
          [
           2.1107594936708862,
           172.5
          ],
          [
           2.761603375527426,
           187.5
          ],
          [
           3.1033755274261603,
           202.5
          ],
          [
           3.30168776371308,
           217.5
          ],
          [
           3.6845991561181433,
           232.5
          ],
          [
           3.899789029535865,
           247.5
          ],
          [
           4.040084388185654,
           262.5
          ],
          [
           3.8122362869198314,
           277.5
          ],
          [
           3.569620253164557,
           292.5
          ],
          [
           2.8755274261603376,
           307.5
          ],
          [
           2.451476793248945,
           322.5
          ],
          [
           2.0822784810126582,
           337.5
          ],
          [
           1.7584388185654007,
           352.5
          ],
          [
           1.4778481012658229,
           7.5
          ]
         ],
         "hovertemplate": "Day Type=Weekend<br>Trip Type=Arrivals<br>Trips=%{customdata[0]:.2f}<extra></extra>",
         "legendgroup": "Weekend, Arrivals",
         "line": {
          "color": "#EF553B",
          "dash": "dot"
         },
         "marker": {
          "symbol": "circle"
         },
         "mode": "lines",
         "name": "Weekend, Arrivals",
         "r": [
          1.4778481012658229,
          1.2141350210970465,
          0.9377637130801688,
          0.5622362869198312,
          0.38924050632911394,
          0.4472573839662447,
          0.4588607594936709,
          0.3691983122362869,
          0.680379746835443,
          1.09915611814346,
          1.5569620253164558,
          2.1107594936708862,
          2.761603375527426,
          3.1033755274261603,
          3.30168776371308,
          3.6845991561181433,
          3.899789029535865,
          4.040084388185654,
          3.8122362869198314,
          3.569620253164557,
          2.8755274261603376,
          2.451476793248945,
          2.0822784810126582,
          1.7584388185654007,
          1.4778481012658229
         ],
         "showlegend": true,
         "subplot": "polar",
         "theta": [
          7.5,
          22.5,
          37.5,
          52.5,
          67.5,
          82.5,
          97.5,
          112.5,
          127.5,
          142.5,
          157.5,
          172.5,
          187.5,
          202.5,
          217.5,
          232.5,
          247.5,
          262.5,
          277.5,
          292.5,
          307.5,
          322.5,
          337.5,
          352.5,
          7.5
         ],
         "type": "scatterpolar"
        }
       ],
       "layout": {
        "height": 600,
        "legend": {
         "title": {
          "text": ""
         },
         "tracegroupgap": 0
        },
        "margin": {
         "b": 25,
         "l": 0,
         "r": 0,
         "t": 50
        },
        "polar": {
         "angularaxis": {
          "direction": "clockwise",
          "rotation": -90,
          "tickmode": "array",
          "ticktext": [
           "12 AM",
           "1 AM",
           "2 AM",
           "3 AM",
           "4 AM",
           "5 AM",
           "6 AM",
           "7 AM",
           "8 AM",
           "9 AM",
           "10 AM",
           "11 AM",
           "12 PM",
           "1 PM",
           "2 PM",
           "3 PM",
           "4 PM",
           "5 PM",
           "6 PM",
           "7 PM",
           "8 PM",
           "9 PM",
           "10 PM",
           "11 PM"
          ],
          "tickvals": [
           0,
           15,
           30,
           45,
           60,
           75,
           90,
           105,
           120,
           135,
           150,
           165,
           180,
           195,
           210,
           225,
           240,
           255,
           270,
           285,
           300,
           315,
           330,
           345
          ]
         },
         "domain": {
          "x": [
           0,
           1
          ],
          "y": [
           0,
           1
          ]
         }
        },
        "template": {
         "data": {
          "bar": [
           {
            "error_x": {
             "color": "#2a3f5f"
            },
            "error_y": {
             "color": "#2a3f5f"
            },
            "marker": {
             "line": {
              "color": "#E5ECF6",
              "width": 0.5
             },
             "pattern": {
              "fillmode": "overlay",
              "size": 10,
              "solidity": 0.2
             }
            },
            "type": "bar"
           }
          ],
          "barpolar": [
           {
            "marker": {
             "line": {
              "color": "#E5ECF6",
              "width": 0.5
             },
             "pattern": {
              "fillmode": "overlay",
              "size": 10,
              "solidity": 0.2
             }
            },
            "type": "barpolar"
           }
          ],
          "carpet": [
           {
            "aaxis": {
             "endlinecolor": "#2a3f5f",
             "gridcolor": "white",
             "linecolor": "white",
             "minorgridcolor": "white",
             "startlinecolor": "#2a3f5f"
            },
            "baxis": {
             "endlinecolor": "#2a3f5f",
             "gridcolor": "white",
             "linecolor": "white",
             "minorgridcolor": "white",
             "startlinecolor": "#2a3f5f"
            },
            "type": "carpet"
           }
          ],
          "choropleth": [
           {
            "colorbar": {
             "outlinewidth": 0,
             "ticks": ""
            },
            "type": "choropleth"
           }
          ],
          "contour": [
           {
            "colorbar": {
             "outlinewidth": 0,
             "ticks": ""
            },
            "colorscale": [
             [
              0,
              "#0d0887"
             ],
             [
              0.1111111111111111,
              "#46039f"
             ],
             [
              0.2222222222222222,
              "#7201a8"
             ],
             [
              0.3333333333333333,
              "#9c179e"
             ],
             [
              0.4444444444444444,
              "#bd3786"
             ],
             [
              0.5555555555555556,
              "#d8576b"
             ],
             [
              0.6666666666666666,
              "#ed7953"
             ],
             [
              0.7777777777777778,
              "#fb9f3a"
             ],
             [
              0.8888888888888888,
              "#fdca26"
             ],
             [
              1,
              "#f0f921"
             ]
            ],
            "type": "contour"
           }
          ],
          "contourcarpet": [
           {
            "colorbar": {
             "outlinewidth": 0,
             "ticks": ""
            },
            "type": "contourcarpet"
           }
          ],
          "heatmap": [
           {
            "colorbar": {
             "outlinewidth": 0,
             "ticks": ""
            },
            "colorscale": [
             [
              0,
              "#0d0887"
             ],
             [
              0.1111111111111111,
              "#46039f"
             ],
             [
              0.2222222222222222,
              "#7201a8"
             ],
             [
              0.3333333333333333,
              "#9c179e"
             ],
             [
              0.4444444444444444,
              "#bd3786"
             ],
             [
              0.5555555555555556,
              "#d8576b"
             ],
             [
              0.6666666666666666,
              "#ed7953"
             ],
             [
              0.7777777777777778,
              "#fb9f3a"
             ],
             [
              0.8888888888888888,
              "#fdca26"
             ],
             [
              1,
              "#f0f921"
             ]
            ],
            "type": "heatmap"
           }
          ],
          "heatmapgl": [
           {
            "colorbar": {
             "outlinewidth": 0,
             "ticks": ""
            },
            "colorscale": [
             [
              0,
              "#0d0887"
             ],
             [
              0.1111111111111111,
              "#46039f"
             ],
             [
              0.2222222222222222,
              "#7201a8"
             ],
             [
              0.3333333333333333,
              "#9c179e"
             ],
             [
              0.4444444444444444,
              "#bd3786"
             ],
             [
              0.5555555555555556,
              "#d8576b"
             ],
             [
              0.6666666666666666,
              "#ed7953"
             ],
             [
              0.7777777777777778,
              "#fb9f3a"
             ],
             [
              0.8888888888888888,
              "#fdca26"
             ],
             [
              1,
              "#f0f921"
             ]
            ],
            "type": "heatmapgl"
           }
          ],
          "histogram": [
           {
            "marker": {
             "pattern": {
              "fillmode": "overlay",
              "size": 10,
              "solidity": 0.2
             }
            },
            "type": "histogram"
           }
          ],
          "histogram2d": [
           {
            "colorbar": {
             "outlinewidth": 0,
             "ticks": ""
            },
            "colorscale": [
             [
              0,
              "#0d0887"
             ],
             [
              0.1111111111111111,
              "#46039f"
             ],
             [
              0.2222222222222222,
              "#7201a8"
             ],
             [
              0.3333333333333333,
              "#9c179e"
             ],
             [
              0.4444444444444444,
              "#bd3786"
             ],
             [
              0.5555555555555556,
              "#d8576b"
             ],
             [
              0.6666666666666666,
              "#ed7953"
             ],
             [
              0.7777777777777778,
              "#fb9f3a"
             ],
             [
              0.8888888888888888,
              "#fdca26"
             ],
             [
              1,
              "#f0f921"
             ]
            ],
            "type": "histogram2d"
           }
          ],
          "histogram2dcontour": [
           {
            "colorbar": {
             "outlinewidth": 0,
             "ticks": ""
            },
            "colorscale": [
             [
              0,
              "#0d0887"
             ],
             [
              0.1111111111111111,
              "#46039f"
             ],
             [
              0.2222222222222222,
              "#7201a8"
             ],
             [
              0.3333333333333333,
              "#9c179e"
             ],
             [
              0.4444444444444444,
              "#bd3786"
             ],
             [
              0.5555555555555556,
              "#d8576b"
             ],
             [
              0.6666666666666666,
              "#ed7953"
             ],
             [
              0.7777777777777778,
              "#fb9f3a"
             ],
             [
              0.8888888888888888,
              "#fdca26"
             ],
             [
              1,
              "#f0f921"
             ]
            ],
            "type": "histogram2dcontour"
           }
          ],
          "mesh3d": [
           {
            "colorbar": {
             "outlinewidth": 0,
             "ticks": ""
            },
            "type": "mesh3d"
           }
          ],
          "parcoords": [
           {
            "line": {
             "colorbar": {
              "outlinewidth": 0,
              "ticks": ""
             }
            },
            "type": "parcoords"
           }
          ],
          "pie": [
           {
            "automargin": true,
            "type": "pie"
           }
          ],
          "scatter": [
           {
            "fillpattern": {
             "fillmode": "overlay",
             "size": 10,
             "solidity": 0.2
            },
            "type": "scatter"
           }
          ],
          "scatter3d": [
           {
            "line": {
             "colorbar": {
              "outlinewidth": 0,
              "ticks": ""
             }
            },
            "marker": {
             "colorbar": {
              "outlinewidth": 0,
              "ticks": ""
             }
            },
            "type": "scatter3d"
           }
          ],
          "scattercarpet": [
           {
            "marker": {
             "colorbar": {
              "outlinewidth": 0,
              "ticks": ""
             }
            },
            "type": "scattercarpet"
           }
          ],
          "scattergeo": [
           {
            "marker": {
             "colorbar": {
              "outlinewidth": 0,
              "ticks": ""
             }
            },
            "type": "scattergeo"
           }
          ],
          "scattergl": [
           {
            "marker": {
             "colorbar": {
              "outlinewidth": 0,
              "ticks": ""
             }
            },
            "type": "scattergl"
           }
          ],
          "scattermapbox": [
           {
            "marker": {
             "colorbar": {
              "outlinewidth": 0,
              "ticks": ""
             }
            },
            "type": "scattermapbox"
           }
          ],
          "scatterpolar": [
           {
            "marker": {
             "colorbar": {
              "outlinewidth": 0,
              "ticks": ""
             }
            },
            "type": "scatterpolar"
           }
          ],
          "scatterpolargl": [
           {
            "marker": {
             "colorbar": {
              "outlinewidth": 0,
              "ticks": ""
             }
            },
            "type": "scatterpolargl"
           }
          ],
          "scatterternary": [
           {
            "marker": {
             "colorbar": {
              "outlinewidth": 0,
              "ticks": ""
             }
            },
            "type": "scatterternary"
           }
          ],
          "surface": [
           {
            "colorbar": {
             "outlinewidth": 0,
             "ticks": ""
            },
            "colorscale": [
             [
              0,
              "#0d0887"
             ],
             [
              0.1111111111111111,
              "#46039f"
             ],
             [
              0.2222222222222222,
              "#7201a8"
             ],
             [
              0.3333333333333333,
              "#9c179e"
             ],
             [
              0.4444444444444444,
              "#bd3786"
             ],
             [
              0.5555555555555556,
              "#d8576b"
             ],
             [
              0.6666666666666666,
              "#ed7953"
             ],
             [
              0.7777777777777778,
              "#fb9f3a"
             ],
             [
              0.8888888888888888,
              "#fdca26"
             ],
             [
              1,
              "#f0f921"
             ]
            ],
            "type": "surface"
           }
          ],
          "table": [
           {
            "cells": {
             "fill": {
              "color": "#EBF0F8"
             },
             "line": {
              "color": "white"
             }
            },
            "header": {
             "fill": {
              "color": "#C8D4E3"
             },
             "line": {
              "color": "white"
             }
            },
            "type": "table"
           }
          ]
         },
         "layout": {
          "annotationdefaults": {
           "arrowcolor": "#2a3f5f",
           "arrowhead": 0,
           "arrowwidth": 1
          },
          "autotypenumbers": "strict",
          "coloraxis": {
           "colorbar": {
            "outlinewidth": 0,
            "ticks": ""
           }
          },
          "colorscale": {
           "diverging": [
            [
             0,
             "#8e0152"
            ],
            [
             0.1,
             "#c51b7d"
            ],
            [
             0.2,
             "#de77ae"
            ],
            [
             0.3,
             "#f1b6da"
            ],
            [
             0.4,
             "#fde0ef"
            ],
            [
             0.5,
             "#f7f7f7"
            ],
            [
             0.6,
             "#e6f5d0"
            ],
            [
             0.7,
             "#b8e186"
            ],
            [
             0.8,
             "#7fbc41"
            ],
            [
             0.9,
             "#4d9221"
            ],
            [
             1,
             "#276419"
            ]
           ],
           "sequential": [
            [
             0,
             "#0d0887"
            ],
            [
             0.1111111111111111,
             "#46039f"
            ],
            [
             0.2222222222222222,
             "#7201a8"
            ],
            [
             0.3333333333333333,
             "#9c179e"
            ],
            [
             0.4444444444444444,
             "#bd3786"
            ],
            [
             0.5555555555555556,
             "#d8576b"
            ],
            [
             0.6666666666666666,
             "#ed7953"
            ],
            [
             0.7777777777777778,
             "#fb9f3a"
            ],
            [
             0.8888888888888888,
             "#fdca26"
            ],
            [
             1,
             "#f0f921"
            ]
           ],
           "sequentialminus": [
            [
             0,
             "#0d0887"
            ],
            [
             0.1111111111111111,
             "#46039f"
            ],
            [
             0.2222222222222222,
             "#7201a8"
            ],
            [
             0.3333333333333333,
             "#9c179e"
            ],
            [
             0.4444444444444444,
             "#bd3786"
            ],
            [
             0.5555555555555556,
             "#d8576b"
            ],
            [
             0.6666666666666666,
             "#ed7953"
            ],
            [
             0.7777777777777778,
             "#fb9f3a"
            ],
            [
             0.8888888888888888,
             "#fdca26"
            ],
            [
             1,
             "#f0f921"
            ]
           ]
          },
          "colorway": [
           "#636efa",
           "#EF553B",
           "#00cc96",
           "#ab63fa",
           "#FFA15A",
           "#19d3f3",
           "#FF6692",
           "#B6E880",
           "#FF97FF",
           "#FECB52"
          ],
          "font": {
           "color": "#2a3f5f"
          },
          "geo": {
           "bgcolor": "white",
           "lakecolor": "white",
           "landcolor": "#E5ECF6",
           "showlakes": true,
           "showland": true,
           "subunitcolor": "white"
          },
          "hoverlabel": {
           "align": "left"
          },
          "hovermode": "closest",
          "mapbox": {
           "style": "light"
          },
          "paper_bgcolor": "white",
          "plot_bgcolor": "#E5ECF6",
          "polar": {
           "angularaxis": {
            "gridcolor": "white",
            "linecolor": "white",
            "ticks": ""
           },
           "bgcolor": "#E5ECF6",
           "radialaxis": {
            "gridcolor": "white",
            "linecolor": "white",
            "ticks": ""
           }
          },
          "scene": {
           "xaxis": {
            "backgroundcolor": "#E5ECF6",
            "gridcolor": "white",
            "gridwidth": 2,
            "linecolor": "white",
            "showbackground": true,
            "ticks": "",
            "zerolinecolor": "white"
           },
           "yaxis": {
            "backgroundcolor": "#E5ECF6",
            "gridcolor": "white",
            "gridwidth": 2,
            "linecolor": "white",
            "showbackground": true,
            "ticks": "",
            "zerolinecolor": "white"
           },
           "zaxis": {
            "backgroundcolor": "#E5ECF6",
            "gridcolor": "white",
            "gridwidth": 2,
            "linecolor": "white",
            "showbackground": true,
            "ticks": "",
            "zerolinecolor": "white"
           }
          },
          "shapedefaults": {
           "line": {
            "color": "#2a3f5f"
           }
          },
          "ternary": {
           "aaxis": {
            "gridcolor": "white",
            "linecolor": "white",
            "ticks": ""
           },
           "baxis": {
            "gridcolor": "white",
            "linecolor": "white",
            "ticks": ""
           },
           "bgcolor": "#E5ECF6",
           "caxis": {
            "gridcolor": "white",
            "linecolor": "white",
            "ticks": ""
           }
          },
          "title": {
           "x": 0.05
          },
          "xaxis": {
           "automargin": true,
           "gridcolor": "white",
           "linecolor": "white",
           "ticks": "",
           "title": {
            "standoff": 15
           },
           "zerolinecolor": "white",
           "zerolinewidth": 2
          },
          "yaxis": {
           "automargin": true,
           "gridcolor": "white",
           "linecolor": "white",
           "ticks": "",
           "title": {
            "standoff": 15
           },
           "zerolinecolor": "white",
           "zerolinewidth": 2
          }
         }
        },
        "title": {
         "text": "Hourly Bluebike Trips Near Edgerly Road Playground"
        },
        "width": 800
       }
      }
     },
     "metadata": {},
     "output_type": "display_data"
    },
    {
     "name": "stdout",
     "output_type": "stream",
     "text": [
      "2 nearest stations to Hiscock Park: South End Library - Tremont St at W Newton St, Columbus Ave at W. Canton St\n"
     ]
    },
    {
     "name": "stderr",
     "output_type": "stream",
     "text": [
      "/Users/henrywu/opt/anaconda3/lib/python3.9/site-packages/plotly/express/_core.py:271: FutureWarning:\n",
      "\n",
      "The frame.append method is deprecated and will be removed from pandas in a future version. Use pandas.concat instead.\n",
      "\n",
      "/Users/henrywu/opt/anaconda3/lib/python3.9/site-packages/plotly/express/_core.py:271: FutureWarning:\n",
      "\n",
      "The frame.append method is deprecated and will be removed from pandas in a future version. Use pandas.concat instead.\n",
      "\n",
      "/Users/henrywu/opt/anaconda3/lib/python3.9/site-packages/plotly/express/_core.py:271: FutureWarning:\n",
      "\n",
      "The frame.append method is deprecated and will be removed from pandas in a future version. Use pandas.concat instead.\n",
      "\n",
      "/Users/henrywu/opt/anaconda3/lib/python3.9/site-packages/plotly/express/_core.py:271: FutureWarning:\n",
      "\n",
      "The frame.append method is deprecated and will be removed from pandas in a future version. Use pandas.concat instead.\n",
      "\n"
     ]
    },
    {
     "data": {
      "application/vnd.plotly.v1+json": {
       "config": {
        "plotlyServerURL": "https://plot.ly"
       },
       "data": [
        {
         "customdata": [
          [
           1.3417721518987342,
           7.5
          ],
          [
           0.9082278481012658,
           22.5
          ],
          [
           0.6350210970464135,
           37.5
          ],
          [
           0.5084388185654009,
           52.5
          ],
          [
           0.39135021097046413,
           67.5
          ],
          [
           1.371308016877637,
           82.5
          ],
          [
           4.293248945147679,
           97.5
          ],
          [
           6.550632911392405,
           112.5
          ],
          [
           8.027426160337553,
           127.5
          ],
          [
           3.7774261603375527,
           142.5
          ],
          [
           3.7088607594936707,
           157.5
          ],
          [
           4.949367088607595,
           172.5
          ],
          [
           5.432489451476793,
           187.5
          ],
          [
           3.899789029535865,
           202.5
          ],
          [
           3.672995780590717,
           217.5
          ],
          [
           3.840717299578059,
           232.5
          ],
          [
           4.6424050632911396,
           247.5
          ],
          [
           6.243670886075949,
           262.5
          ],
          [
           6.1308016877637135,
           277.5
          ],
          [
           4.641350210970464,
           292.5
          ],
          [
           3.5991561181434597,
           307.5
          ],
          [
           3.848101265822785,
           322.5
          ],
          [
           3.6434599156118144,
           337.5
          ],
          [
           2.430379746835443,
           352.5
          ],
          [
           1.3417721518987342,
           7.5
          ]
         ],
         "hovertemplate": "Day Type=Weekday<br>Trip Type=Departures<br>Trips=%{customdata[0]:.2f}<extra></extra>",
         "legendgroup": "Weekday, Departures",
         "line": {
          "color": "#636efa",
          "dash": "solid"
         },
         "marker": {
          "symbol": "circle"
         },
         "mode": "lines",
         "name": "Weekday, Departures",
         "r": [
          1.3417721518987342,
          0.9082278481012658,
          0.6350210970464135,
          0.5084388185654009,
          0.39135021097046413,
          1.371308016877637,
          4.293248945147679,
          6.550632911392405,
          8.027426160337553,
          3.7774261603375527,
          3.7088607594936707,
          4.949367088607595,
          5.432489451476793,
          3.899789029535865,
          3.672995780590717,
          3.840717299578059,
          4.6424050632911396,
          6.243670886075949,
          6.1308016877637135,
          4.641350210970464,
          3.5991561181434597,
          3.848101265822785,
          3.6434599156118144,
          2.430379746835443,
          1.3417721518987342
         ],
         "showlegend": true,
         "subplot": "polar",
         "theta": [
          7.5,
          22.5,
          37.5,
          52.5,
          67.5,
          82.5,
          97.5,
          112.5,
          127.5,
          142.5,
          157.5,
          172.5,
          187.5,
          202.5,
          217.5,
          232.5,
          247.5,
          262.5,
          277.5,
          292.5,
          307.5,
          322.5,
          337.5,
          352.5,
          7.5
         ],
         "type": "scatterpolar"
        },
        {
         "customdata": [
          [
           2.0052742616033754,
           7.5
          ],
          [
           1.3839662447257384,
           22.5
          ],
          [
           0.9883966244725738,
           37.5
          ],
          [
           0.6983122362869199,
           52.5
          ],
          [
           0.37763713080168776,
           67.5
          ],
          [
           0.3860759493670886,
           82.5
          ],
          [
           0.5928270042194093,
           97.5
          ],
          [
           1.6951476793248945,
           112.5
          ],
          [
           2.4546413502109705,
           127.5
          ],
          [
           1.8734177215189873,
           142.5
          ],
          [
           1.660337552742616,
           157.5
          ],
          [
           2.5833333333333335,
           172.5
          ],
          [
           3.3987341772151898,
           187.5
          ],
          [
           3.6445147679324896,
           202.5
          ],
          [
           3.411392405063291,
           217.5
          ],
          [
           4.339662447257384,
           232.5
          ],
          [
           6.617088607594937,
           247.5
          ],
          [
           10.162447257383967,
           262.5
          ],
          [
           9.085443037974683,
           277.5
          ],
          [
           6.674050632911392,
           292.5
          ],
          [
           5.7668776371308015,
           307.5
          ],
          [
           5.927215189873418,
           322.5
          ],
          [
           5.381856540084388,
           337.5
          ],
          [
           3.910337552742616,
           352.5
          ],
          [
           2.0052742616033754,
           7.5
          ]
         ],
         "hovertemplate": "Day Type=Weekday<br>Trip Type=Arrivals<br>Trips=%{customdata[0]:.2f}<extra></extra>",
         "legendgroup": "Weekday, Arrivals",
         "line": {
          "color": "#636efa",
          "dash": "dot"
         },
         "marker": {
          "symbol": "circle"
         },
         "mode": "lines",
         "name": "Weekday, Arrivals",
         "r": [
          2.0052742616033754,
          1.3839662447257384,
          0.9883966244725738,
          0.6983122362869199,
          0.37763713080168776,
          0.3860759493670886,
          0.5928270042194093,
          1.6951476793248945,
          2.4546413502109705,
          1.8734177215189873,
          1.660337552742616,
          2.5833333333333335,
          3.3987341772151898,
          3.6445147679324896,
          3.411392405063291,
          4.339662447257384,
          6.617088607594937,
          10.162447257383967,
          9.085443037974683,
          6.674050632911392,
          5.7668776371308015,
          5.927215189873418,
          5.381856540084388,
          3.910337552742616,
          2.0052742616033754
         ],
         "showlegend": true,
         "subplot": "polar",
         "theta": [
          7.5,
          22.5,
          37.5,
          52.5,
          67.5,
          82.5,
          97.5,
          112.5,
          127.5,
          142.5,
          157.5,
          172.5,
          187.5,
          202.5,
          217.5,
          232.5,
          247.5,
          262.5,
          277.5,
          292.5,
          307.5,
          322.5,
          337.5,
          352.5,
          7.5
         ],
         "type": "scatterpolar"
        },
        {
         "customdata": [
          [
           0.8048523206751055,
           7.5
          ],
          [
           0.7373417721518988,
           22.5
          ],
          [
           0.5179324894514767,
           37.5
          ],
          [
           0.36075949367088606,
           52.5
          ],
          [
           0.36075949367088606,
           67.5
          ],
          [
           0.5126582278481012,
           82.5
          ],
          [
           0.6265822784810127,
           97.5
          ],
          [
           0.4525316455696203,
           112.5
          ],
          [
           0.8871308016877637,
           127.5
          ],
          [
           1.3924050632911393,
           142.5
          ],
          [
           1.5717299578059072,
           157.5
          ],
          [
           1.7457805907172996,
           172.5
          ],
          [
           2.080168776371308,
           187.5
          ],
          [
           2.2246835443037973,
           202.5
          ],
          [
           2.189873417721519,
           217.5
          ],
          [
           2.300632911392405,
           232.5
          ],
          [
           2.1234177215189876,
           247.5
          ],
          [
           2.1529535864978904,
           262.5
          ],
          [
           2.0854430379746836,
           277.5
          ],
          [
           1.7109704641350212,
           292.5
          ],
          [
           1.2921940928270041,
           307.5
          ],
          [
           1.15084388185654,
           322.5
          ],
          [
           1.0949367088607596,
           337.5
          ],
          [
           0.9208860759493671,
           352.5
          ],
          [
           0.8048523206751055,
           7.5
          ]
         ],
         "hovertemplate": "Day Type=Weekend<br>Trip Type=Departures<br>Trips=%{customdata[0]:.2f}<extra></extra>",
         "legendgroup": "Weekend, Departures",
         "line": {
          "color": "#EF553B",
          "dash": "solid"
         },
         "marker": {
          "symbol": "circle"
         },
         "mode": "lines",
         "name": "Weekend, Departures",
         "r": [
          0.8048523206751055,
          0.7373417721518988,
          0.5179324894514767,
          0.36075949367088606,
          0.36075949367088606,
          0.5126582278481012,
          0.6265822784810127,
          0.4525316455696203,
          0.8871308016877637,
          1.3924050632911393,
          1.5717299578059072,
          1.7457805907172996,
          2.080168776371308,
          2.2246835443037973,
          2.189873417721519,
          2.300632911392405,
          2.1234177215189876,
          2.1529535864978904,
          2.0854430379746836,
          1.7109704641350212,
          1.2921940928270041,
          1.15084388185654,
          1.0949367088607596,
          0.9208860759493671,
          0.8048523206751055
         ],
         "showlegend": true,
         "subplot": "polar",
         "theta": [
          7.5,
          22.5,
          37.5,
          52.5,
          67.5,
          82.5,
          97.5,
          112.5,
          127.5,
          142.5,
          157.5,
          172.5,
          187.5,
          202.5,
          217.5,
          232.5,
          247.5,
          262.5,
          277.5,
          292.5,
          307.5,
          322.5,
          337.5,
          352.5,
          7.5
         ],
         "type": "scatterpolar"
        },
        {
         "customdata": [
          [
           1.0706751054852321,
           7.5
          ],
          [
           0.8660337552742616,
           22.5
          ],
          [
           0.6656118143459916,
           37.5
          ],
          [
           0.5654008438818565,
           52.5
          ],
          [
           0.4219409282700422,
           67.5
          ],
          [
           0.3881856540084388,
           82.5
          ],
          [
           0.33860759493670883,
           97.5
          ],
          [
           0.2921940928270042,
           112.5
          ],
          [
           0.43143459915611815,
           127.5
          ],
          [
           0.6244725738396625,
           142.5
          ],
          [
           1.0569620253164558,
           157.5
          ],
          [
           1.3818565400843883,
           172.5
          ],
          [
           1.5537974683544304,
           187.5
          ],
          [
           1.7774261603375527,
           202.5
          ],
          [
           1.9567510548523206,
           217.5
          ],
          [
           2.2246835443037973,
           232.5
          ],
          [
           2.311181434599156,
           247.5
          ],
          [
           2.3238396624472575,
           262.5
          ],
          [
           2.2130801687763713,
           277.5
          ],
          [
           2.0474683544303796,
           292.5
          ],
          [
           1.7120253164556962,
           307.5
          ],
          [
           1.6075949367088607,
           322.5
          ],
          [
           1.4261603375527425,
           337.5
          ],
          [
           1.1909282700421941,
           352.5
          ],
          [
           1.0706751054852321,
           7.5
          ]
         ],
         "hovertemplate": "Day Type=Weekend<br>Trip Type=Arrivals<br>Trips=%{customdata[0]:.2f}<extra></extra>",
         "legendgroup": "Weekend, Arrivals",
         "line": {
          "color": "#EF553B",
          "dash": "dot"
         },
         "marker": {
          "symbol": "circle"
         },
         "mode": "lines",
         "name": "Weekend, Arrivals",
         "r": [
          1.0706751054852321,
          0.8660337552742616,
          0.6656118143459916,
          0.5654008438818565,
          0.4219409282700422,
          0.3881856540084388,
          0.33860759493670883,
          0.2921940928270042,
          0.43143459915611815,
          0.6244725738396625,
          1.0569620253164558,
          1.3818565400843883,
          1.5537974683544304,
          1.7774261603375527,
          1.9567510548523206,
          2.2246835443037973,
          2.311181434599156,
          2.3238396624472575,
          2.2130801687763713,
          2.0474683544303796,
          1.7120253164556962,
          1.6075949367088607,
          1.4261603375527425,
          1.1909282700421941,
          1.0706751054852321
         ],
         "showlegend": true,
         "subplot": "polar",
         "theta": [
          7.5,
          22.5,
          37.5,
          52.5,
          67.5,
          82.5,
          97.5,
          112.5,
          127.5,
          142.5,
          157.5,
          172.5,
          187.5,
          202.5,
          217.5,
          232.5,
          247.5,
          262.5,
          277.5,
          292.5,
          307.5,
          322.5,
          337.5,
          352.5,
          7.5
         ],
         "type": "scatterpolar"
        }
       ],
       "layout": {
        "height": 600,
        "legend": {
         "title": {
          "text": ""
         },
         "tracegroupgap": 0
        },
        "margin": {
         "b": 25,
         "l": 0,
         "r": 0,
         "t": 50
        },
        "polar": {
         "angularaxis": {
          "direction": "clockwise",
          "rotation": -90,
          "tickmode": "array",
          "ticktext": [
           "12 AM",
           "1 AM",
           "2 AM",
           "3 AM",
           "4 AM",
           "5 AM",
           "6 AM",
           "7 AM",
           "8 AM",
           "9 AM",
           "10 AM",
           "11 AM",
           "12 PM",
           "1 PM",
           "2 PM",
           "3 PM",
           "4 PM",
           "5 PM",
           "6 PM",
           "7 PM",
           "8 PM",
           "9 PM",
           "10 PM",
           "11 PM"
          ],
          "tickvals": [
           0,
           15,
           30,
           45,
           60,
           75,
           90,
           105,
           120,
           135,
           150,
           165,
           180,
           195,
           210,
           225,
           240,
           255,
           270,
           285,
           300,
           315,
           330,
           345
          ]
         },
         "domain": {
          "x": [
           0,
           1
          ],
          "y": [
           0,
           1
          ]
         }
        },
        "template": {
         "data": {
          "bar": [
           {
            "error_x": {
             "color": "#2a3f5f"
            },
            "error_y": {
             "color": "#2a3f5f"
            },
            "marker": {
             "line": {
              "color": "#E5ECF6",
              "width": 0.5
             },
             "pattern": {
              "fillmode": "overlay",
              "size": 10,
              "solidity": 0.2
             }
            },
            "type": "bar"
           }
          ],
          "barpolar": [
           {
            "marker": {
             "line": {
              "color": "#E5ECF6",
              "width": 0.5
             },
             "pattern": {
              "fillmode": "overlay",
              "size": 10,
              "solidity": 0.2
             }
            },
            "type": "barpolar"
           }
          ],
          "carpet": [
           {
            "aaxis": {
             "endlinecolor": "#2a3f5f",
             "gridcolor": "white",
             "linecolor": "white",
             "minorgridcolor": "white",
             "startlinecolor": "#2a3f5f"
            },
            "baxis": {
             "endlinecolor": "#2a3f5f",
             "gridcolor": "white",
             "linecolor": "white",
             "minorgridcolor": "white",
             "startlinecolor": "#2a3f5f"
            },
            "type": "carpet"
           }
          ],
          "choropleth": [
           {
            "colorbar": {
             "outlinewidth": 0,
             "ticks": ""
            },
            "type": "choropleth"
           }
          ],
          "contour": [
           {
            "colorbar": {
             "outlinewidth": 0,
             "ticks": ""
            },
            "colorscale": [
             [
              0,
              "#0d0887"
             ],
             [
              0.1111111111111111,
              "#46039f"
             ],
             [
              0.2222222222222222,
              "#7201a8"
             ],
             [
              0.3333333333333333,
              "#9c179e"
             ],
             [
              0.4444444444444444,
              "#bd3786"
             ],
             [
              0.5555555555555556,
              "#d8576b"
             ],
             [
              0.6666666666666666,
              "#ed7953"
             ],
             [
              0.7777777777777778,
              "#fb9f3a"
             ],
             [
              0.8888888888888888,
              "#fdca26"
             ],
             [
              1,
              "#f0f921"
             ]
            ],
            "type": "contour"
           }
          ],
          "contourcarpet": [
           {
            "colorbar": {
             "outlinewidth": 0,
             "ticks": ""
            },
            "type": "contourcarpet"
           }
          ],
          "heatmap": [
           {
            "colorbar": {
             "outlinewidth": 0,
             "ticks": ""
            },
            "colorscale": [
             [
              0,
              "#0d0887"
             ],
             [
              0.1111111111111111,
              "#46039f"
             ],
             [
              0.2222222222222222,
              "#7201a8"
             ],
             [
              0.3333333333333333,
              "#9c179e"
             ],
             [
              0.4444444444444444,
              "#bd3786"
             ],
             [
              0.5555555555555556,
              "#d8576b"
             ],
             [
              0.6666666666666666,
              "#ed7953"
             ],
             [
              0.7777777777777778,
              "#fb9f3a"
             ],
             [
              0.8888888888888888,
              "#fdca26"
             ],
             [
              1,
              "#f0f921"
             ]
            ],
            "type": "heatmap"
           }
          ],
          "heatmapgl": [
           {
            "colorbar": {
             "outlinewidth": 0,
             "ticks": ""
            },
            "colorscale": [
             [
              0,
              "#0d0887"
             ],
             [
              0.1111111111111111,
              "#46039f"
             ],
             [
              0.2222222222222222,
              "#7201a8"
             ],
             [
              0.3333333333333333,
              "#9c179e"
             ],
             [
              0.4444444444444444,
              "#bd3786"
             ],
             [
              0.5555555555555556,
              "#d8576b"
             ],
             [
              0.6666666666666666,
              "#ed7953"
             ],
             [
              0.7777777777777778,
              "#fb9f3a"
             ],
             [
              0.8888888888888888,
              "#fdca26"
             ],
             [
              1,
              "#f0f921"
             ]
            ],
            "type": "heatmapgl"
           }
          ],
          "histogram": [
           {
            "marker": {
             "pattern": {
              "fillmode": "overlay",
              "size": 10,
              "solidity": 0.2
             }
            },
            "type": "histogram"
           }
          ],
          "histogram2d": [
           {
            "colorbar": {
             "outlinewidth": 0,
             "ticks": ""
            },
            "colorscale": [
             [
              0,
              "#0d0887"
             ],
             [
              0.1111111111111111,
              "#46039f"
             ],
             [
              0.2222222222222222,
              "#7201a8"
             ],
             [
              0.3333333333333333,
              "#9c179e"
             ],
             [
              0.4444444444444444,
              "#bd3786"
             ],
             [
              0.5555555555555556,
              "#d8576b"
             ],
             [
              0.6666666666666666,
              "#ed7953"
             ],
             [
              0.7777777777777778,
              "#fb9f3a"
             ],
             [
              0.8888888888888888,
              "#fdca26"
             ],
             [
              1,
              "#f0f921"
             ]
            ],
            "type": "histogram2d"
           }
          ],
          "histogram2dcontour": [
           {
            "colorbar": {
             "outlinewidth": 0,
             "ticks": ""
            },
            "colorscale": [
             [
              0,
              "#0d0887"
             ],
             [
              0.1111111111111111,
              "#46039f"
             ],
             [
              0.2222222222222222,
              "#7201a8"
             ],
             [
              0.3333333333333333,
              "#9c179e"
             ],
             [
              0.4444444444444444,
              "#bd3786"
             ],
             [
              0.5555555555555556,
              "#d8576b"
             ],
             [
              0.6666666666666666,
              "#ed7953"
             ],
             [
              0.7777777777777778,
              "#fb9f3a"
             ],
             [
              0.8888888888888888,
              "#fdca26"
             ],
             [
              1,
              "#f0f921"
             ]
            ],
            "type": "histogram2dcontour"
           }
          ],
          "mesh3d": [
           {
            "colorbar": {
             "outlinewidth": 0,
             "ticks": ""
            },
            "type": "mesh3d"
           }
          ],
          "parcoords": [
           {
            "line": {
             "colorbar": {
              "outlinewidth": 0,
              "ticks": ""
             }
            },
            "type": "parcoords"
           }
          ],
          "pie": [
           {
            "automargin": true,
            "type": "pie"
           }
          ],
          "scatter": [
           {
            "fillpattern": {
             "fillmode": "overlay",
             "size": 10,
             "solidity": 0.2
            },
            "type": "scatter"
           }
          ],
          "scatter3d": [
           {
            "line": {
             "colorbar": {
              "outlinewidth": 0,
              "ticks": ""
             }
            },
            "marker": {
             "colorbar": {
              "outlinewidth": 0,
              "ticks": ""
             }
            },
            "type": "scatter3d"
           }
          ],
          "scattercarpet": [
           {
            "marker": {
             "colorbar": {
              "outlinewidth": 0,
              "ticks": ""
             }
            },
            "type": "scattercarpet"
           }
          ],
          "scattergeo": [
           {
            "marker": {
             "colorbar": {
              "outlinewidth": 0,
              "ticks": ""
             }
            },
            "type": "scattergeo"
           }
          ],
          "scattergl": [
           {
            "marker": {
             "colorbar": {
              "outlinewidth": 0,
              "ticks": ""
             }
            },
            "type": "scattergl"
           }
          ],
          "scattermapbox": [
           {
            "marker": {
             "colorbar": {
              "outlinewidth": 0,
              "ticks": ""
             }
            },
            "type": "scattermapbox"
           }
          ],
          "scatterpolar": [
           {
            "marker": {
             "colorbar": {
              "outlinewidth": 0,
              "ticks": ""
             }
            },
            "type": "scatterpolar"
           }
          ],
          "scatterpolargl": [
           {
            "marker": {
             "colorbar": {
              "outlinewidth": 0,
              "ticks": ""
             }
            },
            "type": "scatterpolargl"
           }
          ],
          "scatterternary": [
           {
            "marker": {
             "colorbar": {
              "outlinewidth": 0,
              "ticks": ""
             }
            },
            "type": "scatterternary"
           }
          ],
          "surface": [
           {
            "colorbar": {
             "outlinewidth": 0,
             "ticks": ""
            },
            "colorscale": [
             [
              0,
              "#0d0887"
             ],
             [
              0.1111111111111111,
              "#46039f"
             ],
             [
              0.2222222222222222,
              "#7201a8"
             ],
             [
              0.3333333333333333,
              "#9c179e"
             ],
             [
              0.4444444444444444,
              "#bd3786"
             ],
             [
              0.5555555555555556,
              "#d8576b"
             ],
             [
              0.6666666666666666,
              "#ed7953"
             ],
             [
              0.7777777777777778,
              "#fb9f3a"
             ],
             [
              0.8888888888888888,
              "#fdca26"
             ],
             [
              1,
              "#f0f921"
             ]
            ],
            "type": "surface"
           }
          ],
          "table": [
           {
            "cells": {
             "fill": {
              "color": "#EBF0F8"
             },
             "line": {
              "color": "white"
             }
            },
            "header": {
             "fill": {
              "color": "#C8D4E3"
             },
             "line": {
              "color": "white"
             }
            },
            "type": "table"
           }
          ]
         },
         "layout": {
          "annotationdefaults": {
           "arrowcolor": "#2a3f5f",
           "arrowhead": 0,
           "arrowwidth": 1
          },
          "autotypenumbers": "strict",
          "coloraxis": {
           "colorbar": {
            "outlinewidth": 0,
            "ticks": ""
           }
          },
          "colorscale": {
           "diverging": [
            [
             0,
             "#8e0152"
            ],
            [
             0.1,
             "#c51b7d"
            ],
            [
             0.2,
             "#de77ae"
            ],
            [
             0.3,
             "#f1b6da"
            ],
            [
             0.4,
             "#fde0ef"
            ],
            [
             0.5,
             "#f7f7f7"
            ],
            [
             0.6,
             "#e6f5d0"
            ],
            [
             0.7,
             "#b8e186"
            ],
            [
             0.8,
             "#7fbc41"
            ],
            [
             0.9,
             "#4d9221"
            ],
            [
             1,
             "#276419"
            ]
           ],
           "sequential": [
            [
             0,
             "#0d0887"
            ],
            [
             0.1111111111111111,
             "#46039f"
            ],
            [
             0.2222222222222222,
             "#7201a8"
            ],
            [
             0.3333333333333333,
             "#9c179e"
            ],
            [
             0.4444444444444444,
             "#bd3786"
            ],
            [
             0.5555555555555556,
             "#d8576b"
            ],
            [
             0.6666666666666666,
             "#ed7953"
            ],
            [
             0.7777777777777778,
             "#fb9f3a"
            ],
            [
             0.8888888888888888,
             "#fdca26"
            ],
            [
             1,
             "#f0f921"
            ]
           ],
           "sequentialminus": [
            [
             0,
             "#0d0887"
            ],
            [
             0.1111111111111111,
             "#46039f"
            ],
            [
             0.2222222222222222,
             "#7201a8"
            ],
            [
             0.3333333333333333,
             "#9c179e"
            ],
            [
             0.4444444444444444,
             "#bd3786"
            ],
            [
             0.5555555555555556,
             "#d8576b"
            ],
            [
             0.6666666666666666,
             "#ed7953"
            ],
            [
             0.7777777777777778,
             "#fb9f3a"
            ],
            [
             0.8888888888888888,
             "#fdca26"
            ],
            [
             1,
             "#f0f921"
            ]
           ]
          },
          "colorway": [
           "#636efa",
           "#EF553B",
           "#00cc96",
           "#ab63fa",
           "#FFA15A",
           "#19d3f3",
           "#FF6692",
           "#B6E880",
           "#FF97FF",
           "#FECB52"
          ],
          "font": {
           "color": "#2a3f5f"
          },
          "geo": {
           "bgcolor": "white",
           "lakecolor": "white",
           "landcolor": "#E5ECF6",
           "showlakes": true,
           "showland": true,
           "subunitcolor": "white"
          },
          "hoverlabel": {
           "align": "left"
          },
          "hovermode": "closest",
          "mapbox": {
           "style": "light"
          },
          "paper_bgcolor": "white",
          "plot_bgcolor": "#E5ECF6",
          "polar": {
           "angularaxis": {
            "gridcolor": "white",
            "linecolor": "white",
            "ticks": ""
           },
           "bgcolor": "#E5ECF6",
           "radialaxis": {
            "gridcolor": "white",
            "linecolor": "white",
            "ticks": ""
           }
          },
          "scene": {
           "xaxis": {
            "backgroundcolor": "#E5ECF6",
            "gridcolor": "white",
            "gridwidth": 2,
            "linecolor": "white",
            "showbackground": true,
            "ticks": "",
            "zerolinecolor": "white"
           },
           "yaxis": {
            "backgroundcolor": "#E5ECF6",
            "gridcolor": "white",
            "gridwidth": 2,
            "linecolor": "white",
            "showbackground": true,
            "ticks": "",
            "zerolinecolor": "white"
           },
           "zaxis": {
            "backgroundcolor": "#E5ECF6",
            "gridcolor": "white",
            "gridwidth": 2,
            "linecolor": "white",
            "showbackground": true,
            "ticks": "",
            "zerolinecolor": "white"
           }
          },
          "shapedefaults": {
           "line": {
            "color": "#2a3f5f"
           }
          },
          "ternary": {
           "aaxis": {
            "gridcolor": "white",
            "linecolor": "white",
            "ticks": ""
           },
           "baxis": {
            "gridcolor": "white",
            "linecolor": "white",
            "ticks": ""
           },
           "bgcolor": "#E5ECF6",
           "caxis": {
            "gridcolor": "white",
            "linecolor": "white",
            "ticks": ""
           }
          },
          "title": {
           "x": 0.05
          },
          "xaxis": {
           "automargin": true,
           "gridcolor": "white",
           "linecolor": "white",
           "ticks": "",
           "title": {
            "standoff": 15
           },
           "zerolinecolor": "white",
           "zerolinewidth": 2
          },
          "yaxis": {
           "automargin": true,
           "gridcolor": "white",
           "linecolor": "white",
           "ticks": "",
           "title": {
            "standoff": 15
           },
           "zerolinecolor": "white",
           "zerolinewidth": 2
          }
         }
        },
        "title": {
         "text": "Hourly Bluebike Trips Near Hiscock Park"
        },
        "width": 800
       }
      }
     },
     "metadata": {},
     "output_type": "display_data"
    },
    {
     "name": "stdout",
     "output_type": "stream",
     "text": [
      "No stations within 0.3 km of Kennedy Library Harborwalk\n",
      "No stations within 0.3 km of Hannon Playground\n",
      "1 nearest station to Worcester Square: Washington St at Rutland St\n"
     ]
    },
    {
     "ename": "KeyboardInterrupt",
     "evalue": "",
     "output_type": "error",
     "traceback": [
      "\u001b[0;31m---------------------------------------------------------------------------\u001b[0m",
      "\u001b[0;31mKeyboardInterrupt\u001b[0m                         Traceback (most recent call last)",
      "\u001b[0;32m/var/folders/s2/j51485yj36jd10p_lm_r9l_00000gn/T/ipykernel_15614/1691295758.py\u001b[0m in \u001b[0;36m<module>\u001b[0;34m\u001b[0m\n\u001b[1;32m      1\u001b[0m \u001b[0;32mfor\u001b[0m \u001b[0mc\u001b[0m \u001b[0;32min\u001b[0m \u001b[0mnp\u001b[0m\u001b[0;34m.\u001b[0m\u001b[0mrandom\u001b[0m\u001b[0;34m.\u001b[0m\u001b[0mchoice\u001b[0m\u001b[0;34m(\u001b[0m\u001b[0mopen_spaces\u001b[0m\u001b[0;34m[\u001b[0m\u001b[0;34m'Name'\u001b[0m\u001b[0;34m]\u001b[0m\u001b[0;34m,\u001b[0m \u001b[0;36m25\u001b[0m\u001b[0;34m)\u001b[0m\u001b[0;34m:\u001b[0m\u001b[0;34m\u001b[0m\u001b[0;34m\u001b[0m\u001b[0m\n\u001b[0;32m----> 2\u001b[0;31m     \u001b[0mplot_activity\u001b[0m\u001b[0;34m(\u001b[0m\u001b[0mc\u001b[0m\u001b[0;34m)\u001b[0m\u001b[0;34m\u001b[0m\u001b[0;34m\u001b[0m\u001b[0m\n\u001b[0m",
      "\u001b[0;32m/var/folders/s2/j51485yj36jd10p_lm_r9l_00000gn/T/ipykernel_15614/1527313602.py\u001b[0m in \u001b[0;36mplot_activity\u001b[0;34m(open_space)\u001b[0m\n\u001b[1;32m      3\u001b[0m     \u001b[0;32mif\u001b[0m \u001b[0mlen\u001b[0m\u001b[0;34m(\u001b[0m\u001b[0mstation_names\u001b[0m\u001b[0;34m)\u001b[0m \u001b[0;34m==\u001b[0m \u001b[0;36m0\u001b[0m\u001b[0;34m:\u001b[0m\u001b[0;34m\u001b[0m\u001b[0;34m\u001b[0m\u001b[0m\n\u001b[1;32m      4\u001b[0m         \u001b[0;32mreturn\u001b[0m\u001b[0;34m\u001b[0m\u001b[0;34m\u001b[0m\u001b[0m\n\u001b[0;32m----> 5\u001b[0;31m     \u001b[0mselected_stations\u001b[0m \u001b[0;34m=\u001b[0m \u001b[0mcombined_trips\u001b[0m\u001b[0;34m.\u001b[0m\u001b[0mloc\u001b[0m\u001b[0;34m[\u001b[0m\u001b[0;34m(\u001b[0m\u001b[0mcombined_trips\u001b[0m\u001b[0;34m[\u001b[0m\u001b[0;34m'start_station_name'\u001b[0m\u001b[0;34m]\u001b[0m\u001b[0;34m.\u001b[0m\u001b[0misin\u001b[0m\u001b[0;34m(\u001b[0m\u001b[0mstation_names\u001b[0m\u001b[0;34m)\u001b[0m\u001b[0;34m)\u001b[0m \u001b[0;34m|\u001b[0m \u001b[0;34m(\u001b[0m\u001b[0mcombined_trips\u001b[0m\u001b[0;34m[\u001b[0m\u001b[0;34m'end_station_name'\u001b[0m\u001b[0;34m]\u001b[0m\u001b[0;34m.\u001b[0m\u001b[0misin\u001b[0m\u001b[0;34m(\u001b[0m\u001b[0mstation_names\u001b[0m\u001b[0;34m)\u001b[0m\u001b[0;34m)\u001b[0m\u001b[0;34m]\u001b[0m\u001b[0;34m\u001b[0m\u001b[0;34m\u001b[0m\u001b[0m\n\u001b[0m\u001b[1;32m      6\u001b[0m     \u001b[0mweekday\u001b[0m \u001b[0;34m=\u001b[0m \u001b[0mselected_stations\u001b[0m\u001b[0;34m.\u001b[0m\u001b[0mloc\u001b[0m\u001b[0;34m[\u001b[0m\u001b[0mselected_stations\u001b[0m\u001b[0;34m[\u001b[0m\u001b[0;34m'ended_at'\u001b[0m\u001b[0;34m]\u001b[0m\u001b[0;34m.\u001b[0m\u001b[0mdt\u001b[0m\u001b[0;34m.\u001b[0m\u001b[0mday_of_week\u001b[0m \u001b[0;34m<\u001b[0m \u001b[0;36m5\u001b[0m\u001b[0;34m]\u001b[0m\u001b[0;34m\u001b[0m\u001b[0;34m\u001b[0m\u001b[0m\n\u001b[1;32m      7\u001b[0m     \u001b[0mweekend\u001b[0m \u001b[0;34m=\u001b[0m \u001b[0mselected_stations\u001b[0m\u001b[0;34m.\u001b[0m\u001b[0mloc\u001b[0m\u001b[0;34m[\u001b[0m\u001b[0mselected_stations\u001b[0m\u001b[0;34m[\u001b[0m\u001b[0;34m'ended_at'\u001b[0m\u001b[0;34m]\u001b[0m\u001b[0;34m.\u001b[0m\u001b[0mdt\u001b[0m\u001b[0;34m.\u001b[0m\u001b[0mday_of_week\u001b[0m \u001b[0;34m>=\u001b[0m \u001b[0;36m5\u001b[0m\u001b[0;34m]\u001b[0m\u001b[0;34m\u001b[0m\u001b[0;34m\u001b[0m\u001b[0m\n",
      "\u001b[0;32m~/opt/anaconda3/lib/python3.9/site-packages/pandas/core/indexing.py\u001b[0m in \u001b[0;36m__getitem__\u001b[0;34m(self, key)\u001b[0m\n\u001b[1;32m    965\u001b[0m \u001b[0;34m\u001b[0m\u001b[0m\n\u001b[1;32m    966\u001b[0m             \u001b[0mmaybe_callable\u001b[0m \u001b[0;34m=\u001b[0m \u001b[0mcom\u001b[0m\u001b[0;34m.\u001b[0m\u001b[0mapply_if_callable\u001b[0m\u001b[0;34m(\u001b[0m\u001b[0mkey\u001b[0m\u001b[0;34m,\u001b[0m \u001b[0mself\u001b[0m\u001b[0;34m.\u001b[0m\u001b[0mobj\u001b[0m\u001b[0;34m)\u001b[0m\u001b[0;34m\u001b[0m\u001b[0;34m\u001b[0m\u001b[0m\n\u001b[0;32m--> 967\u001b[0;31m             \u001b[0;32mreturn\u001b[0m \u001b[0mself\u001b[0m\u001b[0;34m.\u001b[0m\u001b[0m_getitem_axis\u001b[0m\u001b[0;34m(\u001b[0m\u001b[0mmaybe_callable\u001b[0m\u001b[0;34m,\u001b[0m \u001b[0maxis\u001b[0m\u001b[0;34m=\u001b[0m\u001b[0maxis\u001b[0m\u001b[0;34m)\u001b[0m\u001b[0;34m\u001b[0m\u001b[0;34m\u001b[0m\u001b[0m\n\u001b[0m\u001b[1;32m    968\u001b[0m \u001b[0;34m\u001b[0m\u001b[0m\n\u001b[1;32m    969\u001b[0m     \u001b[0;32mdef\u001b[0m \u001b[0m_is_scalar_access\u001b[0m\u001b[0;34m(\u001b[0m\u001b[0mself\u001b[0m\u001b[0;34m,\u001b[0m \u001b[0mkey\u001b[0m\u001b[0;34m:\u001b[0m \u001b[0mtuple\u001b[0m\u001b[0;34m)\u001b[0m\u001b[0;34m:\u001b[0m\u001b[0;34m\u001b[0m\u001b[0;34m\u001b[0m\u001b[0m\n",
      "\u001b[0;32m~/opt/anaconda3/lib/python3.9/site-packages/pandas/core/indexing.py\u001b[0m in \u001b[0;36m_getitem_axis\u001b[0;34m(self, key, axis)\u001b[0m\n\u001b[1;32m   1183\u001b[0m             \u001b[0;32mreturn\u001b[0m \u001b[0mself\u001b[0m\u001b[0;34m.\u001b[0m\u001b[0m_get_slice_axis\u001b[0m\u001b[0;34m(\u001b[0m\u001b[0mkey\u001b[0m\u001b[0;34m,\u001b[0m \u001b[0maxis\u001b[0m\u001b[0;34m=\u001b[0m\u001b[0maxis\u001b[0m\u001b[0;34m)\u001b[0m\u001b[0;34m\u001b[0m\u001b[0;34m\u001b[0m\u001b[0m\n\u001b[1;32m   1184\u001b[0m         \u001b[0;32melif\u001b[0m \u001b[0mcom\u001b[0m\u001b[0;34m.\u001b[0m\u001b[0mis_bool_indexer\u001b[0m\u001b[0;34m(\u001b[0m\u001b[0mkey\u001b[0m\u001b[0;34m)\u001b[0m\u001b[0;34m:\u001b[0m\u001b[0;34m\u001b[0m\u001b[0;34m\u001b[0m\u001b[0m\n\u001b[0;32m-> 1185\u001b[0;31m             \u001b[0;32mreturn\u001b[0m \u001b[0mself\u001b[0m\u001b[0;34m.\u001b[0m\u001b[0m_getbool_axis\u001b[0m\u001b[0;34m(\u001b[0m\u001b[0mkey\u001b[0m\u001b[0;34m,\u001b[0m \u001b[0maxis\u001b[0m\u001b[0;34m=\u001b[0m\u001b[0maxis\u001b[0m\u001b[0;34m)\u001b[0m\u001b[0;34m\u001b[0m\u001b[0;34m\u001b[0m\u001b[0m\n\u001b[0m\u001b[1;32m   1186\u001b[0m         \u001b[0;32melif\u001b[0m \u001b[0mis_list_like_indexer\u001b[0m\u001b[0;34m(\u001b[0m\u001b[0mkey\u001b[0m\u001b[0;34m)\u001b[0m\u001b[0;34m:\u001b[0m\u001b[0;34m\u001b[0m\u001b[0;34m\u001b[0m\u001b[0m\n\u001b[1;32m   1187\u001b[0m \u001b[0;34m\u001b[0m\u001b[0m\n",
      "\u001b[0;32m~/opt/anaconda3/lib/python3.9/site-packages/pandas/core/indexing.py\u001b[0m in \u001b[0;36m_getbool_axis\u001b[0;34m(self, key, axis)\u001b[0m\n\u001b[1;32m    984\u001b[0m         \u001b[0mkey\u001b[0m \u001b[0;34m=\u001b[0m \u001b[0mcheck_bool_indexer\u001b[0m\u001b[0;34m(\u001b[0m\u001b[0mlabels\u001b[0m\u001b[0;34m,\u001b[0m \u001b[0mkey\u001b[0m\u001b[0;34m)\u001b[0m\u001b[0;34m\u001b[0m\u001b[0;34m\u001b[0m\u001b[0m\n\u001b[1;32m    985\u001b[0m         \u001b[0minds\u001b[0m \u001b[0;34m=\u001b[0m \u001b[0mkey\u001b[0m\u001b[0;34m.\u001b[0m\u001b[0mnonzero\u001b[0m\u001b[0;34m(\u001b[0m\u001b[0;34m)\u001b[0m\u001b[0;34m[\u001b[0m\u001b[0;36m0\u001b[0m\u001b[0;34m]\u001b[0m\u001b[0;34m\u001b[0m\u001b[0;34m\u001b[0m\u001b[0m\n\u001b[0;32m--> 986\u001b[0;31m         \u001b[0;32mreturn\u001b[0m \u001b[0mself\u001b[0m\u001b[0;34m.\u001b[0m\u001b[0mobj\u001b[0m\u001b[0;34m.\u001b[0m\u001b[0m_take_with_is_copy\u001b[0m\u001b[0;34m(\u001b[0m\u001b[0minds\u001b[0m\u001b[0;34m,\u001b[0m \u001b[0maxis\u001b[0m\u001b[0;34m=\u001b[0m\u001b[0maxis\u001b[0m\u001b[0;34m)\u001b[0m\u001b[0;34m\u001b[0m\u001b[0;34m\u001b[0m\u001b[0m\n\u001b[0m\u001b[1;32m    987\u001b[0m \u001b[0;34m\u001b[0m\u001b[0m\n\u001b[1;32m    988\u001b[0m \u001b[0;34m\u001b[0m\u001b[0m\n",
      "\u001b[0;32m~/opt/anaconda3/lib/python3.9/site-packages/pandas/core/generic.py\u001b[0m in \u001b[0;36m_take_with_is_copy\u001b[0;34m(self, indices, axis)\u001b[0m\n\u001b[1;32m   3714\u001b[0m         \u001b[0mSee\u001b[0m \u001b[0mthe\u001b[0m \u001b[0mdocstring\u001b[0m \u001b[0mof\u001b[0m\u001b[0;31m \u001b[0m\u001b[0;31m`\u001b[0m\u001b[0mtake\u001b[0m\u001b[0;31m`\u001b[0m \u001b[0;32mfor\u001b[0m \u001b[0mfull\u001b[0m \u001b[0mexplanation\u001b[0m \u001b[0mof\u001b[0m \u001b[0mthe\u001b[0m \u001b[0mparameters\u001b[0m\u001b[0;34m.\u001b[0m\u001b[0;34m\u001b[0m\u001b[0;34m\u001b[0m\u001b[0m\n\u001b[1;32m   3715\u001b[0m         \"\"\"\n\u001b[0;32m-> 3716\u001b[0;31m         \u001b[0mresult\u001b[0m \u001b[0;34m=\u001b[0m \u001b[0mself\u001b[0m\u001b[0;34m.\u001b[0m\u001b[0mtake\u001b[0m\u001b[0;34m(\u001b[0m\u001b[0mindices\u001b[0m\u001b[0;34m=\u001b[0m\u001b[0mindices\u001b[0m\u001b[0;34m,\u001b[0m \u001b[0maxis\u001b[0m\u001b[0;34m=\u001b[0m\u001b[0maxis\u001b[0m\u001b[0;34m)\u001b[0m\u001b[0;34m\u001b[0m\u001b[0;34m\u001b[0m\u001b[0m\n\u001b[0m\u001b[1;32m   3717\u001b[0m         \u001b[0;31m# Maybe set copy if we didn't actually change the index.\u001b[0m\u001b[0;34m\u001b[0m\u001b[0;34m\u001b[0m\u001b[0m\n\u001b[1;32m   3718\u001b[0m         \u001b[0;32mif\u001b[0m \u001b[0;32mnot\u001b[0m \u001b[0mresult\u001b[0m\u001b[0;34m.\u001b[0m\u001b[0m_get_axis\u001b[0m\u001b[0;34m(\u001b[0m\u001b[0maxis\u001b[0m\u001b[0;34m)\u001b[0m\u001b[0;34m.\u001b[0m\u001b[0mequals\u001b[0m\u001b[0;34m(\u001b[0m\u001b[0mself\u001b[0m\u001b[0;34m.\u001b[0m\u001b[0m_get_axis\u001b[0m\u001b[0;34m(\u001b[0m\u001b[0maxis\u001b[0m\u001b[0;34m)\u001b[0m\u001b[0;34m)\u001b[0m\u001b[0;34m:\u001b[0m\u001b[0;34m\u001b[0m\u001b[0;34m\u001b[0m\u001b[0m\n",
      "\u001b[0;32m~/opt/anaconda3/lib/python3.9/site-packages/pandas/core/generic.py\u001b[0m in \u001b[0;36mtake\u001b[0;34m(self, indices, axis, is_copy, **kwargs)\u001b[0m\n\u001b[1;32m   3701\u001b[0m         \u001b[0mself\u001b[0m\u001b[0;34m.\u001b[0m\u001b[0m_consolidate_inplace\u001b[0m\u001b[0;34m(\u001b[0m\u001b[0;34m)\u001b[0m\u001b[0;34m\u001b[0m\u001b[0;34m\u001b[0m\u001b[0m\n\u001b[1;32m   3702\u001b[0m \u001b[0;34m\u001b[0m\u001b[0m\n\u001b[0;32m-> 3703\u001b[0;31m         new_data = self._mgr.take(\n\u001b[0m\u001b[1;32m   3704\u001b[0m             \u001b[0mindices\u001b[0m\u001b[0;34m,\u001b[0m \u001b[0maxis\u001b[0m\u001b[0;34m=\u001b[0m\u001b[0mself\u001b[0m\u001b[0;34m.\u001b[0m\u001b[0m_get_block_manager_axis\u001b[0m\u001b[0;34m(\u001b[0m\u001b[0maxis\u001b[0m\u001b[0;34m)\u001b[0m\u001b[0;34m,\u001b[0m \u001b[0mverify\u001b[0m\u001b[0;34m=\u001b[0m\u001b[0;32mTrue\u001b[0m\u001b[0;34m\u001b[0m\u001b[0;34m\u001b[0m\u001b[0m\n\u001b[1;32m   3705\u001b[0m         )\n",
      "\u001b[0;32m~/opt/anaconda3/lib/python3.9/site-packages/pandas/core/internals/managers.py\u001b[0m in \u001b[0;36mtake\u001b[0;34m(self, indexer, axis, verify)\u001b[0m\n\u001b[1;32m    895\u001b[0m \u001b[0;34m\u001b[0m\u001b[0m\n\u001b[1;32m    896\u001b[0m         \u001b[0mnew_labels\u001b[0m \u001b[0;34m=\u001b[0m \u001b[0mself\u001b[0m\u001b[0;34m.\u001b[0m\u001b[0maxes\u001b[0m\u001b[0;34m[\u001b[0m\u001b[0maxis\u001b[0m\u001b[0;34m]\u001b[0m\u001b[0;34m.\u001b[0m\u001b[0mtake\u001b[0m\u001b[0;34m(\u001b[0m\u001b[0mindexer\u001b[0m\u001b[0;34m)\u001b[0m\u001b[0;34m\u001b[0m\u001b[0;34m\u001b[0m\u001b[0m\n\u001b[0;32m--> 897\u001b[0;31m         return self.reindex_indexer(\n\u001b[0m\u001b[1;32m    898\u001b[0m             \u001b[0mnew_axis\u001b[0m\u001b[0;34m=\u001b[0m\u001b[0mnew_labels\u001b[0m\u001b[0;34m,\u001b[0m\u001b[0;34m\u001b[0m\u001b[0;34m\u001b[0m\u001b[0m\n\u001b[1;32m    899\u001b[0m             \u001b[0mindexer\u001b[0m\u001b[0;34m=\u001b[0m\u001b[0mindexer\u001b[0m\u001b[0;34m,\u001b[0m\u001b[0;34m\u001b[0m\u001b[0;34m\u001b[0m\u001b[0m\n",
      "\u001b[0;32m~/opt/anaconda3/lib/python3.9/site-packages/pandas/core/internals/managers.py\u001b[0m in \u001b[0;36mreindex_indexer\u001b[0;34m(self, new_axis, indexer, axis, fill_value, allow_dups, copy, consolidate, only_slice, use_na_proxy)\u001b[0m\n\u001b[1;32m    687\u001b[0m             )\n\u001b[1;32m    688\u001b[0m         \u001b[0;32melse\u001b[0m\u001b[0;34m:\u001b[0m\u001b[0;34m\u001b[0m\u001b[0;34m\u001b[0m\u001b[0m\n\u001b[0;32m--> 689\u001b[0;31m             new_blocks = [\n\u001b[0m\u001b[1;32m    690\u001b[0m                 blk.take_nd(\n\u001b[1;32m    691\u001b[0m                     \u001b[0mindexer\u001b[0m\u001b[0;34m,\u001b[0m\u001b[0;34m\u001b[0m\u001b[0;34m\u001b[0m\u001b[0m\n",
      "\u001b[0;32m~/opt/anaconda3/lib/python3.9/site-packages/pandas/core/internals/managers.py\u001b[0m in \u001b[0;36m<listcomp>\u001b[0;34m(.0)\u001b[0m\n\u001b[1;32m    688\u001b[0m         \u001b[0;32melse\u001b[0m\u001b[0;34m:\u001b[0m\u001b[0;34m\u001b[0m\u001b[0;34m\u001b[0m\u001b[0m\n\u001b[1;32m    689\u001b[0m             new_blocks = [\n\u001b[0;32m--> 690\u001b[0;31m                 blk.take_nd(\n\u001b[0m\u001b[1;32m    691\u001b[0m                     \u001b[0mindexer\u001b[0m\u001b[0;34m,\u001b[0m\u001b[0;34m\u001b[0m\u001b[0;34m\u001b[0m\u001b[0m\n\u001b[1;32m    692\u001b[0m                     \u001b[0maxis\u001b[0m\u001b[0;34m=\u001b[0m\u001b[0;36m1\u001b[0m\u001b[0;34m,\u001b[0m\u001b[0;34m\u001b[0m\u001b[0;34m\u001b[0m\u001b[0m\n",
      "\u001b[0;32m~/opt/anaconda3/lib/python3.9/site-packages/pandas/core/internals/blocks.py\u001b[0m in \u001b[0;36mtake_nd\u001b[0;34m(self, indexer, axis, new_mgr_locs, fill_value)\u001b[0m\n\u001b[1;32m   1137\u001b[0m             \u001b[0mallow_fill\u001b[0m \u001b[0;34m=\u001b[0m \u001b[0;32mTrue\u001b[0m\u001b[0;34m\u001b[0m\u001b[0;34m\u001b[0m\u001b[0m\n\u001b[1;32m   1138\u001b[0m \u001b[0;34m\u001b[0m\u001b[0m\n\u001b[0;32m-> 1139\u001b[0;31m         new_values = algos.take_nd(\n\u001b[0m\u001b[1;32m   1140\u001b[0m             \u001b[0mvalues\u001b[0m\u001b[0;34m,\u001b[0m \u001b[0mindexer\u001b[0m\u001b[0;34m,\u001b[0m \u001b[0maxis\u001b[0m\u001b[0;34m=\u001b[0m\u001b[0maxis\u001b[0m\u001b[0;34m,\u001b[0m \u001b[0mallow_fill\u001b[0m\u001b[0;34m=\u001b[0m\u001b[0mallow_fill\u001b[0m\u001b[0;34m,\u001b[0m \u001b[0mfill_value\u001b[0m\u001b[0;34m=\u001b[0m\u001b[0mfill_value\u001b[0m\u001b[0;34m\u001b[0m\u001b[0;34m\u001b[0m\u001b[0m\n\u001b[1;32m   1141\u001b[0m         )\n",
      "\u001b[0;32m~/opt/anaconda3/lib/python3.9/site-packages/pandas/core/array_algos/take.py\u001b[0m in \u001b[0;36mtake_nd\u001b[0;34m(arr, indexer, axis, fill_value, allow_fill)\u001b[0m\n\u001b[1;32m    115\u001b[0m \u001b[0;34m\u001b[0m\u001b[0m\n\u001b[1;32m    116\u001b[0m     \u001b[0marr\u001b[0m \u001b[0;34m=\u001b[0m \u001b[0mnp\u001b[0m\u001b[0;34m.\u001b[0m\u001b[0masarray\u001b[0m\u001b[0;34m(\u001b[0m\u001b[0marr\u001b[0m\u001b[0;34m)\u001b[0m\u001b[0;34m\u001b[0m\u001b[0;34m\u001b[0m\u001b[0m\n\u001b[0;32m--> 117\u001b[0;31m     \u001b[0;32mreturn\u001b[0m \u001b[0m_take_nd_ndarray\u001b[0m\u001b[0;34m(\u001b[0m\u001b[0marr\u001b[0m\u001b[0;34m,\u001b[0m \u001b[0mindexer\u001b[0m\u001b[0;34m,\u001b[0m \u001b[0maxis\u001b[0m\u001b[0;34m,\u001b[0m \u001b[0mfill_value\u001b[0m\u001b[0;34m,\u001b[0m \u001b[0mallow_fill\u001b[0m\u001b[0;34m)\u001b[0m\u001b[0;34m\u001b[0m\u001b[0;34m\u001b[0m\u001b[0m\n\u001b[0m\u001b[1;32m    118\u001b[0m \u001b[0;34m\u001b[0m\u001b[0m\n\u001b[1;32m    119\u001b[0m \u001b[0;34m\u001b[0m\u001b[0m\n",
      "\u001b[0;32m~/opt/anaconda3/lib/python3.9/site-packages/pandas/core/array_algos/take.py\u001b[0m in \u001b[0;36m_take_nd_ndarray\u001b[0;34m(arr, indexer, axis, fill_value, allow_fill)\u001b[0m\n\u001b[1;32m    161\u001b[0m         \u001b[0marr\u001b[0m\u001b[0;34m.\u001b[0m\u001b[0mndim\u001b[0m\u001b[0;34m,\u001b[0m \u001b[0marr\u001b[0m\u001b[0;34m.\u001b[0m\u001b[0mdtype\u001b[0m\u001b[0;34m,\u001b[0m \u001b[0mout\u001b[0m\u001b[0;34m.\u001b[0m\u001b[0mdtype\u001b[0m\u001b[0;34m,\u001b[0m \u001b[0maxis\u001b[0m\u001b[0;34m=\u001b[0m\u001b[0maxis\u001b[0m\u001b[0;34m,\u001b[0m \u001b[0mmask_info\u001b[0m\u001b[0;34m=\u001b[0m\u001b[0mmask_info\u001b[0m\u001b[0;34m\u001b[0m\u001b[0;34m\u001b[0m\u001b[0m\n\u001b[1;32m    162\u001b[0m     )\n\u001b[0;32m--> 163\u001b[0;31m     \u001b[0mfunc\u001b[0m\u001b[0;34m(\u001b[0m\u001b[0marr\u001b[0m\u001b[0;34m,\u001b[0m \u001b[0mindexer\u001b[0m\u001b[0;34m,\u001b[0m \u001b[0mout\u001b[0m\u001b[0;34m,\u001b[0m \u001b[0mfill_value\u001b[0m\u001b[0;34m)\u001b[0m\u001b[0;34m\u001b[0m\u001b[0;34m\u001b[0m\u001b[0m\n\u001b[0m\u001b[1;32m    164\u001b[0m \u001b[0;34m\u001b[0m\u001b[0m\n\u001b[1;32m    165\u001b[0m     \u001b[0;32mif\u001b[0m \u001b[0mflip_order\u001b[0m\u001b[0;34m:\u001b[0m\u001b[0;34m\u001b[0m\u001b[0;34m\u001b[0m\u001b[0m\n",
      "\u001b[0;31mKeyboardInterrupt\u001b[0m: "
     ]
    }
   ],
   "source": [
    "for c in np.random.choice(open_spaces['Name'], 25):\n",
    "    plot_activity(c)"
   ]
  }
 ],
 "metadata": {
  "kernelspec": {
   "display_name": "base",
   "language": "python",
   "name": "python3"
  },
  "language_info": {
   "codemirror_mode": {
    "name": "ipython",
    "version": 3
   },
   "file_extension": ".py",
   "mimetype": "text/x-python",
   "name": "python",
   "nbconvert_exporter": "python",
   "pygments_lexer": "ipython3",
   "version": "3.9.13"
  }
 },
 "nbformat": 4,
 "nbformat_minor": 2
}
