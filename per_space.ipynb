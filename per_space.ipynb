{
 "cells": [
  {
   "cell_type": "code",
   "execution_count": 1,
   "metadata": {},
   "outputs": [],
   "source": [
    "import numpy as np\n",
    "import pandas as pd\n",
    "import plotly.express as px\n",
    "from plot_hourly_activity import *"
   ]
  },
  {
   "cell_type": "code",
   "execution_count": 2,
   "metadata": {},
   "outputs": [],
   "source": [
    "open_spaces = pd.read_csv('nearest_bluebike_stations_k_10_d_0.5.csv')"
   ]
  },
  {
   "cell_type": "markdown",
   "metadata": {},
   "source": [
    "# Minimap\n",
    "TODO"
   ]
  },
  {
   "cell_type": "markdown",
   "metadata": {},
   "source": [
    "# Weighted Roundtrip Ratio Bar Graph\n",
    "Do the thing like Four Seasons"
   ]
  },
  {
   "cell_type": "markdown",
   "metadata": {},
   "source": [
    "Correlation between weighted roundtrip ratios if you consider trips between two different stations close to an open space as roundtrips or not?"
   ]
  },
  {
   "cell_type": "code",
   "execution_count": 3,
   "metadata": {},
   "outputs": [
    {
     "data": {
      "text/html": [
       "<div>\n",
       "<style scoped>\n",
       "    .dataframe tbody tr th:only-of-type {\n",
       "        vertical-align: middle;\n",
       "    }\n",
       "\n",
       "    .dataframe tbody tr th {\n",
       "        vertical-align: top;\n",
       "    }\n",
       "\n",
       "    .dataframe thead th {\n",
       "        text-align: right;\n",
       "    }\n",
       "</style>\n",
       "<table border=\"1\" class=\"dataframe\">\n",
       "  <thead>\n",
       "    <tr style=\"text-align: right;\">\n",
       "      <th></th>\n",
       "      <th>Name</th>\n",
       "      <th>Weighted Roundtrip Ratio</th>\n",
       "    </tr>\n",
       "  </thead>\n",
       "  <tbody>\n",
       "    <tr>\n",
       "      <th>0</th>\n",
       "      <td>Wilson Park</td>\n",
       "      <td>0.080705</td>\n",
       "    </tr>\n",
       "    <tr>\n",
       "      <th>1</th>\n",
       "      <td>James H. Roberts Playground</td>\n",
       "      <td>0.033004</td>\n",
       "    </tr>\n",
       "    <tr>\n",
       "      <th>2</th>\n",
       "      <td>Smith Playground</td>\n",
       "      <td>0.041054</td>\n",
       "    </tr>\n",
       "    <tr>\n",
       "      <th>3</th>\n",
       "      <td>Fern Square</td>\n",
       "      <td>0.061990</td>\n",
       "    </tr>\n",
       "    <tr>\n",
       "      <th>4</th>\n",
       "      <td>Ringer Playground</td>\n",
       "      <td>0.034217</td>\n",
       "    </tr>\n",
       "    <tr>\n",
       "      <th>...</th>\n",
       "      <td>...</td>\n",
       "      <td>...</td>\n",
       "    </tr>\n",
       "    <tr>\n",
       "      <th>529</th>\n",
       "      <td>Mahoney Park</td>\n",
       "      <td>0.031290</td>\n",
       "    </tr>\n",
       "    <tr>\n",
       "      <th>530</th>\n",
       "      <td>Boundary I</td>\n",
       "      <td>0.000000</td>\n",
       "    </tr>\n",
       "    <tr>\n",
       "      <th>531</th>\n",
       "      <td>Sprague Pond</td>\n",
       "      <td>0.000000</td>\n",
       "    </tr>\n",
       "    <tr>\n",
       "      <th>532</th>\n",
       "      <td>Codman Square</td>\n",
       "      <td>0.118299</td>\n",
       "    </tr>\n",
       "    <tr>\n",
       "      <th>533</th>\n",
       "      <td>Murphy Playground I</td>\n",
       "      <td>0.069181</td>\n",
       "    </tr>\n",
       "  </tbody>\n",
       "</table>\n",
       "<p>534 rows × 2 columns</p>\n",
       "</div>"
      ],
      "text/plain": [
       "                            Name  Weighted Roundtrip Ratio\n",
       "0                    Wilson Park                  0.080705\n",
       "1    James H. Roberts Playground                  0.033004\n",
       "2               Smith Playground                  0.041054\n",
       "3                    Fern Square                  0.061990\n",
       "4              Ringer Playground                  0.034217\n",
       "..                           ...                       ...\n",
       "529                 Mahoney Park                  0.031290\n",
       "530                   Boundary I                  0.000000\n",
       "531                 Sprague Pond                  0.000000\n",
       "532                Codman Square                  0.118299\n",
       "533          Murphy Playground I                  0.069181\n",
       "\n",
       "[534 rows x 2 columns]"
      ]
     },
     "execution_count": 3,
     "metadata": {},
     "output_type": "execute_result"
    }
   ],
   "source": [
    "open_spaces['Weighted Roundtrip Ratio'] = open_spaces['Name'].apply(get_weighted_roundtrip_ratio)\n",
    "open_spaces[['Name', 'Weighted Roundtrip Ratio']]"
   ]
  },
  {
   "cell_type": "code",
   "execution_count": 4,
   "metadata": {},
   "outputs": [
    {
     "data": {
      "application/vnd.plotly.v1+json": {
       "config": {
        "plotlyServerURL": "https://plot.ly"
       },
       "data": [
        {
         "alignmentgroup": "True",
         "hovertemplate": "Name=%{x}<br>Weighted Roundtrip Ratio=%{y}<extra></extra>",
         "legendgroup": "",
         "marker": {
          "color": "#636efa",
          "pattern": {
           "shape": ""
          }
         },
         "name": "",
         "offsetgroup": "",
         "orientation": "v",
         "showlegend": false,
         "textposition": "auto",
         "type": "bar",
         "x": [
          "Forest Hills Cemetery",
          "Tebroc Street Playlot",
          "Morton Street",
          "Elm Hill Park",
          "Chestnut Street",
          "Adams/King Playground",
          "Little Scobie Playground",
          "Commercial Point",
          "Carson Beach",
          "Buena Vista",
          "Patten's Cove",
          "Perkins Street",
          "Belle Isle Marsh Reservation",
          "Medal of Honor Park",
          "Christopher Lee Playground",
          "Daniel E. O'Connor Park",
          "Beauford Play Area",
          "Winthrop Playground",
          "Hannon Playground",
          "Ohrenberger Play Area",
          "Chestnut Hill Reservoir Garden",
          "Allandale Field",
          "Neponset River Reservation I",
          "Leo M. Birmingham Parkway",
          "Rivermoor III",
          "DeForest Urban Wild",
          "Theresa Hynes Park",
          "Lawrence Farm",
          "Hynes Playground",
          "Allandale Woods ROW",
          "Parker Hilltop",
          "Thetford/Evans Playground",
          "West Austin Rock",
          "Gladeside I",
          "Rivermoor II",
          "Truman Parkway",
          "Condor Street Overlook",
          "New Calvary Cemetery",
          "Strandway/Castle Island",
          "Walter Street Cemetery",
          "Dunbarton Woods",
          "Parley Vale Preserve",
          "Poplar Street Play Area",
          "Delano Park",
          "Charles River Reservation",
          "Msgr. Francis A. Ryan Park",
          "Pope John Paul II Park II",
          "Port Norfolk Park",
          "Pope John Paul II Park I",
          "Sawmill Brook/Brook Farm",
          "Congregation Mishkan Tefia Cemetery",
          "Draper Playground",
          "Reservation Road Park",
          "Piemonte Park",
          "Martini Playground",
          "St Joseph's Cemetery",
          "Allandale Woods I",
          "Allandale Woods III",
          "Hancock Woods I",
          "Bellevue Hill Reservation",
          "Tenean Beach",
          "West Roxbury Parkway",
          "Chestnut Hill Reservoir",
          "West Roxbury High School Marsh",
          "Parkman Memorial",
          "Victory Road Park",
          "L Street Beach",
          "M Street Beach",
          "Stonehill Park",
          "West Roxbury H.S. Athletic Fields",
          "Gethsemane Cemetery",
          "Mount Lebanon Cemetery",
          "Mount Benedict Cemetery",
          "McMorrow Playground",
          "Hemenway Playground",
          "Arnold Arboretum",
          "Walsh Playground",
          "Dorchester South Burying Ground",
          "Gallivan/Hallet Circle",
          "Nellie Miranda Memorial Park",
          "Stony Brook Reservation II",
          "Puopolo Playground",
          "Mother's Rest at Four Corners",
          "Garvey Playground",
          "Ventura Playground",
          "Spectacle Island I",
          "Millennium Park I",
          "Havey Beach",
          "Spectacle Island II",
          "Clark/Cooper Community Garden",
          "Stony Brook Reservation I",
          "Dooley Playground",
          "Neponset Valley Parkway",
          "Colella Playground",
          "Mother Brook Reservation",
          "Williams Square",
          "Malibu Beach",
          "Rink Grounds 2",
          "Mattahunt Woods II",
          "Allandale Woods II",
          "Boundary I",
          "Stony Brook Reservation III",
          "McGann Park",
          "Evergreen Cemetery",
          "Chandler Pond",
          "Boyden Park",
          "Allandale Woods IV",
          "Stony Brook Reservation CR",
          "Sprague Pond",
          "Theresa Hynes Park Access Easement",
          "Mirabella Pool",
          "Bellevue Street Green",
          "Mount Hope Park",
          "Hobart Park",
          "Mattahunt Woods I",
          "Nonquit Street Green",
          "Jamaica Pond Park",
          "Railroad Avenue",
          "Paula Titus Park",
          "Woodworth Square",
          "Bonito Square",
          "Richardson Park",
          "Beethoven School Play Area",
          "Roslindale Wetlands Urban Wild I",
          "Fairview Cemetery",
          "Dorchester North Burying Ground",
          "Stony Brook Recreation Complex",
          "Jones Square",
          "Willow Pond Meadow",
          "Algonquin Square",
          "Schraffts Centre Harborwalk",
          "Grove Street Cemetery",
          "Allandale Woods V",
          "McKinney Playground",
          "Gallops Island",
          "Lovells Island",
          "Georges Island",
          "Thompson Island",
          "Connell Fields/Hickey Courts",
          "VFW Parkway I",
          "Centre Street II",
          "Monterey Hilltop I",
          "Millennium Park II",
          "West Street",
          "Iacono/Readville Playground",
          "Moynihan Playground",
          "Centre Street I",
          "Boston Nature Center_Visitor Ctr",
          "O'Donnell Square",
          "George Wright Golf Course",
          "Amatucci Playground",
          "Camp Meigs",
          "Jeremiah Hurley Memorial Park",
          "Centre Street IV",
          "VFW Parkway II",
          "Carroll Pond Playground",
          "Riverway III",
          "Riverway IV",
          "Joslin Park",
          "Riverway V",
          "Hanlon Square",
          "Fort Point Channel Harborwalk",
          "Federal Reserve Bank Harborwalk",
          "Riverway II",
          "Riverway I",
          "Russia Wharf Harborwalk",
          "Tufts Wharf Harborwalk",
          "Lambert Avenue Playground",
          "Rockledge Street Urban Wild",
          "Union Park Street Playground",
          "Waltham Square",
          "St Helena's Park",
          "Rotch Playground",
          "North Point Park",
          "Nashua Street Park",
          "Portal Park",
          "South Bank Park",
          "Copp's Hill Terrace",
          "Copp's Hill Burying Ground",
          "Peter Looney Park",
          "Rink Grounds 1",
          "General Edward O. Gourdin African-American Veterans Memorial Park",
          "Gibbons Playground",
          "Jeep Jones Park",
          "King Street Play Area",
          "Peters Park II",
          "Peters Park I",
          "Msgr. Reynolds Playground",
          "Linwood Park",
          "Kittredge Park",
          "Independence Wharf Harborwalk",
          "Dewey Square Parks",
          "Lincoln Street Green",
          "Roxbury Heritage State Park I",
          "Ringgold Park",
          "Bradford Street Play Area",
          "Watson Park",
          "Franklin Square",
          "Ryan Playground",
          "Caldwell Street Play Area",
          "St James Street Park",
          "Blackstone Square",
          "Puerto Rican Veterans Memorial Park",
          "Children's Wharf Harborwalk",
          "South End South Burying Ground",
          "Hayes Park",
          "Worcester Square",
          "Mission Hill Playground",
          "Norman Leventhal Park",
          "Phipps Street Burying Ground",
          "Union Park",
          "Temple Street Park",
          "Childe Hassam Park",
          "Copley Square Park",
          "Braddock Park",
          "O'Day Playground",
          "Tai Tung Park",
          "400R Atlantic Avenue Harborwalk",
          "408 Atlantic Avenue Harborwalk",
          "Newland Street Park",
          "BPL Courtyard",
          "Chester Square",
          "Reserved Channel Harborwalk",
          "Chinatown Park",
          "Clifford Playground",
          "The Fenway II",
          "Angell Memorial Square",
          "Martin's Park",
          "Stony Brook Sewer Easement",
          "Charlesgate II",
          "Concord Square",
          "Rutland Square",
          "Dearborn Street Square",
          "Union Street Park I",
          "Endicott Triangle",
          "DeFilippo Playground",
          "Hiscock Park",
          "City Hall Plaza",
          "A Street Park",
          "Frieda Garcia Park",
          "Fan Pier Harborwalk",
          "Ramler Park",
          "Park Drive II",
          "Fan Pier Plaza",
          "Carter Playground",
          "Commonwealth Plaza",
          "Brian Honan Park",
          "Mahoney Park",
          "Harriet Tubman Square",
          "ICA Pier Walk",
          "Pier Four Harborwalk",
          "Flaherty Park",
          "Agassiz Road",
          "Madison Park H.S. Athletic Fields",
          "Buckley Playground",
          "Sweeney Playground",
          "Eliot Burying Ground",
          "Commonwealth Avenue Outbound",
          "Fidelis Way Park",
          "James H. Roberts Playground",
          "Orton Field",
          "Bunker Hill Burying Ground",
          "Rowe's Wharf Harborwalk",
          "Spaulding Rehabilitation Plaza",
          "Menino Park",
          "Barry Playground",
          "Mt. Pleasant Play Area",
          "Ringer Playground",
          "Park Drive I",
          "Ramsay Park",
          "Titus Sparrow Park",
          "Granary Burying Ground",
          "Edgerly Road Playground",
          "Symphony Community Park",
          "Faneuil Square",
          "Boylston Street I",
          "North End Park",
          "Cedar Square",
          "Melnea A. Cass Recreational Complex",
          "Nancy Kafka Reserve",
          "Malcolm X Park I",
          "McLaughlin Playground",
          "Bay Village Garden",
          "King's Chapel Burying Ground",
          "Elliot Norton Park",
          "Union Square Plaza",
          "Penniman Road Play Area",
          "Back Bay Fens",
          "The Fenway I",
          "Leo F. McCarthy Playground",
          "Essex Square",
          "Doherty Playground",
          "Raymond V. Mellone Park II",
          "Raymond V. Mellone Park I",
          "Rena Park",
          "Boylston Street II",
          "India Wharf Harborwalk",
          "Lincoln Square 1",
          "Phillips Street Play Area",
          "Wharf District Park",
          "Aquarium Harborwalk II",
          "Statler Park",
          "Marcella Playground",
          "Olmsted Park",
          "Back of the Hill Urban Wild",
          "Jefferson Playground",
          "Jamaicaway",
          "John Harvard Mall",
          "City Square",
          "Bay Village Neighborhood Park",
          "Cutillo Park",
          "Heath Square",
          "Nira Rock",
          "Mozart Street Playground",
          "Armenian Heritage Park",
          "Paul Revere Mall",
          "Highland Park",
          "Myrtle Street Playground",
          "Charlesgate I",
          "Commonwealth Avenue Mall II",
          "Polcari Park",
          "Mahoney Square",
          "Bunker Hill Monument",
          "Winthrop Square",
          "Cunningham Park",
          "Public Ground",
          "Jackson Square",
          "Market Street Burying Ground",
          "Joyce Playground",
          "Brighton Common",
          "Smith Playground",
          "Christopher Columbus Park",
          "Prince Street Park",
          "Rachel Revere Square",
          "St Francis De Sales Cemetery",
          "Aquarium Harborwalk I",
          "Charter Street Park",
          "Fire Alarm House Grounds",
          "Paul Revere Park",
          "Joe's American Harborwalk",
          "Hayes Square",
          "Charlestown Naval Shipyard Park I",
          "Boston Common",
          "Tunnel Harborwalk",
          "Long Wharf",
          "Holborn Street Playlot",
          "Quincy Street Play Area",
          "Cook Street Play Area",
          "Amory Street Park",
          "Central Burying Ground",
          "Clarendon Street Playlot",
          "Navy Yard Grounds",
          "Patrick J. Kelly Park",
          "Horatio Harris Park",
          "Hawes Burying Ground",
          "Union Burying Ground",
          "Lincoln Square 2",
          "Oakview Terrace",
          "Forbes Street Playground",
          "Paul Gore Street Park",
          "Beecher Street Play Area",
          "Langone Park",
          "Ripley Playground",
          "Geneva Cliffs I",
          "Portsmouth Street Playground",
          "Commercial Wharf Harborwalk",
          "Little Mystic Access Area",
          "Charlestown Sprouts Garden",
          "Charlestown H.S. Athletic Fields",
          "St Augustine Burying Ground",
          "Dorchester Heights NHS",
          "Dennis Street Park",
          "Dudley Town Common",
          "Bynoe Park",
          "Howes Playground",
          "Foster Street Play Area",
          "Laviscount Park",
          "Commonwealth Avenue Mall I",
          "Rossmore/Stedman Park",
          "English H.S. Athletic Fields",
          "Johnson Park I",
          "Johnson Park II",
          "Southwest Corridor Park",
          "Flaherty Playground",
          "Public Garden",
          "Fern Square",
          "Robert G. Lawson Park",
          "Brewer-Burroughs Tot Lot",
          "Murphy Playground I",
          "Walnut Park",
          "Trotter School Playground",
          "St Michael's Cemetery",
          "Mt. Hope Cemetery",
          "Ronan Park",
          "Allen Park",
          "Coppens Square",
          "Downer Avenue Playground",
          "Crawford Street Playground",
          "Father Jack Play Area",
          "Soldier's Monument",
          "Arborway I",
          "South Street Mall & Courts",
          "First Church Cemetery",
          "Wilson Park",
          "Shubow Park I",
          "Shubow Park II",
          "Byrne Playground",
          "Savin Hill Cove",
          "Quincy/Stanley Play Area",
          "Fernald Rock",
          "Stanley-Bellevue Park",
          "Wilson Square",
          "Hardiman Playground",
          "Oak Square I",
          "Central Square",
          "Meany Park",
          "Ryan Play Area",
          "Mullen Square",
          "Mt. Bowdoin Green",
          "Bremen Street Park II",
          "Condor Street Beach I",
          "American Legion Playground",
          "Prescott Square",
          "Putnam Square",
          "Bussey Brook Meadow I",
          "Parkman Playground",
          "Ceylon Park",
          "Denton Square",
          "Children's Park",
          "Grove Hall Plaza",
          "Bussey Brook Meadow II",
          "Columbia Road Park",
          "Sharon's Park",
          "Arborway II",
          "Arborway Overpass Path",
          "Florida Street Reservation",
          "Wolf Square",
          "Moakley Park",
          "Columbia Road/Day Boulevard",
          "Rogers Park",
          "Adams Park",
          "Healy Playground",
          "Roberts Playground",
          "Tremlett Square",
          "Wellesley Park",
          "Bremen Street Park I",
          "Rev. Loesch Family Park",
          "Codman Square",
          "Elmhurst Street Park",
          "Codman Burying Ground",
          "St Mary's Cemetery",
          "Reilly Playground",
          "Peabody Square",
          "Savin Hill Beach",
          "McConnell Park",
          "Savin Hill Park",
          "Deer Street Park",
          "Emmel Square",
          "Doherty/Gibson Playground",
          "10 Josephine Street Garden",
          "Paris Street Playground",
          "Duffie Square",
          "Cassidy Playground",
          "Veterans Park II",
          "LoPresti Park",
          "Calvary Cemetery",
          "East Boston Greenway",
          "East Boston Memorial Park I",
          "Willowwood Rock",
          "Puddingstone Park",
          "Billings Field",
          "Westerly Burying Ground",
          "Zero Quinn Way",
          "Fallon Field",
          "White Stadium",
          "Toll Gate Cemetery",
          "Walker Playground",
          "Dell Rock I",
          "Massport Harborwalk",
          "Porzio Park",
          "Navy Fuel Pier Airport Edge Buffer",
          "The Rockies",
          "East Boston Piers Park",
          "East Boston Memorial Park II",
          "Brophy Park",
          "Sumner & Lamson Street Playground",
          "Golden Stairs Terrace Park II",
          "Golden Stairs Terrace Park I",
          "Erie/Ellington Playground",
          "Fenelon Street Playground",
          "West Link Park",
          "Old Harbor Park",
          "Kennedy Library Harborwalk",
          "UMass Harborwalk",
          "East Boston Memorial Park III",
          "Hunt Playground II",
          "Hunt Playground",
          "Temple Ohabei Shalom Cemetery",
          "Marine Park",
          "Columbia Park",
          "Sherrin Woods I",
          "Weider Park",
          "Webster Square",
          "Cuneo Park",
          "Bennington Street Cemetery",
          "McLean Playground",
          "Wood Island Bay Edge Park",
          "East Boston Greenway Extension",
          "Blue Hill Club Recreation Center",
          "Harambee Park",
          "Pagel Playground",
          "Franklin Park II",
          "Franklin Park Zoo",
          "Noyes Playground",
          "Constitution Beach",
          "Blake Estates Urban Wild I",
          "Dana Avenue Urban Wild I",
          "Blake Estates Urban Wild II",
          "Ernst Chery Jr. Playground",
          "Babson Cookson Tract",
          "Boston Nature Center",
          "American Legion Highway",
          "Martin/Hilltop Playground",
          "Toohig Playground",
          "Henry Square",
          "Cedar Grove Cemetery",
          "Dorchester Park",
          "Woodhaven",
          "Franklin Park",
          "Foley Square",
          "Kennedy Playground",
          "Kennedy Garden",
          "Doyle Playground",
          "Ross Playground"
         ],
         "xaxis": "x",
         "y": [
          0,
          0,
          0,
          0,
          0,
          0,
          0,
          0,
          0,
          0,
          0,
          0,
          0,
          0,
          0,
          0,
          0,
          0,
          0,
          0,
          0,
          0,
          0,
          0,
          0,
          0,
          0,
          0,
          0,
          0,
          0,
          0,
          0,
          0,
          0,
          0,
          0,
          0,
          0,
          0,
          0,
          0,
          0,
          0,
          0,
          0,
          0,
          0,
          0,
          0,
          0,
          0,
          0,
          0,
          0,
          0,
          0,
          0,
          0,
          0,
          0,
          0,
          0,
          0,
          0,
          0,
          0,
          0,
          0,
          0,
          0,
          0,
          0,
          0,
          0,
          0,
          0,
          0,
          0,
          0,
          0,
          0,
          0,
          0,
          0,
          0,
          0,
          0,
          0,
          0,
          0,
          0,
          0,
          0,
          0,
          0,
          0,
          0,
          0,
          0,
          0,
          0,
          0,
          0,
          0,
          0,
          0,
          0,
          0,
          0,
          0,
          0,
          0,
          0,
          0,
          0,
          0,
          0,
          0,
          0,
          0,
          0,
          0,
          0,
          0,
          0,
          0,
          0,
          0,
          0,
          0,
          0,
          0,
          0,
          0,
          0,
          0,
          0,
          0,
          0,
          0,
          0,
          0,
          0,
          0,
          0,
          0,
          0,
          0,
          0,
          0,
          0,
          0,
          0,
          0,
          0,
          0.0120978828704976,
          0.0120978828704976,
          0.012206553306939484,
          0.012991259884654183,
          0.015504678640324268,
          0.0158956603370576,
          0.017799826722975476,
          0.019616288255334197,
          0.019616288255334197,
          0.020032342132202886,
          0.020032342132202886,
          0.0204688218170675,
          0.0204688218170675,
          0.020523281227233875,
          0.020523281227233875,
          0.020523281227233875,
          0.02100206194332838,
          0.021488069477605027,
          0.021488069477605027,
          0.021552182194210765,
          0.021552182194210765,
          0.0218901391843744,
          0.0218901391843744,
          0.02196344026666094,
          0.02196344026666094,
          0.022045012686591696,
          0.02208081180288831,
          0.02209960533018481,
          0.02209960533018481,
          0.022231579480587665,
          0.022231579480587665,
          0.022350583435682567,
          0.02236998457765525,
          0.02236998457765525,
          0.022418168175752512,
          0.022418168175752512,
          0.022697368077808772,
          0.022830965711905925,
          0.023177642049322243,
          0.023177642049322243,
          0.023621016947787676,
          0.023749329207931588,
          0.023795315530359504,
          0.023795315530359504,
          0.0238782565308813,
          0.024301032326363402,
          0.024301032326363402,
          0.024538646753805213,
          0.024710106691033528,
          0.02504749352361038,
          0.02505979752171836,
          0.02518074680326237,
          0.025448364471286414,
          0.026135850743876202,
          0.026476408643114863,
          0.026658520258947892,
          0.027030212979436714,
          0.027060082998927495,
          0.027079767604651517,
          0.02727132301393436,
          0.02731879392709065,
          0.027385204741937084,
          0.027385204741937084,
          0.027392764224194295,
          0.02761606750436491,
          0.027759654078237588,
          0.0278299671207139,
          0.028463844410323867,
          0.0287784467802837,
          0.02902848777493117,
          0.029269935683921444,
          0.02927591070431771,
          0.029393053460760404,
          0.029453717468621163,
          0.029515593804492018,
          0.029515593804492018,
          0.029640899194711783,
          0.029740014054525598,
          0.02980695056901634,
          0.029845107669059304,
          0.029981783301897387,
          0.03008509319987369,
          0.030105997154707683,
          0.03033977236227973,
          0.03034525697851958,
          0.030513888096731834,
          0.030513888096731834,
          0.030872167348262657,
          0.030918661872212008,
          0.0312236031033004,
          0.0312344693604012,
          0.03128998487844589,
          0.03129094978372711,
          0.03135479258515321,
          0.03135479258515321,
          0.03141317838671595,
          0.03176367823393948,
          0.03194259899016737,
          0.03205146698208458,
          0.03205146698208458,
          0.03210560727295363,
          0.03252982959960354,
          0.03252982959960354,
          0.03300359945101893,
          0.0330226791915179,
          0.03323686678798462,
          0.03335348869963885,
          0.0333705810646078,
          0.0333705810646078,
          0.0333705810646078,
          0.033455076698319874,
          0.03421734681872791,
          0.034627520109025686,
          0.03462984078719534,
          0.034882077959294905,
          0.03518571400437201,
          0.035218681213513195,
          0.035218681213513195,
          0.035246588863525656,
          0.03539863417516666,
          0.03545442201126388,
          0.035521087653789,
          0.035521087653789,
          0.035521087653789,
          0.035521087653789,
          0.0356737963872723,
          0.03569520629620791,
          0.03573194284880966,
          0.03602158333933316,
          0.03605075067619657,
          0.03605075067619657,
          0.03641937314512711,
          0.03641937314512711,
          0.036575640666422375,
          0.036575640666422375,
          0.0369510159778714,
          0.03728046219762341,
          0.03728046219762341,
          0.03728046219762341,
          0.03745046048931901,
          0.03770407139497165,
          0.037754020351724295,
          0.037790959843832204,
          0.038302820130419836,
          0.038302820130419836,
          0.03832037710151844,
          0.03834332019000895,
          0.0385007310265384,
          0.0385007310265384,
          0.0385007310265384,
          0.0385007310265384,
          0.038968177018038945,
          0.038968177018038945,
          0.03905432654373296,
          0.03914227948735521,
          0.03927896725440801,
          0.03966122361548215,
          0.0397373333033485,
          0.03975118549099467,
          0.03976084963967675,
          0.0398185540887546,
          0.039833241407410645,
          0.03989629375397125,
          0.03989629375397125,
          0.04027045171190178,
          0.040348391835878,
          0.04048582995951412,
          0.04054413338343119,
          0.04055398682264348,
          0.04055398682264348,
          0.0407578052002448,
          0.0407578052002448,
          0.0407578052002448,
          0.0407578052002448,
          0.0410536415973681,
          0.04176463152572365,
          0.041893286264490084,
          0.04190208715581137,
          0.042023244820447586,
          0.04235384317330241,
          0.04246010774731454,
          0.0427840572325801,
          0.04390622465220076,
          0.04419600690120904,
          0.0444325930440745,
          0.0444325930440745,
          0.044886908676926525,
          0.0457968358956024,
          0.04659091386209142,
          0.0469651031448784,
          0.0469651031448784,
          0.04724666775601668,
          0.04737603607039104,
          0.047414781738769694,
          0.04758352185718899,
          0.047853092767285686,
          0.047853092767285686,
          0.04813842113394091,
          0.0487915293880938,
          0.0487915293880938,
          0.0487915293880938,
          0.048975583373066914,
          0.048975583373066914,
          0.048975583373066914,
          0.048975583373066914,
          0.0502597145016644,
          0.0509554140127388,
          0.0509554140127388,
          0.052924871513541555,
          0.05354929078585112,
          0.0537648934158268,
          0.0537648934158268,
          0.0537648934158268,
          0.05398349897096226,
          0.05398349897096226,
          0.05410806240873099,
          0.05410806240873099,
          0.05410806240873099,
          0.05410806240873099,
          0.055555797818759,
          0.056755133052973764,
          0.05743776660405562,
          0.0577391513547649,
          0.05826574916031776,
          0.0585376457618433,
          0.0585376457618433,
          0.0585376457618433,
          0.0585376457618433,
          0.06147089879550715,
          0.06198972289994133,
          0.062291109625668376,
          0.0669585115908864,
          0.06918100704771375,
          0.06926427090854033,
          0.0711049146043917,
          0.0751782242384964,
          0.0751782242384964,
          0.0752602081665332,
          0.0752602081665332,
          0.0752602081665332,
          0.0752602081665332,
          0.07558298290644959,
          0.07558298290644959,
          0.07633846269611338,
          0.07633846269611338,
          0.07633846269611338,
          0.07633846269611338,
          0.0807051255273821,
          0.0807051255273821,
          0.0807051255273821,
          0.0808080808080808,
          0.0808080808080808,
          0.08152806894945258,
          0.08152806894945258,
          0.08152806894945258,
          0.0876677316293929,
          0.0876677316293929,
          0.0876677316293929,
          0.08818092856366204,
          0.0907518450184501,
          0.0907518450184501,
          0.0907518450184501,
          0.09107768390686173,
          0.0931329207191276,
          0.0931329207191276,
          0.0931329207191276,
          0.0931329207191276,
          0.0931329207191276,
          0.0955041234370843,
          0.0955041234370843,
          0.0960321136328547,
          0.0960321136328547,
          0.09744812114413903,
          0.0986259149865159,
          0.10409879975097361,
          0.10412332457965275,
          0.10412332457965275,
          0.1051485759776445,
          0.1051485759776445,
          0.1054706752094628,
          0.10703346240536316,
          0.1081462942031325,
          0.1081462942031325,
          0.1084904171008177,
          0.10911042213212492,
          0.10911042213212492,
          0.1106107007746352,
          0.1143005585140927,
          0.1143005585140927,
          0.11436950146627563,
          0.11734556244941996,
          0.11829875129095856,
          0.11831352154531942,
          0.11831352154531942,
          0.1196581196581196,
          0.12041884816753926,
          0.1217022915463123,
          0.12273672465385194,
          0.122948312773983,
          0.122948312773983,
          0.122948312773983,
          0.1303570610074712,
          0.1371787455582183,
          0.1371787455582183,
          0.13831121730596915,
          0.14435695538057738,
          0.1447391982809342,
          0.1503076538837045,
          0.15445601201483458,
          0.1705263157894737,
          0.17219028719950819,
          0.1836538461538461,
          0.1871921182266009,
          0.19834710743801648,
          0.1983769161406672,
          0.1983769161406672,
          0.1983769161406672,
          0.2009910802775024,
          0.20340171839382776,
          0.20417573972076342,
          0.2099845599588265,
          0.2166666666666666,
          0.2333584054155697,
          0.2333584054155697,
          0.2333584054155697,
          0.2349021241149521,
          0.2349021241149521,
          0.23812849162011174,
          0.24086378737541528,
          0.24086378737541528,
          0.24086378737541528,
          0.24086378737541528,
          0.24381412190706092,
          0.24381412190706092,
          0.2539554051070719,
          0.2539554051070719,
          0.2550626243708299,
          0.2550626243708299,
          0.25660792951541855,
          0.26525630593978844,
          0.26533907427341225,
          0.2724463749944024,
          0.27370085632999414,
          0.27370085632999414,
          0.2754491017964072,
          0.2754491017964072,
          0.2770318021201413,
          0.292399022232569,
          0.292399022232569,
          0.292399022232569,
          0.292399022232569,
          0.292399022232569,
          0.2967101179391682,
          0.2967101179391682,
          0.3050889328063241,
          0.3070751898950243,
          0.3070751898950243,
          0.30726097156262516,
          0.30726097156262516,
          0.3080213903743315,
          0.3080213903743315,
          0.3080213903743315,
          0.3260011280315849,
          0.3268348623853211,
          0.3299565846599132,
          0.3299565846599132,
          0.4158212698050837,
          0.4158212698050837,
          0.415825870082757,
          0.4166666666666667,
          0.4166666666666667,
          0.4326231127416396,
          0.4369274136715997,
          0.45614035087719296,
          0.4681972149040271,
          0.4681972149040271,
          0.5511811023622047,
          0.5511811023622047
         ],
         "yaxis": "y"
        }
       ],
       "layout": {
        "barmode": "relative",
        "legend": {
         "tracegroupgap": 0
        },
        "margin": {
         "t": 60
        },
        "template": {
         "data": {
          "bar": [
           {
            "error_x": {
             "color": "#2a3f5f"
            },
            "error_y": {
             "color": "#2a3f5f"
            },
            "marker": {
             "line": {
              "color": "#E5ECF6",
              "width": 0.5
             },
             "pattern": {
              "fillmode": "overlay",
              "size": 10,
              "solidity": 0.2
             }
            },
            "type": "bar"
           }
          ],
          "barpolar": [
           {
            "marker": {
             "line": {
              "color": "#E5ECF6",
              "width": 0.5
             },
             "pattern": {
              "fillmode": "overlay",
              "size": 10,
              "solidity": 0.2
             }
            },
            "type": "barpolar"
           }
          ],
          "carpet": [
           {
            "aaxis": {
             "endlinecolor": "#2a3f5f",
             "gridcolor": "white",
             "linecolor": "white",
             "minorgridcolor": "white",
             "startlinecolor": "#2a3f5f"
            },
            "baxis": {
             "endlinecolor": "#2a3f5f",
             "gridcolor": "white",
             "linecolor": "white",
             "minorgridcolor": "white",
             "startlinecolor": "#2a3f5f"
            },
            "type": "carpet"
           }
          ],
          "choropleth": [
           {
            "colorbar": {
             "outlinewidth": 0,
             "ticks": ""
            },
            "type": "choropleth"
           }
          ],
          "contour": [
           {
            "colorbar": {
             "outlinewidth": 0,
             "ticks": ""
            },
            "colorscale": [
             [
              0,
              "#0d0887"
             ],
             [
              0.1111111111111111,
              "#46039f"
             ],
             [
              0.2222222222222222,
              "#7201a8"
             ],
             [
              0.3333333333333333,
              "#9c179e"
             ],
             [
              0.4444444444444444,
              "#bd3786"
             ],
             [
              0.5555555555555556,
              "#d8576b"
             ],
             [
              0.6666666666666666,
              "#ed7953"
             ],
             [
              0.7777777777777778,
              "#fb9f3a"
             ],
             [
              0.8888888888888888,
              "#fdca26"
             ],
             [
              1,
              "#f0f921"
             ]
            ],
            "type": "contour"
           }
          ],
          "contourcarpet": [
           {
            "colorbar": {
             "outlinewidth": 0,
             "ticks": ""
            },
            "type": "contourcarpet"
           }
          ],
          "heatmap": [
           {
            "colorbar": {
             "outlinewidth": 0,
             "ticks": ""
            },
            "colorscale": [
             [
              0,
              "#0d0887"
             ],
             [
              0.1111111111111111,
              "#46039f"
             ],
             [
              0.2222222222222222,
              "#7201a8"
             ],
             [
              0.3333333333333333,
              "#9c179e"
             ],
             [
              0.4444444444444444,
              "#bd3786"
             ],
             [
              0.5555555555555556,
              "#d8576b"
             ],
             [
              0.6666666666666666,
              "#ed7953"
             ],
             [
              0.7777777777777778,
              "#fb9f3a"
             ],
             [
              0.8888888888888888,
              "#fdca26"
             ],
             [
              1,
              "#f0f921"
             ]
            ],
            "type": "heatmap"
           }
          ],
          "heatmapgl": [
           {
            "colorbar": {
             "outlinewidth": 0,
             "ticks": ""
            },
            "colorscale": [
             [
              0,
              "#0d0887"
             ],
             [
              0.1111111111111111,
              "#46039f"
             ],
             [
              0.2222222222222222,
              "#7201a8"
             ],
             [
              0.3333333333333333,
              "#9c179e"
             ],
             [
              0.4444444444444444,
              "#bd3786"
             ],
             [
              0.5555555555555556,
              "#d8576b"
             ],
             [
              0.6666666666666666,
              "#ed7953"
             ],
             [
              0.7777777777777778,
              "#fb9f3a"
             ],
             [
              0.8888888888888888,
              "#fdca26"
             ],
             [
              1,
              "#f0f921"
             ]
            ],
            "type": "heatmapgl"
           }
          ],
          "histogram": [
           {
            "marker": {
             "pattern": {
              "fillmode": "overlay",
              "size": 10,
              "solidity": 0.2
             }
            },
            "type": "histogram"
           }
          ],
          "histogram2d": [
           {
            "colorbar": {
             "outlinewidth": 0,
             "ticks": ""
            },
            "colorscale": [
             [
              0,
              "#0d0887"
             ],
             [
              0.1111111111111111,
              "#46039f"
             ],
             [
              0.2222222222222222,
              "#7201a8"
             ],
             [
              0.3333333333333333,
              "#9c179e"
             ],
             [
              0.4444444444444444,
              "#bd3786"
             ],
             [
              0.5555555555555556,
              "#d8576b"
             ],
             [
              0.6666666666666666,
              "#ed7953"
             ],
             [
              0.7777777777777778,
              "#fb9f3a"
             ],
             [
              0.8888888888888888,
              "#fdca26"
             ],
             [
              1,
              "#f0f921"
             ]
            ],
            "type": "histogram2d"
           }
          ],
          "histogram2dcontour": [
           {
            "colorbar": {
             "outlinewidth": 0,
             "ticks": ""
            },
            "colorscale": [
             [
              0,
              "#0d0887"
             ],
             [
              0.1111111111111111,
              "#46039f"
             ],
             [
              0.2222222222222222,
              "#7201a8"
             ],
             [
              0.3333333333333333,
              "#9c179e"
             ],
             [
              0.4444444444444444,
              "#bd3786"
             ],
             [
              0.5555555555555556,
              "#d8576b"
             ],
             [
              0.6666666666666666,
              "#ed7953"
             ],
             [
              0.7777777777777778,
              "#fb9f3a"
             ],
             [
              0.8888888888888888,
              "#fdca26"
             ],
             [
              1,
              "#f0f921"
             ]
            ],
            "type": "histogram2dcontour"
           }
          ],
          "mesh3d": [
           {
            "colorbar": {
             "outlinewidth": 0,
             "ticks": ""
            },
            "type": "mesh3d"
           }
          ],
          "parcoords": [
           {
            "line": {
             "colorbar": {
              "outlinewidth": 0,
              "ticks": ""
             }
            },
            "type": "parcoords"
           }
          ],
          "pie": [
           {
            "automargin": true,
            "type": "pie"
           }
          ],
          "scatter": [
           {
            "fillpattern": {
             "fillmode": "overlay",
             "size": 10,
             "solidity": 0.2
            },
            "type": "scatter"
           }
          ],
          "scatter3d": [
           {
            "line": {
             "colorbar": {
              "outlinewidth": 0,
              "ticks": ""
             }
            },
            "marker": {
             "colorbar": {
              "outlinewidth": 0,
              "ticks": ""
             }
            },
            "type": "scatter3d"
           }
          ],
          "scattercarpet": [
           {
            "marker": {
             "colorbar": {
              "outlinewidth": 0,
              "ticks": ""
             }
            },
            "type": "scattercarpet"
           }
          ],
          "scattergeo": [
           {
            "marker": {
             "colorbar": {
              "outlinewidth": 0,
              "ticks": ""
             }
            },
            "type": "scattergeo"
           }
          ],
          "scattergl": [
           {
            "marker": {
             "colorbar": {
              "outlinewidth": 0,
              "ticks": ""
             }
            },
            "type": "scattergl"
           }
          ],
          "scattermapbox": [
           {
            "marker": {
             "colorbar": {
              "outlinewidth": 0,
              "ticks": ""
             }
            },
            "type": "scattermapbox"
           }
          ],
          "scatterpolar": [
           {
            "marker": {
             "colorbar": {
              "outlinewidth": 0,
              "ticks": ""
             }
            },
            "type": "scatterpolar"
           }
          ],
          "scatterpolargl": [
           {
            "marker": {
             "colorbar": {
              "outlinewidth": 0,
              "ticks": ""
             }
            },
            "type": "scatterpolargl"
           }
          ],
          "scatterternary": [
           {
            "marker": {
             "colorbar": {
              "outlinewidth": 0,
              "ticks": ""
             }
            },
            "type": "scatterternary"
           }
          ],
          "surface": [
           {
            "colorbar": {
             "outlinewidth": 0,
             "ticks": ""
            },
            "colorscale": [
             [
              0,
              "#0d0887"
             ],
             [
              0.1111111111111111,
              "#46039f"
             ],
             [
              0.2222222222222222,
              "#7201a8"
             ],
             [
              0.3333333333333333,
              "#9c179e"
             ],
             [
              0.4444444444444444,
              "#bd3786"
             ],
             [
              0.5555555555555556,
              "#d8576b"
             ],
             [
              0.6666666666666666,
              "#ed7953"
             ],
             [
              0.7777777777777778,
              "#fb9f3a"
             ],
             [
              0.8888888888888888,
              "#fdca26"
             ],
             [
              1,
              "#f0f921"
             ]
            ],
            "type": "surface"
           }
          ],
          "table": [
           {
            "cells": {
             "fill": {
              "color": "#EBF0F8"
             },
             "line": {
              "color": "white"
             }
            },
            "header": {
             "fill": {
              "color": "#C8D4E3"
             },
             "line": {
              "color": "white"
             }
            },
            "type": "table"
           }
          ]
         },
         "layout": {
          "annotationdefaults": {
           "arrowcolor": "#2a3f5f",
           "arrowhead": 0,
           "arrowwidth": 1
          },
          "autotypenumbers": "strict",
          "coloraxis": {
           "colorbar": {
            "outlinewidth": 0,
            "ticks": ""
           }
          },
          "colorscale": {
           "diverging": [
            [
             0,
             "#8e0152"
            ],
            [
             0.1,
             "#c51b7d"
            ],
            [
             0.2,
             "#de77ae"
            ],
            [
             0.3,
             "#f1b6da"
            ],
            [
             0.4,
             "#fde0ef"
            ],
            [
             0.5,
             "#f7f7f7"
            ],
            [
             0.6,
             "#e6f5d0"
            ],
            [
             0.7,
             "#b8e186"
            ],
            [
             0.8,
             "#7fbc41"
            ],
            [
             0.9,
             "#4d9221"
            ],
            [
             1,
             "#276419"
            ]
           ],
           "sequential": [
            [
             0,
             "#0d0887"
            ],
            [
             0.1111111111111111,
             "#46039f"
            ],
            [
             0.2222222222222222,
             "#7201a8"
            ],
            [
             0.3333333333333333,
             "#9c179e"
            ],
            [
             0.4444444444444444,
             "#bd3786"
            ],
            [
             0.5555555555555556,
             "#d8576b"
            ],
            [
             0.6666666666666666,
             "#ed7953"
            ],
            [
             0.7777777777777778,
             "#fb9f3a"
            ],
            [
             0.8888888888888888,
             "#fdca26"
            ],
            [
             1,
             "#f0f921"
            ]
           ],
           "sequentialminus": [
            [
             0,
             "#0d0887"
            ],
            [
             0.1111111111111111,
             "#46039f"
            ],
            [
             0.2222222222222222,
             "#7201a8"
            ],
            [
             0.3333333333333333,
             "#9c179e"
            ],
            [
             0.4444444444444444,
             "#bd3786"
            ],
            [
             0.5555555555555556,
             "#d8576b"
            ],
            [
             0.6666666666666666,
             "#ed7953"
            ],
            [
             0.7777777777777778,
             "#fb9f3a"
            ],
            [
             0.8888888888888888,
             "#fdca26"
            ],
            [
             1,
             "#f0f921"
            ]
           ]
          },
          "colorway": [
           "#636efa",
           "#EF553B",
           "#00cc96",
           "#ab63fa",
           "#FFA15A",
           "#19d3f3",
           "#FF6692",
           "#B6E880",
           "#FF97FF",
           "#FECB52"
          ],
          "font": {
           "color": "#2a3f5f"
          },
          "geo": {
           "bgcolor": "white",
           "lakecolor": "white",
           "landcolor": "#E5ECF6",
           "showlakes": true,
           "showland": true,
           "subunitcolor": "white"
          },
          "hoverlabel": {
           "align": "left"
          },
          "hovermode": "closest",
          "mapbox": {
           "style": "light"
          },
          "paper_bgcolor": "white",
          "plot_bgcolor": "#E5ECF6",
          "polar": {
           "angularaxis": {
            "gridcolor": "white",
            "linecolor": "white",
            "ticks": ""
           },
           "bgcolor": "#E5ECF6",
           "radialaxis": {
            "gridcolor": "white",
            "linecolor": "white",
            "ticks": ""
           }
          },
          "scene": {
           "xaxis": {
            "backgroundcolor": "#E5ECF6",
            "gridcolor": "white",
            "gridwidth": 2,
            "linecolor": "white",
            "showbackground": true,
            "ticks": "",
            "zerolinecolor": "white"
           },
           "yaxis": {
            "backgroundcolor": "#E5ECF6",
            "gridcolor": "white",
            "gridwidth": 2,
            "linecolor": "white",
            "showbackground": true,
            "ticks": "",
            "zerolinecolor": "white"
           },
           "zaxis": {
            "backgroundcolor": "#E5ECF6",
            "gridcolor": "white",
            "gridwidth": 2,
            "linecolor": "white",
            "showbackground": true,
            "ticks": "",
            "zerolinecolor": "white"
           }
          },
          "shapedefaults": {
           "line": {
            "color": "#2a3f5f"
           }
          },
          "ternary": {
           "aaxis": {
            "gridcolor": "white",
            "linecolor": "white",
            "ticks": ""
           },
           "baxis": {
            "gridcolor": "white",
            "linecolor": "white",
            "ticks": ""
           },
           "bgcolor": "#E5ECF6",
           "caxis": {
            "gridcolor": "white",
            "linecolor": "white",
            "ticks": ""
           }
          },
          "title": {
           "x": 0.05
          },
          "xaxis": {
           "automargin": true,
           "gridcolor": "white",
           "linecolor": "white",
           "ticks": "",
           "title": {
            "standoff": 15
           },
           "zerolinecolor": "white",
           "zerolinewidth": 2
          },
          "yaxis": {
           "automargin": true,
           "gridcolor": "white",
           "linecolor": "white",
           "ticks": "",
           "title": {
            "standoff": 15
           },
           "zerolinecolor": "white",
           "zerolinewidth": 2
          }
         }
        },
        "xaxis": {
         "anchor": "y",
         "domain": [
          0,
          1
         ],
         "showticklabels": false,
         "title": {
          "text": "Weighted Roundtrip Ratio (proportion of nearby rides that start and end at the same station)"
         }
        },
        "yaxis": {
         "anchor": "x",
         "domain": [
          0,
          1
         ],
         "title": {
          "text": "Ratio"
         }
        }
       }
      }
     },
     "metadata": {},
     "output_type": "display_data"
    }
   ],
   "source": [
    "fig = px.bar(open_spaces.sort_values(by='Weighted Roundtrip Ratio'), x='Name', y='Weighted Roundtrip Ratio')\n",
    "fig.update_layout(\n",
    "    xaxis_title='Weighted Roundtrip Ratio (proportion of nearby rides that start and end at the same station)',\n",
    "    yaxis_title='Ratio',\n",
    "    xaxis={\n",
    "    'showticklabels': False,\n",
    "})\n",
    "fig.show()"
   ]
  },
  {
   "cell_type": "markdown",
   "metadata": {},
   "source": [
    "# Hourly Activity Plots"
   ]
  },
  {
   "cell_type": "code",
   "execution_count": 5,
   "metadata": {},
   "outputs": [
    {
     "name": "stdout",
     "output_type": "stream",
     "text": [
      "2 nearest stations to Hunt Playground II: Blue Hill Ave at Almont St, Mattapan Library\n"
     ]
    },
    {
     "name": "stderr",
     "output_type": "stream",
     "text": [
      "/Users/henrywu/opt/anaconda3/lib/python3.9/site-packages/plotly/express/_core.py:271: FutureWarning:\n",
      "\n",
      "The frame.append method is deprecated and will be removed from pandas in a future version. Use pandas.concat instead.\n",
      "\n",
      "/Users/henrywu/opt/anaconda3/lib/python3.9/site-packages/plotly/express/_core.py:271: FutureWarning:\n",
      "\n",
      "The frame.append method is deprecated and will be removed from pandas in a future version. Use pandas.concat instead.\n",
      "\n",
      "/Users/henrywu/opt/anaconda3/lib/python3.9/site-packages/plotly/express/_core.py:271: FutureWarning:\n",
      "\n",
      "The frame.append method is deprecated and will be removed from pandas in a future version. Use pandas.concat instead.\n",
      "\n",
      "/Users/henrywu/opt/anaconda3/lib/python3.9/site-packages/plotly/express/_core.py:271: FutureWarning:\n",
      "\n",
      "The frame.append method is deprecated and will be removed from pandas in a future version. Use pandas.concat instead.\n",
      "\n"
     ]
    },
    {
     "data": {
      "application/vnd.plotly.v1+json": {
       "config": {
        "plotlyServerURL": "https://plot.ly"
       },
       "data": [
        {
         "customdata": [
          [
           0.027426160337552744,
           7.5
          ],
          [
           0.016877637130801686,
           22.5
          ],
          [
           0.007383966244725738,
           37.5
          ],
          [
           0.010548523206751054,
           52.5
          ],
          [
           0.008438818565400843,
           67.5
          ],
          [
           0.007383966244725738,
           82.5
          ],
          [
           0.012658227848101266,
           97.5
          ],
          [
           0.02109704641350211,
           112.5
          ],
          [
           0.027426160337552744,
           127.5
          ],
          [
           0.028481012658227847,
           142.5
          ],
          [
           0.027426160337552744,
           157.5
          ],
          [
           0.06856540084388185,
           172.5
          ],
          [
           0.08860759493670886,
           187.5
          ],
          [
           0.08966244725738397,
           202.5
          ],
          [
           0.0981012658227848,
           217.5
          ],
          [
           0.0970464135021097,
           232.5
          ],
          [
           0.10021097046413502,
           247.5
          ],
          [
           0.0970464135021097,
           262.5
          ],
          [
           0.1160337552742616,
           277.5
          ],
          [
           0.0981012658227848,
           292.5
          ],
          [
           0.0759493670886076,
           307.5
          ],
          [
           0.07383966244725738,
           322.5
          ],
          [
           0.043248945147679324,
           337.5
          ],
          [
           0.04008438818565401,
           352.5
          ],
          [
           0.027426160337552744,
           7.5
          ]
         ],
         "hovertemplate": "Day Type=Weekday<br>Trip Type=Departures<br>Trips=%{customdata[0]:.2f}<extra></extra>",
         "legendgroup": "Weekday, Departures",
         "line": {
          "color": "#636efa",
          "dash": "solid"
         },
         "marker": {
          "symbol": "circle"
         },
         "mode": "lines",
         "name": "Weekday, Departures",
         "r": [
          0.027426160337552744,
          0.016877637130801686,
          0.007383966244725738,
          0.010548523206751054,
          0.008438818565400843,
          0.007383966244725738,
          0.012658227848101266,
          0.02109704641350211,
          0.027426160337552744,
          0.028481012658227847,
          0.027426160337552744,
          0.06856540084388185,
          0.08860759493670886,
          0.08966244725738397,
          0.0981012658227848,
          0.0970464135021097,
          0.10021097046413502,
          0.0970464135021097,
          0.1160337552742616,
          0.0981012658227848,
          0.0759493670886076,
          0.07383966244725738,
          0.043248945147679324,
          0.04008438818565401,
          0.027426160337552744
         ],
         "showlegend": true,
         "subplot": "polar",
         "theta": [
          7.5,
          22.5,
          37.5,
          52.5,
          67.5,
          82.5,
          97.5,
          112.5,
          127.5,
          142.5,
          157.5,
          172.5,
          187.5,
          202.5,
          217.5,
          232.5,
          247.5,
          262.5,
          277.5,
          292.5,
          307.5,
          322.5,
          337.5,
          352.5,
          7.5
         ],
         "type": "scatterpolar"
        },
        {
         "customdata": [
          [
           0.043248945147679324,
           7.5
          ],
          [
           0.028481012658227847,
           22.5
          ],
          [
           0.011603375527426161,
           37.5
          ],
          [
           0.007383966244725738,
           52.5
          ],
          [
           0.004219409282700422,
           67.5
          ],
          [
           0.004219409282700422,
           82.5
          ],
          [
           0.012658227848101266,
           97.5
          ],
          [
           0.013713080168776372,
           112.5
          ],
          [
           0.023206751054852322,
           127.5
          ],
          [
           0.022151898734177215,
           142.5
          ],
          [
           0.03059071729957806,
           157.5
          ],
          [
           0.060126582278481014,
           172.5
          ],
          [
           0.05590717299578059,
           187.5
          ],
          [
           0.07172995780590717,
           202.5
          ],
          [
           0.06118143459915612,
           217.5
          ],
          [
           0.08227848101265822,
           232.5
          ],
          [
           0.10654008438818566,
           247.5
          ],
          [
           0.14135021097046413,
           262.5
          ],
          [
           0.14556962025316456,
           277.5
          ],
          [
           0.1371308016877637,
           292.5
          ],
          [
           0.11075949367088607,
           307.5
          ],
          [
           0.0759493670886076,
           322.5
          ],
          [
           0.08755274261603375,
           337.5
          ],
          [
           0.05590717299578059,
           352.5
          ],
          [
           0.043248945147679324,
           7.5
          ]
         ],
         "hovertemplate": "Day Type=Weekday<br>Trip Type=Arrivals<br>Trips=%{customdata[0]:.2f}<extra></extra>",
         "legendgroup": "Weekday, Arrivals",
         "line": {
          "color": "#636efa",
          "dash": "dot"
         },
         "marker": {
          "symbol": "circle"
         },
         "mode": "lines",
         "name": "Weekday, Arrivals",
         "r": [
          0.043248945147679324,
          0.028481012658227847,
          0.011603375527426161,
          0.007383966244725738,
          0.004219409282700422,
          0.004219409282700422,
          0.012658227848101266,
          0.013713080168776372,
          0.023206751054852322,
          0.022151898734177215,
          0.03059071729957806,
          0.060126582278481014,
          0.05590717299578059,
          0.07172995780590717,
          0.06118143459915612,
          0.08227848101265822,
          0.10654008438818566,
          0.14135021097046413,
          0.14556962025316456,
          0.1371308016877637,
          0.11075949367088607,
          0.0759493670886076,
          0.08755274261603375,
          0.05590717299578059,
          0.043248945147679324
         ],
         "showlegend": true,
         "subplot": "polar",
         "theta": [
          7.5,
          22.5,
          37.5,
          52.5,
          67.5,
          82.5,
          97.5,
          112.5,
          127.5,
          142.5,
          157.5,
          172.5,
          187.5,
          202.5,
          217.5,
          232.5,
          247.5,
          262.5,
          277.5,
          292.5,
          307.5,
          322.5,
          337.5,
          352.5,
          7.5
         ],
         "type": "scatterpolar"
        },
        {
         "customdata": [
          [
           0.016877637130801686,
           7.5
          ],
          [
           0.014767932489451477,
           22.5
          ],
          [
           0.014767932489451477,
           37.5
          ],
          [
           0.010548523206751054,
           52.5
          ],
          [
           0.0031645569620253164,
           67.5
          ],
          [
           0.005274261603375527,
           82.5
          ],
          [
           0.006329113924050633,
           97.5
          ],
          [
           0.016877637130801686,
           112.5
          ],
          [
           0.007383966244725738,
           127.5
          ],
          [
           0.026371308016877638,
           142.5
          ],
          [
           0.02109704641350211,
           157.5
          ],
          [
           0.029535864978902954,
           172.5
          ],
          [
           0.0189873417721519,
           187.5
          ],
          [
           0.043248945147679324,
           202.5
          ],
          [
           0.05063291139240506,
           217.5
          ],
          [
           0.056962025316455694,
           232.5
          ],
          [
           0.0770042194092827,
           247.5
          ],
          [
           0.05379746835443038,
           262.5
          ],
          [
           0.05485232067510549,
           277.5
          ],
          [
           0.03059071729957806,
           292.5
          ],
          [
           0.035864978902953586,
           307.5
          ],
          [
           0.03691983122362869,
           322.5
          ],
          [
           0.03691983122362869,
           337.5
          ],
          [
           0.013713080168776372,
           352.5
          ],
          [
           0.016877637130801686,
           7.5
          ]
         ],
         "hovertemplate": "Day Type=Weekend<br>Trip Type=Departures<br>Trips=%{customdata[0]:.2f}<extra></extra>",
         "legendgroup": "Weekend, Departures",
         "line": {
          "color": "#EF553B",
          "dash": "solid"
         },
         "marker": {
          "symbol": "circle"
         },
         "mode": "lines",
         "name": "Weekend, Departures",
         "r": [
          0.016877637130801686,
          0.014767932489451477,
          0.014767932489451477,
          0.010548523206751054,
          0.0031645569620253164,
          0.005274261603375527,
          0.006329113924050633,
          0.016877637130801686,
          0.007383966244725738,
          0.026371308016877638,
          0.02109704641350211,
          0.029535864978902954,
          0.0189873417721519,
          0.043248945147679324,
          0.05063291139240506,
          0.056962025316455694,
          0.0770042194092827,
          0.05379746835443038,
          0.05485232067510549,
          0.03059071729957806,
          0.035864978902953586,
          0.03691983122362869,
          0.03691983122362869,
          0.013713080168776372,
          0.016877637130801686
         ],
         "showlegend": true,
         "subplot": "polar",
         "theta": [
          7.5,
          22.5,
          37.5,
          52.5,
          67.5,
          82.5,
          97.5,
          112.5,
          127.5,
          142.5,
          157.5,
          172.5,
          187.5,
          202.5,
          217.5,
          232.5,
          247.5,
          262.5,
          277.5,
          292.5,
          307.5,
          322.5,
          337.5,
          352.5,
          7.5
         ],
         "type": "scatterpolar"
        },
        {
         "customdata": [
          [
           0.02109704641350211,
           7.5
          ],
          [
           0.022151898734177215,
           22.5
          ],
          [
           0.007383966244725738,
           37.5
          ],
          [
           0.010548523206751054,
           52.5
          ],
          [
           0.00949367088607595,
           67.5
          ],
          [
           0.007383966244725738,
           82.5
          ],
          [
           0.0031645569620253164,
           97.5
          ],
          [
           0.007383966244725738,
           112.5
          ],
          [
           0.011603375527426161,
           127.5
          ],
          [
           0.02109704641350211,
           142.5
          ],
          [
           0.022151898734177215,
           157.5
          ],
          [
           0.03164556962025317,
           172.5
          ],
          [
           0.029535864978902954,
           187.5
          ],
          [
           0.03691983122362869,
           202.5
          ],
          [
           0.04113924050632911,
           217.5
          ],
          [
           0.04746835443037975,
           232.5
          ],
          [
           0.0580168776371308,
           247.5
          ],
          [
           0.056962025316455694,
           262.5
          ],
          [
           0.052742616033755275,
           277.5
          ],
          [
           0.049578059071729956,
           292.5
          ],
          [
           0.039029535864978905,
           307.5
          ],
          [
           0.03691983122362869,
           322.5
          ],
          [
           0.039029535864978905,
           337.5
          ],
          [
           0.027426160337552744,
           352.5
          ],
          [
           0.02109704641350211,
           7.5
          ]
         ],
         "hovertemplate": "Day Type=Weekend<br>Trip Type=Arrivals<br>Trips=%{customdata[0]:.2f}<extra></extra>",
         "legendgroup": "Weekend, Arrivals",
         "line": {
          "color": "#EF553B",
          "dash": "dot"
         },
         "marker": {
          "symbol": "circle"
         },
         "mode": "lines",
         "name": "Weekend, Arrivals",
         "r": [
          0.02109704641350211,
          0.022151898734177215,
          0.007383966244725738,
          0.010548523206751054,
          0.00949367088607595,
          0.007383966244725738,
          0.0031645569620253164,
          0.007383966244725738,
          0.011603375527426161,
          0.02109704641350211,
          0.022151898734177215,
          0.03164556962025317,
          0.029535864978902954,
          0.03691983122362869,
          0.04113924050632911,
          0.04746835443037975,
          0.0580168776371308,
          0.056962025316455694,
          0.052742616033755275,
          0.049578059071729956,
          0.039029535864978905,
          0.03691983122362869,
          0.039029535864978905,
          0.027426160337552744,
          0.02109704641350211
         ],
         "showlegend": true,
         "subplot": "polar",
         "theta": [
          7.5,
          22.5,
          37.5,
          52.5,
          67.5,
          82.5,
          97.5,
          112.5,
          127.5,
          142.5,
          157.5,
          172.5,
          187.5,
          202.5,
          217.5,
          232.5,
          247.5,
          262.5,
          277.5,
          292.5,
          307.5,
          322.5,
          337.5,
          352.5,
          7.5
         ],
         "type": "scatterpolar"
        }
       ],
       "layout": {
        "height": 600,
        "legend": {
         "title": {
          "text": ""
         },
         "tracegroupgap": 0
        },
        "margin": {
         "b": 25,
         "l": 0,
         "r": 0,
         "t": 50
        },
        "polar": {
         "angularaxis": {
          "direction": "clockwise",
          "rotation": -90,
          "tickmode": "array",
          "ticktext": [
           "12 AM",
           "1 AM",
           "2 AM",
           "3 AM",
           "4 AM",
           "5 AM",
           "6 AM",
           "7 AM",
           "8 AM",
           "9 AM",
           "10 AM",
           "11 AM",
           "12 PM",
           "1 PM",
           "2 PM",
           "3 PM",
           "4 PM",
           "5 PM",
           "6 PM",
           "7 PM",
           "8 PM",
           "9 PM",
           "10 PM",
           "11 PM"
          ],
          "tickvals": [
           0,
           15,
           30,
           45,
           60,
           75,
           90,
           105,
           120,
           135,
           150,
           165,
           180,
           195,
           210,
           225,
           240,
           255,
           270,
           285,
           300,
           315,
           330,
           345
          ]
         },
         "domain": {
          "x": [
           0,
           1
          ],
          "y": [
           0,
           1
          ]
         }
        },
        "template": {
         "data": {
          "bar": [
           {
            "error_x": {
             "color": "#2a3f5f"
            },
            "error_y": {
             "color": "#2a3f5f"
            },
            "marker": {
             "line": {
              "color": "#E5ECF6",
              "width": 0.5
             },
             "pattern": {
              "fillmode": "overlay",
              "size": 10,
              "solidity": 0.2
             }
            },
            "type": "bar"
           }
          ],
          "barpolar": [
           {
            "marker": {
             "line": {
              "color": "#E5ECF6",
              "width": 0.5
             },
             "pattern": {
              "fillmode": "overlay",
              "size": 10,
              "solidity": 0.2
             }
            },
            "type": "barpolar"
           }
          ],
          "carpet": [
           {
            "aaxis": {
             "endlinecolor": "#2a3f5f",
             "gridcolor": "white",
             "linecolor": "white",
             "minorgridcolor": "white",
             "startlinecolor": "#2a3f5f"
            },
            "baxis": {
             "endlinecolor": "#2a3f5f",
             "gridcolor": "white",
             "linecolor": "white",
             "minorgridcolor": "white",
             "startlinecolor": "#2a3f5f"
            },
            "type": "carpet"
           }
          ],
          "choropleth": [
           {
            "colorbar": {
             "outlinewidth": 0,
             "ticks": ""
            },
            "type": "choropleth"
           }
          ],
          "contour": [
           {
            "colorbar": {
             "outlinewidth": 0,
             "ticks": ""
            },
            "colorscale": [
             [
              0,
              "#0d0887"
             ],
             [
              0.1111111111111111,
              "#46039f"
             ],
             [
              0.2222222222222222,
              "#7201a8"
             ],
             [
              0.3333333333333333,
              "#9c179e"
             ],
             [
              0.4444444444444444,
              "#bd3786"
             ],
             [
              0.5555555555555556,
              "#d8576b"
             ],
             [
              0.6666666666666666,
              "#ed7953"
             ],
             [
              0.7777777777777778,
              "#fb9f3a"
             ],
             [
              0.8888888888888888,
              "#fdca26"
             ],
             [
              1,
              "#f0f921"
             ]
            ],
            "type": "contour"
           }
          ],
          "contourcarpet": [
           {
            "colorbar": {
             "outlinewidth": 0,
             "ticks": ""
            },
            "type": "contourcarpet"
           }
          ],
          "heatmap": [
           {
            "colorbar": {
             "outlinewidth": 0,
             "ticks": ""
            },
            "colorscale": [
             [
              0,
              "#0d0887"
             ],
             [
              0.1111111111111111,
              "#46039f"
             ],
             [
              0.2222222222222222,
              "#7201a8"
             ],
             [
              0.3333333333333333,
              "#9c179e"
             ],
             [
              0.4444444444444444,
              "#bd3786"
             ],
             [
              0.5555555555555556,
              "#d8576b"
             ],
             [
              0.6666666666666666,
              "#ed7953"
             ],
             [
              0.7777777777777778,
              "#fb9f3a"
             ],
             [
              0.8888888888888888,
              "#fdca26"
             ],
             [
              1,
              "#f0f921"
             ]
            ],
            "type": "heatmap"
           }
          ],
          "heatmapgl": [
           {
            "colorbar": {
             "outlinewidth": 0,
             "ticks": ""
            },
            "colorscale": [
             [
              0,
              "#0d0887"
             ],
             [
              0.1111111111111111,
              "#46039f"
             ],
             [
              0.2222222222222222,
              "#7201a8"
             ],
             [
              0.3333333333333333,
              "#9c179e"
             ],
             [
              0.4444444444444444,
              "#bd3786"
             ],
             [
              0.5555555555555556,
              "#d8576b"
             ],
             [
              0.6666666666666666,
              "#ed7953"
             ],
             [
              0.7777777777777778,
              "#fb9f3a"
             ],
             [
              0.8888888888888888,
              "#fdca26"
             ],
             [
              1,
              "#f0f921"
             ]
            ],
            "type": "heatmapgl"
           }
          ],
          "histogram": [
           {
            "marker": {
             "pattern": {
              "fillmode": "overlay",
              "size": 10,
              "solidity": 0.2
             }
            },
            "type": "histogram"
           }
          ],
          "histogram2d": [
           {
            "colorbar": {
             "outlinewidth": 0,
             "ticks": ""
            },
            "colorscale": [
             [
              0,
              "#0d0887"
             ],
             [
              0.1111111111111111,
              "#46039f"
             ],
             [
              0.2222222222222222,
              "#7201a8"
             ],
             [
              0.3333333333333333,
              "#9c179e"
             ],
             [
              0.4444444444444444,
              "#bd3786"
             ],
             [
              0.5555555555555556,
              "#d8576b"
             ],
             [
              0.6666666666666666,
              "#ed7953"
             ],
             [
              0.7777777777777778,
              "#fb9f3a"
             ],
             [
              0.8888888888888888,
              "#fdca26"
             ],
             [
              1,
              "#f0f921"
             ]
            ],
            "type": "histogram2d"
           }
          ],
          "histogram2dcontour": [
           {
            "colorbar": {
             "outlinewidth": 0,
             "ticks": ""
            },
            "colorscale": [
             [
              0,
              "#0d0887"
             ],
             [
              0.1111111111111111,
              "#46039f"
             ],
             [
              0.2222222222222222,
              "#7201a8"
             ],
             [
              0.3333333333333333,
              "#9c179e"
             ],
             [
              0.4444444444444444,
              "#bd3786"
             ],
             [
              0.5555555555555556,
              "#d8576b"
             ],
             [
              0.6666666666666666,
              "#ed7953"
             ],
             [
              0.7777777777777778,
              "#fb9f3a"
             ],
             [
              0.8888888888888888,
              "#fdca26"
             ],
             [
              1,
              "#f0f921"
             ]
            ],
            "type": "histogram2dcontour"
           }
          ],
          "mesh3d": [
           {
            "colorbar": {
             "outlinewidth": 0,
             "ticks": ""
            },
            "type": "mesh3d"
           }
          ],
          "parcoords": [
           {
            "line": {
             "colorbar": {
              "outlinewidth": 0,
              "ticks": ""
             }
            },
            "type": "parcoords"
           }
          ],
          "pie": [
           {
            "automargin": true,
            "type": "pie"
           }
          ],
          "scatter": [
           {
            "fillpattern": {
             "fillmode": "overlay",
             "size": 10,
             "solidity": 0.2
            },
            "type": "scatter"
           }
          ],
          "scatter3d": [
           {
            "line": {
             "colorbar": {
              "outlinewidth": 0,
              "ticks": ""
             }
            },
            "marker": {
             "colorbar": {
              "outlinewidth": 0,
              "ticks": ""
             }
            },
            "type": "scatter3d"
           }
          ],
          "scattercarpet": [
           {
            "marker": {
             "colorbar": {
              "outlinewidth": 0,
              "ticks": ""
             }
            },
            "type": "scattercarpet"
           }
          ],
          "scattergeo": [
           {
            "marker": {
             "colorbar": {
              "outlinewidth": 0,
              "ticks": ""
             }
            },
            "type": "scattergeo"
           }
          ],
          "scattergl": [
           {
            "marker": {
             "colorbar": {
              "outlinewidth": 0,
              "ticks": ""
             }
            },
            "type": "scattergl"
           }
          ],
          "scattermapbox": [
           {
            "marker": {
             "colorbar": {
              "outlinewidth": 0,
              "ticks": ""
             }
            },
            "type": "scattermapbox"
           }
          ],
          "scatterpolar": [
           {
            "marker": {
             "colorbar": {
              "outlinewidth": 0,
              "ticks": ""
             }
            },
            "type": "scatterpolar"
           }
          ],
          "scatterpolargl": [
           {
            "marker": {
             "colorbar": {
              "outlinewidth": 0,
              "ticks": ""
             }
            },
            "type": "scatterpolargl"
           }
          ],
          "scatterternary": [
           {
            "marker": {
             "colorbar": {
              "outlinewidth": 0,
              "ticks": ""
             }
            },
            "type": "scatterternary"
           }
          ],
          "surface": [
           {
            "colorbar": {
             "outlinewidth": 0,
             "ticks": ""
            },
            "colorscale": [
             [
              0,
              "#0d0887"
             ],
             [
              0.1111111111111111,
              "#46039f"
             ],
             [
              0.2222222222222222,
              "#7201a8"
             ],
             [
              0.3333333333333333,
              "#9c179e"
             ],
             [
              0.4444444444444444,
              "#bd3786"
             ],
             [
              0.5555555555555556,
              "#d8576b"
             ],
             [
              0.6666666666666666,
              "#ed7953"
             ],
             [
              0.7777777777777778,
              "#fb9f3a"
             ],
             [
              0.8888888888888888,
              "#fdca26"
             ],
             [
              1,
              "#f0f921"
             ]
            ],
            "type": "surface"
           }
          ],
          "table": [
           {
            "cells": {
             "fill": {
              "color": "#EBF0F8"
             },
             "line": {
              "color": "white"
             }
            },
            "header": {
             "fill": {
              "color": "#C8D4E3"
             },
             "line": {
              "color": "white"
             }
            },
            "type": "table"
           }
          ]
         },
         "layout": {
          "annotationdefaults": {
           "arrowcolor": "#2a3f5f",
           "arrowhead": 0,
           "arrowwidth": 1
          },
          "autotypenumbers": "strict",
          "coloraxis": {
           "colorbar": {
            "outlinewidth": 0,
            "ticks": ""
           }
          },
          "colorscale": {
           "diverging": [
            [
             0,
             "#8e0152"
            ],
            [
             0.1,
             "#c51b7d"
            ],
            [
             0.2,
             "#de77ae"
            ],
            [
             0.3,
             "#f1b6da"
            ],
            [
             0.4,
             "#fde0ef"
            ],
            [
             0.5,
             "#f7f7f7"
            ],
            [
             0.6,
             "#e6f5d0"
            ],
            [
             0.7,
             "#b8e186"
            ],
            [
             0.8,
             "#7fbc41"
            ],
            [
             0.9,
             "#4d9221"
            ],
            [
             1,
             "#276419"
            ]
           ],
           "sequential": [
            [
             0,
             "#0d0887"
            ],
            [
             0.1111111111111111,
             "#46039f"
            ],
            [
             0.2222222222222222,
             "#7201a8"
            ],
            [
             0.3333333333333333,
             "#9c179e"
            ],
            [
             0.4444444444444444,
             "#bd3786"
            ],
            [
             0.5555555555555556,
             "#d8576b"
            ],
            [
             0.6666666666666666,
             "#ed7953"
            ],
            [
             0.7777777777777778,
             "#fb9f3a"
            ],
            [
             0.8888888888888888,
             "#fdca26"
            ],
            [
             1,
             "#f0f921"
            ]
           ],
           "sequentialminus": [
            [
             0,
             "#0d0887"
            ],
            [
             0.1111111111111111,
             "#46039f"
            ],
            [
             0.2222222222222222,
             "#7201a8"
            ],
            [
             0.3333333333333333,
             "#9c179e"
            ],
            [
             0.4444444444444444,
             "#bd3786"
            ],
            [
             0.5555555555555556,
             "#d8576b"
            ],
            [
             0.6666666666666666,
             "#ed7953"
            ],
            [
             0.7777777777777778,
             "#fb9f3a"
            ],
            [
             0.8888888888888888,
             "#fdca26"
            ],
            [
             1,
             "#f0f921"
            ]
           ]
          },
          "colorway": [
           "#636efa",
           "#EF553B",
           "#00cc96",
           "#ab63fa",
           "#FFA15A",
           "#19d3f3",
           "#FF6692",
           "#B6E880",
           "#FF97FF",
           "#FECB52"
          ],
          "font": {
           "color": "#2a3f5f"
          },
          "geo": {
           "bgcolor": "white",
           "lakecolor": "white",
           "landcolor": "#E5ECF6",
           "showlakes": true,
           "showland": true,
           "subunitcolor": "white"
          },
          "hoverlabel": {
           "align": "left"
          },
          "hovermode": "closest",
          "mapbox": {
           "style": "light"
          },
          "paper_bgcolor": "white",
          "plot_bgcolor": "#E5ECF6",
          "polar": {
           "angularaxis": {
            "gridcolor": "white",
            "linecolor": "white",
            "ticks": ""
           },
           "bgcolor": "#E5ECF6",
           "radialaxis": {
            "gridcolor": "white",
            "linecolor": "white",
            "ticks": ""
           }
          },
          "scene": {
           "xaxis": {
            "backgroundcolor": "#E5ECF6",
            "gridcolor": "white",
            "gridwidth": 2,
            "linecolor": "white",
            "showbackground": true,
            "ticks": "",
            "zerolinecolor": "white"
           },
           "yaxis": {
            "backgroundcolor": "#E5ECF6",
            "gridcolor": "white",
            "gridwidth": 2,
            "linecolor": "white",
            "showbackground": true,
            "ticks": "",
            "zerolinecolor": "white"
           },
           "zaxis": {
            "backgroundcolor": "#E5ECF6",
            "gridcolor": "white",
            "gridwidth": 2,
            "linecolor": "white",
            "showbackground": true,
            "ticks": "",
            "zerolinecolor": "white"
           }
          },
          "shapedefaults": {
           "line": {
            "color": "#2a3f5f"
           }
          },
          "ternary": {
           "aaxis": {
            "gridcolor": "white",
            "linecolor": "white",
            "ticks": ""
           },
           "baxis": {
            "gridcolor": "white",
            "linecolor": "white",
            "ticks": ""
           },
           "bgcolor": "#E5ECF6",
           "caxis": {
            "gridcolor": "white",
            "linecolor": "white",
            "ticks": ""
           }
          },
          "title": {
           "x": 0.05
          },
          "xaxis": {
           "automargin": true,
           "gridcolor": "white",
           "linecolor": "white",
           "ticks": "",
           "title": {
            "standoff": 15
           },
           "zerolinecolor": "white",
           "zerolinewidth": 2
          },
          "yaxis": {
           "automargin": true,
           "gridcolor": "white",
           "linecolor": "white",
           "ticks": "",
           "title": {
            "standoff": 15
           },
           "zerolinecolor": "white",
           "zerolinewidth": 2
          }
         }
        },
        "title": {
         "text": "Hourly Bluebike Trips Near Hunt Playground II"
        },
        "width": 800
       }
      }
     },
     "metadata": {},
     "output_type": "display_data"
    },
    {
     "name": "stdout",
     "output_type": "stream",
     "text": [
      "1 nearest station to Barry Playground: Spaulding Rehabilitation Hospital - Charlestown Navy Yard\n"
     ]
    },
    {
     "name": "stderr",
     "output_type": "stream",
     "text": [
      "/Users/henrywu/opt/anaconda3/lib/python3.9/site-packages/plotly/express/_core.py:271: FutureWarning:\n",
      "\n",
      "The frame.append method is deprecated and will be removed from pandas in a future version. Use pandas.concat instead.\n",
      "\n",
      "/Users/henrywu/opt/anaconda3/lib/python3.9/site-packages/plotly/express/_core.py:271: FutureWarning:\n",
      "\n",
      "The frame.append method is deprecated and will be removed from pandas in a future version. Use pandas.concat instead.\n",
      "\n",
      "/Users/henrywu/opt/anaconda3/lib/python3.9/site-packages/plotly/express/_core.py:271: FutureWarning:\n",
      "\n",
      "The frame.append method is deprecated and will be removed from pandas in a future version. Use pandas.concat instead.\n",
      "\n",
      "/Users/henrywu/opt/anaconda3/lib/python3.9/site-packages/plotly/express/_core.py:271: FutureWarning:\n",
      "\n",
      "The frame.append method is deprecated and will be removed from pandas in a future version. Use pandas.concat instead.\n",
      "\n"
     ]
    },
    {
     "data": {
      "application/vnd.plotly.v1+json": {
       "config": {
        "plotlyServerURL": "https://plot.ly"
       },
       "data": [
        {
         "customdata": [
          [
           0.6033755274261603,
           7.5
          ],
          [
           0.28164556962025317,
           22.5
          ],
          [
           0.16877637130801687,
           37.5
          ],
          [
           0.16666666666666666,
           52.5
          ],
          [
           0.0770042194092827,
           67.5
          ],
          [
           0.1940928270042194,
           82.5
          ],
          [
           0.9082278481012658,
           97.5
          ],
          [
           1.5833333333333333,
           112.5
          ],
          [
           2.80168776371308,
           127.5
          ],
          [
           1.0748945147679325,
           142.5
          ],
          [
           1.0137130801687764,
           157.5
          ],
          [
           1.3080168776371308,
           172.5
          ],
          [
           1.8670886075949367,
           187.5
          ],
          [
           2.067510548523207,
           202.5
          ],
          [
           2.492616033755274,
           217.5
          ],
          [
           3.571729957805907,
           232.5
          ],
          [
           6.537974683544304,
           247.5
          ],
          [
           7.6075949367088604,
           262.5
          ],
          [
           5.082278481012659,
           277.5
          ],
          [
           3.030590717299578,
           292.5
          ],
          [
           2.712025316455696,
           307.5
          ],
          [
           2.7816455696202533,
           322.5
          ],
          [
           1.7637130801687764,
           337.5
          ],
          [
           1.010548523206751,
           352.5
          ],
          [
           0.6033755274261603,
           7.5
          ]
         ],
         "hovertemplate": "Day Type=Weekday<br>Trip Type=Departures<br>Trips=%{customdata[0]:.2f}<extra></extra>",
         "legendgroup": "Weekday, Departures",
         "line": {
          "color": "#636efa",
          "dash": "solid"
         },
         "marker": {
          "symbol": "circle"
         },
         "mode": "lines",
         "name": "Weekday, Departures",
         "r": [
          0.6033755274261603,
          0.28164556962025317,
          0.16877637130801687,
          0.16666666666666666,
          0.0770042194092827,
          0.1940928270042194,
          0.9082278481012658,
          1.5833333333333333,
          2.80168776371308,
          1.0748945147679325,
          1.0137130801687764,
          1.3080168776371308,
          1.8670886075949367,
          2.067510548523207,
          2.492616033755274,
          3.571729957805907,
          6.537974683544304,
          7.6075949367088604,
          5.082278481012659,
          3.030590717299578,
          2.712025316455696,
          2.7816455696202533,
          1.7637130801687764,
          1.010548523206751,
          0.6033755274261603
         ],
         "showlegend": true,
         "subplot": "polar",
         "theta": [
          7.5,
          22.5,
          37.5,
          52.5,
          67.5,
          82.5,
          97.5,
          112.5,
          127.5,
          142.5,
          157.5,
          172.5,
          187.5,
          202.5,
          217.5,
          232.5,
          247.5,
          262.5,
          277.5,
          292.5,
          307.5,
          322.5,
          337.5,
          352.5,
          7.5
         ],
         "type": "scatterpolar"
        },
        {
         "customdata": [
          [
           0.3407172995780591,
           7.5
          ],
          [
           0.17721518987341772,
           22.5
          ],
          [
           0.12658227848101267,
           37.5
          ],
          [
           0.11181434599156118,
           52.5
          ],
          [
           0.05485232067510549,
           67.5
          ],
          [
           0.12869198312236288,
           82.5
          ],
          [
           1.2869198312236287,
           97.5
          ],
          [
           4.155063291139241,
           112.5
          ],
          [
           7.310126582278481,
           127.5
          ],
          [
           6.172995780590718,
           142.5
          ],
          [
           3.3797468354430378,
           157.5
          ],
          [
           2.4989451476793247,
           172.5
          ],
          [
           3.5738396624472575,
           187.5
          ],
          [
           3.380801687763713,
           202.5
          ],
          [
           2.2352320675105486,
           217.5
          ],
          [
           2.0474683544303796,
           232.5
          ],
          [
           2.2742616033755274,
           247.5
          ],
          [
           4.118143459915612,
           262.5
          ],
          [
           3.2858649789029535,
           277.5
          ],
          [
           1.8649789029535866,
           292.5
          ],
          [
           1.4419831223628692,
           307.5
          ],
          [
           1.391350210970464,
           322.5
          ],
          [
           1.2552742616033756,
           337.5
          ],
          [
           0.8227848101265823,
           352.5
          ],
          [
           0.3407172995780591,
           7.5
          ]
         ],
         "hovertemplate": "Day Type=Weekday<br>Trip Type=Arrivals<br>Trips=%{customdata[0]:.2f}<extra></extra>",
         "legendgroup": "Weekday, Arrivals",
         "line": {
          "color": "#636efa",
          "dash": "dot"
         },
         "marker": {
          "symbol": "circle"
         },
         "mode": "lines",
         "name": "Weekday, Arrivals",
         "r": [
          0.3407172995780591,
          0.17721518987341772,
          0.12658227848101267,
          0.11181434599156118,
          0.05485232067510549,
          0.12869198312236288,
          1.2869198312236287,
          4.155063291139241,
          7.310126582278481,
          6.172995780590718,
          3.3797468354430378,
          2.4989451476793247,
          3.5738396624472575,
          3.380801687763713,
          2.2352320675105486,
          2.0474683544303796,
          2.2742616033755274,
          4.118143459915612,
          3.2858649789029535,
          1.8649789029535866,
          1.4419831223628692,
          1.391350210970464,
          1.2552742616033756,
          0.8227848101265823,
          0.3407172995780591
         ],
         "showlegend": true,
         "subplot": "polar",
         "theta": [
          7.5,
          22.5,
          37.5,
          52.5,
          67.5,
          82.5,
          97.5,
          112.5,
          127.5,
          142.5,
          157.5,
          172.5,
          187.5,
          202.5,
          217.5,
          232.5,
          247.5,
          262.5,
          277.5,
          292.5,
          307.5,
          322.5,
          337.5,
          352.5,
          7.5
         ],
         "type": "scatterpolar"
        },
        {
         "customdata": [
          [
           0.17721518987341772,
           7.5
          ],
          [
           0.09282700421940929,
           22.5
          ],
          [
           0.06329113924050633,
           37.5
          ],
          [
           0.06223628691983123,
           52.5
          ],
          [
           0.03691983122362869,
           67.5
          ],
          [
           0.03164556962025317,
           82.5
          ],
          [
           0.043248945147679324,
           97.5
          ],
          [
           0.13185654008438819,
           112.5
          ],
          [
           0.2289029535864979,
           127.5
          ],
          [
           0.25738396624472576,
           142.5
          ],
          [
           0.5031645569620253,
           157.5
          ],
          [
           0.6234177215189873,
           172.5
          ],
          [
           0.7436708860759493,
           187.5
          ],
          [
           0.70042194092827,
           202.5
          ],
          [
           0.7236286919831224,
           217.5
          ],
          [
           0.8987341772151899,
           232.5
          ],
          [
           0.8755274261603375,
           247.5
          ],
          [
           0.8639240506329114,
           262.5
          ],
          [
           0.810126582278481,
           277.5
          ],
          [
           0.7151898734177216,
           292.5
          ],
          [
           0.4525316455696203,
           307.5
          ],
          [
           0.4282700421940928,
           322.5
          ],
          [
           0.3649789029535865,
           337.5
          ],
          [
           0.29535864978902954,
           352.5
          ],
          [
           0.17721518987341772,
           7.5
          ]
         ],
         "hovertemplate": "Day Type=Weekend<br>Trip Type=Departures<br>Trips=%{customdata[0]:.2f}<extra></extra>",
         "legendgroup": "Weekend, Departures",
         "line": {
          "color": "#EF553B",
          "dash": "solid"
         },
         "marker": {
          "symbol": "circle"
         },
         "mode": "lines",
         "name": "Weekend, Departures",
         "r": [
          0.17721518987341772,
          0.09282700421940929,
          0.06329113924050633,
          0.06223628691983123,
          0.03691983122362869,
          0.03164556962025317,
          0.043248945147679324,
          0.13185654008438819,
          0.2289029535864979,
          0.25738396624472576,
          0.5031645569620253,
          0.6234177215189873,
          0.7436708860759493,
          0.70042194092827,
          0.7236286919831224,
          0.8987341772151899,
          0.8755274261603375,
          0.8639240506329114,
          0.810126582278481,
          0.7151898734177216,
          0.4525316455696203,
          0.4282700421940928,
          0.3649789029535865,
          0.29535864978902954,
          0.17721518987341772
         ],
         "showlegend": true,
         "subplot": "polar",
         "theta": [
          7.5,
          22.5,
          37.5,
          52.5,
          67.5,
          82.5,
          97.5,
          112.5,
          127.5,
          142.5,
          157.5,
          172.5,
          187.5,
          202.5,
          217.5,
          232.5,
          247.5,
          262.5,
          277.5,
          292.5,
          307.5,
          322.5,
          337.5,
          352.5,
          7.5
         ],
         "type": "scatterpolar"
        },
        {
         "customdata": [
          [
           0.19936708860759494,
           7.5
          ],
          [
           0.12025316455696203,
           22.5
          ],
          [
           0.07278481012658228,
           37.5
          ],
          [
           0.07805907172995781,
           52.5
          ],
          [
           0.06118143459915612,
           67.5
          ],
          [
           0.05063291139240506,
           82.5
          ],
          [
           0.12763713080168776,
           97.5
          ],
          [
           0.2468354430379747,
           112.5
          ],
          [
           0.37341772151898733,
           127.5
          ],
          [
           0.5907172995780591,
           142.5
          ],
          [
           0.6919831223628692,
           157.5
          ],
          [
           0.7130801687763713,
           172.5
          ],
          [
           0.7109704641350211,
           187.5
          ],
          [
           0.7921940928270043,
           202.5
          ],
          [
           0.8913502109704642,
           217.5
          ],
          [
           0.9683544303797469,
           232.5
          ],
          [
           0.9092827004219409,
           247.5
          ],
          [
           0.7267932489451476,
           262.5
          ],
          [
           0.7710970464135021,
           277.5
          ],
          [
           0.5970464135021097,
           292.5
          ],
          [
           0.47468354430379744,
           307.5
          ],
          [
           0.3575949367088608,
           322.5
          ],
          [
           0.27848101265822783,
           337.5
          ],
          [
           0.20147679324894516,
           352.5
          ],
          [
           0.19936708860759494,
           7.5
          ]
         ],
         "hovertemplate": "Day Type=Weekend<br>Trip Type=Arrivals<br>Trips=%{customdata[0]:.2f}<extra></extra>",
         "legendgroup": "Weekend, Arrivals",
         "line": {
          "color": "#EF553B",
          "dash": "dot"
         },
         "marker": {
          "symbol": "circle"
         },
         "mode": "lines",
         "name": "Weekend, Arrivals",
         "r": [
          0.19936708860759494,
          0.12025316455696203,
          0.07278481012658228,
          0.07805907172995781,
          0.06118143459915612,
          0.05063291139240506,
          0.12763713080168776,
          0.2468354430379747,
          0.37341772151898733,
          0.5907172995780591,
          0.6919831223628692,
          0.7130801687763713,
          0.7109704641350211,
          0.7921940928270043,
          0.8913502109704642,
          0.9683544303797469,
          0.9092827004219409,
          0.7267932489451476,
          0.7710970464135021,
          0.5970464135021097,
          0.47468354430379744,
          0.3575949367088608,
          0.27848101265822783,
          0.20147679324894516,
          0.19936708860759494
         ],
         "showlegend": true,
         "subplot": "polar",
         "theta": [
          7.5,
          22.5,
          37.5,
          52.5,
          67.5,
          82.5,
          97.5,
          112.5,
          127.5,
          142.5,
          157.5,
          172.5,
          187.5,
          202.5,
          217.5,
          232.5,
          247.5,
          262.5,
          277.5,
          292.5,
          307.5,
          322.5,
          337.5,
          352.5,
          7.5
         ],
         "type": "scatterpolar"
        }
       ],
       "layout": {
        "height": 600,
        "legend": {
         "title": {
          "text": ""
         },
         "tracegroupgap": 0
        },
        "margin": {
         "b": 25,
         "l": 0,
         "r": 0,
         "t": 50
        },
        "polar": {
         "angularaxis": {
          "direction": "clockwise",
          "rotation": -90,
          "tickmode": "array",
          "ticktext": [
           "12 AM",
           "1 AM",
           "2 AM",
           "3 AM",
           "4 AM",
           "5 AM",
           "6 AM",
           "7 AM",
           "8 AM",
           "9 AM",
           "10 AM",
           "11 AM",
           "12 PM",
           "1 PM",
           "2 PM",
           "3 PM",
           "4 PM",
           "5 PM",
           "6 PM",
           "7 PM",
           "8 PM",
           "9 PM",
           "10 PM",
           "11 PM"
          ],
          "tickvals": [
           0,
           15,
           30,
           45,
           60,
           75,
           90,
           105,
           120,
           135,
           150,
           165,
           180,
           195,
           210,
           225,
           240,
           255,
           270,
           285,
           300,
           315,
           330,
           345
          ]
         },
         "domain": {
          "x": [
           0,
           1
          ],
          "y": [
           0,
           1
          ]
         }
        },
        "template": {
         "data": {
          "bar": [
           {
            "error_x": {
             "color": "#2a3f5f"
            },
            "error_y": {
             "color": "#2a3f5f"
            },
            "marker": {
             "line": {
              "color": "#E5ECF6",
              "width": 0.5
             },
             "pattern": {
              "fillmode": "overlay",
              "size": 10,
              "solidity": 0.2
             }
            },
            "type": "bar"
           }
          ],
          "barpolar": [
           {
            "marker": {
             "line": {
              "color": "#E5ECF6",
              "width": 0.5
             },
             "pattern": {
              "fillmode": "overlay",
              "size": 10,
              "solidity": 0.2
             }
            },
            "type": "barpolar"
           }
          ],
          "carpet": [
           {
            "aaxis": {
             "endlinecolor": "#2a3f5f",
             "gridcolor": "white",
             "linecolor": "white",
             "minorgridcolor": "white",
             "startlinecolor": "#2a3f5f"
            },
            "baxis": {
             "endlinecolor": "#2a3f5f",
             "gridcolor": "white",
             "linecolor": "white",
             "minorgridcolor": "white",
             "startlinecolor": "#2a3f5f"
            },
            "type": "carpet"
           }
          ],
          "choropleth": [
           {
            "colorbar": {
             "outlinewidth": 0,
             "ticks": ""
            },
            "type": "choropleth"
           }
          ],
          "contour": [
           {
            "colorbar": {
             "outlinewidth": 0,
             "ticks": ""
            },
            "colorscale": [
             [
              0,
              "#0d0887"
             ],
             [
              0.1111111111111111,
              "#46039f"
             ],
             [
              0.2222222222222222,
              "#7201a8"
             ],
             [
              0.3333333333333333,
              "#9c179e"
             ],
             [
              0.4444444444444444,
              "#bd3786"
             ],
             [
              0.5555555555555556,
              "#d8576b"
             ],
             [
              0.6666666666666666,
              "#ed7953"
             ],
             [
              0.7777777777777778,
              "#fb9f3a"
             ],
             [
              0.8888888888888888,
              "#fdca26"
             ],
             [
              1,
              "#f0f921"
             ]
            ],
            "type": "contour"
           }
          ],
          "contourcarpet": [
           {
            "colorbar": {
             "outlinewidth": 0,
             "ticks": ""
            },
            "type": "contourcarpet"
           }
          ],
          "heatmap": [
           {
            "colorbar": {
             "outlinewidth": 0,
             "ticks": ""
            },
            "colorscale": [
             [
              0,
              "#0d0887"
             ],
             [
              0.1111111111111111,
              "#46039f"
             ],
             [
              0.2222222222222222,
              "#7201a8"
             ],
             [
              0.3333333333333333,
              "#9c179e"
             ],
             [
              0.4444444444444444,
              "#bd3786"
             ],
             [
              0.5555555555555556,
              "#d8576b"
             ],
             [
              0.6666666666666666,
              "#ed7953"
             ],
             [
              0.7777777777777778,
              "#fb9f3a"
             ],
             [
              0.8888888888888888,
              "#fdca26"
             ],
             [
              1,
              "#f0f921"
             ]
            ],
            "type": "heatmap"
           }
          ],
          "heatmapgl": [
           {
            "colorbar": {
             "outlinewidth": 0,
             "ticks": ""
            },
            "colorscale": [
             [
              0,
              "#0d0887"
             ],
             [
              0.1111111111111111,
              "#46039f"
             ],
             [
              0.2222222222222222,
              "#7201a8"
             ],
             [
              0.3333333333333333,
              "#9c179e"
             ],
             [
              0.4444444444444444,
              "#bd3786"
             ],
             [
              0.5555555555555556,
              "#d8576b"
             ],
             [
              0.6666666666666666,
              "#ed7953"
             ],
             [
              0.7777777777777778,
              "#fb9f3a"
             ],
             [
              0.8888888888888888,
              "#fdca26"
             ],
             [
              1,
              "#f0f921"
             ]
            ],
            "type": "heatmapgl"
           }
          ],
          "histogram": [
           {
            "marker": {
             "pattern": {
              "fillmode": "overlay",
              "size": 10,
              "solidity": 0.2
             }
            },
            "type": "histogram"
           }
          ],
          "histogram2d": [
           {
            "colorbar": {
             "outlinewidth": 0,
             "ticks": ""
            },
            "colorscale": [
             [
              0,
              "#0d0887"
             ],
             [
              0.1111111111111111,
              "#46039f"
             ],
             [
              0.2222222222222222,
              "#7201a8"
             ],
             [
              0.3333333333333333,
              "#9c179e"
             ],
             [
              0.4444444444444444,
              "#bd3786"
             ],
             [
              0.5555555555555556,
              "#d8576b"
             ],
             [
              0.6666666666666666,
              "#ed7953"
             ],
             [
              0.7777777777777778,
              "#fb9f3a"
             ],
             [
              0.8888888888888888,
              "#fdca26"
             ],
             [
              1,
              "#f0f921"
             ]
            ],
            "type": "histogram2d"
           }
          ],
          "histogram2dcontour": [
           {
            "colorbar": {
             "outlinewidth": 0,
             "ticks": ""
            },
            "colorscale": [
             [
              0,
              "#0d0887"
             ],
             [
              0.1111111111111111,
              "#46039f"
             ],
             [
              0.2222222222222222,
              "#7201a8"
             ],
             [
              0.3333333333333333,
              "#9c179e"
             ],
             [
              0.4444444444444444,
              "#bd3786"
             ],
             [
              0.5555555555555556,
              "#d8576b"
             ],
             [
              0.6666666666666666,
              "#ed7953"
             ],
             [
              0.7777777777777778,
              "#fb9f3a"
             ],
             [
              0.8888888888888888,
              "#fdca26"
             ],
             [
              1,
              "#f0f921"
             ]
            ],
            "type": "histogram2dcontour"
           }
          ],
          "mesh3d": [
           {
            "colorbar": {
             "outlinewidth": 0,
             "ticks": ""
            },
            "type": "mesh3d"
           }
          ],
          "parcoords": [
           {
            "line": {
             "colorbar": {
              "outlinewidth": 0,
              "ticks": ""
             }
            },
            "type": "parcoords"
           }
          ],
          "pie": [
           {
            "automargin": true,
            "type": "pie"
           }
          ],
          "scatter": [
           {
            "fillpattern": {
             "fillmode": "overlay",
             "size": 10,
             "solidity": 0.2
            },
            "type": "scatter"
           }
          ],
          "scatter3d": [
           {
            "line": {
             "colorbar": {
              "outlinewidth": 0,
              "ticks": ""
             }
            },
            "marker": {
             "colorbar": {
              "outlinewidth": 0,
              "ticks": ""
             }
            },
            "type": "scatter3d"
           }
          ],
          "scattercarpet": [
           {
            "marker": {
             "colorbar": {
              "outlinewidth": 0,
              "ticks": ""
             }
            },
            "type": "scattercarpet"
           }
          ],
          "scattergeo": [
           {
            "marker": {
             "colorbar": {
              "outlinewidth": 0,
              "ticks": ""
             }
            },
            "type": "scattergeo"
           }
          ],
          "scattergl": [
           {
            "marker": {
             "colorbar": {
              "outlinewidth": 0,
              "ticks": ""
             }
            },
            "type": "scattergl"
           }
          ],
          "scattermapbox": [
           {
            "marker": {
             "colorbar": {
              "outlinewidth": 0,
              "ticks": ""
             }
            },
            "type": "scattermapbox"
           }
          ],
          "scatterpolar": [
           {
            "marker": {
             "colorbar": {
              "outlinewidth": 0,
              "ticks": ""
             }
            },
            "type": "scatterpolar"
           }
          ],
          "scatterpolargl": [
           {
            "marker": {
             "colorbar": {
              "outlinewidth": 0,
              "ticks": ""
             }
            },
            "type": "scatterpolargl"
           }
          ],
          "scatterternary": [
           {
            "marker": {
             "colorbar": {
              "outlinewidth": 0,
              "ticks": ""
             }
            },
            "type": "scatterternary"
           }
          ],
          "surface": [
           {
            "colorbar": {
             "outlinewidth": 0,
             "ticks": ""
            },
            "colorscale": [
             [
              0,
              "#0d0887"
             ],
             [
              0.1111111111111111,
              "#46039f"
             ],
             [
              0.2222222222222222,
              "#7201a8"
             ],
             [
              0.3333333333333333,
              "#9c179e"
             ],
             [
              0.4444444444444444,
              "#bd3786"
             ],
             [
              0.5555555555555556,
              "#d8576b"
             ],
             [
              0.6666666666666666,
              "#ed7953"
             ],
             [
              0.7777777777777778,
              "#fb9f3a"
             ],
             [
              0.8888888888888888,
              "#fdca26"
             ],
             [
              1,
              "#f0f921"
             ]
            ],
            "type": "surface"
           }
          ],
          "table": [
           {
            "cells": {
             "fill": {
              "color": "#EBF0F8"
             },
             "line": {
              "color": "white"
             }
            },
            "header": {
             "fill": {
              "color": "#C8D4E3"
             },
             "line": {
              "color": "white"
             }
            },
            "type": "table"
           }
          ]
         },
         "layout": {
          "annotationdefaults": {
           "arrowcolor": "#2a3f5f",
           "arrowhead": 0,
           "arrowwidth": 1
          },
          "autotypenumbers": "strict",
          "coloraxis": {
           "colorbar": {
            "outlinewidth": 0,
            "ticks": ""
           }
          },
          "colorscale": {
           "diverging": [
            [
             0,
             "#8e0152"
            ],
            [
             0.1,
             "#c51b7d"
            ],
            [
             0.2,
             "#de77ae"
            ],
            [
             0.3,
             "#f1b6da"
            ],
            [
             0.4,
             "#fde0ef"
            ],
            [
             0.5,
             "#f7f7f7"
            ],
            [
             0.6,
             "#e6f5d0"
            ],
            [
             0.7,
             "#b8e186"
            ],
            [
             0.8,
             "#7fbc41"
            ],
            [
             0.9,
             "#4d9221"
            ],
            [
             1,
             "#276419"
            ]
           ],
           "sequential": [
            [
             0,
             "#0d0887"
            ],
            [
             0.1111111111111111,
             "#46039f"
            ],
            [
             0.2222222222222222,
             "#7201a8"
            ],
            [
             0.3333333333333333,
             "#9c179e"
            ],
            [
             0.4444444444444444,
             "#bd3786"
            ],
            [
             0.5555555555555556,
             "#d8576b"
            ],
            [
             0.6666666666666666,
             "#ed7953"
            ],
            [
             0.7777777777777778,
             "#fb9f3a"
            ],
            [
             0.8888888888888888,
             "#fdca26"
            ],
            [
             1,
             "#f0f921"
            ]
           ],
           "sequentialminus": [
            [
             0,
             "#0d0887"
            ],
            [
             0.1111111111111111,
             "#46039f"
            ],
            [
             0.2222222222222222,
             "#7201a8"
            ],
            [
             0.3333333333333333,
             "#9c179e"
            ],
            [
             0.4444444444444444,
             "#bd3786"
            ],
            [
             0.5555555555555556,
             "#d8576b"
            ],
            [
             0.6666666666666666,
             "#ed7953"
            ],
            [
             0.7777777777777778,
             "#fb9f3a"
            ],
            [
             0.8888888888888888,
             "#fdca26"
            ],
            [
             1,
             "#f0f921"
            ]
           ]
          },
          "colorway": [
           "#636efa",
           "#EF553B",
           "#00cc96",
           "#ab63fa",
           "#FFA15A",
           "#19d3f3",
           "#FF6692",
           "#B6E880",
           "#FF97FF",
           "#FECB52"
          ],
          "font": {
           "color": "#2a3f5f"
          },
          "geo": {
           "bgcolor": "white",
           "lakecolor": "white",
           "landcolor": "#E5ECF6",
           "showlakes": true,
           "showland": true,
           "subunitcolor": "white"
          },
          "hoverlabel": {
           "align": "left"
          },
          "hovermode": "closest",
          "mapbox": {
           "style": "light"
          },
          "paper_bgcolor": "white",
          "plot_bgcolor": "#E5ECF6",
          "polar": {
           "angularaxis": {
            "gridcolor": "white",
            "linecolor": "white",
            "ticks": ""
           },
           "bgcolor": "#E5ECF6",
           "radialaxis": {
            "gridcolor": "white",
            "linecolor": "white",
            "ticks": ""
           }
          },
          "scene": {
           "xaxis": {
            "backgroundcolor": "#E5ECF6",
            "gridcolor": "white",
            "gridwidth": 2,
            "linecolor": "white",
            "showbackground": true,
            "ticks": "",
            "zerolinecolor": "white"
           },
           "yaxis": {
            "backgroundcolor": "#E5ECF6",
            "gridcolor": "white",
            "gridwidth": 2,
            "linecolor": "white",
            "showbackground": true,
            "ticks": "",
            "zerolinecolor": "white"
           },
           "zaxis": {
            "backgroundcolor": "#E5ECF6",
            "gridcolor": "white",
            "gridwidth": 2,
            "linecolor": "white",
            "showbackground": true,
            "ticks": "",
            "zerolinecolor": "white"
           }
          },
          "shapedefaults": {
           "line": {
            "color": "#2a3f5f"
           }
          },
          "ternary": {
           "aaxis": {
            "gridcolor": "white",
            "linecolor": "white",
            "ticks": ""
           },
           "baxis": {
            "gridcolor": "white",
            "linecolor": "white",
            "ticks": ""
           },
           "bgcolor": "#E5ECF6",
           "caxis": {
            "gridcolor": "white",
            "linecolor": "white",
            "ticks": ""
           }
          },
          "title": {
           "x": 0.05
          },
          "xaxis": {
           "automargin": true,
           "gridcolor": "white",
           "linecolor": "white",
           "ticks": "",
           "title": {
            "standoff": 15
           },
           "zerolinecolor": "white",
           "zerolinewidth": 2
          },
          "yaxis": {
           "automargin": true,
           "gridcolor": "white",
           "linecolor": "white",
           "ticks": "",
           "title": {
            "standoff": 15
           },
           "zerolinecolor": "white",
           "zerolinewidth": 2
          }
         }
        },
        "title": {
         "text": "Hourly Bluebike Trips Near Barry Playground"
        },
        "width": 800
       }
      }
     },
     "metadata": {},
     "output_type": "display_data"
    },
    {
     "name": "stdout",
     "output_type": "stream",
     "text": [
      "No stations within 0.5 km of Jamaica Pond Park\n",
      "No stations within 0.5 km of Carroll Pond Playground\n",
      "No stations within 0.5 km of Sawmill Brook/Brook Farm\n",
      "No stations within 0.5 km of Truman Parkway\n",
      "1 nearest station to Brewer-Burroughs Tot Lot: Curtis Hall - South St at Centre St\n"
     ]
    },
    {
     "name": "stderr",
     "output_type": "stream",
     "text": [
      "/Users/henrywu/opt/anaconda3/lib/python3.9/site-packages/plotly/express/_core.py:271: FutureWarning:\n",
      "\n",
      "The frame.append method is deprecated and will be removed from pandas in a future version. Use pandas.concat instead.\n",
      "\n",
      "/Users/henrywu/opt/anaconda3/lib/python3.9/site-packages/plotly/express/_core.py:271: FutureWarning:\n",
      "\n",
      "The frame.append method is deprecated and will be removed from pandas in a future version. Use pandas.concat instead.\n",
      "\n",
      "/Users/henrywu/opt/anaconda3/lib/python3.9/site-packages/plotly/express/_core.py:271: FutureWarning:\n",
      "\n",
      "The frame.append method is deprecated and will be removed from pandas in a future version. Use pandas.concat instead.\n",
      "\n",
      "/Users/henrywu/opt/anaconda3/lib/python3.9/site-packages/plotly/express/_core.py:271: FutureWarning:\n",
      "\n",
      "The frame.append method is deprecated and will be removed from pandas in a future version. Use pandas.concat instead.\n",
      "\n"
     ]
    },
    {
     "data": {
      "application/vnd.plotly.v1+json": {
       "config": {
        "plotlyServerURL": "https://plot.ly"
       },
       "data": [
        {
         "customdata": [
          [
           0.15084388185654007,
           7.5
          ],
          [
           0.09071729957805907,
           22.5
          ],
          [
           0.049578059071729956,
           37.5
          ],
          [
           0.02109704641350211,
           52.5
          ],
          [
           0.03164556962025317,
           67.5
          ],
          [
           0.06329113924050633,
           82.5
          ],
          [
           0.4008438818565401,
           97.5
          ],
          [
           1.3248945147679325,
           112.5
          ],
          [
           1.5063291139240507,
           127.5
          ],
          [
           0.8259493670886076,
           142.5
          ],
          [
           0.5421940928270043,
           157.5
          ],
          [
           0.6086497890295358,
           172.5
          ],
          [
           0.8533755274261603,
           187.5
          ],
          [
           0.8111814345991561,
           202.5
          ],
          [
           0.6381856540084389,
           217.5
          ],
          [
           0.6772151898734177,
           232.5
          ],
          [
           0.7236286919831224,
           247.5
          ],
          [
           0.9345991561181435,
           262.5
          ],
          [
           0.9514767932489452,
           277.5
          ],
          [
           0.7362869198312236,
           292.5
          ],
          [
           0.5516877637130801,
           307.5
          ],
          [
           0.47468354430379744,
           322.5
          ],
          [
           0.38396624472573837,
           337.5
          ],
          [
           0.22468354430379747,
           352.5
          ],
          [
           0.15084388185654007,
           7.5
          ]
         ],
         "hovertemplate": "Day Type=Weekday<br>Trip Type=Departures<br>Trips=%{customdata[0]:.2f}<extra></extra>",
         "legendgroup": "Weekday, Departures",
         "line": {
          "color": "#636efa",
          "dash": "solid"
         },
         "marker": {
          "symbol": "circle"
         },
         "mode": "lines",
         "name": "Weekday, Departures",
         "r": [
          0.15084388185654007,
          0.09071729957805907,
          0.049578059071729956,
          0.02109704641350211,
          0.03164556962025317,
          0.06329113924050633,
          0.4008438818565401,
          1.3248945147679325,
          1.5063291139240507,
          0.8259493670886076,
          0.5421940928270043,
          0.6086497890295358,
          0.8533755274261603,
          0.8111814345991561,
          0.6381856540084389,
          0.6772151898734177,
          0.7236286919831224,
          0.9345991561181435,
          0.9514767932489452,
          0.7362869198312236,
          0.5516877637130801,
          0.47468354430379744,
          0.38396624472573837,
          0.22468354430379747,
          0.15084388185654007
         ],
         "showlegend": true,
         "subplot": "polar",
         "theta": [
          7.5,
          22.5,
          37.5,
          52.5,
          67.5,
          82.5,
          97.5,
          112.5,
          127.5,
          142.5,
          157.5,
          172.5,
          187.5,
          202.5,
          217.5,
          232.5,
          247.5,
          262.5,
          277.5,
          292.5,
          307.5,
          322.5,
          337.5,
          352.5,
          7.5
         ],
         "type": "scatterpolar"
        },
        {
         "customdata": [
          [
           0.24261603375527427,
           7.5
          ],
          [
           0.10864978902953587,
           22.5
          ],
          [
           0.08755274261603375,
           37.5
          ],
          [
           0.060126582278481014,
           52.5
          ],
          [
           0.0379746835443038,
           67.5
          ],
          [
           0.026371308016877638,
           82.5
          ],
          [
           0.06223628691983123,
           97.5
          ],
          [
           0.20991561181434598,
           112.5
          ],
          [
           0.22257383966244726,
           127.5
          ],
          [
           0.2120253164556962,
           142.5
          ],
          [
           0.270042194092827,
           157.5
          ],
          [
           0.3818565400843882,
           172.5
          ],
          [
           0.5654008438818565,
           187.5
          ],
          [
           0.570675105485232,
           202.5
          ],
          [
           0.7130801687763713,
           217.5
          ],
          [
           0.830168776371308,
           232.5
          ],
          [
           1.419831223628692,
           247.5
          ],
          [
           2.2151898734177213,
           262.5
          ],
          [
           1.9767932489451476,
           277.5
          ],
          [
           1.1719409282700421,
           292.5
          ],
          [
           0.8512658227848101,
           307.5
          ],
          [
           0.7130801687763713,
           322.5
          ],
          [
           0.5864978902953587,
           337.5
          ],
          [
           0.42616033755274263,
           352.5
          ],
          [
           0.24261603375527427,
           7.5
          ]
         ],
         "hovertemplate": "Day Type=Weekday<br>Trip Type=Arrivals<br>Trips=%{customdata[0]:.2f}<extra></extra>",
         "legendgroup": "Weekday, Arrivals",
         "line": {
          "color": "#636efa",
          "dash": "dot"
         },
         "marker": {
          "symbol": "circle"
         },
         "mode": "lines",
         "name": "Weekday, Arrivals",
         "r": [
          0.24261603375527427,
          0.10864978902953587,
          0.08755274261603375,
          0.060126582278481014,
          0.0379746835443038,
          0.026371308016877638,
          0.06223628691983123,
          0.20991561181434598,
          0.22257383966244726,
          0.2120253164556962,
          0.270042194092827,
          0.3818565400843882,
          0.5654008438818565,
          0.570675105485232,
          0.7130801687763713,
          0.830168776371308,
          1.419831223628692,
          2.2151898734177213,
          1.9767932489451476,
          1.1719409282700421,
          0.8512658227848101,
          0.7130801687763713,
          0.5864978902953587,
          0.42616033755274263,
          0.24261603375527427
         ],
         "showlegend": true,
         "subplot": "polar",
         "theta": [
          7.5,
          22.5,
          37.5,
          52.5,
          67.5,
          82.5,
          97.5,
          112.5,
          127.5,
          142.5,
          157.5,
          172.5,
          187.5,
          202.5,
          217.5,
          232.5,
          247.5,
          262.5,
          277.5,
          292.5,
          307.5,
          322.5,
          337.5,
          352.5,
          7.5
         ],
         "type": "scatterpolar"
        },
        {
         "customdata": [
          [
           0.08860759493670886,
           7.5
          ],
          [
           0.060126582278481014,
           22.5
          ],
          [
           0.035864978902953586,
           37.5
          ],
          [
           0.014767932489451477,
           52.5
          ],
          [
           0.020042194092827006,
           67.5
          ],
          [
           0.03164556962025317,
           82.5
          ],
          [
           0.04746835443037975,
           97.5
          ],
          [
           0.060126582278481014,
           112.5
          ],
          [
           0.10759493670886076,
           127.5
          ],
          [
           0.2320675105485232,
           142.5
          ],
          [
           0.35337552742616035,
           157.5
          ],
          [
           0.4419831223628692,
           172.5
          ],
          [
           0.5664556962025317,
           187.5
          ],
          [
           0.6624472573839663,
           202.5
          ],
          [
           0.7046413502109705,
           217.5
          ],
          [
           0.7805907172995781,
           232.5
          ],
          [
           0.7215189873417721,
           247.5
          ],
          [
           0.6360759493670886,
           262.5
          ],
          [
           0.5822784810126582,
           277.5
          ],
          [
           0.40822784810126583,
           292.5
          ],
          [
           0.27637130801687765,
           307.5
          ],
          [
           0.25738396624472576,
           322.5
          ],
          [
           0.18037974683544303,
           337.5
          ],
          [
           0.12552742616033755,
           352.5
          ],
          [
           0.08860759493670886,
           7.5
          ]
         ],
         "hovertemplate": "Day Type=Weekend<br>Trip Type=Departures<br>Trips=%{customdata[0]:.2f}<extra></extra>",
         "legendgroup": "Weekend, Departures",
         "line": {
          "color": "#EF553B",
          "dash": "solid"
         },
         "marker": {
          "symbol": "circle"
         },
         "mode": "lines",
         "name": "Weekend, Departures",
         "r": [
          0.08860759493670886,
          0.060126582278481014,
          0.035864978902953586,
          0.014767932489451477,
          0.020042194092827006,
          0.03164556962025317,
          0.04746835443037975,
          0.060126582278481014,
          0.10759493670886076,
          0.2320675105485232,
          0.35337552742616035,
          0.4419831223628692,
          0.5664556962025317,
          0.6624472573839663,
          0.7046413502109705,
          0.7805907172995781,
          0.7215189873417721,
          0.6360759493670886,
          0.5822784810126582,
          0.40822784810126583,
          0.27637130801687765,
          0.25738396624472576,
          0.18037974683544303,
          0.12552742616033755,
          0.08860759493670886
         ],
         "showlegend": true,
         "subplot": "polar",
         "theta": [
          7.5,
          22.5,
          37.5,
          52.5,
          67.5,
          82.5,
          97.5,
          112.5,
          127.5,
          142.5,
          157.5,
          172.5,
          187.5,
          202.5,
          217.5,
          232.5,
          247.5,
          262.5,
          277.5,
          292.5,
          307.5,
          322.5,
          337.5,
          352.5,
          7.5
         ],
         "type": "scatterpolar"
        },
        {
         "customdata": [
          [
           0.13291139240506328,
           7.5
          ],
          [
           0.09071729957805907,
           22.5
          ],
          [
           0.05168776371308017,
           37.5
          ],
          [
           0.06645569620253164,
           52.5
          ],
          [
           0.05168776371308017,
           67.5
          ],
          [
           0.0189873417721519,
           82.5
          ],
          [
           0.0379746835443038,
           97.5
          ],
          [
           0.049578059071729956,
           112.5
          ],
          [
           0.16666666666666666,
           127.5
          ],
          [
           0.20464135021097046,
           142.5
          ],
          [
           0.2668776371308017,
           157.5
          ],
          [
           0.38924050632911394,
           172.5
          ],
          [
           0.5791139240506329,
           187.5
          ],
          [
           0.7088607594936709,
           202.5
          ],
          [
           0.7658227848101266,
           217.5
          ],
          [
           0.7637130801687764,
           232.5
          ],
          [
           0.7531645569620253,
           247.5
          ],
          [
           0.6360759493670886,
           262.5
          ],
          [
           0.6149789029535865,
           277.5
          ],
          [
           0.4620253164556962,
           292.5
          ],
          [
           0.34282700421940926,
           307.5
          ],
          [
           0.25316455696202533,
           322.5
          ],
          [
           0.1877637130801688,
           337.5
          ],
          [
           0.17932489451476794,
           352.5
          ],
          [
           0.13291139240506328,
           7.5
          ]
         ],
         "hovertemplate": "Day Type=Weekend<br>Trip Type=Arrivals<br>Trips=%{customdata[0]:.2f}<extra></extra>",
         "legendgroup": "Weekend, Arrivals",
         "line": {
          "color": "#EF553B",
          "dash": "dot"
         },
         "marker": {
          "symbol": "circle"
         },
         "mode": "lines",
         "name": "Weekend, Arrivals",
         "r": [
          0.13291139240506328,
          0.09071729957805907,
          0.05168776371308017,
          0.06645569620253164,
          0.05168776371308017,
          0.0189873417721519,
          0.0379746835443038,
          0.049578059071729956,
          0.16666666666666666,
          0.20464135021097046,
          0.2668776371308017,
          0.38924050632911394,
          0.5791139240506329,
          0.7088607594936709,
          0.7658227848101266,
          0.7637130801687764,
          0.7531645569620253,
          0.6360759493670886,
          0.6149789029535865,
          0.4620253164556962,
          0.34282700421940926,
          0.25316455696202533,
          0.1877637130801688,
          0.17932489451476794,
          0.13291139240506328
         ],
         "showlegend": true,
         "subplot": "polar",
         "theta": [
          7.5,
          22.5,
          37.5,
          52.5,
          67.5,
          82.5,
          97.5,
          112.5,
          127.5,
          142.5,
          157.5,
          172.5,
          187.5,
          202.5,
          217.5,
          232.5,
          247.5,
          262.5,
          277.5,
          292.5,
          307.5,
          322.5,
          337.5,
          352.5,
          7.5
         ],
         "type": "scatterpolar"
        }
       ],
       "layout": {
        "height": 600,
        "legend": {
         "title": {
          "text": ""
         },
         "tracegroupgap": 0
        },
        "margin": {
         "b": 25,
         "l": 0,
         "r": 0,
         "t": 50
        },
        "polar": {
         "angularaxis": {
          "direction": "clockwise",
          "rotation": -90,
          "tickmode": "array",
          "ticktext": [
           "12 AM",
           "1 AM",
           "2 AM",
           "3 AM",
           "4 AM",
           "5 AM",
           "6 AM",
           "7 AM",
           "8 AM",
           "9 AM",
           "10 AM",
           "11 AM",
           "12 PM",
           "1 PM",
           "2 PM",
           "3 PM",
           "4 PM",
           "5 PM",
           "6 PM",
           "7 PM",
           "8 PM",
           "9 PM",
           "10 PM",
           "11 PM"
          ],
          "tickvals": [
           0,
           15,
           30,
           45,
           60,
           75,
           90,
           105,
           120,
           135,
           150,
           165,
           180,
           195,
           210,
           225,
           240,
           255,
           270,
           285,
           300,
           315,
           330,
           345
          ]
         },
         "domain": {
          "x": [
           0,
           1
          ],
          "y": [
           0,
           1
          ]
         }
        },
        "template": {
         "data": {
          "bar": [
           {
            "error_x": {
             "color": "#2a3f5f"
            },
            "error_y": {
             "color": "#2a3f5f"
            },
            "marker": {
             "line": {
              "color": "#E5ECF6",
              "width": 0.5
             },
             "pattern": {
              "fillmode": "overlay",
              "size": 10,
              "solidity": 0.2
             }
            },
            "type": "bar"
           }
          ],
          "barpolar": [
           {
            "marker": {
             "line": {
              "color": "#E5ECF6",
              "width": 0.5
             },
             "pattern": {
              "fillmode": "overlay",
              "size": 10,
              "solidity": 0.2
             }
            },
            "type": "barpolar"
           }
          ],
          "carpet": [
           {
            "aaxis": {
             "endlinecolor": "#2a3f5f",
             "gridcolor": "white",
             "linecolor": "white",
             "minorgridcolor": "white",
             "startlinecolor": "#2a3f5f"
            },
            "baxis": {
             "endlinecolor": "#2a3f5f",
             "gridcolor": "white",
             "linecolor": "white",
             "minorgridcolor": "white",
             "startlinecolor": "#2a3f5f"
            },
            "type": "carpet"
           }
          ],
          "choropleth": [
           {
            "colorbar": {
             "outlinewidth": 0,
             "ticks": ""
            },
            "type": "choropleth"
           }
          ],
          "contour": [
           {
            "colorbar": {
             "outlinewidth": 0,
             "ticks": ""
            },
            "colorscale": [
             [
              0,
              "#0d0887"
             ],
             [
              0.1111111111111111,
              "#46039f"
             ],
             [
              0.2222222222222222,
              "#7201a8"
             ],
             [
              0.3333333333333333,
              "#9c179e"
             ],
             [
              0.4444444444444444,
              "#bd3786"
             ],
             [
              0.5555555555555556,
              "#d8576b"
             ],
             [
              0.6666666666666666,
              "#ed7953"
             ],
             [
              0.7777777777777778,
              "#fb9f3a"
             ],
             [
              0.8888888888888888,
              "#fdca26"
             ],
             [
              1,
              "#f0f921"
             ]
            ],
            "type": "contour"
           }
          ],
          "contourcarpet": [
           {
            "colorbar": {
             "outlinewidth": 0,
             "ticks": ""
            },
            "type": "contourcarpet"
           }
          ],
          "heatmap": [
           {
            "colorbar": {
             "outlinewidth": 0,
             "ticks": ""
            },
            "colorscale": [
             [
              0,
              "#0d0887"
             ],
             [
              0.1111111111111111,
              "#46039f"
             ],
             [
              0.2222222222222222,
              "#7201a8"
             ],
             [
              0.3333333333333333,
              "#9c179e"
             ],
             [
              0.4444444444444444,
              "#bd3786"
             ],
             [
              0.5555555555555556,
              "#d8576b"
             ],
             [
              0.6666666666666666,
              "#ed7953"
             ],
             [
              0.7777777777777778,
              "#fb9f3a"
             ],
             [
              0.8888888888888888,
              "#fdca26"
             ],
             [
              1,
              "#f0f921"
             ]
            ],
            "type": "heatmap"
           }
          ],
          "heatmapgl": [
           {
            "colorbar": {
             "outlinewidth": 0,
             "ticks": ""
            },
            "colorscale": [
             [
              0,
              "#0d0887"
             ],
             [
              0.1111111111111111,
              "#46039f"
             ],
             [
              0.2222222222222222,
              "#7201a8"
             ],
             [
              0.3333333333333333,
              "#9c179e"
             ],
             [
              0.4444444444444444,
              "#bd3786"
             ],
             [
              0.5555555555555556,
              "#d8576b"
             ],
             [
              0.6666666666666666,
              "#ed7953"
             ],
             [
              0.7777777777777778,
              "#fb9f3a"
             ],
             [
              0.8888888888888888,
              "#fdca26"
             ],
             [
              1,
              "#f0f921"
             ]
            ],
            "type": "heatmapgl"
           }
          ],
          "histogram": [
           {
            "marker": {
             "pattern": {
              "fillmode": "overlay",
              "size": 10,
              "solidity": 0.2
             }
            },
            "type": "histogram"
           }
          ],
          "histogram2d": [
           {
            "colorbar": {
             "outlinewidth": 0,
             "ticks": ""
            },
            "colorscale": [
             [
              0,
              "#0d0887"
             ],
             [
              0.1111111111111111,
              "#46039f"
             ],
             [
              0.2222222222222222,
              "#7201a8"
             ],
             [
              0.3333333333333333,
              "#9c179e"
             ],
             [
              0.4444444444444444,
              "#bd3786"
             ],
             [
              0.5555555555555556,
              "#d8576b"
             ],
             [
              0.6666666666666666,
              "#ed7953"
             ],
             [
              0.7777777777777778,
              "#fb9f3a"
             ],
             [
              0.8888888888888888,
              "#fdca26"
             ],
             [
              1,
              "#f0f921"
             ]
            ],
            "type": "histogram2d"
           }
          ],
          "histogram2dcontour": [
           {
            "colorbar": {
             "outlinewidth": 0,
             "ticks": ""
            },
            "colorscale": [
             [
              0,
              "#0d0887"
             ],
             [
              0.1111111111111111,
              "#46039f"
             ],
             [
              0.2222222222222222,
              "#7201a8"
             ],
             [
              0.3333333333333333,
              "#9c179e"
             ],
             [
              0.4444444444444444,
              "#bd3786"
             ],
             [
              0.5555555555555556,
              "#d8576b"
             ],
             [
              0.6666666666666666,
              "#ed7953"
             ],
             [
              0.7777777777777778,
              "#fb9f3a"
             ],
             [
              0.8888888888888888,
              "#fdca26"
             ],
             [
              1,
              "#f0f921"
             ]
            ],
            "type": "histogram2dcontour"
           }
          ],
          "mesh3d": [
           {
            "colorbar": {
             "outlinewidth": 0,
             "ticks": ""
            },
            "type": "mesh3d"
           }
          ],
          "parcoords": [
           {
            "line": {
             "colorbar": {
              "outlinewidth": 0,
              "ticks": ""
             }
            },
            "type": "parcoords"
           }
          ],
          "pie": [
           {
            "automargin": true,
            "type": "pie"
           }
          ],
          "scatter": [
           {
            "fillpattern": {
             "fillmode": "overlay",
             "size": 10,
             "solidity": 0.2
            },
            "type": "scatter"
           }
          ],
          "scatter3d": [
           {
            "line": {
             "colorbar": {
              "outlinewidth": 0,
              "ticks": ""
             }
            },
            "marker": {
             "colorbar": {
              "outlinewidth": 0,
              "ticks": ""
             }
            },
            "type": "scatter3d"
           }
          ],
          "scattercarpet": [
           {
            "marker": {
             "colorbar": {
              "outlinewidth": 0,
              "ticks": ""
             }
            },
            "type": "scattercarpet"
           }
          ],
          "scattergeo": [
           {
            "marker": {
             "colorbar": {
              "outlinewidth": 0,
              "ticks": ""
             }
            },
            "type": "scattergeo"
           }
          ],
          "scattergl": [
           {
            "marker": {
             "colorbar": {
              "outlinewidth": 0,
              "ticks": ""
             }
            },
            "type": "scattergl"
           }
          ],
          "scattermapbox": [
           {
            "marker": {
             "colorbar": {
              "outlinewidth": 0,
              "ticks": ""
             }
            },
            "type": "scattermapbox"
           }
          ],
          "scatterpolar": [
           {
            "marker": {
             "colorbar": {
              "outlinewidth": 0,
              "ticks": ""
             }
            },
            "type": "scatterpolar"
           }
          ],
          "scatterpolargl": [
           {
            "marker": {
             "colorbar": {
              "outlinewidth": 0,
              "ticks": ""
             }
            },
            "type": "scatterpolargl"
           }
          ],
          "scatterternary": [
           {
            "marker": {
             "colorbar": {
              "outlinewidth": 0,
              "ticks": ""
             }
            },
            "type": "scatterternary"
           }
          ],
          "surface": [
           {
            "colorbar": {
             "outlinewidth": 0,
             "ticks": ""
            },
            "colorscale": [
             [
              0,
              "#0d0887"
             ],
             [
              0.1111111111111111,
              "#46039f"
             ],
             [
              0.2222222222222222,
              "#7201a8"
             ],
             [
              0.3333333333333333,
              "#9c179e"
             ],
             [
              0.4444444444444444,
              "#bd3786"
             ],
             [
              0.5555555555555556,
              "#d8576b"
             ],
             [
              0.6666666666666666,
              "#ed7953"
             ],
             [
              0.7777777777777778,
              "#fb9f3a"
             ],
             [
              0.8888888888888888,
              "#fdca26"
             ],
             [
              1,
              "#f0f921"
             ]
            ],
            "type": "surface"
           }
          ],
          "table": [
           {
            "cells": {
             "fill": {
              "color": "#EBF0F8"
             },
             "line": {
              "color": "white"
             }
            },
            "header": {
             "fill": {
              "color": "#C8D4E3"
             },
             "line": {
              "color": "white"
             }
            },
            "type": "table"
           }
          ]
         },
         "layout": {
          "annotationdefaults": {
           "arrowcolor": "#2a3f5f",
           "arrowhead": 0,
           "arrowwidth": 1
          },
          "autotypenumbers": "strict",
          "coloraxis": {
           "colorbar": {
            "outlinewidth": 0,
            "ticks": ""
           }
          },
          "colorscale": {
           "diverging": [
            [
             0,
             "#8e0152"
            ],
            [
             0.1,
             "#c51b7d"
            ],
            [
             0.2,
             "#de77ae"
            ],
            [
             0.3,
             "#f1b6da"
            ],
            [
             0.4,
             "#fde0ef"
            ],
            [
             0.5,
             "#f7f7f7"
            ],
            [
             0.6,
             "#e6f5d0"
            ],
            [
             0.7,
             "#b8e186"
            ],
            [
             0.8,
             "#7fbc41"
            ],
            [
             0.9,
             "#4d9221"
            ],
            [
             1,
             "#276419"
            ]
           ],
           "sequential": [
            [
             0,
             "#0d0887"
            ],
            [
             0.1111111111111111,
             "#46039f"
            ],
            [
             0.2222222222222222,
             "#7201a8"
            ],
            [
             0.3333333333333333,
             "#9c179e"
            ],
            [
             0.4444444444444444,
             "#bd3786"
            ],
            [
             0.5555555555555556,
             "#d8576b"
            ],
            [
             0.6666666666666666,
             "#ed7953"
            ],
            [
             0.7777777777777778,
             "#fb9f3a"
            ],
            [
             0.8888888888888888,
             "#fdca26"
            ],
            [
             1,
             "#f0f921"
            ]
           ],
           "sequentialminus": [
            [
             0,
             "#0d0887"
            ],
            [
             0.1111111111111111,
             "#46039f"
            ],
            [
             0.2222222222222222,
             "#7201a8"
            ],
            [
             0.3333333333333333,
             "#9c179e"
            ],
            [
             0.4444444444444444,
             "#bd3786"
            ],
            [
             0.5555555555555556,
             "#d8576b"
            ],
            [
             0.6666666666666666,
             "#ed7953"
            ],
            [
             0.7777777777777778,
             "#fb9f3a"
            ],
            [
             0.8888888888888888,
             "#fdca26"
            ],
            [
             1,
             "#f0f921"
            ]
           ]
          },
          "colorway": [
           "#636efa",
           "#EF553B",
           "#00cc96",
           "#ab63fa",
           "#FFA15A",
           "#19d3f3",
           "#FF6692",
           "#B6E880",
           "#FF97FF",
           "#FECB52"
          ],
          "font": {
           "color": "#2a3f5f"
          },
          "geo": {
           "bgcolor": "white",
           "lakecolor": "white",
           "landcolor": "#E5ECF6",
           "showlakes": true,
           "showland": true,
           "subunitcolor": "white"
          },
          "hoverlabel": {
           "align": "left"
          },
          "hovermode": "closest",
          "mapbox": {
           "style": "light"
          },
          "paper_bgcolor": "white",
          "plot_bgcolor": "#E5ECF6",
          "polar": {
           "angularaxis": {
            "gridcolor": "white",
            "linecolor": "white",
            "ticks": ""
           },
           "bgcolor": "#E5ECF6",
           "radialaxis": {
            "gridcolor": "white",
            "linecolor": "white",
            "ticks": ""
           }
          },
          "scene": {
           "xaxis": {
            "backgroundcolor": "#E5ECF6",
            "gridcolor": "white",
            "gridwidth": 2,
            "linecolor": "white",
            "showbackground": true,
            "ticks": "",
            "zerolinecolor": "white"
           },
           "yaxis": {
            "backgroundcolor": "#E5ECF6",
            "gridcolor": "white",
            "gridwidth": 2,
            "linecolor": "white",
            "showbackground": true,
            "ticks": "",
            "zerolinecolor": "white"
           },
           "zaxis": {
            "backgroundcolor": "#E5ECF6",
            "gridcolor": "white",
            "gridwidth": 2,
            "linecolor": "white",
            "showbackground": true,
            "ticks": "",
            "zerolinecolor": "white"
           }
          },
          "shapedefaults": {
           "line": {
            "color": "#2a3f5f"
           }
          },
          "ternary": {
           "aaxis": {
            "gridcolor": "white",
            "linecolor": "white",
            "ticks": ""
           },
           "baxis": {
            "gridcolor": "white",
            "linecolor": "white",
            "ticks": ""
           },
           "bgcolor": "#E5ECF6",
           "caxis": {
            "gridcolor": "white",
            "linecolor": "white",
            "ticks": ""
           }
          },
          "title": {
           "x": 0.05
          },
          "xaxis": {
           "automargin": true,
           "gridcolor": "white",
           "linecolor": "white",
           "ticks": "",
           "title": {
            "standoff": 15
           },
           "zerolinecolor": "white",
           "zerolinewidth": 2
          },
          "yaxis": {
           "automargin": true,
           "gridcolor": "white",
           "linecolor": "white",
           "ticks": "",
           "title": {
            "standoff": 15
           },
           "zerolinecolor": "white",
           "zerolinewidth": 2
          }
         }
        },
        "title": {
         "text": "Hourly Bluebike Trips Near Brewer-Burroughs Tot Lot"
        },
        "width": 800
       }
      }
     },
     "metadata": {},
     "output_type": "display_data"
    },
    {
     "name": "stdout",
     "output_type": "stream",
     "text": [
      "4 nearest stations to Ringgold Park: Washington St at Waltham St, Tremont St at E Berkeley St, Tremont St at W. Dedham St, Harrison Ave at E. Dedham St\n"
     ]
    },
    {
     "name": "stderr",
     "output_type": "stream",
     "text": [
      "/Users/henrywu/opt/anaconda3/lib/python3.9/site-packages/plotly/express/_core.py:271: FutureWarning:\n",
      "\n",
      "The frame.append method is deprecated and will be removed from pandas in a future version. Use pandas.concat instead.\n",
      "\n",
      "/Users/henrywu/opt/anaconda3/lib/python3.9/site-packages/plotly/express/_core.py:271: FutureWarning:\n",
      "\n",
      "The frame.append method is deprecated and will be removed from pandas in a future version. Use pandas.concat instead.\n",
      "\n",
      "/Users/henrywu/opt/anaconda3/lib/python3.9/site-packages/plotly/express/_core.py:271: FutureWarning:\n",
      "\n",
      "The frame.append method is deprecated and will be removed from pandas in a future version. Use pandas.concat instead.\n",
      "\n",
      "/Users/henrywu/opt/anaconda3/lib/python3.9/site-packages/plotly/express/_core.py:271: FutureWarning:\n",
      "\n",
      "The frame.append method is deprecated and will be removed from pandas in a future version. Use pandas.concat instead.\n",
      "\n"
     ]
    },
    {
     "data": {
      "application/vnd.plotly.v1+json": {
       "config": {
        "plotlyServerURL": "https://plot.ly"
       },
       "data": [
        {
         "customdata": [
          [
           2.481012658227848,
           7.5
          ],
          [
           1.7879746835443038,
           22.5
          ],
          [
           1.3533755274261603,
           37.5
          ],
          [
           0.7183544303797469,
           52.5
          ],
          [
           0.5569620253164557,
           67.5
          ],
          [
           2.4567510548523206,
           82.5
          ],
          [
           5.632911392405063,
           97.5
          ],
          [
           12.54957805907173,
           112.5
          ],
          [
           15.578059071729959,
           127.5
          ],
          [
           7.6381856540084385,
           142.5
          ],
          [
           6.020042194092827,
           157.5
          ],
          [
           7.6044303797468356,
           172.5
          ],
          [
           9.941983122362869,
           187.5
          ],
          [
           7.79957805907173,
           202.5
          ],
          [
           6.401898734177215,
           217.5
          ],
          [
           7.037974683544304,
           232.5
          ],
          [
           9.744725738396625,
           247.5
          ],
          [
           13.01054852320675,
           262.5
          ],
          [
           11.524261603375528,
           277.5
          ],
          [
           8.762658227848101,
           292.5
          ],
          [
           7.540084388185654,
           307.5
          ],
          [
           7.991561181434599,
           322.5
          ],
          [
           7.074894514767933,
           337.5
          ],
          [
           4.605485232067511,
           352.5
          ],
          [
           2.481012658227848,
           7.5
          ]
         ],
         "hovertemplate": "Day Type=Weekday<br>Trip Type=Departures<br>Trips=%{customdata[0]:.2f}<extra></extra>",
         "legendgroup": "Weekday, Departures",
         "line": {
          "color": "#636efa",
          "dash": "solid"
         },
         "marker": {
          "symbol": "circle"
         },
         "mode": "lines",
         "name": "Weekday, Departures",
         "r": [
          2.481012658227848,
          1.7879746835443038,
          1.3533755274261603,
          0.7183544303797469,
          0.5569620253164557,
          2.4567510548523206,
          5.632911392405063,
          12.54957805907173,
          15.578059071729959,
          7.6381856540084385,
          6.020042194092827,
          7.6044303797468356,
          9.941983122362869,
          7.79957805907173,
          6.401898734177215,
          7.037974683544304,
          9.744725738396625,
          13.01054852320675,
          11.524261603375528,
          8.762658227848101,
          7.540084388185654,
          7.991561181434599,
          7.074894514767933,
          4.605485232067511,
          2.481012658227848
         ],
         "showlegend": true,
         "subplot": "polar",
         "theta": [
          7.5,
          22.5,
          37.5,
          52.5,
          67.5,
          82.5,
          97.5,
          112.5,
          127.5,
          142.5,
          157.5,
          172.5,
          187.5,
          202.5,
          217.5,
          232.5,
          247.5,
          262.5,
          277.5,
          292.5,
          307.5,
          322.5,
          337.5,
          352.5,
          7.5
         ],
         "type": "scatterpolar"
        },
        {
         "customdata": [
          [
           3.404008438818565,
           7.5
          ],
          [
           1.9440928270042195,
           22.5
          ],
          [
           1.490506329113924,
           37.5
          ],
          [
           0.9588607594936709,
           52.5
          ],
          [
           0.5590717299578059,
           67.5
          ],
          [
           0.8713080168776371,
           82.5
          ],
          [
           1.858649789029536,
           97.5
          ],
          [
           3.8449367088607596,
           112.5
          ],
          [
           6.649789029535865,
           127.5
          ],
          [
           5.482067510548523,
           142.5
          ],
          [
           3.6255274261603376,
           157.5
          ],
          [
           5.629746835443038,
           172.5
          ],
          [
           7.3354430379746836,
           187.5
          ],
          [
           6.736286919831223,
           202.5
          ],
          [
           6.8955696202531644,
           217.5
          ],
          [
           8.689873417721518,
           232.5
          ],
          [
           13.227848101265822,
           247.5
          ],
          [
           21.854430379746834,
           262.5
          ],
          [
           17.575949367088608,
           277.5
          ],
          [
           12.579113924050633,
           292.5
          ],
          [
           9.24789029535865,
           307.5
          ],
          [
           9.938818565400844,
           322.5
          ],
          [
           9.185654008438819,
           337.5
          ],
          [
           6.628691983122363,
           352.5
          ],
          [
           3.404008438818565,
           7.5
          ]
         ],
         "hovertemplate": "Day Type=Weekday<br>Trip Type=Arrivals<br>Trips=%{customdata[0]:.2f}<extra></extra>",
         "legendgroup": "Weekday, Arrivals",
         "line": {
          "color": "#636efa",
          "dash": "dot"
         },
         "marker": {
          "symbol": "circle"
         },
         "mode": "lines",
         "name": "Weekday, Arrivals",
         "r": [
          3.404008438818565,
          1.9440928270042195,
          1.490506329113924,
          0.9588607594936709,
          0.5590717299578059,
          0.8713080168776371,
          1.858649789029536,
          3.8449367088607596,
          6.649789029535865,
          5.482067510548523,
          3.6255274261603376,
          5.629746835443038,
          7.3354430379746836,
          6.736286919831223,
          6.8955696202531644,
          8.689873417721518,
          13.227848101265822,
          21.854430379746834,
          17.575949367088608,
          12.579113924050633,
          9.24789029535865,
          9.938818565400844,
          9.185654008438819,
          6.628691983122363,
          3.404008438818565
         ],
         "showlegend": true,
         "subplot": "polar",
         "theta": [
          7.5,
          22.5,
          37.5,
          52.5,
          67.5,
          82.5,
          97.5,
          112.5,
          127.5,
          142.5,
          157.5,
          172.5,
          187.5,
          202.5,
          217.5,
          232.5,
          247.5,
          262.5,
          277.5,
          292.5,
          307.5,
          322.5,
          337.5,
          352.5,
          7.5
         ],
         "type": "scatterpolar"
        },
        {
         "customdata": [
          [
           1.5601265822784811,
           7.5
          ],
          [
           1.228902953586498,
           22.5
          ],
          [
           1.0263713080168777,
           37.5
          ],
          [
           0.7848101265822784,
           52.5
          ],
          [
           0.569620253164557,
           67.5
          ],
          [
           0.6054852320675106,
           82.5
          ],
          [
           0.8618143459915611,
           97.5
          ],
          [
           0.8892405063291139,
           112.5
          ],
          [
           1.3343881856540085,
           127.5
          ],
          [
           1.9683544303797469,
           142.5
          ],
          [
           2.9008438818565403,
           157.5
          ],
          [
           3.459915611814346,
           172.5
          ],
          [
           4.084388185654008,
           187.5
          ],
          [
           4.59915611814346,
           202.5
          ],
          [
           4.410337552742616,
           217.5
          ],
          [
           4.703586497890296,
           232.5
          ],
          [
           4.569620253164557,
           247.5
          ],
          [
           4.024261603375527,
           262.5
          ],
          [
           3.7183544303797467,
           277.5
          ],
          [
           3.399789029535865,
           292.5
          ],
          [
           2.8892405063291138,
           307.5
          ],
          [
           2.44831223628692,
           322.5
          ],
          [
           2.1877637130801686,
           337.5
          ],
          [
           1.7668776371308017,
           352.5
          ],
          [
           1.5601265822784811,
           7.5
          ]
         ],
         "hovertemplate": "Day Type=Weekend<br>Trip Type=Departures<br>Trips=%{customdata[0]:.2f}<extra></extra>",
         "legendgroup": "Weekend, Departures",
         "line": {
          "color": "#EF553B",
          "dash": "solid"
         },
         "marker": {
          "symbol": "circle"
         },
         "mode": "lines",
         "name": "Weekend, Departures",
         "r": [
          1.5601265822784811,
          1.228902953586498,
          1.0263713080168777,
          0.7848101265822784,
          0.569620253164557,
          0.6054852320675106,
          0.8618143459915611,
          0.8892405063291139,
          1.3343881856540085,
          1.9683544303797469,
          2.9008438818565403,
          3.459915611814346,
          4.084388185654008,
          4.59915611814346,
          4.410337552742616,
          4.703586497890296,
          4.569620253164557,
          4.024261603375527,
          3.7183544303797467,
          3.399789029535865,
          2.8892405063291138,
          2.44831223628692,
          2.1877637130801686,
          1.7668776371308017,
          1.5601265822784811
         ],
         "showlegend": true,
         "subplot": "polar",
         "theta": [
          7.5,
          22.5,
          37.5,
          52.5,
          67.5,
          82.5,
          97.5,
          112.5,
          127.5,
          142.5,
          157.5,
          172.5,
          187.5,
          202.5,
          217.5,
          232.5,
          247.5,
          262.5,
          277.5,
          292.5,
          307.5,
          322.5,
          337.5,
          352.5,
          7.5
         ],
         "type": "scatterpolar"
        },
        {
         "customdata": [
          [
           1.771097046413502,
           7.5
          ],
          [
           1.270042194092827,
           22.5
          ],
          [
           0.9451476793248945,
           37.5
          ],
          [
           0.7531645569620253,
           52.5
          ],
          [
           0.5843881856540084,
           67.5
          ],
          [
           0.5527426160337553,
           82.5
          ],
          [
           0.4462025316455696,
           97.5
          ],
          [
           0.6360759493670886,
           112.5
          ],
          [
           1.0253164556962024,
           127.5
          ],
          [
           1.6529535864978904,
           142.5
          ],
          [
           2.520042194092827,
           157.5
          ],
          [
           3.3037974683544302,
           172.5
          ],
          [
           3.7362869198312234,
           187.5
          ],
          [
           3.8628691983122363,
           202.5
          ],
          [
           4.215189873417722,
           217.5
          ],
          [
           4.583333333333333,
           232.5
          ],
          [
           4.796413502109704,
           247.5
          ],
          [
           4.489451476793249,
           262.5
          ],
          [
           4.34915611814346,
           277.5
          ],
          [
           4.003164556962025,
           292.5
          ],
          [
           3.1392405063291138,
           307.5
          ],
          [
           2.848101265822785,
           322.5
          ],
          [
           2.3871308016877637,
           337.5
          ],
          [
           1.919831223628692,
           352.5
          ],
          [
           1.771097046413502,
           7.5
          ]
         ],
         "hovertemplate": "Day Type=Weekend<br>Trip Type=Arrivals<br>Trips=%{customdata[0]:.2f}<extra></extra>",
         "legendgroup": "Weekend, Arrivals",
         "line": {
          "color": "#EF553B",
          "dash": "dot"
         },
         "marker": {
          "symbol": "circle"
         },
         "mode": "lines",
         "name": "Weekend, Arrivals",
         "r": [
          1.771097046413502,
          1.270042194092827,
          0.9451476793248945,
          0.7531645569620253,
          0.5843881856540084,
          0.5527426160337553,
          0.4462025316455696,
          0.6360759493670886,
          1.0253164556962024,
          1.6529535864978904,
          2.520042194092827,
          3.3037974683544302,
          3.7362869198312234,
          3.8628691983122363,
          4.215189873417722,
          4.583333333333333,
          4.796413502109704,
          4.489451476793249,
          4.34915611814346,
          4.003164556962025,
          3.1392405063291138,
          2.848101265822785,
          2.3871308016877637,
          1.919831223628692,
          1.771097046413502
         ],
         "showlegend": true,
         "subplot": "polar",
         "theta": [
          7.5,
          22.5,
          37.5,
          52.5,
          67.5,
          82.5,
          97.5,
          112.5,
          127.5,
          142.5,
          157.5,
          172.5,
          187.5,
          202.5,
          217.5,
          232.5,
          247.5,
          262.5,
          277.5,
          292.5,
          307.5,
          322.5,
          337.5,
          352.5,
          7.5
         ],
         "type": "scatterpolar"
        }
       ],
       "layout": {
        "height": 600,
        "legend": {
         "title": {
          "text": ""
         },
         "tracegroupgap": 0
        },
        "margin": {
         "b": 25,
         "l": 0,
         "r": 0,
         "t": 50
        },
        "polar": {
         "angularaxis": {
          "direction": "clockwise",
          "rotation": -90,
          "tickmode": "array",
          "ticktext": [
           "12 AM",
           "1 AM",
           "2 AM",
           "3 AM",
           "4 AM",
           "5 AM",
           "6 AM",
           "7 AM",
           "8 AM",
           "9 AM",
           "10 AM",
           "11 AM",
           "12 PM",
           "1 PM",
           "2 PM",
           "3 PM",
           "4 PM",
           "5 PM",
           "6 PM",
           "7 PM",
           "8 PM",
           "9 PM",
           "10 PM",
           "11 PM"
          ],
          "tickvals": [
           0,
           15,
           30,
           45,
           60,
           75,
           90,
           105,
           120,
           135,
           150,
           165,
           180,
           195,
           210,
           225,
           240,
           255,
           270,
           285,
           300,
           315,
           330,
           345
          ]
         },
         "domain": {
          "x": [
           0,
           1
          ],
          "y": [
           0,
           1
          ]
         }
        },
        "template": {
         "data": {
          "bar": [
           {
            "error_x": {
             "color": "#2a3f5f"
            },
            "error_y": {
             "color": "#2a3f5f"
            },
            "marker": {
             "line": {
              "color": "#E5ECF6",
              "width": 0.5
             },
             "pattern": {
              "fillmode": "overlay",
              "size": 10,
              "solidity": 0.2
             }
            },
            "type": "bar"
           }
          ],
          "barpolar": [
           {
            "marker": {
             "line": {
              "color": "#E5ECF6",
              "width": 0.5
             },
             "pattern": {
              "fillmode": "overlay",
              "size": 10,
              "solidity": 0.2
             }
            },
            "type": "barpolar"
           }
          ],
          "carpet": [
           {
            "aaxis": {
             "endlinecolor": "#2a3f5f",
             "gridcolor": "white",
             "linecolor": "white",
             "minorgridcolor": "white",
             "startlinecolor": "#2a3f5f"
            },
            "baxis": {
             "endlinecolor": "#2a3f5f",
             "gridcolor": "white",
             "linecolor": "white",
             "minorgridcolor": "white",
             "startlinecolor": "#2a3f5f"
            },
            "type": "carpet"
           }
          ],
          "choropleth": [
           {
            "colorbar": {
             "outlinewidth": 0,
             "ticks": ""
            },
            "type": "choropleth"
           }
          ],
          "contour": [
           {
            "colorbar": {
             "outlinewidth": 0,
             "ticks": ""
            },
            "colorscale": [
             [
              0,
              "#0d0887"
             ],
             [
              0.1111111111111111,
              "#46039f"
             ],
             [
              0.2222222222222222,
              "#7201a8"
             ],
             [
              0.3333333333333333,
              "#9c179e"
             ],
             [
              0.4444444444444444,
              "#bd3786"
             ],
             [
              0.5555555555555556,
              "#d8576b"
             ],
             [
              0.6666666666666666,
              "#ed7953"
             ],
             [
              0.7777777777777778,
              "#fb9f3a"
             ],
             [
              0.8888888888888888,
              "#fdca26"
             ],
             [
              1,
              "#f0f921"
             ]
            ],
            "type": "contour"
           }
          ],
          "contourcarpet": [
           {
            "colorbar": {
             "outlinewidth": 0,
             "ticks": ""
            },
            "type": "contourcarpet"
           }
          ],
          "heatmap": [
           {
            "colorbar": {
             "outlinewidth": 0,
             "ticks": ""
            },
            "colorscale": [
             [
              0,
              "#0d0887"
             ],
             [
              0.1111111111111111,
              "#46039f"
             ],
             [
              0.2222222222222222,
              "#7201a8"
             ],
             [
              0.3333333333333333,
              "#9c179e"
             ],
             [
              0.4444444444444444,
              "#bd3786"
             ],
             [
              0.5555555555555556,
              "#d8576b"
             ],
             [
              0.6666666666666666,
              "#ed7953"
             ],
             [
              0.7777777777777778,
              "#fb9f3a"
             ],
             [
              0.8888888888888888,
              "#fdca26"
             ],
             [
              1,
              "#f0f921"
             ]
            ],
            "type": "heatmap"
           }
          ],
          "heatmapgl": [
           {
            "colorbar": {
             "outlinewidth": 0,
             "ticks": ""
            },
            "colorscale": [
             [
              0,
              "#0d0887"
             ],
             [
              0.1111111111111111,
              "#46039f"
             ],
             [
              0.2222222222222222,
              "#7201a8"
             ],
             [
              0.3333333333333333,
              "#9c179e"
             ],
             [
              0.4444444444444444,
              "#bd3786"
             ],
             [
              0.5555555555555556,
              "#d8576b"
             ],
             [
              0.6666666666666666,
              "#ed7953"
             ],
             [
              0.7777777777777778,
              "#fb9f3a"
             ],
             [
              0.8888888888888888,
              "#fdca26"
             ],
             [
              1,
              "#f0f921"
             ]
            ],
            "type": "heatmapgl"
           }
          ],
          "histogram": [
           {
            "marker": {
             "pattern": {
              "fillmode": "overlay",
              "size": 10,
              "solidity": 0.2
             }
            },
            "type": "histogram"
           }
          ],
          "histogram2d": [
           {
            "colorbar": {
             "outlinewidth": 0,
             "ticks": ""
            },
            "colorscale": [
             [
              0,
              "#0d0887"
             ],
             [
              0.1111111111111111,
              "#46039f"
             ],
             [
              0.2222222222222222,
              "#7201a8"
             ],
             [
              0.3333333333333333,
              "#9c179e"
             ],
             [
              0.4444444444444444,
              "#bd3786"
             ],
             [
              0.5555555555555556,
              "#d8576b"
             ],
             [
              0.6666666666666666,
              "#ed7953"
             ],
             [
              0.7777777777777778,
              "#fb9f3a"
             ],
             [
              0.8888888888888888,
              "#fdca26"
             ],
             [
              1,
              "#f0f921"
             ]
            ],
            "type": "histogram2d"
           }
          ],
          "histogram2dcontour": [
           {
            "colorbar": {
             "outlinewidth": 0,
             "ticks": ""
            },
            "colorscale": [
             [
              0,
              "#0d0887"
             ],
             [
              0.1111111111111111,
              "#46039f"
             ],
             [
              0.2222222222222222,
              "#7201a8"
             ],
             [
              0.3333333333333333,
              "#9c179e"
             ],
             [
              0.4444444444444444,
              "#bd3786"
             ],
             [
              0.5555555555555556,
              "#d8576b"
             ],
             [
              0.6666666666666666,
              "#ed7953"
             ],
             [
              0.7777777777777778,
              "#fb9f3a"
             ],
             [
              0.8888888888888888,
              "#fdca26"
             ],
             [
              1,
              "#f0f921"
             ]
            ],
            "type": "histogram2dcontour"
           }
          ],
          "mesh3d": [
           {
            "colorbar": {
             "outlinewidth": 0,
             "ticks": ""
            },
            "type": "mesh3d"
           }
          ],
          "parcoords": [
           {
            "line": {
             "colorbar": {
              "outlinewidth": 0,
              "ticks": ""
             }
            },
            "type": "parcoords"
           }
          ],
          "pie": [
           {
            "automargin": true,
            "type": "pie"
           }
          ],
          "scatter": [
           {
            "fillpattern": {
             "fillmode": "overlay",
             "size": 10,
             "solidity": 0.2
            },
            "type": "scatter"
           }
          ],
          "scatter3d": [
           {
            "line": {
             "colorbar": {
              "outlinewidth": 0,
              "ticks": ""
             }
            },
            "marker": {
             "colorbar": {
              "outlinewidth": 0,
              "ticks": ""
             }
            },
            "type": "scatter3d"
           }
          ],
          "scattercarpet": [
           {
            "marker": {
             "colorbar": {
              "outlinewidth": 0,
              "ticks": ""
             }
            },
            "type": "scattercarpet"
           }
          ],
          "scattergeo": [
           {
            "marker": {
             "colorbar": {
              "outlinewidth": 0,
              "ticks": ""
             }
            },
            "type": "scattergeo"
           }
          ],
          "scattergl": [
           {
            "marker": {
             "colorbar": {
              "outlinewidth": 0,
              "ticks": ""
             }
            },
            "type": "scattergl"
           }
          ],
          "scattermapbox": [
           {
            "marker": {
             "colorbar": {
              "outlinewidth": 0,
              "ticks": ""
             }
            },
            "type": "scattermapbox"
           }
          ],
          "scatterpolar": [
           {
            "marker": {
             "colorbar": {
              "outlinewidth": 0,
              "ticks": ""
             }
            },
            "type": "scatterpolar"
           }
          ],
          "scatterpolargl": [
           {
            "marker": {
             "colorbar": {
              "outlinewidth": 0,
              "ticks": ""
             }
            },
            "type": "scatterpolargl"
           }
          ],
          "scatterternary": [
           {
            "marker": {
             "colorbar": {
              "outlinewidth": 0,
              "ticks": ""
             }
            },
            "type": "scatterternary"
           }
          ],
          "surface": [
           {
            "colorbar": {
             "outlinewidth": 0,
             "ticks": ""
            },
            "colorscale": [
             [
              0,
              "#0d0887"
             ],
             [
              0.1111111111111111,
              "#46039f"
             ],
             [
              0.2222222222222222,
              "#7201a8"
             ],
             [
              0.3333333333333333,
              "#9c179e"
             ],
             [
              0.4444444444444444,
              "#bd3786"
             ],
             [
              0.5555555555555556,
              "#d8576b"
             ],
             [
              0.6666666666666666,
              "#ed7953"
             ],
             [
              0.7777777777777778,
              "#fb9f3a"
             ],
             [
              0.8888888888888888,
              "#fdca26"
             ],
             [
              1,
              "#f0f921"
             ]
            ],
            "type": "surface"
           }
          ],
          "table": [
           {
            "cells": {
             "fill": {
              "color": "#EBF0F8"
             },
             "line": {
              "color": "white"
             }
            },
            "header": {
             "fill": {
              "color": "#C8D4E3"
             },
             "line": {
              "color": "white"
             }
            },
            "type": "table"
           }
          ]
         },
         "layout": {
          "annotationdefaults": {
           "arrowcolor": "#2a3f5f",
           "arrowhead": 0,
           "arrowwidth": 1
          },
          "autotypenumbers": "strict",
          "coloraxis": {
           "colorbar": {
            "outlinewidth": 0,
            "ticks": ""
           }
          },
          "colorscale": {
           "diverging": [
            [
             0,
             "#8e0152"
            ],
            [
             0.1,
             "#c51b7d"
            ],
            [
             0.2,
             "#de77ae"
            ],
            [
             0.3,
             "#f1b6da"
            ],
            [
             0.4,
             "#fde0ef"
            ],
            [
             0.5,
             "#f7f7f7"
            ],
            [
             0.6,
             "#e6f5d0"
            ],
            [
             0.7,
             "#b8e186"
            ],
            [
             0.8,
             "#7fbc41"
            ],
            [
             0.9,
             "#4d9221"
            ],
            [
             1,
             "#276419"
            ]
           ],
           "sequential": [
            [
             0,
             "#0d0887"
            ],
            [
             0.1111111111111111,
             "#46039f"
            ],
            [
             0.2222222222222222,
             "#7201a8"
            ],
            [
             0.3333333333333333,
             "#9c179e"
            ],
            [
             0.4444444444444444,
             "#bd3786"
            ],
            [
             0.5555555555555556,
             "#d8576b"
            ],
            [
             0.6666666666666666,
             "#ed7953"
            ],
            [
             0.7777777777777778,
             "#fb9f3a"
            ],
            [
             0.8888888888888888,
             "#fdca26"
            ],
            [
             1,
             "#f0f921"
            ]
           ],
           "sequentialminus": [
            [
             0,
             "#0d0887"
            ],
            [
             0.1111111111111111,
             "#46039f"
            ],
            [
             0.2222222222222222,
             "#7201a8"
            ],
            [
             0.3333333333333333,
             "#9c179e"
            ],
            [
             0.4444444444444444,
             "#bd3786"
            ],
            [
             0.5555555555555556,
             "#d8576b"
            ],
            [
             0.6666666666666666,
             "#ed7953"
            ],
            [
             0.7777777777777778,
             "#fb9f3a"
            ],
            [
             0.8888888888888888,
             "#fdca26"
            ],
            [
             1,
             "#f0f921"
            ]
           ]
          },
          "colorway": [
           "#636efa",
           "#EF553B",
           "#00cc96",
           "#ab63fa",
           "#FFA15A",
           "#19d3f3",
           "#FF6692",
           "#B6E880",
           "#FF97FF",
           "#FECB52"
          ],
          "font": {
           "color": "#2a3f5f"
          },
          "geo": {
           "bgcolor": "white",
           "lakecolor": "white",
           "landcolor": "#E5ECF6",
           "showlakes": true,
           "showland": true,
           "subunitcolor": "white"
          },
          "hoverlabel": {
           "align": "left"
          },
          "hovermode": "closest",
          "mapbox": {
           "style": "light"
          },
          "paper_bgcolor": "white",
          "plot_bgcolor": "#E5ECF6",
          "polar": {
           "angularaxis": {
            "gridcolor": "white",
            "linecolor": "white",
            "ticks": ""
           },
           "bgcolor": "#E5ECF6",
           "radialaxis": {
            "gridcolor": "white",
            "linecolor": "white",
            "ticks": ""
           }
          },
          "scene": {
           "xaxis": {
            "backgroundcolor": "#E5ECF6",
            "gridcolor": "white",
            "gridwidth": 2,
            "linecolor": "white",
            "showbackground": true,
            "ticks": "",
            "zerolinecolor": "white"
           },
           "yaxis": {
            "backgroundcolor": "#E5ECF6",
            "gridcolor": "white",
            "gridwidth": 2,
            "linecolor": "white",
            "showbackground": true,
            "ticks": "",
            "zerolinecolor": "white"
           },
           "zaxis": {
            "backgroundcolor": "#E5ECF6",
            "gridcolor": "white",
            "gridwidth": 2,
            "linecolor": "white",
            "showbackground": true,
            "ticks": "",
            "zerolinecolor": "white"
           }
          },
          "shapedefaults": {
           "line": {
            "color": "#2a3f5f"
           }
          },
          "ternary": {
           "aaxis": {
            "gridcolor": "white",
            "linecolor": "white",
            "ticks": ""
           },
           "baxis": {
            "gridcolor": "white",
            "linecolor": "white",
            "ticks": ""
           },
           "bgcolor": "#E5ECF6",
           "caxis": {
            "gridcolor": "white",
            "linecolor": "white",
            "ticks": ""
           }
          },
          "title": {
           "x": 0.05
          },
          "xaxis": {
           "automargin": true,
           "gridcolor": "white",
           "linecolor": "white",
           "ticks": "",
           "title": {
            "standoff": 15
           },
           "zerolinecolor": "white",
           "zerolinewidth": 2
          },
          "yaxis": {
           "automargin": true,
           "gridcolor": "white",
           "linecolor": "white",
           "ticks": "",
           "title": {
            "standoff": 15
           },
           "zerolinecolor": "white",
           "zerolinewidth": 2
          }
         }
        },
        "title": {
         "text": "Hourly Bluebike Trips Near Ringgold Park"
        },
        "width": 800
       }
      }
     },
     "metadata": {},
     "output_type": "display_data"
    },
    {
     "name": "stdout",
     "output_type": "stream",
     "text": [
      "No stations within 0.5 km of Jeremiah Hurley Memorial Park\n",
      "No stations within 0.5 km of Little Scobie Playground\n",
      "4 nearest stations to Marcella Playground: Jackson Square T Stop, The Dimock Center, MLK Blvd at Washington St, Martha Eliot Health Center\n"
     ]
    },
    {
     "name": "stderr",
     "output_type": "stream",
     "text": [
      "/Users/henrywu/opt/anaconda3/lib/python3.9/site-packages/plotly/express/_core.py:271: FutureWarning:\n",
      "\n",
      "The frame.append method is deprecated and will be removed from pandas in a future version. Use pandas.concat instead.\n",
      "\n",
      "/Users/henrywu/opt/anaconda3/lib/python3.9/site-packages/plotly/express/_core.py:271: FutureWarning:\n",
      "\n",
      "The frame.append method is deprecated and will be removed from pandas in a future version. Use pandas.concat instead.\n",
      "\n",
      "/Users/henrywu/opt/anaconda3/lib/python3.9/site-packages/plotly/express/_core.py:271: FutureWarning:\n",
      "\n",
      "The frame.append method is deprecated and will be removed from pandas in a future version. Use pandas.concat instead.\n",
      "\n",
      "/Users/henrywu/opt/anaconda3/lib/python3.9/site-packages/plotly/express/_core.py:271: FutureWarning:\n",
      "\n",
      "The frame.append method is deprecated and will be removed from pandas in a future version. Use pandas.concat instead.\n",
      "\n"
     ]
    },
    {
     "data": {
      "application/vnd.plotly.v1+json": {
       "config": {
        "plotlyServerURL": "https://plot.ly"
       },
       "data": [
        {
         "customdata": [
          [
           0.6118143459915611,
           7.5
          ],
          [
           0.40822784810126583,
           22.5
          ],
          [
           0.229957805907173,
           37.5
          ],
          [
           0.19725738396624473,
           52.5
          ],
          [
           0.3449367088607595,
           67.5
          ],
          [
           0.729957805907173,
           82.5
          ],
          [
           1.1666666666666667,
           97.5
          ],
          [
           2.9641350210970465,
           112.5
          ],
          [
           4.8428270042194095,
           127.5
          ],
          [
           3.257383966244726,
           142.5
          ],
          [
           2.3470464135021096,
           157.5
          ],
          [
           2.663502109704641,
           172.5
          ],
          [
           3.2162447257383966,
           187.5
          ],
          [
           2.9852320675105486,
           202.5
          ],
          [
           2.419831223628692,
           217.5
          ],
          [
           2.571729957805907,
           232.5
          ],
          [
           2.9335443037974684,
           247.5
          ],
          [
           3.701476793248945,
           262.5
          ],
          [
           3.3681434599156117,
           277.5
          ],
          [
           2.7056962025316458,
           292.5
          ],
          [
           2.1719409282700424,
           307.5
          ],
          [
           2.090717299578059,
           322.5
          ],
          [
           1.7573839662447257,
           337.5
          ],
          [
           1.2921940928270041,
           352.5
          ],
          [
           0.6118143459915611,
           7.5
          ]
         ],
         "hovertemplate": "Day Type=Weekday<br>Trip Type=Departures<br>Trips=%{customdata[0]:.2f}<extra></extra>",
         "legendgroup": "Weekday, Departures",
         "line": {
          "color": "#636efa",
          "dash": "solid"
         },
         "marker": {
          "symbol": "circle"
         },
         "mode": "lines",
         "name": "Weekday, Departures",
         "r": [
          0.6118143459915611,
          0.40822784810126583,
          0.229957805907173,
          0.19725738396624473,
          0.3449367088607595,
          0.729957805907173,
          1.1666666666666667,
          2.9641350210970465,
          4.8428270042194095,
          3.257383966244726,
          2.3470464135021096,
          2.663502109704641,
          3.2162447257383966,
          2.9852320675105486,
          2.419831223628692,
          2.571729957805907,
          2.9335443037974684,
          3.701476793248945,
          3.3681434599156117,
          2.7056962025316458,
          2.1719409282700424,
          2.090717299578059,
          1.7573839662447257,
          1.2921940928270041,
          0.6118143459915611
         ],
         "showlegend": true,
         "subplot": "polar",
         "theta": [
          7.5,
          22.5,
          37.5,
          52.5,
          67.5,
          82.5,
          97.5,
          112.5,
          127.5,
          142.5,
          157.5,
          172.5,
          187.5,
          202.5,
          217.5,
          232.5,
          247.5,
          262.5,
          277.5,
          292.5,
          307.5,
          322.5,
          337.5,
          352.5,
          7.5
         ],
         "type": "scatterpolar"
        },
        {
         "customdata": [
          [
           1.5770042194092826,
           7.5
          ],
          [
           1.09915611814346,
           22.5
          ],
          [
           0.7120253164556962,
           37.5
          ],
          [
           0.47257383966244726,
           52.5
          ],
          [
           0.27531645569620256,
           67.5
          ],
          [
           0.2742616033755274,
           82.5
          ],
          [
           0.39767932489451474,
           97.5
          ],
          [
           0.759493670886076,
           112.5
          ],
          [
           1.6276371308016877,
           127.5
          ],
          [
           0.9736286919831224,
           142.5
          ],
          [
           0.8755274261603375,
           157.5
          ],
          [
           1.160337552742616,
           172.5
          ],
          [
           1.5938818565400843,
           187.5
          ],
          [
           1.8132911392405062,
           202.5
          ],
          [
           2.059071729957806,
           217.5
          ],
          [
           2.4240506329113924,
           232.5
          ],
          [
           3.4736286919831225,
           247.5
          ],
          [
           5.5042194092827,
           262.5
          ],
          [
           5.182489451476793,
           277.5
          ],
          [
           4.333333333333333,
           292.5
          ],
          [
           3.5727848101265822,
           307.5
          ],
          [
           3.6244725738396624,
           322.5
          ],
          [
           3.289029535864979,
           337.5
          ],
          [
           2.3892405063291138,
           352.5
          ],
          [
           1.5770042194092826,
           7.5
          ]
         ],
         "hovertemplate": "Day Type=Weekday<br>Trip Type=Arrivals<br>Trips=%{customdata[0]:.2f}<extra></extra>",
         "legendgroup": "Weekday, Arrivals",
         "line": {
          "color": "#636efa",
          "dash": "dot"
         },
         "marker": {
          "symbol": "circle"
         },
         "mode": "lines",
         "name": "Weekday, Arrivals",
         "r": [
          1.5770042194092826,
          1.09915611814346,
          0.7120253164556962,
          0.47257383966244726,
          0.27531645569620256,
          0.2742616033755274,
          0.39767932489451474,
          0.759493670886076,
          1.6276371308016877,
          0.9736286919831224,
          0.8755274261603375,
          1.160337552742616,
          1.5938818565400843,
          1.8132911392405062,
          2.059071729957806,
          2.4240506329113924,
          3.4736286919831225,
          5.5042194092827,
          5.182489451476793,
          4.333333333333333,
          3.5727848101265822,
          3.6244725738396624,
          3.289029535864979,
          2.3892405063291138,
          1.5770042194092826
         ],
         "showlegend": true,
         "subplot": "polar",
         "theta": [
          7.5,
          22.5,
          37.5,
          52.5,
          67.5,
          82.5,
          97.5,
          112.5,
          127.5,
          142.5,
          157.5,
          172.5,
          187.5,
          202.5,
          217.5,
          232.5,
          247.5,
          262.5,
          277.5,
          292.5,
          307.5,
          322.5,
          337.5,
          352.5,
          7.5
         ],
         "type": "scatterpolar"
        },
        {
         "customdata": [
          [
           0.3470464135021097,
           7.5
          ],
          [
           0.26582278481012656,
           22.5
          ],
          [
           0.1719409282700422,
           37.5
          ],
          [
           0.16139240506329114,
           52.5
          ],
          [
           0.10970464135021098,
           67.5
          ],
          [
           0.1360759493670886,
           82.5
          ],
          [
           0.16033755274261605,
           97.5
          ],
          [
           0.3111814345991561,
           112.5
          ],
          [
           0.6023206751054853,
           127.5
          ],
          [
           0.8407172995780591,
           142.5
          ],
          [
           0.9440928270042194,
           157.5
          ],
          [
           1.1898734177215189,
           172.5
          ],
          [
           1.3048523206751055,
           187.5
          ],
          [
           1.4145569620253164,
           202.5
          ],
          [
           1.3238396624472575,
           217.5
          ],
          [
           1.4388185654008439,
           232.5
          ],
          [
           1.3565400843881856,
           247.5
          ],
          [
           1.3259493670886076,
           262.5
          ],
          [
           1.2964135021097047,
           277.5
          ],
          [
           1.1044303797468353,
           292.5
          ],
          [
           0.8143459915611815,
           307.5
          ],
          [
           0.6424050632911392,
           322.5
          ],
          [
           0.5611814345991561,
           337.5
          ],
          [
           0.45042194092827004,
           352.5
          ],
          [
           0.3470464135021097,
           7.5
          ]
         ],
         "hovertemplate": "Day Type=Weekend<br>Trip Type=Departures<br>Trips=%{customdata[0]:.2f}<extra></extra>",
         "legendgroup": "Weekend, Departures",
         "line": {
          "color": "#EF553B",
          "dash": "solid"
         },
         "marker": {
          "symbol": "circle"
         },
         "mode": "lines",
         "name": "Weekend, Departures",
         "r": [
          0.3470464135021097,
          0.26582278481012656,
          0.1719409282700422,
          0.16139240506329114,
          0.10970464135021098,
          0.1360759493670886,
          0.16033755274261605,
          0.3111814345991561,
          0.6023206751054853,
          0.8407172995780591,
          0.9440928270042194,
          1.1898734177215189,
          1.3048523206751055,
          1.4145569620253164,
          1.3238396624472575,
          1.4388185654008439,
          1.3565400843881856,
          1.3259493670886076,
          1.2964135021097047,
          1.1044303797468353,
          0.8143459915611815,
          0.6424050632911392,
          0.5611814345991561,
          0.45042194092827004,
          0.3470464135021097
         ],
         "showlegend": true,
         "subplot": "polar",
         "theta": [
          7.5,
          22.5,
          37.5,
          52.5,
          67.5,
          82.5,
          97.5,
          112.5,
          127.5,
          142.5,
          157.5,
          172.5,
          187.5,
          202.5,
          217.5,
          232.5,
          247.5,
          262.5,
          277.5,
          292.5,
          307.5,
          322.5,
          337.5,
          352.5,
          7.5
         ],
         "type": "scatterpolar"
        },
        {
         "customdata": [
          [
           0.7141350210970464,
           7.5
          ],
          [
           0.630801687763713,
           22.5
          ],
          [
           0.5221518987341772,
           37.5
          ],
          [
           0.32489451476793246,
           52.5
          ],
          [
           0.2141350210970464,
           67.5
          ],
          [
           0.27637130801687765,
           82.5
          ],
          [
           0.29535864978902954,
           97.5
          ],
          [
           0.22257383966244726,
           112.5
          ],
          [
           0.2289029535864979,
           127.5
          ],
          [
           0.310126582278481,
           142.5
          ],
          [
           0.45147679324894513,
           157.5
          ],
          [
           0.6508438818565401,
           172.5
          ],
          [
           0.8470464135021097,
           187.5
          ],
          [
           0.9947257383966245,
           202.5
          ],
          [
           1.100210970464135,
           217.5
          ],
          [
           1.1466244725738397,
           232.5
          ],
          [
           1.3364978902953586,
           247.5
          ],
          [
           1.3670886075949367,
           262.5
          ],
          [
           1.3628691983122363,
           277.5
          ],
          [
           1.270042194092827,
           292.5
          ],
          [
           1.2267932489451476,
           307.5
          ],
          [
           1.0632911392405062,
           322.5
          ],
          [
           0.9040084388185654,
           337.5
          ],
          [
           0.7362869198312236,
           352.5
          ],
          [
           0.7141350210970464,
           7.5
          ]
         ],
         "hovertemplate": "Day Type=Weekend<br>Trip Type=Arrivals<br>Trips=%{customdata[0]:.2f}<extra></extra>",
         "legendgroup": "Weekend, Arrivals",
         "line": {
          "color": "#EF553B",
          "dash": "dot"
         },
         "marker": {
          "symbol": "circle"
         },
         "mode": "lines",
         "name": "Weekend, Arrivals",
         "r": [
          0.7141350210970464,
          0.630801687763713,
          0.5221518987341772,
          0.32489451476793246,
          0.2141350210970464,
          0.27637130801687765,
          0.29535864978902954,
          0.22257383966244726,
          0.2289029535864979,
          0.310126582278481,
          0.45147679324894513,
          0.6508438818565401,
          0.8470464135021097,
          0.9947257383966245,
          1.100210970464135,
          1.1466244725738397,
          1.3364978902953586,
          1.3670886075949367,
          1.3628691983122363,
          1.270042194092827,
          1.2267932489451476,
          1.0632911392405062,
          0.9040084388185654,
          0.7362869198312236,
          0.7141350210970464
         ],
         "showlegend": true,
         "subplot": "polar",
         "theta": [
          7.5,
          22.5,
          37.5,
          52.5,
          67.5,
          82.5,
          97.5,
          112.5,
          127.5,
          142.5,
          157.5,
          172.5,
          187.5,
          202.5,
          217.5,
          232.5,
          247.5,
          262.5,
          277.5,
          292.5,
          307.5,
          322.5,
          337.5,
          352.5,
          7.5
         ],
         "type": "scatterpolar"
        }
       ],
       "layout": {
        "height": 600,
        "legend": {
         "title": {
          "text": ""
         },
         "tracegroupgap": 0
        },
        "margin": {
         "b": 25,
         "l": 0,
         "r": 0,
         "t": 50
        },
        "polar": {
         "angularaxis": {
          "direction": "clockwise",
          "rotation": -90,
          "tickmode": "array",
          "ticktext": [
           "12 AM",
           "1 AM",
           "2 AM",
           "3 AM",
           "4 AM",
           "5 AM",
           "6 AM",
           "7 AM",
           "8 AM",
           "9 AM",
           "10 AM",
           "11 AM",
           "12 PM",
           "1 PM",
           "2 PM",
           "3 PM",
           "4 PM",
           "5 PM",
           "6 PM",
           "7 PM",
           "8 PM",
           "9 PM",
           "10 PM",
           "11 PM"
          ],
          "tickvals": [
           0,
           15,
           30,
           45,
           60,
           75,
           90,
           105,
           120,
           135,
           150,
           165,
           180,
           195,
           210,
           225,
           240,
           255,
           270,
           285,
           300,
           315,
           330,
           345
          ]
         },
         "domain": {
          "x": [
           0,
           1
          ],
          "y": [
           0,
           1
          ]
         }
        },
        "template": {
         "data": {
          "bar": [
           {
            "error_x": {
             "color": "#2a3f5f"
            },
            "error_y": {
             "color": "#2a3f5f"
            },
            "marker": {
             "line": {
              "color": "#E5ECF6",
              "width": 0.5
             },
             "pattern": {
              "fillmode": "overlay",
              "size": 10,
              "solidity": 0.2
             }
            },
            "type": "bar"
           }
          ],
          "barpolar": [
           {
            "marker": {
             "line": {
              "color": "#E5ECF6",
              "width": 0.5
             },
             "pattern": {
              "fillmode": "overlay",
              "size": 10,
              "solidity": 0.2
             }
            },
            "type": "barpolar"
           }
          ],
          "carpet": [
           {
            "aaxis": {
             "endlinecolor": "#2a3f5f",
             "gridcolor": "white",
             "linecolor": "white",
             "minorgridcolor": "white",
             "startlinecolor": "#2a3f5f"
            },
            "baxis": {
             "endlinecolor": "#2a3f5f",
             "gridcolor": "white",
             "linecolor": "white",
             "minorgridcolor": "white",
             "startlinecolor": "#2a3f5f"
            },
            "type": "carpet"
           }
          ],
          "choropleth": [
           {
            "colorbar": {
             "outlinewidth": 0,
             "ticks": ""
            },
            "type": "choropleth"
           }
          ],
          "contour": [
           {
            "colorbar": {
             "outlinewidth": 0,
             "ticks": ""
            },
            "colorscale": [
             [
              0,
              "#0d0887"
             ],
             [
              0.1111111111111111,
              "#46039f"
             ],
             [
              0.2222222222222222,
              "#7201a8"
             ],
             [
              0.3333333333333333,
              "#9c179e"
             ],
             [
              0.4444444444444444,
              "#bd3786"
             ],
             [
              0.5555555555555556,
              "#d8576b"
             ],
             [
              0.6666666666666666,
              "#ed7953"
             ],
             [
              0.7777777777777778,
              "#fb9f3a"
             ],
             [
              0.8888888888888888,
              "#fdca26"
             ],
             [
              1,
              "#f0f921"
             ]
            ],
            "type": "contour"
           }
          ],
          "contourcarpet": [
           {
            "colorbar": {
             "outlinewidth": 0,
             "ticks": ""
            },
            "type": "contourcarpet"
           }
          ],
          "heatmap": [
           {
            "colorbar": {
             "outlinewidth": 0,
             "ticks": ""
            },
            "colorscale": [
             [
              0,
              "#0d0887"
             ],
             [
              0.1111111111111111,
              "#46039f"
             ],
             [
              0.2222222222222222,
              "#7201a8"
             ],
             [
              0.3333333333333333,
              "#9c179e"
             ],
             [
              0.4444444444444444,
              "#bd3786"
             ],
             [
              0.5555555555555556,
              "#d8576b"
             ],
             [
              0.6666666666666666,
              "#ed7953"
             ],
             [
              0.7777777777777778,
              "#fb9f3a"
             ],
             [
              0.8888888888888888,
              "#fdca26"
             ],
             [
              1,
              "#f0f921"
             ]
            ],
            "type": "heatmap"
           }
          ],
          "heatmapgl": [
           {
            "colorbar": {
             "outlinewidth": 0,
             "ticks": ""
            },
            "colorscale": [
             [
              0,
              "#0d0887"
             ],
             [
              0.1111111111111111,
              "#46039f"
             ],
             [
              0.2222222222222222,
              "#7201a8"
             ],
             [
              0.3333333333333333,
              "#9c179e"
             ],
             [
              0.4444444444444444,
              "#bd3786"
             ],
             [
              0.5555555555555556,
              "#d8576b"
             ],
             [
              0.6666666666666666,
              "#ed7953"
             ],
             [
              0.7777777777777778,
              "#fb9f3a"
             ],
             [
              0.8888888888888888,
              "#fdca26"
             ],
             [
              1,
              "#f0f921"
             ]
            ],
            "type": "heatmapgl"
           }
          ],
          "histogram": [
           {
            "marker": {
             "pattern": {
              "fillmode": "overlay",
              "size": 10,
              "solidity": 0.2
             }
            },
            "type": "histogram"
           }
          ],
          "histogram2d": [
           {
            "colorbar": {
             "outlinewidth": 0,
             "ticks": ""
            },
            "colorscale": [
             [
              0,
              "#0d0887"
             ],
             [
              0.1111111111111111,
              "#46039f"
             ],
             [
              0.2222222222222222,
              "#7201a8"
             ],
             [
              0.3333333333333333,
              "#9c179e"
             ],
             [
              0.4444444444444444,
              "#bd3786"
             ],
             [
              0.5555555555555556,
              "#d8576b"
             ],
             [
              0.6666666666666666,
              "#ed7953"
             ],
             [
              0.7777777777777778,
              "#fb9f3a"
             ],
             [
              0.8888888888888888,
              "#fdca26"
             ],
             [
              1,
              "#f0f921"
             ]
            ],
            "type": "histogram2d"
           }
          ],
          "histogram2dcontour": [
           {
            "colorbar": {
             "outlinewidth": 0,
             "ticks": ""
            },
            "colorscale": [
             [
              0,
              "#0d0887"
             ],
             [
              0.1111111111111111,
              "#46039f"
             ],
             [
              0.2222222222222222,
              "#7201a8"
             ],
             [
              0.3333333333333333,
              "#9c179e"
             ],
             [
              0.4444444444444444,
              "#bd3786"
             ],
             [
              0.5555555555555556,
              "#d8576b"
             ],
             [
              0.6666666666666666,
              "#ed7953"
             ],
             [
              0.7777777777777778,
              "#fb9f3a"
             ],
             [
              0.8888888888888888,
              "#fdca26"
             ],
             [
              1,
              "#f0f921"
             ]
            ],
            "type": "histogram2dcontour"
           }
          ],
          "mesh3d": [
           {
            "colorbar": {
             "outlinewidth": 0,
             "ticks": ""
            },
            "type": "mesh3d"
           }
          ],
          "parcoords": [
           {
            "line": {
             "colorbar": {
              "outlinewidth": 0,
              "ticks": ""
             }
            },
            "type": "parcoords"
           }
          ],
          "pie": [
           {
            "automargin": true,
            "type": "pie"
           }
          ],
          "scatter": [
           {
            "fillpattern": {
             "fillmode": "overlay",
             "size": 10,
             "solidity": 0.2
            },
            "type": "scatter"
           }
          ],
          "scatter3d": [
           {
            "line": {
             "colorbar": {
              "outlinewidth": 0,
              "ticks": ""
             }
            },
            "marker": {
             "colorbar": {
              "outlinewidth": 0,
              "ticks": ""
             }
            },
            "type": "scatter3d"
           }
          ],
          "scattercarpet": [
           {
            "marker": {
             "colorbar": {
              "outlinewidth": 0,
              "ticks": ""
             }
            },
            "type": "scattercarpet"
           }
          ],
          "scattergeo": [
           {
            "marker": {
             "colorbar": {
              "outlinewidth": 0,
              "ticks": ""
             }
            },
            "type": "scattergeo"
           }
          ],
          "scattergl": [
           {
            "marker": {
             "colorbar": {
              "outlinewidth": 0,
              "ticks": ""
             }
            },
            "type": "scattergl"
           }
          ],
          "scattermapbox": [
           {
            "marker": {
             "colorbar": {
              "outlinewidth": 0,
              "ticks": ""
             }
            },
            "type": "scattermapbox"
           }
          ],
          "scatterpolar": [
           {
            "marker": {
             "colorbar": {
              "outlinewidth": 0,
              "ticks": ""
             }
            },
            "type": "scatterpolar"
           }
          ],
          "scatterpolargl": [
           {
            "marker": {
             "colorbar": {
              "outlinewidth": 0,
              "ticks": ""
             }
            },
            "type": "scatterpolargl"
           }
          ],
          "scatterternary": [
           {
            "marker": {
             "colorbar": {
              "outlinewidth": 0,
              "ticks": ""
             }
            },
            "type": "scatterternary"
           }
          ],
          "surface": [
           {
            "colorbar": {
             "outlinewidth": 0,
             "ticks": ""
            },
            "colorscale": [
             [
              0,
              "#0d0887"
             ],
             [
              0.1111111111111111,
              "#46039f"
             ],
             [
              0.2222222222222222,
              "#7201a8"
             ],
             [
              0.3333333333333333,
              "#9c179e"
             ],
             [
              0.4444444444444444,
              "#bd3786"
             ],
             [
              0.5555555555555556,
              "#d8576b"
             ],
             [
              0.6666666666666666,
              "#ed7953"
             ],
             [
              0.7777777777777778,
              "#fb9f3a"
             ],
             [
              0.8888888888888888,
              "#fdca26"
             ],
             [
              1,
              "#f0f921"
             ]
            ],
            "type": "surface"
           }
          ],
          "table": [
           {
            "cells": {
             "fill": {
              "color": "#EBF0F8"
             },
             "line": {
              "color": "white"
             }
            },
            "header": {
             "fill": {
              "color": "#C8D4E3"
             },
             "line": {
              "color": "white"
             }
            },
            "type": "table"
           }
          ]
         },
         "layout": {
          "annotationdefaults": {
           "arrowcolor": "#2a3f5f",
           "arrowhead": 0,
           "arrowwidth": 1
          },
          "autotypenumbers": "strict",
          "coloraxis": {
           "colorbar": {
            "outlinewidth": 0,
            "ticks": ""
           }
          },
          "colorscale": {
           "diverging": [
            [
             0,
             "#8e0152"
            ],
            [
             0.1,
             "#c51b7d"
            ],
            [
             0.2,
             "#de77ae"
            ],
            [
             0.3,
             "#f1b6da"
            ],
            [
             0.4,
             "#fde0ef"
            ],
            [
             0.5,
             "#f7f7f7"
            ],
            [
             0.6,
             "#e6f5d0"
            ],
            [
             0.7,
             "#b8e186"
            ],
            [
             0.8,
             "#7fbc41"
            ],
            [
             0.9,
             "#4d9221"
            ],
            [
             1,
             "#276419"
            ]
           ],
           "sequential": [
            [
             0,
             "#0d0887"
            ],
            [
             0.1111111111111111,
             "#46039f"
            ],
            [
             0.2222222222222222,
             "#7201a8"
            ],
            [
             0.3333333333333333,
             "#9c179e"
            ],
            [
             0.4444444444444444,
             "#bd3786"
            ],
            [
             0.5555555555555556,
             "#d8576b"
            ],
            [
             0.6666666666666666,
             "#ed7953"
            ],
            [
             0.7777777777777778,
             "#fb9f3a"
            ],
            [
             0.8888888888888888,
             "#fdca26"
            ],
            [
             1,
             "#f0f921"
            ]
           ],
           "sequentialminus": [
            [
             0,
             "#0d0887"
            ],
            [
             0.1111111111111111,
             "#46039f"
            ],
            [
             0.2222222222222222,
             "#7201a8"
            ],
            [
             0.3333333333333333,
             "#9c179e"
            ],
            [
             0.4444444444444444,
             "#bd3786"
            ],
            [
             0.5555555555555556,
             "#d8576b"
            ],
            [
             0.6666666666666666,
             "#ed7953"
            ],
            [
             0.7777777777777778,
             "#fb9f3a"
            ],
            [
             0.8888888888888888,
             "#fdca26"
            ],
            [
             1,
             "#f0f921"
            ]
           ]
          },
          "colorway": [
           "#636efa",
           "#EF553B",
           "#00cc96",
           "#ab63fa",
           "#FFA15A",
           "#19d3f3",
           "#FF6692",
           "#B6E880",
           "#FF97FF",
           "#FECB52"
          ],
          "font": {
           "color": "#2a3f5f"
          },
          "geo": {
           "bgcolor": "white",
           "lakecolor": "white",
           "landcolor": "#E5ECF6",
           "showlakes": true,
           "showland": true,
           "subunitcolor": "white"
          },
          "hoverlabel": {
           "align": "left"
          },
          "hovermode": "closest",
          "mapbox": {
           "style": "light"
          },
          "paper_bgcolor": "white",
          "plot_bgcolor": "#E5ECF6",
          "polar": {
           "angularaxis": {
            "gridcolor": "white",
            "linecolor": "white",
            "ticks": ""
           },
           "bgcolor": "#E5ECF6",
           "radialaxis": {
            "gridcolor": "white",
            "linecolor": "white",
            "ticks": ""
           }
          },
          "scene": {
           "xaxis": {
            "backgroundcolor": "#E5ECF6",
            "gridcolor": "white",
            "gridwidth": 2,
            "linecolor": "white",
            "showbackground": true,
            "ticks": "",
            "zerolinecolor": "white"
           },
           "yaxis": {
            "backgroundcolor": "#E5ECF6",
            "gridcolor": "white",
            "gridwidth": 2,
            "linecolor": "white",
            "showbackground": true,
            "ticks": "",
            "zerolinecolor": "white"
           },
           "zaxis": {
            "backgroundcolor": "#E5ECF6",
            "gridcolor": "white",
            "gridwidth": 2,
            "linecolor": "white",
            "showbackground": true,
            "ticks": "",
            "zerolinecolor": "white"
           }
          },
          "shapedefaults": {
           "line": {
            "color": "#2a3f5f"
           }
          },
          "ternary": {
           "aaxis": {
            "gridcolor": "white",
            "linecolor": "white",
            "ticks": ""
           },
           "baxis": {
            "gridcolor": "white",
            "linecolor": "white",
            "ticks": ""
           },
           "bgcolor": "#E5ECF6",
           "caxis": {
            "gridcolor": "white",
            "linecolor": "white",
            "ticks": ""
           }
          },
          "title": {
           "x": 0.05
          },
          "xaxis": {
           "automargin": true,
           "gridcolor": "white",
           "linecolor": "white",
           "ticks": "",
           "title": {
            "standoff": 15
           },
           "zerolinecolor": "white",
           "zerolinewidth": 2
          },
          "yaxis": {
           "automargin": true,
           "gridcolor": "white",
           "linecolor": "white",
           "ticks": "",
           "title": {
            "standoff": 15
           },
           "zerolinecolor": "white",
           "zerolinewidth": 2
          }
         }
        },
        "title": {
         "text": "Hourly Bluebike Trips Near Marcella Playground"
        },
        "width": 800
       }
      }
     },
     "metadata": {},
     "output_type": "display_data"
    },
    {
     "name": "stdout",
     "output_type": "stream",
     "text": [
      "No stations within 0.5 km of Dorchester South Burying Ground\n",
      "1 nearest station to Barry Playground: Spaulding Rehabilitation Hospital - Charlestown Navy Yard\n"
     ]
    },
    {
     "name": "stderr",
     "output_type": "stream",
     "text": [
      "/Users/henrywu/opt/anaconda3/lib/python3.9/site-packages/plotly/express/_core.py:271: FutureWarning:\n",
      "\n",
      "The frame.append method is deprecated and will be removed from pandas in a future version. Use pandas.concat instead.\n",
      "\n",
      "/Users/henrywu/opt/anaconda3/lib/python3.9/site-packages/plotly/express/_core.py:271: FutureWarning:\n",
      "\n",
      "The frame.append method is deprecated and will be removed from pandas in a future version. Use pandas.concat instead.\n",
      "\n",
      "/Users/henrywu/opt/anaconda3/lib/python3.9/site-packages/plotly/express/_core.py:271: FutureWarning:\n",
      "\n",
      "The frame.append method is deprecated and will be removed from pandas in a future version. Use pandas.concat instead.\n",
      "\n",
      "/Users/henrywu/opt/anaconda3/lib/python3.9/site-packages/plotly/express/_core.py:271: FutureWarning:\n",
      "\n",
      "The frame.append method is deprecated and will be removed from pandas in a future version. Use pandas.concat instead.\n",
      "\n"
     ]
    },
    {
     "data": {
      "application/vnd.plotly.v1+json": {
       "config": {
        "plotlyServerURL": "https://plot.ly"
       },
       "data": [
        {
         "customdata": [
          [
           0.6033755274261603,
           7.5
          ],
          [
           0.28164556962025317,
           22.5
          ],
          [
           0.16877637130801687,
           37.5
          ],
          [
           0.16666666666666666,
           52.5
          ],
          [
           0.0770042194092827,
           67.5
          ],
          [
           0.1940928270042194,
           82.5
          ],
          [
           0.9082278481012658,
           97.5
          ],
          [
           1.5833333333333333,
           112.5
          ],
          [
           2.80168776371308,
           127.5
          ],
          [
           1.0748945147679325,
           142.5
          ],
          [
           1.0137130801687764,
           157.5
          ],
          [
           1.3080168776371308,
           172.5
          ],
          [
           1.8670886075949367,
           187.5
          ],
          [
           2.067510548523207,
           202.5
          ],
          [
           2.492616033755274,
           217.5
          ],
          [
           3.571729957805907,
           232.5
          ],
          [
           6.537974683544304,
           247.5
          ],
          [
           7.6075949367088604,
           262.5
          ],
          [
           5.082278481012659,
           277.5
          ],
          [
           3.030590717299578,
           292.5
          ],
          [
           2.712025316455696,
           307.5
          ],
          [
           2.7816455696202533,
           322.5
          ],
          [
           1.7637130801687764,
           337.5
          ],
          [
           1.010548523206751,
           352.5
          ],
          [
           0.6033755274261603,
           7.5
          ]
         ],
         "hovertemplate": "Day Type=Weekday<br>Trip Type=Departures<br>Trips=%{customdata[0]:.2f}<extra></extra>",
         "legendgroup": "Weekday, Departures",
         "line": {
          "color": "#636efa",
          "dash": "solid"
         },
         "marker": {
          "symbol": "circle"
         },
         "mode": "lines",
         "name": "Weekday, Departures",
         "r": [
          0.6033755274261603,
          0.28164556962025317,
          0.16877637130801687,
          0.16666666666666666,
          0.0770042194092827,
          0.1940928270042194,
          0.9082278481012658,
          1.5833333333333333,
          2.80168776371308,
          1.0748945147679325,
          1.0137130801687764,
          1.3080168776371308,
          1.8670886075949367,
          2.067510548523207,
          2.492616033755274,
          3.571729957805907,
          6.537974683544304,
          7.6075949367088604,
          5.082278481012659,
          3.030590717299578,
          2.712025316455696,
          2.7816455696202533,
          1.7637130801687764,
          1.010548523206751,
          0.6033755274261603
         ],
         "showlegend": true,
         "subplot": "polar",
         "theta": [
          7.5,
          22.5,
          37.5,
          52.5,
          67.5,
          82.5,
          97.5,
          112.5,
          127.5,
          142.5,
          157.5,
          172.5,
          187.5,
          202.5,
          217.5,
          232.5,
          247.5,
          262.5,
          277.5,
          292.5,
          307.5,
          322.5,
          337.5,
          352.5,
          7.5
         ],
         "type": "scatterpolar"
        },
        {
         "customdata": [
          [
           0.3407172995780591,
           7.5
          ],
          [
           0.17721518987341772,
           22.5
          ],
          [
           0.12658227848101267,
           37.5
          ],
          [
           0.11181434599156118,
           52.5
          ],
          [
           0.05485232067510549,
           67.5
          ],
          [
           0.12869198312236288,
           82.5
          ],
          [
           1.2869198312236287,
           97.5
          ],
          [
           4.155063291139241,
           112.5
          ],
          [
           7.310126582278481,
           127.5
          ],
          [
           6.172995780590718,
           142.5
          ],
          [
           3.3797468354430378,
           157.5
          ],
          [
           2.4989451476793247,
           172.5
          ],
          [
           3.5738396624472575,
           187.5
          ],
          [
           3.380801687763713,
           202.5
          ],
          [
           2.2352320675105486,
           217.5
          ],
          [
           2.0474683544303796,
           232.5
          ],
          [
           2.2742616033755274,
           247.5
          ],
          [
           4.118143459915612,
           262.5
          ],
          [
           3.2858649789029535,
           277.5
          ],
          [
           1.8649789029535866,
           292.5
          ],
          [
           1.4419831223628692,
           307.5
          ],
          [
           1.391350210970464,
           322.5
          ],
          [
           1.2552742616033756,
           337.5
          ],
          [
           0.8227848101265823,
           352.5
          ],
          [
           0.3407172995780591,
           7.5
          ]
         ],
         "hovertemplate": "Day Type=Weekday<br>Trip Type=Arrivals<br>Trips=%{customdata[0]:.2f}<extra></extra>",
         "legendgroup": "Weekday, Arrivals",
         "line": {
          "color": "#636efa",
          "dash": "dot"
         },
         "marker": {
          "symbol": "circle"
         },
         "mode": "lines",
         "name": "Weekday, Arrivals",
         "r": [
          0.3407172995780591,
          0.17721518987341772,
          0.12658227848101267,
          0.11181434599156118,
          0.05485232067510549,
          0.12869198312236288,
          1.2869198312236287,
          4.155063291139241,
          7.310126582278481,
          6.172995780590718,
          3.3797468354430378,
          2.4989451476793247,
          3.5738396624472575,
          3.380801687763713,
          2.2352320675105486,
          2.0474683544303796,
          2.2742616033755274,
          4.118143459915612,
          3.2858649789029535,
          1.8649789029535866,
          1.4419831223628692,
          1.391350210970464,
          1.2552742616033756,
          0.8227848101265823,
          0.3407172995780591
         ],
         "showlegend": true,
         "subplot": "polar",
         "theta": [
          7.5,
          22.5,
          37.5,
          52.5,
          67.5,
          82.5,
          97.5,
          112.5,
          127.5,
          142.5,
          157.5,
          172.5,
          187.5,
          202.5,
          217.5,
          232.5,
          247.5,
          262.5,
          277.5,
          292.5,
          307.5,
          322.5,
          337.5,
          352.5,
          7.5
         ],
         "type": "scatterpolar"
        },
        {
         "customdata": [
          [
           0.17721518987341772,
           7.5
          ],
          [
           0.09282700421940929,
           22.5
          ],
          [
           0.06329113924050633,
           37.5
          ],
          [
           0.06223628691983123,
           52.5
          ],
          [
           0.03691983122362869,
           67.5
          ],
          [
           0.03164556962025317,
           82.5
          ],
          [
           0.043248945147679324,
           97.5
          ],
          [
           0.13185654008438819,
           112.5
          ],
          [
           0.2289029535864979,
           127.5
          ],
          [
           0.25738396624472576,
           142.5
          ],
          [
           0.5031645569620253,
           157.5
          ],
          [
           0.6234177215189873,
           172.5
          ],
          [
           0.7436708860759493,
           187.5
          ],
          [
           0.70042194092827,
           202.5
          ],
          [
           0.7236286919831224,
           217.5
          ],
          [
           0.8987341772151899,
           232.5
          ],
          [
           0.8755274261603375,
           247.5
          ],
          [
           0.8639240506329114,
           262.5
          ],
          [
           0.810126582278481,
           277.5
          ],
          [
           0.7151898734177216,
           292.5
          ],
          [
           0.4525316455696203,
           307.5
          ],
          [
           0.4282700421940928,
           322.5
          ],
          [
           0.3649789029535865,
           337.5
          ],
          [
           0.29535864978902954,
           352.5
          ],
          [
           0.17721518987341772,
           7.5
          ]
         ],
         "hovertemplate": "Day Type=Weekend<br>Trip Type=Departures<br>Trips=%{customdata[0]:.2f}<extra></extra>",
         "legendgroup": "Weekend, Departures",
         "line": {
          "color": "#EF553B",
          "dash": "solid"
         },
         "marker": {
          "symbol": "circle"
         },
         "mode": "lines",
         "name": "Weekend, Departures",
         "r": [
          0.17721518987341772,
          0.09282700421940929,
          0.06329113924050633,
          0.06223628691983123,
          0.03691983122362869,
          0.03164556962025317,
          0.043248945147679324,
          0.13185654008438819,
          0.2289029535864979,
          0.25738396624472576,
          0.5031645569620253,
          0.6234177215189873,
          0.7436708860759493,
          0.70042194092827,
          0.7236286919831224,
          0.8987341772151899,
          0.8755274261603375,
          0.8639240506329114,
          0.810126582278481,
          0.7151898734177216,
          0.4525316455696203,
          0.4282700421940928,
          0.3649789029535865,
          0.29535864978902954,
          0.17721518987341772
         ],
         "showlegend": true,
         "subplot": "polar",
         "theta": [
          7.5,
          22.5,
          37.5,
          52.5,
          67.5,
          82.5,
          97.5,
          112.5,
          127.5,
          142.5,
          157.5,
          172.5,
          187.5,
          202.5,
          217.5,
          232.5,
          247.5,
          262.5,
          277.5,
          292.5,
          307.5,
          322.5,
          337.5,
          352.5,
          7.5
         ],
         "type": "scatterpolar"
        },
        {
         "customdata": [
          [
           0.19936708860759494,
           7.5
          ],
          [
           0.12025316455696203,
           22.5
          ],
          [
           0.07278481012658228,
           37.5
          ],
          [
           0.07805907172995781,
           52.5
          ],
          [
           0.06118143459915612,
           67.5
          ],
          [
           0.05063291139240506,
           82.5
          ],
          [
           0.12763713080168776,
           97.5
          ],
          [
           0.2468354430379747,
           112.5
          ],
          [
           0.37341772151898733,
           127.5
          ],
          [
           0.5907172995780591,
           142.5
          ],
          [
           0.6919831223628692,
           157.5
          ],
          [
           0.7130801687763713,
           172.5
          ],
          [
           0.7109704641350211,
           187.5
          ],
          [
           0.7921940928270043,
           202.5
          ],
          [
           0.8913502109704642,
           217.5
          ],
          [
           0.9683544303797469,
           232.5
          ],
          [
           0.9092827004219409,
           247.5
          ],
          [
           0.7267932489451476,
           262.5
          ],
          [
           0.7710970464135021,
           277.5
          ],
          [
           0.5970464135021097,
           292.5
          ],
          [
           0.47468354430379744,
           307.5
          ],
          [
           0.3575949367088608,
           322.5
          ],
          [
           0.27848101265822783,
           337.5
          ],
          [
           0.20147679324894516,
           352.5
          ],
          [
           0.19936708860759494,
           7.5
          ]
         ],
         "hovertemplate": "Day Type=Weekend<br>Trip Type=Arrivals<br>Trips=%{customdata[0]:.2f}<extra></extra>",
         "legendgroup": "Weekend, Arrivals",
         "line": {
          "color": "#EF553B",
          "dash": "dot"
         },
         "marker": {
          "symbol": "circle"
         },
         "mode": "lines",
         "name": "Weekend, Arrivals",
         "r": [
          0.19936708860759494,
          0.12025316455696203,
          0.07278481012658228,
          0.07805907172995781,
          0.06118143459915612,
          0.05063291139240506,
          0.12763713080168776,
          0.2468354430379747,
          0.37341772151898733,
          0.5907172995780591,
          0.6919831223628692,
          0.7130801687763713,
          0.7109704641350211,
          0.7921940928270043,
          0.8913502109704642,
          0.9683544303797469,
          0.9092827004219409,
          0.7267932489451476,
          0.7710970464135021,
          0.5970464135021097,
          0.47468354430379744,
          0.3575949367088608,
          0.27848101265822783,
          0.20147679324894516,
          0.19936708860759494
         ],
         "showlegend": true,
         "subplot": "polar",
         "theta": [
          7.5,
          22.5,
          37.5,
          52.5,
          67.5,
          82.5,
          97.5,
          112.5,
          127.5,
          142.5,
          157.5,
          172.5,
          187.5,
          202.5,
          217.5,
          232.5,
          247.5,
          262.5,
          277.5,
          292.5,
          307.5,
          322.5,
          337.5,
          352.5,
          7.5
         ],
         "type": "scatterpolar"
        }
       ],
       "layout": {
        "height": 600,
        "legend": {
         "title": {
          "text": ""
         },
         "tracegroupgap": 0
        },
        "margin": {
         "b": 25,
         "l": 0,
         "r": 0,
         "t": 50
        },
        "polar": {
         "angularaxis": {
          "direction": "clockwise",
          "rotation": -90,
          "tickmode": "array",
          "ticktext": [
           "12 AM",
           "1 AM",
           "2 AM",
           "3 AM",
           "4 AM",
           "5 AM",
           "6 AM",
           "7 AM",
           "8 AM",
           "9 AM",
           "10 AM",
           "11 AM",
           "12 PM",
           "1 PM",
           "2 PM",
           "3 PM",
           "4 PM",
           "5 PM",
           "6 PM",
           "7 PM",
           "8 PM",
           "9 PM",
           "10 PM",
           "11 PM"
          ],
          "tickvals": [
           0,
           15,
           30,
           45,
           60,
           75,
           90,
           105,
           120,
           135,
           150,
           165,
           180,
           195,
           210,
           225,
           240,
           255,
           270,
           285,
           300,
           315,
           330,
           345
          ]
         },
         "domain": {
          "x": [
           0,
           1
          ],
          "y": [
           0,
           1
          ]
         }
        },
        "template": {
         "data": {
          "bar": [
           {
            "error_x": {
             "color": "#2a3f5f"
            },
            "error_y": {
             "color": "#2a3f5f"
            },
            "marker": {
             "line": {
              "color": "#E5ECF6",
              "width": 0.5
             },
             "pattern": {
              "fillmode": "overlay",
              "size": 10,
              "solidity": 0.2
             }
            },
            "type": "bar"
           }
          ],
          "barpolar": [
           {
            "marker": {
             "line": {
              "color": "#E5ECF6",
              "width": 0.5
             },
             "pattern": {
              "fillmode": "overlay",
              "size": 10,
              "solidity": 0.2
             }
            },
            "type": "barpolar"
           }
          ],
          "carpet": [
           {
            "aaxis": {
             "endlinecolor": "#2a3f5f",
             "gridcolor": "white",
             "linecolor": "white",
             "minorgridcolor": "white",
             "startlinecolor": "#2a3f5f"
            },
            "baxis": {
             "endlinecolor": "#2a3f5f",
             "gridcolor": "white",
             "linecolor": "white",
             "minorgridcolor": "white",
             "startlinecolor": "#2a3f5f"
            },
            "type": "carpet"
           }
          ],
          "choropleth": [
           {
            "colorbar": {
             "outlinewidth": 0,
             "ticks": ""
            },
            "type": "choropleth"
           }
          ],
          "contour": [
           {
            "colorbar": {
             "outlinewidth": 0,
             "ticks": ""
            },
            "colorscale": [
             [
              0,
              "#0d0887"
             ],
             [
              0.1111111111111111,
              "#46039f"
             ],
             [
              0.2222222222222222,
              "#7201a8"
             ],
             [
              0.3333333333333333,
              "#9c179e"
             ],
             [
              0.4444444444444444,
              "#bd3786"
             ],
             [
              0.5555555555555556,
              "#d8576b"
             ],
             [
              0.6666666666666666,
              "#ed7953"
             ],
             [
              0.7777777777777778,
              "#fb9f3a"
             ],
             [
              0.8888888888888888,
              "#fdca26"
             ],
             [
              1,
              "#f0f921"
             ]
            ],
            "type": "contour"
           }
          ],
          "contourcarpet": [
           {
            "colorbar": {
             "outlinewidth": 0,
             "ticks": ""
            },
            "type": "contourcarpet"
           }
          ],
          "heatmap": [
           {
            "colorbar": {
             "outlinewidth": 0,
             "ticks": ""
            },
            "colorscale": [
             [
              0,
              "#0d0887"
             ],
             [
              0.1111111111111111,
              "#46039f"
             ],
             [
              0.2222222222222222,
              "#7201a8"
             ],
             [
              0.3333333333333333,
              "#9c179e"
             ],
             [
              0.4444444444444444,
              "#bd3786"
             ],
             [
              0.5555555555555556,
              "#d8576b"
             ],
             [
              0.6666666666666666,
              "#ed7953"
             ],
             [
              0.7777777777777778,
              "#fb9f3a"
             ],
             [
              0.8888888888888888,
              "#fdca26"
             ],
             [
              1,
              "#f0f921"
             ]
            ],
            "type": "heatmap"
           }
          ],
          "heatmapgl": [
           {
            "colorbar": {
             "outlinewidth": 0,
             "ticks": ""
            },
            "colorscale": [
             [
              0,
              "#0d0887"
             ],
             [
              0.1111111111111111,
              "#46039f"
             ],
             [
              0.2222222222222222,
              "#7201a8"
             ],
             [
              0.3333333333333333,
              "#9c179e"
             ],
             [
              0.4444444444444444,
              "#bd3786"
             ],
             [
              0.5555555555555556,
              "#d8576b"
             ],
             [
              0.6666666666666666,
              "#ed7953"
             ],
             [
              0.7777777777777778,
              "#fb9f3a"
             ],
             [
              0.8888888888888888,
              "#fdca26"
             ],
             [
              1,
              "#f0f921"
             ]
            ],
            "type": "heatmapgl"
           }
          ],
          "histogram": [
           {
            "marker": {
             "pattern": {
              "fillmode": "overlay",
              "size": 10,
              "solidity": 0.2
             }
            },
            "type": "histogram"
           }
          ],
          "histogram2d": [
           {
            "colorbar": {
             "outlinewidth": 0,
             "ticks": ""
            },
            "colorscale": [
             [
              0,
              "#0d0887"
             ],
             [
              0.1111111111111111,
              "#46039f"
             ],
             [
              0.2222222222222222,
              "#7201a8"
             ],
             [
              0.3333333333333333,
              "#9c179e"
             ],
             [
              0.4444444444444444,
              "#bd3786"
             ],
             [
              0.5555555555555556,
              "#d8576b"
             ],
             [
              0.6666666666666666,
              "#ed7953"
             ],
             [
              0.7777777777777778,
              "#fb9f3a"
             ],
             [
              0.8888888888888888,
              "#fdca26"
             ],
             [
              1,
              "#f0f921"
             ]
            ],
            "type": "histogram2d"
           }
          ],
          "histogram2dcontour": [
           {
            "colorbar": {
             "outlinewidth": 0,
             "ticks": ""
            },
            "colorscale": [
             [
              0,
              "#0d0887"
             ],
             [
              0.1111111111111111,
              "#46039f"
             ],
             [
              0.2222222222222222,
              "#7201a8"
             ],
             [
              0.3333333333333333,
              "#9c179e"
             ],
             [
              0.4444444444444444,
              "#bd3786"
             ],
             [
              0.5555555555555556,
              "#d8576b"
             ],
             [
              0.6666666666666666,
              "#ed7953"
             ],
             [
              0.7777777777777778,
              "#fb9f3a"
             ],
             [
              0.8888888888888888,
              "#fdca26"
             ],
             [
              1,
              "#f0f921"
             ]
            ],
            "type": "histogram2dcontour"
           }
          ],
          "mesh3d": [
           {
            "colorbar": {
             "outlinewidth": 0,
             "ticks": ""
            },
            "type": "mesh3d"
           }
          ],
          "parcoords": [
           {
            "line": {
             "colorbar": {
              "outlinewidth": 0,
              "ticks": ""
             }
            },
            "type": "parcoords"
           }
          ],
          "pie": [
           {
            "automargin": true,
            "type": "pie"
           }
          ],
          "scatter": [
           {
            "fillpattern": {
             "fillmode": "overlay",
             "size": 10,
             "solidity": 0.2
            },
            "type": "scatter"
           }
          ],
          "scatter3d": [
           {
            "line": {
             "colorbar": {
              "outlinewidth": 0,
              "ticks": ""
             }
            },
            "marker": {
             "colorbar": {
              "outlinewidth": 0,
              "ticks": ""
             }
            },
            "type": "scatter3d"
           }
          ],
          "scattercarpet": [
           {
            "marker": {
             "colorbar": {
              "outlinewidth": 0,
              "ticks": ""
             }
            },
            "type": "scattercarpet"
           }
          ],
          "scattergeo": [
           {
            "marker": {
             "colorbar": {
              "outlinewidth": 0,
              "ticks": ""
             }
            },
            "type": "scattergeo"
           }
          ],
          "scattergl": [
           {
            "marker": {
             "colorbar": {
              "outlinewidth": 0,
              "ticks": ""
             }
            },
            "type": "scattergl"
           }
          ],
          "scattermapbox": [
           {
            "marker": {
             "colorbar": {
              "outlinewidth": 0,
              "ticks": ""
             }
            },
            "type": "scattermapbox"
           }
          ],
          "scatterpolar": [
           {
            "marker": {
             "colorbar": {
              "outlinewidth": 0,
              "ticks": ""
             }
            },
            "type": "scatterpolar"
           }
          ],
          "scatterpolargl": [
           {
            "marker": {
             "colorbar": {
              "outlinewidth": 0,
              "ticks": ""
             }
            },
            "type": "scatterpolargl"
           }
          ],
          "scatterternary": [
           {
            "marker": {
             "colorbar": {
              "outlinewidth": 0,
              "ticks": ""
             }
            },
            "type": "scatterternary"
           }
          ],
          "surface": [
           {
            "colorbar": {
             "outlinewidth": 0,
             "ticks": ""
            },
            "colorscale": [
             [
              0,
              "#0d0887"
             ],
             [
              0.1111111111111111,
              "#46039f"
             ],
             [
              0.2222222222222222,
              "#7201a8"
             ],
             [
              0.3333333333333333,
              "#9c179e"
             ],
             [
              0.4444444444444444,
              "#bd3786"
             ],
             [
              0.5555555555555556,
              "#d8576b"
             ],
             [
              0.6666666666666666,
              "#ed7953"
             ],
             [
              0.7777777777777778,
              "#fb9f3a"
             ],
             [
              0.8888888888888888,
              "#fdca26"
             ],
             [
              1,
              "#f0f921"
             ]
            ],
            "type": "surface"
           }
          ],
          "table": [
           {
            "cells": {
             "fill": {
              "color": "#EBF0F8"
             },
             "line": {
              "color": "white"
             }
            },
            "header": {
             "fill": {
              "color": "#C8D4E3"
             },
             "line": {
              "color": "white"
             }
            },
            "type": "table"
           }
          ]
         },
         "layout": {
          "annotationdefaults": {
           "arrowcolor": "#2a3f5f",
           "arrowhead": 0,
           "arrowwidth": 1
          },
          "autotypenumbers": "strict",
          "coloraxis": {
           "colorbar": {
            "outlinewidth": 0,
            "ticks": ""
           }
          },
          "colorscale": {
           "diverging": [
            [
             0,
             "#8e0152"
            ],
            [
             0.1,
             "#c51b7d"
            ],
            [
             0.2,
             "#de77ae"
            ],
            [
             0.3,
             "#f1b6da"
            ],
            [
             0.4,
             "#fde0ef"
            ],
            [
             0.5,
             "#f7f7f7"
            ],
            [
             0.6,
             "#e6f5d0"
            ],
            [
             0.7,
             "#b8e186"
            ],
            [
             0.8,
             "#7fbc41"
            ],
            [
             0.9,
             "#4d9221"
            ],
            [
             1,
             "#276419"
            ]
           ],
           "sequential": [
            [
             0,
             "#0d0887"
            ],
            [
             0.1111111111111111,
             "#46039f"
            ],
            [
             0.2222222222222222,
             "#7201a8"
            ],
            [
             0.3333333333333333,
             "#9c179e"
            ],
            [
             0.4444444444444444,
             "#bd3786"
            ],
            [
             0.5555555555555556,
             "#d8576b"
            ],
            [
             0.6666666666666666,
             "#ed7953"
            ],
            [
             0.7777777777777778,
             "#fb9f3a"
            ],
            [
             0.8888888888888888,
             "#fdca26"
            ],
            [
             1,
             "#f0f921"
            ]
           ],
           "sequentialminus": [
            [
             0,
             "#0d0887"
            ],
            [
             0.1111111111111111,
             "#46039f"
            ],
            [
             0.2222222222222222,
             "#7201a8"
            ],
            [
             0.3333333333333333,
             "#9c179e"
            ],
            [
             0.4444444444444444,
             "#bd3786"
            ],
            [
             0.5555555555555556,
             "#d8576b"
            ],
            [
             0.6666666666666666,
             "#ed7953"
            ],
            [
             0.7777777777777778,
             "#fb9f3a"
            ],
            [
             0.8888888888888888,
             "#fdca26"
            ],
            [
             1,
             "#f0f921"
            ]
           ]
          },
          "colorway": [
           "#636efa",
           "#EF553B",
           "#00cc96",
           "#ab63fa",
           "#FFA15A",
           "#19d3f3",
           "#FF6692",
           "#B6E880",
           "#FF97FF",
           "#FECB52"
          ],
          "font": {
           "color": "#2a3f5f"
          },
          "geo": {
           "bgcolor": "white",
           "lakecolor": "white",
           "landcolor": "#E5ECF6",
           "showlakes": true,
           "showland": true,
           "subunitcolor": "white"
          },
          "hoverlabel": {
           "align": "left"
          },
          "hovermode": "closest",
          "mapbox": {
           "style": "light"
          },
          "paper_bgcolor": "white",
          "plot_bgcolor": "#E5ECF6",
          "polar": {
           "angularaxis": {
            "gridcolor": "white",
            "linecolor": "white",
            "ticks": ""
           },
           "bgcolor": "#E5ECF6",
           "radialaxis": {
            "gridcolor": "white",
            "linecolor": "white",
            "ticks": ""
           }
          },
          "scene": {
           "xaxis": {
            "backgroundcolor": "#E5ECF6",
            "gridcolor": "white",
            "gridwidth": 2,
            "linecolor": "white",
            "showbackground": true,
            "ticks": "",
            "zerolinecolor": "white"
           },
           "yaxis": {
            "backgroundcolor": "#E5ECF6",
            "gridcolor": "white",
            "gridwidth": 2,
            "linecolor": "white",
            "showbackground": true,
            "ticks": "",
            "zerolinecolor": "white"
           },
           "zaxis": {
            "backgroundcolor": "#E5ECF6",
            "gridcolor": "white",
            "gridwidth": 2,
            "linecolor": "white",
            "showbackground": true,
            "ticks": "",
            "zerolinecolor": "white"
           }
          },
          "shapedefaults": {
           "line": {
            "color": "#2a3f5f"
           }
          },
          "ternary": {
           "aaxis": {
            "gridcolor": "white",
            "linecolor": "white",
            "ticks": ""
           },
           "baxis": {
            "gridcolor": "white",
            "linecolor": "white",
            "ticks": ""
           },
           "bgcolor": "#E5ECF6",
           "caxis": {
            "gridcolor": "white",
            "linecolor": "white",
            "ticks": ""
           }
          },
          "title": {
           "x": 0.05
          },
          "xaxis": {
           "automargin": true,
           "gridcolor": "white",
           "linecolor": "white",
           "ticks": "",
           "title": {
            "standoff": 15
           },
           "zerolinecolor": "white",
           "zerolinewidth": 2
          },
          "yaxis": {
           "automargin": true,
           "gridcolor": "white",
           "linecolor": "white",
           "ticks": "",
           "title": {
            "standoff": 15
           },
           "zerolinecolor": "white",
           "zerolinewidth": 2
          }
         }
        },
        "title": {
         "text": "Hourly Bluebike Trips Near Barry Playground"
        },
        "width": 800
       }
      }
     },
     "metadata": {},
     "output_type": "display_data"
    },
    {
     "name": "stdout",
     "output_type": "stream",
     "text": [
      "No stations within 0.5 km of Thetford/Evans Playground\n",
      "1 nearest station to Joyce Playground: Brighton Center - Washington St at Cambridge St\n"
     ]
    },
    {
     "name": "stderr",
     "output_type": "stream",
     "text": [
      "/Users/henrywu/opt/anaconda3/lib/python3.9/site-packages/plotly/express/_core.py:271: FutureWarning:\n",
      "\n",
      "The frame.append method is deprecated and will be removed from pandas in a future version. Use pandas.concat instead.\n",
      "\n",
      "/Users/henrywu/opt/anaconda3/lib/python3.9/site-packages/plotly/express/_core.py:271: FutureWarning:\n",
      "\n",
      "The frame.append method is deprecated and will be removed from pandas in a future version. Use pandas.concat instead.\n",
      "\n",
      "/Users/henrywu/opt/anaconda3/lib/python3.9/site-packages/plotly/express/_core.py:271: FutureWarning:\n",
      "\n",
      "The frame.append method is deprecated and will be removed from pandas in a future version. Use pandas.concat instead.\n",
      "\n",
      "/Users/henrywu/opt/anaconda3/lib/python3.9/site-packages/plotly/express/_core.py:271: FutureWarning:\n",
      "\n",
      "The frame.append method is deprecated and will be removed from pandas in a future version. Use pandas.concat instead.\n",
      "\n"
     ]
    },
    {
     "data": {
      "application/vnd.plotly.v1+json": {
       "config": {
        "plotlyServerURL": "https://plot.ly"
       },
       "data": [
        {
         "customdata": [
          [
           0.33122362869198313,
           7.5
          ],
          [
           0.22784810126582278,
           22.5
          ],
          [
           0.189873417721519,
           37.5
          ],
          [
           0.15611814345991562,
           52.5
          ],
          [
           0.09915611814345991,
           67.5
          ],
          [
           0.23628691983122363,
           82.5
          ],
          [
           0.5685654008438819,
           97.5
          ],
          [
           2.028481012658228,
           112.5
          ],
          [
           2.289029535864979,
           127.5
          ],
          [
           1.3227848101265822,
           142.5
          ],
          [
           1.121308016877637,
           157.5
          ],
          [
           1.2985232067510548,
           172.5
          ],
          [
           1.4029535864978904,
           187.5
          ],
          [
           1.391350210970464,
           202.5
          ],
          [
           1.2816455696202531,
           217.5
          ],
          [
           1.5084388185654007,
           232.5
          ],
          [
           1.5042194092827004,
           247.5
          ],
          [
           1.7995780590717299,
           262.5
          ],
          [
           1.620253164556962,
           277.5
          ],
          [
           1.360759493670886,
           292.5
          ],
          [
           1.0611814345991561,
           307.5
          ],
          [
           1.09915611814346,
           322.5
          ],
          [
           0.9050632911392406,
           337.5
          ],
          [
           0.70042194092827,
           352.5
          ],
          [
           0.33122362869198313,
           7.5
          ]
         ],
         "hovertemplate": "Day Type=Weekday<br>Trip Type=Departures<br>Trips=%{customdata[0]:.2f}<extra></extra>",
         "legendgroup": "Weekday, Departures",
         "line": {
          "color": "#636efa",
          "dash": "solid"
         },
         "marker": {
          "symbol": "circle"
         },
         "mode": "lines",
         "name": "Weekday, Departures",
         "r": [
          0.33122362869198313,
          0.22784810126582278,
          0.189873417721519,
          0.15611814345991562,
          0.09915611814345991,
          0.23628691983122363,
          0.5685654008438819,
          2.028481012658228,
          2.289029535864979,
          1.3227848101265822,
          1.121308016877637,
          1.2985232067510548,
          1.4029535864978904,
          1.391350210970464,
          1.2816455696202531,
          1.5084388185654007,
          1.5042194092827004,
          1.7995780590717299,
          1.620253164556962,
          1.360759493670886,
          1.0611814345991561,
          1.09915611814346,
          0.9050632911392406,
          0.70042194092827,
          0.33122362869198313
         ],
         "showlegend": true,
         "subplot": "polar",
         "theta": [
          7.5,
          22.5,
          37.5,
          52.5,
          67.5,
          82.5,
          97.5,
          112.5,
          127.5,
          142.5,
          157.5,
          172.5,
          187.5,
          202.5,
          217.5,
          232.5,
          247.5,
          262.5,
          277.5,
          292.5,
          307.5,
          322.5,
          337.5,
          352.5,
          7.5
         ],
         "type": "scatterpolar"
        },
        {
         "customdata": [
          [
           0.7383966244725738,
           7.5
          ],
          [
           0.5938818565400844,
           22.5
          ],
          [
           0.4578059071729958,
           37.5
          ],
          [
           0.28164556962025317,
           52.5
          ],
          [
           0.21835443037974683,
           67.5
          ],
          [
           0.22046413502109705,
           82.5
          ],
          [
           0.4641350210970464,
           97.5
          ],
          [
           0.439873417721519,
           112.5
          ],
          [
           0.6160337552742616,
           127.5
          ],
          [
           0.370253164556962,
           142.5
          ],
          [
           0.39451476793248946,
           157.5
          ],
          [
           0.5443037974683544,
           172.5
          ],
          [
           0.6940928270042194,
           187.5
          ],
          [
           0.7035864978902954,
           202.5
          ],
          [
           0.7964135021097046,
           217.5
          ],
          [
           0.9831223628691983,
           232.5
          ],
          [
           1.3375527426160339,
           247.5
          ],
          [
           2.1033755274261603,
           262.5
          ],
          [
           2.2510548523206753,
           277.5
          ],
          [
           2.020042194092827,
           292.5
          ],
          [
           1.6381856540084387,
           307.5
          ],
          [
           1.4757383966244726,
           322.5
          ],
          [
           1.520042194092827,
           337.5
          ],
          [
           1.140295358649789,
           352.5
          ],
          [
           0.7383966244725738,
           7.5
          ]
         ],
         "hovertemplate": "Day Type=Weekday<br>Trip Type=Arrivals<br>Trips=%{customdata[0]:.2f}<extra></extra>",
         "legendgroup": "Weekday, Arrivals",
         "line": {
          "color": "#636efa",
          "dash": "dot"
         },
         "marker": {
          "symbol": "circle"
         },
         "mode": "lines",
         "name": "Weekday, Arrivals",
         "r": [
          0.7383966244725738,
          0.5938818565400844,
          0.4578059071729958,
          0.28164556962025317,
          0.21835443037974683,
          0.22046413502109705,
          0.4641350210970464,
          0.439873417721519,
          0.6160337552742616,
          0.370253164556962,
          0.39451476793248946,
          0.5443037974683544,
          0.6940928270042194,
          0.7035864978902954,
          0.7964135021097046,
          0.9831223628691983,
          1.3375527426160339,
          2.1033755274261603,
          2.2510548523206753,
          2.020042194092827,
          1.6381856540084387,
          1.4757383966244726,
          1.520042194092827,
          1.140295358649789,
          0.7383966244725738
         ],
         "showlegend": true,
         "subplot": "polar",
         "theta": [
          7.5,
          22.5,
          37.5,
          52.5,
          67.5,
          82.5,
          97.5,
          112.5,
          127.5,
          142.5,
          157.5,
          172.5,
          187.5,
          202.5,
          217.5,
          232.5,
          247.5,
          262.5,
          277.5,
          292.5,
          307.5,
          322.5,
          337.5,
          352.5,
          7.5
         ],
         "type": "scatterpolar"
        },
        {
         "customdata": [
          [
           0.23417721518987342,
           7.5
          ],
          [
           0.18037974683544303,
           22.5
          ],
          [
           0.12974683544303797,
           37.5
          ],
          [
           0.10759493670886076,
           52.5
          ],
          [
           0.11181434599156118,
           67.5
          ],
          [
           0.11814345991561181,
           82.5
          ],
          [
           0.09071729957805907,
           97.5
          ],
          [
           0.1518987341772152,
           112.5
          ],
          [
           0.27637130801687765,
           127.5
          ],
          [
           0.4008438818565401,
           142.5
          ],
          [
           0.5042194092827004,
           157.5
          ],
          [
           0.6286919831223629,
           172.5
          ],
          [
           0.6983122362869199,
           187.5
          ],
          [
           0.7215189873417721,
           202.5
          ],
          [
           0.6930379746835443,
           217.5
          ],
          [
           0.7668776371308017,
           232.5
          ],
          [
           0.629746835443038,
           247.5
          ],
          [
           0.5928270042194093,
           262.5
          ],
          [
           0.5822784810126582,
           277.5
          ],
          [
           0.510548523206751,
           292.5
          ],
          [
           0.37236286919831224,
           307.5
          ],
          [
           0.3575949367088608,
           322.5
          ],
          [
           0.33016877637130804,
           337.5
          ],
          [
           0.26582278481012656,
           352.5
          ],
          [
           0.23417721518987342,
           7.5
          ]
         ],
         "hovertemplate": "Day Type=Weekend<br>Trip Type=Departures<br>Trips=%{customdata[0]:.2f}<extra></extra>",
         "legendgroup": "Weekend, Departures",
         "line": {
          "color": "#EF553B",
          "dash": "solid"
         },
         "marker": {
          "symbol": "circle"
         },
         "mode": "lines",
         "name": "Weekend, Departures",
         "r": [
          0.23417721518987342,
          0.18037974683544303,
          0.12974683544303797,
          0.10759493670886076,
          0.11181434599156118,
          0.11814345991561181,
          0.09071729957805907,
          0.1518987341772152,
          0.27637130801687765,
          0.4008438818565401,
          0.5042194092827004,
          0.6286919831223629,
          0.6983122362869199,
          0.7215189873417721,
          0.6930379746835443,
          0.7668776371308017,
          0.629746835443038,
          0.5928270042194093,
          0.5822784810126582,
          0.510548523206751,
          0.37236286919831224,
          0.3575949367088608,
          0.33016877637130804,
          0.26582278481012656,
          0.23417721518987342
         ],
         "showlegend": true,
         "subplot": "polar",
         "theta": [
          7.5,
          22.5,
          37.5,
          52.5,
          67.5,
          82.5,
          97.5,
          112.5,
          127.5,
          142.5,
          157.5,
          172.5,
          187.5,
          202.5,
          217.5,
          232.5,
          247.5,
          262.5,
          277.5,
          292.5,
          307.5,
          322.5,
          337.5,
          352.5,
          7.5
         ],
         "type": "scatterpolar"
        },
        {
         "customdata": [
          [
           0.4409282700421941,
           7.5
          ],
          [
           0.40717299578059074,
           22.5
          ],
          [
           0.3291139240506329,
           37.5
          ],
          [
           0.2320675105485232,
           52.5
          ],
          [
           0.17827004219409281,
           67.5
          ],
          [
           0.18565400843881857,
           82.5
          ],
          [
           0.2858649789029536,
           97.5
          ],
          [
           0.16033755274261605,
           112.5
          ],
          [
           0.11708860759493671,
           127.5
          ],
          [
           0.17827004219409281,
           142.5
          ],
          [
           0.22784810126582278,
           157.5
          ],
          [
           0.33438818565400846,
           172.5
          ],
          [
           0.4166666666666667,
           187.5
          ],
          [
           0.41350210970464135,
           202.5
          ],
          [
           0.4810126582278481,
           217.5
          ],
          [
           0.4831223628691983,
           232.5
          ],
          [
           0.5474683544303798,
           247.5
          ],
          [
           0.5748945147679325,
           262.5
          ],
          [
           0.6213080168776371,
           277.5
          ],
          [
           0.5949367088607594,
           292.5
          ],
          [
           0.5379746835443038,
           307.5
          ],
          [
           0.4356540084388186,
           322.5
          ],
          [
           0.43354430379746833,
           337.5
          ],
          [
           0.37763713080168776,
           352.5
          ],
          [
           0.4409282700421941,
           7.5
          ]
         ],
         "hovertemplate": "Day Type=Weekend<br>Trip Type=Arrivals<br>Trips=%{customdata[0]:.2f}<extra></extra>",
         "legendgroup": "Weekend, Arrivals",
         "line": {
          "color": "#EF553B",
          "dash": "dot"
         },
         "marker": {
          "symbol": "circle"
         },
         "mode": "lines",
         "name": "Weekend, Arrivals",
         "r": [
          0.4409282700421941,
          0.40717299578059074,
          0.3291139240506329,
          0.2320675105485232,
          0.17827004219409281,
          0.18565400843881857,
          0.2858649789029536,
          0.16033755274261605,
          0.11708860759493671,
          0.17827004219409281,
          0.22784810126582278,
          0.33438818565400846,
          0.4166666666666667,
          0.41350210970464135,
          0.4810126582278481,
          0.4831223628691983,
          0.5474683544303798,
          0.5748945147679325,
          0.6213080168776371,
          0.5949367088607594,
          0.5379746835443038,
          0.4356540084388186,
          0.43354430379746833,
          0.37763713080168776,
          0.4409282700421941
         ],
         "showlegend": true,
         "subplot": "polar",
         "theta": [
          7.5,
          22.5,
          37.5,
          52.5,
          67.5,
          82.5,
          97.5,
          112.5,
          127.5,
          142.5,
          157.5,
          172.5,
          187.5,
          202.5,
          217.5,
          232.5,
          247.5,
          262.5,
          277.5,
          292.5,
          307.5,
          322.5,
          337.5,
          352.5,
          7.5
         ],
         "type": "scatterpolar"
        }
       ],
       "layout": {
        "height": 600,
        "legend": {
         "title": {
          "text": ""
         },
         "tracegroupgap": 0
        },
        "margin": {
         "b": 25,
         "l": 0,
         "r": 0,
         "t": 50
        },
        "polar": {
         "angularaxis": {
          "direction": "clockwise",
          "rotation": -90,
          "tickmode": "array",
          "ticktext": [
           "12 AM",
           "1 AM",
           "2 AM",
           "3 AM",
           "4 AM",
           "5 AM",
           "6 AM",
           "7 AM",
           "8 AM",
           "9 AM",
           "10 AM",
           "11 AM",
           "12 PM",
           "1 PM",
           "2 PM",
           "3 PM",
           "4 PM",
           "5 PM",
           "6 PM",
           "7 PM",
           "8 PM",
           "9 PM",
           "10 PM",
           "11 PM"
          ],
          "tickvals": [
           0,
           15,
           30,
           45,
           60,
           75,
           90,
           105,
           120,
           135,
           150,
           165,
           180,
           195,
           210,
           225,
           240,
           255,
           270,
           285,
           300,
           315,
           330,
           345
          ]
         },
         "domain": {
          "x": [
           0,
           1
          ],
          "y": [
           0,
           1
          ]
         }
        },
        "template": {
         "data": {
          "bar": [
           {
            "error_x": {
             "color": "#2a3f5f"
            },
            "error_y": {
             "color": "#2a3f5f"
            },
            "marker": {
             "line": {
              "color": "#E5ECF6",
              "width": 0.5
             },
             "pattern": {
              "fillmode": "overlay",
              "size": 10,
              "solidity": 0.2
             }
            },
            "type": "bar"
           }
          ],
          "barpolar": [
           {
            "marker": {
             "line": {
              "color": "#E5ECF6",
              "width": 0.5
             },
             "pattern": {
              "fillmode": "overlay",
              "size": 10,
              "solidity": 0.2
             }
            },
            "type": "barpolar"
           }
          ],
          "carpet": [
           {
            "aaxis": {
             "endlinecolor": "#2a3f5f",
             "gridcolor": "white",
             "linecolor": "white",
             "minorgridcolor": "white",
             "startlinecolor": "#2a3f5f"
            },
            "baxis": {
             "endlinecolor": "#2a3f5f",
             "gridcolor": "white",
             "linecolor": "white",
             "minorgridcolor": "white",
             "startlinecolor": "#2a3f5f"
            },
            "type": "carpet"
           }
          ],
          "choropleth": [
           {
            "colorbar": {
             "outlinewidth": 0,
             "ticks": ""
            },
            "type": "choropleth"
           }
          ],
          "contour": [
           {
            "colorbar": {
             "outlinewidth": 0,
             "ticks": ""
            },
            "colorscale": [
             [
              0,
              "#0d0887"
             ],
             [
              0.1111111111111111,
              "#46039f"
             ],
             [
              0.2222222222222222,
              "#7201a8"
             ],
             [
              0.3333333333333333,
              "#9c179e"
             ],
             [
              0.4444444444444444,
              "#bd3786"
             ],
             [
              0.5555555555555556,
              "#d8576b"
             ],
             [
              0.6666666666666666,
              "#ed7953"
             ],
             [
              0.7777777777777778,
              "#fb9f3a"
             ],
             [
              0.8888888888888888,
              "#fdca26"
             ],
             [
              1,
              "#f0f921"
             ]
            ],
            "type": "contour"
           }
          ],
          "contourcarpet": [
           {
            "colorbar": {
             "outlinewidth": 0,
             "ticks": ""
            },
            "type": "contourcarpet"
           }
          ],
          "heatmap": [
           {
            "colorbar": {
             "outlinewidth": 0,
             "ticks": ""
            },
            "colorscale": [
             [
              0,
              "#0d0887"
             ],
             [
              0.1111111111111111,
              "#46039f"
             ],
             [
              0.2222222222222222,
              "#7201a8"
             ],
             [
              0.3333333333333333,
              "#9c179e"
             ],
             [
              0.4444444444444444,
              "#bd3786"
             ],
             [
              0.5555555555555556,
              "#d8576b"
             ],
             [
              0.6666666666666666,
              "#ed7953"
             ],
             [
              0.7777777777777778,
              "#fb9f3a"
             ],
             [
              0.8888888888888888,
              "#fdca26"
             ],
             [
              1,
              "#f0f921"
             ]
            ],
            "type": "heatmap"
           }
          ],
          "heatmapgl": [
           {
            "colorbar": {
             "outlinewidth": 0,
             "ticks": ""
            },
            "colorscale": [
             [
              0,
              "#0d0887"
             ],
             [
              0.1111111111111111,
              "#46039f"
             ],
             [
              0.2222222222222222,
              "#7201a8"
             ],
             [
              0.3333333333333333,
              "#9c179e"
             ],
             [
              0.4444444444444444,
              "#bd3786"
             ],
             [
              0.5555555555555556,
              "#d8576b"
             ],
             [
              0.6666666666666666,
              "#ed7953"
             ],
             [
              0.7777777777777778,
              "#fb9f3a"
             ],
             [
              0.8888888888888888,
              "#fdca26"
             ],
             [
              1,
              "#f0f921"
             ]
            ],
            "type": "heatmapgl"
           }
          ],
          "histogram": [
           {
            "marker": {
             "pattern": {
              "fillmode": "overlay",
              "size": 10,
              "solidity": 0.2
             }
            },
            "type": "histogram"
           }
          ],
          "histogram2d": [
           {
            "colorbar": {
             "outlinewidth": 0,
             "ticks": ""
            },
            "colorscale": [
             [
              0,
              "#0d0887"
             ],
             [
              0.1111111111111111,
              "#46039f"
             ],
             [
              0.2222222222222222,
              "#7201a8"
             ],
             [
              0.3333333333333333,
              "#9c179e"
             ],
             [
              0.4444444444444444,
              "#bd3786"
             ],
             [
              0.5555555555555556,
              "#d8576b"
             ],
             [
              0.6666666666666666,
              "#ed7953"
             ],
             [
              0.7777777777777778,
              "#fb9f3a"
             ],
             [
              0.8888888888888888,
              "#fdca26"
             ],
             [
              1,
              "#f0f921"
             ]
            ],
            "type": "histogram2d"
           }
          ],
          "histogram2dcontour": [
           {
            "colorbar": {
             "outlinewidth": 0,
             "ticks": ""
            },
            "colorscale": [
             [
              0,
              "#0d0887"
             ],
             [
              0.1111111111111111,
              "#46039f"
             ],
             [
              0.2222222222222222,
              "#7201a8"
             ],
             [
              0.3333333333333333,
              "#9c179e"
             ],
             [
              0.4444444444444444,
              "#bd3786"
             ],
             [
              0.5555555555555556,
              "#d8576b"
             ],
             [
              0.6666666666666666,
              "#ed7953"
             ],
             [
              0.7777777777777778,
              "#fb9f3a"
             ],
             [
              0.8888888888888888,
              "#fdca26"
             ],
             [
              1,
              "#f0f921"
             ]
            ],
            "type": "histogram2dcontour"
           }
          ],
          "mesh3d": [
           {
            "colorbar": {
             "outlinewidth": 0,
             "ticks": ""
            },
            "type": "mesh3d"
           }
          ],
          "parcoords": [
           {
            "line": {
             "colorbar": {
              "outlinewidth": 0,
              "ticks": ""
             }
            },
            "type": "parcoords"
           }
          ],
          "pie": [
           {
            "automargin": true,
            "type": "pie"
           }
          ],
          "scatter": [
           {
            "fillpattern": {
             "fillmode": "overlay",
             "size": 10,
             "solidity": 0.2
            },
            "type": "scatter"
           }
          ],
          "scatter3d": [
           {
            "line": {
             "colorbar": {
              "outlinewidth": 0,
              "ticks": ""
             }
            },
            "marker": {
             "colorbar": {
              "outlinewidth": 0,
              "ticks": ""
             }
            },
            "type": "scatter3d"
           }
          ],
          "scattercarpet": [
           {
            "marker": {
             "colorbar": {
              "outlinewidth": 0,
              "ticks": ""
             }
            },
            "type": "scattercarpet"
           }
          ],
          "scattergeo": [
           {
            "marker": {
             "colorbar": {
              "outlinewidth": 0,
              "ticks": ""
             }
            },
            "type": "scattergeo"
           }
          ],
          "scattergl": [
           {
            "marker": {
             "colorbar": {
              "outlinewidth": 0,
              "ticks": ""
             }
            },
            "type": "scattergl"
           }
          ],
          "scattermapbox": [
           {
            "marker": {
             "colorbar": {
              "outlinewidth": 0,
              "ticks": ""
             }
            },
            "type": "scattermapbox"
           }
          ],
          "scatterpolar": [
           {
            "marker": {
             "colorbar": {
              "outlinewidth": 0,
              "ticks": ""
             }
            },
            "type": "scatterpolar"
           }
          ],
          "scatterpolargl": [
           {
            "marker": {
             "colorbar": {
              "outlinewidth": 0,
              "ticks": ""
             }
            },
            "type": "scatterpolargl"
           }
          ],
          "scatterternary": [
           {
            "marker": {
             "colorbar": {
              "outlinewidth": 0,
              "ticks": ""
             }
            },
            "type": "scatterternary"
           }
          ],
          "surface": [
           {
            "colorbar": {
             "outlinewidth": 0,
             "ticks": ""
            },
            "colorscale": [
             [
              0,
              "#0d0887"
             ],
             [
              0.1111111111111111,
              "#46039f"
             ],
             [
              0.2222222222222222,
              "#7201a8"
             ],
             [
              0.3333333333333333,
              "#9c179e"
             ],
             [
              0.4444444444444444,
              "#bd3786"
             ],
             [
              0.5555555555555556,
              "#d8576b"
             ],
             [
              0.6666666666666666,
              "#ed7953"
             ],
             [
              0.7777777777777778,
              "#fb9f3a"
             ],
             [
              0.8888888888888888,
              "#fdca26"
             ],
             [
              1,
              "#f0f921"
             ]
            ],
            "type": "surface"
           }
          ],
          "table": [
           {
            "cells": {
             "fill": {
              "color": "#EBF0F8"
             },
             "line": {
              "color": "white"
             }
            },
            "header": {
             "fill": {
              "color": "#C8D4E3"
             },
             "line": {
              "color": "white"
             }
            },
            "type": "table"
           }
          ]
         },
         "layout": {
          "annotationdefaults": {
           "arrowcolor": "#2a3f5f",
           "arrowhead": 0,
           "arrowwidth": 1
          },
          "autotypenumbers": "strict",
          "coloraxis": {
           "colorbar": {
            "outlinewidth": 0,
            "ticks": ""
           }
          },
          "colorscale": {
           "diverging": [
            [
             0,
             "#8e0152"
            ],
            [
             0.1,
             "#c51b7d"
            ],
            [
             0.2,
             "#de77ae"
            ],
            [
             0.3,
             "#f1b6da"
            ],
            [
             0.4,
             "#fde0ef"
            ],
            [
             0.5,
             "#f7f7f7"
            ],
            [
             0.6,
             "#e6f5d0"
            ],
            [
             0.7,
             "#b8e186"
            ],
            [
             0.8,
             "#7fbc41"
            ],
            [
             0.9,
             "#4d9221"
            ],
            [
             1,
             "#276419"
            ]
           ],
           "sequential": [
            [
             0,
             "#0d0887"
            ],
            [
             0.1111111111111111,
             "#46039f"
            ],
            [
             0.2222222222222222,
             "#7201a8"
            ],
            [
             0.3333333333333333,
             "#9c179e"
            ],
            [
             0.4444444444444444,
             "#bd3786"
            ],
            [
             0.5555555555555556,
             "#d8576b"
            ],
            [
             0.6666666666666666,
             "#ed7953"
            ],
            [
             0.7777777777777778,
             "#fb9f3a"
            ],
            [
             0.8888888888888888,
             "#fdca26"
            ],
            [
             1,
             "#f0f921"
            ]
           ],
           "sequentialminus": [
            [
             0,
             "#0d0887"
            ],
            [
             0.1111111111111111,
             "#46039f"
            ],
            [
             0.2222222222222222,
             "#7201a8"
            ],
            [
             0.3333333333333333,
             "#9c179e"
            ],
            [
             0.4444444444444444,
             "#bd3786"
            ],
            [
             0.5555555555555556,
             "#d8576b"
            ],
            [
             0.6666666666666666,
             "#ed7953"
            ],
            [
             0.7777777777777778,
             "#fb9f3a"
            ],
            [
             0.8888888888888888,
             "#fdca26"
            ],
            [
             1,
             "#f0f921"
            ]
           ]
          },
          "colorway": [
           "#636efa",
           "#EF553B",
           "#00cc96",
           "#ab63fa",
           "#FFA15A",
           "#19d3f3",
           "#FF6692",
           "#B6E880",
           "#FF97FF",
           "#FECB52"
          ],
          "font": {
           "color": "#2a3f5f"
          },
          "geo": {
           "bgcolor": "white",
           "lakecolor": "white",
           "landcolor": "#E5ECF6",
           "showlakes": true,
           "showland": true,
           "subunitcolor": "white"
          },
          "hoverlabel": {
           "align": "left"
          },
          "hovermode": "closest",
          "mapbox": {
           "style": "light"
          },
          "paper_bgcolor": "white",
          "plot_bgcolor": "#E5ECF6",
          "polar": {
           "angularaxis": {
            "gridcolor": "white",
            "linecolor": "white",
            "ticks": ""
           },
           "bgcolor": "#E5ECF6",
           "radialaxis": {
            "gridcolor": "white",
            "linecolor": "white",
            "ticks": ""
           }
          },
          "scene": {
           "xaxis": {
            "backgroundcolor": "#E5ECF6",
            "gridcolor": "white",
            "gridwidth": 2,
            "linecolor": "white",
            "showbackground": true,
            "ticks": "",
            "zerolinecolor": "white"
           },
           "yaxis": {
            "backgroundcolor": "#E5ECF6",
            "gridcolor": "white",
            "gridwidth": 2,
            "linecolor": "white",
            "showbackground": true,
            "ticks": "",
            "zerolinecolor": "white"
           },
           "zaxis": {
            "backgroundcolor": "#E5ECF6",
            "gridcolor": "white",
            "gridwidth": 2,
            "linecolor": "white",
            "showbackground": true,
            "ticks": "",
            "zerolinecolor": "white"
           }
          },
          "shapedefaults": {
           "line": {
            "color": "#2a3f5f"
           }
          },
          "ternary": {
           "aaxis": {
            "gridcolor": "white",
            "linecolor": "white",
            "ticks": ""
           },
           "baxis": {
            "gridcolor": "white",
            "linecolor": "white",
            "ticks": ""
           },
           "bgcolor": "#E5ECF6",
           "caxis": {
            "gridcolor": "white",
            "linecolor": "white",
            "ticks": ""
           }
          },
          "title": {
           "x": 0.05
          },
          "xaxis": {
           "automargin": true,
           "gridcolor": "white",
           "linecolor": "white",
           "ticks": "",
           "title": {
            "standoff": 15
           },
           "zerolinecolor": "white",
           "zerolinewidth": 2
          },
          "yaxis": {
           "automargin": true,
           "gridcolor": "white",
           "linecolor": "white",
           "ticks": "",
           "title": {
            "standoff": 15
           },
           "zerolinecolor": "white",
           "zerolinewidth": 2
          }
         }
        },
        "title": {
         "text": "Hourly Bluebike Trips Near Joyce Playground"
        },
        "width": 800
       }
      }
     },
     "metadata": {},
     "output_type": "display_data"
    },
    {
     "name": "stdout",
     "output_type": "stream",
     "text": [
      "7 nearest stations to Union Street Park I: Congress St at Boston City Hall, Clinton St at North St, Cross St at Hanover St, Boston City Hall - 28 State St, Government Center - Cambridge St at Court St, One Beacon St, Valenti Way at Haverhill St\n"
     ]
    },
    {
     "name": "stderr",
     "output_type": "stream",
     "text": [
      "/Users/henrywu/opt/anaconda3/lib/python3.9/site-packages/plotly/express/_core.py:271: FutureWarning:\n",
      "\n",
      "The frame.append method is deprecated and will be removed from pandas in a future version. Use pandas.concat instead.\n",
      "\n",
      "/Users/henrywu/opt/anaconda3/lib/python3.9/site-packages/plotly/express/_core.py:271: FutureWarning:\n",
      "\n",
      "The frame.append method is deprecated and will be removed from pandas in a future version. Use pandas.concat instead.\n",
      "\n",
      "/Users/henrywu/opt/anaconda3/lib/python3.9/site-packages/plotly/express/_core.py:271: FutureWarning:\n",
      "\n",
      "The frame.append method is deprecated and will be removed from pandas in a future version. Use pandas.concat instead.\n",
      "\n",
      "/Users/henrywu/opt/anaconda3/lib/python3.9/site-packages/plotly/express/_core.py:271: FutureWarning:\n",
      "\n",
      "The frame.append method is deprecated and will be removed from pandas in a future version. Use pandas.concat instead.\n",
      "\n"
     ]
    },
    {
     "data": {
      "application/vnd.plotly.v1+json": {
       "config": {
        "plotlyServerURL": "https://plot.ly"
       },
       "data": [
        {
         "customdata": [
          [
           5.734177215189874,
           7.5
          ],
          [
           4.4905063291139244,
           22.5
          ],
          [
           3.4862869198312234,
           37.5
          ],
          [
           2.3533755274261603,
           52.5
          ],
          [
           1.5411392405063291,
           67.5
          ],
          [
           3.058016877637131,
           82.5
          ],
          [
           7.074894514767933,
           97.5
          ],
          [
           13.164556962025317,
           112.5
          ],
          [
           21.90506329113924,
           127.5
          ],
          [
           12.127637130801688,
           142.5
          ],
          [
           9.281645569620252,
           157.5
          ],
          [
           12.487341772151899,
           172.5
          ],
          [
           17.378691983122362,
           187.5
          ],
          [
           15.998945147679326,
           202.5
          ],
          [
           15.790084388185655,
           217.5
          ],
          [
           18.798523206751057,
           232.5
          ],
          [
           27.00632911392405,
           247.5
          ],
          [
           37.96097046413502,
           262.5
          ],
          [
           26.628691983122362,
           277.5
          ],
          [
           19.583333333333332,
           292.5
          ],
          [
           17.49789029535865,
           307.5
          ],
          [
           19.151898734177216,
           322.5
          ],
          [
           15.783755274261603,
           337.5
          ],
          [
           9.90084388185654,
           352.5
          ],
          [
           5.734177215189874,
           7.5
          ]
         ],
         "hovertemplate": "Day Type=Weekday<br>Trip Type=Departures<br>Trips=%{customdata[0]:.2f}<extra></extra>",
         "legendgroup": "Weekday, Departures",
         "line": {
          "color": "#636efa",
          "dash": "solid"
         },
         "marker": {
          "symbol": "circle"
         },
         "mode": "lines",
         "name": "Weekday, Departures",
         "r": [
          5.734177215189874,
          4.4905063291139244,
          3.4862869198312234,
          2.3533755274261603,
          1.5411392405063291,
          3.058016877637131,
          7.074894514767933,
          13.164556962025317,
          21.90506329113924,
          12.127637130801688,
          9.281645569620252,
          12.487341772151899,
          17.378691983122362,
          15.998945147679326,
          15.790084388185655,
          18.798523206751057,
          27.00632911392405,
          37.96097046413502,
          26.628691983122362,
          19.583333333333332,
          17.49789029535865,
          19.151898734177216,
          15.783755274261603,
          9.90084388185654,
          5.734177215189874
         ],
         "showlegend": true,
         "subplot": "polar",
         "theta": [
          7.5,
          22.5,
          37.5,
          52.5,
          67.5,
          82.5,
          97.5,
          112.5,
          127.5,
          142.5,
          157.5,
          172.5,
          187.5,
          202.5,
          217.5,
          232.5,
          247.5,
          262.5,
          277.5,
          292.5,
          307.5,
          322.5,
          337.5,
          352.5,
          7.5
         ],
         "type": "scatterpolar"
        },
        {
         "customdata": [
          [
           5.858649789029536,
           7.5
          ],
          [
           3.701476793248945,
           22.5
          ],
          [
           2.831223628691983,
           37.5
          ],
          [
           1.9493670886075949,
           52.5
          ],
          [
           1.1561181434599157,
           67.5
          ],
          [
           1.590717299578059,
           82.5
          ],
          [
           4.04535864978903,
           97.5
          ],
          [
           12.845991561181435,
           112.5
          ],
          [
           26.647679324894515,
           127.5
          ],
          [
           17.96518987341772,
           142.5
          ],
          [
           9.5,
           157.5
          ],
          [
           12.185654008438819,
           172.5
          ],
          [
           19.02848101265823,
           187.5
          ],
          [
           17.930379746835442,
           202.5
          ],
          [
           16.035864978902953,
           217.5
          ],
          [
           17.58016877637131,
           232.5
          ],
          [
           24.776371308016877,
           247.5
          ],
          [
           31.682489451476794,
           262.5
          ],
          [
           24.593881856540083,
           277.5
          ],
          [
           19.421940928270043,
           292.5
          ],
          [
           15.630801687763713,
           307.5
          ],
          [
           15.526371308016877,
           322.5
          ],
          [
           14.205696202531646,
           337.5
          ],
          [
           10.774261603375528,
           352.5
          ],
          [
           5.858649789029536,
           7.5
          ]
         ],
         "hovertemplate": "Day Type=Weekday<br>Trip Type=Arrivals<br>Trips=%{customdata[0]:.2f}<extra></extra>",
         "legendgroup": "Weekday, Arrivals",
         "line": {
          "color": "#636efa",
          "dash": "dot"
         },
         "marker": {
          "symbol": "circle"
         },
         "mode": "lines",
         "name": "Weekday, Arrivals",
         "r": [
          5.858649789029536,
          3.701476793248945,
          2.831223628691983,
          1.9493670886075949,
          1.1561181434599157,
          1.590717299578059,
          4.04535864978903,
          12.845991561181435,
          26.647679324894515,
          17.96518987341772,
          9.5,
          12.185654008438819,
          19.02848101265823,
          17.930379746835442,
          16.035864978902953,
          17.58016877637131,
          24.776371308016877,
          31.682489451476794,
          24.593881856540083,
          19.421940928270043,
          15.630801687763713,
          15.526371308016877,
          14.205696202531646,
          10.774261603375528,
          5.858649789029536
         ],
         "showlegend": true,
         "subplot": "polar",
         "theta": [
          7.5,
          22.5,
          37.5,
          52.5,
          67.5,
          82.5,
          97.5,
          112.5,
          127.5,
          142.5,
          157.5,
          172.5,
          187.5,
          202.5,
          217.5,
          232.5,
          247.5,
          262.5,
          277.5,
          292.5,
          307.5,
          322.5,
          337.5,
          352.5,
          7.5
         ],
         "type": "scatterpolar"
        },
        {
         "customdata": [
          [
           4.8734177215189876,
           7.5
          ],
          [
           5.215189873417722,
           22.5
          ],
          [
           3.4831223628691985,
           37.5
          ],
          [
           2.577004219409283,
           52.5
          ],
          [
           2.4820675105485233,
           67.5
          ],
          [
           3.3248945147679323,
           82.5
          ],
          [
           1.8111814345991561,
           97.5
          ],
          [
           1.2320675105485233,
           112.5
          ],
          [
           1.8744725738396624,
           127.5
          ],
          [
           2.8544303797468356,
           142.5
          ],
          [
           3.878691983122363,
           157.5
          ],
          [
           5.29535864978903,
           172.5
          ],
          [
           6.814345991561181,
           187.5
          ],
          [
           7.829113924050633,
           202.5
          ],
          [
           9.15295358649789,
           217.5
          ],
          [
           9.988396624472573,
           232.5
          ],
          [
           10.216244725738397,
           247.5
          ],
          [
           9.715189873417721,
           262.5
          ],
          [
           9.432489451476794,
           277.5
          ],
          [
           8.654008438818565,
           292.5
          ],
          [
           7.447257383966245,
           307.5
          ],
          [
           6.563291139240507,
           322.5
          ],
          [
           5.9145569620253164,
           337.5
          ],
          [
           5.040084388185654,
           352.5
          ],
          [
           4.8734177215189876,
           7.5
          ]
         ],
         "hovertemplate": "Day Type=Weekend<br>Trip Type=Departures<br>Trips=%{customdata[0]:.2f}<extra></extra>",
         "legendgroup": "Weekend, Departures",
         "line": {
          "color": "#EF553B",
          "dash": "solid"
         },
         "marker": {
          "symbol": "circle"
         },
         "mode": "lines",
         "name": "Weekend, Departures",
         "r": [
          4.8734177215189876,
          5.215189873417722,
          3.4831223628691985,
          2.577004219409283,
          2.4820675105485233,
          3.3248945147679323,
          1.8111814345991561,
          1.2320675105485233,
          1.8744725738396624,
          2.8544303797468356,
          3.878691983122363,
          5.29535864978903,
          6.814345991561181,
          7.829113924050633,
          9.15295358649789,
          9.988396624472573,
          10.216244725738397,
          9.715189873417721,
          9.432489451476794,
          8.654008438818565,
          7.447257383966245,
          6.563291139240507,
          5.9145569620253164,
          5.040084388185654,
          4.8734177215189876
         ],
         "showlegend": true,
         "subplot": "polar",
         "theta": [
          7.5,
          22.5,
          37.5,
          52.5,
          67.5,
          82.5,
          97.5,
          112.5,
          127.5,
          142.5,
          157.5,
          172.5,
          187.5,
          202.5,
          217.5,
          232.5,
          247.5,
          262.5,
          277.5,
          292.5,
          307.5,
          322.5,
          337.5,
          352.5,
          7.5
         ],
         "type": "scatterpolar"
        },
        {
         "customdata": [
          [
           4.243670886075949,
           7.5
          ],
          [
           3.058016877637131,
           22.5
          ],
          [
           2.561181434599156,
           37.5
          ],
          [
           1.9272151898734178,
           52.5
          ],
          [
           1.489451476793249,
           67.5
          ],
          [
           1.3554852320675106,
           82.5
          ],
          [
           1.0495780590717299,
           97.5
          ],
          [
           0.9261603375527426,
           112.5
          ],
          [
           1.5622362869198312,
           127.5
          ],
          [
           2.4841772151898733,
           142.5
          ],
          [
           4.109704641350211,
           157.5
          ],
          [
           5.481012658227848,
           172.5
          ],
          [
           7.260548523206751,
           187.5
          ],
          [
           8.571729957805907,
           202.5
          ],
          [
           9.457805907172995,
           217.5
          ],
          [
           10.136075949367088,
           232.5
          ],
          [
           10.845991561181435,
           247.5
          ],
          [
           10.629746835443038,
           262.5
          ],
          [
           10.072784810126583,
           277.5
          ],
          [
           9.121308016877638,
           292.5
          ],
          [
           7.860759493670886,
           307.5
          ],
          [
           6.839662447257384,
           322.5
          ],
          [
           5.839662447257384,
           337.5
          ],
          [
           4.7521097046413505,
           352.5
          ],
          [
           4.243670886075949,
           7.5
          ]
         ],
         "hovertemplate": "Day Type=Weekend<br>Trip Type=Arrivals<br>Trips=%{customdata[0]:.2f}<extra></extra>",
         "legendgroup": "Weekend, Arrivals",
         "line": {
          "color": "#EF553B",
          "dash": "dot"
         },
         "marker": {
          "symbol": "circle"
         },
         "mode": "lines",
         "name": "Weekend, Arrivals",
         "r": [
          4.243670886075949,
          3.058016877637131,
          2.561181434599156,
          1.9272151898734178,
          1.489451476793249,
          1.3554852320675106,
          1.0495780590717299,
          0.9261603375527426,
          1.5622362869198312,
          2.4841772151898733,
          4.109704641350211,
          5.481012658227848,
          7.260548523206751,
          8.571729957805907,
          9.457805907172995,
          10.136075949367088,
          10.845991561181435,
          10.629746835443038,
          10.072784810126583,
          9.121308016877638,
          7.860759493670886,
          6.839662447257384,
          5.839662447257384,
          4.7521097046413505,
          4.243670886075949
         ],
         "showlegend": true,
         "subplot": "polar",
         "theta": [
          7.5,
          22.5,
          37.5,
          52.5,
          67.5,
          82.5,
          97.5,
          112.5,
          127.5,
          142.5,
          157.5,
          172.5,
          187.5,
          202.5,
          217.5,
          232.5,
          247.5,
          262.5,
          277.5,
          292.5,
          307.5,
          322.5,
          337.5,
          352.5,
          7.5
         ],
         "type": "scatterpolar"
        }
       ],
       "layout": {
        "height": 600,
        "legend": {
         "title": {
          "text": ""
         },
         "tracegroupgap": 0
        },
        "margin": {
         "b": 25,
         "l": 0,
         "r": 0,
         "t": 50
        },
        "polar": {
         "angularaxis": {
          "direction": "clockwise",
          "rotation": -90,
          "tickmode": "array",
          "ticktext": [
           "12 AM",
           "1 AM",
           "2 AM",
           "3 AM",
           "4 AM",
           "5 AM",
           "6 AM",
           "7 AM",
           "8 AM",
           "9 AM",
           "10 AM",
           "11 AM",
           "12 PM",
           "1 PM",
           "2 PM",
           "3 PM",
           "4 PM",
           "5 PM",
           "6 PM",
           "7 PM",
           "8 PM",
           "9 PM",
           "10 PM",
           "11 PM"
          ],
          "tickvals": [
           0,
           15,
           30,
           45,
           60,
           75,
           90,
           105,
           120,
           135,
           150,
           165,
           180,
           195,
           210,
           225,
           240,
           255,
           270,
           285,
           300,
           315,
           330,
           345
          ]
         },
         "domain": {
          "x": [
           0,
           1
          ],
          "y": [
           0,
           1
          ]
         }
        },
        "template": {
         "data": {
          "bar": [
           {
            "error_x": {
             "color": "#2a3f5f"
            },
            "error_y": {
             "color": "#2a3f5f"
            },
            "marker": {
             "line": {
              "color": "#E5ECF6",
              "width": 0.5
             },
             "pattern": {
              "fillmode": "overlay",
              "size": 10,
              "solidity": 0.2
             }
            },
            "type": "bar"
           }
          ],
          "barpolar": [
           {
            "marker": {
             "line": {
              "color": "#E5ECF6",
              "width": 0.5
             },
             "pattern": {
              "fillmode": "overlay",
              "size": 10,
              "solidity": 0.2
             }
            },
            "type": "barpolar"
           }
          ],
          "carpet": [
           {
            "aaxis": {
             "endlinecolor": "#2a3f5f",
             "gridcolor": "white",
             "linecolor": "white",
             "minorgridcolor": "white",
             "startlinecolor": "#2a3f5f"
            },
            "baxis": {
             "endlinecolor": "#2a3f5f",
             "gridcolor": "white",
             "linecolor": "white",
             "minorgridcolor": "white",
             "startlinecolor": "#2a3f5f"
            },
            "type": "carpet"
           }
          ],
          "choropleth": [
           {
            "colorbar": {
             "outlinewidth": 0,
             "ticks": ""
            },
            "type": "choropleth"
           }
          ],
          "contour": [
           {
            "colorbar": {
             "outlinewidth": 0,
             "ticks": ""
            },
            "colorscale": [
             [
              0,
              "#0d0887"
             ],
             [
              0.1111111111111111,
              "#46039f"
             ],
             [
              0.2222222222222222,
              "#7201a8"
             ],
             [
              0.3333333333333333,
              "#9c179e"
             ],
             [
              0.4444444444444444,
              "#bd3786"
             ],
             [
              0.5555555555555556,
              "#d8576b"
             ],
             [
              0.6666666666666666,
              "#ed7953"
             ],
             [
              0.7777777777777778,
              "#fb9f3a"
             ],
             [
              0.8888888888888888,
              "#fdca26"
             ],
             [
              1,
              "#f0f921"
             ]
            ],
            "type": "contour"
           }
          ],
          "contourcarpet": [
           {
            "colorbar": {
             "outlinewidth": 0,
             "ticks": ""
            },
            "type": "contourcarpet"
           }
          ],
          "heatmap": [
           {
            "colorbar": {
             "outlinewidth": 0,
             "ticks": ""
            },
            "colorscale": [
             [
              0,
              "#0d0887"
             ],
             [
              0.1111111111111111,
              "#46039f"
             ],
             [
              0.2222222222222222,
              "#7201a8"
             ],
             [
              0.3333333333333333,
              "#9c179e"
             ],
             [
              0.4444444444444444,
              "#bd3786"
             ],
             [
              0.5555555555555556,
              "#d8576b"
             ],
             [
              0.6666666666666666,
              "#ed7953"
             ],
             [
              0.7777777777777778,
              "#fb9f3a"
             ],
             [
              0.8888888888888888,
              "#fdca26"
             ],
             [
              1,
              "#f0f921"
             ]
            ],
            "type": "heatmap"
           }
          ],
          "heatmapgl": [
           {
            "colorbar": {
             "outlinewidth": 0,
             "ticks": ""
            },
            "colorscale": [
             [
              0,
              "#0d0887"
             ],
             [
              0.1111111111111111,
              "#46039f"
             ],
             [
              0.2222222222222222,
              "#7201a8"
             ],
             [
              0.3333333333333333,
              "#9c179e"
             ],
             [
              0.4444444444444444,
              "#bd3786"
             ],
             [
              0.5555555555555556,
              "#d8576b"
             ],
             [
              0.6666666666666666,
              "#ed7953"
             ],
             [
              0.7777777777777778,
              "#fb9f3a"
             ],
             [
              0.8888888888888888,
              "#fdca26"
             ],
             [
              1,
              "#f0f921"
             ]
            ],
            "type": "heatmapgl"
           }
          ],
          "histogram": [
           {
            "marker": {
             "pattern": {
              "fillmode": "overlay",
              "size": 10,
              "solidity": 0.2
             }
            },
            "type": "histogram"
           }
          ],
          "histogram2d": [
           {
            "colorbar": {
             "outlinewidth": 0,
             "ticks": ""
            },
            "colorscale": [
             [
              0,
              "#0d0887"
             ],
             [
              0.1111111111111111,
              "#46039f"
             ],
             [
              0.2222222222222222,
              "#7201a8"
             ],
             [
              0.3333333333333333,
              "#9c179e"
             ],
             [
              0.4444444444444444,
              "#bd3786"
             ],
             [
              0.5555555555555556,
              "#d8576b"
             ],
             [
              0.6666666666666666,
              "#ed7953"
             ],
             [
              0.7777777777777778,
              "#fb9f3a"
             ],
             [
              0.8888888888888888,
              "#fdca26"
             ],
             [
              1,
              "#f0f921"
             ]
            ],
            "type": "histogram2d"
           }
          ],
          "histogram2dcontour": [
           {
            "colorbar": {
             "outlinewidth": 0,
             "ticks": ""
            },
            "colorscale": [
             [
              0,
              "#0d0887"
             ],
             [
              0.1111111111111111,
              "#46039f"
             ],
             [
              0.2222222222222222,
              "#7201a8"
             ],
             [
              0.3333333333333333,
              "#9c179e"
             ],
             [
              0.4444444444444444,
              "#bd3786"
             ],
             [
              0.5555555555555556,
              "#d8576b"
             ],
             [
              0.6666666666666666,
              "#ed7953"
             ],
             [
              0.7777777777777778,
              "#fb9f3a"
             ],
             [
              0.8888888888888888,
              "#fdca26"
             ],
             [
              1,
              "#f0f921"
             ]
            ],
            "type": "histogram2dcontour"
           }
          ],
          "mesh3d": [
           {
            "colorbar": {
             "outlinewidth": 0,
             "ticks": ""
            },
            "type": "mesh3d"
           }
          ],
          "parcoords": [
           {
            "line": {
             "colorbar": {
              "outlinewidth": 0,
              "ticks": ""
             }
            },
            "type": "parcoords"
           }
          ],
          "pie": [
           {
            "automargin": true,
            "type": "pie"
           }
          ],
          "scatter": [
           {
            "fillpattern": {
             "fillmode": "overlay",
             "size": 10,
             "solidity": 0.2
            },
            "type": "scatter"
           }
          ],
          "scatter3d": [
           {
            "line": {
             "colorbar": {
              "outlinewidth": 0,
              "ticks": ""
             }
            },
            "marker": {
             "colorbar": {
              "outlinewidth": 0,
              "ticks": ""
             }
            },
            "type": "scatter3d"
           }
          ],
          "scattercarpet": [
           {
            "marker": {
             "colorbar": {
              "outlinewidth": 0,
              "ticks": ""
             }
            },
            "type": "scattercarpet"
           }
          ],
          "scattergeo": [
           {
            "marker": {
             "colorbar": {
              "outlinewidth": 0,
              "ticks": ""
             }
            },
            "type": "scattergeo"
           }
          ],
          "scattergl": [
           {
            "marker": {
             "colorbar": {
              "outlinewidth": 0,
              "ticks": ""
             }
            },
            "type": "scattergl"
           }
          ],
          "scattermapbox": [
           {
            "marker": {
             "colorbar": {
              "outlinewidth": 0,
              "ticks": ""
             }
            },
            "type": "scattermapbox"
           }
          ],
          "scatterpolar": [
           {
            "marker": {
             "colorbar": {
              "outlinewidth": 0,
              "ticks": ""
             }
            },
            "type": "scatterpolar"
           }
          ],
          "scatterpolargl": [
           {
            "marker": {
             "colorbar": {
              "outlinewidth": 0,
              "ticks": ""
             }
            },
            "type": "scatterpolargl"
           }
          ],
          "scatterternary": [
           {
            "marker": {
             "colorbar": {
              "outlinewidth": 0,
              "ticks": ""
             }
            },
            "type": "scatterternary"
           }
          ],
          "surface": [
           {
            "colorbar": {
             "outlinewidth": 0,
             "ticks": ""
            },
            "colorscale": [
             [
              0,
              "#0d0887"
             ],
             [
              0.1111111111111111,
              "#46039f"
             ],
             [
              0.2222222222222222,
              "#7201a8"
             ],
             [
              0.3333333333333333,
              "#9c179e"
             ],
             [
              0.4444444444444444,
              "#bd3786"
             ],
             [
              0.5555555555555556,
              "#d8576b"
             ],
             [
              0.6666666666666666,
              "#ed7953"
             ],
             [
              0.7777777777777778,
              "#fb9f3a"
             ],
             [
              0.8888888888888888,
              "#fdca26"
             ],
             [
              1,
              "#f0f921"
             ]
            ],
            "type": "surface"
           }
          ],
          "table": [
           {
            "cells": {
             "fill": {
              "color": "#EBF0F8"
             },
             "line": {
              "color": "white"
             }
            },
            "header": {
             "fill": {
              "color": "#C8D4E3"
             },
             "line": {
              "color": "white"
             }
            },
            "type": "table"
           }
          ]
         },
         "layout": {
          "annotationdefaults": {
           "arrowcolor": "#2a3f5f",
           "arrowhead": 0,
           "arrowwidth": 1
          },
          "autotypenumbers": "strict",
          "coloraxis": {
           "colorbar": {
            "outlinewidth": 0,
            "ticks": ""
           }
          },
          "colorscale": {
           "diverging": [
            [
             0,
             "#8e0152"
            ],
            [
             0.1,
             "#c51b7d"
            ],
            [
             0.2,
             "#de77ae"
            ],
            [
             0.3,
             "#f1b6da"
            ],
            [
             0.4,
             "#fde0ef"
            ],
            [
             0.5,
             "#f7f7f7"
            ],
            [
             0.6,
             "#e6f5d0"
            ],
            [
             0.7,
             "#b8e186"
            ],
            [
             0.8,
             "#7fbc41"
            ],
            [
             0.9,
             "#4d9221"
            ],
            [
             1,
             "#276419"
            ]
           ],
           "sequential": [
            [
             0,
             "#0d0887"
            ],
            [
             0.1111111111111111,
             "#46039f"
            ],
            [
             0.2222222222222222,
             "#7201a8"
            ],
            [
             0.3333333333333333,
             "#9c179e"
            ],
            [
             0.4444444444444444,
             "#bd3786"
            ],
            [
             0.5555555555555556,
             "#d8576b"
            ],
            [
             0.6666666666666666,
             "#ed7953"
            ],
            [
             0.7777777777777778,
             "#fb9f3a"
            ],
            [
             0.8888888888888888,
             "#fdca26"
            ],
            [
             1,
             "#f0f921"
            ]
           ],
           "sequentialminus": [
            [
             0,
             "#0d0887"
            ],
            [
             0.1111111111111111,
             "#46039f"
            ],
            [
             0.2222222222222222,
             "#7201a8"
            ],
            [
             0.3333333333333333,
             "#9c179e"
            ],
            [
             0.4444444444444444,
             "#bd3786"
            ],
            [
             0.5555555555555556,
             "#d8576b"
            ],
            [
             0.6666666666666666,
             "#ed7953"
            ],
            [
             0.7777777777777778,
             "#fb9f3a"
            ],
            [
             0.8888888888888888,
             "#fdca26"
            ],
            [
             1,
             "#f0f921"
            ]
           ]
          },
          "colorway": [
           "#636efa",
           "#EF553B",
           "#00cc96",
           "#ab63fa",
           "#FFA15A",
           "#19d3f3",
           "#FF6692",
           "#B6E880",
           "#FF97FF",
           "#FECB52"
          ],
          "font": {
           "color": "#2a3f5f"
          },
          "geo": {
           "bgcolor": "white",
           "lakecolor": "white",
           "landcolor": "#E5ECF6",
           "showlakes": true,
           "showland": true,
           "subunitcolor": "white"
          },
          "hoverlabel": {
           "align": "left"
          },
          "hovermode": "closest",
          "mapbox": {
           "style": "light"
          },
          "paper_bgcolor": "white",
          "plot_bgcolor": "#E5ECF6",
          "polar": {
           "angularaxis": {
            "gridcolor": "white",
            "linecolor": "white",
            "ticks": ""
           },
           "bgcolor": "#E5ECF6",
           "radialaxis": {
            "gridcolor": "white",
            "linecolor": "white",
            "ticks": ""
           }
          },
          "scene": {
           "xaxis": {
            "backgroundcolor": "#E5ECF6",
            "gridcolor": "white",
            "gridwidth": 2,
            "linecolor": "white",
            "showbackground": true,
            "ticks": "",
            "zerolinecolor": "white"
           },
           "yaxis": {
            "backgroundcolor": "#E5ECF6",
            "gridcolor": "white",
            "gridwidth": 2,
            "linecolor": "white",
            "showbackground": true,
            "ticks": "",
            "zerolinecolor": "white"
           },
           "zaxis": {
            "backgroundcolor": "#E5ECF6",
            "gridcolor": "white",
            "gridwidth": 2,
            "linecolor": "white",
            "showbackground": true,
            "ticks": "",
            "zerolinecolor": "white"
           }
          },
          "shapedefaults": {
           "line": {
            "color": "#2a3f5f"
           }
          },
          "ternary": {
           "aaxis": {
            "gridcolor": "white",
            "linecolor": "white",
            "ticks": ""
           },
           "baxis": {
            "gridcolor": "white",
            "linecolor": "white",
            "ticks": ""
           },
           "bgcolor": "#E5ECF6",
           "caxis": {
            "gridcolor": "white",
            "linecolor": "white",
            "ticks": ""
           }
          },
          "title": {
           "x": 0.05
          },
          "xaxis": {
           "automargin": true,
           "gridcolor": "white",
           "linecolor": "white",
           "ticks": "",
           "title": {
            "standoff": 15
           },
           "zerolinecolor": "white",
           "zerolinewidth": 2
          },
          "yaxis": {
           "automargin": true,
           "gridcolor": "white",
           "linecolor": "white",
           "ticks": "",
           "title": {
            "standoff": 15
           },
           "zerolinecolor": "white",
           "zerolinewidth": 2
          }
         }
        },
        "title": {
         "text": "Hourly Bluebike Trips Near Union Street Park I"
        },
        "width": 800
       }
      }
     },
     "metadata": {},
     "output_type": "display_data"
    },
    {
     "name": "stdout",
     "output_type": "stream",
     "text": [
      "No stations within 0.5 km of Commercial Point\n",
      "No stations within 0.5 km of Roslindale Wetlands Urban Wild I\n",
      "1 nearest station to Grove Hall Plaza: Grove Hall Library - 41 Geneva Ave\n"
     ]
    },
    {
     "name": "stderr",
     "output_type": "stream",
     "text": [
      "/Users/henrywu/opt/anaconda3/lib/python3.9/site-packages/plotly/express/_core.py:271: FutureWarning:\n",
      "\n",
      "The frame.append method is deprecated and will be removed from pandas in a future version. Use pandas.concat instead.\n",
      "\n",
      "/Users/henrywu/opt/anaconda3/lib/python3.9/site-packages/plotly/express/_core.py:271: FutureWarning:\n",
      "\n",
      "The frame.append method is deprecated and will be removed from pandas in a future version. Use pandas.concat instead.\n",
      "\n",
      "/Users/henrywu/opt/anaconda3/lib/python3.9/site-packages/plotly/express/_core.py:271: FutureWarning:\n",
      "\n",
      "The frame.append method is deprecated and will be removed from pandas in a future version. Use pandas.concat instead.\n",
      "\n",
      "/Users/henrywu/opt/anaconda3/lib/python3.9/site-packages/plotly/express/_core.py:271: FutureWarning:\n",
      "\n",
      "The frame.append method is deprecated and will be removed from pandas in a future version. Use pandas.concat instead.\n",
      "\n"
     ]
    },
    {
     "data": {
      "application/vnd.plotly.v1+json": {
       "config": {
        "plotlyServerURL": "https://plot.ly"
       },
       "data": [
        {
         "customdata": [
          [
           0.04852320675105485,
           7.5
          ],
          [
           0.03059071729957806,
           22.5
          ],
          [
           0.011603375527426161,
           37.5
          ],
          [
           0.012658227848101266,
           52.5
          ],
          [
           0.022151898734177215,
           67.5
          ],
          [
           0.017932489451476793,
           82.5
          ],
          [
           0.04535864978902954,
           97.5
          ],
          [
           0.12025316455696203,
           112.5
          ],
          [
           0.1350210970464135,
           127.5
          ],
          [
           0.10337552742616034,
           142.5
          ],
          [
           0.11286919831223628,
           157.5
          ],
          [
           0.18248945147679324,
           172.5
          ],
          [
           0.16455696202531644,
           187.5
          ],
          [
           0.17827004219409281,
           202.5
          ],
          [
           0.20042194092827004,
           217.5
          ],
          [
           0.23523206751054854,
           232.5
          ],
          [
           0.25949367088607594,
           247.5
          ],
          [
           0.35337552742616035,
           262.5
          ],
          [
           0.3280590717299578,
           277.5
          ],
          [
           0.23312236286919832,
           292.5
          ],
          [
           0.16350210970464135,
           307.5
          ],
          [
           0.12869198312236288,
           322.5
          ],
          [
           0.09599156118143459,
           337.5
          ],
          [
           0.0770042194092827,
           352.5
          ],
          [
           0.04852320675105485,
           7.5
          ]
         ],
         "hovertemplate": "Day Type=Weekday<br>Trip Type=Departures<br>Trips=%{customdata[0]:.2f}<extra></extra>",
         "legendgroup": "Weekday, Departures",
         "line": {
          "color": "#636efa",
          "dash": "solid"
         },
         "marker": {
          "symbol": "circle"
         },
         "mode": "lines",
         "name": "Weekday, Departures",
         "r": [
          0.04852320675105485,
          0.03059071729957806,
          0.011603375527426161,
          0.012658227848101266,
          0.022151898734177215,
          0.017932489451476793,
          0.04535864978902954,
          0.12025316455696203,
          0.1350210970464135,
          0.10337552742616034,
          0.11286919831223628,
          0.18248945147679324,
          0.16455696202531644,
          0.17827004219409281,
          0.20042194092827004,
          0.23523206751054854,
          0.25949367088607594,
          0.35337552742616035,
          0.3280590717299578,
          0.23312236286919832,
          0.16350210970464135,
          0.12869198312236288,
          0.09599156118143459,
          0.0770042194092827,
          0.04852320675105485
         ],
         "showlegend": true,
         "subplot": "polar",
         "theta": [
          7.5,
          22.5,
          37.5,
          52.5,
          67.5,
          82.5,
          97.5,
          112.5,
          127.5,
          142.5,
          157.5,
          172.5,
          187.5,
          202.5,
          217.5,
          232.5,
          247.5,
          262.5,
          277.5,
          292.5,
          307.5,
          322.5,
          337.5,
          352.5,
          7.5
         ],
         "type": "scatterpolar"
        },
        {
         "customdata": [
          [
           0.07805907172995781,
           7.5
          ],
          [
           0.043248945147679324,
           22.5
          ],
          [
           0.023206751054852322,
           37.5
          ],
          [
           0.04008438818565401,
           52.5
          ],
          [
           0.011603375527426161,
           67.5
          ],
          [
           0.012658227848101266,
           82.5
          ],
          [
           0.11286919831223628,
           97.5
          ],
          [
           0.16561181434599156,
           112.5
          ],
          [
           0.04535864978902954,
           127.5
          ],
          [
           0.049578059071729956,
           142.5
          ],
          [
           0.07911392405063292,
           157.5
          ],
          [
           0.0981012658227848,
           172.5
          ],
          [
           0.08860759493670886,
           187.5
          ],
          [
           0.14345991561181434,
           202.5
          ],
          [
           0.15928270042194093,
           217.5
          ],
          [
           0.16666666666666666,
           232.5
          ],
          [
           0.17616033755274263,
           247.5
          ],
          [
           0.22573839662447256,
           262.5
          ],
          [
           0.25738396624472576,
           277.5
          ],
          [
           0.21308016877637131,
           292.5
          ],
          [
           0.23312236286919832,
           307.5
          ],
          [
           0.16877637130801687,
           322.5
          ],
          [
           0.1571729957805907,
           337.5
          ],
          [
           0.11814345991561181,
           352.5
          ],
          [
           0.07805907172995781,
           7.5
          ]
         ],
         "hovertemplate": "Day Type=Weekday<br>Trip Type=Arrivals<br>Trips=%{customdata[0]:.2f}<extra></extra>",
         "legendgroup": "Weekday, Arrivals",
         "line": {
          "color": "#636efa",
          "dash": "dot"
         },
         "marker": {
          "symbol": "circle"
         },
         "mode": "lines",
         "name": "Weekday, Arrivals",
         "r": [
          0.07805907172995781,
          0.043248945147679324,
          0.023206751054852322,
          0.04008438818565401,
          0.011603375527426161,
          0.012658227848101266,
          0.11286919831223628,
          0.16561181434599156,
          0.04535864978902954,
          0.049578059071729956,
          0.07911392405063292,
          0.0981012658227848,
          0.08860759493670886,
          0.14345991561181434,
          0.15928270042194093,
          0.16666666666666666,
          0.17616033755274263,
          0.22573839662447256,
          0.25738396624472576,
          0.21308016877637131,
          0.23312236286919832,
          0.16877637130801687,
          0.1571729957805907,
          0.11814345991561181,
          0.07805907172995781
         ],
         "showlegend": true,
         "subplot": "polar",
         "theta": [
          7.5,
          22.5,
          37.5,
          52.5,
          67.5,
          82.5,
          97.5,
          112.5,
          127.5,
          142.5,
          157.5,
          172.5,
          187.5,
          202.5,
          217.5,
          232.5,
          247.5,
          262.5,
          277.5,
          292.5,
          307.5,
          322.5,
          337.5,
          352.5,
          7.5
         ],
         "type": "scatterpolar"
        },
        {
         "customdata": [
          [
           0.023206751054852322,
           7.5
          ],
          [
           0.0189873417721519,
           22.5
          ],
          [
           0.008438818565400843,
           37.5
          ],
          [
           0.008438818565400843,
           52.5
          ],
          [
           0.005274261603375527,
           67.5
          ],
          [
           0.006329113924050633,
           82.5
          ],
          [
           0.007383966244725738,
           97.5
          ],
          [
           0.016877637130801686,
           112.5
          ],
          [
           0.024261603375527425,
           127.5
          ],
          [
           0.03691983122362869,
           142.5
          ],
          [
           0.03691983122362869,
           157.5
          ],
          [
           0.056962025316455694,
           172.5
          ],
          [
           0.06856540084388185,
           187.5
          ],
          [
           0.07278481012658228,
           202.5
          ],
          [
           0.10021097046413502,
           217.5
          ],
          [
           0.10337552742616034,
           232.5
          ],
          [
           0.08860759493670886,
           247.5
          ],
          [
           0.07489451476793249,
           262.5
          ],
          [
           0.10337552742616034,
           277.5
          ],
          [
           0.0981012658227848,
           292.5
          ],
          [
           0.046413502109704644,
           307.5
          ],
          [
           0.035864978902953586,
           322.5
          ],
          [
           0.04008438818565401,
           337.5
          ],
          [
           0.03481012658227848,
           352.5
          ],
          [
           0.023206751054852322,
           7.5
          ]
         ],
         "hovertemplate": "Day Type=Weekend<br>Trip Type=Departures<br>Trips=%{customdata[0]:.2f}<extra></extra>",
         "legendgroup": "Weekend, Departures",
         "line": {
          "color": "#EF553B",
          "dash": "solid"
         },
         "marker": {
          "symbol": "circle"
         },
         "mode": "lines",
         "name": "Weekend, Departures",
         "r": [
          0.023206751054852322,
          0.0189873417721519,
          0.008438818565400843,
          0.008438818565400843,
          0.005274261603375527,
          0.006329113924050633,
          0.007383966244725738,
          0.016877637130801686,
          0.024261603375527425,
          0.03691983122362869,
          0.03691983122362869,
          0.056962025316455694,
          0.06856540084388185,
          0.07278481012658228,
          0.10021097046413502,
          0.10337552742616034,
          0.08860759493670886,
          0.07489451476793249,
          0.10337552742616034,
          0.0981012658227848,
          0.046413502109704644,
          0.035864978902953586,
          0.04008438818565401,
          0.03481012658227848,
          0.023206751054852322
         ],
         "showlegend": true,
         "subplot": "polar",
         "theta": [
          7.5,
          22.5,
          37.5,
          52.5,
          67.5,
          82.5,
          97.5,
          112.5,
          127.5,
          142.5,
          157.5,
          172.5,
          187.5,
          202.5,
          217.5,
          232.5,
          247.5,
          262.5,
          277.5,
          292.5,
          307.5,
          322.5,
          337.5,
          352.5,
          7.5
         ],
         "type": "scatterpolar"
        },
        {
         "customdata": [
          [
           0.026371308016877638,
           7.5
          ],
          [
           0.017932489451476793,
           22.5
          ],
          [
           0.015822784810126583,
           37.5
          ],
          [
           0.024261603375527425,
           52.5
          ],
          [
           0.007383966244725738,
           67.5
          ],
          [
           0.006329113924050633,
           82.5
          ],
          [
           0.002109704641350211,
           97.5
          ],
          [
           0.011603375527426161,
           112.5
          ],
          [
           0.012658227848101266,
           127.5
          ],
          [
           0.012658227848101266,
           142.5
          ],
          [
           0.03691983122362869,
           157.5
          ],
          [
           0.046413502109704644,
           172.5
          ],
          [
           0.06223628691983123,
           187.5
          ],
          [
           0.05168776371308017,
           202.5
          ],
          [
           0.0770042194092827,
           217.5
          ],
          [
           0.08860759493670886,
           232.5
          ],
          [
           0.07805907172995781,
           247.5
          ],
          [
           0.08122362869198312,
           262.5
          ],
          [
           0.08438818565400844,
           277.5
          ],
          [
           0.08333333333333333,
           292.5
          ],
          [
           0.06118143459915612,
           307.5
          ],
          [
           0.05590717299578059,
           322.5
          ],
          [
           0.08544303797468354,
           337.5
          ],
          [
           0.043248945147679324,
           352.5
          ],
          [
           0.026371308016877638,
           7.5
          ]
         ],
         "hovertemplate": "Day Type=Weekend<br>Trip Type=Arrivals<br>Trips=%{customdata[0]:.2f}<extra></extra>",
         "legendgroup": "Weekend, Arrivals",
         "line": {
          "color": "#EF553B",
          "dash": "dot"
         },
         "marker": {
          "symbol": "circle"
         },
         "mode": "lines",
         "name": "Weekend, Arrivals",
         "r": [
          0.026371308016877638,
          0.017932489451476793,
          0.015822784810126583,
          0.024261603375527425,
          0.007383966244725738,
          0.006329113924050633,
          0.002109704641350211,
          0.011603375527426161,
          0.012658227848101266,
          0.012658227848101266,
          0.03691983122362869,
          0.046413502109704644,
          0.06223628691983123,
          0.05168776371308017,
          0.0770042194092827,
          0.08860759493670886,
          0.07805907172995781,
          0.08122362869198312,
          0.08438818565400844,
          0.08333333333333333,
          0.06118143459915612,
          0.05590717299578059,
          0.08544303797468354,
          0.043248945147679324,
          0.026371308016877638
         ],
         "showlegend": true,
         "subplot": "polar",
         "theta": [
          7.5,
          22.5,
          37.5,
          52.5,
          67.5,
          82.5,
          97.5,
          112.5,
          127.5,
          142.5,
          157.5,
          172.5,
          187.5,
          202.5,
          217.5,
          232.5,
          247.5,
          262.5,
          277.5,
          292.5,
          307.5,
          322.5,
          337.5,
          352.5,
          7.5
         ],
         "type": "scatterpolar"
        }
       ],
       "layout": {
        "height": 600,
        "legend": {
         "title": {
          "text": ""
         },
         "tracegroupgap": 0
        },
        "margin": {
         "b": 25,
         "l": 0,
         "r": 0,
         "t": 50
        },
        "polar": {
         "angularaxis": {
          "direction": "clockwise",
          "rotation": -90,
          "tickmode": "array",
          "ticktext": [
           "12 AM",
           "1 AM",
           "2 AM",
           "3 AM",
           "4 AM",
           "5 AM",
           "6 AM",
           "7 AM",
           "8 AM",
           "9 AM",
           "10 AM",
           "11 AM",
           "12 PM",
           "1 PM",
           "2 PM",
           "3 PM",
           "4 PM",
           "5 PM",
           "6 PM",
           "7 PM",
           "8 PM",
           "9 PM",
           "10 PM",
           "11 PM"
          ],
          "tickvals": [
           0,
           15,
           30,
           45,
           60,
           75,
           90,
           105,
           120,
           135,
           150,
           165,
           180,
           195,
           210,
           225,
           240,
           255,
           270,
           285,
           300,
           315,
           330,
           345
          ]
         },
         "domain": {
          "x": [
           0,
           1
          ],
          "y": [
           0,
           1
          ]
         }
        },
        "template": {
         "data": {
          "bar": [
           {
            "error_x": {
             "color": "#2a3f5f"
            },
            "error_y": {
             "color": "#2a3f5f"
            },
            "marker": {
             "line": {
              "color": "#E5ECF6",
              "width": 0.5
             },
             "pattern": {
              "fillmode": "overlay",
              "size": 10,
              "solidity": 0.2
             }
            },
            "type": "bar"
           }
          ],
          "barpolar": [
           {
            "marker": {
             "line": {
              "color": "#E5ECF6",
              "width": 0.5
             },
             "pattern": {
              "fillmode": "overlay",
              "size": 10,
              "solidity": 0.2
             }
            },
            "type": "barpolar"
           }
          ],
          "carpet": [
           {
            "aaxis": {
             "endlinecolor": "#2a3f5f",
             "gridcolor": "white",
             "linecolor": "white",
             "minorgridcolor": "white",
             "startlinecolor": "#2a3f5f"
            },
            "baxis": {
             "endlinecolor": "#2a3f5f",
             "gridcolor": "white",
             "linecolor": "white",
             "minorgridcolor": "white",
             "startlinecolor": "#2a3f5f"
            },
            "type": "carpet"
           }
          ],
          "choropleth": [
           {
            "colorbar": {
             "outlinewidth": 0,
             "ticks": ""
            },
            "type": "choropleth"
           }
          ],
          "contour": [
           {
            "colorbar": {
             "outlinewidth": 0,
             "ticks": ""
            },
            "colorscale": [
             [
              0,
              "#0d0887"
             ],
             [
              0.1111111111111111,
              "#46039f"
             ],
             [
              0.2222222222222222,
              "#7201a8"
             ],
             [
              0.3333333333333333,
              "#9c179e"
             ],
             [
              0.4444444444444444,
              "#bd3786"
             ],
             [
              0.5555555555555556,
              "#d8576b"
             ],
             [
              0.6666666666666666,
              "#ed7953"
             ],
             [
              0.7777777777777778,
              "#fb9f3a"
             ],
             [
              0.8888888888888888,
              "#fdca26"
             ],
             [
              1,
              "#f0f921"
             ]
            ],
            "type": "contour"
           }
          ],
          "contourcarpet": [
           {
            "colorbar": {
             "outlinewidth": 0,
             "ticks": ""
            },
            "type": "contourcarpet"
           }
          ],
          "heatmap": [
           {
            "colorbar": {
             "outlinewidth": 0,
             "ticks": ""
            },
            "colorscale": [
             [
              0,
              "#0d0887"
             ],
             [
              0.1111111111111111,
              "#46039f"
             ],
             [
              0.2222222222222222,
              "#7201a8"
             ],
             [
              0.3333333333333333,
              "#9c179e"
             ],
             [
              0.4444444444444444,
              "#bd3786"
             ],
             [
              0.5555555555555556,
              "#d8576b"
             ],
             [
              0.6666666666666666,
              "#ed7953"
             ],
             [
              0.7777777777777778,
              "#fb9f3a"
             ],
             [
              0.8888888888888888,
              "#fdca26"
             ],
             [
              1,
              "#f0f921"
             ]
            ],
            "type": "heatmap"
           }
          ],
          "heatmapgl": [
           {
            "colorbar": {
             "outlinewidth": 0,
             "ticks": ""
            },
            "colorscale": [
             [
              0,
              "#0d0887"
             ],
             [
              0.1111111111111111,
              "#46039f"
             ],
             [
              0.2222222222222222,
              "#7201a8"
             ],
             [
              0.3333333333333333,
              "#9c179e"
             ],
             [
              0.4444444444444444,
              "#bd3786"
             ],
             [
              0.5555555555555556,
              "#d8576b"
             ],
             [
              0.6666666666666666,
              "#ed7953"
             ],
             [
              0.7777777777777778,
              "#fb9f3a"
             ],
             [
              0.8888888888888888,
              "#fdca26"
             ],
             [
              1,
              "#f0f921"
             ]
            ],
            "type": "heatmapgl"
           }
          ],
          "histogram": [
           {
            "marker": {
             "pattern": {
              "fillmode": "overlay",
              "size": 10,
              "solidity": 0.2
             }
            },
            "type": "histogram"
           }
          ],
          "histogram2d": [
           {
            "colorbar": {
             "outlinewidth": 0,
             "ticks": ""
            },
            "colorscale": [
             [
              0,
              "#0d0887"
             ],
             [
              0.1111111111111111,
              "#46039f"
             ],
             [
              0.2222222222222222,
              "#7201a8"
             ],
             [
              0.3333333333333333,
              "#9c179e"
             ],
             [
              0.4444444444444444,
              "#bd3786"
             ],
             [
              0.5555555555555556,
              "#d8576b"
             ],
             [
              0.6666666666666666,
              "#ed7953"
             ],
             [
              0.7777777777777778,
              "#fb9f3a"
             ],
             [
              0.8888888888888888,
              "#fdca26"
             ],
             [
              1,
              "#f0f921"
             ]
            ],
            "type": "histogram2d"
           }
          ],
          "histogram2dcontour": [
           {
            "colorbar": {
             "outlinewidth": 0,
             "ticks": ""
            },
            "colorscale": [
             [
              0,
              "#0d0887"
             ],
             [
              0.1111111111111111,
              "#46039f"
             ],
             [
              0.2222222222222222,
              "#7201a8"
             ],
             [
              0.3333333333333333,
              "#9c179e"
             ],
             [
              0.4444444444444444,
              "#bd3786"
             ],
             [
              0.5555555555555556,
              "#d8576b"
             ],
             [
              0.6666666666666666,
              "#ed7953"
             ],
             [
              0.7777777777777778,
              "#fb9f3a"
             ],
             [
              0.8888888888888888,
              "#fdca26"
             ],
             [
              1,
              "#f0f921"
             ]
            ],
            "type": "histogram2dcontour"
           }
          ],
          "mesh3d": [
           {
            "colorbar": {
             "outlinewidth": 0,
             "ticks": ""
            },
            "type": "mesh3d"
           }
          ],
          "parcoords": [
           {
            "line": {
             "colorbar": {
              "outlinewidth": 0,
              "ticks": ""
             }
            },
            "type": "parcoords"
           }
          ],
          "pie": [
           {
            "automargin": true,
            "type": "pie"
           }
          ],
          "scatter": [
           {
            "fillpattern": {
             "fillmode": "overlay",
             "size": 10,
             "solidity": 0.2
            },
            "type": "scatter"
           }
          ],
          "scatter3d": [
           {
            "line": {
             "colorbar": {
              "outlinewidth": 0,
              "ticks": ""
             }
            },
            "marker": {
             "colorbar": {
              "outlinewidth": 0,
              "ticks": ""
             }
            },
            "type": "scatter3d"
           }
          ],
          "scattercarpet": [
           {
            "marker": {
             "colorbar": {
              "outlinewidth": 0,
              "ticks": ""
             }
            },
            "type": "scattercarpet"
           }
          ],
          "scattergeo": [
           {
            "marker": {
             "colorbar": {
              "outlinewidth": 0,
              "ticks": ""
             }
            },
            "type": "scattergeo"
           }
          ],
          "scattergl": [
           {
            "marker": {
             "colorbar": {
              "outlinewidth": 0,
              "ticks": ""
             }
            },
            "type": "scattergl"
           }
          ],
          "scattermapbox": [
           {
            "marker": {
             "colorbar": {
              "outlinewidth": 0,
              "ticks": ""
             }
            },
            "type": "scattermapbox"
           }
          ],
          "scatterpolar": [
           {
            "marker": {
             "colorbar": {
              "outlinewidth": 0,
              "ticks": ""
             }
            },
            "type": "scatterpolar"
           }
          ],
          "scatterpolargl": [
           {
            "marker": {
             "colorbar": {
              "outlinewidth": 0,
              "ticks": ""
             }
            },
            "type": "scatterpolargl"
           }
          ],
          "scatterternary": [
           {
            "marker": {
             "colorbar": {
              "outlinewidth": 0,
              "ticks": ""
             }
            },
            "type": "scatterternary"
           }
          ],
          "surface": [
           {
            "colorbar": {
             "outlinewidth": 0,
             "ticks": ""
            },
            "colorscale": [
             [
              0,
              "#0d0887"
             ],
             [
              0.1111111111111111,
              "#46039f"
             ],
             [
              0.2222222222222222,
              "#7201a8"
             ],
             [
              0.3333333333333333,
              "#9c179e"
             ],
             [
              0.4444444444444444,
              "#bd3786"
             ],
             [
              0.5555555555555556,
              "#d8576b"
             ],
             [
              0.6666666666666666,
              "#ed7953"
             ],
             [
              0.7777777777777778,
              "#fb9f3a"
             ],
             [
              0.8888888888888888,
              "#fdca26"
             ],
             [
              1,
              "#f0f921"
             ]
            ],
            "type": "surface"
           }
          ],
          "table": [
           {
            "cells": {
             "fill": {
              "color": "#EBF0F8"
             },
             "line": {
              "color": "white"
             }
            },
            "header": {
             "fill": {
              "color": "#C8D4E3"
             },
             "line": {
              "color": "white"
             }
            },
            "type": "table"
           }
          ]
         },
         "layout": {
          "annotationdefaults": {
           "arrowcolor": "#2a3f5f",
           "arrowhead": 0,
           "arrowwidth": 1
          },
          "autotypenumbers": "strict",
          "coloraxis": {
           "colorbar": {
            "outlinewidth": 0,
            "ticks": ""
           }
          },
          "colorscale": {
           "diverging": [
            [
             0,
             "#8e0152"
            ],
            [
             0.1,
             "#c51b7d"
            ],
            [
             0.2,
             "#de77ae"
            ],
            [
             0.3,
             "#f1b6da"
            ],
            [
             0.4,
             "#fde0ef"
            ],
            [
             0.5,
             "#f7f7f7"
            ],
            [
             0.6,
             "#e6f5d0"
            ],
            [
             0.7,
             "#b8e186"
            ],
            [
             0.8,
             "#7fbc41"
            ],
            [
             0.9,
             "#4d9221"
            ],
            [
             1,
             "#276419"
            ]
           ],
           "sequential": [
            [
             0,
             "#0d0887"
            ],
            [
             0.1111111111111111,
             "#46039f"
            ],
            [
             0.2222222222222222,
             "#7201a8"
            ],
            [
             0.3333333333333333,
             "#9c179e"
            ],
            [
             0.4444444444444444,
             "#bd3786"
            ],
            [
             0.5555555555555556,
             "#d8576b"
            ],
            [
             0.6666666666666666,
             "#ed7953"
            ],
            [
             0.7777777777777778,
             "#fb9f3a"
            ],
            [
             0.8888888888888888,
             "#fdca26"
            ],
            [
             1,
             "#f0f921"
            ]
           ],
           "sequentialminus": [
            [
             0,
             "#0d0887"
            ],
            [
             0.1111111111111111,
             "#46039f"
            ],
            [
             0.2222222222222222,
             "#7201a8"
            ],
            [
             0.3333333333333333,
             "#9c179e"
            ],
            [
             0.4444444444444444,
             "#bd3786"
            ],
            [
             0.5555555555555556,
             "#d8576b"
            ],
            [
             0.6666666666666666,
             "#ed7953"
            ],
            [
             0.7777777777777778,
             "#fb9f3a"
            ],
            [
             0.8888888888888888,
             "#fdca26"
            ],
            [
             1,
             "#f0f921"
            ]
           ]
          },
          "colorway": [
           "#636efa",
           "#EF553B",
           "#00cc96",
           "#ab63fa",
           "#FFA15A",
           "#19d3f3",
           "#FF6692",
           "#B6E880",
           "#FF97FF",
           "#FECB52"
          ],
          "font": {
           "color": "#2a3f5f"
          },
          "geo": {
           "bgcolor": "white",
           "lakecolor": "white",
           "landcolor": "#E5ECF6",
           "showlakes": true,
           "showland": true,
           "subunitcolor": "white"
          },
          "hoverlabel": {
           "align": "left"
          },
          "hovermode": "closest",
          "mapbox": {
           "style": "light"
          },
          "paper_bgcolor": "white",
          "plot_bgcolor": "#E5ECF6",
          "polar": {
           "angularaxis": {
            "gridcolor": "white",
            "linecolor": "white",
            "ticks": ""
           },
           "bgcolor": "#E5ECF6",
           "radialaxis": {
            "gridcolor": "white",
            "linecolor": "white",
            "ticks": ""
           }
          },
          "scene": {
           "xaxis": {
            "backgroundcolor": "#E5ECF6",
            "gridcolor": "white",
            "gridwidth": 2,
            "linecolor": "white",
            "showbackground": true,
            "ticks": "",
            "zerolinecolor": "white"
           },
           "yaxis": {
            "backgroundcolor": "#E5ECF6",
            "gridcolor": "white",
            "gridwidth": 2,
            "linecolor": "white",
            "showbackground": true,
            "ticks": "",
            "zerolinecolor": "white"
           },
           "zaxis": {
            "backgroundcolor": "#E5ECF6",
            "gridcolor": "white",
            "gridwidth": 2,
            "linecolor": "white",
            "showbackground": true,
            "ticks": "",
            "zerolinecolor": "white"
           }
          },
          "shapedefaults": {
           "line": {
            "color": "#2a3f5f"
           }
          },
          "ternary": {
           "aaxis": {
            "gridcolor": "white",
            "linecolor": "white",
            "ticks": ""
           },
           "baxis": {
            "gridcolor": "white",
            "linecolor": "white",
            "ticks": ""
           },
           "bgcolor": "#E5ECF6",
           "caxis": {
            "gridcolor": "white",
            "linecolor": "white",
            "ticks": ""
           }
          },
          "title": {
           "x": 0.05
          },
          "xaxis": {
           "automargin": true,
           "gridcolor": "white",
           "linecolor": "white",
           "ticks": "",
           "title": {
            "standoff": 15
           },
           "zerolinecolor": "white",
           "zerolinewidth": 2
          },
          "yaxis": {
           "automargin": true,
           "gridcolor": "white",
           "linecolor": "white",
           "ticks": "",
           "title": {
            "standoff": 15
           },
           "zerolinecolor": "white",
           "zerolinewidth": 2
          }
         }
        },
        "title": {
         "text": "Hourly Bluebike Trips Near Grove Hall Plaza"
        },
        "width": 800
       }
      }
     },
     "metadata": {},
     "output_type": "display_data"
    },
    {
     "name": "stdout",
     "output_type": "stream",
     "text": [
      "1 nearest station to Ryan Playground: Sullivan Square\n"
     ]
    },
    {
     "name": "stderr",
     "output_type": "stream",
     "text": [
      "/Users/henrywu/opt/anaconda3/lib/python3.9/site-packages/plotly/express/_core.py:271: FutureWarning:\n",
      "\n",
      "The frame.append method is deprecated and will be removed from pandas in a future version. Use pandas.concat instead.\n",
      "\n",
      "/Users/henrywu/opt/anaconda3/lib/python3.9/site-packages/plotly/express/_core.py:271: FutureWarning:\n",
      "\n",
      "The frame.append method is deprecated and will be removed from pandas in a future version. Use pandas.concat instead.\n",
      "\n",
      "/Users/henrywu/opt/anaconda3/lib/python3.9/site-packages/plotly/express/_core.py:271: FutureWarning:\n",
      "\n",
      "The frame.append method is deprecated and will be removed from pandas in a future version. Use pandas.concat instead.\n",
      "\n",
      "/Users/henrywu/opt/anaconda3/lib/python3.9/site-packages/plotly/express/_core.py:271: FutureWarning:\n",
      "\n",
      "The frame.append method is deprecated and will be removed from pandas in a future version. Use pandas.concat instead.\n",
      "\n"
     ]
    },
    {
     "data": {
      "application/vnd.plotly.v1+json": {
       "config": {
        "plotlyServerURL": "https://plot.ly"
       },
       "data": [
        {
         "customdata": [
          [
           0.2795358649789029,
           7.5
          ],
          [
           0.15928270042194093,
           22.5
          ],
          [
           0.1308016877637131,
           37.5
          ],
          [
           0.14767932489451477,
           52.5
          ],
          [
           0.1160337552742616,
           67.5
          ],
          [
           0.12974683544303797,
           82.5
          ],
          [
           0.3860759493670886,
           97.5
          ],
          [
           0.44936708860759494,
           112.5
          ],
          [
           0.5580168776371308,
           127.5
          ],
          [
           0.5263713080168776,
           142.5
          ],
          [
           0.4630801687763713,
           157.5
          ],
          [
           0.33860759493670883,
           172.5
          ],
          [
           0.6371308016877637,
           187.5
          ],
          [
           0.6867088607594937,
           202.5
          ],
          [
           0.5432489451476793,
           217.5
          ],
          [
           0.6044303797468354,
           232.5
          ],
          [
           0.620253164556962,
           247.5
          ],
          [
           0.7689873417721519,
           262.5
          ],
          [
           0.6729957805907173,
           277.5
          ],
          [
           0.4989451476793249,
           292.5
          ],
          [
           0.4219409282700422,
           307.5
          ],
          [
           0.6065400843881856,
           322.5
          ],
          [
           0.5411392405063291,
           337.5
          ],
          [
           0.33122362869198313,
           352.5
          ],
          [
           0.2795358649789029,
           7.5
          ]
         ],
         "hovertemplate": "Day Type=Weekday<br>Trip Type=Departures<br>Trips=%{customdata[0]:.2f}<extra></extra>",
         "legendgroup": "Weekday, Departures",
         "line": {
          "color": "#636efa",
          "dash": "solid"
         },
         "marker": {
          "symbol": "circle"
         },
         "mode": "lines",
         "name": "Weekday, Departures",
         "r": [
          0.2795358649789029,
          0.15928270042194093,
          0.1308016877637131,
          0.14767932489451477,
          0.1160337552742616,
          0.12974683544303797,
          0.3860759493670886,
          0.44936708860759494,
          0.5580168776371308,
          0.5263713080168776,
          0.4630801687763713,
          0.33860759493670883,
          0.6371308016877637,
          0.6867088607594937,
          0.5432489451476793,
          0.6044303797468354,
          0.620253164556962,
          0.7689873417721519,
          0.6729957805907173,
          0.4989451476793249,
          0.4219409282700422,
          0.6065400843881856,
          0.5411392405063291,
          0.33122362869198313,
          0.2795358649789029
         ],
         "showlegend": true,
         "subplot": "polar",
         "theta": [
          7.5,
          22.5,
          37.5,
          52.5,
          67.5,
          82.5,
          97.5,
          112.5,
          127.5,
          142.5,
          157.5,
          172.5,
          187.5,
          202.5,
          217.5,
          232.5,
          247.5,
          262.5,
          277.5,
          292.5,
          307.5,
          322.5,
          337.5,
          352.5,
          7.5
         ],
         "type": "scatterpolar"
        },
        {
         "customdata": [
          [
           0.3280590717299578,
           7.5
          ],
          [
           0.25316455696202533,
           22.5
          ],
          [
           0.23945147679324894,
           37.5
          ],
          [
           0.11392405063291139,
           52.5
          ],
          [
           0.0580168776371308,
           67.5
          ],
          [
           0.06856540084388185,
           82.5
          ],
          [
           0.10232067510548523,
           97.5
          ],
          [
           0.2320675105485232,
           112.5
          ],
          [
           0.4219409282700422,
           127.5
          ],
          [
           0.31329113924050633,
           142.5
          ],
          [
           0.2510548523206751,
           157.5
          ],
          [
           0.2890295358649789,
           172.5
          ],
          [
           0.5559071729957806,
           187.5
          ],
          [
           0.45675105485232065,
           202.5
          ],
          [
           0.5116033755274262,
           217.5
          ],
          [
           0.5864978902953587,
           232.5
          ],
          [
           0.7426160337552743,
           247.5
          ],
          [
           0.9282700421940928,
           262.5
          ],
          [
           0.8839662447257384,
           277.5
          ],
          [
           0.739451476793249,
           292.5
          ],
          [
           0.640295358649789,
           307.5
          ],
          [
           0.7130801687763713,
           322.5
          ],
          [
           0.5843881856540084,
           337.5
          ],
          [
           0.3987341772151899,
           352.5
          ],
          [
           0.3280590717299578,
           7.5
          ]
         ],
         "hovertemplate": "Day Type=Weekday<br>Trip Type=Arrivals<br>Trips=%{customdata[0]:.2f}<extra></extra>",
         "legendgroup": "Weekday, Arrivals",
         "line": {
          "color": "#636efa",
          "dash": "dot"
         },
         "marker": {
          "symbol": "circle"
         },
         "mode": "lines",
         "name": "Weekday, Arrivals",
         "r": [
          0.3280590717299578,
          0.25316455696202533,
          0.23945147679324894,
          0.11392405063291139,
          0.0580168776371308,
          0.06856540084388185,
          0.10232067510548523,
          0.2320675105485232,
          0.4219409282700422,
          0.31329113924050633,
          0.2510548523206751,
          0.2890295358649789,
          0.5559071729957806,
          0.45675105485232065,
          0.5116033755274262,
          0.5864978902953587,
          0.7426160337552743,
          0.9282700421940928,
          0.8839662447257384,
          0.739451476793249,
          0.640295358649789,
          0.7130801687763713,
          0.5843881856540084,
          0.3987341772151899,
          0.3280590717299578
         ],
         "showlegend": true,
         "subplot": "polar",
         "theta": [
          7.5,
          22.5,
          37.5,
          52.5,
          67.5,
          82.5,
          97.5,
          112.5,
          127.5,
          142.5,
          157.5,
          172.5,
          187.5,
          202.5,
          217.5,
          232.5,
          247.5,
          262.5,
          277.5,
          292.5,
          307.5,
          322.5,
          337.5,
          352.5,
          7.5
         ],
         "type": "scatterpolar"
        },
        {
         "customdata": [
          [
           0.1719409282700422,
           7.5
          ],
          [
           0.10232067510548523,
           22.5
          ],
          [
           0.07383966244725738,
           37.5
          ],
          [
           0.07383966244725738,
           52.5
          ],
          [
           0.049578059071729956,
           67.5
          ],
          [
           0.06118143459915612,
           82.5
          ],
          [
           0.04746835443037975,
           97.5
          ],
          [
           0.05379746835443038,
           112.5
          ],
          [
           0.07911392405063292,
           127.5
          ],
          [
           0.09282700421940929,
           142.5
          ],
          [
           0.1149789029535865,
           157.5
          ],
          [
           0.1371308016877637,
           172.5
          ],
          [
           0.20569620253164558,
           187.5
          ],
          [
           0.20464135021097046,
           202.5
          ],
          [
           0.2310126582278481,
           217.5
          ],
          [
           0.25949367088607594,
           232.5
          ],
          [
           0.31962025316455694,
           247.5
          ],
          [
           0.24367088607594936,
           262.5
          ],
          [
           0.2542194092827004,
           277.5
          ],
          [
           0.21835443037974683,
           292.5
          ],
          [
           0.21729957805907174,
           307.5
          ],
          [
           0.1930379746835443,
           322.5
          ],
          [
           0.17721518987341772,
           337.5
          ],
          [
           0.16350210970464135,
           352.5
          ],
          [
           0.1719409282700422,
           7.5
          ]
         ],
         "hovertemplate": "Day Type=Weekend<br>Trip Type=Departures<br>Trips=%{customdata[0]:.2f}<extra></extra>",
         "legendgroup": "Weekend, Departures",
         "line": {
          "color": "#EF553B",
          "dash": "solid"
         },
         "marker": {
          "symbol": "circle"
         },
         "mode": "lines",
         "name": "Weekend, Departures",
         "r": [
          0.1719409282700422,
          0.10232067510548523,
          0.07383966244725738,
          0.07383966244725738,
          0.049578059071729956,
          0.06118143459915612,
          0.04746835443037975,
          0.05379746835443038,
          0.07911392405063292,
          0.09282700421940929,
          0.1149789029535865,
          0.1371308016877637,
          0.20569620253164558,
          0.20464135021097046,
          0.2310126582278481,
          0.25949367088607594,
          0.31962025316455694,
          0.24367088607594936,
          0.2542194092827004,
          0.21835443037974683,
          0.21729957805907174,
          0.1930379746835443,
          0.17721518987341772,
          0.16350210970464135,
          0.1719409282700422
         ],
         "showlegend": true,
         "subplot": "polar",
         "theta": [
          7.5,
          22.5,
          37.5,
          52.5,
          67.5,
          82.5,
          97.5,
          112.5,
          127.5,
          142.5,
          157.5,
          172.5,
          187.5,
          202.5,
          217.5,
          232.5,
          247.5,
          262.5,
          277.5,
          292.5,
          307.5,
          322.5,
          337.5,
          352.5,
          7.5
         ],
         "type": "scatterpolar"
        },
        {
         "customdata": [
          [
           0.1540084388185654,
           7.5
          ],
          [
           0.1339662447257384,
           22.5
          ],
          [
           0.14451476793248946,
           37.5
          ],
          [
           0.08755274261603375,
           52.5
          ],
          [
           0.04113924050632911,
           67.5
          ],
          [
           0.07805907172995781,
           82.5
          ],
          [
           0.07489451476793249,
           97.5
          ],
          [
           0.05063291139240506,
           112.5
          ],
          [
           0.0580168776371308,
           127.5
          ],
          [
           0.08649789029535865,
           142.5
          ],
          [
           0.12236286919831224,
           157.5
          ],
          [
           0.13818565400843882,
           172.5
          ],
          [
           0.189873417721519,
           187.5
          ],
          [
           0.1909282700421941,
           202.5
          ],
          [
           0.1940928270042194,
           217.5
          ],
          [
           0.25316455696202533,
           232.5
          ],
          [
           0.30168776371308015,
           247.5
          ],
          [
           0.20253164556962025,
           262.5
          ],
          [
           0.23628691983122363,
           277.5
          ],
          [
           0.25738396624472576,
           292.5
          ],
          [
           0.20569620253164558,
           307.5
          ],
          [
           0.19514767932489452,
           322.5
          ],
          [
           0.17405063291139242,
           337.5
          ],
          [
           0.14029535864978904,
           352.5
          ],
          [
           0.1540084388185654,
           7.5
          ]
         ],
         "hovertemplate": "Day Type=Weekend<br>Trip Type=Arrivals<br>Trips=%{customdata[0]:.2f}<extra></extra>",
         "legendgroup": "Weekend, Arrivals",
         "line": {
          "color": "#EF553B",
          "dash": "dot"
         },
         "marker": {
          "symbol": "circle"
         },
         "mode": "lines",
         "name": "Weekend, Arrivals",
         "r": [
          0.1540084388185654,
          0.1339662447257384,
          0.14451476793248946,
          0.08755274261603375,
          0.04113924050632911,
          0.07805907172995781,
          0.07489451476793249,
          0.05063291139240506,
          0.0580168776371308,
          0.08649789029535865,
          0.12236286919831224,
          0.13818565400843882,
          0.189873417721519,
          0.1909282700421941,
          0.1940928270042194,
          0.25316455696202533,
          0.30168776371308015,
          0.20253164556962025,
          0.23628691983122363,
          0.25738396624472576,
          0.20569620253164558,
          0.19514767932489452,
          0.17405063291139242,
          0.14029535864978904,
          0.1540084388185654
         ],
         "showlegend": true,
         "subplot": "polar",
         "theta": [
          7.5,
          22.5,
          37.5,
          52.5,
          67.5,
          82.5,
          97.5,
          112.5,
          127.5,
          142.5,
          157.5,
          172.5,
          187.5,
          202.5,
          217.5,
          232.5,
          247.5,
          262.5,
          277.5,
          292.5,
          307.5,
          322.5,
          337.5,
          352.5,
          7.5
         ],
         "type": "scatterpolar"
        }
       ],
       "layout": {
        "height": 600,
        "legend": {
         "title": {
          "text": ""
         },
         "tracegroupgap": 0
        },
        "margin": {
         "b": 25,
         "l": 0,
         "r": 0,
         "t": 50
        },
        "polar": {
         "angularaxis": {
          "direction": "clockwise",
          "rotation": -90,
          "tickmode": "array",
          "ticktext": [
           "12 AM",
           "1 AM",
           "2 AM",
           "3 AM",
           "4 AM",
           "5 AM",
           "6 AM",
           "7 AM",
           "8 AM",
           "9 AM",
           "10 AM",
           "11 AM",
           "12 PM",
           "1 PM",
           "2 PM",
           "3 PM",
           "4 PM",
           "5 PM",
           "6 PM",
           "7 PM",
           "8 PM",
           "9 PM",
           "10 PM",
           "11 PM"
          ],
          "tickvals": [
           0,
           15,
           30,
           45,
           60,
           75,
           90,
           105,
           120,
           135,
           150,
           165,
           180,
           195,
           210,
           225,
           240,
           255,
           270,
           285,
           300,
           315,
           330,
           345
          ]
         },
         "domain": {
          "x": [
           0,
           1
          ],
          "y": [
           0,
           1
          ]
         }
        },
        "template": {
         "data": {
          "bar": [
           {
            "error_x": {
             "color": "#2a3f5f"
            },
            "error_y": {
             "color": "#2a3f5f"
            },
            "marker": {
             "line": {
              "color": "#E5ECF6",
              "width": 0.5
             },
             "pattern": {
              "fillmode": "overlay",
              "size": 10,
              "solidity": 0.2
             }
            },
            "type": "bar"
           }
          ],
          "barpolar": [
           {
            "marker": {
             "line": {
              "color": "#E5ECF6",
              "width": 0.5
             },
             "pattern": {
              "fillmode": "overlay",
              "size": 10,
              "solidity": 0.2
             }
            },
            "type": "barpolar"
           }
          ],
          "carpet": [
           {
            "aaxis": {
             "endlinecolor": "#2a3f5f",
             "gridcolor": "white",
             "linecolor": "white",
             "minorgridcolor": "white",
             "startlinecolor": "#2a3f5f"
            },
            "baxis": {
             "endlinecolor": "#2a3f5f",
             "gridcolor": "white",
             "linecolor": "white",
             "minorgridcolor": "white",
             "startlinecolor": "#2a3f5f"
            },
            "type": "carpet"
           }
          ],
          "choropleth": [
           {
            "colorbar": {
             "outlinewidth": 0,
             "ticks": ""
            },
            "type": "choropleth"
           }
          ],
          "contour": [
           {
            "colorbar": {
             "outlinewidth": 0,
             "ticks": ""
            },
            "colorscale": [
             [
              0,
              "#0d0887"
             ],
             [
              0.1111111111111111,
              "#46039f"
             ],
             [
              0.2222222222222222,
              "#7201a8"
             ],
             [
              0.3333333333333333,
              "#9c179e"
             ],
             [
              0.4444444444444444,
              "#bd3786"
             ],
             [
              0.5555555555555556,
              "#d8576b"
             ],
             [
              0.6666666666666666,
              "#ed7953"
             ],
             [
              0.7777777777777778,
              "#fb9f3a"
             ],
             [
              0.8888888888888888,
              "#fdca26"
             ],
             [
              1,
              "#f0f921"
             ]
            ],
            "type": "contour"
           }
          ],
          "contourcarpet": [
           {
            "colorbar": {
             "outlinewidth": 0,
             "ticks": ""
            },
            "type": "contourcarpet"
           }
          ],
          "heatmap": [
           {
            "colorbar": {
             "outlinewidth": 0,
             "ticks": ""
            },
            "colorscale": [
             [
              0,
              "#0d0887"
             ],
             [
              0.1111111111111111,
              "#46039f"
             ],
             [
              0.2222222222222222,
              "#7201a8"
             ],
             [
              0.3333333333333333,
              "#9c179e"
             ],
             [
              0.4444444444444444,
              "#bd3786"
             ],
             [
              0.5555555555555556,
              "#d8576b"
             ],
             [
              0.6666666666666666,
              "#ed7953"
             ],
             [
              0.7777777777777778,
              "#fb9f3a"
             ],
             [
              0.8888888888888888,
              "#fdca26"
             ],
             [
              1,
              "#f0f921"
             ]
            ],
            "type": "heatmap"
           }
          ],
          "heatmapgl": [
           {
            "colorbar": {
             "outlinewidth": 0,
             "ticks": ""
            },
            "colorscale": [
             [
              0,
              "#0d0887"
             ],
             [
              0.1111111111111111,
              "#46039f"
             ],
             [
              0.2222222222222222,
              "#7201a8"
             ],
             [
              0.3333333333333333,
              "#9c179e"
             ],
             [
              0.4444444444444444,
              "#bd3786"
             ],
             [
              0.5555555555555556,
              "#d8576b"
             ],
             [
              0.6666666666666666,
              "#ed7953"
             ],
             [
              0.7777777777777778,
              "#fb9f3a"
             ],
             [
              0.8888888888888888,
              "#fdca26"
             ],
             [
              1,
              "#f0f921"
             ]
            ],
            "type": "heatmapgl"
           }
          ],
          "histogram": [
           {
            "marker": {
             "pattern": {
              "fillmode": "overlay",
              "size": 10,
              "solidity": 0.2
             }
            },
            "type": "histogram"
           }
          ],
          "histogram2d": [
           {
            "colorbar": {
             "outlinewidth": 0,
             "ticks": ""
            },
            "colorscale": [
             [
              0,
              "#0d0887"
             ],
             [
              0.1111111111111111,
              "#46039f"
             ],
             [
              0.2222222222222222,
              "#7201a8"
             ],
             [
              0.3333333333333333,
              "#9c179e"
             ],
             [
              0.4444444444444444,
              "#bd3786"
             ],
             [
              0.5555555555555556,
              "#d8576b"
             ],
             [
              0.6666666666666666,
              "#ed7953"
             ],
             [
              0.7777777777777778,
              "#fb9f3a"
             ],
             [
              0.8888888888888888,
              "#fdca26"
             ],
             [
              1,
              "#f0f921"
             ]
            ],
            "type": "histogram2d"
           }
          ],
          "histogram2dcontour": [
           {
            "colorbar": {
             "outlinewidth": 0,
             "ticks": ""
            },
            "colorscale": [
             [
              0,
              "#0d0887"
             ],
             [
              0.1111111111111111,
              "#46039f"
             ],
             [
              0.2222222222222222,
              "#7201a8"
             ],
             [
              0.3333333333333333,
              "#9c179e"
             ],
             [
              0.4444444444444444,
              "#bd3786"
             ],
             [
              0.5555555555555556,
              "#d8576b"
             ],
             [
              0.6666666666666666,
              "#ed7953"
             ],
             [
              0.7777777777777778,
              "#fb9f3a"
             ],
             [
              0.8888888888888888,
              "#fdca26"
             ],
             [
              1,
              "#f0f921"
             ]
            ],
            "type": "histogram2dcontour"
           }
          ],
          "mesh3d": [
           {
            "colorbar": {
             "outlinewidth": 0,
             "ticks": ""
            },
            "type": "mesh3d"
           }
          ],
          "parcoords": [
           {
            "line": {
             "colorbar": {
              "outlinewidth": 0,
              "ticks": ""
             }
            },
            "type": "parcoords"
           }
          ],
          "pie": [
           {
            "automargin": true,
            "type": "pie"
           }
          ],
          "scatter": [
           {
            "fillpattern": {
             "fillmode": "overlay",
             "size": 10,
             "solidity": 0.2
            },
            "type": "scatter"
           }
          ],
          "scatter3d": [
           {
            "line": {
             "colorbar": {
              "outlinewidth": 0,
              "ticks": ""
             }
            },
            "marker": {
             "colorbar": {
              "outlinewidth": 0,
              "ticks": ""
             }
            },
            "type": "scatter3d"
           }
          ],
          "scattercarpet": [
           {
            "marker": {
             "colorbar": {
              "outlinewidth": 0,
              "ticks": ""
             }
            },
            "type": "scattercarpet"
           }
          ],
          "scattergeo": [
           {
            "marker": {
             "colorbar": {
              "outlinewidth": 0,
              "ticks": ""
             }
            },
            "type": "scattergeo"
           }
          ],
          "scattergl": [
           {
            "marker": {
             "colorbar": {
              "outlinewidth": 0,
              "ticks": ""
             }
            },
            "type": "scattergl"
           }
          ],
          "scattermapbox": [
           {
            "marker": {
             "colorbar": {
              "outlinewidth": 0,
              "ticks": ""
             }
            },
            "type": "scattermapbox"
           }
          ],
          "scatterpolar": [
           {
            "marker": {
             "colorbar": {
              "outlinewidth": 0,
              "ticks": ""
             }
            },
            "type": "scatterpolar"
           }
          ],
          "scatterpolargl": [
           {
            "marker": {
             "colorbar": {
              "outlinewidth": 0,
              "ticks": ""
             }
            },
            "type": "scatterpolargl"
           }
          ],
          "scatterternary": [
           {
            "marker": {
             "colorbar": {
              "outlinewidth": 0,
              "ticks": ""
             }
            },
            "type": "scatterternary"
           }
          ],
          "surface": [
           {
            "colorbar": {
             "outlinewidth": 0,
             "ticks": ""
            },
            "colorscale": [
             [
              0,
              "#0d0887"
             ],
             [
              0.1111111111111111,
              "#46039f"
             ],
             [
              0.2222222222222222,
              "#7201a8"
             ],
             [
              0.3333333333333333,
              "#9c179e"
             ],
             [
              0.4444444444444444,
              "#bd3786"
             ],
             [
              0.5555555555555556,
              "#d8576b"
             ],
             [
              0.6666666666666666,
              "#ed7953"
             ],
             [
              0.7777777777777778,
              "#fb9f3a"
             ],
             [
              0.8888888888888888,
              "#fdca26"
             ],
             [
              1,
              "#f0f921"
             ]
            ],
            "type": "surface"
           }
          ],
          "table": [
           {
            "cells": {
             "fill": {
              "color": "#EBF0F8"
             },
             "line": {
              "color": "white"
             }
            },
            "header": {
             "fill": {
              "color": "#C8D4E3"
             },
             "line": {
              "color": "white"
             }
            },
            "type": "table"
           }
          ]
         },
         "layout": {
          "annotationdefaults": {
           "arrowcolor": "#2a3f5f",
           "arrowhead": 0,
           "arrowwidth": 1
          },
          "autotypenumbers": "strict",
          "coloraxis": {
           "colorbar": {
            "outlinewidth": 0,
            "ticks": ""
           }
          },
          "colorscale": {
           "diverging": [
            [
             0,
             "#8e0152"
            ],
            [
             0.1,
             "#c51b7d"
            ],
            [
             0.2,
             "#de77ae"
            ],
            [
             0.3,
             "#f1b6da"
            ],
            [
             0.4,
             "#fde0ef"
            ],
            [
             0.5,
             "#f7f7f7"
            ],
            [
             0.6,
             "#e6f5d0"
            ],
            [
             0.7,
             "#b8e186"
            ],
            [
             0.8,
             "#7fbc41"
            ],
            [
             0.9,
             "#4d9221"
            ],
            [
             1,
             "#276419"
            ]
           ],
           "sequential": [
            [
             0,
             "#0d0887"
            ],
            [
             0.1111111111111111,
             "#46039f"
            ],
            [
             0.2222222222222222,
             "#7201a8"
            ],
            [
             0.3333333333333333,
             "#9c179e"
            ],
            [
             0.4444444444444444,
             "#bd3786"
            ],
            [
             0.5555555555555556,
             "#d8576b"
            ],
            [
             0.6666666666666666,
             "#ed7953"
            ],
            [
             0.7777777777777778,
             "#fb9f3a"
            ],
            [
             0.8888888888888888,
             "#fdca26"
            ],
            [
             1,
             "#f0f921"
            ]
           ],
           "sequentialminus": [
            [
             0,
             "#0d0887"
            ],
            [
             0.1111111111111111,
             "#46039f"
            ],
            [
             0.2222222222222222,
             "#7201a8"
            ],
            [
             0.3333333333333333,
             "#9c179e"
            ],
            [
             0.4444444444444444,
             "#bd3786"
            ],
            [
             0.5555555555555556,
             "#d8576b"
            ],
            [
             0.6666666666666666,
             "#ed7953"
            ],
            [
             0.7777777777777778,
             "#fb9f3a"
            ],
            [
             0.8888888888888888,
             "#fdca26"
            ],
            [
             1,
             "#f0f921"
            ]
           ]
          },
          "colorway": [
           "#636efa",
           "#EF553B",
           "#00cc96",
           "#ab63fa",
           "#FFA15A",
           "#19d3f3",
           "#FF6692",
           "#B6E880",
           "#FF97FF",
           "#FECB52"
          ],
          "font": {
           "color": "#2a3f5f"
          },
          "geo": {
           "bgcolor": "white",
           "lakecolor": "white",
           "landcolor": "#E5ECF6",
           "showlakes": true,
           "showland": true,
           "subunitcolor": "white"
          },
          "hoverlabel": {
           "align": "left"
          },
          "hovermode": "closest",
          "mapbox": {
           "style": "light"
          },
          "paper_bgcolor": "white",
          "plot_bgcolor": "#E5ECF6",
          "polar": {
           "angularaxis": {
            "gridcolor": "white",
            "linecolor": "white",
            "ticks": ""
           },
           "bgcolor": "#E5ECF6",
           "radialaxis": {
            "gridcolor": "white",
            "linecolor": "white",
            "ticks": ""
           }
          },
          "scene": {
           "xaxis": {
            "backgroundcolor": "#E5ECF6",
            "gridcolor": "white",
            "gridwidth": 2,
            "linecolor": "white",
            "showbackground": true,
            "ticks": "",
            "zerolinecolor": "white"
           },
           "yaxis": {
            "backgroundcolor": "#E5ECF6",
            "gridcolor": "white",
            "gridwidth": 2,
            "linecolor": "white",
            "showbackground": true,
            "ticks": "",
            "zerolinecolor": "white"
           },
           "zaxis": {
            "backgroundcolor": "#E5ECF6",
            "gridcolor": "white",
            "gridwidth": 2,
            "linecolor": "white",
            "showbackground": true,
            "ticks": "",
            "zerolinecolor": "white"
           }
          },
          "shapedefaults": {
           "line": {
            "color": "#2a3f5f"
           }
          },
          "ternary": {
           "aaxis": {
            "gridcolor": "white",
            "linecolor": "white",
            "ticks": ""
           },
           "baxis": {
            "gridcolor": "white",
            "linecolor": "white",
            "ticks": ""
           },
           "bgcolor": "#E5ECF6",
           "caxis": {
            "gridcolor": "white",
            "linecolor": "white",
            "ticks": ""
           }
          },
          "title": {
           "x": 0.05
          },
          "xaxis": {
           "automargin": true,
           "gridcolor": "white",
           "linecolor": "white",
           "ticks": "",
           "title": {
            "standoff": 15
           },
           "zerolinecolor": "white",
           "zerolinewidth": 2
          },
          "yaxis": {
           "automargin": true,
           "gridcolor": "white",
           "linecolor": "white",
           "ticks": "",
           "title": {
            "standoff": 15
           },
           "zerolinecolor": "white",
           "zerolinewidth": 2
          }
         }
        },
        "title": {
         "text": "Hourly Bluebike Trips Near Ryan Playground"
        },
        "width": 800
       }
      }
     },
     "metadata": {},
     "output_type": "display_data"
    },
    {
     "name": "stdout",
     "output_type": "stream",
     "text": [
      "No stations within 0.5 km of Camp Meigs\n",
      "1 nearest station to Hawes Burying Ground: South Boston Library - 646 E Broadway\n"
     ]
    },
    {
     "name": "stderr",
     "output_type": "stream",
     "text": [
      "/Users/henrywu/opt/anaconda3/lib/python3.9/site-packages/plotly/express/_core.py:271: FutureWarning:\n",
      "\n",
      "The frame.append method is deprecated and will be removed from pandas in a future version. Use pandas.concat instead.\n",
      "\n",
      "/Users/henrywu/opt/anaconda3/lib/python3.9/site-packages/plotly/express/_core.py:271: FutureWarning:\n",
      "\n",
      "The frame.append method is deprecated and will be removed from pandas in a future version. Use pandas.concat instead.\n",
      "\n",
      "/Users/henrywu/opt/anaconda3/lib/python3.9/site-packages/plotly/express/_core.py:271: FutureWarning:\n",
      "\n",
      "The frame.append method is deprecated and will be removed from pandas in a future version. Use pandas.concat instead.\n",
      "\n",
      "/Users/henrywu/opt/anaconda3/lib/python3.9/site-packages/plotly/express/_core.py:271: FutureWarning:\n",
      "\n",
      "The frame.append method is deprecated and will be removed from pandas in a future version. Use pandas.concat instead.\n",
      "\n"
     ]
    },
    {
     "data": {
      "application/vnd.plotly.v1+json": {
       "config": {
        "plotlyServerURL": "https://plot.ly"
       },
       "data": [
        {
         "customdata": [
          [
           0.6170886075949367,
           7.5
          ],
          [
           0.3449367088607595,
           22.5
          ],
          [
           0.23628691983122363,
           37.5
          ],
          [
           0.18670886075949367,
           52.5
          ],
          [
           0.20253164556962025,
           67.5
          ],
          [
           0.7869198312236287,
           82.5
          ],
          [
           2.3375527426160336,
           97.5
          ],
          [
           4.09915611814346,
           112.5
          ],
          [
           4.056962025316456,
           127.5
          ],
          [
           1.369198312236287,
           142.5
          ],
          [
           1.2995780590717299,
           157.5
          ],
          [
           1.9757383966244726,
           172.5
          ],
          [
           2.310126582278481,
           187.5
          ],
          [
           1.5506329113924051,
           202.5
          ],
          [
           1.3196202531645569,
           217.5
          ],
          [
           1.5052742616033756,
           232.5
          ],
          [
           2.0337552742616034,
           247.5
          ],
          [
           3.0559071729957807,
           262.5
          ],
          [
           2.7721518987341773,
           277.5
          ],
          [
           1.9852320675105486,
           292.5
          ],
          [
           1.6244725738396624,
           307.5
          ],
          [
           2.1445147679324896,
           322.5
          ],
          [
           1.8533755274261603,
           337.5
          ],
          [
           1.1708860759493671,
           352.5
          ],
          [
           0.6170886075949367,
           7.5
          ]
         ],
         "hovertemplate": "Day Type=Weekday<br>Trip Type=Departures<br>Trips=%{customdata[0]:.2f}<extra></extra>",
         "legendgroup": "Weekday, Departures",
         "line": {
          "color": "#636efa",
          "dash": "solid"
         },
         "marker": {
          "symbol": "circle"
         },
         "mode": "lines",
         "name": "Weekday, Departures",
         "r": [
          0.6170886075949367,
          0.3449367088607595,
          0.23628691983122363,
          0.18670886075949367,
          0.20253164556962025,
          0.7869198312236287,
          2.3375527426160336,
          4.09915611814346,
          4.056962025316456,
          1.369198312236287,
          1.2995780590717299,
          1.9757383966244726,
          2.310126582278481,
          1.5506329113924051,
          1.3196202531645569,
          1.5052742616033756,
          2.0337552742616034,
          3.0559071729957807,
          2.7721518987341773,
          1.9852320675105486,
          1.6244725738396624,
          2.1445147679324896,
          1.8533755274261603,
          1.1708860759493671,
          0.6170886075949367
         ],
         "showlegend": true,
         "subplot": "polar",
         "theta": [
          7.5,
          22.5,
          37.5,
          52.5,
          67.5,
          82.5,
          97.5,
          112.5,
          127.5,
          142.5,
          157.5,
          172.5,
          187.5,
          202.5,
          217.5,
          232.5,
          247.5,
          262.5,
          277.5,
          292.5,
          307.5,
          322.5,
          337.5,
          352.5,
          7.5
         ],
         "type": "scatterpolar"
        },
        {
         "customdata": [
          [
           0.9789029535864979,
           7.5
          ],
          [
           0.5643459915611815,
           22.5
          ],
          [
           0.3987341772151899,
           37.5
          ],
          [
           0.26582278481012656,
           52.5
          ],
          [
           0.16033755274261605,
           67.5
          ],
          [
           0.1160337552742616,
           82.5
          ],
          [
           0.2109704641350211,
           97.5
          ],
          [
           0.6466244725738397,
           112.5
          ],
          [
           0.8523206751054853,
           127.5
          ],
          [
           0.509493670886076,
           142.5
          ],
          [
           0.609704641350211,
           157.5
          ],
          [
           0.9556962025316456,
           172.5
          ],
          [
           1.4514767932489452,
           187.5
          ],
          [
           1.6255274261603376,
           202.5
          ],
          [
           1.7468354430379747,
           217.5
          ],
          [
           1.9947257383966244,
           232.5
          ],
          [
           4.031645569620253,
           247.5
          ],
          [
           6.801687763713081,
           262.5
          ],
          [
           4.6265822784810124,
           277.5
          ],
          [
           3.2552742616033754,
           292.5
          ],
          [
           2.6445147679324896,
           307.5
          ],
          [
           2.6877637130801686,
           322.5
          ],
          [
           2.7088607594936707,
           337.5
          ],
          [
           1.9514767932489452,
           352.5
          ],
          [
           0.9789029535864979,
           7.5
          ]
         ],
         "hovertemplate": "Day Type=Weekday<br>Trip Type=Arrivals<br>Trips=%{customdata[0]:.2f}<extra></extra>",
         "legendgroup": "Weekday, Arrivals",
         "line": {
          "color": "#636efa",
          "dash": "dot"
         },
         "marker": {
          "symbol": "circle"
         },
         "mode": "lines",
         "name": "Weekday, Arrivals",
         "r": [
          0.9789029535864979,
          0.5643459915611815,
          0.3987341772151899,
          0.26582278481012656,
          0.16033755274261605,
          0.1160337552742616,
          0.2109704641350211,
          0.6466244725738397,
          0.8523206751054853,
          0.509493670886076,
          0.609704641350211,
          0.9556962025316456,
          1.4514767932489452,
          1.6255274261603376,
          1.7468354430379747,
          1.9947257383966244,
          4.031645569620253,
          6.801687763713081,
          4.6265822784810124,
          3.2552742616033754,
          2.6445147679324896,
          2.6877637130801686,
          2.7088607594936707,
          1.9514767932489452,
          0.9789029535864979
         ],
         "showlegend": true,
         "subplot": "polar",
         "theta": [
          7.5,
          22.5,
          37.5,
          52.5,
          67.5,
          82.5,
          97.5,
          112.5,
          127.5,
          142.5,
          157.5,
          172.5,
          187.5,
          202.5,
          217.5,
          232.5,
          247.5,
          262.5,
          277.5,
          292.5,
          307.5,
          322.5,
          337.5,
          352.5,
          7.5
         ],
         "type": "scatterpolar"
        },
        {
         "customdata": [
          [
           0.6909282700421941,
           7.5
          ],
          [
           0.5949367088607594,
           22.5
          ],
          [
           0.3037974683544304,
           37.5
          ],
          [
           0.30168776371308015,
           52.5
          ],
          [
           0.49050632911392406,
           67.5
          ],
          [
           0.4757383966244726,
           82.5
          ],
          [
           0.2974683544303797,
           97.5
          ],
          [
           0.23734177215189872,
           112.5
          ],
          [
           0.4630801687763713,
           127.5
          ],
          [
           0.8090717299578059,
           142.5
          ],
          [
           1.0938818565400843,
           157.5
          ],
          [
           1.2626582278481013,
           172.5
          ],
          [
           1.4430379746835442,
           187.5
          ],
          [
           1.6044303797468353,
           202.5
          ],
          [
           1.6793248945147679,
           217.5
          ],
          [
           1.6350210970464134,
           232.5
          ],
          [
           1.6772151898734178,
           247.5
          ],
          [
           1.5864978902953586,
           262.5
          ],
          [
           1.4345991561181435,
           277.5
          ],
          [
           1.1170886075949367,
           292.5
          ],
          [
           0.880801687763713,
           307.5
          ],
          [
           0.7352320675105485,
           322.5
          ],
          [
           0.6571729957805907,
           337.5
          ],
          [
           0.6086497890295358,
           352.5
          ],
          [
           0.6909282700421941,
           7.5
          ]
         ],
         "hovertemplate": "Day Type=Weekend<br>Trip Type=Departures<br>Trips=%{customdata[0]:.2f}<extra></extra>",
         "legendgroup": "Weekend, Departures",
         "line": {
          "color": "#EF553B",
          "dash": "solid"
         },
         "marker": {
          "symbol": "circle"
         },
         "mode": "lines",
         "name": "Weekend, Departures",
         "r": [
          0.6909282700421941,
          0.5949367088607594,
          0.3037974683544304,
          0.30168776371308015,
          0.49050632911392406,
          0.4757383966244726,
          0.2974683544303797,
          0.23734177215189872,
          0.4630801687763713,
          0.8090717299578059,
          1.0938818565400843,
          1.2626582278481013,
          1.4430379746835442,
          1.6044303797468353,
          1.6793248945147679,
          1.6350210970464134,
          1.6772151898734178,
          1.5864978902953586,
          1.4345991561181435,
          1.1170886075949367,
          0.880801687763713,
          0.7352320675105485,
          0.6571729957805907,
          0.6086497890295358,
          0.6909282700421941
         ],
         "showlegend": true,
         "subplot": "polar",
         "theta": [
          7.5,
          22.5,
          37.5,
          52.5,
          67.5,
          82.5,
          97.5,
          112.5,
          127.5,
          142.5,
          157.5,
          172.5,
          187.5,
          202.5,
          217.5,
          232.5,
          247.5,
          262.5,
          277.5,
          292.5,
          307.5,
          322.5,
          337.5,
          352.5,
          7.5
         ],
         "type": "scatterpolar"
        },
        {
         "customdata": [
          [
           0.7362869198312236,
           7.5
          ],
          [
           0.6223628691983122,
           22.5
          ],
          [
           0.5031645569620253,
           37.5
          ],
          [
           0.37236286919831224,
           52.5
          ],
          [
           0.3670886075949367,
           67.5
          ],
          [
           0.4778481012658228,
           82.5
          ],
          [
           0.34282700421940926,
           97.5
          ],
          [
           0.12447257383966245,
           112.5
          ],
          [
           0.2141350210970464,
           127.5
          ],
          [
           0.37763713080168776,
           142.5
          ],
          [
           0.6445147679324894,
           157.5
          ],
          [
           0.8945147679324894,
           172.5
          ],
          [
           1.2626582278481013,
           187.5
          ],
          [
           1.511603375527426,
           202.5
          ],
          [
           1.6550632911392404,
           217.5
          ],
          [
           1.790084388185654,
           232.5
          ],
          [
           1.720464135021097,
           247.5
          ],
          [
           1.8554852320675106,
           262.5
          ],
          [
           1.5664556962025316,
           277.5
          ],
          [
           1.3375527426160339,
           292.5
          ],
          [
           1.2141350210970465,
           307.5
          ],
          [
           0.9135021097046413,
           322.5
          ],
          [
           0.7795358649789029,
           337.5
          ],
          [
           0.6824894514767933,
           352.5
          ],
          [
           0.7362869198312236,
           7.5
          ]
         ],
         "hovertemplate": "Day Type=Weekend<br>Trip Type=Arrivals<br>Trips=%{customdata[0]:.2f}<extra></extra>",
         "legendgroup": "Weekend, Arrivals",
         "line": {
          "color": "#EF553B",
          "dash": "dot"
         },
         "marker": {
          "symbol": "circle"
         },
         "mode": "lines",
         "name": "Weekend, Arrivals",
         "r": [
          0.7362869198312236,
          0.6223628691983122,
          0.5031645569620253,
          0.37236286919831224,
          0.3670886075949367,
          0.4778481012658228,
          0.34282700421940926,
          0.12447257383966245,
          0.2141350210970464,
          0.37763713080168776,
          0.6445147679324894,
          0.8945147679324894,
          1.2626582278481013,
          1.511603375527426,
          1.6550632911392404,
          1.790084388185654,
          1.720464135021097,
          1.8554852320675106,
          1.5664556962025316,
          1.3375527426160339,
          1.2141350210970465,
          0.9135021097046413,
          0.7795358649789029,
          0.6824894514767933,
          0.7362869198312236
         ],
         "showlegend": true,
         "subplot": "polar",
         "theta": [
          7.5,
          22.5,
          37.5,
          52.5,
          67.5,
          82.5,
          97.5,
          112.5,
          127.5,
          142.5,
          157.5,
          172.5,
          187.5,
          202.5,
          217.5,
          232.5,
          247.5,
          262.5,
          277.5,
          292.5,
          307.5,
          322.5,
          337.5,
          352.5,
          7.5
         ],
         "type": "scatterpolar"
        }
       ],
       "layout": {
        "height": 600,
        "legend": {
         "title": {
          "text": ""
         },
         "tracegroupgap": 0
        },
        "margin": {
         "b": 25,
         "l": 0,
         "r": 0,
         "t": 50
        },
        "polar": {
         "angularaxis": {
          "direction": "clockwise",
          "rotation": -90,
          "tickmode": "array",
          "ticktext": [
           "12 AM",
           "1 AM",
           "2 AM",
           "3 AM",
           "4 AM",
           "5 AM",
           "6 AM",
           "7 AM",
           "8 AM",
           "9 AM",
           "10 AM",
           "11 AM",
           "12 PM",
           "1 PM",
           "2 PM",
           "3 PM",
           "4 PM",
           "5 PM",
           "6 PM",
           "7 PM",
           "8 PM",
           "9 PM",
           "10 PM",
           "11 PM"
          ],
          "tickvals": [
           0,
           15,
           30,
           45,
           60,
           75,
           90,
           105,
           120,
           135,
           150,
           165,
           180,
           195,
           210,
           225,
           240,
           255,
           270,
           285,
           300,
           315,
           330,
           345
          ]
         },
         "domain": {
          "x": [
           0,
           1
          ],
          "y": [
           0,
           1
          ]
         }
        },
        "template": {
         "data": {
          "bar": [
           {
            "error_x": {
             "color": "#2a3f5f"
            },
            "error_y": {
             "color": "#2a3f5f"
            },
            "marker": {
             "line": {
              "color": "#E5ECF6",
              "width": 0.5
             },
             "pattern": {
              "fillmode": "overlay",
              "size": 10,
              "solidity": 0.2
             }
            },
            "type": "bar"
           }
          ],
          "barpolar": [
           {
            "marker": {
             "line": {
              "color": "#E5ECF6",
              "width": 0.5
             },
             "pattern": {
              "fillmode": "overlay",
              "size": 10,
              "solidity": 0.2
             }
            },
            "type": "barpolar"
           }
          ],
          "carpet": [
           {
            "aaxis": {
             "endlinecolor": "#2a3f5f",
             "gridcolor": "white",
             "linecolor": "white",
             "minorgridcolor": "white",
             "startlinecolor": "#2a3f5f"
            },
            "baxis": {
             "endlinecolor": "#2a3f5f",
             "gridcolor": "white",
             "linecolor": "white",
             "minorgridcolor": "white",
             "startlinecolor": "#2a3f5f"
            },
            "type": "carpet"
           }
          ],
          "choropleth": [
           {
            "colorbar": {
             "outlinewidth": 0,
             "ticks": ""
            },
            "type": "choropleth"
           }
          ],
          "contour": [
           {
            "colorbar": {
             "outlinewidth": 0,
             "ticks": ""
            },
            "colorscale": [
             [
              0,
              "#0d0887"
             ],
             [
              0.1111111111111111,
              "#46039f"
             ],
             [
              0.2222222222222222,
              "#7201a8"
             ],
             [
              0.3333333333333333,
              "#9c179e"
             ],
             [
              0.4444444444444444,
              "#bd3786"
             ],
             [
              0.5555555555555556,
              "#d8576b"
             ],
             [
              0.6666666666666666,
              "#ed7953"
             ],
             [
              0.7777777777777778,
              "#fb9f3a"
             ],
             [
              0.8888888888888888,
              "#fdca26"
             ],
             [
              1,
              "#f0f921"
             ]
            ],
            "type": "contour"
           }
          ],
          "contourcarpet": [
           {
            "colorbar": {
             "outlinewidth": 0,
             "ticks": ""
            },
            "type": "contourcarpet"
           }
          ],
          "heatmap": [
           {
            "colorbar": {
             "outlinewidth": 0,
             "ticks": ""
            },
            "colorscale": [
             [
              0,
              "#0d0887"
             ],
             [
              0.1111111111111111,
              "#46039f"
             ],
             [
              0.2222222222222222,
              "#7201a8"
             ],
             [
              0.3333333333333333,
              "#9c179e"
             ],
             [
              0.4444444444444444,
              "#bd3786"
             ],
             [
              0.5555555555555556,
              "#d8576b"
             ],
             [
              0.6666666666666666,
              "#ed7953"
             ],
             [
              0.7777777777777778,
              "#fb9f3a"
             ],
             [
              0.8888888888888888,
              "#fdca26"
             ],
             [
              1,
              "#f0f921"
             ]
            ],
            "type": "heatmap"
           }
          ],
          "heatmapgl": [
           {
            "colorbar": {
             "outlinewidth": 0,
             "ticks": ""
            },
            "colorscale": [
             [
              0,
              "#0d0887"
             ],
             [
              0.1111111111111111,
              "#46039f"
             ],
             [
              0.2222222222222222,
              "#7201a8"
             ],
             [
              0.3333333333333333,
              "#9c179e"
             ],
             [
              0.4444444444444444,
              "#bd3786"
             ],
             [
              0.5555555555555556,
              "#d8576b"
             ],
             [
              0.6666666666666666,
              "#ed7953"
             ],
             [
              0.7777777777777778,
              "#fb9f3a"
             ],
             [
              0.8888888888888888,
              "#fdca26"
             ],
             [
              1,
              "#f0f921"
             ]
            ],
            "type": "heatmapgl"
           }
          ],
          "histogram": [
           {
            "marker": {
             "pattern": {
              "fillmode": "overlay",
              "size": 10,
              "solidity": 0.2
             }
            },
            "type": "histogram"
           }
          ],
          "histogram2d": [
           {
            "colorbar": {
             "outlinewidth": 0,
             "ticks": ""
            },
            "colorscale": [
             [
              0,
              "#0d0887"
             ],
             [
              0.1111111111111111,
              "#46039f"
             ],
             [
              0.2222222222222222,
              "#7201a8"
             ],
             [
              0.3333333333333333,
              "#9c179e"
             ],
             [
              0.4444444444444444,
              "#bd3786"
             ],
             [
              0.5555555555555556,
              "#d8576b"
             ],
             [
              0.6666666666666666,
              "#ed7953"
             ],
             [
              0.7777777777777778,
              "#fb9f3a"
             ],
             [
              0.8888888888888888,
              "#fdca26"
             ],
             [
              1,
              "#f0f921"
             ]
            ],
            "type": "histogram2d"
           }
          ],
          "histogram2dcontour": [
           {
            "colorbar": {
             "outlinewidth": 0,
             "ticks": ""
            },
            "colorscale": [
             [
              0,
              "#0d0887"
             ],
             [
              0.1111111111111111,
              "#46039f"
             ],
             [
              0.2222222222222222,
              "#7201a8"
             ],
             [
              0.3333333333333333,
              "#9c179e"
             ],
             [
              0.4444444444444444,
              "#bd3786"
             ],
             [
              0.5555555555555556,
              "#d8576b"
             ],
             [
              0.6666666666666666,
              "#ed7953"
             ],
             [
              0.7777777777777778,
              "#fb9f3a"
             ],
             [
              0.8888888888888888,
              "#fdca26"
             ],
             [
              1,
              "#f0f921"
             ]
            ],
            "type": "histogram2dcontour"
           }
          ],
          "mesh3d": [
           {
            "colorbar": {
             "outlinewidth": 0,
             "ticks": ""
            },
            "type": "mesh3d"
           }
          ],
          "parcoords": [
           {
            "line": {
             "colorbar": {
              "outlinewidth": 0,
              "ticks": ""
             }
            },
            "type": "parcoords"
           }
          ],
          "pie": [
           {
            "automargin": true,
            "type": "pie"
           }
          ],
          "scatter": [
           {
            "fillpattern": {
             "fillmode": "overlay",
             "size": 10,
             "solidity": 0.2
            },
            "type": "scatter"
           }
          ],
          "scatter3d": [
           {
            "line": {
             "colorbar": {
              "outlinewidth": 0,
              "ticks": ""
             }
            },
            "marker": {
             "colorbar": {
              "outlinewidth": 0,
              "ticks": ""
             }
            },
            "type": "scatter3d"
           }
          ],
          "scattercarpet": [
           {
            "marker": {
             "colorbar": {
              "outlinewidth": 0,
              "ticks": ""
             }
            },
            "type": "scattercarpet"
           }
          ],
          "scattergeo": [
           {
            "marker": {
             "colorbar": {
              "outlinewidth": 0,
              "ticks": ""
             }
            },
            "type": "scattergeo"
           }
          ],
          "scattergl": [
           {
            "marker": {
             "colorbar": {
              "outlinewidth": 0,
              "ticks": ""
             }
            },
            "type": "scattergl"
           }
          ],
          "scattermapbox": [
           {
            "marker": {
             "colorbar": {
              "outlinewidth": 0,
              "ticks": ""
             }
            },
            "type": "scattermapbox"
           }
          ],
          "scatterpolar": [
           {
            "marker": {
             "colorbar": {
              "outlinewidth": 0,
              "ticks": ""
             }
            },
            "type": "scatterpolar"
           }
          ],
          "scatterpolargl": [
           {
            "marker": {
             "colorbar": {
              "outlinewidth": 0,
              "ticks": ""
             }
            },
            "type": "scatterpolargl"
           }
          ],
          "scatterternary": [
           {
            "marker": {
             "colorbar": {
              "outlinewidth": 0,
              "ticks": ""
             }
            },
            "type": "scatterternary"
           }
          ],
          "surface": [
           {
            "colorbar": {
             "outlinewidth": 0,
             "ticks": ""
            },
            "colorscale": [
             [
              0,
              "#0d0887"
             ],
             [
              0.1111111111111111,
              "#46039f"
             ],
             [
              0.2222222222222222,
              "#7201a8"
             ],
             [
              0.3333333333333333,
              "#9c179e"
             ],
             [
              0.4444444444444444,
              "#bd3786"
             ],
             [
              0.5555555555555556,
              "#d8576b"
             ],
             [
              0.6666666666666666,
              "#ed7953"
             ],
             [
              0.7777777777777778,
              "#fb9f3a"
             ],
             [
              0.8888888888888888,
              "#fdca26"
             ],
             [
              1,
              "#f0f921"
             ]
            ],
            "type": "surface"
           }
          ],
          "table": [
           {
            "cells": {
             "fill": {
              "color": "#EBF0F8"
             },
             "line": {
              "color": "white"
             }
            },
            "header": {
             "fill": {
              "color": "#C8D4E3"
             },
             "line": {
              "color": "white"
             }
            },
            "type": "table"
           }
          ]
         },
         "layout": {
          "annotationdefaults": {
           "arrowcolor": "#2a3f5f",
           "arrowhead": 0,
           "arrowwidth": 1
          },
          "autotypenumbers": "strict",
          "coloraxis": {
           "colorbar": {
            "outlinewidth": 0,
            "ticks": ""
           }
          },
          "colorscale": {
           "diverging": [
            [
             0,
             "#8e0152"
            ],
            [
             0.1,
             "#c51b7d"
            ],
            [
             0.2,
             "#de77ae"
            ],
            [
             0.3,
             "#f1b6da"
            ],
            [
             0.4,
             "#fde0ef"
            ],
            [
             0.5,
             "#f7f7f7"
            ],
            [
             0.6,
             "#e6f5d0"
            ],
            [
             0.7,
             "#b8e186"
            ],
            [
             0.8,
             "#7fbc41"
            ],
            [
             0.9,
             "#4d9221"
            ],
            [
             1,
             "#276419"
            ]
           ],
           "sequential": [
            [
             0,
             "#0d0887"
            ],
            [
             0.1111111111111111,
             "#46039f"
            ],
            [
             0.2222222222222222,
             "#7201a8"
            ],
            [
             0.3333333333333333,
             "#9c179e"
            ],
            [
             0.4444444444444444,
             "#bd3786"
            ],
            [
             0.5555555555555556,
             "#d8576b"
            ],
            [
             0.6666666666666666,
             "#ed7953"
            ],
            [
             0.7777777777777778,
             "#fb9f3a"
            ],
            [
             0.8888888888888888,
             "#fdca26"
            ],
            [
             1,
             "#f0f921"
            ]
           ],
           "sequentialminus": [
            [
             0,
             "#0d0887"
            ],
            [
             0.1111111111111111,
             "#46039f"
            ],
            [
             0.2222222222222222,
             "#7201a8"
            ],
            [
             0.3333333333333333,
             "#9c179e"
            ],
            [
             0.4444444444444444,
             "#bd3786"
            ],
            [
             0.5555555555555556,
             "#d8576b"
            ],
            [
             0.6666666666666666,
             "#ed7953"
            ],
            [
             0.7777777777777778,
             "#fb9f3a"
            ],
            [
             0.8888888888888888,
             "#fdca26"
            ],
            [
             1,
             "#f0f921"
            ]
           ]
          },
          "colorway": [
           "#636efa",
           "#EF553B",
           "#00cc96",
           "#ab63fa",
           "#FFA15A",
           "#19d3f3",
           "#FF6692",
           "#B6E880",
           "#FF97FF",
           "#FECB52"
          ],
          "font": {
           "color": "#2a3f5f"
          },
          "geo": {
           "bgcolor": "white",
           "lakecolor": "white",
           "landcolor": "#E5ECF6",
           "showlakes": true,
           "showland": true,
           "subunitcolor": "white"
          },
          "hoverlabel": {
           "align": "left"
          },
          "hovermode": "closest",
          "mapbox": {
           "style": "light"
          },
          "paper_bgcolor": "white",
          "plot_bgcolor": "#E5ECF6",
          "polar": {
           "angularaxis": {
            "gridcolor": "white",
            "linecolor": "white",
            "ticks": ""
           },
           "bgcolor": "#E5ECF6",
           "radialaxis": {
            "gridcolor": "white",
            "linecolor": "white",
            "ticks": ""
           }
          },
          "scene": {
           "xaxis": {
            "backgroundcolor": "#E5ECF6",
            "gridcolor": "white",
            "gridwidth": 2,
            "linecolor": "white",
            "showbackground": true,
            "ticks": "",
            "zerolinecolor": "white"
           },
           "yaxis": {
            "backgroundcolor": "#E5ECF6",
            "gridcolor": "white",
            "gridwidth": 2,
            "linecolor": "white",
            "showbackground": true,
            "ticks": "",
            "zerolinecolor": "white"
           },
           "zaxis": {
            "backgroundcolor": "#E5ECF6",
            "gridcolor": "white",
            "gridwidth": 2,
            "linecolor": "white",
            "showbackground": true,
            "ticks": "",
            "zerolinecolor": "white"
           }
          },
          "shapedefaults": {
           "line": {
            "color": "#2a3f5f"
           }
          },
          "ternary": {
           "aaxis": {
            "gridcolor": "white",
            "linecolor": "white",
            "ticks": ""
           },
           "baxis": {
            "gridcolor": "white",
            "linecolor": "white",
            "ticks": ""
           },
           "bgcolor": "#E5ECF6",
           "caxis": {
            "gridcolor": "white",
            "linecolor": "white",
            "ticks": ""
           }
          },
          "title": {
           "x": 0.05
          },
          "xaxis": {
           "automargin": true,
           "gridcolor": "white",
           "linecolor": "white",
           "ticks": "",
           "title": {
            "standoff": 15
           },
           "zerolinecolor": "white",
           "zerolinewidth": 2
          },
          "yaxis": {
           "automargin": true,
           "gridcolor": "white",
           "linecolor": "white",
           "ticks": "",
           "title": {
            "standoff": 15
           },
           "zerolinecolor": "white",
           "zerolinewidth": 2
          }
         }
        },
        "title": {
         "text": "Hourly Bluebike Trips Near Hawes Burying Ground"
        },
        "width": 800
       }
      }
     },
     "metadata": {},
     "output_type": "display_data"
    },
    {
     "name": "stdout",
     "output_type": "stream",
     "text": [
      "3 nearest stations to Peter Looney Park: Main St at Thompson Sq, Main St at Austin St, Bunker Hill Community College\n"
     ]
    },
    {
     "name": "stderr",
     "output_type": "stream",
     "text": [
      "/Users/henrywu/opt/anaconda3/lib/python3.9/site-packages/plotly/express/_core.py:271: FutureWarning:\n",
      "\n",
      "The frame.append method is deprecated and will be removed from pandas in a future version. Use pandas.concat instead.\n",
      "\n",
      "/Users/henrywu/opt/anaconda3/lib/python3.9/site-packages/plotly/express/_core.py:271: FutureWarning:\n",
      "\n",
      "The frame.append method is deprecated and will be removed from pandas in a future version. Use pandas.concat instead.\n",
      "\n",
      "/Users/henrywu/opt/anaconda3/lib/python3.9/site-packages/plotly/express/_core.py:271: FutureWarning:\n",
      "\n",
      "The frame.append method is deprecated and will be removed from pandas in a future version. Use pandas.concat instead.\n",
      "\n",
      "/Users/henrywu/opt/anaconda3/lib/python3.9/site-packages/plotly/express/_core.py:271: FutureWarning:\n",
      "\n",
      "The frame.append method is deprecated and will be removed from pandas in a future version. Use pandas.concat instead.\n",
      "\n"
     ]
    },
    {
     "data": {
      "application/vnd.plotly.v1+json": {
       "config": {
        "plotlyServerURL": "https://plot.ly"
       },
       "data": [
        {
         "customdata": [
          [
           0.7679324894514767,
           7.5
          ],
          [
           0.4356540084388186,
           22.5
          ],
          [
           0.290084388185654,
           37.5
          ],
          [
           0.20358649789029537,
           52.5
          ],
          [
           0.17932489451476794,
           67.5
          ],
          [
           0.6603375527426161,
           82.5
          ],
          [
           3.0780590717299576,
           97.5
          ],
          [
           7.737341772151899,
           112.5
          ],
          [
           12.682489451476794,
           127.5
          ],
          [
           4.205696202531645,
           142.5
          ],
          [
           2.8259493670886076,
           157.5
          ],
          [
           3.4820675105485233,
           172.5
          ],
          [
           4.772151898734177,
           187.5
          ],
          [
           3.710970464135021,
           202.5
          ],
          [
           3.3565400843881856,
           217.5
          ],
          [
           3.6244725738396624,
           232.5
          ],
          [
           4.163502109704641,
           247.5
          ],
          [
           5.666666666666667,
           262.5
          ],
          [
           5.039029535864979,
           277.5
          ],
          [
           3.6751054852320677,
           292.5
          ],
          [
           3.0337552742616034,
           307.5
          ],
          [
           2.669831223628692,
           322.5
          ],
          [
           2.0432489451476794,
           337.5
          ],
          [
           1.3080168776371308,
           352.5
          ],
          [
           0.7679324894514767,
           7.5
          ]
         ],
         "hovertemplate": "Day Type=Weekday<br>Trip Type=Departures<br>Trips=%{customdata[0]:.2f}<extra></extra>",
         "legendgroup": "Weekday, Departures",
         "line": {
          "color": "#636efa",
          "dash": "solid"
         },
         "marker": {
          "symbol": "circle"
         },
         "mode": "lines",
         "name": "Weekday, Departures",
         "r": [
          0.7679324894514767,
          0.4356540084388186,
          0.290084388185654,
          0.20358649789029537,
          0.17932489451476794,
          0.6603375527426161,
          3.0780590717299576,
          7.737341772151899,
          12.682489451476794,
          4.205696202531645,
          2.8259493670886076,
          3.4820675105485233,
          4.772151898734177,
          3.710970464135021,
          3.3565400843881856,
          3.6244725738396624,
          4.163502109704641,
          5.666666666666667,
          5.039029535864979,
          3.6751054852320677,
          3.0337552742616034,
          2.669831223628692,
          2.0432489451476794,
          1.3080168776371308,
          0.7679324894514767
         ],
         "showlegend": true,
         "subplot": "polar",
         "theta": [
          7.5,
          22.5,
          37.5,
          52.5,
          67.5,
          82.5,
          97.5,
          112.5,
          127.5,
          142.5,
          157.5,
          172.5,
          187.5,
          202.5,
          217.5,
          232.5,
          247.5,
          262.5,
          277.5,
          292.5,
          307.5,
          322.5,
          337.5,
          352.5,
          7.5
         ],
         "type": "scatterpolar"
        },
        {
         "customdata": [
          [
           1.089662447257384,
           7.5
          ],
          [
           0.6149789029535865,
           22.5
          ],
          [
           0.45147679324894513,
           37.5
          ],
          [
           0.3143459915611814,
           52.5
          ],
          [
           0.18143459915611815,
           67.5
          ],
          [
           0.3059071729957806,
           82.5
          ],
          [
           0.5274261603375527,
           97.5
          ],
          [
           1.6729957805907174,
           112.5
          ],
          [
           2.2151898734177213,
           127.5
          ],
          [
           1.8449367088607596,
           142.5
          ],
          [
           1.4957805907172996,
           157.5
          ],
          [
           2.2647679324894514,
           172.5
          ],
          [
           3.1677215189873418,
           187.5
          ],
          [
           3.0875527426160336,
           202.5
          ],
          [
           3.6128691983122363,
           217.5
          ],
          [
           4.3164556962025316,
           232.5
          ],
          [
           7.864978902953586,
           247.5
          ],
          [
           12.98945147679325,
           262.5
          ],
          [
           8.665611814345992,
           277.5
          ],
          [
           5.128691983122363,
           292.5
          ],
          [
           3.7278481012658227,
           307.5
          ],
          [
           3.892405063291139,
           322.5
          ],
          [
           3.149789029535865,
           337.5
          ],
          [
           2.1835443037974684,
           352.5
          ],
          [
           1.089662447257384,
           7.5
          ]
         ],
         "hovertemplate": "Day Type=Weekday<br>Trip Type=Arrivals<br>Trips=%{customdata[0]:.2f}<extra></extra>",
         "legendgroup": "Weekday, Arrivals",
         "line": {
          "color": "#636efa",
          "dash": "dot"
         },
         "marker": {
          "symbol": "circle"
         },
         "mode": "lines",
         "name": "Weekday, Arrivals",
         "r": [
          1.089662447257384,
          0.6149789029535865,
          0.45147679324894513,
          0.3143459915611814,
          0.18143459915611815,
          0.3059071729957806,
          0.5274261603375527,
          1.6729957805907174,
          2.2151898734177213,
          1.8449367088607596,
          1.4957805907172996,
          2.2647679324894514,
          3.1677215189873418,
          3.0875527426160336,
          3.6128691983122363,
          4.3164556962025316,
          7.864978902953586,
          12.98945147679325,
          8.665611814345992,
          5.128691983122363,
          3.7278481012658227,
          3.892405063291139,
          3.149789029535865,
          2.1835443037974684,
          1.089662447257384
         ],
         "showlegend": true,
         "subplot": "polar",
         "theta": [
          7.5,
          22.5,
          37.5,
          52.5,
          67.5,
          82.5,
          97.5,
          112.5,
          127.5,
          142.5,
          157.5,
          172.5,
          187.5,
          202.5,
          217.5,
          232.5,
          247.5,
          262.5,
          277.5,
          292.5,
          307.5,
          322.5,
          337.5,
          352.5,
          7.5
         ],
         "type": "scatterpolar"
        },
        {
         "customdata": [
          [
           0.4440928270042194,
           7.5
          ],
          [
           0.3681434599156118,
           22.5
          ],
          [
           0.25843881856540085,
           37.5
          ],
          [
           0.17616033755274263,
           52.5
          ],
          [
           0.12869198312236288,
           67.5
          ],
          [
           0.16139240506329114,
           82.5
          ],
          [
           0.16455696202531644,
           97.5
          ],
          [
           0.25316455696202533,
           112.5
          ],
          [
           0.5611814345991561,
           127.5
          ],
          [
           0.8080168776371308,
           142.5
          ],
          [
           1.0654008438818565,
           157.5
          ],
          [
           1.4135021097046414,
           172.5
          ],
          [
           1.7668776371308017,
           187.5
          ],
          [
           1.8850210970464134,
           202.5
          ],
          [
           2.028481012658228,
           217.5
          ],
          [
           2.220464135021097,
           232.5
          ],
          [
           2.080168776371308,
           247.5
          ],
          [
           1.9641350210970465,
           262.5
          ],
          [
           1.7584388185654007,
           277.5
          ],
          [
           1.4135021097046414,
           292.5
          ],
          [
           1.0421940928270041,
           307.5
          ],
          [
           0.8523206751054853,
           322.5
          ],
          [
           0.6740506329113924,
           337.5
          ],
          [
           0.5147679324894515,
           352.5
          ],
          [
           0.4440928270042194,
           7.5
          ]
         ],
         "hovertemplate": "Day Type=Weekend<br>Trip Type=Departures<br>Trips=%{customdata[0]:.2f}<extra></extra>",
         "legendgroup": "Weekend, Departures",
         "line": {
          "color": "#EF553B",
          "dash": "solid"
         },
         "marker": {
          "symbol": "circle"
         },
         "mode": "lines",
         "name": "Weekend, Departures",
         "r": [
          0.4440928270042194,
          0.3681434599156118,
          0.25843881856540085,
          0.17616033755274263,
          0.12869198312236288,
          0.16139240506329114,
          0.16455696202531644,
          0.25316455696202533,
          0.5611814345991561,
          0.8080168776371308,
          1.0654008438818565,
          1.4135021097046414,
          1.7668776371308017,
          1.8850210970464134,
          2.028481012658228,
          2.220464135021097,
          2.080168776371308,
          1.9641350210970465,
          1.7584388185654007,
          1.4135021097046414,
          1.0421940928270041,
          0.8523206751054853,
          0.6740506329113924,
          0.5147679324894515,
          0.4440928270042194
         ],
         "showlegend": true,
         "subplot": "polar",
         "theta": [
          7.5,
          22.5,
          37.5,
          52.5,
          67.5,
          82.5,
          97.5,
          112.5,
          127.5,
          142.5,
          157.5,
          172.5,
          187.5,
          202.5,
          217.5,
          232.5,
          247.5,
          262.5,
          277.5,
          292.5,
          307.5,
          322.5,
          337.5,
          352.5,
          7.5
         ],
         "type": "scatterpolar"
        },
        {
         "customdata": [
          [
           0.5527426160337553,
           7.5
          ],
          [
           0.3860759493670886,
           22.5
          ],
          [
           0.3259493670886076,
           37.5
          ],
          [
           0.270042194092827,
           52.5
          ],
          [
           0.22679324894514769,
           67.5
          ],
          [
           0.23839662447257384,
           82.5
          ],
          [
           0.14135021097046413,
           97.5
          ],
          [
           0.20464135021097046,
           112.5
          ],
          [
           0.33755274261603374,
           127.5
          ],
          [
           0.5959915611814346,
           142.5
          ],
          [
           0.9240506329113924,
           157.5
          ],
          [
           1.130801687763713,
           172.5
          ],
          [
           1.3386075949367089,
           187.5
          ],
          [
           1.5369198312236287,
           202.5
          ],
          [
           1.621308016877637,
           217.5
          ],
          [
           1.8090717299578059,
           232.5
          ],
          [
           1.879746835443038,
           247.5
          ],
          [
           1.7974683544303798,
           262.5
          ],
          [
           1.5864978902953586,
           277.5
          ],
          [
           1.3829113924050633,
           292.5
          ],
          [
           1.021097046413502,
           307.5
          ],
          [
           0.8765822784810127,
           322.5
          ],
          [
           0.6381856540084389,
           337.5
          ],
          [
           0.6719409282700421,
           352.5
          ],
          [
           0.5527426160337553,
           7.5
          ]
         ],
         "hovertemplate": "Day Type=Weekend<br>Trip Type=Arrivals<br>Trips=%{customdata[0]:.2f}<extra></extra>",
         "legendgroup": "Weekend, Arrivals",
         "line": {
          "color": "#EF553B",
          "dash": "dot"
         },
         "marker": {
          "symbol": "circle"
         },
         "mode": "lines",
         "name": "Weekend, Arrivals",
         "r": [
          0.5527426160337553,
          0.3860759493670886,
          0.3259493670886076,
          0.270042194092827,
          0.22679324894514769,
          0.23839662447257384,
          0.14135021097046413,
          0.20464135021097046,
          0.33755274261603374,
          0.5959915611814346,
          0.9240506329113924,
          1.130801687763713,
          1.3386075949367089,
          1.5369198312236287,
          1.621308016877637,
          1.8090717299578059,
          1.879746835443038,
          1.7974683544303798,
          1.5864978902953586,
          1.3829113924050633,
          1.021097046413502,
          0.8765822784810127,
          0.6381856540084389,
          0.6719409282700421,
          0.5527426160337553
         ],
         "showlegend": true,
         "subplot": "polar",
         "theta": [
          7.5,
          22.5,
          37.5,
          52.5,
          67.5,
          82.5,
          97.5,
          112.5,
          127.5,
          142.5,
          157.5,
          172.5,
          187.5,
          202.5,
          217.5,
          232.5,
          247.5,
          262.5,
          277.5,
          292.5,
          307.5,
          322.5,
          337.5,
          352.5,
          7.5
         ],
         "type": "scatterpolar"
        }
       ],
       "layout": {
        "height": 600,
        "legend": {
         "title": {
          "text": ""
         },
         "tracegroupgap": 0
        },
        "margin": {
         "b": 25,
         "l": 0,
         "r": 0,
         "t": 50
        },
        "polar": {
         "angularaxis": {
          "direction": "clockwise",
          "rotation": -90,
          "tickmode": "array",
          "ticktext": [
           "12 AM",
           "1 AM",
           "2 AM",
           "3 AM",
           "4 AM",
           "5 AM",
           "6 AM",
           "7 AM",
           "8 AM",
           "9 AM",
           "10 AM",
           "11 AM",
           "12 PM",
           "1 PM",
           "2 PM",
           "3 PM",
           "4 PM",
           "5 PM",
           "6 PM",
           "7 PM",
           "8 PM",
           "9 PM",
           "10 PM",
           "11 PM"
          ],
          "tickvals": [
           0,
           15,
           30,
           45,
           60,
           75,
           90,
           105,
           120,
           135,
           150,
           165,
           180,
           195,
           210,
           225,
           240,
           255,
           270,
           285,
           300,
           315,
           330,
           345
          ]
         },
         "domain": {
          "x": [
           0,
           1
          ],
          "y": [
           0,
           1
          ]
         }
        },
        "template": {
         "data": {
          "bar": [
           {
            "error_x": {
             "color": "#2a3f5f"
            },
            "error_y": {
             "color": "#2a3f5f"
            },
            "marker": {
             "line": {
              "color": "#E5ECF6",
              "width": 0.5
             },
             "pattern": {
              "fillmode": "overlay",
              "size": 10,
              "solidity": 0.2
             }
            },
            "type": "bar"
           }
          ],
          "barpolar": [
           {
            "marker": {
             "line": {
              "color": "#E5ECF6",
              "width": 0.5
             },
             "pattern": {
              "fillmode": "overlay",
              "size": 10,
              "solidity": 0.2
             }
            },
            "type": "barpolar"
           }
          ],
          "carpet": [
           {
            "aaxis": {
             "endlinecolor": "#2a3f5f",
             "gridcolor": "white",
             "linecolor": "white",
             "minorgridcolor": "white",
             "startlinecolor": "#2a3f5f"
            },
            "baxis": {
             "endlinecolor": "#2a3f5f",
             "gridcolor": "white",
             "linecolor": "white",
             "minorgridcolor": "white",
             "startlinecolor": "#2a3f5f"
            },
            "type": "carpet"
           }
          ],
          "choropleth": [
           {
            "colorbar": {
             "outlinewidth": 0,
             "ticks": ""
            },
            "type": "choropleth"
           }
          ],
          "contour": [
           {
            "colorbar": {
             "outlinewidth": 0,
             "ticks": ""
            },
            "colorscale": [
             [
              0,
              "#0d0887"
             ],
             [
              0.1111111111111111,
              "#46039f"
             ],
             [
              0.2222222222222222,
              "#7201a8"
             ],
             [
              0.3333333333333333,
              "#9c179e"
             ],
             [
              0.4444444444444444,
              "#bd3786"
             ],
             [
              0.5555555555555556,
              "#d8576b"
             ],
             [
              0.6666666666666666,
              "#ed7953"
             ],
             [
              0.7777777777777778,
              "#fb9f3a"
             ],
             [
              0.8888888888888888,
              "#fdca26"
             ],
             [
              1,
              "#f0f921"
             ]
            ],
            "type": "contour"
           }
          ],
          "contourcarpet": [
           {
            "colorbar": {
             "outlinewidth": 0,
             "ticks": ""
            },
            "type": "contourcarpet"
           }
          ],
          "heatmap": [
           {
            "colorbar": {
             "outlinewidth": 0,
             "ticks": ""
            },
            "colorscale": [
             [
              0,
              "#0d0887"
             ],
             [
              0.1111111111111111,
              "#46039f"
             ],
             [
              0.2222222222222222,
              "#7201a8"
             ],
             [
              0.3333333333333333,
              "#9c179e"
             ],
             [
              0.4444444444444444,
              "#bd3786"
             ],
             [
              0.5555555555555556,
              "#d8576b"
             ],
             [
              0.6666666666666666,
              "#ed7953"
             ],
             [
              0.7777777777777778,
              "#fb9f3a"
             ],
             [
              0.8888888888888888,
              "#fdca26"
             ],
             [
              1,
              "#f0f921"
             ]
            ],
            "type": "heatmap"
           }
          ],
          "heatmapgl": [
           {
            "colorbar": {
             "outlinewidth": 0,
             "ticks": ""
            },
            "colorscale": [
             [
              0,
              "#0d0887"
             ],
             [
              0.1111111111111111,
              "#46039f"
             ],
             [
              0.2222222222222222,
              "#7201a8"
             ],
             [
              0.3333333333333333,
              "#9c179e"
             ],
             [
              0.4444444444444444,
              "#bd3786"
             ],
             [
              0.5555555555555556,
              "#d8576b"
             ],
             [
              0.6666666666666666,
              "#ed7953"
             ],
             [
              0.7777777777777778,
              "#fb9f3a"
             ],
             [
              0.8888888888888888,
              "#fdca26"
             ],
             [
              1,
              "#f0f921"
             ]
            ],
            "type": "heatmapgl"
           }
          ],
          "histogram": [
           {
            "marker": {
             "pattern": {
              "fillmode": "overlay",
              "size": 10,
              "solidity": 0.2
             }
            },
            "type": "histogram"
           }
          ],
          "histogram2d": [
           {
            "colorbar": {
             "outlinewidth": 0,
             "ticks": ""
            },
            "colorscale": [
             [
              0,
              "#0d0887"
             ],
             [
              0.1111111111111111,
              "#46039f"
             ],
             [
              0.2222222222222222,
              "#7201a8"
             ],
             [
              0.3333333333333333,
              "#9c179e"
             ],
             [
              0.4444444444444444,
              "#bd3786"
             ],
             [
              0.5555555555555556,
              "#d8576b"
             ],
             [
              0.6666666666666666,
              "#ed7953"
             ],
             [
              0.7777777777777778,
              "#fb9f3a"
             ],
             [
              0.8888888888888888,
              "#fdca26"
             ],
             [
              1,
              "#f0f921"
             ]
            ],
            "type": "histogram2d"
           }
          ],
          "histogram2dcontour": [
           {
            "colorbar": {
             "outlinewidth": 0,
             "ticks": ""
            },
            "colorscale": [
             [
              0,
              "#0d0887"
             ],
             [
              0.1111111111111111,
              "#46039f"
             ],
             [
              0.2222222222222222,
              "#7201a8"
             ],
             [
              0.3333333333333333,
              "#9c179e"
             ],
             [
              0.4444444444444444,
              "#bd3786"
             ],
             [
              0.5555555555555556,
              "#d8576b"
             ],
             [
              0.6666666666666666,
              "#ed7953"
             ],
             [
              0.7777777777777778,
              "#fb9f3a"
             ],
             [
              0.8888888888888888,
              "#fdca26"
             ],
             [
              1,
              "#f0f921"
             ]
            ],
            "type": "histogram2dcontour"
           }
          ],
          "mesh3d": [
           {
            "colorbar": {
             "outlinewidth": 0,
             "ticks": ""
            },
            "type": "mesh3d"
           }
          ],
          "parcoords": [
           {
            "line": {
             "colorbar": {
              "outlinewidth": 0,
              "ticks": ""
             }
            },
            "type": "parcoords"
           }
          ],
          "pie": [
           {
            "automargin": true,
            "type": "pie"
           }
          ],
          "scatter": [
           {
            "fillpattern": {
             "fillmode": "overlay",
             "size": 10,
             "solidity": 0.2
            },
            "type": "scatter"
           }
          ],
          "scatter3d": [
           {
            "line": {
             "colorbar": {
              "outlinewidth": 0,
              "ticks": ""
             }
            },
            "marker": {
             "colorbar": {
              "outlinewidth": 0,
              "ticks": ""
             }
            },
            "type": "scatter3d"
           }
          ],
          "scattercarpet": [
           {
            "marker": {
             "colorbar": {
              "outlinewidth": 0,
              "ticks": ""
             }
            },
            "type": "scattercarpet"
           }
          ],
          "scattergeo": [
           {
            "marker": {
             "colorbar": {
              "outlinewidth": 0,
              "ticks": ""
             }
            },
            "type": "scattergeo"
           }
          ],
          "scattergl": [
           {
            "marker": {
             "colorbar": {
              "outlinewidth": 0,
              "ticks": ""
             }
            },
            "type": "scattergl"
           }
          ],
          "scattermapbox": [
           {
            "marker": {
             "colorbar": {
              "outlinewidth": 0,
              "ticks": ""
             }
            },
            "type": "scattermapbox"
           }
          ],
          "scatterpolar": [
           {
            "marker": {
             "colorbar": {
              "outlinewidth": 0,
              "ticks": ""
             }
            },
            "type": "scatterpolar"
           }
          ],
          "scatterpolargl": [
           {
            "marker": {
             "colorbar": {
              "outlinewidth": 0,
              "ticks": ""
             }
            },
            "type": "scatterpolargl"
           }
          ],
          "scatterternary": [
           {
            "marker": {
             "colorbar": {
              "outlinewidth": 0,
              "ticks": ""
             }
            },
            "type": "scatterternary"
           }
          ],
          "surface": [
           {
            "colorbar": {
             "outlinewidth": 0,
             "ticks": ""
            },
            "colorscale": [
             [
              0,
              "#0d0887"
             ],
             [
              0.1111111111111111,
              "#46039f"
             ],
             [
              0.2222222222222222,
              "#7201a8"
             ],
             [
              0.3333333333333333,
              "#9c179e"
             ],
             [
              0.4444444444444444,
              "#bd3786"
             ],
             [
              0.5555555555555556,
              "#d8576b"
             ],
             [
              0.6666666666666666,
              "#ed7953"
             ],
             [
              0.7777777777777778,
              "#fb9f3a"
             ],
             [
              0.8888888888888888,
              "#fdca26"
             ],
             [
              1,
              "#f0f921"
             ]
            ],
            "type": "surface"
           }
          ],
          "table": [
           {
            "cells": {
             "fill": {
              "color": "#EBF0F8"
             },
             "line": {
              "color": "white"
             }
            },
            "header": {
             "fill": {
              "color": "#C8D4E3"
             },
             "line": {
              "color": "white"
             }
            },
            "type": "table"
           }
          ]
         },
         "layout": {
          "annotationdefaults": {
           "arrowcolor": "#2a3f5f",
           "arrowhead": 0,
           "arrowwidth": 1
          },
          "autotypenumbers": "strict",
          "coloraxis": {
           "colorbar": {
            "outlinewidth": 0,
            "ticks": ""
           }
          },
          "colorscale": {
           "diverging": [
            [
             0,
             "#8e0152"
            ],
            [
             0.1,
             "#c51b7d"
            ],
            [
             0.2,
             "#de77ae"
            ],
            [
             0.3,
             "#f1b6da"
            ],
            [
             0.4,
             "#fde0ef"
            ],
            [
             0.5,
             "#f7f7f7"
            ],
            [
             0.6,
             "#e6f5d0"
            ],
            [
             0.7,
             "#b8e186"
            ],
            [
             0.8,
             "#7fbc41"
            ],
            [
             0.9,
             "#4d9221"
            ],
            [
             1,
             "#276419"
            ]
           ],
           "sequential": [
            [
             0,
             "#0d0887"
            ],
            [
             0.1111111111111111,
             "#46039f"
            ],
            [
             0.2222222222222222,
             "#7201a8"
            ],
            [
             0.3333333333333333,
             "#9c179e"
            ],
            [
             0.4444444444444444,
             "#bd3786"
            ],
            [
             0.5555555555555556,
             "#d8576b"
            ],
            [
             0.6666666666666666,
             "#ed7953"
            ],
            [
             0.7777777777777778,
             "#fb9f3a"
            ],
            [
             0.8888888888888888,
             "#fdca26"
            ],
            [
             1,
             "#f0f921"
            ]
           ],
           "sequentialminus": [
            [
             0,
             "#0d0887"
            ],
            [
             0.1111111111111111,
             "#46039f"
            ],
            [
             0.2222222222222222,
             "#7201a8"
            ],
            [
             0.3333333333333333,
             "#9c179e"
            ],
            [
             0.4444444444444444,
             "#bd3786"
            ],
            [
             0.5555555555555556,
             "#d8576b"
            ],
            [
             0.6666666666666666,
             "#ed7953"
            ],
            [
             0.7777777777777778,
             "#fb9f3a"
            ],
            [
             0.8888888888888888,
             "#fdca26"
            ],
            [
             1,
             "#f0f921"
            ]
           ]
          },
          "colorway": [
           "#636efa",
           "#EF553B",
           "#00cc96",
           "#ab63fa",
           "#FFA15A",
           "#19d3f3",
           "#FF6692",
           "#B6E880",
           "#FF97FF",
           "#FECB52"
          ],
          "font": {
           "color": "#2a3f5f"
          },
          "geo": {
           "bgcolor": "white",
           "lakecolor": "white",
           "landcolor": "#E5ECF6",
           "showlakes": true,
           "showland": true,
           "subunitcolor": "white"
          },
          "hoverlabel": {
           "align": "left"
          },
          "hovermode": "closest",
          "mapbox": {
           "style": "light"
          },
          "paper_bgcolor": "white",
          "plot_bgcolor": "#E5ECF6",
          "polar": {
           "angularaxis": {
            "gridcolor": "white",
            "linecolor": "white",
            "ticks": ""
           },
           "bgcolor": "#E5ECF6",
           "radialaxis": {
            "gridcolor": "white",
            "linecolor": "white",
            "ticks": ""
           }
          },
          "scene": {
           "xaxis": {
            "backgroundcolor": "#E5ECF6",
            "gridcolor": "white",
            "gridwidth": 2,
            "linecolor": "white",
            "showbackground": true,
            "ticks": "",
            "zerolinecolor": "white"
           },
           "yaxis": {
            "backgroundcolor": "#E5ECF6",
            "gridcolor": "white",
            "gridwidth": 2,
            "linecolor": "white",
            "showbackground": true,
            "ticks": "",
            "zerolinecolor": "white"
           },
           "zaxis": {
            "backgroundcolor": "#E5ECF6",
            "gridcolor": "white",
            "gridwidth": 2,
            "linecolor": "white",
            "showbackground": true,
            "ticks": "",
            "zerolinecolor": "white"
           }
          },
          "shapedefaults": {
           "line": {
            "color": "#2a3f5f"
           }
          },
          "ternary": {
           "aaxis": {
            "gridcolor": "white",
            "linecolor": "white",
            "ticks": ""
           },
           "baxis": {
            "gridcolor": "white",
            "linecolor": "white",
            "ticks": ""
           },
           "bgcolor": "#E5ECF6",
           "caxis": {
            "gridcolor": "white",
            "linecolor": "white",
            "ticks": ""
           }
          },
          "title": {
           "x": 0.05
          },
          "xaxis": {
           "automargin": true,
           "gridcolor": "white",
           "linecolor": "white",
           "ticks": "",
           "title": {
            "standoff": 15
           },
           "zerolinecolor": "white",
           "zerolinewidth": 2
          },
          "yaxis": {
           "automargin": true,
           "gridcolor": "white",
           "linecolor": "white",
           "ticks": "",
           "title": {
            "standoff": 15
           },
           "zerolinecolor": "white",
           "zerolinewidth": 2
          }
         }
        },
        "title": {
         "text": "Hourly Bluebike Trips Near Peter Looney Park"
        },
        "width": 800
       }
      }
     },
     "metadata": {},
     "output_type": "display_data"
    },
    {
     "name": "stdout",
     "output_type": "stream",
     "text": [
      "1 nearest station to Fire Alarm House Grounds: Christian Science Plaza - Massachusetts Ave at Westland Ave\n"
     ]
    },
    {
     "name": "stderr",
     "output_type": "stream",
     "text": [
      "/Users/henrywu/opt/anaconda3/lib/python3.9/site-packages/plotly/express/_core.py:271: FutureWarning:\n",
      "\n",
      "The frame.append method is deprecated and will be removed from pandas in a future version. Use pandas.concat instead.\n",
      "\n",
      "/Users/henrywu/opt/anaconda3/lib/python3.9/site-packages/plotly/express/_core.py:271: FutureWarning:\n",
      "\n",
      "The frame.append method is deprecated and will be removed from pandas in a future version. Use pandas.concat instead.\n",
      "\n",
      "/Users/henrywu/opt/anaconda3/lib/python3.9/site-packages/plotly/express/_core.py:271: FutureWarning:\n",
      "\n",
      "The frame.append method is deprecated and will be removed from pandas in a future version. Use pandas.concat instead.\n",
      "\n",
      "/Users/henrywu/opt/anaconda3/lib/python3.9/site-packages/plotly/express/_core.py:271: FutureWarning:\n",
      "\n",
      "The frame.append method is deprecated and will be removed from pandas in a future version. Use pandas.concat instead.\n",
      "\n"
     ]
    },
    {
     "data": {
      "application/vnd.plotly.v1+json": {
       "config": {
        "plotlyServerURL": "https://plot.ly"
       },
       "data": [
        {
         "customdata": [
          [
           3.3248945147679323,
           7.5
          ],
          [
           2.6033755274261603,
           22.5
          ],
          [
           2.2964135021097047,
           37.5
          ],
          [
           1.3481012658227849,
           52.5
          ],
          [
           0.8765822784810127,
           67.5
          ],
          [
           1.140295358649789,
           82.5
          ],
          [
           2.378691983122363,
           97.5
          ],
          [
           4.7858649789029535,
           112.5
          ],
          [
           8.468354430379748,
           127.5
          ],
          [
           5.421940928270042,
           142.5
          ],
          [
           4.050632911392405,
           157.5
          ],
          [
           4.931434599156118,
           172.5
          ],
          [
           6.393459915611814,
           187.5
          ],
          [
           6.5548523206751055,
           202.5
          ],
          [
           6.063291139240507,
           217.5
          ],
          [
           7.327004219409282,
           232.5
          ],
          [
           9.612869198312236,
           247.5
          ],
          [
           12.934599156118143,
           262.5
          ],
          [
           11.727848101265822,
           277.5
          ],
          [
           9.906118143459915,
           292.5
          ],
          [
           8.782700421940929,
           307.5
          ],
          [
           9.064345991561181,
           322.5
          ],
          [
           7.974683544303797,
           337.5
          ],
          [
           5.3618143459915615,
           352.5
          ],
          [
           3.3248945147679323,
           7.5
          ]
         ],
         "hovertemplate": "Day Type=Weekday<br>Trip Type=Departures<br>Trips=%{customdata[0]:.2f}<extra></extra>",
         "legendgroup": "Weekday, Departures",
         "line": {
          "color": "#636efa",
          "dash": "solid"
         },
         "marker": {
          "symbol": "circle"
         },
         "mode": "lines",
         "name": "Weekday, Departures",
         "r": [
          3.3248945147679323,
          2.6033755274261603,
          2.2964135021097047,
          1.3481012658227849,
          0.8765822784810127,
          1.140295358649789,
          2.378691983122363,
          4.7858649789029535,
          8.468354430379748,
          5.421940928270042,
          4.050632911392405,
          4.931434599156118,
          6.393459915611814,
          6.5548523206751055,
          6.063291139240507,
          7.327004219409282,
          9.612869198312236,
          12.934599156118143,
          11.727848101265822,
          9.906118143459915,
          8.782700421940929,
          9.064345991561181,
          7.974683544303797,
          5.3618143459915615,
          3.3248945147679323
         ],
         "showlegend": true,
         "subplot": "polar",
         "theta": [
          7.5,
          22.5,
          37.5,
          52.5,
          67.5,
          82.5,
          97.5,
          112.5,
          127.5,
          142.5,
          157.5,
          172.5,
          187.5,
          202.5,
          217.5,
          232.5,
          247.5,
          262.5,
          277.5,
          292.5,
          307.5,
          322.5,
          337.5,
          352.5,
          7.5
         ],
         "type": "scatterpolar"
        },
        {
         "customdata": [
          [
           3.6202531645569622,
           7.5
          ],
          [
           2.431434599156118,
           22.5
          ],
          [
           1.779535864978903,
           37.5
          ],
          [
           1.2109704641350212,
           52.5
          ],
          [
           0.79957805907173,
           67.5
          ],
          [
           0.679324894514768,
           82.5
          ],
          [
           1.1540084388185654,
           97.5
          ],
          [
           2.598101265822785,
           112.5
          ],
          [
           6.063291139240507,
           127.5
          ],
          [
           5.2542194092827,
           142.5
          ],
          [
           4.167721518987341,
           157.5
          ],
          [
           4.80801687763713,
           172.5
          ],
          [
           6.315400843881856,
           187.5
          ],
          [
           6.960970464135021,
           202.5
          ],
          [
           6.746835443037975,
           217.5
          ],
          [
           7.794303797468355,
           232.5
          ],
          [
           10.65928270042194,
           247.5
          ],
          [
           15.787974683544304,
           262.5
          ],
          [
           13.393459915611814,
           277.5
          ],
          [
           11.114978902953586,
           292.5
          ],
          [
           8.75210970464135,
           307.5
          ],
          [
           9.079113924050633,
           322.5
          ],
          [
           7.543248945147679,
           337.5
          ],
          [
           5.917721518987341,
           352.5
          ],
          [
           3.6202531645569622,
           7.5
          ]
         ],
         "hovertemplate": "Day Type=Weekday<br>Trip Type=Arrivals<br>Trips=%{customdata[0]:.2f}<extra></extra>",
         "legendgroup": "Weekday, Arrivals",
         "line": {
          "color": "#636efa",
          "dash": "dot"
         },
         "marker": {
          "symbol": "circle"
         },
         "mode": "lines",
         "name": "Weekday, Arrivals",
         "r": [
          3.6202531645569622,
          2.431434599156118,
          1.779535864978903,
          1.2109704641350212,
          0.79957805907173,
          0.679324894514768,
          1.1540084388185654,
          2.598101265822785,
          6.063291139240507,
          5.2542194092827,
          4.167721518987341,
          4.80801687763713,
          6.315400843881856,
          6.960970464135021,
          6.746835443037975,
          7.794303797468355,
          10.65928270042194,
          15.787974683544304,
          13.393459915611814,
          11.114978902953586,
          8.75210970464135,
          9.079113924050633,
          7.543248945147679,
          5.917721518987341,
          3.6202531645569622
         ],
         "showlegend": true,
         "subplot": "polar",
         "theta": [
          7.5,
          22.5,
          37.5,
          52.5,
          67.5,
          82.5,
          97.5,
          112.5,
          127.5,
          142.5,
          157.5,
          172.5,
          187.5,
          202.5,
          217.5,
          232.5,
          247.5,
          262.5,
          277.5,
          292.5,
          307.5,
          322.5,
          337.5,
          352.5,
          7.5
         ],
         "type": "scatterpolar"
        },
        {
         "customdata": [
          [
           1.8375527426160339,
           7.5
          ],
          [
           1.6339662447257384,
           22.5
          ],
          [
           1.2911392405063291,
           37.5
          ],
          [
           0.8924050632911392,
           52.5
          ],
          [
           0.6835443037974683,
           67.5
          ],
          [
           0.7763713080168776,
           82.5
          ],
          [
           0.7362869198312236,
           97.5
          ],
          [
           0.6086497890295358,
           112.5
          ],
          [
           0.9757383966244726,
           127.5
          ],
          [
           1.479957805907173,
           142.5
          ],
          [
           2.1265822784810124,
           157.5
          ],
          [
           2.6962025316455698,
           172.5
          ],
          [
           3.289029535864979,
           187.5
          ],
          [
           3.7183544303797467,
           202.5
          ],
          [
           4.0854430379746836,
           217.5
          ],
          [
           4.210970464135021,
           232.5
          ],
          [
           4.362869198312236,
           247.5
          ],
          [
           4.518987341772152,
           262.5
          ],
          [
           4.55379746835443,
           277.5
          ],
          [
           3.969409282700422,
           292.5
          ],
          [
           3.3639240506329116,
           307.5
          ],
          [
           3.1571729957805905,
           322.5
          ],
          [
           2.8860759493670884,
           337.5
          ],
          [
           2.188818565400844,
           352.5
          ],
          [
           1.8375527426160339,
           7.5
          ]
         ],
         "hovertemplate": "Day Type=Weekend<br>Trip Type=Departures<br>Trips=%{customdata[0]:.2f}<extra></extra>",
         "legendgroup": "Weekend, Departures",
         "line": {
          "color": "#EF553B",
          "dash": "solid"
         },
         "marker": {
          "symbol": "circle"
         },
         "mode": "lines",
         "name": "Weekend, Departures",
         "r": [
          1.8375527426160339,
          1.6339662447257384,
          1.2911392405063291,
          0.8924050632911392,
          0.6835443037974683,
          0.7763713080168776,
          0.7362869198312236,
          0.6086497890295358,
          0.9757383966244726,
          1.479957805907173,
          2.1265822784810124,
          2.6962025316455698,
          3.289029535864979,
          3.7183544303797467,
          4.0854430379746836,
          4.210970464135021,
          4.362869198312236,
          4.518987341772152,
          4.55379746835443,
          3.969409282700422,
          3.3639240506329116,
          3.1571729957805905,
          2.8860759493670884,
          2.188818565400844,
          1.8375527426160339
         ],
         "showlegend": true,
         "subplot": "polar",
         "theta": [
          7.5,
          22.5,
          37.5,
          52.5,
          67.5,
          82.5,
          97.5,
          112.5,
          127.5,
          142.5,
          157.5,
          172.5,
          187.5,
          202.5,
          217.5,
          232.5,
          247.5,
          262.5,
          277.5,
          292.5,
          307.5,
          322.5,
          337.5,
          352.5,
          7.5
         ],
         "type": "scatterpolar"
        },
        {
         "customdata": [
          [
           2.1012658227848102,
           7.5
          ],
          [
           1.8185654008438819,
           22.5
          ],
          [
           1.4293248945147679,
           37.5
          ],
          [
           0.9208860759493671,
           52.5
          ],
          [
           0.669831223628692,
           67.5
          ],
          [
           0.830168776371308,
           82.5
          ],
          [
           0.7014767932489452,
           97.5
          ],
          [
           0.5126582278481012,
           112.5
          ],
          [
           0.7732067510548524,
           127.5
          ],
          [
           1.1687763713080168,
           142.5
          ],
          [
           1.7067510548523206,
           157.5
          ],
          [
           2.479957805907173,
           172.5
          ],
          [
           3.079113924050633,
           187.5
          ],
          [
           3.6719409282700424,
           202.5
          ],
          [
           3.880801687763713,
           217.5
          ],
          [
           4.348101265822785,
           232.5
          ],
          [
           4.660337552742616,
           247.5
          ],
          [
           4.860759493670886,
           262.5
          ],
          [
           4.654008438818566,
           277.5
          ],
          [
           4.551687763713081,
           292.5
          ],
          [
           3.712025316455696,
           307.5
          ],
          [
           3.081223628691983,
           322.5
          ],
          [
           2.6466244725738397,
           337.5
          ],
          [
           2.298523206751055,
           352.5
          ],
          [
           2.1012658227848102,
           7.5
          ]
         ],
         "hovertemplate": "Day Type=Weekend<br>Trip Type=Arrivals<br>Trips=%{customdata[0]:.2f}<extra></extra>",
         "legendgroup": "Weekend, Arrivals",
         "line": {
          "color": "#EF553B",
          "dash": "dot"
         },
         "marker": {
          "symbol": "circle"
         },
         "mode": "lines",
         "name": "Weekend, Arrivals",
         "r": [
          2.1012658227848102,
          1.8185654008438819,
          1.4293248945147679,
          0.9208860759493671,
          0.669831223628692,
          0.830168776371308,
          0.7014767932489452,
          0.5126582278481012,
          0.7732067510548524,
          1.1687763713080168,
          1.7067510548523206,
          2.479957805907173,
          3.079113924050633,
          3.6719409282700424,
          3.880801687763713,
          4.348101265822785,
          4.660337552742616,
          4.860759493670886,
          4.654008438818566,
          4.551687763713081,
          3.712025316455696,
          3.081223628691983,
          2.6466244725738397,
          2.298523206751055,
          2.1012658227848102
         ],
         "showlegend": true,
         "subplot": "polar",
         "theta": [
          7.5,
          22.5,
          37.5,
          52.5,
          67.5,
          82.5,
          97.5,
          112.5,
          127.5,
          142.5,
          157.5,
          172.5,
          187.5,
          202.5,
          217.5,
          232.5,
          247.5,
          262.5,
          277.5,
          292.5,
          307.5,
          322.5,
          337.5,
          352.5,
          7.5
         ],
         "type": "scatterpolar"
        }
       ],
       "layout": {
        "height": 600,
        "legend": {
         "title": {
          "text": ""
         },
         "tracegroupgap": 0
        },
        "margin": {
         "b": 25,
         "l": 0,
         "r": 0,
         "t": 50
        },
        "polar": {
         "angularaxis": {
          "direction": "clockwise",
          "rotation": -90,
          "tickmode": "array",
          "ticktext": [
           "12 AM",
           "1 AM",
           "2 AM",
           "3 AM",
           "4 AM",
           "5 AM",
           "6 AM",
           "7 AM",
           "8 AM",
           "9 AM",
           "10 AM",
           "11 AM",
           "12 PM",
           "1 PM",
           "2 PM",
           "3 PM",
           "4 PM",
           "5 PM",
           "6 PM",
           "7 PM",
           "8 PM",
           "9 PM",
           "10 PM",
           "11 PM"
          ],
          "tickvals": [
           0,
           15,
           30,
           45,
           60,
           75,
           90,
           105,
           120,
           135,
           150,
           165,
           180,
           195,
           210,
           225,
           240,
           255,
           270,
           285,
           300,
           315,
           330,
           345
          ]
         },
         "domain": {
          "x": [
           0,
           1
          ],
          "y": [
           0,
           1
          ]
         }
        },
        "template": {
         "data": {
          "bar": [
           {
            "error_x": {
             "color": "#2a3f5f"
            },
            "error_y": {
             "color": "#2a3f5f"
            },
            "marker": {
             "line": {
              "color": "#E5ECF6",
              "width": 0.5
             },
             "pattern": {
              "fillmode": "overlay",
              "size": 10,
              "solidity": 0.2
             }
            },
            "type": "bar"
           }
          ],
          "barpolar": [
           {
            "marker": {
             "line": {
              "color": "#E5ECF6",
              "width": 0.5
             },
             "pattern": {
              "fillmode": "overlay",
              "size": 10,
              "solidity": 0.2
             }
            },
            "type": "barpolar"
           }
          ],
          "carpet": [
           {
            "aaxis": {
             "endlinecolor": "#2a3f5f",
             "gridcolor": "white",
             "linecolor": "white",
             "minorgridcolor": "white",
             "startlinecolor": "#2a3f5f"
            },
            "baxis": {
             "endlinecolor": "#2a3f5f",
             "gridcolor": "white",
             "linecolor": "white",
             "minorgridcolor": "white",
             "startlinecolor": "#2a3f5f"
            },
            "type": "carpet"
           }
          ],
          "choropleth": [
           {
            "colorbar": {
             "outlinewidth": 0,
             "ticks": ""
            },
            "type": "choropleth"
           }
          ],
          "contour": [
           {
            "colorbar": {
             "outlinewidth": 0,
             "ticks": ""
            },
            "colorscale": [
             [
              0,
              "#0d0887"
             ],
             [
              0.1111111111111111,
              "#46039f"
             ],
             [
              0.2222222222222222,
              "#7201a8"
             ],
             [
              0.3333333333333333,
              "#9c179e"
             ],
             [
              0.4444444444444444,
              "#bd3786"
             ],
             [
              0.5555555555555556,
              "#d8576b"
             ],
             [
              0.6666666666666666,
              "#ed7953"
             ],
             [
              0.7777777777777778,
              "#fb9f3a"
             ],
             [
              0.8888888888888888,
              "#fdca26"
             ],
             [
              1,
              "#f0f921"
             ]
            ],
            "type": "contour"
           }
          ],
          "contourcarpet": [
           {
            "colorbar": {
             "outlinewidth": 0,
             "ticks": ""
            },
            "type": "contourcarpet"
           }
          ],
          "heatmap": [
           {
            "colorbar": {
             "outlinewidth": 0,
             "ticks": ""
            },
            "colorscale": [
             [
              0,
              "#0d0887"
             ],
             [
              0.1111111111111111,
              "#46039f"
             ],
             [
              0.2222222222222222,
              "#7201a8"
             ],
             [
              0.3333333333333333,
              "#9c179e"
             ],
             [
              0.4444444444444444,
              "#bd3786"
             ],
             [
              0.5555555555555556,
              "#d8576b"
             ],
             [
              0.6666666666666666,
              "#ed7953"
             ],
             [
              0.7777777777777778,
              "#fb9f3a"
             ],
             [
              0.8888888888888888,
              "#fdca26"
             ],
             [
              1,
              "#f0f921"
             ]
            ],
            "type": "heatmap"
           }
          ],
          "heatmapgl": [
           {
            "colorbar": {
             "outlinewidth": 0,
             "ticks": ""
            },
            "colorscale": [
             [
              0,
              "#0d0887"
             ],
             [
              0.1111111111111111,
              "#46039f"
             ],
             [
              0.2222222222222222,
              "#7201a8"
             ],
             [
              0.3333333333333333,
              "#9c179e"
             ],
             [
              0.4444444444444444,
              "#bd3786"
             ],
             [
              0.5555555555555556,
              "#d8576b"
             ],
             [
              0.6666666666666666,
              "#ed7953"
             ],
             [
              0.7777777777777778,
              "#fb9f3a"
             ],
             [
              0.8888888888888888,
              "#fdca26"
             ],
             [
              1,
              "#f0f921"
             ]
            ],
            "type": "heatmapgl"
           }
          ],
          "histogram": [
           {
            "marker": {
             "pattern": {
              "fillmode": "overlay",
              "size": 10,
              "solidity": 0.2
             }
            },
            "type": "histogram"
           }
          ],
          "histogram2d": [
           {
            "colorbar": {
             "outlinewidth": 0,
             "ticks": ""
            },
            "colorscale": [
             [
              0,
              "#0d0887"
             ],
             [
              0.1111111111111111,
              "#46039f"
             ],
             [
              0.2222222222222222,
              "#7201a8"
             ],
             [
              0.3333333333333333,
              "#9c179e"
             ],
             [
              0.4444444444444444,
              "#bd3786"
             ],
             [
              0.5555555555555556,
              "#d8576b"
             ],
             [
              0.6666666666666666,
              "#ed7953"
             ],
             [
              0.7777777777777778,
              "#fb9f3a"
             ],
             [
              0.8888888888888888,
              "#fdca26"
             ],
             [
              1,
              "#f0f921"
             ]
            ],
            "type": "histogram2d"
           }
          ],
          "histogram2dcontour": [
           {
            "colorbar": {
             "outlinewidth": 0,
             "ticks": ""
            },
            "colorscale": [
             [
              0,
              "#0d0887"
             ],
             [
              0.1111111111111111,
              "#46039f"
             ],
             [
              0.2222222222222222,
              "#7201a8"
             ],
             [
              0.3333333333333333,
              "#9c179e"
             ],
             [
              0.4444444444444444,
              "#bd3786"
             ],
             [
              0.5555555555555556,
              "#d8576b"
             ],
             [
              0.6666666666666666,
              "#ed7953"
             ],
             [
              0.7777777777777778,
              "#fb9f3a"
             ],
             [
              0.8888888888888888,
              "#fdca26"
             ],
             [
              1,
              "#f0f921"
             ]
            ],
            "type": "histogram2dcontour"
           }
          ],
          "mesh3d": [
           {
            "colorbar": {
             "outlinewidth": 0,
             "ticks": ""
            },
            "type": "mesh3d"
           }
          ],
          "parcoords": [
           {
            "line": {
             "colorbar": {
              "outlinewidth": 0,
              "ticks": ""
             }
            },
            "type": "parcoords"
           }
          ],
          "pie": [
           {
            "automargin": true,
            "type": "pie"
           }
          ],
          "scatter": [
           {
            "fillpattern": {
             "fillmode": "overlay",
             "size": 10,
             "solidity": 0.2
            },
            "type": "scatter"
           }
          ],
          "scatter3d": [
           {
            "line": {
             "colorbar": {
              "outlinewidth": 0,
              "ticks": ""
             }
            },
            "marker": {
             "colorbar": {
              "outlinewidth": 0,
              "ticks": ""
             }
            },
            "type": "scatter3d"
           }
          ],
          "scattercarpet": [
           {
            "marker": {
             "colorbar": {
              "outlinewidth": 0,
              "ticks": ""
             }
            },
            "type": "scattercarpet"
           }
          ],
          "scattergeo": [
           {
            "marker": {
             "colorbar": {
              "outlinewidth": 0,
              "ticks": ""
             }
            },
            "type": "scattergeo"
           }
          ],
          "scattergl": [
           {
            "marker": {
             "colorbar": {
              "outlinewidth": 0,
              "ticks": ""
             }
            },
            "type": "scattergl"
           }
          ],
          "scattermapbox": [
           {
            "marker": {
             "colorbar": {
              "outlinewidth": 0,
              "ticks": ""
             }
            },
            "type": "scattermapbox"
           }
          ],
          "scatterpolar": [
           {
            "marker": {
             "colorbar": {
              "outlinewidth": 0,
              "ticks": ""
             }
            },
            "type": "scatterpolar"
           }
          ],
          "scatterpolargl": [
           {
            "marker": {
             "colorbar": {
              "outlinewidth": 0,
              "ticks": ""
             }
            },
            "type": "scatterpolargl"
           }
          ],
          "scatterternary": [
           {
            "marker": {
             "colorbar": {
              "outlinewidth": 0,
              "ticks": ""
             }
            },
            "type": "scatterternary"
           }
          ],
          "surface": [
           {
            "colorbar": {
             "outlinewidth": 0,
             "ticks": ""
            },
            "colorscale": [
             [
              0,
              "#0d0887"
             ],
             [
              0.1111111111111111,
              "#46039f"
             ],
             [
              0.2222222222222222,
              "#7201a8"
             ],
             [
              0.3333333333333333,
              "#9c179e"
             ],
             [
              0.4444444444444444,
              "#bd3786"
             ],
             [
              0.5555555555555556,
              "#d8576b"
             ],
             [
              0.6666666666666666,
              "#ed7953"
             ],
             [
              0.7777777777777778,
              "#fb9f3a"
             ],
             [
              0.8888888888888888,
              "#fdca26"
             ],
             [
              1,
              "#f0f921"
             ]
            ],
            "type": "surface"
           }
          ],
          "table": [
           {
            "cells": {
             "fill": {
              "color": "#EBF0F8"
             },
             "line": {
              "color": "white"
             }
            },
            "header": {
             "fill": {
              "color": "#C8D4E3"
             },
             "line": {
              "color": "white"
             }
            },
            "type": "table"
           }
          ]
         },
         "layout": {
          "annotationdefaults": {
           "arrowcolor": "#2a3f5f",
           "arrowhead": 0,
           "arrowwidth": 1
          },
          "autotypenumbers": "strict",
          "coloraxis": {
           "colorbar": {
            "outlinewidth": 0,
            "ticks": ""
           }
          },
          "colorscale": {
           "diverging": [
            [
             0,
             "#8e0152"
            ],
            [
             0.1,
             "#c51b7d"
            ],
            [
             0.2,
             "#de77ae"
            ],
            [
             0.3,
             "#f1b6da"
            ],
            [
             0.4,
             "#fde0ef"
            ],
            [
             0.5,
             "#f7f7f7"
            ],
            [
             0.6,
             "#e6f5d0"
            ],
            [
             0.7,
             "#b8e186"
            ],
            [
             0.8,
             "#7fbc41"
            ],
            [
             0.9,
             "#4d9221"
            ],
            [
             1,
             "#276419"
            ]
           ],
           "sequential": [
            [
             0,
             "#0d0887"
            ],
            [
             0.1111111111111111,
             "#46039f"
            ],
            [
             0.2222222222222222,
             "#7201a8"
            ],
            [
             0.3333333333333333,
             "#9c179e"
            ],
            [
             0.4444444444444444,
             "#bd3786"
            ],
            [
             0.5555555555555556,
             "#d8576b"
            ],
            [
             0.6666666666666666,
             "#ed7953"
            ],
            [
             0.7777777777777778,
             "#fb9f3a"
            ],
            [
             0.8888888888888888,
             "#fdca26"
            ],
            [
             1,
             "#f0f921"
            ]
           ],
           "sequentialminus": [
            [
             0,
             "#0d0887"
            ],
            [
             0.1111111111111111,
             "#46039f"
            ],
            [
             0.2222222222222222,
             "#7201a8"
            ],
            [
             0.3333333333333333,
             "#9c179e"
            ],
            [
             0.4444444444444444,
             "#bd3786"
            ],
            [
             0.5555555555555556,
             "#d8576b"
            ],
            [
             0.6666666666666666,
             "#ed7953"
            ],
            [
             0.7777777777777778,
             "#fb9f3a"
            ],
            [
             0.8888888888888888,
             "#fdca26"
            ],
            [
             1,
             "#f0f921"
            ]
           ]
          },
          "colorway": [
           "#636efa",
           "#EF553B",
           "#00cc96",
           "#ab63fa",
           "#FFA15A",
           "#19d3f3",
           "#FF6692",
           "#B6E880",
           "#FF97FF",
           "#FECB52"
          ],
          "font": {
           "color": "#2a3f5f"
          },
          "geo": {
           "bgcolor": "white",
           "lakecolor": "white",
           "landcolor": "#E5ECF6",
           "showlakes": true,
           "showland": true,
           "subunitcolor": "white"
          },
          "hoverlabel": {
           "align": "left"
          },
          "hovermode": "closest",
          "mapbox": {
           "style": "light"
          },
          "paper_bgcolor": "white",
          "plot_bgcolor": "#E5ECF6",
          "polar": {
           "angularaxis": {
            "gridcolor": "white",
            "linecolor": "white",
            "ticks": ""
           },
           "bgcolor": "#E5ECF6",
           "radialaxis": {
            "gridcolor": "white",
            "linecolor": "white",
            "ticks": ""
           }
          },
          "scene": {
           "xaxis": {
            "backgroundcolor": "#E5ECF6",
            "gridcolor": "white",
            "gridwidth": 2,
            "linecolor": "white",
            "showbackground": true,
            "ticks": "",
            "zerolinecolor": "white"
           },
           "yaxis": {
            "backgroundcolor": "#E5ECF6",
            "gridcolor": "white",
            "gridwidth": 2,
            "linecolor": "white",
            "showbackground": true,
            "ticks": "",
            "zerolinecolor": "white"
           },
           "zaxis": {
            "backgroundcolor": "#E5ECF6",
            "gridcolor": "white",
            "gridwidth": 2,
            "linecolor": "white",
            "showbackground": true,
            "ticks": "",
            "zerolinecolor": "white"
           }
          },
          "shapedefaults": {
           "line": {
            "color": "#2a3f5f"
           }
          },
          "ternary": {
           "aaxis": {
            "gridcolor": "white",
            "linecolor": "white",
            "ticks": ""
           },
           "baxis": {
            "gridcolor": "white",
            "linecolor": "white",
            "ticks": ""
           },
           "bgcolor": "#E5ECF6",
           "caxis": {
            "gridcolor": "white",
            "linecolor": "white",
            "ticks": ""
           }
          },
          "title": {
           "x": 0.05
          },
          "xaxis": {
           "automargin": true,
           "gridcolor": "white",
           "linecolor": "white",
           "ticks": "",
           "title": {
            "standoff": 15
           },
           "zerolinecolor": "white",
           "zerolinewidth": 2
          },
          "yaxis": {
           "automargin": true,
           "gridcolor": "white",
           "linecolor": "white",
           "ticks": "",
           "title": {
            "standoff": 15
           },
           "zerolinecolor": "white",
           "zerolinewidth": 2
          }
         }
        },
        "title": {
         "text": "Hourly Bluebike Trips Near Fire Alarm House Grounds"
        },
        "width": 800
       }
      }
     },
     "metadata": {},
     "output_type": "display_data"
    },
    {
     "name": "stdout",
     "output_type": "stream",
     "text": [
      "1 nearest station to Charlestown H.S. Athletic Fields: Medford St at Charlestown BCYF\n"
     ]
    },
    {
     "name": "stderr",
     "output_type": "stream",
     "text": [
      "/Users/henrywu/opt/anaconda3/lib/python3.9/site-packages/plotly/express/_core.py:271: FutureWarning:\n",
      "\n",
      "The frame.append method is deprecated and will be removed from pandas in a future version. Use pandas.concat instead.\n",
      "\n",
      "/Users/henrywu/opt/anaconda3/lib/python3.9/site-packages/plotly/express/_core.py:271: FutureWarning:\n",
      "\n",
      "The frame.append method is deprecated and will be removed from pandas in a future version. Use pandas.concat instead.\n",
      "\n",
      "/Users/henrywu/opt/anaconda3/lib/python3.9/site-packages/plotly/express/_core.py:271: FutureWarning:\n",
      "\n",
      "The frame.append method is deprecated and will be removed from pandas in a future version. Use pandas.concat instead.\n",
      "\n",
      "/Users/henrywu/opt/anaconda3/lib/python3.9/site-packages/plotly/express/_core.py:271: FutureWarning:\n",
      "\n",
      "The frame.append method is deprecated and will be removed from pandas in a future version. Use pandas.concat instead.\n",
      "\n"
     ]
    },
    {
     "data": {
      "application/vnd.plotly.v1+json": {
       "config": {
        "plotlyServerURL": "https://plot.ly"
       },
       "data": [
        {
         "customdata": [
          [
           0.24050632911392406,
           7.5
          ],
          [
           0.0970464135021097,
           22.5
          ],
          [
           0.07278481012658228,
           37.5
          ],
          [
           0.04008438818565401,
           52.5
          ],
          [
           0.022151898734177215,
           67.5
          ],
          [
           0.2109704641350211,
           82.5
          ],
          [
           0.4704641350210971,
           97.5
          ],
          [
           1.3871308016877637,
           112.5
          ],
          [
           1.3850210970464134,
           127.5
          ],
          [
           0.7436708860759493,
           142.5
          ],
          [
           0.47468354430379744,
           157.5
          ],
          [
           0.8533755274261603,
           172.5
          ],
          [
           1.0232067510548524,
           187.5
          ],
          [
           0.7478902953586498,
           202.5
          ],
          [
           0.6360759493670886,
           217.5
          ],
          [
           0.6951476793248945,
           232.5
          ],
          [
           0.7035864978902954,
           247.5
          ],
          [
           1.1044303797468353,
           262.5
          ],
          [
           0.9451476793248945,
           277.5
          ],
          [
           0.8966244725738397,
           292.5
          ],
          [
           0.7120253164556962,
           307.5
          ],
          [
           0.7710970464135021,
           322.5
          ],
          [
           0.6265822784810127,
           337.5
          ],
          [
           0.41244725738396626,
           352.5
          ],
          [
           0.24050632911392406,
           7.5
          ]
         ],
         "hovertemplate": "Day Type=Weekday<br>Trip Type=Departures<br>Trips=%{customdata[0]:.2f}<extra></extra>",
         "legendgroup": "Weekday, Departures",
         "line": {
          "color": "#636efa",
          "dash": "solid"
         },
         "marker": {
          "symbol": "circle"
         },
         "mode": "lines",
         "name": "Weekday, Departures",
         "r": [
          0.24050632911392406,
          0.0970464135021097,
          0.07278481012658228,
          0.04008438818565401,
          0.022151898734177215,
          0.2109704641350211,
          0.4704641350210971,
          1.3871308016877637,
          1.3850210970464134,
          0.7436708860759493,
          0.47468354430379744,
          0.8533755274261603,
          1.0232067510548524,
          0.7478902953586498,
          0.6360759493670886,
          0.6951476793248945,
          0.7035864978902954,
          1.1044303797468353,
          0.9451476793248945,
          0.8966244725738397,
          0.7120253164556962,
          0.7710970464135021,
          0.6265822784810127,
          0.41244725738396626,
          0.24050632911392406
         ],
         "showlegend": true,
         "subplot": "polar",
         "theta": [
          7.5,
          22.5,
          37.5,
          52.5,
          67.5,
          82.5,
          97.5,
          112.5,
          127.5,
          142.5,
          157.5,
          172.5,
          187.5,
          202.5,
          217.5,
          232.5,
          247.5,
          262.5,
          277.5,
          292.5,
          307.5,
          322.5,
          337.5,
          352.5,
          7.5
         ],
         "type": "scatterpolar"
        },
        {
         "customdata": [
          [
           0.33649789029535865,
           7.5
          ],
          [
           0.29535864978902954,
           22.5
          ],
          [
           0.26371308016877637,
           37.5
          ],
          [
           0.1149789029535865,
           52.5
          ],
          [
           0.07172995780590717,
           67.5
          ],
          [
           0.11919831223628692,
           82.5
          ],
          [
           0.1719409282700422,
           97.5
          ],
          [
           0.23628691983122363,
           112.5
          ],
          [
           0.38924050632911394,
           127.5
          ],
          [
           0.4641350210970464,
           142.5
          ],
          [
           0.3850210970464135,
           157.5
          ],
          [
           0.4419831223628692,
           172.5
          ],
          [
           0.5021097046413502,
           187.5
          ],
          [
           0.5907172995780591,
           202.5
          ],
          [
           0.4820675105485232,
           217.5
          ],
          [
           0.7141350210970464,
           232.5
          ],
          [
           1.09915611814346,
           247.5
          ],
          [
           2.042194092827004,
           262.5
          ],
          [
           1.6487341772151898,
           277.5
          ],
          [
           1.1118143459915613,
           292.5
          ],
          [
           0.8860759493670886,
           307.5
          ],
          [
           1.1065400843881856,
           322.5
          ],
          [
           1.09915611814346,
           337.5
          ],
          [
           0.8080168776371308,
           352.5
          ],
          [
           0.33649789029535865,
           7.5
          ]
         ],
         "hovertemplate": "Day Type=Weekday<br>Trip Type=Arrivals<br>Trips=%{customdata[0]:.2f}<extra></extra>",
         "legendgroup": "Weekday, Arrivals",
         "line": {
          "color": "#636efa",
          "dash": "dot"
         },
         "marker": {
          "symbol": "circle"
         },
         "mode": "lines",
         "name": "Weekday, Arrivals",
         "r": [
          0.33649789029535865,
          0.29535864978902954,
          0.26371308016877637,
          0.1149789029535865,
          0.07172995780590717,
          0.11919831223628692,
          0.1719409282700422,
          0.23628691983122363,
          0.38924050632911394,
          0.4641350210970464,
          0.3850210970464135,
          0.4419831223628692,
          0.5021097046413502,
          0.5907172995780591,
          0.4820675105485232,
          0.7141350210970464,
          1.09915611814346,
          2.042194092827004,
          1.6487341772151898,
          1.1118143459915613,
          0.8860759493670886,
          1.1065400843881856,
          1.09915611814346,
          0.8080168776371308,
          0.33649789029535865
         ],
         "showlegend": true,
         "subplot": "polar",
         "theta": [
          7.5,
          22.5,
          37.5,
          52.5,
          67.5,
          82.5,
          97.5,
          112.5,
          127.5,
          142.5,
          157.5,
          172.5,
          187.5,
          202.5,
          217.5,
          232.5,
          247.5,
          262.5,
          277.5,
          292.5,
          307.5,
          322.5,
          337.5,
          352.5,
          7.5
         ],
         "type": "scatterpolar"
        },
        {
         "customdata": [
          [
           0.0938818565400844,
           7.5
          ],
          [
           0.05907172995780591,
           22.5
          ],
          [
           0.03270042194092827,
           37.5
          ],
          [
           0.017932489451476793,
           52.5
          ],
          [
           0.015822784810126583,
           67.5
          ],
          [
           0.029535864978902954,
           82.5
          ],
          [
           0.08966244725738397,
           97.5
          ],
          [
           0.0770042194092827,
           112.5
          ],
          [
           0.09599156118143459,
           127.5
          ],
          [
           0.1909282700421941,
           142.5
          ],
          [
           0.2795358649789029,
           157.5
          ],
          [
           0.25843881856540085,
           172.5
          ],
          [
           0.28164556962025317,
           187.5
          ],
          [
           0.3206751054852321,
           202.5
          ],
          [
           0.39556962025316456,
           217.5
          ],
          [
           0.39767932489451474,
           232.5
          ],
          [
           0.35443037974683544,
           247.5
          ],
          [
           0.2795358649789029,
           262.5
          ],
          [
           0.26476793248945146,
           277.5
          ],
          [
           0.25,
           292.5
          ],
          [
           0.21940928270042195,
           307.5
          ],
          [
           0.14451476793248946,
           322.5
          ],
          [
           0.13291139240506328,
           337.5
          ],
          [
           0.12658227848101267,
           352.5
          ],
          [
           0.0938818565400844,
           7.5
          ]
         ],
         "hovertemplate": "Day Type=Weekend<br>Trip Type=Departures<br>Trips=%{customdata[0]:.2f}<extra></extra>",
         "legendgroup": "Weekend, Departures",
         "line": {
          "color": "#EF553B",
          "dash": "solid"
         },
         "marker": {
          "symbol": "circle"
         },
         "mode": "lines",
         "name": "Weekend, Departures",
         "r": [
          0.0938818565400844,
          0.05907172995780591,
          0.03270042194092827,
          0.017932489451476793,
          0.015822784810126583,
          0.029535864978902954,
          0.08966244725738397,
          0.0770042194092827,
          0.09599156118143459,
          0.1909282700421941,
          0.2795358649789029,
          0.25843881856540085,
          0.28164556962025317,
          0.3206751054852321,
          0.39556962025316456,
          0.39767932489451474,
          0.35443037974683544,
          0.2795358649789029,
          0.26476793248945146,
          0.25,
          0.21940928270042195,
          0.14451476793248946,
          0.13291139240506328,
          0.12658227848101267,
          0.0938818565400844
         ],
         "showlegend": true,
         "subplot": "polar",
         "theta": [
          7.5,
          22.5,
          37.5,
          52.5,
          67.5,
          82.5,
          97.5,
          112.5,
          127.5,
          142.5,
          157.5,
          172.5,
          187.5,
          202.5,
          217.5,
          232.5,
          247.5,
          262.5,
          277.5,
          292.5,
          307.5,
          322.5,
          337.5,
          352.5,
          7.5
         ],
         "type": "scatterpolar"
        },
        {
         "customdata": [
          [
           0.15611814345991562,
           7.5
          ],
          [
           0.14873417721518986,
           22.5
          ],
          [
           0.1529535864978903,
           37.5
          ],
          [
           0.11075949367088607,
           52.5
          ],
          [
           0.060126582278481014,
           67.5
          ],
          [
           0.056962025316455694,
           82.5
          ],
          [
           0.05063291139240506,
           97.5
          ],
          [
           0.03481012658227848,
           112.5
          ],
          [
           0.07383966244725738,
           127.5
          ],
          [
           0.10232067510548523,
           142.5
          ],
          [
           0.11919831223628692,
           157.5
          ],
          [
           0.16139240506329114,
           172.5
          ],
          [
           0.21308016877637131,
           187.5
          ],
          [
           0.22046413502109705,
           202.5
          ],
          [
           0.22679324894514769,
           217.5
          ],
          [
           0.2742616033755274,
           232.5
          ],
          [
           0.3259493670886076,
           247.5
          ],
          [
           0.28164556962025317,
           262.5
          ],
          [
           0.26054852320675104,
           277.5
          ],
          [
           0.29957805907172996,
           292.5
          ],
          [
           0.2478902953586498,
           307.5
          ],
          [
           0.22784810126582278,
           322.5
          ],
          [
           0.2120253164556962,
           337.5
          ],
          [
           0.21518987341772153,
           352.5
          ],
          [
           0.15611814345991562,
           7.5
          ]
         ],
         "hovertemplate": "Day Type=Weekend<br>Trip Type=Arrivals<br>Trips=%{customdata[0]:.2f}<extra></extra>",
         "legendgroup": "Weekend, Arrivals",
         "line": {
          "color": "#EF553B",
          "dash": "dot"
         },
         "marker": {
          "symbol": "circle"
         },
         "mode": "lines",
         "name": "Weekend, Arrivals",
         "r": [
          0.15611814345991562,
          0.14873417721518986,
          0.1529535864978903,
          0.11075949367088607,
          0.060126582278481014,
          0.056962025316455694,
          0.05063291139240506,
          0.03481012658227848,
          0.07383966244725738,
          0.10232067510548523,
          0.11919831223628692,
          0.16139240506329114,
          0.21308016877637131,
          0.22046413502109705,
          0.22679324894514769,
          0.2742616033755274,
          0.3259493670886076,
          0.28164556962025317,
          0.26054852320675104,
          0.29957805907172996,
          0.2478902953586498,
          0.22784810126582278,
          0.2120253164556962,
          0.21518987341772153,
          0.15611814345991562
         ],
         "showlegend": true,
         "subplot": "polar",
         "theta": [
          7.5,
          22.5,
          37.5,
          52.5,
          67.5,
          82.5,
          97.5,
          112.5,
          127.5,
          142.5,
          157.5,
          172.5,
          187.5,
          202.5,
          217.5,
          232.5,
          247.5,
          262.5,
          277.5,
          292.5,
          307.5,
          322.5,
          337.5,
          352.5,
          7.5
         ],
         "type": "scatterpolar"
        }
       ],
       "layout": {
        "height": 600,
        "legend": {
         "title": {
          "text": ""
         },
         "tracegroupgap": 0
        },
        "margin": {
         "b": 25,
         "l": 0,
         "r": 0,
         "t": 50
        },
        "polar": {
         "angularaxis": {
          "direction": "clockwise",
          "rotation": -90,
          "tickmode": "array",
          "ticktext": [
           "12 AM",
           "1 AM",
           "2 AM",
           "3 AM",
           "4 AM",
           "5 AM",
           "6 AM",
           "7 AM",
           "8 AM",
           "9 AM",
           "10 AM",
           "11 AM",
           "12 PM",
           "1 PM",
           "2 PM",
           "3 PM",
           "4 PM",
           "5 PM",
           "6 PM",
           "7 PM",
           "8 PM",
           "9 PM",
           "10 PM",
           "11 PM"
          ],
          "tickvals": [
           0,
           15,
           30,
           45,
           60,
           75,
           90,
           105,
           120,
           135,
           150,
           165,
           180,
           195,
           210,
           225,
           240,
           255,
           270,
           285,
           300,
           315,
           330,
           345
          ]
         },
         "domain": {
          "x": [
           0,
           1
          ],
          "y": [
           0,
           1
          ]
         }
        },
        "template": {
         "data": {
          "bar": [
           {
            "error_x": {
             "color": "#2a3f5f"
            },
            "error_y": {
             "color": "#2a3f5f"
            },
            "marker": {
             "line": {
              "color": "#E5ECF6",
              "width": 0.5
             },
             "pattern": {
              "fillmode": "overlay",
              "size": 10,
              "solidity": 0.2
             }
            },
            "type": "bar"
           }
          ],
          "barpolar": [
           {
            "marker": {
             "line": {
              "color": "#E5ECF6",
              "width": 0.5
             },
             "pattern": {
              "fillmode": "overlay",
              "size": 10,
              "solidity": 0.2
             }
            },
            "type": "barpolar"
           }
          ],
          "carpet": [
           {
            "aaxis": {
             "endlinecolor": "#2a3f5f",
             "gridcolor": "white",
             "linecolor": "white",
             "minorgridcolor": "white",
             "startlinecolor": "#2a3f5f"
            },
            "baxis": {
             "endlinecolor": "#2a3f5f",
             "gridcolor": "white",
             "linecolor": "white",
             "minorgridcolor": "white",
             "startlinecolor": "#2a3f5f"
            },
            "type": "carpet"
           }
          ],
          "choropleth": [
           {
            "colorbar": {
             "outlinewidth": 0,
             "ticks": ""
            },
            "type": "choropleth"
           }
          ],
          "contour": [
           {
            "colorbar": {
             "outlinewidth": 0,
             "ticks": ""
            },
            "colorscale": [
             [
              0,
              "#0d0887"
             ],
             [
              0.1111111111111111,
              "#46039f"
             ],
             [
              0.2222222222222222,
              "#7201a8"
             ],
             [
              0.3333333333333333,
              "#9c179e"
             ],
             [
              0.4444444444444444,
              "#bd3786"
             ],
             [
              0.5555555555555556,
              "#d8576b"
             ],
             [
              0.6666666666666666,
              "#ed7953"
             ],
             [
              0.7777777777777778,
              "#fb9f3a"
             ],
             [
              0.8888888888888888,
              "#fdca26"
             ],
             [
              1,
              "#f0f921"
             ]
            ],
            "type": "contour"
           }
          ],
          "contourcarpet": [
           {
            "colorbar": {
             "outlinewidth": 0,
             "ticks": ""
            },
            "type": "contourcarpet"
           }
          ],
          "heatmap": [
           {
            "colorbar": {
             "outlinewidth": 0,
             "ticks": ""
            },
            "colorscale": [
             [
              0,
              "#0d0887"
             ],
             [
              0.1111111111111111,
              "#46039f"
             ],
             [
              0.2222222222222222,
              "#7201a8"
             ],
             [
              0.3333333333333333,
              "#9c179e"
             ],
             [
              0.4444444444444444,
              "#bd3786"
             ],
             [
              0.5555555555555556,
              "#d8576b"
             ],
             [
              0.6666666666666666,
              "#ed7953"
             ],
             [
              0.7777777777777778,
              "#fb9f3a"
             ],
             [
              0.8888888888888888,
              "#fdca26"
             ],
             [
              1,
              "#f0f921"
             ]
            ],
            "type": "heatmap"
           }
          ],
          "heatmapgl": [
           {
            "colorbar": {
             "outlinewidth": 0,
             "ticks": ""
            },
            "colorscale": [
             [
              0,
              "#0d0887"
             ],
             [
              0.1111111111111111,
              "#46039f"
             ],
             [
              0.2222222222222222,
              "#7201a8"
             ],
             [
              0.3333333333333333,
              "#9c179e"
             ],
             [
              0.4444444444444444,
              "#bd3786"
             ],
             [
              0.5555555555555556,
              "#d8576b"
             ],
             [
              0.6666666666666666,
              "#ed7953"
             ],
             [
              0.7777777777777778,
              "#fb9f3a"
             ],
             [
              0.8888888888888888,
              "#fdca26"
             ],
             [
              1,
              "#f0f921"
             ]
            ],
            "type": "heatmapgl"
           }
          ],
          "histogram": [
           {
            "marker": {
             "pattern": {
              "fillmode": "overlay",
              "size": 10,
              "solidity": 0.2
             }
            },
            "type": "histogram"
           }
          ],
          "histogram2d": [
           {
            "colorbar": {
             "outlinewidth": 0,
             "ticks": ""
            },
            "colorscale": [
             [
              0,
              "#0d0887"
             ],
             [
              0.1111111111111111,
              "#46039f"
             ],
             [
              0.2222222222222222,
              "#7201a8"
             ],
             [
              0.3333333333333333,
              "#9c179e"
             ],
             [
              0.4444444444444444,
              "#bd3786"
             ],
             [
              0.5555555555555556,
              "#d8576b"
             ],
             [
              0.6666666666666666,
              "#ed7953"
             ],
             [
              0.7777777777777778,
              "#fb9f3a"
             ],
             [
              0.8888888888888888,
              "#fdca26"
             ],
             [
              1,
              "#f0f921"
             ]
            ],
            "type": "histogram2d"
           }
          ],
          "histogram2dcontour": [
           {
            "colorbar": {
             "outlinewidth": 0,
             "ticks": ""
            },
            "colorscale": [
             [
              0,
              "#0d0887"
             ],
             [
              0.1111111111111111,
              "#46039f"
             ],
             [
              0.2222222222222222,
              "#7201a8"
             ],
             [
              0.3333333333333333,
              "#9c179e"
             ],
             [
              0.4444444444444444,
              "#bd3786"
             ],
             [
              0.5555555555555556,
              "#d8576b"
             ],
             [
              0.6666666666666666,
              "#ed7953"
             ],
             [
              0.7777777777777778,
              "#fb9f3a"
             ],
             [
              0.8888888888888888,
              "#fdca26"
             ],
             [
              1,
              "#f0f921"
             ]
            ],
            "type": "histogram2dcontour"
           }
          ],
          "mesh3d": [
           {
            "colorbar": {
             "outlinewidth": 0,
             "ticks": ""
            },
            "type": "mesh3d"
           }
          ],
          "parcoords": [
           {
            "line": {
             "colorbar": {
              "outlinewidth": 0,
              "ticks": ""
             }
            },
            "type": "parcoords"
           }
          ],
          "pie": [
           {
            "automargin": true,
            "type": "pie"
           }
          ],
          "scatter": [
           {
            "fillpattern": {
             "fillmode": "overlay",
             "size": 10,
             "solidity": 0.2
            },
            "type": "scatter"
           }
          ],
          "scatter3d": [
           {
            "line": {
             "colorbar": {
              "outlinewidth": 0,
              "ticks": ""
             }
            },
            "marker": {
             "colorbar": {
              "outlinewidth": 0,
              "ticks": ""
             }
            },
            "type": "scatter3d"
           }
          ],
          "scattercarpet": [
           {
            "marker": {
             "colorbar": {
              "outlinewidth": 0,
              "ticks": ""
             }
            },
            "type": "scattercarpet"
           }
          ],
          "scattergeo": [
           {
            "marker": {
             "colorbar": {
              "outlinewidth": 0,
              "ticks": ""
             }
            },
            "type": "scattergeo"
           }
          ],
          "scattergl": [
           {
            "marker": {
             "colorbar": {
              "outlinewidth": 0,
              "ticks": ""
             }
            },
            "type": "scattergl"
           }
          ],
          "scattermapbox": [
           {
            "marker": {
             "colorbar": {
              "outlinewidth": 0,
              "ticks": ""
             }
            },
            "type": "scattermapbox"
           }
          ],
          "scatterpolar": [
           {
            "marker": {
             "colorbar": {
              "outlinewidth": 0,
              "ticks": ""
             }
            },
            "type": "scatterpolar"
           }
          ],
          "scatterpolargl": [
           {
            "marker": {
             "colorbar": {
              "outlinewidth": 0,
              "ticks": ""
             }
            },
            "type": "scatterpolargl"
           }
          ],
          "scatterternary": [
           {
            "marker": {
             "colorbar": {
              "outlinewidth": 0,
              "ticks": ""
             }
            },
            "type": "scatterternary"
           }
          ],
          "surface": [
           {
            "colorbar": {
             "outlinewidth": 0,
             "ticks": ""
            },
            "colorscale": [
             [
              0,
              "#0d0887"
             ],
             [
              0.1111111111111111,
              "#46039f"
             ],
             [
              0.2222222222222222,
              "#7201a8"
             ],
             [
              0.3333333333333333,
              "#9c179e"
             ],
             [
              0.4444444444444444,
              "#bd3786"
             ],
             [
              0.5555555555555556,
              "#d8576b"
             ],
             [
              0.6666666666666666,
              "#ed7953"
             ],
             [
              0.7777777777777778,
              "#fb9f3a"
             ],
             [
              0.8888888888888888,
              "#fdca26"
             ],
             [
              1,
              "#f0f921"
             ]
            ],
            "type": "surface"
           }
          ],
          "table": [
           {
            "cells": {
             "fill": {
              "color": "#EBF0F8"
             },
             "line": {
              "color": "white"
             }
            },
            "header": {
             "fill": {
              "color": "#C8D4E3"
             },
             "line": {
              "color": "white"
             }
            },
            "type": "table"
           }
          ]
         },
         "layout": {
          "annotationdefaults": {
           "arrowcolor": "#2a3f5f",
           "arrowhead": 0,
           "arrowwidth": 1
          },
          "autotypenumbers": "strict",
          "coloraxis": {
           "colorbar": {
            "outlinewidth": 0,
            "ticks": ""
           }
          },
          "colorscale": {
           "diverging": [
            [
             0,
             "#8e0152"
            ],
            [
             0.1,
             "#c51b7d"
            ],
            [
             0.2,
             "#de77ae"
            ],
            [
             0.3,
             "#f1b6da"
            ],
            [
             0.4,
             "#fde0ef"
            ],
            [
             0.5,
             "#f7f7f7"
            ],
            [
             0.6,
             "#e6f5d0"
            ],
            [
             0.7,
             "#b8e186"
            ],
            [
             0.8,
             "#7fbc41"
            ],
            [
             0.9,
             "#4d9221"
            ],
            [
             1,
             "#276419"
            ]
           ],
           "sequential": [
            [
             0,
             "#0d0887"
            ],
            [
             0.1111111111111111,
             "#46039f"
            ],
            [
             0.2222222222222222,
             "#7201a8"
            ],
            [
             0.3333333333333333,
             "#9c179e"
            ],
            [
             0.4444444444444444,
             "#bd3786"
            ],
            [
             0.5555555555555556,
             "#d8576b"
            ],
            [
             0.6666666666666666,
             "#ed7953"
            ],
            [
             0.7777777777777778,
             "#fb9f3a"
            ],
            [
             0.8888888888888888,
             "#fdca26"
            ],
            [
             1,
             "#f0f921"
            ]
           ],
           "sequentialminus": [
            [
             0,
             "#0d0887"
            ],
            [
             0.1111111111111111,
             "#46039f"
            ],
            [
             0.2222222222222222,
             "#7201a8"
            ],
            [
             0.3333333333333333,
             "#9c179e"
            ],
            [
             0.4444444444444444,
             "#bd3786"
            ],
            [
             0.5555555555555556,
             "#d8576b"
            ],
            [
             0.6666666666666666,
             "#ed7953"
            ],
            [
             0.7777777777777778,
             "#fb9f3a"
            ],
            [
             0.8888888888888888,
             "#fdca26"
            ],
            [
             1,
             "#f0f921"
            ]
           ]
          },
          "colorway": [
           "#636efa",
           "#EF553B",
           "#00cc96",
           "#ab63fa",
           "#FFA15A",
           "#19d3f3",
           "#FF6692",
           "#B6E880",
           "#FF97FF",
           "#FECB52"
          ],
          "font": {
           "color": "#2a3f5f"
          },
          "geo": {
           "bgcolor": "white",
           "lakecolor": "white",
           "landcolor": "#E5ECF6",
           "showlakes": true,
           "showland": true,
           "subunitcolor": "white"
          },
          "hoverlabel": {
           "align": "left"
          },
          "hovermode": "closest",
          "mapbox": {
           "style": "light"
          },
          "paper_bgcolor": "white",
          "plot_bgcolor": "#E5ECF6",
          "polar": {
           "angularaxis": {
            "gridcolor": "white",
            "linecolor": "white",
            "ticks": ""
           },
           "bgcolor": "#E5ECF6",
           "radialaxis": {
            "gridcolor": "white",
            "linecolor": "white",
            "ticks": ""
           }
          },
          "scene": {
           "xaxis": {
            "backgroundcolor": "#E5ECF6",
            "gridcolor": "white",
            "gridwidth": 2,
            "linecolor": "white",
            "showbackground": true,
            "ticks": "",
            "zerolinecolor": "white"
           },
           "yaxis": {
            "backgroundcolor": "#E5ECF6",
            "gridcolor": "white",
            "gridwidth": 2,
            "linecolor": "white",
            "showbackground": true,
            "ticks": "",
            "zerolinecolor": "white"
           },
           "zaxis": {
            "backgroundcolor": "#E5ECF6",
            "gridcolor": "white",
            "gridwidth": 2,
            "linecolor": "white",
            "showbackground": true,
            "ticks": "",
            "zerolinecolor": "white"
           }
          },
          "shapedefaults": {
           "line": {
            "color": "#2a3f5f"
           }
          },
          "ternary": {
           "aaxis": {
            "gridcolor": "white",
            "linecolor": "white",
            "ticks": ""
           },
           "baxis": {
            "gridcolor": "white",
            "linecolor": "white",
            "ticks": ""
           },
           "bgcolor": "#E5ECF6",
           "caxis": {
            "gridcolor": "white",
            "linecolor": "white",
            "ticks": ""
           }
          },
          "title": {
           "x": 0.05
          },
          "xaxis": {
           "automargin": true,
           "gridcolor": "white",
           "linecolor": "white",
           "ticks": "",
           "title": {
            "standoff": 15
           },
           "zerolinecolor": "white",
           "zerolinewidth": 2
          },
          "yaxis": {
           "automargin": true,
           "gridcolor": "white",
           "linecolor": "white",
           "ticks": "",
           "title": {
            "standoff": 15
           },
           "zerolinecolor": "white",
           "zerolinewidth": 2
          }
         }
        },
        "title": {
         "text": "Hourly Bluebike Trips Near Charlestown H.S. Athletic Fields"
        },
        "width": 800
       }
      }
     },
     "metadata": {},
     "output_type": "display_data"
    }
   ],
   "source": [
    "for c in np.random.choice(open_spaces['Name'], 25):\n",
    "    plot_activity(c)"
   ]
  }
 ],
 "metadata": {
  "kernelspec": {
   "display_name": "base",
   "language": "python",
   "name": "python3"
  },
  "language_info": {
   "codemirror_mode": {
    "name": "ipython",
    "version": 3
   },
   "file_extension": ".py",
   "mimetype": "text/x-python",
   "name": "python",
   "nbconvert_exporter": "python",
   "pygments_lexer": "ipython3",
   "version": "3.9.13"
  }
 },
 "nbformat": 4,
 "nbformat_minor": 2
}
