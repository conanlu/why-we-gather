{
 "cells": [
  {
   "cell_type": "code",
   "execution_count": 119,
   "metadata": {},
   "outputs": [],
   "source": [
    "import numpy as np\n",
    "import pandas as pd\n",
    "import datetime\n",
    "from matplotlib import pyplot as plt\n",
    "# from matplotlib import dates as mdates\n",
    "import plotly.express as px\n",
    "import plotly.graph_objects as go\n",
    "px.set_mapbox_access_token(open(\".mapbox_token\").read())"
   ]
  },
  {
   "cell_type": "code",
   "execution_count": 2,
   "metadata": {},
   "outputs": [
    {
     "data": {
      "text/html": [
       "<div>\n",
       "<style scoped>\n",
       "    .dataframe tbody tr th:only-of-type {\n",
       "        vertical-align: middle;\n",
       "    }\n",
       "\n",
       "    .dataframe tbody tr th {\n",
       "        vertical-align: top;\n",
       "    }\n",
       "\n",
       "    .dataframe thead th {\n",
       "        text-align: right;\n",
       "    }\n",
       "</style>\n",
       "<table border=\"1\" class=\"dataframe\">\n",
       "  <thead>\n",
       "    <tr style=\"text-align: right;\">\n",
       "      <th></th>\n",
       "      <th>duration</th>\n",
       "      <th>started_at</th>\n",
       "      <th>ended_at</th>\n",
       "      <th>start_station_id_old</th>\n",
       "      <th>start_station_name</th>\n",
       "      <th>start_lat</th>\n",
       "      <th>start_lng</th>\n",
       "      <th>end_station_id_old</th>\n",
       "      <th>end_station_name</th>\n",
       "      <th>end_lat</th>\n",
       "      <th>...</th>\n",
       "      <th>bikeid</th>\n",
       "      <th>usertype</th>\n",
       "      <th>birth year</th>\n",
       "      <th>gender</th>\n",
       "      <th>postal code</th>\n",
       "      <th>ride_id</th>\n",
       "      <th>rideable_type</th>\n",
       "      <th>start_station_id_new</th>\n",
       "      <th>end_station_id_new</th>\n",
       "      <th>member_casual</th>\n",
       "    </tr>\n",
       "  </thead>\n",
       "  <tbody>\n",
       "    <tr>\n",
       "      <th>0</th>\n",
       "      <td>413</td>\n",
       "      <td>2015-01-01 16:19:32</td>\n",
       "      <td>2015-01-01 16:26:26</td>\n",
       "      <td>143.0</td>\n",
       "      <td>EF - North Point Park</td>\n",
       "      <td>42.369885</td>\n",
       "      <td>-71.069957</td>\n",
       "      <td>85</td>\n",
       "      <td>Spaulding Rehabilitation Hospital - Charlestow...</td>\n",
       "      <td>42.378338</td>\n",
       "      <td>...</td>\n",
       "      <td>481.0</td>\n",
       "      <td>member</td>\n",
       "      <td>1983</td>\n",
       "      <td>1.0</td>\n",
       "      <td>NaN</td>\n",
       "      <td>NaN</td>\n",
       "      <td>NaN</td>\n",
       "      <td>NaN</td>\n",
       "      <td>NaN</td>\n",
       "      <td>NaN</td>\n",
       "    </tr>\n",
       "    <tr>\n",
       "      <th>1</th>\n",
       "      <td>575</td>\n",
       "      <td>2015-01-02 08:06:49</td>\n",
       "      <td>2015-01-02 08:16:25</td>\n",
       "      <td>90.0</td>\n",
       "      <td>Lechmere Station at Cambridge St / First St</td>\n",
       "      <td>42.370677</td>\n",
       "      <td>-71.076529</td>\n",
       "      <td>85</td>\n",
       "      <td>Spaulding Rehabilitation Hospital - Charlestow...</td>\n",
       "      <td>42.378338</td>\n",
       "      <td>...</td>\n",
       "      <td>1295.0</td>\n",
       "      <td>member</td>\n",
       "      <td>1983</td>\n",
       "      <td>1.0</td>\n",
       "      <td>NaN</td>\n",
       "      <td>NaN</td>\n",
       "      <td>NaN</td>\n",
       "      <td>NaN</td>\n",
       "      <td>NaN</td>\n",
       "      <td>NaN</td>\n",
       "    </tr>\n",
       "    <tr>\n",
       "      <th>2</th>\n",
       "      <td>886</td>\n",
       "      <td>2015-01-02 11:38:38</td>\n",
       "      <td>2015-01-02 11:53:24</td>\n",
       "      <td>95.0</td>\n",
       "      <td>Cambridge St - at Columbia St / Webster Ave</td>\n",
       "      <td>42.372969</td>\n",
       "      <td>-71.094445</td>\n",
       "      <td>85</td>\n",
       "      <td>Spaulding Rehabilitation Hospital - Charlestow...</td>\n",
       "      <td>42.378338</td>\n",
       "      <td>...</td>\n",
       "      <td>652.0</td>\n",
       "      <td>casual</td>\n",
       "      <td>1992</td>\n",
       "      <td>2.0</td>\n",
       "      <td>NaN</td>\n",
       "      <td>NaN</td>\n",
       "      <td>NaN</td>\n",
       "      <td>NaN</td>\n",
       "      <td>NaN</td>\n",
       "      <td>NaN</td>\n",
       "    </tr>\n",
       "    <tr>\n",
       "      <th>3</th>\n",
       "      <td>1027</td>\n",
       "      <td>2015-01-02 13:33:05</td>\n",
       "      <td>2015-01-02 13:50:12</td>\n",
       "      <td>91.0</td>\n",
       "      <td>One Kendall Square at Hampshire St / Portland St</td>\n",
       "      <td>42.366277</td>\n",
       "      <td>-71.091690</td>\n",
       "      <td>85</td>\n",
       "      <td>Spaulding Rehabilitation Hospital - Charlestow...</td>\n",
       "      <td>42.378338</td>\n",
       "      <td>...</td>\n",
       "      <td>1094.0</td>\n",
       "      <td>member</td>\n",
       "      <td>1983</td>\n",
       "      <td>1.0</td>\n",
       "      <td>NaN</td>\n",
       "      <td>NaN</td>\n",
       "      <td>NaN</td>\n",
       "      <td>NaN</td>\n",
       "      <td>NaN</td>\n",
       "      <td>NaN</td>\n",
       "    </tr>\n",
       "    <tr>\n",
       "      <th>4</th>\n",
       "      <td>383</td>\n",
       "      <td>2015-01-05 10:15:46</td>\n",
       "      <td>2015-01-05 10:22:09</td>\n",
       "      <td>143.0</td>\n",
       "      <td>EF - North Point Park</td>\n",
       "      <td>42.369885</td>\n",
       "      <td>-71.069957</td>\n",
       "      <td>85</td>\n",
       "      <td>Spaulding Rehabilitation Hospital - Charlestow...</td>\n",
       "      <td>42.378338</td>\n",
       "      <td>...</td>\n",
       "      <td>761.0</td>\n",
       "      <td>member</td>\n",
       "      <td>1983</td>\n",
       "      <td>1.0</td>\n",
       "      <td>NaN</td>\n",
       "      <td>NaN</td>\n",
       "      <td>NaN</td>\n",
       "      <td>NaN</td>\n",
       "      <td>NaN</td>\n",
       "      <td>NaN</td>\n",
       "    </tr>\n",
       "    <tr>\n",
       "      <th>...</th>\n",
       "      <td>...</td>\n",
       "      <td>...</td>\n",
       "      <td>...</td>\n",
       "      <td>...</td>\n",
       "      <td>...</td>\n",
       "      <td>...</td>\n",
       "      <td>...</td>\n",
       "      <td>...</td>\n",
       "      <td>...</td>\n",
       "      <td>...</td>\n",
       "      <td>...</td>\n",
       "      <td>...</td>\n",
       "      <td>...</td>\n",
       "      <td>...</td>\n",
       "      <td>...</td>\n",
       "      <td>...</td>\n",
       "      <td>...</td>\n",
       "      <td>...</td>\n",
       "      <td>...</td>\n",
       "      <td>...</td>\n",
       "      <td>...</td>\n",
       "    </tr>\n",
       "    <tr>\n",
       "      <th>11616979</th>\n",
       "      <td>312</td>\n",
       "      <td>2024-01-12 15:38:53</td>\n",
       "      <td>2024-01-12 15:44:05</td>\n",
       "      <td>NaN</td>\n",
       "      <td>Charlestown Navy Yard</td>\n",
       "      <td>42.374125</td>\n",
       "      <td>-71.054812</td>\n",
       "      <td>NaN</td>\n",
       "      <td>Main St at Thompson Sq</td>\n",
       "      <td>42.374878</td>\n",
       "      <td>...</td>\n",
       "      <td>NaN</td>\n",
       "      <td>NaN</td>\n",
       "      <td>NaN</td>\n",
       "      <td>NaN</td>\n",
       "      <td>NaN</td>\n",
       "      <td>BA5F71F2B4F60857</td>\n",
       "      <td>classic_bike</td>\n",
       "      <td>D32039</td>\n",
       "      <td>D32038</td>\n",
       "      <td>member</td>\n",
       "    </tr>\n",
       "    <tr>\n",
       "      <th>11616980</th>\n",
       "      <td>1926</td>\n",
       "      <td>2024-01-13 12:10:36</td>\n",
       "      <td>2024-01-13 12:42:42</td>\n",
       "      <td>NaN</td>\n",
       "      <td>Newmarket Square T Stop - Massachusetts Ave at...</td>\n",
       "      <td>42.326599</td>\n",
       "      <td>-71.066498</td>\n",
       "      <td>NaN</td>\n",
       "      <td>Somerville City Hall Annex</td>\n",
       "      <td>42.391898</td>\n",
       "      <td>...</td>\n",
       "      <td>NaN</td>\n",
       "      <td>NaN</td>\n",
       "      <td>NaN</td>\n",
       "      <td>NaN</td>\n",
       "      <td>NaN</td>\n",
       "      <td>C77DAA204E19EF6A</td>\n",
       "      <td>classic_bike</td>\n",
       "      <td>C32022</td>\n",
       "      <td>S32036</td>\n",
       "      <td>member</td>\n",
       "    </tr>\n",
       "    <tr>\n",
       "      <th>11616981</th>\n",
       "      <td>2214</td>\n",
       "      <td>2024-01-27 12:08:39</td>\n",
       "      <td>2024-01-27 12:45:33</td>\n",
       "      <td>NaN</td>\n",
       "      <td>Newmarket Square T Stop - Massachusetts Ave at...</td>\n",
       "      <td>42.326599</td>\n",
       "      <td>-71.066498</td>\n",
       "      <td>NaN</td>\n",
       "      <td>Somerville City Hall Annex</td>\n",
       "      <td>42.391898</td>\n",
       "      <td>...</td>\n",
       "      <td>NaN</td>\n",
       "      <td>NaN</td>\n",
       "      <td>NaN</td>\n",
       "      <td>NaN</td>\n",
       "      <td>NaN</td>\n",
       "      <td>77BC9B9BCAD3EBA6</td>\n",
       "      <td>classic_bike</td>\n",
       "      <td>C32022</td>\n",
       "      <td>S32036</td>\n",
       "      <td>member</td>\n",
       "    </tr>\n",
       "    <tr>\n",
       "      <th>11616982</th>\n",
       "      <td>457</td>\n",
       "      <td>2024-01-23 19:13:05</td>\n",
       "      <td>2024-01-23 19:20:42</td>\n",
       "      <td>NaN</td>\n",
       "      <td>Aquarium T Stop - 200 Atlantic Ave</td>\n",
       "      <td>42.360479</td>\n",
       "      <td>-71.050593</td>\n",
       "      <td>NaN</td>\n",
       "      <td>Main St at Thompson Sq</td>\n",
       "      <td>42.374878</td>\n",
       "      <td>...</td>\n",
       "      <td>NaN</td>\n",
       "      <td>NaN</td>\n",
       "      <td>NaN</td>\n",
       "      <td>NaN</td>\n",
       "      <td>NaN</td>\n",
       "      <td>C24A84547C47B792</td>\n",
       "      <td>electric_bike</td>\n",
       "      <td>B32004</td>\n",
       "      <td>D32038</td>\n",
       "      <td>member</td>\n",
       "    </tr>\n",
       "    <tr>\n",
       "      <th>11616983</th>\n",
       "      <td>1150</td>\n",
       "      <td>2024-01-27 00:12:18</td>\n",
       "      <td>2024-01-27 00:31:28</td>\n",
       "      <td>NaN</td>\n",
       "      <td>Aquarium T Stop - 200 Atlantic Ave</td>\n",
       "      <td>42.360441</td>\n",
       "      <td>-71.050439</td>\n",
       "      <td>NaN</td>\n",
       "      <td>Main St at Thompson Sq</td>\n",
       "      <td>42.374878</td>\n",
       "      <td>...</td>\n",
       "      <td>NaN</td>\n",
       "      <td>NaN</td>\n",
       "      <td>NaN</td>\n",
       "      <td>NaN</td>\n",
       "      <td>NaN</td>\n",
       "      <td>0C09D09DCF1171F1</td>\n",
       "      <td>classic_bike</td>\n",
       "      <td>B32004</td>\n",
       "      <td>D32038</td>\n",
       "      <td>casual</td>\n",
       "    </tr>\n",
       "  </tbody>\n",
       "</table>\n",
       "<p>11616984 rows × 21 columns</p>\n",
       "</div>"
      ],
      "text/plain": [
       "          duration          started_at            ended_at  \\\n",
       "0              413 2015-01-01 16:19:32 2015-01-01 16:26:26   \n",
       "1              575 2015-01-02 08:06:49 2015-01-02 08:16:25   \n",
       "2              886 2015-01-02 11:38:38 2015-01-02 11:53:24   \n",
       "3             1027 2015-01-02 13:33:05 2015-01-02 13:50:12   \n",
       "4              383 2015-01-05 10:15:46 2015-01-05 10:22:09   \n",
       "...            ...                 ...                 ...   \n",
       "11616979       312 2024-01-12 15:38:53 2024-01-12 15:44:05   \n",
       "11616980      1926 2024-01-13 12:10:36 2024-01-13 12:42:42   \n",
       "11616981      2214 2024-01-27 12:08:39 2024-01-27 12:45:33   \n",
       "11616982       457 2024-01-23 19:13:05 2024-01-23 19:20:42   \n",
       "11616983      1150 2024-01-27 00:12:18 2024-01-27 00:31:28   \n",
       "\n",
       "          start_station_id_old  \\\n",
       "0                        143.0   \n",
       "1                         90.0   \n",
       "2                         95.0   \n",
       "3                         91.0   \n",
       "4                        143.0   \n",
       "...                        ...   \n",
       "11616979                   NaN   \n",
       "11616980                   NaN   \n",
       "11616981                   NaN   \n",
       "11616982                   NaN   \n",
       "11616983                   NaN   \n",
       "\n",
       "                                         start_station_name  start_lat  \\\n",
       "0                                     EF - North Point Park  42.369885   \n",
       "1               Lechmere Station at Cambridge St / First St  42.370677   \n",
       "2               Cambridge St - at Columbia St / Webster Ave  42.372969   \n",
       "3          One Kendall Square at Hampshire St / Portland St  42.366277   \n",
       "4                                     EF - North Point Park  42.369885   \n",
       "...                                                     ...        ...   \n",
       "11616979                              Charlestown Navy Yard  42.374125   \n",
       "11616980  Newmarket Square T Stop - Massachusetts Ave at...  42.326599   \n",
       "11616981  Newmarket Square T Stop - Massachusetts Ave at...  42.326599   \n",
       "11616982                 Aquarium T Stop - 200 Atlantic Ave  42.360479   \n",
       "11616983                 Aquarium T Stop - 200 Atlantic Ave  42.360441   \n",
       "\n",
       "          start_lng end_station_id_old  \\\n",
       "0        -71.069957                 85   \n",
       "1        -71.076529                 85   \n",
       "2        -71.094445                 85   \n",
       "3        -71.091690                 85   \n",
       "4        -71.069957                 85   \n",
       "...             ...                ...   \n",
       "11616979 -71.054812                NaN   \n",
       "11616980 -71.066498                NaN   \n",
       "11616981 -71.066498                NaN   \n",
       "11616982 -71.050593                NaN   \n",
       "11616983 -71.050439                NaN   \n",
       "\n",
       "                                           end_station_name    end_lat  ...  \\\n",
       "0         Spaulding Rehabilitation Hospital - Charlestow...  42.378338  ...   \n",
       "1         Spaulding Rehabilitation Hospital - Charlestow...  42.378338  ...   \n",
       "2         Spaulding Rehabilitation Hospital - Charlestow...  42.378338  ...   \n",
       "3         Spaulding Rehabilitation Hospital - Charlestow...  42.378338  ...   \n",
       "4         Spaulding Rehabilitation Hospital - Charlestow...  42.378338  ...   \n",
       "...                                                     ...        ...  ...   \n",
       "11616979                             Main St at Thompson Sq  42.374878  ...   \n",
       "11616980                         Somerville City Hall Annex  42.391898  ...   \n",
       "11616981                         Somerville City Hall Annex  42.391898  ...   \n",
       "11616982                             Main St at Thompson Sq  42.374878  ...   \n",
       "11616983                             Main St at Thompson Sq  42.374878  ...   \n",
       "\n",
       "          bikeid  usertype birth year gender  postal code           ride_id  \\\n",
       "0          481.0    member       1983    1.0          NaN               NaN   \n",
       "1         1295.0    member       1983    1.0          NaN               NaN   \n",
       "2          652.0    casual       1992    2.0          NaN               NaN   \n",
       "3         1094.0    member       1983    1.0          NaN               NaN   \n",
       "4          761.0    member       1983    1.0          NaN               NaN   \n",
       "...          ...       ...        ...    ...          ...               ...   \n",
       "11616979     NaN       NaN        NaN    NaN          NaN  BA5F71F2B4F60857   \n",
       "11616980     NaN       NaN        NaN    NaN          NaN  C77DAA204E19EF6A   \n",
       "11616981     NaN       NaN        NaN    NaN          NaN  77BC9B9BCAD3EBA6   \n",
       "11616982     NaN       NaN        NaN    NaN          NaN  C24A84547C47B792   \n",
       "11616983     NaN       NaN        NaN    NaN          NaN  0C09D09DCF1171F1   \n",
       "\n",
       "          rideable_type start_station_id_new end_station_id_new member_casual  \n",
       "0                   NaN                  NaN                NaN           NaN  \n",
       "1                   NaN                  NaN                NaN           NaN  \n",
       "2                   NaN                  NaN                NaN           NaN  \n",
       "3                   NaN                  NaN                NaN           NaN  \n",
       "4                   NaN                  NaN                NaN           NaN  \n",
       "...                 ...                  ...                ...           ...  \n",
       "11616979   classic_bike               D32039             D32038        member  \n",
       "11616980   classic_bike               C32022             S32036        member  \n",
       "11616981   classic_bike               C32022             S32036        member  \n",
       "11616982  electric_bike               B32004             D32038        member  \n",
       "11616983   classic_bike               B32004             D32038        casual  \n",
       "\n",
       "[11616984 rows x 21 columns]"
      ]
     },
     "execution_count": 2,
     "metadata": {},
     "output_type": "execute_result"
    }
   ],
   "source": [
    "trips = []\n",
    "for i in range(1, 25):\n",
    "    trips.append(pd.read_pickle(f'data/bluebikes/trips_combined_boston/{i}.pkl'))\n",
    "combined_trips = pd.concat(trips)\n",
    "combined_trips"
   ]
  },
  {
   "cell_type": "code",
   "execution_count": 3,
   "metadata": {},
   "outputs": [],
   "source": [
    "open_spaces = pd.read_csv('open_spaces_nearest_stations_k_10_d_0.3.csv')"
   ]
  },
  {
   "cell_type": "code",
   "execution_count": 4,
   "metadata": {},
   "outputs": [
    {
     "data": {
      "text/html": [
       "<div>\n",
       "<style scoped>\n",
       "    .dataframe tbody tr th:only-of-type {\n",
       "        vertical-align: middle;\n",
       "    }\n",
       "\n",
       "    .dataframe tbody tr th {\n",
       "        vertical-align: top;\n",
       "    }\n",
       "\n",
       "    .dataframe thead th {\n",
       "        text-align: right;\n",
       "    }\n",
       "</style>\n",
       "<table border=\"1\" class=\"dataframe\">\n",
       "  <thead>\n",
       "    <tr style=\"text-align: right;\">\n",
       "      <th></th>\n",
       "      <th>Number</th>\n",
       "      <th>Name</th>\n",
       "      <th>Latitude</th>\n",
       "      <th>Longitude</th>\n",
       "      <th>Public</th>\n",
       "      <th>Total docks</th>\n",
       "      <th>roundtrip_ratio</th>\n",
       "      <th>trips</th>\n",
       "      <th>log_trips</th>\n",
       "    </tr>\n",
       "  </thead>\n",
       "  <tbody>\n",
       "    <tr>\n",
       "      <th>0</th>\n",
       "      <td>A32019</td>\n",
       "      <td>175 N Harvard St</td>\n",
       "      <td>42.364475</td>\n",
       "      <td>-71.128408</td>\n",
       "      <td>Yes</td>\n",
       "      <td>17</td>\n",
       "      <td>0.041054</td>\n",
       "      <td>175088</td>\n",
       "      <td>5.243256</td>\n",
       "    </tr>\n",
       "    <tr>\n",
       "      <th>1</th>\n",
       "      <td>C32094</td>\n",
       "      <td>2 Hummingbird Lane at Olmsted Green</td>\n",
       "      <td>42.288870</td>\n",
       "      <td>-71.095003</td>\n",
       "      <td>Yes</td>\n",
       "      <td>17</td>\n",
       "      <td>0.329957</td>\n",
       "      <td>691</td>\n",
       "      <td>2.839478</td>\n",
       "    </tr>\n",
       "    <tr>\n",
       "      <th>2</th>\n",
       "      <td>C32106</td>\n",
       "      <td>555 Metropolitan Ave</td>\n",
       "      <td>42.268100</td>\n",
       "      <td>-71.119240</td>\n",
       "      <td>Yes</td>\n",
       "      <td>18</td>\n",
       "      <td>0.275449</td>\n",
       "      <td>334</td>\n",
       "      <td>2.523746</td>\n",
       "    </tr>\n",
       "    <tr>\n",
       "      <th>3</th>\n",
       "      <td>C32105</td>\n",
       "      <td>606 American Legion Hwy at Canterbury St</td>\n",
       "      <td>42.285780</td>\n",
       "      <td>-71.109725</td>\n",
       "      <td>Yes</td>\n",
       "      <td>18</td>\n",
       "      <td>0.075178</td>\n",
       "      <td>1543</td>\n",
       "      <td>3.188366</td>\n",
       "    </tr>\n",
       "    <tr>\n",
       "      <th>4</th>\n",
       "      <td>C32091</td>\n",
       "      <td>645 Summer St</td>\n",
       "      <td>42.341781</td>\n",
       "      <td>-71.039870</td>\n",
       "      <td>Yes</td>\n",
       "      <td>19</td>\n",
       "      <td>0.027830</td>\n",
       "      <td>17032</td>\n",
       "      <td>4.231266</td>\n",
       "    </tr>\n",
       "    <tr>\n",
       "      <th>...</th>\n",
       "      <td>...</td>\n",
       "      <td>...</td>\n",
       "      <td>...</td>\n",
       "      <td>...</td>\n",
       "      <td>...</td>\n",
       "      <td>...</td>\n",
       "      <td>...</td>\n",
       "      <td>...</td>\n",
       "      <td>...</td>\n",
       "    </tr>\n",
       "    <tr>\n",
       "      <th>208</th>\n",
       "      <td>C32034</td>\n",
       "      <td>Watermark Seaport - Boston Wharf Rd at Seaport...</td>\n",
       "      <td>42.351586</td>\n",
       "      <td>-71.045693</td>\n",
       "      <td>Yes</td>\n",
       "      <td>15</td>\n",
       "      <td>0.026880</td>\n",
       "      <td>161461</td>\n",
       "      <td>5.208068</td>\n",
       "    </tr>\n",
       "    <tr>\n",
       "      <th>209</th>\n",
       "      <td>B32021</td>\n",
       "      <td>Wentworth Institute of Technology - Huntington...</td>\n",
       "      <td>42.337586</td>\n",
       "      <td>-71.096271</td>\n",
       "      <td>Yes</td>\n",
       "      <td>12</td>\n",
       "      <td>0.049047</td>\n",
       "      <td>89669</td>\n",
       "      <td>4.952642</td>\n",
       "    </tr>\n",
       "    <tr>\n",
       "      <th>210</th>\n",
       "      <td>D32022</td>\n",
       "      <td>West End Park</td>\n",
       "      <td>42.365908</td>\n",
       "      <td>-71.064467</td>\n",
       "      <td>Yes</td>\n",
       "      <td>35</td>\n",
       "      <td>0.015364</td>\n",
       "      <td>41526</td>\n",
       "      <td>4.618320</td>\n",
       "    </tr>\n",
       "    <tr>\n",
       "      <th>211</th>\n",
       "      <td>B32059</td>\n",
       "      <td>Whittier St Health Center</td>\n",
       "      <td>42.332863</td>\n",
       "      <td>-71.092189</td>\n",
       "      <td>Yes</td>\n",
       "      <td>19</td>\n",
       "      <td>0.017747</td>\n",
       "      <td>12284</td>\n",
       "      <td>4.089340</td>\n",
       "    </tr>\n",
       "    <tr>\n",
       "      <th>212</th>\n",
       "      <td>D32040</td>\n",
       "      <td>Williams St at Washington St</td>\n",
       "      <td>42.306539</td>\n",
       "      <td>-71.107669</td>\n",
       "      <td>Yes</td>\n",
       "      <td>23</td>\n",
       "      <td>0.057739</td>\n",
       "      <td>33253</td>\n",
       "      <td>4.521831</td>\n",
       "    </tr>\n",
       "  </tbody>\n",
       "</table>\n",
       "<p>213 rows × 9 columns</p>\n",
       "</div>"
      ],
      "text/plain": [
       "     Number                                               Name   Latitude  \\\n",
       "0    A32019                                   175 N Harvard St  42.364475   \n",
       "1    C32094                2 Hummingbird Lane at Olmsted Green  42.288870   \n",
       "2    C32106                               555 Metropolitan Ave  42.268100   \n",
       "3    C32105           606 American Legion Hwy at Canterbury St  42.285780   \n",
       "4    C32091                                      645 Summer St  42.341781   \n",
       "..      ...                                                ...        ...   \n",
       "208  C32034  Watermark Seaport - Boston Wharf Rd at Seaport...  42.351586   \n",
       "209  B32021  Wentworth Institute of Technology - Huntington...  42.337586   \n",
       "210  D32022                                      West End Park  42.365908   \n",
       "211  B32059                          Whittier St Health Center  42.332863   \n",
       "212  D32040                       Williams St at Washington St  42.306539   \n",
       "\n",
       "     Longitude Public  Total docks  roundtrip_ratio   trips  log_trips  \n",
       "0   -71.128408    Yes           17         0.041054  175088   5.243256  \n",
       "1   -71.095003    Yes           17         0.329957     691   2.839478  \n",
       "2   -71.119240    Yes           18         0.275449     334   2.523746  \n",
       "3   -71.109725    Yes           18         0.075178    1543   3.188366  \n",
       "4   -71.039870    Yes           19         0.027830   17032   4.231266  \n",
       "..         ...    ...          ...              ...     ...        ...  \n",
       "208 -71.045693    Yes           15         0.026880  161461   5.208068  \n",
       "209 -71.096271    Yes           12         0.049047   89669   4.952642  \n",
       "210 -71.064467    Yes           35         0.015364   41526   4.618320  \n",
       "211 -71.092189    Yes           19         0.017747   12284   4.089340  \n",
       "212 -71.107669    Yes           23         0.057739   33253   4.521831  \n",
       "\n",
       "[213 rows x 9 columns]"
      ]
     },
     "execution_count": 4,
     "metadata": {},
     "output_type": "execute_result"
    }
   ],
   "source": [
    "stations = pd.read_csv('data/bluebikes/stations_with_roundtrip_data.csv')\n",
    "stations"
   ]
  },
  {
   "cell_type": "markdown",
   "metadata": {},
   "source": [
    "# Weighted Roundtrip Ratio Bar Graph\n",
    "Do the thing like Four Seasons"
   ]
  },
  {
   "cell_type": "code",
   "execution_count": 5,
   "metadata": {},
   "outputs": [],
   "source": [
    "# TODO: export this and weighted_roundtrip_ratio\n",
    "def get_nearest_stations(open_space, d=0.3, verbose=False):\n",
    "    station_names = []\n",
    "    num_stations = open_spaces.loc[open_spaces['Name'] == open_space, 'NUM STATIONS'].iloc[0]\n",
    "    for station_id in open_spaces.loc[open_spaces['Name'] == open_space, [f'Station {k}' for k in range(1, num_stations + 1)]].iloc[0]:\n",
    "        station_names.append(stations.loc[stations['Number'] == station_id, 'Name'].iloc[0])\n",
    "    if verbose:\n",
    "        if num_stations == 0:\n",
    "            print(f'No stations within {d} km of {open_space}')\n",
    "        else:\n",
    "            print(f'{num_stations} nearest station{\"s\" if num_stations > 1 else \"\"} to {open_space}: {\", \".join(station_names)}')\n",
    "    return station_names"
   ]
  },
  {
   "cell_type": "markdown",
   "metadata": {},
   "source": [
    "Correlation between weighted roundtrip ratios if you consider trips between two different stations close to an open space as roundtrips or not?"
   ]
  },
  {
   "cell_type": "code",
   "execution_count": 6,
   "metadata": {},
   "outputs": [],
   "source": [
    "def get_weighted_roundtrip_ratio(open_space, verbose=False):\n",
    "    station_names = get_nearest_stations(open_space, verbose=verbose)\n",
    "    if station_names == []:\n",
    "        return None\n",
    "    selected_stations = stations.loc[stations['Name'].isin(station_names)]\n",
    "    return np.average(selected_stations['roundtrip_ratio'], weights=selected_stations['trips'])"
   ]
  },
  {
   "cell_type": "code",
   "execution_count": 7,
   "metadata": {},
   "outputs": [
    {
     "data": {
      "text/html": [
       "<div>\n",
       "<style scoped>\n",
       "    .dataframe tbody tr th:only-of-type {\n",
       "        vertical-align: middle;\n",
       "    }\n",
       "\n",
       "    .dataframe tbody tr th {\n",
       "        vertical-align: top;\n",
       "    }\n",
       "\n",
       "    .dataframe thead th {\n",
       "        text-align: right;\n",
       "    }\n",
       "</style>\n",
       "<table border=\"1\" class=\"dataframe\">\n",
       "  <thead>\n",
       "    <tr style=\"text-align: right;\">\n",
       "      <th></th>\n",
       "      <th>Name</th>\n",
       "      <th>weighted_roundtrip_ratio</th>\n",
       "    </tr>\n",
       "  </thead>\n",
       "  <tbody>\n",
       "    <tr>\n",
       "      <th>0</th>\n",
       "      <td>Wilson Park</td>\n",
       "      <td>NaN</td>\n",
       "    </tr>\n",
       "    <tr>\n",
       "      <th>1</th>\n",
       "      <td>James H. Roberts Playground</td>\n",
       "      <td>0.051670</td>\n",
       "    </tr>\n",
       "    <tr>\n",
       "      <th>2</th>\n",
       "      <td>Smith Playground</td>\n",
       "      <td>0.041054</td>\n",
       "    </tr>\n",
       "    <tr>\n",
       "      <th>3</th>\n",
       "      <td>Fern Square</td>\n",
       "      <td>NaN</td>\n",
       "    </tr>\n",
       "    <tr>\n",
       "      <th>4</th>\n",
       "      <td>Ringer Playground</td>\n",
       "      <td>0.031234</td>\n",
       "    </tr>\n",
       "    <tr>\n",
       "      <th>...</th>\n",
       "      <td>...</td>\n",
       "      <td>...</td>\n",
       "    </tr>\n",
       "    <tr>\n",
       "      <th>529</th>\n",
       "      <td>Mahoney Park</td>\n",
       "      <td>0.028803</td>\n",
       "    </tr>\n",
       "    <tr>\n",
       "      <th>530</th>\n",
       "      <td>Boundary I</td>\n",
       "      <td>NaN</td>\n",
       "    </tr>\n",
       "    <tr>\n",
       "      <th>531</th>\n",
       "      <td>Sprague Pond</td>\n",
       "      <td>NaN</td>\n",
       "    </tr>\n",
       "    <tr>\n",
       "      <th>532</th>\n",
       "      <td>Codman Square</td>\n",
       "      <td>0.126667</td>\n",
       "    </tr>\n",
       "    <tr>\n",
       "      <th>533</th>\n",
       "      <td>Murphy Playground I</td>\n",
       "      <td>0.076338</td>\n",
       "    </tr>\n",
       "  </tbody>\n",
       "</table>\n",
       "<p>534 rows × 2 columns</p>\n",
       "</div>"
      ],
      "text/plain": [
       "                            Name  weighted_roundtrip_ratio\n",
       "0                    Wilson Park                       NaN\n",
       "1    James H. Roberts Playground                  0.051670\n",
       "2               Smith Playground                  0.041054\n",
       "3                    Fern Square                       NaN\n",
       "4              Ringer Playground                  0.031234\n",
       "..                           ...                       ...\n",
       "529                 Mahoney Park                  0.028803\n",
       "530                   Boundary I                       NaN\n",
       "531                 Sprague Pond                       NaN\n",
       "532                Codman Square                  0.126667\n",
       "533          Murphy Playground I                  0.076338\n",
       "\n",
       "[534 rows x 2 columns]"
      ]
     },
     "execution_count": 7,
     "metadata": {},
     "output_type": "execute_result"
    }
   ],
   "source": [
    "open_spaces['weighted_roundtrip_ratio'] = open_spaces['Name'].apply(get_weighted_roundtrip_ratio)\n",
    "open_spaces[['Name', 'weighted_roundtrip_ratio']]"
   ]
  },
  {
   "cell_type": "code",
   "execution_count": 8,
   "metadata": {},
   "outputs": [
    {
     "data": {
      "application/vnd.plotly.v1+json": {
       "config": {
        "plotlyServerURL": "https://plot.ly"
       },
       "data": [
        {
         "alignmentgroup": "True",
         "hovertemplate": "Name=%{x}<br>weighted_roundtrip_ratio=%{y}<extra></extra>",
         "legendgroup": "",
         "marker": {
          "color": "#636efa",
          "pattern": {
           "shape": ""
          }
         },
         "name": "",
         "offsetgroup": "",
         "orientation": "v",
         "showlegend": false,
         "textposition": "auto",
         "type": "bar",
         "x": [
          "Riverway IV",
          "Riverway V",
          "Riverway III",
          "Joslin Park",
          "Nashua Street Park",
          "Federal Reserve Bank Harborwalk",
          "Russia Wharf Harborwalk",
          "Tai Tung Park",
          "Hanlon Square",
          "Lincoln Street Green",
          "Chinatown Park",
          "Dewey Square Parks",
          "Norman Leventhal Park",
          "Mission Hill Playground",
          "Roxbury Heritage State Park I",
          "Peters Park II",
          "Bradford Street Play Area",
          "Temple Street Park",
          "Tufts Wharf Harborwalk",
          "Independence Wharf Harborwalk",
          "Kittredge Park",
          "Lambert Avenue Playground",
          "Myrtle Street Playground",
          "Phillips Street Play Area",
          "Frieda Garcia Park",
          "Martin's Park",
          "Children's Wharf Harborwalk",
          "Puerto Rican Veterans Memorial Park",
          "Waltham Square",
          "St Helena's Park",
          "Msgr. Reynolds Playground",
          "South Bank Park",
          "Union Park",
          "DeFilippo Playground",
          "Portal Park",
          "Bunker Hill Monument",
          "Rink Grounds 1",
          "Peter Looney Park",
          "Phipps Street Burying Ground",
          "Jeep Jones Park",
          "King Street Play Area",
          "Ringgold Park",
          "Peters Park I",
          "Watson Park",
          "Linwood Park",
          "Gibbons Playground",
          "Rotch Playground",
          "Childe Hassam Park",
          "Blackstone Square",
          "Worcester Square",
          "South End South Burying Ground",
          "Caldwell Street Play Area",
          "Franklin Square",
          "General Edward O. Gourdin African-American Veterans Memorial Park",
          "408 Atlantic Avenue Harborwalk",
          "Edgerly Road Playground",
          "O'Day Playground",
          "Newland Street Park",
          "400R Atlantic Avenue Harborwalk",
          "The Fenway II",
          "Park Drive II",
          "Copley Square Park",
          "Reserved Channel Harborwalk",
          "Concord Square",
          "Rutland Square",
          "BPL Courtyard",
          "Clifford Playground",
          "Mahoney Park",
          "Flaherty Park",
          "A Street Park",
          "City Hall Plaza",
          "King's Chapel Burying Ground",
          "Stony Brook Sewer Easement",
          "Carter Playground",
          "Cutillo Park",
          "Endicott Triangle",
          "Faneuil Square",
          "Hayes Park",
          "Angell Memorial Square",
          "Union Street Park I",
          "Ringer Playground",
          "Commonwealth Avenue Outbound",
          "Fan Pier Plaza",
          "Ramler Park",
          "Polcari Park",
          "Penniman Road Play Area",
          "Union Square Plaza",
          "Fidelis Way Park",
          "Amory Street Park",
          "Harriet Tubman Square",
          "Hiscock Park",
          "North End Park",
          "Eliot Burying Ground",
          "Buckley Playground",
          "Sweeney Playground",
          "Orton Field",
          "Boylston Street I",
          "Menino Park",
          "Spaulding Rehabilitation Plaza",
          "Ramsay Park",
          "Pier Four Harborwalk",
          "ICA Pier Walk",
          "Fan Pier Harborwalk",
          "Melnea A. Cass Recreational Complex",
          "Malcolm X Park I",
          "Heath Square",
          "Mozart Street Playground",
          "Wharf District Park",
          "Rowe's Wharf Harborwalk",
          "Chester Square",
          "Braddock Park",
          "Essex Square",
          "Clarendon Street Playlot",
          "Bay Village Garden",
          "Elliot Norton Park",
          "Leo F. McCarthy Playground",
          "Nira Rock",
          "Olmsted Park",
          "Jefferson Playground",
          "Jamaicaway",
          "Back of the Hill Urban Wild",
          "Central Burying Ground",
          "Commonwealth Avenue Mall II",
          "Bay Village Neighborhood Park",
          "Mahoney Square",
          "Paul Gore Street Park",
          "Cunningham Park",
          "Market Street Burying Ground",
          "Public Ground",
          "Smith Playground",
          "Aquarium Harborwalk II",
          "India Wharf Harborwalk",
          "Aquarium Harborwalk I",
          "Rachel Revere Square",
          "Symphony Community Park",
          "Granary Burying Ground",
          "John Harvard Mall",
          "Navy Yard Grounds",
          "Charlestown Naval Shipyard Park I",
          "Patrick J. Kelly Park",
          "Holborn Street Playlot",
          "Walnut Park",
          "Robert G. Lawson Park",
          "Statler Park",
          "Lincoln Square 1",
          "Madison Park H.S. Athletic Fields",
          "City Square",
          "Paul Revere Park",
          "Winthrop Square",
          "Mt. Bowdoin Green",
          "Armenian Heritage Park",
          "Commercial Wharf Harborwalk",
          "Long Wharf",
          "Raymond V. Mellone Park I",
          "Rena Park",
          "Raymond V. Mellone Park II",
          "James H. Roberts Playground",
          "Joe's American Harborwalk",
          "Christopher Columbus Park",
          "Portsmouth Street Playground",
          "Charlestown H.S. Athletic Fields",
          "Charlestown Sprouts Garden",
          "Bunker Hill Burying Ground",
          "Cook Street Play Area",
          "Dudley Town Common",
          "Boston Common",
          "Rossmore/Stedman Park",
          "English H.S. Athletic Fields",
          "Southwest Corridor Park",
          "Johnson Park II",
          "Johnson Park I",
          "Flaherty Playground",
          "Beecher Street Play Area",
          "First Church Cemetery",
          "Brewer-Burroughs Tot Lot",
          "Soldier's Monument",
          "Commonwealth Avenue Mall I",
          "Horatio Harris Park",
          "Crawford Street Playground",
          "Wolf Square",
          "Allen Park",
          "Coppens Square",
          "Fernald Rock",
          "Murphy Playground I",
          "South Street Mall & Courts",
          "Public Garden",
          "Veterans Park II",
          "Shubow Park I",
          "Shubow Park II",
          "Hardiman Playground",
          "Oak Square I",
          "Central Square",
          "Sharon's Park",
          "Columbia Road Park",
          "Fenelon Street Playground",
          "Bremen Street Park II",
          "Toll Gate Cemetery",
          "Parkman Playground",
          "Bussey Brook Meadow I",
          "Ceylon Park",
          "Grove Hall Plaza",
          "Arborway Overpass Path",
          "Bussey Brook Meadow II",
          "Arborway I",
          "Florida Street Reservation",
          "Duffie Square",
          "Rogers Park",
          "Adams Park",
          "Roberts Playground",
          "Rev. Loesch Family Park",
          "St Mary's Cemetery",
          "Peabody Square",
          "McConnell Park",
          "Codman Burying Ground",
          "Codman Square",
          "Doherty/Gibson Playground",
          "Reilly Playground",
          "Cassidy Playground",
          "East Boston Greenway",
          "Father Jack Play Area",
          "East Boston Memorial Park III",
          "Bremen Street Park I",
          "Westerly Burying Ground",
          "Billings Field",
          "Zero Quinn Way",
          "Fallon Field",
          "Webster Square",
          "Columbia Park",
          "White Stadium",
          "Navy Fuel Pier Airport Edge Buffer",
          "Porzio Park",
          "LoPresti Park",
          "Sumner & Lamson Street Playground",
          "Brophy Park",
          "UMass Harborwalk",
          "Constitution Beach",
          "Noyes Playground",
          "Paris Street Playground",
          "Woodhaven",
          "East Boston Greenway Extension",
          "McLean Playground",
          "Temple Ohabei Shalom Cemetery",
          "Cuneo Park",
          "Blue Hill Club Recreation Center",
          "Harambee Park",
          "Puddingstone Park",
          "Erie/Ellington Playground",
          "Marine Park",
          "Babson Cookson Tract",
          "Hunt Playground II",
          "Hunt Playground",
          "Henry Square",
          "Ross Playground",
          "Foley Square",
          "Wilson Park",
          "Fern Square",
          "McKinney Playground",
          "Hobart Park",
          "Jackson Square",
          "Boyden Park",
          "Evergreen Cemetery",
          "Chandler Pond",
          "Mullen Square",
          "Dorchester North Burying Ground",
          "Downer Avenue Playground",
          "Quincy/Stanley Play Area",
          "Deer Street Park",
          "Savin Hill Beach",
          "Old Harbor Park",
          "Copp's Hill Burying Ground",
          "Copp's Hill Terrace",
          "Foster Street Play Area",
          "Charter Street Park",
          "Paul Revere Mall",
          "Langone Park",
          "Prince Street Park",
          "Ryan Playground",
          "Barry Playground",
          "Doherty Playground",
          "St Francis De Sales Cemetery",
          "Hayes Square",
          "East Boston Memorial Park I",
          "Bennington Street Cemetery",
          "American Legion Playground",
          "Prescott Square",
          "Putnam Square",
          "Condor Street Beach I",
          "Gallops Island",
          "Lovells Island",
          "Georges Island",
          "Thompson Island",
          "Connell Fields/Hickey Courts",
          "Weider Park",
          "Monterey Hilltop I",
          "Sherrin Woods I",
          "Doyle Playground",
          "West Street",
          "Dell Rock I",
          "Amatucci Playground",
          "Moynihan Playground",
          "Iacono/Readville Playground",
          "Camp Meigs",
          "Jeremiah Hurley Memorial Park",
          "Stony Brook Recreation Complex",
          "Williams Square",
          "Dana Avenue Urban Wild I",
          "Mother Brook Reservation",
          "Lawrence Farm",
          "Thetford/Evans Playground",
          "Gladeside I",
          "Willowwood Rock",
          "Msgr. Francis A. Ryan Park",
          "Walker Playground",
          "Kennedy Playground",
          "Forest Hills Cemetery",
          "Walter Street Cemetery",
          "Pagel Playground",
          "Poplar Street Play Area",
          "Delano Park",
          "Rockledge Street Urban Wild",
          "St James Street Park",
          "Trotter School Playground",
          "Marcella Playground",
          "Highland Park",
          "Cedar Square",
          "Elm Hill Park",
          "Quincy Street Play Area",
          "Howes Playground",
          "Little Scobie Playground",
          "Bynoe Park",
          "Buena Vista",
          "Dennis Street Park",
          "Medal of Honor Park",
          "Christopher Lee Playground",
          "Hawes Burying Ground",
          "Union Burying Ground",
          "Dorchester Heights NHS",
          "Ronan Park",
          "Byrne Playground",
          "Wellesley Park",
          "McMorrow Playground",
          "Hemenway Playground",
          "Walsh Playground",
          "Dorchester South Burying Ground",
          "Dorchester Park",
          "Gallivan/Hallet Circle",
          "Toohig Playground",
          "Martin/Hilltop Playground",
          "10 Josephine Street Garden",
          "Mother's Rest at Four Corners",
          "Ripley Playground",
          "Garvey Playground",
          "Ventura Playground",
          "Geneva Cliffs I",
          "Titus Sparrow Park",
          "Commonwealth Plaza",
          "Mount Benedict Cemetery",
          "Mount Lebanon Cemetery",
          "Gethsemane Cemetery",
          "Hancock Woods I",
          "Sawmill Brook/Brook Farm",
          "Congregation Mishkan Tefia Cemetery",
          "Draper Playground",
          "Piemonte Park",
          "St Joseph's Cemetery",
          "Allandale Woods I",
          "Allandale Woods III",
          "Bellevue Hill Reservation",
          "West Roxbury H.S. Athletic Fields",
          "Chestnut Hill Reservoir",
          "East Boston Piers Park",
          "L Street Beach",
          "M Street Beach",
          "Stonehill Park",
          "Strandway/Castle Island",
          "Malibu Beach",
          "Victory Road Park",
          "Parkman Memorial",
          "West Roxbury High School Marsh",
          "West Roxbury Parkway",
          "Tenean Beach",
          "Cedar Grove Cemetery",
          "Martini Playground",
          "Reservation Road Park",
          "Colella Playground",
          "Neponset Valley Parkway",
          "Dooley Playground",
          "Stony Brook Reservation I",
          "Clark/Cooper Community Garden",
          "Kennedy Garden",
          "Havey Beach",
          "Millennium Park I",
          "Golden Stairs Terrace Park I",
          "The Rockies",
          "Nellie Miranda Memorial Park",
          "Chestnut Hill Reservoir Garden",
          "Ohrenberger Play Area",
          "Wilson Square",
          "Little Mystic Access Area",
          "Moakley Park",
          "Kennedy Library Harborwalk",
          "Savin Hill Cove",
          "Daniel E. O'Connor Park",
          "Oakview Terrace",
          "Belle Isle Marsh Reservation",
          "Allandale Field",
          "Perkins Street",
          "Chestnut Street",
          "American Legion Highway",
          "Morton Street",
          "St Michael's Cemetery",
          "Patten's Cove",
          "Leo M. Birmingham Parkway",
          "Rivermoor II",
          "Rivermoor III",
          "Parley Vale Preserve",
          "Condor Street Overlook",
          "Truman Parkway",
          "West Austin Rock",
          "Franklin Park Zoo",
          "Stanley-Bellevue Park",
          "Allandale Woods ROW",
          "Theresa Hynes Park",
          "Ernst Chery Jr. Playground",
          "Millennium Park II",
          "North Point Park",
          "McGann Park",
          "Franklin Park II",
          "Brian Honan Park",
          "Allandale Woods II",
          "Mattahunt Woods II",
          "Mattahunt Woods I",
          "Beethoven School Play Area",
          "Algonquin Square",
          "Golden Stairs Terrace Park II",
          "Jones Square",
          "Schraffts Centre Harborwalk",
          "Roslindale Wetlands Urban Wild I",
          "Woodworth Square",
          "East Boston Memorial Park II",
          "Arborway II",
          "Allandale Woods IV",
          "Allandale Woods V",
          "Back Bay Fens",
          "Riverway I",
          "Jamaica Pond Park",
          "Charlesgate II",
          "Agassiz Road",
          "Boylston Street II",
          "Park Drive I",
          "Fire Alarm House Grounds",
          "Riverway II",
          "Centre Street II",
          "Centre Street I",
          "Centre Street IV",
          "Tunnel Harborwalk",
          "Nancy Kafka Reserve",
          "Brighton Common",
          "Ryan Play Area",
          "Adams/King Playground",
          "Meany Park",
          "Elmhurst Street Park",
          "Dunbarton Woods",
          "Lincoln Square 2",
          "Laviscount Park",
          "Hynes Playground",
          "Blake Estates Urban Wild I",
          "Railroad Avenue",
          "Fairview Cemetery",
          "Joyce Playground",
          "St Augustine Burying Ground",
          "The Fenway I",
          "Tebroc Street Playlot",
          "Mt. Pleasant Play Area",
          "Emmel Square",
          "Tremlett Square",
          "Bonito Square",
          "Richardson Park",
          "Willow Pond Meadow",
          "Stony Brook Reservation III",
          "George Wright Golf Course",
          "DeForest Urban Wild",
          "McLaughlin Playground",
          "Parker Hilltop",
          "Beauford Play Area",
          "Children's Park",
          "Winthrop Playground",
          "Denton Square",
          "Hannon Playground",
          "Healy Playground",
          "Spectacle Island I",
          "Spectacle Island II",
          "Massport Harborwalk",
          "Puopolo Playground",
          "Stony Brook Reservation II",
          "Fort Point Channel Harborwalk",
          "Franklin Park",
          "Charlesgate I",
          "Arnold Arboretum",
          "Pope John Paul II Park I",
          "Port Norfolk Park",
          "Pope John Paul II Park II",
          "Neponset River Reservation I",
          "West Link Park",
          "Carson Beach",
          "Commercial Point",
          "Charles River Reservation",
          "Forbes Street Playground",
          "Union Park Street Playground",
          "Mt. Hope Cemetery",
          "Calvary Cemetery",
          "New Calvary Cemetery",
          "Savin Hill Park",
          "Boston Nature Center_Visitor Ctr",
          "Boston Nature Center",
          "VFW Parkway I",
          "VFW Parkway II",
          "Carroll Pond Playground",
          "O'Donnell Square",
          "Grove Street Cemetery",
          "Columbia Road/Day Boulevard",
          "Bellevue Street Green",
          "Mirabella Pool",
          "Theresa Hynes Park Access Easement",
          "Blake Estates Urban Wild II",
          "Stony Brook Reservation CR",
          "Rink Grounds 2",
          "Mount Hope Park",
          "Wood Island Bay Edge Park",
          "Dearborn Street Square",
          "Paula Titus Park",
          "Nonquit Street Green",
          "Boundary I",
          "Sprague Pond"
         ],
         "xaxis": "x",
         "y": [
          0.0120978828704976,
          0.0120978828704976,
          0.0120978828704976,
          0.012991259884654183,
          0.015363868419785098,
          0.0158956603370576,
          0.016736284990926685,
          0.01741754639781176,
          0.018195267606650183,
          0.018652409607304004,
          0.018652409607304004,
          0.0193322475570032,
          0.0193322475570032,
          0.0197220014179216,
          0.01972439279592148,
          0.0201639850818128,
          0.0201639850818128,
          0.020388831250845743,
          0.0204489308637013,
          0.0204489308637013,
          0.0204688218170675,
          0.0204688218170675,
          0.0205206459106748,
          0.0205206459106748,
          0.020828823347004668,
          0.021084952041706004,
          0.021084952041706004,
          0.021470820610279447,
          0.021470820610279447,
          0.021470820610279447,
          0.021470820610279447,
          0.021488069477605027,
          0.02169169495652006,
          0.0218901391843744,
          0.0218901391843744,
          0.0219465456379223,
          0.02196344026666094,
          0.02196344026666094,
          0.02196947323685966,
          0.02209960533018481,
          0.02209960533018481,
          0.022524313362577205,
          0.022524313362577205,
          0.022524313362577205,
          0.0227457154968812,
          0.0227457154968812,
          0.023390861623046,
          0.02340546319590331,
          0.0235063337433919,
          0.0235063337433919,
          0.0235063337433919,
          0.023795315530359504,
          0.02379657941485065,
          0.0238782565308813,
          0.02409131270348793,
          0.0253370864727393,
          0.025495967796464937,
          0.02573189100369705,
          0.026545121406452234,
          0.0269565742794748,
          0.0269565742794748,
          0.027013568236383532,
          0.0278299671207139,
          0.02822882837871591,
          0.02822882837871591,
          0.028376544661757496,
          0.0287784467802837,
          0.0288033423915448,
          0.0288033423915448,
          0.0288033423915448,
          0.028860736224513187,
          0.029175163261388398,
          0.0293518744770494,
          0.029551751769146803,
          0.029845107669059304,
          0.029845107669059304,
          0.030206898813036863,
          0.03061238080017042,
          0.0306594638670879,
          0.030873497861274322,
          0.0312344693604012,
          0.0312344693604012,
          0.031294929854007586,
          0.031932341491031926,
          0.0320058483603704,
          0.0323114292400681,
          0.0323114292400681,
          0.03252982959960354,
          0.0326207442596991,
          0.03281216186972512,
          0.03281216186972512,
          0.032990435674248066,
          0.0329964513250461,
          0.0330226791915179,
          0.0330226791915179,
          0.0330226791915179,
          0.0331055166248522,
          0.0333705810646078,
          0.0333705810646078,
          0.033847407496830975,
          0.03515017929247618,
          0.03515017929247618,
          0.03515017929247618,
          0.035521087653789,
          0.035521087653789,
          0.0356737963872723,
          0.0356737963872723,
          0.03577607778651599,
          0.03577607778651599,
          0.035885296174745736,
          0.036399414003242016,
          0.036575640666422375,
          0.036650379203708,
          0.03686190470644409,
          0.03686190470644409,
          0.0369510159778714,
          0.0385007310265384,
          0.0385007310265384,
          0.0385007310265384,
          0.0385007310265384,
          0.0385007310265384,
          0.039462813710550916,
          0.03989629375397125,
          0.04005199020300215,
          0.040348391835878,
          0.040348391835878,
          0.0407578052002448,
          0.0407578052002448,
          0.0407578052002448,
          0.0410536415973681,
          0.04235384317330241,
          0.04235384317330241,
          0.04235384317330241,
          0.04246010774731454,
          0.0427840572325801,
          0.043316201519639656,
          0.044315323174915065,
          0.0444325930440745,
          0.0444325930440745,
          0.0444325930440745,
          0.0469651031448784,
          0.0474144624462963,
          0.0474144624462963,
          0.047707533927172224,
          0.047707533927172224,
          0.0481768685035472,
          0.0502597145016644,
          0.0502597145016644,
          0.0502597145016644,
          0.0509554140127388,
          0.05114325948416942,
          0.0513097567386035,
          0.0513097567386035,
          0.0516696852220509,
          0.0516696852220509,
          0.0516696852220509,
          0.0516696852220509,
          0.05354929078585112,
          0.05354929078585112,
          0.053632398753894,
          0.0537648934158268,
          0.0537648934158268,
          0.0537648934158268,
          0.0537648934158268,
          0.05410806240873099,
          0.05528781360847859,
          0.0577391513547649,
          0.0577391513547649,
          0.0585376457618433,
          0.0585376457618433,
          0.0585376457618433,
          0.0585376457618433,
          0.0592069442932034,
          0.0669585115908864,
          0.0669585115908864,
          0.0669585115908864,
          0.0694493971972898,
          0.0711049146043917,
          0.0711049146043917,
          0.0711049146043917,
          0.0752602081665332,
          0.0752602081665332,
          0.0752602081665332,
          0.07633846269611338,
          0.07633846269611338,
          0.07769100702183875,
          0.07962725440410434,
          0.0807051255273821,
          0.0807051255273821,
          0.0876677316293929,
          0.0876677316293929,
          0.08818092856366204,
          0.0907518450184501,
          0.0907518450184501,
          0.09107768390686173,
          0.0931329207191276,
          0.0955041234370843,
          0.0955041234370843,
          0.0955041234370843,
          0.0960321136328547,
          0.0986259149865159,
          0.1051485759776445,
          0.1051485759776445,
          0.1054500540373629,
          0.1054706752094628,
          0.1059050064184852,
          0.1084904171008177,
          0.10911042213212492,
          0.1106107007746352,
          0.1143005585140927,
          0.1196581196581196,
          0.1217022915463123,
          0.122948312773983,
          0.1266666666666666,
          0.1266666666666666,
          0.1371787455582183,
          0.1447391982809342,
          0.1447391982809342,
          0.1606547748253891,
          0.1777930324352153,
          0.1836538461538461,
          0.1836538461538461,
          0.1983769161406672,
          0.1983769161406672,
          0.1983769161406672,
          0.2009910802775024,
          0.2166666666666666,
          0.2214878357474335,
          0.2301487721813945,
          0.2333584054155697,
          0.2333584054155697,
          0.2369595864661654,
          0.2473856209150327,
          0.2473856209150327,
          0.2550626243708299,
          0.2599708879184861,
          0.2599708879184861,
          0.2708803611738149,
          0.2758620689655172,
          0.292399022232569,
          0.292399022232569,
          0.292399022232569,
          0.292399022232569,
          0.2967101179391682,
          0.2967101179391682,
          0.3070751898950243,
          0.3070751898950243,
          0.3087432016327879,
          0.3268348623853211,
          0.3268348623853211,
          0.3268348623853211,
          0.4158212698050837,
          0.5511811023622047,
          0.5511811023622047,
          null,
          null,
          null,
          null,
          null,
          null,
          null,
          null,
          null,
          null,
          null,
          null,
          null,
          null,
          null,
          null,
          null,
          null,
          null,
          null,
          null,
          null,
          null,
          null,
          null,
          null,
          null,
          null,
          null,
          null,
          null,
          null,
          null,
          null,
          null,
          null,
          null,
          null,
          null,
          null,
          null,
          null,
          null,
          null,
          null,
          null,
          null,
          null,
          null,
          null,
          null,
          null,
          null,
          null,
          null,
          null,
          null,
          null,
          null,
          null,
          null,
          null,
          null,
          null,
          null,
          null,
          null,
          null,
          null,
          null,
          null,
          null,
          null,
          null,
          null,
          null,
          null,
          null,
          null,
          null,
          null,
          null,
          null,
          null,
          null,
          null,
          null,
          null,
          null,
          null,
          null,
          null,
          null,
          null,
          null,
          null,
          null,
          null,
          null,
          null,
          null,
          null,
          null,
          null,
          null,
          null,
          null,
          null,
          null,
          null,
          null,
          null,
          null,
          null,
          null,
          null,
          null,
          null,
          null,
          null,
          null,
          null,
          null,
          null,
          null,
          null,
          null,
          null,
          null,
          null,
          null,
          null,
          null,
          null,
          null,
          null,
          null,
          null,
          null,
          null,
          null,
          null,
          null,
          null,
          null,
          null,
          null,
          null,
          null,
          null,
          null,
          null,
          null,
          null,
          null,
          null,
          null,
          null,
          null,
          null,
          null,
          null,
          null,
          null,
          null,
          null,
          null,
          null,
          null,
          null,
          null,
          null,
          null,
          null,
          null,
          null,
          null,
          null,
          null,
          null,
          null,
          null,
          null,
          null,
          null,
          null,
          null,
          null,
          null,
          null,
          null,
          null,
          null,
          null,
          null,
          null,
          null,
          null,
          null,
          null,
          null,
          null,
          null,
          null,
          null,
          null,
          null,
          null,
          null,
          null,
          null,
          null,
          null,
          null,
          null,
          null,
          null,
          null,
          null,
          null,
          null,
          null,
          null,
          null,
          null,
          null,
          null,
          null,
          null,
          null,
          null,
          null,
          null,
          null,
          null,
          null,
          null,
          null,
          null,
          null,
          null,
          null,
          null,
          null,
          null,
          null,
          null,
          null,
          null,
          null,
          null,
          null,
          null,
          null,
          null,
          null,
          null,
          null,
          null,
          null,
          null,
          null,
          null,
          null,
          null,
          null,
          null,
          null,
          null,
          null,
          null,
          null,
          null,
          null,
          null,
          null,
          null,
          null,
          null,
          null
         ],
         "yaxis": "y"
        }
       ],
       "layout": {
        "barmode": "relative",
        "legend": {
         "tracegroupgap": 0
        },
        "margin": {
         "t": 60
        },
        "template": {
         "data": {
          "bar": [
           {
            "error_x": {
             "color": "#2a3f5f"
            },
            "error_y": {
             "color": "#2a3f5f"
            },
            "marker": {
             "line": {
              "color": "#E5ECF6",
              "width": 0.5
             },
             "pattern": {
              "fillmode": "overlay",
              "size": 10,
              "solidity": 0.2
             }
            },
            "type": "bar"
           }
          ],
          "barpolar": [
           {
            "marker": {
             "line": {
              "color": "#E5ECF6",
              "width": 0.5
             },
             "pattern": {
              "fillmode": "overlay",
              "size": 10,
              "solidity": 0.2
             }
            },
            "type": "barpolar"
           }
          ],
          "carpet": [
           {
            "aaxis": {
             "endlinecolor": "#2a3f5f",
             "gridcolor": "white",
             "linecolor": "white",
             "minorgridcolor": "white",
             "startlinecolor": "#2a3f5f"
            },
            "baxis": {
             "endlinecolor": "#2a3f5f",
             "gridcolor": "white",
             "linecolor": "white",
             "minorgridcolor": "white",
             "startlinecolor": "#2a3f5f"
            },
            "type": "carpet"
           }
          ],
          "choropleth": [
           {
            "colorbar": {
             "outlinewidth": 0,
             "ticks": ""
            },
            "type": "choropleth"
           }
          ],
          "contour": [
           {
            "colorbar": {
             "outlinewidth": 0,
             "ticks": ""
            },
            "colorscale": [
             [
              0,
              "#0d0887"
             ],
             [
              0.1111111111111111,
              "#46039f"
             ],
             [
              0.2222222222222222,
              "#7201a8"
             ],
             [
              0.3333333333333333,
              "#9c179e"
             ],
             [
              0.4444444444444444,
              "#bd3786"
             ],
             [
              0.5555555555555556,
              "#d8576b"
             ],
             [
              0.6666666666666666,
              "#ed7953"
             ],
             [
              0.7777777777777778,
              "#fb9f3a"
             ],
             [
              0.8888888888888888,
              "#fdca26"
             ],
             [
              1,
              "#f0f921"
             ]
            ],
            "type": "contour"
           }
          ],
          "contourcarpet": [
           {
            "colorbar": {
             "outlinewidth": 0,
             "ticks": ""
            },
            "type": "contourcarpet"
           }
          ],
          "heatmap": [
           {
            "colorbar": {
             "outlinewidth": 0,
             "ticks": ""
            },
            "colorscale": [
             [
              0,
              "#0d0887"
             ],
             [
              0.1111111111111111,
              "#46039f"
             ],
             [
              0.2222222222222222,
              "#7201a8"
             ],
             [
              0.3333333333333333,
              "#9c179e"
             ],
             [
              0.4444444444444444,
              "#bd3786"
             ],
             [
              0.5555555555555556,
              "#d8576b"
             ],
             [
              0.6666666666666666,
              "#ed7953"
             ],
             [
              0.7777777777777778,
              "#fb9f3a"
             ],
             [
              0.8888888888888888,
              "#fdca26"
             ],
             [
              1,
              "#f0f921"
             ]
            ],
            "type": "heatmap"
           }
          ],
          "heatmapgl": [
           {
            "colorbar": {
             "outlinewidth": 0,
             "ticks": ""
            },
            "colorscale": [
             [
              0,
              "#0d0887"
             ],
             [
              0.1111111111111111,
              "#46039f"
             ],
             [
              0.2222222222222222,
              "#7201a8"
             ],
             [
              0.3333333333333333,
              "#9c179e"
             ],
             [
              0.4444444444444444,
              "#bd3786"
             ],
             [
              0.5555555555555556,
              "#d8576b"
             ],
             [
              0.6666666666666666,
              "#ed7953"
             ],
             [
              0.7777777777777778,
              "#fb9f3a"
             ],
             [
              0.8888888888888888,
              "#fdca26"
             ],
             [
              1,
              "#f0f921"
             ]
            ],
            "type": "heatmapgl"
           }
          ],
          "histogram": [
           {
            "marker": {
             "pattern": {
              "fillmode": "overlay",
              "size": 10,
              "solidity": 0.2
             }
            },
            "type": "histogram"
           }
          ],
          "histogram2d": [
           {
            "colorbar": {
             "outlinewidth": 0,
             "ticks": ""
            },
            "colorscale": [
             [
              0,
              "#0d0887"
             ],
             [
              0.1111111111111111,
              "#46039f"
             ],
             [
              0.2222222222222222,
              "#7201a8"
             ],
             [
              0.3333333333333333,
              "#9c179e"
             ],
             [
              0.4444444444444444,
              "#bd3786"
             ],
             [
              0.5555555555555556,
              "#d8576b"
             ],
             [
              0.6666666666666666,
              "#ed7953"
             ],
             [
              0.7777777777777778,
              "#fb9f3a"
             ],
             [
              0.8888888888888888,
              "#fdca26"
             ],
             [
              1,
              "#f0f921"
             ]
            ],
            "type": "histogram2d"
           }
          ],
          "histogram2dcontour": [
           {
            "colorbar": {
             "outlinewidth": 0,
             "ticks": ""
            },
            "colorscale": [
             [
              0,
              "#0d0887"
             ],
             [
              0.1111111111111111,
              "#46039f"
             ],
             [
              0.2222222222222222,
              "#7201a8"
             ],
             [
              0.3333333333333333,
              "#9c179e"
             ],
             [
              0.4444444444444444,
              "#bd3786"
             ],
             [
              0.5555555555555556,
              "#d8576b"
             ],
             [
              0.6666666666666666,
              "#ed7953"
             ],
             [
              0.7777777777777778,
              "#fb9f3a"
             ],
             [
              0.8888888888888888,
              "#fdca26"
             ],
             [
              1,
              "#f0f921"
             ]
            ],
            "type": "histogram2dcontour"
           }
          ],
          "mesh3d": [
           {
            "colorbar": {
             "outlinewidth": 0,
             "ticks": ""
            },
            "type": "mesh3d"
           }
          ],
          "parcoords": [
           {
            "line": {
             "colorbar": {
              "outlinewidth": 0,
              "ticks": ""
             }
            },
            "type": "parcoords"
           }
          ],
          "pie": [
           {
            "automargin": true,
            "type": "pie"
           }
          ],
          "scatter": [
           {
            "fillpattern": {
             "fillmode": "overlay",
             "size": 10,
             "solidity": 0.2
            },
            "type": "scatter"
           }
          ],
          "scatter3d": [
           {
            "line": {
             "colorbar": {
              "outlinewidth": 0,
              "ticks": ""
             }
            },
            "marker": {
             "colorbar": {
              "outlinewidth": 0,
              "ticks": ""
             }
            },
            "type": "scatter3d"
           }
          ],
          "scattercarpet": [
           {
            "marker": {
             "colorbar": {
              "outlinewidth": 0,
              "ticks": ""
             }
            },
            "type": "scattercarpet"
           }
          ],
          "scattergeo": [
           {
            "marker": {
             "colorbar": {
              "outlinewidth": 0,
              "ticks": ""
             }
            },
            "type": "scattergeo"
           }
          ],
          "scattergl": [
           {
            "marker": {
             "colorbar": {
              "outlinewidth": 0,
              "ticks": ""
             }
            },
            "type": "scattergl"
           }
          ],
          "scattermapbox": [
           {
            "marker": {
             "colorbar": {
              "outlinewidth": 0,
              "ticks": ""
             }
            },
            "type": "scattermapbox"
           }
          ],
          "scatterpolar": [
           {
            "marker": {
             "colorbar": {
              "outlinewidth": 0,
              "ticks": ""
             }
            },
            "type": "scatterpolar"
           }
          ],
          "scatterpolargl": [
           {
            "marker": {
             "colorbar": {
              "outlinewidth": 0,
              "ticks": ""
             }
            },
            "type": "scatterpolargl"
           }
          ],
          "scatterternary": [
           {
            "marker": {
             "colorbar": {
              "outlinewidth": 0,
              "ticks": ""
             }
            },
            "type": "scatterternary"
           }
          ],
          "surface": [
           {
            "colorbar": {
             "outlinewidth": 0,
             "ticks": ""
            },
            "colorscale": [
             [
              0,
              "#0d0887"
             ],
             [
              0.1111111111111111,
              "#46039f"
             ],
             [
              0.2222222222222222,
              "#7201a8"
             ],
             [
              0.3333333333333333,
              "#9c179e"
             ],
             [
              0.4444444444444444,
              "#bd3786"
             ],
             [
              0.5555555555555556,
              "#d8576b"
             ],
             [
              0.6666666666666666,
              "#ed7953"
             ],
             [
              0.7777777777777778,
              "#fb9f3a"
             ],
             [
              0.8888888888888888,
              "#fdca26"
             ],
             [
              1,
              "#f0f921"
             ]
            ],
            "type": "surface"
           }
          ],
          "table": [
           {
            "cells": {
             "fill": {
              "color": "#EBF0F8"
             },
             "line": {
              "color": "white"
             }
            },
            "header": {
             "fill": {
              "color": "#C8D4E3"
             },
             "line": {
              "color": "white"
             }
            },
            "type": "table"
           }
          ]
         },
         "layout": {
          "annotationdefaults": {
           "arrowcolor": "#2a3f5f",
           "arrowhead": 0,
           "arrowwidth": 1
          },
          "autotypenumbers": "strict",
          "coloraxis": {
           "colorbar": {
            "outlinewidth": 0,
            "ticks": ""
           }
          },
          "colorscale": {
           "diverging": [
            [
             0,
             "#8e0152"
            ],
            [
             0.1,
             "#c51b7d"
            ],
            [
             0.2,
             "#de77ae"
            ],
            [
             0.3,
             "#f1b6da"
            ],
            [
             0.4,
             "#fde0ef"
            ],
            [
             0.5,
             "#f7f7f7"
            ],
            [
             0.6,
             "#e6f5d0"
            ],
            [
             0.7,
             "#b8e186"
            ],
            [
             0.8,
             "#7fbc41"
            ],
            [
             0.9,
             "#4d9221"
            ],
            [
             1,
             "#276419"
            ]
           ],
           "sequential": [
            [
             0,
             "#0d0887"
            ],
            [
             0.1111111111111111,
             "#46039f"
            ],
            [
             0.2222222222222222,
             "#7201a8"
            ],
            [
             0.3333333333333333,
             "#9c179e"
            ],
            [
             0.4444444444444444,
             "#bd3786"
            ],
            [
             0.5555555555555556,
             "#d8576b"
            ],
            [
             0.6666666666666666,
             "#ed7953"
            ],
            [
             0.7777777777777778,
             "#fb9f3a"
            ],
            [
             0.8888888888888888,
             "#fdca26"
            ],
            [
             1,
             "#f0f921"
            ]
           ],
           "sequentialminus": [
            [
             0,
             "#0d0887"
            ],
            [
             0.1111111111111111,
             "#46039f"
            ],
            [
             0.2222222222222222,
             "#7201a8"
            ],
            [
             0.3333333333333333,
             "#9c179e"
            ],
            [
             0.4444444444444444,
             "#bd3786"
            ],
            [
             0.5555555555555556,
             "#d8576b"
            ],
            [
             0.6666666666666666,
             "#ed7953"
            ],
            [
             0.7777777777777778,
             "#fb9f3a"
            ],
            [
             0.8888888888888888,
             "#fdca26"
            ],
            [
             1,
             "#f0f921"
            ]
           ]
          },
          "colorway": [
           "#636efa",
           "#EF553B",
           "#00cc96",
           "#ab63fa",
           "#FFA15A",
           "#19d3f3",
           "#FF6692",
           "#B6E880",
           "#FF97FF",
           "#FECB52"
          ],
          "font": {
           "color": "#2a3f5f"
          },
          "geo": {
           "bgcolor": "white",
           "lakecolor": "white",
           "landcolor": "#E5ECF6",
           "showlakes": true,
           "showland": true,
           "subunitcolor": "white"
          },
          "hoverlabel": {
           "align": "left"
          },
          "hovermode": "closest",
          "mapbox": {
           "style": "light"
          },
          "paper_bgcolor": "white",
          "plot_bgcolor": "#E5ECF6",
          "polar": {
           "angularaxis": {
            "gridcolor": "white",
            "linecolor": "white",
            "ticks": ""
           },
           "bgcolor": "#E5ECF6",
           "radialaxis": {
            "gridcolor": "white",
            "linecolor": "white",
            "ticks": ""
           }
          },
          "scene": {
           "xaxis": {
            "backgroundcolor": "#E5ECF6",
            "gridcolor": "white",
            "gridwidth": 2,
            "linecolor": "white",
            "showbackground": true,
            "ticks": "",
            "zerolinecolor": "white"
           },
           "yaxis": {
            "backgroundcolor": "#E5ECF6",
            "gridcolor": "white",
            "gridwidth": 2,
            "linecolor": "white",
            "showbackground": true,
            "ticks": "",
            "zerolinecolor": "white"
           },
           "zaxis": {
            "backgroundcolor": "#E5ECF6",
            "gridcolor": "white",
            "gridwidth": 2,
            "linecolor": "white",
            "showbackground": true,
            "ticks": "",
            "zerolinecolor": "white"
           }
          },
          "shapedefaults": {
           "line": {
            "color": "#2a3f5f"
           }
          },
          "ternary": {
           "aaxis": {
            "gridcolor": "white",
            "linecolor": "white",
            "ticks": ""
           },
           "baxis": {
            "gridcolor": "white",
            "linecolor": "white",
            "ticks": ""
           },
           "bgcolor": "#E5ECF6",
           "caxis": {
            "gridcolor": "white",
            "linecolor": "white",
            "ticks": ""
           }
          },
          "title": {
           "x": 0.05
          },
          "xaxis": {
           "automargin": true,
           "gridcolor": "white",
           "linecolor": "white",
           "ticks": "",
           "title": {
            "standoff": 15
           },
           "zerolinecolor": "white",
           "zerolinewidth": 2
          },
          "yaxis": {
           "automargin": true,
           "gridcolor": "white",
           "linecolor": "white",
           "ticks": "",
           "title": {
            "standoff": 15
           },
           "zerolinecolor": "white",
           "zerolinewidth": 2
          }
         }
        },
        "xaxis": {
         "anchor": "y",
         "domain": [
          0,
          1
         ],
         "title": {
          "text": "Name"
         }
        },
        "yaxis": {
         "anchor": "x",
         "domain": [
          0,
          1
         ],
         "title": {
          "text": "weighted_roundtrip_ratio"
         }
        }
       }
      }
     },
     "metadata": {},
     "output_type": "display_data"
    }
   ],
   "source": [
    "px.bar(open_spaces.sort_values(by='weighted_roundtrip_ratio'), x='Name', y='weighted_roundtrip_ratio')"
   ]
  },
  {
   "cell_type": "markdown",
   "metadata": {},
   "source": [
    "# Hourly Activity Plots"
   ]
  },
  {
   "cell_type": "code",
   "execution_count": 9,
   "metadata": {},
   "outputs": [],
   "source": [
    "TOTAL_DAYS = (datetime.date(2024, 1, 31) - datetime.date(2015, 1, 1)).days + 1\n",
    "TOTAL_WEEKDAYS = TOTAL_DAYS * 5 / 7\n",
    "TOTAL_WEEKENDS = TOTAL_DAYS * 2 / 7\n",
    "HOURS_FORMATTED = [datetime.time(i).strftime('%-I %p') for i in range(24)]"
   ]
  },
  {
   "cell_type": "code",
   "execution_count": 102,
   "metadata": {},
   "outputs": [],
   "source": [
    "def generate_df_by_day_type(df_name, df, station_names):\n",
    "    day_corrector = TOTAL_WEEKDAYS if df_name == 'weekdays' else TOTAL_WEEKENDS\n",
    "    started = df.loc[df['start_station_name'].isin(station_names)]\n",
    "    ended = df.loc[df['end_station_name'].isin(station_names)]\n",
    "\n",
    "    departures = pd.DataFrame(columns=['Time', 'Trips', 'Day Type', 'Trip Type'])\n",
    "    departures['Time'] = np.linspace(7.5, 352.5, 24)\n",
    "    departures['Day Type'] = df_name.title()\n",
    "    arrivals = departures.copy()\n",
    "\n",
    "    b1 = np.histogram([t.hour for t in started['started_at'].dt.time], bins=range(25))[0] / day_corrector\n",
    "    b2 = np.histogram([t.hour for t in ended['ended_at'].dt.time], bins=range(25))[0] / day_corrector\n",
    "    departures['Trips'] = b1\n",
    "    departures['Trip Type'] = 'Departures'\n",
    "    arrivals['Trips'] = b2\n",
    "    arrivals['Trip Type'] = 'Arrivals'\n",
    "    return [departures, arrivals]"
   ]
  },
  {
   "cell_type": "code",
   "execution_count": 140,
   "metadata": {},
   "outputs": [],
   "source": [
    "def plot_activity(open_space):\n",
    "    station_names = get_nearest_stations(open_space, verbose=True)\n",
    "    if len(station_names) == 0:\n",
    "        return\n",
    "    selected_stations = combined_trips.loc[(combined_trips['start_station_name'].isin(station_names)) | (combined_trips['end_station_name'].isin(station_names))]\n",
    "    weekday = selected_stations.loc[selected_stations['ended_at'].dt.day_of_week < 5]\n",
    "    weekend = selected_stations.loc[selected_stations['ended_at'].dt.day_of_week >= 5]\n",
    "    \n",
    "    temp_data = []\n",
    "    for w in ['weekday', 'weekend']:\n",
    "        temp_data.extend(generate_df_by_day_type(w, eval(w), station_names))\n",
    "    \n",
    "    (px.line_polar(pd.concat(temp_data), 'Trips', 'Time', 'Day Type', 'Trip Type', line_close=True, start_angle=270)).update_layout(\n",
    "        polar={\n",
    "            'angularaxis': {\n",
    "                'tickmode': 'array',\n",
    "                'tickvals': np.linspace(0, 345, 24),\n",
    "                'ticktext': HOURS_FORMATTED\n",
    "            }\n",
    "        }\n",
    "    ).show()"
   ]
  },
  {
   "cell_type": "code",
   "execution_count": 141,
   "metadata": {},
   "outputs": [
    {
     "name": "stdout",
     "output_type": "stream",
     "text": [
      "No stations within 0.3 km of Copp's Hill Burying Ground\n",
      "2 nearest stations to Watson Park: Tremont St at E Berkeley St, Washington St at Waltham St\n"
     ]
    },
    {
     "name": "stderr",
     "output_type": "stream",
     "text": [
      "/Users/henrywu/opt/anaconda3/lib/python3.9/site-packages/plotly/express/_core.py:271: FutureWarning:\n",
      "\n",
      "The frame.append method is deprecated and will be removed from pandas in a future version. Use pandas.concat instead.\n",
      "\n",
      "/Users/henrywu/opt/anaconda3/lib/python3.9/site-packages/plotly/express/_core.py:271: FutureWarning:\n",
      "\n",
      "The frame.append method is deprecated and will be removed from pandas in a future version. Use pandas.concat instead.\n",
      "\n",
      "/Users/henrywu/opt/anaconda3/lib/python3.9/site-packages/plotly/express/_core.py:271: FutureWarning:\n",
      "\n",
      "The frame.append method is deprecated and will be removed from pandas in a future version. Use pandas.concat instead.\n",
      "\n",
      "/Users/henrywu/opt/anaconda3/lib/python3.9/site-packages/plotly/express/_core.py:271: FutureWarning:\n",
      "\n",
      "The frame.append method is deprecated and will be removed from pandas in a future version. Use pandas.concat instead.\n",
      "\n"
     ]
    },
    {
     "data": {
      "application/vnd.plotly.v1+json": {
       "config": {
        "plotlyServerURL": "https://plot.ly"
       },
       "data": [
        {
         "hovertemplate": "Day Type=Weekday<br>Trip Type=Departures<br>Trips=%{r}<br>Time=%{theta}<extra></extra>",
         "legendgroup": "Weekday, Departures",
         "line": {
          "color": "#636efa",
          "dash": "solid"
         },
         "marker": {
          "symbol": "circle"
         },
         "mode": "lines",
         "name": "Weekday, Departures",
         "r": [
          1.7457805907172996,
          1.2109704641350212,
          0.9135021097046413,
          0.5073839662447257,
          0.31329113924050633,
          1.6476793248945147,
          4.132911392405063,
          9.80168776371308,
          11.276371308016877,
          5.590717299578059,
          4.006329113924051,
          5.040084388185654,
          6.612869198312236,
          5.406118143459915,
          4.331223628691983,
          4.608649789029536,
          6.54957805907173,
          9.455696202531646,
          8.08860759493671,
          6.10126582278481,
          5.017932489451477,
          5.122362869198312,
          4.7141350210970465,
          3.060126582278481,
          1.7457805907172996
         ],
         "showlegend": true,
         "subplot": "polar",
         "theta": [
          7.5,
          22.5,
          37.5,
          52.5,
          67.5,
          82.5,
          97.5,
          112.5,
          127.5,
          142.5,
          157.5,
          172.5,
          187.5,
          202.5,
          217.5,
          232.5,
          247.5,
          262.5,
          277.5,
          292.5,
          307.5,
          322.5,
          337.5,
          352.5,
          7.5
         ],
         "type": "scatterpolar"
        },
        {
         "hovertemplate": "Day Type=Weekday<br>Trip Type=Arrivals<br>Trips=%{r}<br>Time=%{theta}<extra></extra>",
         "legendgroup": "Weekday, Arrivals",
         "line": {
          "color": "#636efa",
          "dash": "dot"
         },
         "marker": {
          "symbol": "circle"
         },
         "mode": "lines",
         "name": "Weekday, Arrivals",
         "r": [
          2.028481012658228,
          1.1529535864978904,
          0.880801687763713,
          0.49683544303797467,
          0.31751054852320676,
          0.5263713080168776,
          1.1962025316455696,
          2.6255274261603376,
          4.993670886075949,
          4.140295358649789,
          2.5126582278481013,
          3.6487341772151898,
          4.976793248945148,
          4.703586497890296,
          4.8386075949367084,
          6.197257383966245,
          9.754219409282701,
          16.7710970464135,
          12.945147679324894,
          8.717299578059071,
          6.095991561181434,
          6.386075949367089,
          5.94198312236287,
          4.140295358649789,
          2.028481012658228
         ],
         "showlegend": true,
         "subplot": "polar",
         "theta": [
          7.5,
          22.5,
          37.5,
          52.5,
          67.5,
          82.5,
          97.5,
          112.5,
          127.5,
          142.5,
          157.5,
          172.5,
          187.5,
          202.5,
          217.5,
          232.5,
          247.5,
          262.5,
          277.5,
          292.5,
          307.5,
          322.5,
          337.5,
          352.5,
          7.5
         ],
         "type": "scatterpolar"
        },
        {
         "hovertemplate": "Day Type=Weekend<br>Trip Type=Departures<br>Trips=%{r}<br>Time=%{theta}<extra></extra>",
         "legendgroup": "Weekend, Departures",
         "line": {
          "color": "#EF553B",
          "dash": "solid"
         },
         "marker": {
          "symbol": "circle"
         },
         "mode": "lines",
         "name": "Weekend, Departures",
         "r": [
          1.089662447257384,
          0.8765822784810127,
          0.7415611814345991,
          0.5748945147679325,
          0.39451476793248946,
          0.3755274261603376,
          0.6023206751054853,
          0.6065400843881856,
          0.8639240506329114,
          1.410337552742616,
          2.1529535864978904,
          2.619198312236287,
          3.1371308016877637,
          3.4862869198312234,
          3.180379746835443,
          3.4029535864978904,
          3.2974683544303796,
          2.871308016877637,
          2.5316455696202533,
          2.3987341772151898,
          1.9746835443037976,
          1.6529535864978904,
          1.5485232067510548,
          1.219409282700422,
          1.089662447257384
         ],
         "showlegend": true,
         "subplot": "polar",
         "theta": [
          7.5,
          22.5,
          37.5,
          52.5,
          67.5,
          82.5,
          97.5,
          112.5,
          127.5,
          142.5,
          157.5,
          172.5,
          187.5,
          202.5,
          217.5,
          232.5,
          247.5,
          262.5,
          277.5,
          292.5,
          307.5,
          322.5,
          337.5,
          352.5,
          7.5
         ],
         "type": "scatterpolar"
        },
        {
         "hovertemplate": "Day Type=Weekend<br>Trip Type=Arrivals<br>Trips=%{r}<br>Time=%{theta}<extra></extra>",
         "legendgroup": "Weekend, Arrivals",
         "line": {
          "color": "#EF553B",
          "dash": "dot"
         },
         "marker": {
          "symbol": "circle"
         },
         "mode": "lines",
         "name": "Weekend, Arrivals",
         "r": [
          1.1877637130801688,
          0.8438818565400844,
          0.6033755274261603,
          0.47890295358649787,
          0.37130801687763715,
          0.33544303797468356,
          0.23417721518987342,
          0.4345991561181435,
          0.7795358649789029,
          1.3343881856540085,
          1.9029535864978904,
          2.570675105485232,
          2.8660337552742616,
          2.9535864978902953,
          3.2183544303797467,
          3.361814345991561,
          3.5031645569620253,
          3.2679324894514767,
          3.1360759493670884,
          2.7668776371308015,
          2.2035864978902953,
          1.8955696202531647,
          1.620253164556962,
          1.2573839662447257,
          1.1877637130801688
         ],
         "showlegend": true,
         "subplot": "polar",
         "theta": [
          7.5,
          22.5,
          37.5,
          52.5,
          67.5,
          82.5,
          97.5,
          112.5,
          127.5,
          142.5,
          157.5,
          172.5,
          187.5,
          202.5,
          217.5,
          232.5,
          247.5,
          262.5,
          277.5,
          292.5,
          307.5,
          322.5,
          337.5,
          352.5,
          7.5
         ],
         "type": "scatterpolar"
        }
       ],
       "layout": {
        "legend": {
         "title": {
          "text": "Day Type, Trip Type"
         },
         "tracegroupgap": 0
        },
        "margin": {
         "t": 60
        },
        "polar": {
         "angularaxis": {
          "direction": "clockwise",
          "rotation": -90,
          "tickmode": "array",
          "ticktext": [
           "12 AM",
           "1 AM",
           "2 AM",
           "3 AM",
           "4 AM",
           "5 AM",
           "6 AM",
           "7 AM",
           "8 AM",
           "9 AM",
           "10 AM",
           "11 AM",
           "12 PM",
           "1 PM",
           "2 PM",
           "3 PM",
           "4 PM",
           "5 PM",
           "6 PM",
           "7 PM",
           "8 PM",
           "9 PM",
           "10 PM",
           "11 PM"
          ],
          "tickvals": [
           0,
           15,
           30,
           45,
           60,
           75,
           90,
           105,
           120,
           135,
           150,
           165,
           180,
           195,
           210,
           225,
           240,
           255,
           270,
           285,
           300,
           315,
           330,
           345
          ]
         },
         "domain": {
          "x": [
           0,
           1
          ],
          "y": [
           0,
           1
          ]
         }
        },
        "template": {
         "data": {
          "bar": [
           {
            "error_x": {
             "color": "#2a3f5f"
            },
            "error_y": {
             "color": "#2a3f5f"
            },
            "marker": {
             "line": {
              "color": "#E5ECF6",
              "width": 0.5
             },
             "pattern": {
              "fillmode": "overlay",
              "size": 10,
              "solidity": 0.2
             }
            },
            "type": "bar"
           }
          ],
          "barpolar": [
           {
            "marker": {
             "line": {
              "color": "#E5ECF6",
              "width": 0.5
             },
             "pattern": {
              "fillmode": "overlay",
              "size": 10,
              "solidity": 0.2
             }
            },
            "type": "barpolar"
           }
          ],
          "carpet": [
           {
            "aaxis": {
             "endlinecolor": "#2a3f5f",
             "gridcolor": "white",
             "linecolor": "white",
             "minorgridcolor": "white",
             "startlinecolor": "#2a3f5f"
            },
            "baxis": {
             "endlinecolor": "#2a3f5f",
             "gridcolor": "white",
             "linecolor": "white",
             "minorgridcolor": "white",
             "startlinecolor": "#2a3f5f"
            },
            "type": "carpet"
           }
          ],
          "choropleth": [
           {
            "colorbar": {
             "outlinewidth": 0,
             "ticks": ""
            },
            "type": "choropleth"
           }
          ],
          "contour": [
           {
            "colorbar": {
             "outlinewidth": 0,
             "ticks": ""
            },
            "colorscale": [
             [
              0,
              "#0d0887"
             ],
             [
              0.1111111111111111,
              "#46039f"
             ],
             [
              0.2222222222222222,
              "#7201a8"
             ],
             [
              0.3333333333333333,
              "#9c179e"
             ],
             [
              0.4444444444444444,
              "#bd3786"
             ],
             [
              0.5555555555555556,
              "#d8576b"
             ],
             [
              0.6666666666666666,
              "#ed7953"
             ],
             [
              0.7777777777777778,
              "#fb9f3a"
             ],
             [
              0.8888888888888888,
              "#fdca26"
             ],
             [
              1,
              "#f0f921"
             ]
            ],
            "type": "contour"
           }
          ],
          "contourcarpet": [
           {
            "colorbar": {
             "outlinewidth": 0,
             "ticks": ""
            },
            "type": "contourcarpet"
           }
          ],
          "heatmap": [
           {
            "colorbar": {
             "outlinewidth": 0,
             "ticks": ""
            },
            "colorscale": [
             [
              0,
              "#0d0887"
             ],
             [
              0.1111111111111111,
              "#46039f"
             ],
             [
              0.2222222222222222,
              "#7201a8"
             ],
             [
              0.3333333333333333,
              "#9c179e"
             ],
             [
              0.4444444444444444,
              "#bd3786"
             ],
             [
              0.5555555555555556,
              "#d8576b"
             ],
             [
              0.6666666666666666,
              "#ed7953"
             ],
             [
              0.7777777777777778,
              "#fb9f3a"
             ],
             [
              0.8888888888888888,
              "#fdca26"
             ],
             [
              1,
              "#f0f921"
             ]
            ],
            "type": "heatmap"
           }
          ],
          "heatmapgl": [
           {
            "colorbar": {
             "outlinewidth": 0,
             "ticks": ""
            },
            "colorscale": [
             [
              0,
              "#0d0887"
             ],
             [
              0.1111111111111111,
              "#46039f"
             ],
             [
              0.2222222222222222,
              "#7201a8"
             ],
             [
              0.3333333333333333,
              "#9c179e"
             ],
             [
              0.4444444444444444,
              "#bd3786"
             ],
             [
              0.5555555555555556,
              "#d8576b"
             ],
             [
              0.6666666666666666,
              "#ed7953"
             ],
             [
              0.7777777777777778,
              "#fb9f3a"
             ],
             [
              0.8888888888888888,
              "#fdca26"
             ],
             [
              1,
              "#f0f921"
             ]
            ],
            "type": "heatmapgl"
           }
          ],
          "histogram": [
           {
            "marker": {
             "pattern": {
              "fillmode": "overlay",
              "size": 10,
              "solidity": 0.2
             }
            },
            "type": "histogram"
           }
          ],
          "histogram2d": [
           {
            "colorbar": {
             "outlinewidth": 0,
             "ticks": ""
            },
            "colorscale": [
             [
              0,
              "#0d0887"
             ],
             [
              0.1111111111111111,
              "#46039f"
             ],
             [
              0.2222222222222222,
              "#7201a8"
             ],
             [
              0.3333333333333333,
              "#9c179e"
             ],
             [
              0.4444444444444444,
              "#bd3786"
             ],
             [
              0.5555555555555556,
              "#d8576b"
             ],
             [
              0.6666666666666666,
              "#ed7953"
             ],
             [
              0.7777777777777778,
              "#fb9f3a"
             ],
             [
              0.8888888888888888,
              "#fdca26"
             ],
             [
              1,
              "#f0f921"
             ]
            ],
            "type": "histogram2d"
           }
          ],
          "histogram2dcontour": [
           {
            "colorbar": {
             "outlinewidth": 0,
             "ticks": ""
            },
            "colorscale": [
             [
              0,
              "#0d0887"
             ],
             [
              0.1111111111111111,
              "#46039f"
             ],
             [
              0.2222222222222222,
              "#7201a8"
             ],
             [
              0.3333333333333333,
              "#9c179e"
             ],
             [
              0.4444444444444444,
              "#bd3786"
             ],
             [
              0.5555555555555556,
              "#d8576b"
             ],
             [
              0.6666666666666666,
              "#ed7953"
             ],
             [
              0.7777777777777778,
              "#fb9f3a"
             ],
             [
              0.8888888888888888,
              "#fdca26"
             ],
             [
              1,
              "#f0f921"
             ]
            ],
            "type": "histogram2dcontour"
           }
          ],
          "mesh3d": [
           {
            "colorbar": {
             "outlinewidth": 0,
             "ticks": ""
            },
            "type": "mesh3d"
           }
          ],
          "parcoords": [
           {
            "line": {
             "colorbar": {
              "outlinewidth": 0,
              "ticks": ""
             }
            },
            "type": "parcoords"
           }
          ],
          "pie": [
           {
            "automargin": true,
            "type": "pie"
           }
          ],
          "scatter": [
           {
            "fillpattern": {
             "fillmode": "overlay",
             "size": 10,
             "solidity": 0.2
            },
            "type": "scatter"
           }
          ],
          "scatter3d": [
           {
            "line": {
             "colorbar": {
              "outlinewidth": 0,
              "ticks": ""
             }
            },
            "marker": {
             "colorbar": {
              "outlinewidth": 0,
              "ticks": ""
             }
            },
            "type": "scatter3d"
           }
          ],
          "scattercarpet": [
           {
            "marker": {
             "colorbar": {
              "outlinewidth": 0,
              "ticks": ""
             }
            },
            "type": "scattercarpet"
           }
          ],
          "scattergeo": [
           {
            "marker": {
             "colorbar": {
              "outlinewidth": 0,
              "ticks": ""
             }
            },
            "type": "scattergeo"
           }
          ],
          "scattergl": [
           {
            "marker": {
             "colorbar": {
              "outlinewidth": 0,
              "ticks": ""
             }
            },
            "type": "scattergl"
           }
          ],
          "scattermapbox": [
           {
            "marker": {
             "colorbar": {
              "outlinewidth": 0,
              "ticks": ""
             }
            },
            "type": "scattermapbox"
           }
          ],
          "scatterpolar": [
           {
            "marker": {
             "colorbar": {
              "outlinewidth": 0,
              "ticks": ""
             }
            },
            "type": "scatterpolar"
           }
          ],
          "scatterpolargl": [
           {
            "marker": {
             "colorbar": {
              "outlinewidth": 0,
              "ticks": ""
             }
            },
            "type": "scatterpolargl"
           }
          ],
          "scatterternary": [
           {
            "marker": {
             "colorbar": {
              "outlinewidth": 0,
              "ticks": ""
             }
            },
            "type": "scatterternary"
           }
          ],
          "surface": [
           {
            "colorbar": {
             "outlinewidth": 0,
             "ticks": ""
            },
            "colorscale": [
             [
              0,
              "#0d0887"
             ],
             [
              0.1111111111111111,
              "#46039f"
             ],
             [
              0.2222222222222222,
              "#7201a8"
             ],
             [
              0.3333333333333333,
              "#9c179e"
             ],
             [
              0.4444444444444444,
              "#bd3786"
             ],
             [
              0.5555555555555556,
              "#d8576b"
             ],
             [
              0.6666666666666666,
              "#ed7953"
             ],
             [
              0.7777777777777778,
              "#fb9f3a"
             ],
             [
              0.8888888888888888,
              "#fdca26"
             ],
             [
              1,
              "#f0f921"
             ]
            ],
            "type": "surface"
           }
          ],
          "table": [
           {
            "cells": {
             "fill": {
              "color": "#EBF0F8"
             },
             "line": {
              "color": "white"
             }
            },
            "header": {
             "fill": {
              "color": "#C8D4E3"
             },
             "line": {
              "color": "white"
             }
            },
            "type": "table"
           }
          ]
         },
         "layout": {
          "annotationdefaults": {
           "arrowcolor": "#2a3f5f",
           "arrowhead": 0,
           "arrowwidth": 1
          },
          "autotypenumbers": "strict",
          "coloraxis": {
           "colorbar": {
            "outlinewidth": 0,
            "ticks": ""
           }
          },
          "colorscale": {
           "diverging": [
            [
             0,
             "#8e0152"
            ],
            [
             0.1,
             "#c51b7d"
            ],
            [
             0.2,
             "#de77ae"
            ],
            [
             0.3,
             "#f1b6da"
            ],
            [
             0.4,
             "#fde0ef"
            ],
            [
             0.5,
             "#f7f7f7"
            ],
            [
             0.6,
             "#e6f5d0"
            ],
            [
             0.7,
             "#b8e186"
            ],
            [
             0.8,
             "#7fbc41"
            ],
            [
             0.9,
             "#4d9221"
            ],
            [
             1,
             "#276419"
            ]
           ],
           "sequential": [
            [
             0,
             "#0d0887"
            ],
            [
             0.1111111111111111,
             "#46039f"
            ],
            [
             0.2222222222222222,
             "#7201a8"
            ],
            [
             0.3333333333333333,
             "#9c179e"
            ],
            [
             0.4444444444444444,
             "#bd3786"
            ],
            [
             0.5555555555555556,
             "#d8576b"
            ],
            [
             0.6666666666666666,
             "#ed7953"
            ],
            [
             0.7777777777777778,
             "#fb9f3a"
            ],
            [
             0.8888888888888888,
             "#fdca26"
            ],
            [
             1,
             "#f0f921"
            ]
           ],
           "sequentialminus": [
            [
             0,
             "#0d0887"
            ],
            [
             0.1111111111111111,
             "#46039f"
            ],
            [
             0.2222222222222222,
             "#7201a8"
            ],
            [
             0.3333333333333333,
             "#9c179e"
            ],
            [
             0.4444444444444444,
             "#bd3786"
            ],
            [
             0.5555555555555556,
             "#d8576b"
            ],
            [
             0.6666666666666666,
             "#ed7953"
            ],
            [
             0.7777777777777778,
             "#fb9f3a"
            ],
            [
             0.8888888888888888,
             "#fdca26"
            ],
            [
             1,
             "#f0f921"
            ]
           ]
          },
          "colorway": [
           "#636efa",
           "#EF553B",
           "#00cc96",
           "#ab63fa",
           "#FFA15A",
           "#19d3f3",
           "#FF6692",
           "#B6E880",
           "#FF97FF",
           "#FECB52"
          ],
          "font": {
           "color": "#2a3f5f"
          },
          "geo": {
           "bgcolor": "white",
           "lakecolor": "white",
           "landcolor": "#E5ECF6",
           "showlakes": true,
           "showland": true,
           "subunitcolor": "white"
          },
          "hoverlabel": {
           "align": "left"
          },
          "hovermode": "closest",
          "mapbox": {
           "style": "light"
          },
          "paper_bgcolor": "white",
          "plot_bgcolor": "#E5ECF6",
          "polar": {
           "angularaxis": {
            "gridcolor": "white",
            "linecolor": "white",
            "ticks": ""
           },
           "bgcolor": "#E5ECF6",
           "radialaxis": {
            "gridcolor": "white",
            "linecolor": "white",
            "ticks": ""
           }
          },
          "scene": {
           "xaxis": {
            "backgroundcolor": "#E5ECF6",
            "gridcolor": "white",
            "gridwidth": 2,
            "linecolor": "white",
            "showbackground": true,
            "ticks": "",
            "zerolinecolor": "white"
           },
           "yaxis": {
            "backgroundcolor": "#E5ECF6",
            "gridcolor": "white",
            "gridwidth": 2,
            "linecolor": "white",
            "showbackground": true,
            "ticks": "",
            "zerolinecolor": "white"
           },
           "zaxis": {
            "backgroundcolor": "#E5ECF6",
            "gridcolor": "white",
            "gridwidth": 2,
            "linecolor": "white",
            "showbackground": true,
            "ticks": "",
            "zerolinecolor": "white"
           }
          },
          "shapedefaults": {
           "line": {
            "color": "#2a3f5f"
           }
          },
          "ternary": {
           "aaxis": {
            "gridcolor": "white",
            "linecolor": "white",
            "ticks": ""
           },
           "baxis": {
            "gridcolor": "white",
            "linecolor": "white",
            "ticks": ""
           },
           "bgcolor": "#E5ECF6",
           "caxis": {
            "gridcolor": "white",
            "linecolor": "white",
            "ticks": ""
           }
          },
          "title": {
           "x": 0.05
          },
          "xaxis": {
           "automargin": true,
           "gridcolor": "white",
           "linecolor": "white",
           "ticks": "",
           "title": {
            "standoff": 15
           },
           "zerolinecolor": "white",
           "zerolinewidth": 2
          },
          "yaxis": {
           "automargin": true,
           "gridcolor": "white",
           "linecolor": "white",
           "ticks": "",
           "title": {
            "standoff": 15
           },
           "zerolinecolor": "white",
           "zerolinewidth": 2
          }
         }
        }
       }
      }
     },
     "metadata": {},
     "output_type": "display_data"
    },
    {
     "name": "stdout",
     "output_type": "stream",
     "text": [
      "No stations within 0.3 km of Martini Playground\n",
      "2 nearest stations to Roxbury Heritage State Park I: Bartlett St at John Elliot Sq, Whittier St Health Center\n"
     ]
    },
    {
     "name": "stderr",
     "output_type": "stream",
     "text": [
      "/Users/henrywu/opt/anaconda3/lib/python3.9/site-packages/plotly/express/_core.py:271: FutureWarning:\n",
      "\n",
      "The frame.append method is deprecated and will be removed from pandas in a future version. Use pandas.concat instead.\n",
      "\n",
      "/Users/henrywu/opt/anaconda3/lib/python3.9/site-packages/plotly/express/_core.py:271: FutureWarning:\n",
      "\n",
      "The frame.append method is deprecated and will be removed from pandas in a future version. Use pandas.concat instead.\n",
      "\n",
      "/Users/henrywu/opt/anaconda3/lib/python3.9/site-packages/plotly/express/_core.py:271: FutureWarning:\n",
      "\n",
      "The frame.append method is deprecated and will be removed from pandas in a future version. Use pandas.concat instead.\n",
      "\n",
      "/Users/henrywu/opt/anaconda3/lib/python3.9/site-packages/plotly/express/_core.py:271: FutureWarning:\n",
      "\n",
      "The frame.append method is deprecated and will be removed from pandas in a future version. Use pandas.concat instead.\n",
      "\n"
     ]
    },
    {
     "data": {
      "application/vnd.plotly.v1+json": {
       "config": {
        "plotlyServerURL": "https://plot.ly"
       },
       "data": [
        {
         "hovertemplate": "Day Type=Weekday<br>Trip Type=Departures<br>Trips=%{r}<br>Time=%{theta}<extra></extra>",
         "legendgroup": "Weekday, Departures",
         "line": {
          "color": "#636efa",
          "dash": "solid"
         },
         "marker": {
          "symbol": "circle"
         },
         "mode": "lines",
         "name": "Weekday, Departures",
         "r": [
          0.27848101265822783,
          0.21835443037974683,
          0.1518987341772152,
          0.10126582278481013,
          0.25316455696202533,
          0.38396624472573837,
          0.8786919831223629,
          1.489451476793249,
          1.3037974683544304,
          0.8312236286919831,
          1.0358649789029535,
          1.3132911392405062,
          1.3027426160337552,
          1,
          0.9651898734177216,
          1.0042194092827004,
          0.9873417721518988,
          1.1487341772151898,
          1.0537974683544304,
          0.9957805907172996,
          0.8048523206751055,
          0.819620253164557,
          0.7383966244725738,
          0.46729957805907174,
          0.27848101265822783
         ],
         "showlegend": true,
         "subplot": "polar",
         "theta": [
          7.5,
          22.5,
          37.5,
          52.5,
          67.5,
          82.5,
          97.5,
          112.5,
          127.5,
          142.5,
          157.5,
          172.5,
          187.5,
          202.5,
          217.5,
          232.5,
          247.5,
          262.5,
          277.5,
          292.5,
          307.5,
          322.5,
          337.5,
          352.5,
          7.5
         ],
         "type": "scatterpolar"
        },
        {
         "hovertemplate": "Day Type=Weekday<br>Trip Type=Arrivals<br>Trips=%{r}<br>Time=%{theta}<extra></extra>",
         "legendgroup": "Weekday, Arrivals",
         "line": {
          "color": "#636efa",
          "dash": "dot"
         },
         "marker": {
          "symbol": "circle"
         },
         "mode": "lines",
         "name": "Weekday, Arrivals",
         "r": [
          0.6518987341772152,
          0.4356540084388186,
          0.4388185654008439,
          0.2869198312236287,
          0.18248945147679324,
          0.14451476793248946,
          0.10759493670886076,
          0.18565400843881857,
          0.29957805907172996,
          0.310126582278481,
          0.31856540084388185,
          0.47468354430379744,
          0.5822784810126582,
          0.6065400843881856,
          0.6329113924050633,
          0.8238396624472574,
          1.0337552742616034,
          1.4272151898734178,
          1.4177215189873418,
          1.1729957805907174,
          1.0274261603375527,
          1.119198312236287,
          1.1677215189873418,
          0.9620253164556962,
          0.6518987341772152
         ],
         "showlegend": true,
         "subplot": "polar",
         "theta": [
          7.5,
          22.5,
          37.5,
          52.5,
          67.5,
          82.5,
          97.5,
          112.5,
          127.5,
          142.5,
          157.5,
          172.5,
          187.5,
          202.5,
          217.5,
          232.5,
          247.5,
          262.5,
          277.5,
          292.5,
          307.5,
          322.5,
          337.5,
          352.5,
          7.5
         ],
         "type": "scatterpolar"
        },
        {
         "hovertemplate": "Day Type=Weekend<br>Trip Type=Departures<br>Trips=%{r}<br>Time=%{theta}<extra></extra>",
         "legendgroup": "Weekend, Departures",
         "line": {
          "color": "#EF553B",
          "dash": "solid"
         },
         "marker": {
          "symbol": "circle"
         },
         "mode": "lines",
         "name": "Weekend, Departures",
         "r": [
          0.14345991561181434,
          0.14135021097046413,
          0.09071729957805907,
          0.08227848101265822,
          0.08333333333333333,
          0.07383966244725738,
          0.14767932489451477,
          0.15822784810126583,
          0.1360759493670886,
          0.16561181434599156,
          0.3037974683544304,
          0.36603375527426163,
          0.39767932489451474,
          0.47362869198312235,
          0.4820675105485232,
          0.49261603375527424,
          0.41455696202531644,
          0.43670886075949367,
          0.39029535864978904,
          0.4029535864978903,
          0.27637130801687765,
          0.22784810126582278,
          0.22784810126582278,
          0.2109704641350211,
          0.14345991561181434
         ],
         "showlegend": true,
         "subplot": "polar",
         "theta": [
          7.5,
          22.5,
          37.5,
          52.5,
          67.5,
          82.5,
          97.5,
          112.5,
          127.5,
          142.5,
          157.5,
          172.5,
          187.5,
          202.5,
          217.5,
          232.5,
          247.5,
          262.5,
          277.5,
          292.5,
          307.5,
          322.5,
          337.5,
          352.5,
          7.5
         ],
         "type": "scatterpolar"
        },
        {
         "hovertemplate": "Day Type=Weekend<br>Trip Type=Arrivals<br>Trips=%{r}<br>Time=%{theta}<extra></extra>",
         "legendgroup": "Weekend, Arrivals",
         "line": {
          "color": "#EF553B",
          "dash": "dot"
         },
         "marker": {
          "symbol": "circle"
         },
         "mode": "lines",
         "name": "Weekend, Arrivals",
         "r": [
          0.28164556962025317,
          0.27848101265822783,
          0.2626582278481013,
          0.18565400843881857,
          0.2120253164556962,
          0.28270042194092826,
          0.41139240506329117,
          0.1940928270042194,
          0.08333333333333333,
          0.07805907172995781,
          0.11814345991561181,
          0.17088607594936708,
          0.22784810126582278,
          0.25738396624472576,
          0.2668776371308017,
          0.23839662447257384,
          0.3280590717299578,
          0.3206751054852321,
          0.3681434599156118,
          0.34810126582278483,
          0.28375527426160335,
          0.3080168776371308,
          0.26371308016877637,
          0.28270042194092826,
          0.28164556962025317
         ],
         "showlegend": true,
         "subplot": "polar",
         "theta": [
          7.5,
          22.5,
          37.5,
          52.5,
          67.5,
          82.5,
          97.5,
          112.5,
          127.5,
          142.5,
          157.5,
          172.5,
          187.5,
          202.5,
          217.5,
          232.5,
          247.5,
          262.5,
          277.5,
          292.5,
          307.5,
          322.5,
          337.5,
          352.5,
          7.5
         ],
         "type": "scatterpolar"
        }
       ],
       "layout": {
        "legend": {
         "title": {
          "text": "Day Type, Trip Type"
         },
         "tracegroupgap": 0
        },
        "margin": {
         "t": 60
        },
        "polar": {
         "angularaxis": {
          "direction": "clockwise",
          "rotation": -90,
          "tickmode": "array",
          "ticktext": [
           "12 AM",
           "1 AM",
           "2 AM",
           "3 AM",
           "4 AM",
           "5 AM",
           "6 AM",
           "7 AM",
           "8 AM",
           "9 AM",
           "10 AM",
           "11 AM",
           "12 PM",
           "1 PM",
           "2 PM",
           "3 PM",
           "4 PM",
           "5 PM",
           "6 PM",
           "7 PM",
           "8 PM",
           "9 PM",
           "10 PM",
           "11 PM"
          ],
          "tickvals": [
           0,
           15,
           30,
           45,
           60,
           75,
           90,
           105,
           120,
           135,
           150,
           165,
           180,
           195,
           210,
           225,
           240,
           255,
           270,
           285,
           300,
           315,
           330,
           345
          ]
         },
         "domain": {
          "x": [
           0,
           1
          ],
          "y": [
           0,
           1
          ]
         }
        },
        "template": {
         "data": {
          "bar": [
           {
            "error_x": {
             "color": "#2a3f5f"
            },
            "error_y": {
             "color": "#2a3f5f"
            },
            "marker": {
             "line": {
              "color": "#E5ECF6",
              "width": 0.5
             },
             "pattern": {
              "fillmode": "overlay",
              "size": 10,
              "solidity": 0.2
             }
            },
            "type": "bar"
           }
          ],
          "barpolar": [
           {
            "marker": {
             "line": {
              "color": "#E5ECF6",
              "width": 0.5
             },
             "pattern": {
              "fillmode": "overlay",
              "size": 10,
              "solidity": 0.2
             }
            },
            "type": "barpolar"
           }
          ],
          "carpet": [
           {
            "aaxis": {
             "endlinecolor": "#2a3f5f",
             "gridcolor": "white",
             "linecolor": "white",
             "minorgridcolor": "white",
             "startlinecolor": "#2a3f5f"
            },
            "baxis": {
             "endlinecolor": "#2a3f5f",
             "gridcolor": "white",
             "linecolor": "white",
             "minorgridcolor": "white",
             "startlinecolor": "#2a3f5f"
            },
            "type": "carpet"
           }
          ],
          "choropleth": [
           {
            "colorbar": {
             "outlinewidth": 0,
             "ticks": ""
            },
            "type": "choropleth"
           }
          ],
          "contour": [
           {
            "colorbar": {
             "outlinewidth": 0,
             "ticks": ""
            },
            "colorscale": [
             [
              0,
              "#0d0887"
             ],
             [
              0.1111111111111111,
              "#46039f"
             ],
             [
              0.2222222222222222,
              "#7201a8"
             ],
             [
              0.3333333333333333,
              "#9c179e"
             ],
             [
              0.4444444444444444,
              "#bd3786"
             ],
             [
              0.5555555555555556,
              "#d8576b"
             ],
             [
              0.6666666666666666,
              "#ed7953"
             ],
             [
              0.7777777777777778,
              "#fb9f3a"
             ],
             [
              0.8888888888888888,
              "#fdca26"
             ],
             [
              1,
              "#f0f921"
             ]
            ],
            "type": "contour"
           }
          ],
          "contourcarpet": [
           {
            "colorbar": {
             "outlinewidth": 0,
             "ticks": ""
            },
            "type": "contourcarpet"
           }
          ],
          "heatmap": [
           {
            "colorbar": {
             "outlinewidth": 0,
             "ticks": ""
            },
            "colorscale": [
             [
              0,
              "#0d0887"
             ],
             [
              0.1111111111111111,
              "#46039f"
             ],
             [
              0.2222222222222222,
              "#7201a8"
             ],
             [
              0.3333333333333333,
              "#9c179e"
             ],
             [
              0.4444444444444444,
              "#bd3786"
             ],
             [
              0.5555555555555556,
              "#d8576b"
             ],
             [
              0.6666666666666666,
              "#ed7953"
             ],
             [
              0.7777777777777778,
              "#fb9f3a"
             ],
             [
              0.8888888888888888,
              "#fdca26"
             ],
             [
              1,
              "#f0f921"
             ]
            ],
            "type": "heatmap"
           }
          ],
          "heatmapgl": [
           {
            "colorbar": {
             "outlinewidth": 0,
             "ticks": ""
            },
            "colorscale": [
             [
              0,
              "#0d0887"
             ],
             [
              0.1111111111111111,
              "#46039f"
             ],
             [
              0.2222222222222222,
              "#7201a8"
             ],
             [
              0.3333333333333333,
              "#9c179e"
             ],
             [
              0.4444444444444444,
              "#bd3786"
             ],
             [
              0.5555555555555556,
              "#d8576b"
             ],
             [
              0.6666666666666666,
              "#ed7953"
             ],
             [
              0.7777777777777778,
              "#fb9f3a"
             ],
             [
              0.8888888888888888,
              "#fdca26"
             ],
             [
              1,
              "#f0f921"
             ]
            ],
            "type": "heatmapgl"
           }
          ],
          "histogram": [
           {
            "marker": {
             "pattern": {
              "fillmode": "overlay",
              "size": 10,
              "solidity": 0.2
             }
            },
            "type": "histogram"
           }
          ],
          "histogram2d": [
           {
            "colorbar": {
             "outlinewidth": 0,
             "ticks": ""
            },
            "colorscale": [
             [
              0,
              "#0d0887"
             ],
             [
              0.1111111111111111,
              "#46039f"
             ],
             [
              0.2222222222222222,
              "#7201a8"
             ],
             [
              0.3333333333333333,
              "#9c179e"
             ],
             [
              0.4444444444444444,
              "#bd3786"
             ],
             [
              0.5555555555555556,
              "#d8576b"
             ],
             [
              0.6666666666666666,
              "#ed7953"
             ],
             [
              0.7777777777777778,
              "#fb9f3a"
             ],
             [
              0.8888888888888888,
              "#fdca26"
             ],
             [
              1,
              "#f0f921"
             ]
            ],
            "type": "histogram2d"
           }
          ],
          "histogram2dcontour": [
           {
            "colorbar": {
             "outlinewidth": 0,
             "ticks": ""
            },
            "colorscale": [
             [
              0,
              "#0d0887"
             ],
             [
              0.1111111111111111,
              "#46039f"
             ],
             [
              0.2222222222222222,
              "#7201a8"
             ],
             [
              0.3333333333333333,
              "#9c179e"
             ],
             [
              0.4444444444444444,
              "#bd3786"
             ],
             [
              0.5555555555555556,
              "#d8576b"
             ],
             [
              0.6666666666666666,
              "#ed7953"
             ],
             [
              0.7777777777777778,
              "#fb9f3a"
             ],
             [
              0.8888888888888888,
              "#fdca26"
             ],
             [
              1,
              "#f0f921"
             ]
            ],
            "type": "histogram2dcontour"
           }
          ],
          "mesh3d": [
           {
            "colorbar": {
             "outlinewidth": 0,
             "ticks": ""
            },
            "type": "mesh3d"
           }
          ],
          "parcoords": [
           {
            "line": {
             "colorbar": {
              "outlinewidth": 0,
              "ticks": ""
             }
            },
            "type": "parcoords"
           }
          ],
          "pie": [
           {
            "automargin": true,
            "type": "pie"
           }
          ],
          "scatter": [
           {
            "fillpattern": {
             "fillmode": "overlay",
             "size": 10,
             "solidity": 0.2
            },
            "type": "scatter"
           }
          ],
          "scatter3d": [
           {
            "line": {
             "colorbar": {
              "outlinewidth": 0,
              "ticks": ""
             }
            },
            "marker": {
             "colorbar": {
              "outlinewidth": 0,
              "ticks": ""
             }
            },
            "type": "scatter3d"
           }
          ],
          "scattercarpet": [
           {
            "marker": {
             "colorbar": {
              "outlinewidth": 0,
              "ticks": ""
             }
            },
            "type": "scattercarpet"
           }
          ],
          "scattergeo": [
           {
            "marker": {
             "colorbar": {
              "outlinewidth": 0,
              "ticks": ""
             }
            },
            "type": "scattergeo"
           }
          ],
          "scattergl": [
           {
            "marker": {
             "colorbar": {
              "outlinewidth": 0,
              "ticks": ""
             }
            },
            "type": "scattergl"
           }
          ],
          "scattermapbox": [
           {
            "marker": {
             "colorbar": {
              "outlinewidth": 0,
              "ticks": ""
             }
            },
            "type": "scattermapbox"
           }
          ],
          "scatterpolar": [
           {
            "marker": {
             "colorbar": {
              "outlinewidth": 0,
              "ticks": ""
             }
            },
            "type": "scatterpolar"
           }
          ],
          "scatterpolargl": [
           {
            "marker": {
             "colorbar": {
              "outlinewidth": 0,
              "ticks": ""
             }
            },
            "type": "scatterpolargl"
           }
          ],
          "scatterternary": [
           {
            "marker": {
             "colorbar": {
              "outlinewidth": 0,
              "ticks": ""
             }
            },
            "type": "scatterternary"
           }
          ],
          "surface": [
           {
            "colorbar": {
             "outlinewidth": 0,
             "ticks": ""
            },
            "colorscale": [
             [
              0,
              "#0d0887"
             ],
             [
              0.1111111111111111,
              "#46039f"
             ],
             [
              0.2222222222222222,
              "#7201a8"
             ],
             [
              0.3333333333333333,
              "#9c179e"
             ],
             [
              0.4444444444444444,
              "#bd3786"
             ],
             [
              0.5555555555555556,
              "#d8576b"
             ],
             [
              0.6666666666666666,
              "#ed7953"
             ],
             [
              0.7777777777777778,
              "#fb9f3a"
             ],
             [
              0.8888888888888888,
              "#fdca26"
             ],
             [
              1,
              "#f0f921"
             ]
            ],
            "type": "surface"
           }
          ],
          "table": [
           {
            "cells": {
             "fill": {
              "color": "#EBF0F8"
             },
             "line": {
              "color": "white"
             }
            },
            "header": {
             "fill": {
              "color": "#C8D4E3"
             },
             "line": {
              "color": "white"
             }
            },
            "type": "table"
           }
          ]
         },
         "layout": {
          "annotationdefaults": {
           "arrowcolor": "#2a3f5f",
           "arrowhead": 0,
           "arrowwidth": 1
          },
          "autotypenumbers": "strict",
          "coloraxis": {
           "colorbar": {
            "outlinewidth": 0,
            "ticks": ""
           }
          },
          "colorscale": {
           "diverging": [
            [
             0,
             "#8e0152"
            ],
            [
             0.1,
             "#c51b7d"
            ],
            [
             0.2,
             "#de77ae"
            ],
            [
             0.3,
             "#f1b6da"
            ],
            [
             0.4,
             "#fde0ef"
            ],
            [
             0.5,
             "#f7f7f7"
            ],
            [
             0.6,
             "#e6f5d0"
            ],
            [
             0.7,
             "#b8e186"
            ],
            [
             0.8,
             "#7fbc41"
            ],
            [
             0.9,
             "#4d9221"
            ],
            [
             1,
             "#276419"
            ]
           ],
           "sequential": [
            [
             0,
             "#0d0887"
            ],
            [
             0.1111111111111111,
             "#46039f"
            ],
            [
             0.2222222222222222,
             "#7201a8"
            ],
            [
             0.3333333333333333,
             "#9c179e"
            ],
            [
             0.4444444444444444,
             "#bd3786"
            ],
            [
             0.5555555555555556,
             "#d8576b"
            ],
            [
             0.6666666666666666,
             "#ed7953"
            ],
            [
             0.7777777777777778,
             "#fb9f3a"
            ],
            [
             0.8888888888888888,
             "#fdca26"
            ],
            [
             1,
             "#f0f921"
            ]
           ],
           "sequentialminus": [
            [
             0,
             "#0d0887"
            ],
            [
             0.1111111111111111,
             "#46039f"
            ],
            [
             0.2222222222222222,
             "#7201a8"
            ],
            [
             0.3333333333333333,
             "#9c179e"
            ],
            [
             0.4444444444444444,
             "#bd3786"
            ],
            [
             0.5555555555555556,
             "#d8576b"
            ],
            [
             0.6666666666666666,
             "#ed7953"
            ],
            [
             0.7777777777777778,
             "#fb9f3a"
            ],
            [
             0.8888888888888888,
             "#fdca26"
            ],
            [
             1,
             "#f0f921"
            ]
           ]
          },
          "colorway": [
           "#636efa",
           "#EF553B",
           "#00cc96",
           "#ab63fa",
           "#FFA15A",
           "#19d3f3",
           "#FF6692",
           "#B6E880",
           "#FF97FF",
           "#FECB52"
          ],
          "font": {
           "color": "#2a3f5f"
          },
          "geo": {
           "bgcolor": "white",
           "lakecolor": "white",
           "landcolor": "#E5ECF6",
           "showlakes": true,
           "showland": true,
           "subunitcolor": "white"
          },
          "hoverlabel": {
           "align": "left"
          },
          "hovermode": "closest",
          "mapbox": {
           "style": "light"
          },
          "paper_bgcolor": "white",
          "plot_bgcolor": "#E5ECF6",
          "polar": {
           "angularaxis": {
            "gridcolor": "white",
            "linecolor": "white",
            "ticks": ""
           },
           "bgcolor": "#E5ECF6",
           "radialaxis": {
            "gridcolor": "white",
            "linecolor": "white",
            "ticks": ""
           }
          },
          "scene": {
           "xaxis": {
            "backgroundcolor": "#E5ECF6",
            "gridcolor": "white",
            "gridwidth": 2,
            "linecolor": "white",
            "showbackground": true,
            "ticks": "",
            "zerolinecolor": "white"
           },
           "yaxis": {
            "backgroundcolor": "#E5ECF6",
            "gridcolor": "white",
            "gridwidth": 2,
            "linecolor": "white",
            "showbackground": true,
            "ticks": "",
            "zerolinecolor": "white"
           },
           "zaxis": {
            "backgroundcolor": "#E5ECF6",
            "gridcolor": "white",
            "gridwidth": 2,
            "linecolor": "white",
            "showbackground": true,
            "ticks": "",
            "zerolinecolor": "white"
           }
          },
          "shapedefaults": {
           "line": {
            "color": "#2a3f5f"
           }
          },
          "ternary": {
           "aaxis": {
            "gridcolor": "white",
            "linecolor": "white",
            "ticks": ""
           },
           "baxis": {
            "gridcolor": "white",
            "linecolor": "white",
            "ticks": ""
           },
           "bgcolor": "#E5ECF6",
           "caxis": {
            "gridcolor": "white",
            "linecolor": "white",
            "ticks": ""
           }
          },
          "title": {
           "x": 0.05
          },
          "xaxis": {
           "automargin": true,
           "gridcolor": "white",
           "linecolor": "white",
           "ticks": "",
           "title": {
            "standoff": 15
           },
           "zerolinecolor": "white",
           "zerolinewidth": 2
          },
          "yaxis": {
           "automargin": true,
           "gridcolor": "white",
           "linecolor": "white",
           "ticks": "",
           "title": {
            "standoff": 15
           },
           "zerolinecolor": "white",
           "zerolinewidth": 2
          }
         }
        }
       }
      }
     },
     "metadata": {},
     "output_type": "display_data"
    },
    {
     "name": "stdout",
     "output_type": "stream",
     "text": [
      "No stations within 0.3 km of Stony Brook Reservation III\n",
      "No stations within 0.3 km of Jones Square\n",
      "No stations within 0.3 km of Copp's Hill Terrace\n",
      "No stations within 0.3 km of Walker Playground\n",
      "No stations within 0.3 km of Mt. Hope Cemetery\n",
      "No stations within 0.3 km of East Boston Memorial Park II\n",
      "No stations within 0.3 km of American Legion Highway\n",
      "No stations within 0.3 km of Elmhurst Street Park\n",
      "2 nearest stations to Newland Street Park: Washington St at Rutland St, South End Library - Tremont St at W Newton St\n"
     ]
    },
    {
     "name": "stderr",
     "output_type": "stream",
     "text": [
      "/Users/henrywu/opt/anaconda3/lib/python3.9/site-packages/plotly/express/_core.py:271: FutureWarning:\n",
      "\n",
      "The frame.append method is deprecated and will be removed from pandas in a future version. Use pandas.concat instead.\n",
      "\n",
      "/Users/henrywu/opt/anaconda3/lib/python3.9/site-packages/plotly/express/_core.py:271: FutureWarning:\n",
      "\n",
      "The frame.append method is deprecated and will be removed from pandas in a future version. Use pandas.concat instead.\n",
      "\n",
      "/Users/henrywu/opt/anaconda3/lib/python3.9/site-packages/plotly/express/_core.py:271: FutureWarning:\n",
      "\n",
      "The frame.append method is deprecated and will be removed from pandas in a future version. Use pandas.concat instead.\n",
      "\n",
      "/Users/henrywu/opt/anaconda3/lib/python3.9/site-packages/plotly/express/_core.py:271: FutureWarning:\n",
      "\n",
      "The frame.append method is deprecated and will be removed from pandas in a future version. Use pandas.concat instead.\n",
      "\n"
     ]
    },
    {
     "data": {
      "application/vnd.plotly.v1+json": {
       "config": {
        "plotlyServerURL": "https://plot.ly"
       },
       "data": [
        {
         "hovertemplate": "Day Type=Weekday<br>Trip Type=Departures<br>Trips=%{r}<br>Time=%{theta}<extra></extra>",
         "legendgroup": "Weekday, Departures",
         "line": {
          "color": "#636efa",
          "dash": "solid"
         },
         "marker": {
          "symbol": "circle"
         },
         "mode": "lines",
         "name": "Weekday, Departures",
         "r": [
          1.719409282700422,
          1.001054852320675,
          0.6592827004219409,
          0.5327004219409283,
          0.4957805907172996,
          2.261603375527426,
          6.179324894514768,
          11.419831223628693,
          16.280590717299578,
          7.093881856540085,
          5.2594936708860756,
          6.881856540084388,
          8.683544303797468,
          6.293248945147679,
          5.436708860759493,
          6.348101265822785,
          9.582278481012658,
          13.330168776371307,
          12.04324894514768,
          7.915611814345992,
          6.239451476793249,
          6.675105485232067,
          5.451476793248945,
          3.4651898734177213,
          1.719409282700422
         ],
         "showlegend": true,
         "subplot": "polar",
         "theta": [
          7.5,
          22.5,
          37.5,
          52.5,
          67.5,
          82.5,
          97.5,
          112.5,
          127.5,
          142.5,
          157.5,
          172.5,
          187.5,
          202.5,
          217.5,
          232.5,
          247.5,
          262.5,
          277.5,
          292.5,
          307.5,
          322.5,
          337.5,
          352.5,
          7.5
         ],
         "type": "scatterpolar"
        },
        {
         "hovertemplate": "Day Type=Weekday<br>Trip Type=Arrivals<br>Trips=%{r}<br>Time=%{theta}<extra></extra>",
         "legendgroup": "Weekday, Arrivals",
         "line": {
          "color": "#636efa",
          "dash": "dot"
         },
         "marker": {
          "symbol": "circle"
         },
         "mode": "lines",
         "name": "Weekday, Arrivals",
         "r": [
          2.8934599156118144,
          1.9493670886075949,
          1.4356540084388185,
          0.9208860759493671,
          0.439873417721519,
          0.6371308016877637,
          1.9620253164556962,
          5.571729957805907,
          7.966244725738397,
          6.937763713080169,
          3.809071729957806,
          5.160337552742616,
          7.1265822784810124,
          7.132911392405063,
          6.055907172995781,
          6.993670886075949,
          10.264767932489452,
          16.968354430379748,
          15.516877637130802,
          11.321729957805907,
          8.639240506329115,
          8.0084388185654,
          7.19620253164557,
          5.421940928270042,
          2.8934599156118144
         ],
         "showlegend": true,
         "subplot": "polar",
         "theta": [
          7.5,
          22.5,
          37.5,
          52.5,
          67.5,
          82.5,
          97.5,
          112.5,
          127.5,
          142.5,
          157.5,
          172.5,
          187.5,
          202.5,
          217.5,
          232.5,
          247.5,
          262.5,
          277.5,
          292.5,
          307.5,
          322.5,
          337.5,
          352.5,
          7.5
         ],
         "type": "scatterpolar"
        },
        {
         "hovertemplate": "Day Type=Weekend<br>Trip Type=Departures<br>Trips=%{r}<br>Time=%{theta}<extra></extra>",
         "legendgroup": "Weekend, Departures",
         "line": {
          "color": "#EF553B",
          "dash": "solid"
         },
         "marker": {
          "symbol": "circle"
         },
         "mode": "lines",
         "name": "Weekend, Departures",
         "r": [
          0.8491561181434599,
          0.6962025316455697,
          0.48523206751054854,
          0.3048523206751055,
          0.2869198312236287,
          0.36603375527426163,
          0.6329113924050633,
          0.6751054852320675,
          1.3818565400843883,
          1.979957805907173,
          2.399789029535865,
          2.74789029535865,
          2.8945147679324896,
          3.287974683544304,
          3.1413502109704643,
          3.401898734177215,
          3.0253164556962027,
          2.9588607594936707,
          2.938818565400844,
          2.462025316455696,
          1.8185654008438819,
          1.5432489451476794,
          1.3132911392405062,
          1.0506329113924051,
          0.8491561181434599
         ],
         "showlegend": true,
         "subplot": "polar",
         "theta": [
          7.5,
          22.5,
          37.5,
          52.5,
          67.5,
          82.5,
          97.5,
          112.5,
          127.5,
          142.5,
          157.5,
          172.5,
          187.5,
          202.5,
          217.5,
          232.5,
          247.5,
          262.5,
          277.5,
          292.5,
          307.5,
          322.5,
          337.5,
          352.5,
          7.5
         ],
         "type": "scatterpolar"
        },
        {
         "hovertemplate": "Day Type=Weekend<br>Trip Type=Arrivals<br>Trips=%{r}<br>Time=%{theta}<extra></extra>",
         "legendgroup": "Weekend, Arrivals",
         "line": {
          "color": "#EF553B",
          "dash": "dot"
         },
         "marker": {
          "symbol": "circle"
         },
         "mode": "lines",
         "name": "Weekend, Arrivals",
         "r": [
          1.4335443037974684,
          1.1318565400843883,
          0.8723628691983122,
          0.7194092827004219,
          0.5073839662447257,
          0.5748945147679325,
          0.6592827004219409,
          0.4620253164556962,
          0.6518987341772152,
          1.0253164556962024,
          1.6951476793248945,
          2.059071729957806,
          2.319620253164557,
          2.5643459915611815,
          2.792194092827004,
          3.060126582278481,
          3.2848101265822787,
          3.2932489451476794,
          3.1318565400843883,
          2.8164556962025316,
          2.3818565400843883,
          2.023206751054852,
          1.7911392405063291,
          1.590717299578059,
          1.4335443037974684
         ],
         "showlegend": true,
         "subplot": "polar",
         "theta": [
          7.5,
          22.5,
          37.5,
          52.5,
          67.5,
          82.5,
          97.5,
          112.5,
          127.5,
          142.5,
          157.5,
          172.5,
          187.5,
          202.5,
          217.5,
          232.5,
          247.5,
          262.5,
          277.5,
          292.5,
          307.5,
          322.5,
          337.5,
          352.5,
          7.5
         ],
         "type": "scatterpolar"
        }
       ],
       "layout": {
        "legend": {
         "title": {
          "text": "Day Type, Trip Type"
         },
         "tracegroupgap": 0
        },
        "margin": {
         "t": 60
        },
        "polar": {
         "angularaxis": {
          "direction": "clockwise",
          "rotation": -90,
          "tickmode": "array",
          "ticktext": [
           "12 AM",
           "1 AM",
           "2 AM",
           "3 AM",
           "4 AM",
           "5 AM",
           "6 AM",
           "7 AM",
           "8 AM",
           "9 AM",
           "10 AM",
           "11 AM",
           "12 PM",
           "1 PM",
           "2 PM",
           "3 PM",
           "4 PM",
           "5 PM",
           "6 PM",
           "7 PM",
           "8 PM",
           "9 PM",
           "10 PM",
           "11 PM"
          ],
          "tickvals": [
           0,
           15,
           30,
           45,
           60,
           75,
           90,
           105,
           120,
           135,
           150,
           165,
           180,
           195,
           210,
           225,
           240,
           255,
           270,
           285,
           300,
           315,
           330,
           345
          ]
         },
         "domain": {
          "x": [
           0,
           1
          ],
          "y": [
           0,
           1
          ]
         }
        },
        "template": {
         "data": {
          "bar": [
           {
            "error_x": {
             "color": "#2a3f5f"
            },
            "error_y": {
             "color": "#2a3f5f"
            },
            "marker": {
             "line": {
              "color": "#E5ECF6",
              "width": 0.5
             },
             "pattern": {
              "fillmode": "overlay",
              "size": 10,
              "solidity": 0.2
             }
            },
            "type": "bar"
           }
          ],
          "barpolar": [
           {
            "marker": {
             "line": {
              "color": "#E5ECF6",
              "width": 0.5
             },
             "pattern": {
              "fillmode": "overlay",
              "size": 10,
              "solidity": 0.2
             }
            },
            "type": "barpolar"
           }
          ],
          "carpet": [
           {
            "aaxis": {
             "endlinecolor": "#2a3f5f",
             "gridcolor": "white",
             "linecolor": "white",
             "minorgridcolor": "white",
             "startlinecolor": "#2a3f5f"
            },
            "baxis": {
             "endlinecolor": "#2a3f5f",
             "gridcolor": "white",
             "linecolor": "white",
             "minorgridcolor": "white",
             "startlinecolor": "#2a3f5f"
            },
            "type": "carpet"
           }
          ],
          "choropleth": [
           {
            "colorbar": {
             "outlinewidth": 0,
             "ticks": ""
            },
            "type": "choropleth"
           }
          ],
          "contour": [
           {
            "colorbar": {
             "outlinewidth": 0,
             "ticks": ""
            },
            "colorscale": [
             [
              0,
              "#0d0887"
             ],
             [
              0.1111111111111111,
              "#46039f"
             ],
             [
              0.2222222222222222,
              "#7201a8"
             ],
             [
              0.3333333333333333,
              "#9c179e"
             ],
             [
              0.4444444444444444,
              "#bd3786"
             ],
             [
              0.5555555555555556,
              "#d8576b"
             ],
             [
              0.6666666666666666,
              "#ed7953"
             ],
             [
              0.7777777777777778,
              "#fb9f3a"
             ],
             [
              0.8888888888888888,
              "#fdca26"
             ],
             [
              1,
              "#f0f921"
             ]
            ],
            "type": "contour"
           }
          ],
          "contourcarpet": [
           {
            "colorbar": {
             "outlinewidth": 0,
             "ticks": ""
            },
            "type": "contourcarpet"
           }
          ],
          "heatmap": [
           {
            "colorbar": {
             "outlinewidth": 0,
             "ticks": ""
            },
            "colorscale": [
             [
              0,
              "#0d0887"
             ],
             [
              0.1111111111111111,
              "#46039f"
             ],
             [
              0.2222222222222222,
              "#7201a8"
             ],
             [
              0.3333333333333333,
              "#9c179e"
             ],
             [
              0.4444444444444444,
              "#bd3786"
             ],
             [
              0.5555555555555556,
              "#d8576b"
             ],
             [
              0.6666666666666666,
              "#ed7953"
             ],
             [
              0.7777777777777778,
              "#fb9f3a"
             ],
             [
              0.8888888888888888,
              "#fdca26"
             ],
             [
              1,
              "#f0f921"
             ]
            ],
            "type": "heatmap"
           }
          ],
          "heatmapgl": [
           {
            "colorbar": {
             "outlinewidth": 0,
             "ticks": ""
            },
            "colorscale": [
             [
              0,
              "#0d0887"
             ],
             [
              0.1111111111111111,
              "#46039f"
             ],
             [
              0.2222222222222222,
              "#7201a8"
             ],
             [
              0.3333333333333333,
              "#9c179e"
             ],
             [
              0.4444444444444444,
              "#bd3786"
             ],
             [
              0.5555555555555556,
              "#d8576b"
             ],
             [
              0.6666666666666666,
              "#ed7953"
             ],
             [
              0.7777777777777778,
              "#fb9f3a"
             ],
             [
              0.8888888888888888,
              "#fdca26"
             ],
             [
              1,
              "#f0f921"
             ]
            ],
            "type": "heatmapgl"
           }
          ],
          "histogram": [
           {
            "marker": {
             "pattern": {
              "fillmode": "overlay",
              "size": 10,
              "solidity": 0.2
             }
            },
            "type": "histogram"
           }
          ],
          "histogram2d": [
           {
            "colorbar": {
             "outlinewidth": 0,
             "ticks": ""
            },
            "colorscale": [
             [
              0,
              "#0d0887"
             ],
             [
              0.1111111111111111,
              "#46039f"
             ],
             [
              0.2222222222222222,
              "#7201a8"
             ],
             [
              0.3333333333333333,
              "#9c179e"
             ],
             [
              0.4444444444444444,
              "#bd3786"
             ],
             [
              0.5555555555555556,
              "#d8576b"
             ],
             [
              0.6666666666666666,
              "#ed7953"
             ],
             [
              0.7777777777777778,
              "#fb9f3a"
             ],
             [
              0.8888888888888888,
              "#fdca26"
             ],
             [
              1,
              "#f0f921"
             ]
            ],
            "type": "histogram2d"
           }
          ],
          "histogram2dcontour": [
           {
            "colorbar": {
             "outlinewidth": 0,
             "ticks": ""
            },
            "colorscale": [
             [
              0,
              "#0d0887"
             ],
             [
              0.1111111111111111,
              "#46039f"
             ],
             [
              0.2222222222222222,
              "#7201a8"
             ],
             [
              0.3333333333333333,
              "#9c179e"
             ],
             [
              0.4444444444444444,
              "#bd3786"
             ],
             [
              0.5555555555555556,
              "#d8576b"
             ],
             [
              0.6666666666666666,
              "#ed7953"
             ],
             [
              0.7777777777777778,
              "#fb9f3a"
             ],
             [
              0.8888888888888888,
              "#fdca26"
             ],
             [
              1,
              "#f0f921"
             ]
            ],
            "type": "histogram2dcontour"
           }
          ],
          "mesh3d": [
           {
            "colorbar": {
             "outlinewidth": 0,
             "ticks": ""
            },
            "type": "mesh3d"
           }
          ],
          "parcoords": [
           {
            "line": {
             "colorbar": {
              "outlinewidth": 0,
              "ticks": ""
             }
            },
            "type": "parcoords"
           }
          ],
          "pie": [
           {
            "automargin": true,
            "type": "pie"
           }
          ],
          "scatter": [
           {
            "fillpattern": {
             "fillmode": "overlay",
             "size": 10,
             "solidity": 0.2
            },
            "type": "scatter"
           }
          ],
          "scatter3d": [
           {
            "line": {
             "colorbar": {
              "outlinewidth": 0,
              "ticks": ""
             }
            },
            "marker": {
             "colorbar": {
              "outlinewidth": 0,
              "ticks": ""
             }
            },
            "type": "scatter3d"
           }
          ],
          "scattercarpet": [
           {
            "marker": {
             "colorbar": {
              "outlinewidth": 0,
              "ticks": ""
             }
            },
            "type": "scattercarpet"
           }
          ],
          "scattergeo": [
           {
            "marker": {
             "colorbar": {
              "outlinewidth": 0,
              "ticks": ""
             }
            },
            "type": "scattergeo"
           }
          ],
          "scattergl": [
           {
            "marker": {
             "colorbar": {
              "outlinewidth": 0,
              "ticks": ""
             }
            },
            "type": "scattergl"
           }
          ],
          "scattermapbox": [
           {
            "marker": {
             "colorbar": {
              "outlinewidth": 0,
              "ticks": ""
             }
            },
            "type": "scattermapbox"
           }
          ],
          "scatterpolar": [
           {
            "marker": {
             "colorbar": {
              "outlinewidth": 0,
              "ticks": ""
             }
            },
            "type": "scatterpolar"
           }
          ],
          "scatterpolargl": [
           {
            "marker": {
             "colorbar": {
              "outlinewidth": 0,
              "ticks": ""
             }
            },
            "type": "scatterpolargl"
           }
          ],
          "scatterternary": [
           {
            "marker": {
             "colorbar": {
              "outlinewidth": 0,
              "ticks": ""
             }
            },
            "type": "scatterternary"
           }
          ],
          "surface": [
           {
            "colorbar": {
             "outlinewidth": 0,
             "ticks": ""
            },
            "colorscale": [
             [
              0,
              "#0d0887"
             ],
             [
              0.1111111111111111,
              "#46039f"
             ],
             [
              0.2222222222222222,
              "#7201a8"
             ],
             [
              0.3333333333333333,
              "#9c179e"
             ],
             [
              0.4444444444444444,
              "#bd3786"
             ],
             [
              0.5555555555555556,
              "#d8576b"
             ],
             [
              0.6666666666666666,
              "#ed7953"
             ],
             [
              0.7777777777777778,
              "#fb9f3a"
             ],
             [
              0.8888888888888888,
              "#fdca26"
             ],
             [
              1,
              "#f0f921"
             ]
            ],
            "type": "surface"
           }
          ],
          "table": [
           {
            "cells": {
             "fill": {
              "color": "#EBF0F8"
             },
             "line": {
              "color": "white"
             }
            },
            "header": {
             "fill": {
              "color": "#C8D4E3"
             },
             "line": {
              "color": "white"
             }
            },
            "type": "table"
           }
          ]
         },
         "layout": {
          "annotationdefaults": {
           "arrowcolor": "#2a3f5f",
           "arrowhead": 0,
           "arrowwidth": 1
          },
          "autotypenumbers": "strict",
          "coloraxis": {
           "colorbar": {
            "outlinewidth": 0,
            "ticks": ""
           }
          },
          "colorscale": {
           "diverging": [
            [
             0,
             "#8e0152"
            ],
            [
             0.1,
             "#c51b7d"
            ],
            [
             0.2,
             "#de77ae"
            ],
            [
             0.3,
             "#f1b6da"
            ],
            [
             0.4,
             "#fde0ef"
            ],
            [
             0.5,
             "#f7f7f7"
            ],
            [
             0.6,
             "#e6f5d0"
            ],
            [
             0.7,
             "#b8e186"
            ],
            [
             0.8,
             "#7fbc41"
            ],
            [
             0.9,
             "#4d9221"
            ],
            [
             1,
             "#276419"
            ]
           ],
           "sequential": [
            [
             0,
             "#0d0887"
            ],
            [
             0.1111111111111111,
             "#46039f"
            ],
            [
             0.2222222222222222,
             "#7201a8"
            ],
            [
             0.3333333333333333,
             "#9c179e"
            ],
            [
             0.4444444444444444,
             "#bd3786"
            ],
            [
             0.5555555555555556,
             "#d8576b"
            ],
            [
             0.6666666666666666,
             "#ed7953"
            ],
            [
             0.7777777777777778,
             "#fb9f3a"
            ],
            [
             0.8888888888888888,
             "#fdca26"
            ],
            [
             1,
             "#f0f921"
            ]
           ],
           "sequentialminus": [
            [
             0,
             "#0d0887"
            ],
            [
             0.1111111111111111,
             "#46039f"
            ],
            [
             0.2222222222222222,
             "#7201a8"
            ],
            [
             0.3333333333333333,
             "#9c179e"
            ],
            [
             0.4444444444444444,
             "#bd3786"
            ],
            [
             0.5555555555555556,
             "#d8576b"
            ],
            [
             0.6666666666666666,
             "#ed7953"
            ],
            [
             0.7777777777777778,
             "#fb9f3a"
            ],
            [
             0.8888888888888888,
             "#fdca26"
            ],
            [
             1,
             "#f0f921"
            ]
           ]
          },
          "colorway": [
           "#636efa",
           "#EF553B",
           "#00cc96",
           "#ab63fa",
           "#FFA15A",
           "#19d3f3",
           "#FF6692",
           "#B6E880",
           "#FF97FF",
           "#FECB52"
          ],
          "font": {
           "color": "#2a3f5f"
          },
          "geo": {
           "bgcolor": "white",
           "lakecolor": "white",
           "landcolor": "#E5ECF6",
           "showlakes": true,
           "showland": true,
           "subunitcolor": "white"
          },
          "hoverlabel": {
           "align": "left"
          },
          "hovermode": "closest",
          "mapbox": {
           "style": "light"
          },
          "paper_bgcolor": "white",
          "plot_bgcolor": "#E5ECF6",
          "polar": {
           "angularaxis": {
            "gridcolor": "white",
            "linecolor": "white",
            "ticks": ""
           },
           "bgcolor": "#E5ECF6",
           "radialaxis": {
            "gridcolor": "white",
            "linecolor": "white",
            "ticks": ""
           }
          },
          "scene": {
           "xaxis": {
            "backgroundcolor": "#E5ECF6",
            "gridcolor": "white",
            "gridwidth": 2,
            "linecolor": "white",
            "showbackground": true,
            "ticks": "",
            "zerolinecolor": "white"
           },
           "yaxis": {
            "backgroundcolor": "#E5ECF6",
            "gridcolor": "white",
            "gridwidth": 2,
            "linecolor": "white",
            "showbackground": true,
            "ticks": "",
            "zerolinecolor": "white"
           },
           "zaxis": {
            "backgroundcolor": "#E5ECF6",
            "gridcolor": "white",
            "gridwidth": 2,
            "linecolor": "white",
            "showbackground": true,
            "ticks": "",
            "zerolinecolor": "white"
           }
          },
          "shapedefaults": {
           "line": {
            "color": "#2a3f5f"
           }
          },
          "ternary": {
           "aaxis": {
            "gridcolor": "white",
            "linecolor": "white",
            "ticks": ""
           },
           "baxis": {
            "gridcolor": "white",
            "linecolor": "white",
            "ticks": ""
           },
           "bgcolor": "#E5ECF6",
           "caxis": {
            "gridcolor": "white",
            "linecolor": "white",
            "ticks": ""
           }
          },
          "title": {
           "x": 0.05
          },
          "xaxis": {
           "automargin": true,
           "gridcolor": "white",
           "linecolor": "white",
           "ticks": "",
           "title": {
            "standoff": 15
           },
           "zerolinecolor": "white",
           "zerolinewidth": 2
          },
          "yaxis": {
           "automargin": true,
           "gridcolor": "white",
           "linecolor": "white",
           "ticks": "",
           "title": {
            "standoff": 15
           },
           "zerolinecolor": "white",
           "zerolinewidth": 2
          }
         }
        }
       }
      }
     },
     "metadata": {},
     "output_type": "display_data"
    },
    {
     "name": "stdout",
     "output_type": "stream",
     "text": [
      "3 nearest stations to Lincoln Street Green: Surface Rd at Summer St, South Station - 700 Atlantic Ave, Chinatown Gate Plaza\n"
     ]
    },
    {
     "name": "stderr",
     "output_type": "stream",
     "text": [
      "/Users/henrywu/opt/anaconda3/lib/python3.9/site-packages/plotly/express/_core.py:271: FutureWarning:\n",
      "\n",
      "The frame.append method is deprecated and will be removed from pandas in a future version. Use pandas.concat instead.\n",
      "\n",
      "/Users/henrywu/opt/anaconda3/lib/python3.9/site-packages/plotly/express/_core.py:271: FutureWarning:\n",
      "\n",
      "The frame.append method is deprecated and will be removed from pandas in a future version. Use pandas.concat instead.\n",
      "\n",
      "/Users/henrywu/opt/anaconda3/lib/python3.9/site-packages/plotly/express/_core.py:271: FutureWarning:\n",
      "\n",
      "The frame.append method is deprecated and will be removed from pandas in a future version. Use pandas.concat instead.\n",
      "\n",
      "/Users/henrywu/opt/anaconda3/lib/python3.9/site-packages/plotly/express/_core.py:271: FutureWarning:\n",
      "\n",
      "The frame.append method is deprecated and will be removed from pandas in a future version. Use pandas.concat instead.\n",
      "\n"
     ]
    },
    {
     "data": {
      "application/vnd.plotly.v1+json": {
       "config": {
        "plotlyServerURL": "https://plot.ly"
       },
       "data": [
        {
         "hovertemplate": "Day Type=Weekday<br>Trip Type=Departures<br>Trips=%{r}<br>Time=%{theta}<extra></extra>",
         "legendgroup": "Weekday, Departures",
         "line": {
          "color": "#636efa",
          "dash": "solid"
         },
         "marker": {
          "symbol": "circle"
         },
         "mode": "lines",
         "name": "Weekday, Departures",
         "r": [
          3.336497890295359,
          2.300632911392405,
          1.580168776371308,
          1.0337552742616034,
          0.7310126582278481,
          1.4662447257383966,
          5.988396624472574,
          13.68776371308017,
          25.212025316455698,
          11.893459915611814,
          7.529535864978903,
          8.907172995780591,
          12.636075949367088,
          9.930379746835444,
          9.330168776371307,
          11.45464135021097,
          21.899789029535864,
          42.33016877637131,
          26.33438818565401,
          14.38396624472574,
          11.70464135021097,
          11.896624472573839,
          9.259493670886076,
          5.75,
          3.336497890295359
         ],
         "showlegend": true,
         "subplot": "polar",
         "theta": [
          7.5,
          22.5,
          37.5,
          52.5,
          67.5,
          82.5,
          97.5,
          112.5,
          127.5,
          142.5,
          157.5,
          172.5,
          187.5,
          202.5,
          217.5,
          232.5,
          247.5,
          262.5,
          277.5,
          292.5,
          307.5,
          322.5,
          337.5,
          352.5,
          7.5
         ],
         "type": "scatterpolar"
        },
        {
         "hovertemplate": "Day Type=Weekday<br>Trip Type=Arrivals<br>Trips=%{r}<br>Time=%{theta}<extra></extra>",
         "legendgroup": "Weekday, Arrivals",
         "line": {
          "color": "#636efa",
          "dash": "dot"
         },
         "marker": {
          "symbol": "circle"
         },
         "mode": "lines",
         "name": "Weekday, Arrivals",
         "r": [
          2.270042194092827,
          1.4377637130801688,
          1.1318565400843883,
          0.7236286919831224,
          0.7584388185654009,
          1.7151898734177216,
          5.05379746835443,
          17.404008438818565,
          37.06856540084388,
          20.223628691983123,
          8.471518987341772,
          10.682489451476794,
          16.825949367088608,
          13.871308016877638,
          10.981012658227849,
          15.234177215189874,
          26.137130801687764,
          29.918776371308017,
          15.660337552742616,
          9.882911392405063,
          8.919831223628693,
          8.172995780590718,
          6.379746835443038,
          3.738396624472574,
          2.270042194092827
         ],
         "showlegend": true,
         "subplot": "polar",
         "theta": [
          7.5,
          22.5,
          37.5,
          52.5,
          67.5,
          82.5,
          97.5,
          112.5,
          127.5,
          142.5,
          157.5,
          172.5,
          187.5,
          202.5,
          217.5,
          232.5,
          247.5,
          262.5,
          277.5,
          292.5,
          307.5,
          322.5,
          337.5,
          352.5,
          7.5
         ],
         "type": "scatterpolar"
        },
        {
         "hovertemplate": "Day Type=Weekend<br>Trip Type=Departures<br>Trips=%{r}<br>Time=%{theta}<extra></extra>",
         "legendgroup": "Weekend, Departures",
         "line": {
          "color": "#EF553B",
          "dash": "solid"
         },
         "marker": {
          "symbol": "circle"
         },
         "mode": "lines",
         "name": "Weekend, Departures",
         "r": [
          1.8417721518987342,
          1.8839662447257384,
          1.5147679324894514,
          0.9251054852320675,
          0.8132911392405063,
          1.2025316455696202,
          0.9462025316455697,
          0.6645569620253164,
          0.8829113924050633,
          1.3248945147679325,
          2.0917721518987342,
          2.607594936708861,
          3.0474683544303796,
          3.4630801687763713,
          3.8628691983122363,
          3.8860759493670884,
          4.236286919831223,
          4,
          3.7552742616033754,
          3.5464135021097047,
          3.147679324894515,
          2.6677215189873418,
          2.4356540084388185,
          2.032700421940928,
          1.8417721518987342
         ],
         "showlegend": true,
         "subplot": "polar",
         "theta": [
          7.5,
          22.5,
          37.5,
          52.5,
          67.5,
          82.5,
          97.5,
          112.5,
          127.5,
          142.5,
          157.5,
          172.5,
          187.5,
          202.5,
          217.5,
          232.5,
          247.5,
          262.5,
          277.5,
          292.5,
          307.5,
          322.5,
          337.5,
          352.5,
          7.5
         ],
         "type": "scatterpolar"
        },
        {
         "hovertemplate": "Day Type=Weekend<br>Trip Type=Arrivals<br>Trips=%{r}<br>Time=%{theta}<extra></extra>",
         "legendgroup": "Weekend, Arrivals",
         "line": {
          "color": "#EF553B",
          "dash": "dot"
         },
         "marker": {
          "symbol": "circle"
         },
         "mode": "lines",
         "name": "Weekend, Arrivals",
         "r": [
          1.6561181434599157,
          1.140295358649789,
          0.919831223628692,
          0.6571729957805907,
          0.5305907172995781,
          0.6244725738396625,
          0.8059071729957806,
          0.819620253164557,
          1.2025316455696202,
          1.8955696202531647,
          2.69831223628692,
          2.9145569620253164,
          3.279535864978903,
          3.4462025316455698,
          3.6044303797468356,
          3.7035864978902953,
          4.100210970464135,
          3.882911392405063,
          3.7415611814345993,
          3.4725738396624473,
          2.7679324894514767,
          2.345991561181435,
          2.2362869198312234,
          1.6677215189873418,
          1.6561181434599157
         ],
         "showlegend": true,
         "subplot": "polar",
         "theta": [
          7.5,
          22.5,
          37.5,
          52.5,
          67.5,
          82.5,
          97.5,
          112.5,
          127.5,
          142.5,
          157.5,
          172.5,
          187.5,
          202.5,
          217.5,
          232.5,
          247.5,
          262.5,
          277.5,
          292.5,
          307.5,
          322.5,
          337.5,
          352.5,
          7.5
         ],
         "type": "scatterpolar"
        }
       ],
       "layout": {
        "legend": {
         "title": {
          "text": "Day Type, Trip Type"
         },
         "tracegroupgap": 0
        },
        "margin": {
         "t": 60
        },
        "polar": {
         "angularaxis": {
          "direction": "clockwise",
          "rotation": -90,
          "tickmode": "array",
          "ticktext": [
           "12 AM",
           "1 AM",
           "2 AM",
           "3 AM",
           "4 AM",
           "5 AM",
           "6 AM",
           "7 AM",
           "8 AM",
           "9 AM",
           "10 AM",
           "11 AM",
           "12 PM",
           "1 PM",
           "2 PM",
           "3 PM",
           "4 PM",
           "5 PM",
           "6 PM",
           "7 PM",
           "8 PM",
           "9 PM",
           "10 PM",
           "11 PM"
          ],
          "tickvals": [
           0,
           15,
           30,
           45,
           60,
           75,
           90,
           105,
           120,
           135,
           150,
           165,
           180,
           195,
           210,
           225,
           240,
           255,
           270,
           285,
           300,
           315,
           330,
           345
          ]
         },
         "domain": {
          "x": [
           0,
           1
          ],
          "y": [
           0,
           1
          ]
         }
        },
        "template": {
         "data": {
          "bar": [
           {
            "error_x": {
             "color": "#2a3f5f"
            },
            "error_y": {
             "color": "#2a3f5f"
            },
            "marker": {
             "line": {
              "color": "#E5ECF6",
              "width": 0.5
             },
             "pattern": {
              "fillmode": "overlay",
              "size": 10,
              "solidity": 0.2
             }
            },
            "type": "bar"
           }
          ],
          "barpolar": [
           {
            "marker": {
             "line": {
              "color": "#E5ECF6",
              "width": 0.5
             },
             "pattern": {
              "fillmode": "overlay",
              "size": 10,
              "solidity": 0.2
             }
            },
            "type": "barpolar"
           }
          ],
          "carpet": [
           {
            "aaxis": {
             "endlinecolor": "#2a3f5f",
             "gridcolor": "white",
             "linecolor": "white",
             "minorgridcolor": "white",
             "startlinecolor": "#2a3f5f"
            },
            "baxis": {
             "endlinecolor": "#2a3f5f",
             "gridcolor": "white",
             "linecolor": "white",
             "minorgridcolor": "white",
             "startlinecolor": "#2a3f5f"
            },
            "type": "carpet"
           }
          ],
          "choropleth": [
           {
            "colorbar": {
             "outlinewidth": 0,
             "ticks": ""
            },
            "type": "choropleth"
           }
          ],
          "contour": [
           {
            "colorbar": {
             "outlinewidth": 0,
             "ticks": ""
            },
            "colorscale": [
             [
              0,
              "#0d0887"
             ],
             [
              0.1111111111111111,
              "#46039f"
             ],
             [
              0.2222222222222222,
              "#7201a8"
             ],
             [
              0.3333333333333333,
              "#9c179e"
             ],
             [
              0.4444444444444444,
              "#bd3786"
             ],
             [
              0.5555555555555556,
              "#d8576b"
             ],
             [
              0.6666666666666666,
              "#ed7953"
             ],
             [
              0.7777777777777778,
              "#fb9f3a"
             ],
             [
              0.8888888888888888,
              "#fdca26"
             ],
             [
              1,
              "#f0f921"
             ]
            ],
            "type": "contour"
           }
          ],
          "contourcarpet": [
           {
            "colorbar": {
             "outlinewidth": 0,
             "ticks": ""
            },
            "type": "contourcarpet"
           }
          ],
          "heatmap": [
           {
            "colorbar": {
             "outlinewidth": 0,
             "ticks": ""
            },
            "colorscale": [
             [
              0,
              "#0d0887"
             ],
             [
              0.1111111111111111,
              "#46039f"
             ],
             [
              0.2222222222222222,
              "#7201a8"
             ],
             [
              0.3333333333333333,
              "#9c179e"
             ],
             [
              0.4444444444444444,
              "#bd3786"
             ],
             [
              0.5555555555555556,
              "#d8576b"
             ],
             [
              0.6666666666666666,
              "#ed7953"
             ],
             [
              0.7777777777777778,
              "#fb9f3a"
             ],
             [
              0.8888888888888888,
              "#fdca26"
             ],
             [
              1,
              "#f0f921"
             ]
            ],
            "type": "heatmap"
           }
          ],
          "heatmapgl": [
           {
            "colorbar": {
             "outlinewidth": 0,
             "ticks": ""
            },
            "colorscale": [
             [
              0,
              "#0d0887"
             ],
             [
              0.1111111111111111,
              "#46039f"
             ],
             [
              0.2222222222222222,
              "#7201a8"
             ],
             [
              0.3333333333333333,
              "#9c179e"
             ],
             [
              0.4444444444444444,
              "#bd3786"
             ],
             [
              0.5555555555555556,
              "#d8576b"
             ],
             [
              0.6666666666666666,
              "#ed7953"
             ],
             [
              0.7777777777777778,
              "#fb9f3a"
             ],
             [
              0.8888888888888888,
              "#fdca26"
             ],
             [
              1,
              "#f0f921"
             ]
            ],
            "type": "heatmapgl"
           }
          ],
          "histogram": [
           {
            "marker": {
             "pattern": {
              "fillmode": "overlay",
              "size": 10,
              "solidity": 0.2
             }
            },
            "type": "histogram"
           }
          ],
          "histogram2d": [
           {
            "colorbar": {
             "outlinewidth": 0,
             "ticks": ""
            },
            "colorscale": [
             [
              0,
              "#0d0887"
             ],
             [
              0.1111111111111111,
              "#46039f"
             ],
             [
              0.2222222222222222,
              "#7201a8"
             ],
             [
              0.3333333333333333,
              "#9c179e"
             ],
             [
              0.4444444444444444,
              "#bd3786"
             ],
             [
              0.5555555555555556,
              "#d8576b"
             ],
             [
              0.6666666666666666,
              "#ed7953"
             ],
             [
              0.7777777777777778,
              "#fb9f3a"
             ],
             [
              0.8888888888888888,
              "#fdca26"
             ],
             [
              1,
              "#f0f921"
             ]
            ],
            "type": "histogram2d"
           }
          ],
          "histogram2dcontour": [
           {
            "colorbar": {
             "outlinewidth": 0,
             "ticks": ""
            },
            "colorscale": [
             [
              0,
              "#0d0887"
             ],
             [
              0.1111111111111111,
              "#46039f"
             ],
             [
              0.2222222222222222,
              "#7201a8"
             ],
             [
              0.3333333333333333,
              "#9c179e"
             ],
             [
              0.4444444444444444,
              "#bd3786"
             ],
             [
              0.5555555555555556,
              "#d8576b"
             ],
             [
              0.6666666666666666,
              "#ed7953"
             ],
             [
              0.7777777777777778,
              "#fb9f3a"
             ],
             [
              0.8888888888888888,
              "#fdca26"
             ],
             [
              1,
              "#f0f921"
             ]
            ],
            "type": "histogram2dcontour"
           }
          ],
          "mesh3d": [
           {
            "colorbar": {
             "outlinewidth": 0,
             "ticks": ""
            },
            "type": "mesh3d"
           }
          ],
          "parcoords": [
           {
            "line": {
             "colorbar": {
              "outlinewidth": 0,
              "ticks": ""
             }
            },
            "type": "parcoords"
           }
          ],
          "pie": [
           {
            "automargin": true,
            "type": "pie"
           }
          ],
          "scatter": [
           {
            "fillpattern": {
             "fillmode": "overlay",
             "size": 10,
             "solidity": 0.2
            },
            "type": "scatter"
           }
          ],
          "scatter3d": [
           {
            "line": {
             "colorbar": {
              "outlinewidth": 0,
              "ticks": ""
             }
            },
            "marker": {
             "colorbar": {
              "outlinewidth": 0,
              "ticks": ""
             }
            },
            "type": "scatter3d"
           }
          ],
          "scattercarpet": [
           {
            "marker": {
             "colorbar": {
              "outlinewidth": 0,
              "ticks": ""
             }
            },
            "type": "scattercarpet"
           }
          ],
          "scattergeo": [
           {
            "marker": {
             "colorbar": {
              "outlinewidth": 0,
              "ticks": ""
             }
            },
            "type": "scattergeo"
           }
          ],
          "scattergl": [
           {
            "marker": {
             "colorbar": {
              "outlinewidth": 0,
              "ticks": ""
             }
            },
            "type": "scattergl"
           }
          ],
          "scattermapbox": [
           {
            "marker": {
             "colorbar": {
              "outlinewidth": 0,
              "ticks": ""
             }
            },
            "type": "scattermapbox"
           }
          ],
          "scatterpolar": [
           {
            "marker": {
             "colorbar": {
              "outlinewidth": 0,
              "ticks": ""
             }
            },
            "type": "scatterpolar"
           }
          ],
          "scatterpolargl": [
           {
            "marker": {
             "colorbar": {
              "outlinewidth": 0,
              "ticks": ""
             }
            },
            "type": "scatterpolargl"
           }
          ],
          "scatterternary": [
           {
            "marker": {
             "colorbar": {
              "outlinewidth": 0,
              "ticks": ""
             }
            },
            "type": "scatterternary"
           }
          ],
          "surface": [
           {
            "colorbar": {
             "outlinewidth": 0,
             "ticks": ""
            },
            "colorscale": [
             [
              0,
              "#0d0887"
             ],
             [
              0.1111111111111111,
              "#46039f"
             ],
             [
              0.2222222222222222,
              "#7201a8"
             ],
             [
              0.3333333333333333,
              "#9c179e"
             ],
             [
              0.4444444444444444,
              "#bd3786"
             ],
             [
              0.5555555555555556,
              "#d8576b"
             ],
             [
              0.6666666666666666,
              "#ed7953"
             ],
             [
              0.7777777777777778,
              "#fb9f3a"
             ],
             [
              0.8888888888888888,
              "#fdca26"
             ],
             [
              1,
              "#f0f921"
             ]
            ],
            "type": "surface"
           }
          ],
          "table": [
           {
            "cells": {
             "fill": {
              "color": "#EBF0F8"
             },
             "line": {
              "color": "white"
             }
            },
            "header": {
             "fill": {
              "color": "#C8D4E3"
             },
             "line": {
              "color": "white"
             }
            },
            "type": "table"
           }
          ]
         },
         "layout": {
          "annotationdefaults": {
           "arrowcolor": "#2a3f5f",
           "arrowhead": 0,
           "arrowwidth": 1
          },
          "autotypenumbers": "strict",
          "coloraxis": {
           "colorbar": {
            "outlinewidth": 0,
            "ticks": ""
           }
          },
          "colorscale": {
           "diverging": [
            [
             0,
             "#8e0152"
            ],
            [
             0.1,
             "#c51b7d"
            ],
            [
             0.2,
             "#de77ae"
            ],
            [
             0.3,
             "#f1b6da"
            ],
            [
             0.4,
             "#fde0ef"
            ],
            [
             0.5,
             "#f7f7f7"
            ],
            [
             0.6,
             "#e6f5d0"
            ],
            [
             0.7,
             "#b8e186"
            ],
            [
             0.8,
             "#7fbc41"
            ],
            [
             0.9,
             "#4d9221"
            ],
            [
             1,
             "#276419"
            ]
           ],
           "sequential": [
            [
             0,
             "#0d0887"
            ],
            [
             0.1111111111111111,
             "#46039f"
            ],
            [
             0.2222222222222222,
             "#7201a8"
            ],
            [
             0.3333333333333333,
             "#9c179e"
            ],
            [
             0.4444444444444444,
             "#bd3786"
            ],
            [
             0.5555555555555556,
             "#d8576b"
            ],
            [
             0.6666666666666666,
             "#ed7953"
            ],
            [
             0.7777777777777778,
             "#fb9f3a"
            ],
            [
             0.8888888888888888,
             "#fdca26"
            ],
            [
             1,
             "#f0f921"
            ]
           ],
           "sequentialminus": [
            [
             0,
             "#0d0887"
            ],
            [
             0.1111111111111111,
             "#46039f"
            ],
            [
             0.2222222222222222,
             "#7201a8"
            ],
            [
             0.3333333333333333,
             "#9c179e"
            ],
            [
             0.4444444444444444,
             "#bd3786"
            ],
            [
             0.5555555555555556,
             "#d8576b"
            ],
            [
             0.6666666666666666,
             "#ed7953"
            ],
            [
             0.7777777777777778,
             "#fb9f3a"
            ],
            [
             0.8888888888888888,
             "#fdca26"
            ],
            [
             1,
             "#f0f921"
            ]
           ]
          },
          "colorway": [
           "#636efa",
           "#EF553B",
           "#00cc96",
           "#ab63fa",
           "#FFA15A",
           "#19d3f3",
           "#FF6692",
           "#B6E880",
           "#FF97FF",
           "#FECB52"
          ],
          "font": {
           "color": "#2a3f5f"
          },
          "geo": {
           "bgcolor": "white",
           "lakecolor": "white",
           "landcolor": "#E5ECF6",
           "showlakes": true,
           "showland": true,
           "subunitcolor": "white"
          },
          "hoverlabel": {
           "align": "left"
          },
          "hovermode": "closest",
          "mapbox": {
           "style": "light"
          },
          "paper_bgcolor": "white",
          "plot_bgcolor": "#E5ECF6",
          "polar": {
           "angularaxis": {
            "gridcolor": "white",
            "linecolor": "white",
            "ticks": ""
           },
           "bgcolor": "#E5ECF6",
           "radialaxis": {
            "gridcolor": "white",
            "linecolor": "white",
            "ticks": ""
           }
          },
          "scene": {
           "xaxis": {
            "backgroundcolor": "#E5ECF6",
            "gridcolor": "white",
            "gridwidth": 2,
            "linecolor": "white",
            "showbackground": true,
            "ticks": "",
            "zerolinecolor": "white"
           },
           "yaxis": {
            "backgroundcolor": "#E5ECF6",
            "gridcolor": "white",
            "gridwidth": 2,
            "linecolor": "white",
            "showbackground": true,
            "ticks": "",
            "zerolinecolor": "white"
           },
           "zaxis": {
            "backgroundcolor": "#E5ECF6",
            "gridcolor": "white",
            "gridwidth": 2,
            "linecolor": "white",
            "showbackground": true,
            "ticks": "",
            "zerolinecolor": "white"
           }
          },
          "shapedefaults": {
           "line": {
            "color": "#2a3f5f"
           }
          },
          "ternary": {
           "aaxis": {
            "gridcolor": "white",
            "linecolor": "white",
            "ticks": ""
           },
           "baxis": {
            "gridcolor": "white",
            "linecolor": "white",
            "ticks": ""
           },
           "bgcolor": "#E5ECF6",
           "caxis": {
            "gridcolor": "white",
            "linecolor": "white",
            "ticks": ""
           }
          },
          "title": {
           "x": 0.05
          },
          "xaxis": {
           "automargin": true,
           "gridcolor": "white",
           "linecolor": "white",
           "ticks": "",
           "title": {
            "standoff": 15
           },
           "zerolinecolor": "white",
           "zerolinewidth": 2
          },
          "yaxis": {
           "automargin": true,
           "gridcolor": "white",
           "linecolor": "white",
           "ticks": "",
           "title": {
            "standoff": 15
           },
           "zerolinecolor": "white",
           "zerolinewidth": 2
          }
         }
        }
       }
      }
     },
     "metadata": {},
     "output_type": "display_data"
    },
    {
     "name": "stdout",
     "output_type": "stream",
     "text": [
      "No stations within 0.3 km of Centre Street I\n",
      "No stations within 0.3 km of Blake Estates Urban Wild II\n",
      "No stations within 0.3 km of Franklin Park II\n",
      "No stations within 0.3 km of Spectacle Island I\n",
      "1 nearest station to Bremen Street Park I: Bremen St at Marion St\n"
     ]
    },
    {
     "name": "stderr",
     "output_type": "stream",
     "text": [
      "/Users/henrywu/opt/anaconda3/lib/python3.9/site-packages/plotly/express/_core.py:271: FutureWarning:\n",
      "\n",
      "The frame.append method is deprecated and will be removed from pandas in a future version. Use pandas.concat instead.\n",
      "\n",
      "/Users/henrywu/opt/anaconda3/lib/python3.9/site-packages/plotly/express/_core.py:271: FutureWarning:\n",
      "\n",
      "The frame.append method is deprecated and will be removed from pandas in a future version. Use pandas.concat instead.\n",
      "\n",
      "/Users/henrywu/opt/anaconda3/lib/python3.9/site-packages/plotly/express/_core.py:271: FutureWarning:\n",
      "\n",
      "The frame.append method is deprecated and will be removed from pandas in a future version. Use pandas.concat instead.\n",
      "\n",
      "/Users/henrywu/opt/anaconda3/lib/python3.9/site-packages/plotly/express/_core.py:271: FutureWarning:\n",
      "\n",
      "The frame.append method is deprecated and will be removed from pandas in a future version. Use pandas.concat instead.\n",
      "\n"
     ]
    },
    {
     "data": {
      "application/vnd.plotly.v1+json": {
       "config": {
        "plotlyServerURL": "https://plot.ly"
       },
       "data": [
        {
         "hovertemplate": "Day Type=Weekday<br>Trip Type=Departures<br>Trips=%{r}<br>Time=%{theta}<extra></extra>",
         "legendgroup": "Weekday, Departures",
         "line": {
          "color": "#636efa",
          "dash": "solid"
         },
         "marker": {
          "symbol": "circle"
         },
         "mode": "lines",
         "name": "Weekday, Departures",
         "r": [
          0.004219409282700422,
          0.0031645569620253164,
          0,
          0,
          0.0010548523206751054,
          0.0010548523206751054,
          0.027426160337552744,
          0.0981012658227848,
          0.05379746835443038,
          0.03164556962025317,
          0.026371308016877638,
          0.0379746835443038,
          0.04113924050632911,
          0.03375527426160337,
          0.05168776371308017,
          0.03164556962025317,
          0.052742616033755275,
          0.06856540084388185,
          0.09177215189873418,
          0.07067510548523206,
          0.03375527426160337,
          0.007383966244725738,
          0.020042194092827006,
          0.006329113924050633,
          0.004219409282700422
         ],
         "showlegend": true,
         "subplot": "polar",
         "theta": [
          7.5,
          22.5,
          37.5,
          52.5,
          67.5,
          82.5,
          97.5,
          112.5,
          127.5,
          142.5,
          157.5,
          172.5,
          187.5,
          202.5,
          217.5,
          232.5,
          247.5,
          262.5,
          277.5,
          292.5,
          307.5,
          322.5,
          337.5,
          352.5,
          7.5
         ],
         "type": "scatterpolar"
        },
        {
         "hovertemplate": "Day Type=Weekday<br>Trip Type=Arrivals<br>Trips=%{r}<br>Time=%{theta}<extra></extra>",
         "legendgroup": "Weekday, Arrivals",
         "line": {
          "color": "#636efa",
          "dash": "dot"
         },
         "marker": {
          "symbol": "circle"
         },
         "mode": "lines",
         "name": "Weekday, Arrivals",
         "r": [
          0.0031645569620253164,
          0.0031645569620253164,
          0.002109704641350211,
          0,
          0.0031645569620253164,
          0.0031645569620253164,
          0.02531645569620253,
          0.028481012658227847,
          0.04113924050632911,
          0.02109704641350211,
          0.029535864978902954,
          0.04430379746835443,
          0.046413502109704644,
          0.043248945147679324,
          0.04219409282700422,
          0.043248945147679324,
          0.05379746835443038,
          0.060126582278481014,
          0.07383966244725738,
          0.06540084388185655,
          0.06962025316455696,
          0.03059071729957806,
          0.013713080168776372,
          0.014767932489451477,
          0.0031645569620253164
         ],
         "showlegend": true,
         "subplot": "polar",
         "theta": [
          7.5,
          22.5,
          37.5,
          52.5,
          67.5,
          82.5,
          97.5,
          112.5,
          127.5,
          142.5,
          157.5,
          172.5,
          187.5,
          202.5,
          217.5,
          232.5,
          247.5,
          262.5,
          277.5,
          292.5,
          307.5,
          322.5,
          337.5,
          352.5,
          7.5
         ],
         "type": "scatterpolar"
        },
        {
         "hovertemplate": "Day Type=Weekend<br>Trip Type=Departures<br>Trips=%{r}<br>Time=%{theta}<extra></extra>",
         "legendgroup": "Weekend, Departures",
         "line": {
          "color": "#EF553B",
          "dash": "solid"
         },
         "marker": {
          "symbol": "circle"
         },
         "mode": "lines",
         "name": "Weekend, Departures",
         "r": [
          0.0010548523206751054,
          0.0031645569620253164,
          0.0031645569620253164,
          0.0010548523206751054,
          0,
          0.0031645569620253164,
          0.004219409282700422,
          0.002109704641350211,
          0.007383966244725738,
          0.015822784810126583,
          0.011603375527426161,
          0.017932489451476793,
          0.035864978902953586,
          0.029535864978902954,
          0.043248945147679324,
          0.03375527426160337,
          0.022151898734177215,
          0.029535864978902954,
          0.023206751054852322,
          0.02109704641350211,
          0.012658227848101266,
          0.004219409282700422,
          0.005274261603375527,
          0.008438818565400843,
          0.0010548523206751054
         ],
         "showlegend": true,
         "subplot": "polar",
         "theta": [
          7.5,
          22.5,
          37.5,
          52.5,
          67.5,
          82.5,
          97.5,
          112.5,
          127.5,
          142.5,
          157.5,
          172.5,
          187.5,
          202.5,
          217.5,
          232.5,
          247.5,
          262.5,
          277.5,
          292.5,
          307.5,
          322.5,
          337.5,
          352.5,
          7.5
         ],
         "type": "scatterpolar"
        },
        {
         "hovertemplate": "Day Type=Weekend<br>Trip Type=Arrivals<br>Trips=%{r}<br>Time=%{theta}<extra></extra>",
         "legendgroup": "Weekend, Arrivals",
         "line": {
          "color": "#EF553B",
          "dash": "dot"
         },
         "marker": {
          "symbol": "circle"
         },
         "mode": "lines",
         "name": "Weekend, Arrivals",
         "r": [
          0.007383966244725738,
          0.005274261603375527,
          0.0010548523206751054,
          0.004219409282700422,
          0.0010548523206751054,
          0,
          0.008438818565400843,
          0.002109704641350211,
          0.007383966244725738,
          0.005274261603375527,
          0.014767932489451477,
          0.016877637130801686,
          0.0189873417721519,
          0.03164556962025317,
          0.039029535864978905,
          0.0189873417721519,
          0.03164556962025317,
          0.02531645569620253,
          0.028481012658227847,
          0.022151898734177215,
          0.016877637130801686,
          0.005274261603375527,
          0.013713080168776372,
          0.002109704641350211,
          0.007383966244725738
         ],
         "showlegend": true,
         "subplot": "polar",
         "theta": [
          7.5,
          22.5,
          37.5,
          52.5,
          67.5,
          82.5,
          97.5,
          112.5,
          127.5,
          142.5,
          157.5,
          172.5,
          187.5,
          202.5,
          217.5,
          232.5,
          247.5,
          262.5,
          277.5,
          292.5,
          307.5,
          322.5,
          337.5,
          352.5,
          7.5
         ],
         "type": "scatterpolar"
        }
       ],
       "layout": {
        "legend": {
         "title": {
          "text": "Day Type, Trip Type"
         },
         "tracegroupgap": 0
        },
        "margin": {
         "t": 60
        },
        "polar": {
         "angularaxis": {
          "direction": "clockwise",
          "rotation": -90,
          "tickmode": "array",
          "ticktext": [
           "12 AM",
           "1 AM",
           "2 AM",
           "3 AM",
           "4 AM",
           "5 AM",
           "6 AM",
           "7 AM",
           "8 AM",
           "9 AM",
           "10 AM",
           "11 AM",
           "12 PM",
           "1 PM",
           "2 PM",
           "3 PM",
           "4 PM",
           "5 PM",
           "6 PM",
           "7 PM",
           "8 PM",
           "9 PM",
           "10 PM",
           "11 PM"
          ],
          "tickvals": [
           0,
           15,
           30,
           45,
           60,
           75,
           90,
           105,
           120,
           135,
           150,
           165,
           180,
           195,
           210,
           225,
           240,
           255,
           270,
           285,
           300,
           315,
           330,
           345
          ]
         },
         "domain": {
          "x": [
           0,
           1
          ],
          "y": [
           0,
           1
          ]
         }
        },
        "template": {
         "data": {
          "bar": [
           {
            "error_x": {
             "color": "#2a3f5f"
            },
            "error_y": {
             "color": "#2a3f5f"
            },
            "marker": {
             "line": {
              "color": "#E5ECF6",
              "width": 0.5
             },
             "pattern": {
              "fillmode": "overlay",
              "size": 10,
              "solidity": 0.2
             }
            },
            "type": "bar"
           }
          ],
          "barpolar": [
           {
            "marker": {
             "line": {
              "color": "#E5ECF6",
              "width": 0.5
             },
             "pattern": {
              "fillmode": "overlay",
              "size": 10,
              "solidity": 0.2
             }
            },
            "type": "barpolar"
           }
          ],
          "carpet": [
           {
            "aaxis": {
             "endlinecolor": "#2a3f5f",
             "gridcolor": "white",
             "linecolor": "white",
             "minorgridcolor": "white",
             "startlinecolor": "#2a3f5f"
            },
            "baxis": {
             "endlinecolor": "#2a3f5f",
             "gridcolor": "white",
             "linecolor": "white",
             "minorgridcolor": "white",
             "startlinecolor": "#2a3f5f"
            },
            "type": "carpet"
           }
          ],
          "choropleth": [
           {
            "colorbar": {
             "outlinewidth": 0,
             "ticks": ""
            },
            "type": "choropleth"
           }
          ],
          "contour": [
           {
            "colorbar": {
             "outlinewidth": 0,
             "ticks": ""
            },
            "colorscale": [
             [
              0,
              "#0d0887"
             ],
             [
              0.1111111111111111,
              "#46039f"
             ],
             [
              0.2222222222222222,
              "#7201a8"
             ],
             [
              0.3333333333333333,
              "#9c179e"
             ],
             [
              0.4444444444444444,
              "#bd3786"
             ],
             [
              0.5555555555555556,
              "#d8576b"
             ],
             [
              0.6666666666666666,
              "#ed7953"
             ],
             [
              0.7777777777777778,
              "#fb9f3a"
             ],
             [
              0.8888888888888888,
              "#fdca26"
             ],
             [
              1,
              "#f0f921"
             ]
            ],
            "type": "contour"
           }
          ],
          "contourcarpet": [
           {
            "colorbar": {
             "outlinewidth": 0,
             "ticks": ""
            },
            "type": "contourcarpet"
           }
          ],
          "heatmap": [
           {
            "colorbar": {
             "outlinewidth": 0,
             "ticks": ""
            },
            "colorscale": [
             [
              0,
              "#0d0887"
             ],
             [
              0.1111111111111111,
              "#46039f"
             ],
             [
              0.2222222222222222,
              "#7201a8"
             ],
             [
              0.3333333333333333,
              "#9c179e"
             ],
             [
              0.4444444444444444,
              "#bd3786"
             ],
             [
              0.5555555555555556,
              "#d8576b"
             ],
             [
              0.6666666666666666,
              "#ed7953"
             ],
             [
              0.7777777777777778,
              "#fb9f3a"
             ],
             [
              0.8888888888888888,
              "#fdca26"
             ],
             [
              1,
              "#f0f921"
             ]
            ],
            "type": "heatmap"
           }
          ],
          "heatmapgl": [
           {
            "colorbar": {
             "outlinewidth": 0,
             "ticks": ""
            },
            "colorscale": [
             [
              0,
              "#0d0887"
             ],
             [
              0.1111111111111111,
              "#46039f"
             ],
             [
              0.2222222222222222,
              "#7201a8"
             ],
             [
              0.3333333333333333,
              "#9c179e"
             ],
             [
              0.4444444444444444,
              "#bd3786"
             ],
             [
              0.5555555555555556,
              "#d8576b"
             ],
             [
              0.6666666666666666,
              "#ed7953"
             ],
             [
              0.7777777777777778,
              "#fb9f3a"
             ],
             [
              0.8888888888888888,
              "#fdca26"
             ],
             [
              1,
              "#f0f921"
             ]
            ],
            "type": "heatmapgl"
           }
          ],
          "histogram": [
           {
            "marker": {
             "pattern": {
              "fillmode": "overlay",
              "size": 10,
              "solidity": 0.2
             }
            },
            "type": "histogram"
           }
          ],
          "histogram2d": [
           {
            "colorbar": {
             "outlinewidth": 0,
             "ticks": ""
            },
            "colorscale": [
             [
              0,
              "#0d0887"
             ],
             [
              0.1111111111111111,
              "#46039f"
             ],
             [
              0.2222222222222222,
              "#7201a8"
             ],
             [
              0.3333333333333333,
              "#9c179e"
             ],
             [
              0.4444444444444444,
              "#bd3786"
             ],
             [
              0.5555555555555556,
              "#d8576b"
             ],
             [
              0.6666666666666666,
              "#ed7953"
             ],
             [
              0.7777777777777778,
              "#fb9f3a"
             ],
             [
              0.8888888888888888,
              "#fdca26"
             ],
             [
              1,
              "#f0f921"
             ]
            ],
            "type": "histogram2d"
           }
          ],
          "histogram2dcontour": [
           {
            "colorbar": {
             "outlinewidth": 0,
             "ticks": ""
            },
            "colorscale": [
             [
              0,
              "#0d0887"
             ],
             [
              0.1111111111111111,
              "#46039f"
             ],
             [
              0.2222222222222222,
              "#7201a8"
             ],
             [
              0.3333333333333333,
              "#9c179e"
             ],
             [
              0.4444444444444444,
              "#bd3786"
             ],
             [
              0.5555555555555556,
              "#d8576b"
             ],
             [
              0.6666666666666666,
              "#ed7953"
             ],
             [
              0.7777777777777778,
              "#fb9f3a"
             ],
             [
              0.8888888888888888,
              "#fdca26"
             ],
             [
              1,
              "#f0f921"
             ]
            ],
            "type": "histogram2dcontour"
           }
          ],
          "mesh3d": [
           {
            "colorbar": {
             "outlinewidth": 0,
             "ticks": ""
            },
            "type": "mesh3d"
           }
          ],
          "parcoords": [
           {
            "line": {
             "colorbar": {
              "outlinewidth": 0,
              "ticks": ""
             }
            },
            "type": "parcoords"
           }
          ],
          "pie": [
           {
            "automargin": true,
            "type": "pie"
           }
          ],
          "scatter": [
           {
            "fillpattern": {
             "fillmode": "overlay",
             "size": 10,
             "solidity": 0.2
            },
            "type": "scatter"
           }
          ],
          "scatter3d": [
           {
            "line": {
             "colorbar": {
              "outlinewidth": 0,
              "ticks": ""
             }
            },
            "marker": {
             "colorbar": {
              "outlinewidth": 0,
              "ticks": ""
             }
            },
            "type": "scatter3d"
           }
          ],
          "scattercarpet": [
           {
            "marker": {
             "colorbar": {
              "outlinewidth": 0,
              "ticks": ""
             }
            },
            "type": "scattercarpet"
           }
          ],
          "scattergeo": [
           {
            "marker": {
             "colorbar": {
              "outlinewidth": 0,
              "ticks": ""
             }
            },
            "type": "scattergeo"
           }
          ],
          "scattergl": [
           {
            "marker": {
             "colorbar": {
              "outlinewidth": 0,
              "ticks": ""
             }
            },
            "type": "scattergl"
           }
          ],
          "scattermapbox": [
           {
            "marker": {
             "colorbar": {
              "outlinewidth": 0,
              "ticks": ""
             }
            },
            "type": "scattermapbox"
           }
          ],
          "scatterpolar": [
           {
            "marker": {
             "colorbar": {
              "outlinewidth": 0,
              "ticks": ""
             }
            },
            "type": "scatterpolar"
           }
          ],
          "scatterpolargl": [
           {
            "marker": {
             "colorbar": {
              "outlinewidth": 0,
              "ticks": ""
             }
            },
            "type": "scatterpolargl"
           }
          ],
          "scatterternary": [
           {
            "marker": {
             "colorbar": {
              "outlinewidth": 0,
              "ticks": ""
             }
            },
            "type": "scatterternary"
           }
          ],
          "surface": [
           {
            "colorbar": {
             "outlinewidth": 0,
             "ticks": ""
            },
            "colorscale": [
             [
              0,
              "#0d0887"
             ],
             [
              0.1111111111111111,
              "#46039f"
             ],
             [
              0.2222222222222222,
              "#7201a8"
             ],
             [
              0.3333333333333333,
              "#9c179e"
             ],
             [
              0.4444444444444444,
              "#bd3786"
             ],
             [
              0.5555555555555556,
              "#d8576b"
             ],
             [
              0.6666666666666666,
              "#ed7953"
             ],
             [
              0.7777777777777778,
              "#fb9f3a"
             ],
             [
              0.8888888888888888,
              "#fdca26"
             ],
             [
              1,
              "#f0f921"
             ]
            ],
            "type": "surface"
           }
          ],
          "table": [
           {
            "cells": {
             "fill": {
              "color": "#EBF0F8"
             },
             "line": {
              "color": "white"
             }
            },
            "header": {
             "fill": {
              "color": "#C8D4E3"
             },
             "line": {
              "color": "white"
             }
            },
            "type": "table"
           }
          ]
         },
         "layout": {
          "annotationdefaults": {
           "arrowcolor": "#2a3f5f",
           "arrowhead": 0,
           "arrowwidth": 1
          },
          "autotypenumbers": "strict",
          "coloraxis": {
           "colorbar": {
            "outlinewidth": 0,
            "ticks": ""
           }
          },
          "colorscale": {
           "diverging": [
            [
             0,
             "#8e0152"
            ],
            [
             0.1,
             "#c51b7d"
            ],
            [
             0.2,
             "#de77ae"
            ],
            [
             0.3,
             "#f1b6da"
            ],
            [
             0.4,
             "#fde0ef"
            ],
            [
             0.5,
             "#f7f7f7"
            ],
            [
             0.6,
             "#e6f5d0"
            ],
            [
             0.7,
             "#b8e186"
            ],
            [
             0.8,
             "#7fbc41"
            ],
            [
             0.9,
             "#4d9221"
            ],
            [
             1,
             "#276419"
            ]
           ],
           "sequential": [
            [
             0,
             "#0d0887"
            ],
            [
             0.1111111111111111,
             "#46039f"
            ],
            [
             0.2222222222222222,
             "#7201a8"
            ],
            [
             0.3333333333333333,
             "#9c179e"
            ],
            [
             0.4444444444444444,
             "#bd3786"
            ],
            [
             0.5555555555555556,
             "#d8576b"
            ],
            [
             0.6666666666666666,
             "#ed7953"
            ],
            [
             0.7777777777777778,
             "#fb9f3a"
            ],
            [
             0.8888888888888888,
             "#fdca26"
            ],
            [
             1,
             "#f0f921"
            ]
           ],
           "sequentialminus": [
            [
             0,
             "#0d0887"
            ],
            [
             0.1111111111111111,
             "#46039f"
            ],
            [
             0.2222222222222222,
             "#7201a8"
            ],
            [
             0.3333333333333333,
             "#9c179e"
            ],
            [
             0.4444444444444444,
             "#bd3786"
            ],
            [
             0.5555555555555556,
             "#d8576b"
            ],
            [
             0.6666666666666666,
             "#ed7953"
            ],
            [
             0.7777777777777778,
             "#fb9f3a"
            ],
            [
             0.8888888888888888,
             "#fdca26"
            ],
            [
             1,
             "#f0f921"
            ]
           ]
          },
          "colorway": [
           "#636efa",
           "#EF553B",
           "#00cc96",
           "#ab63fa",
           "#FFA15A",
           "#19d3f3",
           "#FF6692",
           "#B6E880",
           "#FF97FF",
           "#FECB52"
          ],
          "font": {
           "color": "#2a3f5f"
          },
          "geo": {
           "bgcolor": "white",
           "lakecolor": "white",
           "landcolor": "#E5ECF6",
           "showlakes": true,
           "showland": true,
           "subunitcolor": "white"
          },
          "hoverlabel": {
           "align": "left"
          },
          "hovermode": "closest",
          "mapbox": {
           "style": "light"
          },
          "paper_bgcolor": "white",
          "plot_bgcolor": "#E5ECF6",
          "polar": {
           "angularaxis": {
            "gridcolor": "white",
            "linecolor": "white",
            "ticks": ""
           },
           "bgcolor": "#E5ECF6",
           "radialaxis": {
            "gridcolor": "white",
            "linecolor": "white",
            "ticks": ""
           }
          },
          "scene": {
           "xaxis": {
            "backgroundcolor": "#E5ECF6",
            "gridcolor": "white",
            "gridwidth": 2,
            "linecolor": "white",
            "showbackground": true,
            "ticks": "",
            "zerolinecolor": "white"
           },
           "yaxis": {
            "backgroundcolor": "#E5ECF6",
            "gridcolor": "white",
            "gridwidth": 2,
            "linecolor": "white",
            "showbackground": true,
            "ticks": "",
            "zerolinecolor": "white"
           },
           "zaxis": {
            "backgroundcolor": "#E5ECF6",
            "gridcolor": "white",
            "gridwidth": 2,
            "linecolor": "white",
            "showbackground": true,
            "ticks": "",
            "zerolinecolor": "white"
           }
          },
          "shapedefaults": {
           "line": {
            "color": "#2a3f5f"
           }
          },
          "ternary": {
           "aaxis": {
            "gridcolor": "white",
            "linecolor": "white",
            "ticks": ""
           },
           "baxis": {
            "gridcolor": "white",
            "linecolor": "white",
            "ticks": ""
           },
           "bgcolor": "#E5ECF6",
           "caxis": {
            "gridcolor": "white",
            "linecolor": "white",
            "ticks": ""
           }
          },
          "title": {
           "x": 0.05
          },
          "xaxis": {
           "automargin": true,
           "gridcolor": "white",
           "linecolor": "white",
           "ticks": "",
           "title": {
            "standoff": 15
           },
           "zerolinecolor": "white",
           "zerolinewidth": 2
          },
          "yaxis": {
           "automargin": true,
           "gridcolor": "white",
           "linecolor": "white",
           "ticks": "",
           "title": {
            "standoff": 15
           },
           "zerolinecolor": "white",
           "zerolinewidth": 2
          }
         }
        }
       }
      }
     },
     "metadata": {},
     "output_type": "display_data"
    },
    {
     "name": "stdout",
     "output_type": "stream",
     "text": [
      "No stations within 0.3 km of VFW Parkway I\n",
      "No stations within 0.3 km of Amatucci Playground\n",
      "2 nearest stations to Fenelon Street Playground: Four Corners - 157 Washington St, Four Corners/Geneva T Stop\n"
     ]
    },
    {
     "name": "stderr",
     "output_type": "stream",
     "text": [
      "/Users/henrywu/opt/anaconda3/lib/python3.9/site-packages/plotly/express/_core.py:271: FutureWarning:\n",
      "\n",
      "The frame.append method is deprecated and will be removed from pandas in a future version. Use pandas.concat instead.\n",
      "\n",
      "/Users/henrywu/opt/anaconda3/lib/python3.9/site-packages/plotly/express/_core.py:271: FutureWarning:\n",
      "\n",
      "The frame.append method is deprecated and will be removed from pandas in a future version. Use pandas.concat instead.\n",
      "\n",
      "/Users/henrywu/opt/anaconda3/lib/python3.9/site-packages/plotly/express/_core.py:271: FutureWarning:\n",
      "\n",
      "The frame.append method is deprecated and will be removed from pandas in a future version. Use pandas.concat instead.\n",
      "\n",
      "/Users/henrywu/opt/anaconda3/lib/python3.9/site-packages/plotly/express/_core.py:271: FutureWarning:\n",
      "\n",
      "The frame.append method is deprecated and will be removed from pandas in a future version. Use pandas.concat instead.\n",
      "\n"
     ]
    },
    {
     "data": {
      "application/vnd.plotly.v1+json": {
       "config": {
        "plotlyServerURL": "https://plot.ly"
       },
       "data": [
        {
         "hovertemplate": "Day Type=Weekday<br>Trip Type=Departures<br>Trips=%{r}<br>Time=%{theta}<extra></extra>",
         "legendgroup": "Weekday, Departures",
         "line": {
          "color": "#636efa",
          "dash": "solid"
         },
         "marker": {
          "symbol": "circle"
         },
         "mode": "lines",
         "name": "Weekday, Departures",
         "r": [
          0.029535864978902954,
          0.023206751054852322,
          0.0189873417721519,
          0.010548523206751054,
          0.010548523206751054,
          0.016877637130801686,
          0.08438818565400844,
          0.0759493670886076,
          0.14978902953586498,
          0.09177215189873418,
          0.0970464135021097,
          0.13185654008438819,
          0.10337552742616034,
          0.12869198312236288,
          0.12869198312236288,
          0.12763713080168776,
          0.1308016877637131,
          0.14345991561181434,
          0.11286919831223628,
          0.11075949367088607,
          0.12130801687763713,
          0.06751054852320675,
          0.05379746835443038,
          0.04535864978902954,
          0.029535864978902954
         ],
         "showlegend": true,
         "subplot": "polar",
         "theta": [
          7.5,
          22.5,
          37.5,
          52.5,
          67.5,
          82.5,
          97.5,
          112.5,
          127.5,
          142.5,
          157.5,
          172.5,
          187.5,
          202.5,
          217.5,
          232.5,
          247.5,
          262.5,
          277.5,
          292.5,
          307.5,
          322.5,
          337.5,
          352.5,
          7.5
         ],
         "type": "scatterpolar"
        },
        {
         "hovertemplate": "Day Type=Weekday<br>Trip Type=Arrivals<br>Trips=%{r}<br>Time=%{theta}<extra></extra>",
         "legendgroup": "Weekday, Arrivals",
         "line": {
          "color": "#636efa",
          "dash": "dot"
         },
         "marker": {
          "symbol": "circle"
         },
         "mode": "lines",
         "name": "Weekday, Arrivals",
         "r": [
          0.07172995780590717,
          0.04008438818565401,
          0.04008438818565401,
          0.016877637130801686,
          0.00949367088607595,
          0.007383966244725738,
          0.014767932489451477,
          0.015822784810126583,
          0.035864978902953586,
          0.020042194092827006,
          0.03270042194092827,
          0.052742616033755275,
          0.07383966244725738,
          0.06223628691983123,
          0.060126582278481014,
          0.11392405063291139,
          0.1529535864978903,
          0.18565400843881857,
          0.14345991561181434,
          0.1339662447257384,
          0.1360759493670886,
          0.11181434599156118,
          0.0938818565400844,
          0.0938818565400844,
          0.07172995780590717
         ],
         "showlegend": true,
         "subplot": "polar",
         "theta": [
          7.5,
          22.5,
          37.5,
          52.5,
          67.5,
          82.5,
          97.5,
          112.5,
          127.5,
          142.5,
          157.5,
          172.5,
          187.5,
          202.5,
          217.5,
          232.5,
          247.5,
          262.5,
          277.5,
          292.5,
          307.5,
          322.5,
          337.5,
          352.5,
          7.5
         ],
         "type": "scatterpolar"
        },
        {
         "hovertemplate": "Day Type=Weekend<br>Trip Type=Departures<br>Trips=%{r}<br>Time=%{theta}<extra></extra>",
         "legendgroup": "Weekend, Departures",
         "line": {
          "color": "#EF553B",
          "dash": "solid"
         },
         "marker": {
          "symbol": "circle"
         },
         "mode": "lines",
         "name": "Weekend, Departures",
         "r": [
          0.007383966244725738,
          0.005274261603375527,
          0.010548523206751054,
          0.0010548523206751054,
          0.010548523206751054,
          0.004219409282700422,
          0.011603375527426161,
          0.014767932489451477,
          0.029535864978902954,
          0.029535864978902954,
          0.03059071729957806,
          0.056962025316455694,
          0.049578059071729956,
          0.0580168776371308,
          0.060126582278481014,
          0.06434599156118144,
          0.060126582278481014,
          0.05063291139240506,
          0.05379746835443038,
          0.049578059071729956,
          0.04746835443037975,
          0.035864978902953586,
          0.026371308016877638,
          0.022151898734177215,
          0.007383966244725738
         ],
         "showlegend": true,
         "subplot": "polar",
         "theta": [
          7.5,
          22.5,
          37.5,
          52.5,
          67.5,
          82.5,
          97.5,
          112.5,
          127.5,
          142.5,
          157.5,
          172.5,
          187.5,
          202.5,
          217.5,
          232.5,
          247.5,
          262.5,
          277.5,
          292.5,
          307.5,
          322.5,
          337.5,
          352.5,
          7.5
         ],
         "type": "scatterpolar"
        },
        {
         "hovertemplate": "Day Type=Weekend<br>Trip Type=Arrivals<br>Trips=%{r}<br>Time=%{theta}<extra></extra>",
         "legendgroup": "Weekend, Arrivals",
         "line": {
          "color": "#EF553B",
          "dash": "dot"
         },
         "marker": {
          "symbol": "circle"
         },
         "mode": "lines",
         "name": "Weekend, Arrivals",
         "r": [
          0.03691983122362869,
          0.035864978902953586,
          0.022151898734177215,
          0.00949367088607595,
          0.005274261603375527,
          0.0031645569620253164,
          0.00949367088607595,
          0.006329113924050633,
          0.015822784810126583,
          0.0189873417721519,
          0.016877637130801686,
          0.020042194092827006,
          0.039029535864978905,
          0.027426160337552744,
          0.026371308016877638,
          0.04008438818565401,
          0.06223628691983123,
          0.04219409282700422,
          0.03375527426160337,
          0.07383966244725738,
          0.04430379746835443,
          0.039029535864978905,
          0.028481012658227847,
          0.04113924050632911,
          0.03691983122362869
         ],
         "showlegend": true,
         "subplot": "polar",
         "theta": [
          7.5,
          22.5,
          37.5,
          52.5,
          67.5,
          82.5,
          97.5,
          112.5,
          127.5,
          142.5,
          157.5,
          172.5,
          187.5,
          202.5,
          217.5,
          232.5,
          247.5,
          262.5,
          277.5,
          292.5,
          307.5,
          322.5,
          337.5,
          352.5,
          7.5
         ],
         "type": "scatterpolar"
        }
       ],
       "layout": {
        "legend": {
         "title": {
          "text": "Day Type, Trip Type"
         },
         "tracegroupgap": 0
        },
        "margin": {
         "t": 60
        },
        "polar": {
         "angularaxis": {
          "direction": "clockwise",
          "rotation": -90,
          "tickmode": "array",
          "ticktext": [
           "12 AM",
           "1 AM",
           "2 AM",
           "3 AM",
           "4 AM",
           "5 AM",
           "6 AM",
           "7 AM",
           "8 AM",
           "9 AM",
           "10 AM",
           "11 AM",
           "12 PM",
           "1 PM",
           "2 PM",
           "3 PM",
           "4 PM",
           "5 PM",
           "6 PM",
           "7 PM",
           "8 PM",
           "9 PM",
           "10 PM",
           "11 PM"
          ],
          "tickvals": [
           0,
           15,
           30,
           45,
           60,
           75,
           90,
           105,
           120,
           135,
           150,
           165,
           180,
           195,
           210,
           225,
           240,
           255,
           270,
           285,
           300,
           315,
           330,
           345
          ]
         },
         "domain": {
          "x": [
           0,
           1
          ],
          "y": [
           0,
           1
          ]
         }
        },
        "template": {
         "data": {
          "bar": [
           {
            "error_x": {
             "color": "#2a3f5f"
            },
            "error_y": {
             "color": "#2a3f5f"
            },
            "marker": {
             "line": {
              "color": "#E5ECF6",
              "width": 0.5
             },
             "pattern": {
              "fillmode": "overlay",
              "size": 10,
              "solidity": 0.2
             }
            },
            "type": "bar"
           }
          ],
          "barpolar": [
           {
            "marker": {
             "line": {
              "color": "#E5ECF6",
              "width": 0.5
             },
             "pattern": {
              "fillmode": "overlay",
              "size": 10,
              "solidity": 0.2
             }
            },
            "type": "barpolar"
           }
          ],
          "carpet": [
           {
            "aaxis": {
             "endlinecolor": "#2a3f5f",
             "gridcolor": "white",
             "linecolor": "white",
             "minorgridcolor": "white",
             "startlinecolor": "#2a3f5f"
            },
            "baxis": {
             "endlinecolor": "#2a3f5f",
             "gridcolor": "white",
             "linecolor": "white",
             "minorgridcolor": "white",
             "startlinecolor": "#2a3f5f"
            },
            "type": "carpet"
           }
          ],
          "choropleth": [
           {
            "colorbar": {
             "outlinewidth": 0,
             "ticks": ""
            },
            "type": "choropleth"
           }
          ],
          "contour": [
           {
            "colorbar": {
             "outlinewidth": 0,
             "ticks": ""
            },
            "colorscale": [
             [
              0,
              "#0d0887"
             ],
             [
              0.1111111111111111,
              "#46039f"
             ],
             [
              0.2222222222222222,
              "#7201a8"
             ],
             [
              0.3333333333333333,
              "#9c179e"
             ],
             [
              0.4444444444444444,
              "#bd3786"
             ],
             [
              0.5555555555555556,
              "#d8576b"
             ],
             [
              0.6666666666666666,
              "#ed7953"
             ],
             [
              0.7777777777777778,
              "#fb9f3a"
             ],
             [
              0.8888888888888888,
              "#fdca26"
             ],
             [
              1,
              "#f0f921"
             ]
            ],
            "type": "contour"
           }
          ],
          "contourcarpet": [
           {
            "colorbar": {
             "outlinewidth": 0,
             "ticks": ""
            },
            "type": "contourcarpet"
           }
          ],
          "heatmap": [
           {
            "colorbar": {
             "outlinewidth": 0,
             "ticks": ""
            },
            "colorscale": [
             [
              0,
              "#0d0887"
             ],
             [
              0.1111111111111111,
              "#46039f"
             ],
             [
              0.2222222222222222,
              "#7201a8"
             ],
             [
              0.3333333333333333,
              "#9c179e"
             ],
             [
              0.4444444444444444,
              "#bd3786"
             ],
             [
              0.5555555555555556,
              "#d8576b"
             ],
             [
              0.6666666666666666,
              "#ed7953"
             ],
             [
              0.7777777777777778,
              "#fb9f3a"
             ],
             [
              0.8888888888888888,
              "#fdca26"
             ],
             [
              1,
              "#f0f921"
             ]
            ],
            "type": "heatmap"
           }
          ],
          "heatmapgl": [
           {
            "colorbar": {
             "outlinewidth": 0,
             "ticks": ""
            },
            "colorscale": [
             [
              0,
              "#0d0887"
             ],
             [
              0.1111111111111111,
              "#46039f"
             ],
             [
              0.2222222222222222,
              "#7201a8"
             ],
             [
              0.3333333333333333,
              "#9c179e"
             ],
             [
              0.4444444444444444,
              "#bd3786"
             ],
             [
              0.5555555555555556,
              "#d8576b"
             ],
             [
              0.6666666666666666,
              "#ed7953"
             ],
             [
              0.7777777777777778,
              "#fb9f3a"
             ],
             [
              0.8888888888888888,
              "#fdca26"
             ],
             [
              1,
              "#f0f921"
             ]
            ],
            "type": "heatmapgl"
           }
          ],
          "histogram": [
           {
            "marker": {
             "pattern": {
              "fillmode": "overlay",
              "size": 10,
              "solidity": 0.2
             }
            },
            "type": "histogram"
           }
          ],
          "histogram2d": [
           {
            "colorbar": {
             "outlinewidth": 0,
             "ticks": ""
            },
            "colorscale": [
             [
              0,
              "#0d0887"
             ],
             [
              0.1111111111111111,
              "#46039f"
             ],
             [
              0.2222222222222222,
              "#7201a8"
             ],
             [
              0.3333333333333333,
              "#9c179e"
             ],
             [
              0.4444444444444444,
              "#bd3786"
             ],
             [
              0.5555555555555556,
              "#d8576b"
             ],
             [
              0.6666666666666666,
              "#ed7953"
             ],
             [
              0.7777777777777778,
              "#fb9f3a"
             ],
             [
              0.8888888888888888,
              "#fdca26"
             ],
             [
              1,
              "#f0f921"
             ]
            ],
            "type": "histogram2d"
           }
          ],
          "histogram2dcontour": [
           {
            "colorbar": {
             "outlinewidth": 0,
             "ticks": ""
            },
            "colorscale": [
             [
              0,
              "#0d0887"
             ],
             [
              0.1111111111111111,
              "#46039f"
             ],
             [
              0.2222222222222222,
              "#7201a8"
             ],
             [
              0.3333333333333333,
              "#9c179e"
             ],
             [
              0.4444444444444444,
              "#bd3786"
             ],
             [
              0.5555555555555556,
              "#d8576b"
             ],
             [
              0.6666666666666666,
              "#ed7953"
             ],
             [
              0.7777777777777778,
              "#fb9f3a"
             ],
             [
              0.8888888888888888,
              "#fdca26"
             ],
             [
              1,
              "#f0f921"
             ]
            ],
            "type": "histogram2dcontour"
           }
          ],
          "mesh3d": [
           {
            "colorbar": {
             "outlinewidth": 0,
             "ticks": ""
            },
            "type": "mesh3d"
           }
          ],
          "parcoords": [
           {
            "line": {
             "colorbar": {
              "outlinewidth": 0,
              "ticks": ""
             }
            },
            "type": "parcoords"
           }
          ],
          "pie": [
           {
            "automargin": true,
            "type": "pie"
           }
          ],
          "scatter": [
           {
            "fillpattern": {
             "fillmode": "overlay",
             "size": 10,
             "solidity": 0.2
            },
            "type": "scatter"
           }
          ],
          "scatter3d": [
           {
            "line": {
             "colorbar": {
              "outlinewidth": 0,
              "ticks": ""
             }
            },
            "marker": {
             "colorbar": {
              "outlinewidth": 0,
              "ticks": ""
             }
            },
            "type": "scatter3d"
           }
          ],
          "scattercarpet": [
           {
            "marker": {
             "colorbar": {
              "outlinewidth": 0,
              "ticks": ""
             }
            },
            "type": "scattercarpet"
           }
          ],
          "scattergeo": [
           {
            "marker": {
             "colorbar": {
              "outlinewidth": 0,
              "ticks": ""
             }
            },
            "type": "scattergeo"
           }
          ],
          "scattergl": [
           {
            "marker": {
             "colorbar": {
              "outlinewidth": 0,
              "ticks": ""
             }
            },
            "type": "scattergl"
           }
          ],
          "scattermapbox": [
           {
            "marker": {
             "colorbar": {
              "outlinewidth": 0,
              "ticks": ""
             }
            },
            "type": "scattermapbox"
           }
          ],
          "scatterpolar": [
           {
            "marker": {
             "colorbar": {
              "outlinewidth": 0,
              "ticks": ""
             }
            },
            "type": "scatterpolar"
           }
          ],
          "scatterpolargl": [
           {
            "marker": {
             "colorbar": {
              "outlinewidth": 0,
              "ticks": ""
             }
            },
            "type": "scatterpolargl"
           }
          ],
          "scatterternary": [
           {
            "marker": {
             "colorbar": {
              "outlinewidth": 0,
              "ticks": ""
             }
            },
            "type": "scatterternary"
           }
          ],
          "surface": [
           {
            "colorbar": {
             "outlinewidth": 0,
             "ticks": ""
            },
            "colorscale": [
             [
              0,
              "#0d0887"
             ],
             [
              0.1111111111111111,
              "#46039f"
             ],
             [
              0.2222222222222222,
              "#7201a8"
             ],
             [
              0.3333333333333333,
              "#9c179e"
             ],
             [
              0.4444444444444444,
              "#bd3786"
             ],
             [
              0.5555555555555556,
              "#d8576b"
             ],
             [
              0.6666666666666666,
              "#ed7953"
             ],
             [
              0.7777777777777778,
              "#fb9f3a"
             ],
             [
              0.8888888888888888,
              "#fdca26"
             ],
             [
              1,
              "#f0f921"
             ]
            ],
            "type": "surface"
           }
          ],
          "table": [
           {
            "cells": {
             "fill": {
              "color": "#EBF0F8"
             },
             "line": {
              "color": "white"
             }
            },
            "header": {
             "fill": {
              "color": "#C8D4E3"
             },
             "line": {
              "color": "white"
             }
            },
            "type": "table"
           }
          ]
         },
         "layout": {
          "annotationdefaults": {
           "arrowcolor": "#2a3f5f",
           "arrowhead": 0,
           "arrowwidth": 1
          },
          "autotypenumbers": "strict",
          "coloraxis": {
           "colorbar": {
            "outlinewidth": 0,
            "ticks": ""
           }
          },
          "colorscale": {
           "diverging": [
            [
             0,
             "#8e0152"
            ],
            [
             0.1,
             "#c51b7d"
            ],
            [
             0.2,
             "#de77ae"
            ],
            [
             0.3,
             "#f1b6da"
            ],
            [
             0.4,
             "#fde0ef"
            ],
            [
             0.5,
             "#f7f7f7"
            ],
            [
             0.6,
             "#e6f5d0"
            ],
            [
             0.7,
             "#b8e186"
            ],
            [
             0.8,
             "#7fbc41"
            ],
            [
             0.9,
             "#4d9221"
            ],
            [
             1,
             "#276419"
            ]
           ],
           "sequential": [
            [
             0,
             "#0d0887"
            ],
            [
             0.1111111111111111,
             "#46039f"
            ],
            [
             0.2222222222222222,
             "#7201a8"
            ],
            [
             0.3333333333333333,
             "#9c179e"
            ],
            [
             0.4444444444444444,
             "#bd3786"
            ],
            [
             0.5555555555555556,
             "#d8576b"
            ],
            [
             0.6666666666666666,
             "#ed7953"
            ],
            [
             0.7777777777777778,
             "#fb9f3a"
            ],
            [
             0.8888888888888888,
             "#fdca26"
            ],
            [
             1,
             "#f0f921"
            ]
           ],
           "sequentialminus": [
            [
             0,
             "#0d0887"
            ],
            [
             0.1111111111111111,
             "#46039f"
            ],
            [
             0.2222222222222222,
             "#7201a8"
            ],
            [
             0.3333333333333333,
             "#9c179e"
            ],
            [
             0.4444444444444444,
             "#bd3786"
            ],
            [
             0.5555555555555556,
             "#d8576b"
            ],
            [
             0.6666666666666666,
             "#ed7953"
            ],
            [
             0.7777777777777778,
             "#fb9f3a"
            ],
            [
             0.8888888888888888,
             "#fdca26"
            ],
            [
             1,
             "#f0f921"
            ]
           ]
          },
          "colorway": [
           "#636efa",
           "#EF553B",
           "#00cc96",
           "#ab63fa",
           "#FFA15A",
           "#19d3f3",
           "#FF6692",
           "#B6E880",
           "#FF97FF",
           "#FECB52"
          ],
          "font": {
           "color": "#2a3f5f"
          },
          "geo": {
           "bgcolor": "white",
           "lakecolor": "white",
           "landcolor": "#E5ECF6",
           "showlakes": true,
           "showland": true,
           "subunitcolor": "white"
          },
          "hoverlabel": {
           "align": "left"
          },
          "hovermode": "closest",
          "mapbox": {
           "style": "light"
          },
          "paper_bgcolor": "white",
          "plot_bgcolor": "#E5ECF6",
          "polar": {
           "angularaxis": {
            "gridcolor": "white",
            "linecolor": "white",
            "ticks": ""
           },
           "bgcolor": "#E5ECF6",
           "radialaxis": {
            "gridcolor": "white",
            "linecolor": "white",
            "ticks": ""
           }
          },
          "scene": {
           "xaxis": {
            "backgroundcolor": "#E5ECF6",
            "gridcolor": "white",
            "gridwidth": 2,
            "linecolor": "white",
            "showbackground": true,
            "ticks": "",
            "zerolinecolor": "white"
           },
           "yaxis": {
            "backgroundcolor": "#E5ECF6",
            "gridcolor": "white",
            "gridwidth": 2,
            "linecolor": "white",
            "showbackground": true,
            "ticks": "",
            "zerolinecolor": "white"
           },
           "zaxis": {
            "backgroundcolor": "#E5ECF6",
            "gridcolor": "white",
            "gridwidth": 2,
            "linecolor": "white",
            "showbackground": true,
            "ticks": "",
            "zerolinecolor": "white"
           }
          },
          "shapedefaults": {
           "line": {
            "color": "#2a3f5f"
           }
          },
          "ternary": {
           "aaxis": {
            "gridcolor": "white",
            "linecolor": "white",
            "ticks": ""
           },
           "baxis": {
            "gridcolor": "white",
            "linecolor": "white",
            "ticks": ""
           },
           "bgcolor": "#E5ECF6",
           "caxis": {
            "gridcolor": "white",
            "linecolor": "white",
            "ticks": ""
           }
          },
          "title": {
           "x": 0.05
          },
          "xaxis": {
           "automargin": true,
           "gridcolor": "white",
           "linecolor": "white",
           "ticks": "",
           "title": {
            "standoff": 15
           },
           "zerolinecolor": "white",
           "zerolinewidth": 2
          },
          "yaxis": {
           "automargin": true,
           "gridcolor": "white",
           "linecolor": "white",
           "ticks": "",
           "title": {
            "standoff": 15
           },
           "zerolinecolor": "white",
           "zerolinewidth": 2
          }
         }
        }
       }
      }
     },
     "metadata": {},
     "output_type": "display_data"
    },
    {
     "name": "stdout",
     "output_type": "stream",
     "text": [
      "1 nearest station to Beecher Street Play Area: Stony Brook T Stop\n"
     ]
    },
    {
     "name": "stderr",
     "output_type": "stream",
     "text": [
      "/Users/henrywu/opt/anaconda3/lib/python3.9/site-packages/plotly/express/_core.py:271: FutureWarning:\n",
      "\n",
      "The frame.append method is deprecated and will be removed from pandas in a future version. Use pandas.concat instead.\n",
      "\n",
      "/Users/henrywu/opt/anaconda3/lib/python3.9/site-packages/plotly/express/_core.py:271: FutureWarning:\n",
      "\n",
      "The frame.append method is deprecated and will be removed from pandas in a future version. Use pandas.concat instead.\n",
      "\n",
      "/Users/henrywu/opt/anaconda3/lib/python3.9/site-packages/plotly/express/_core.py:271: FutureWarning:\n",
      "\n",
      "The frame.append method is deprecated and will be removed from pandas in a future version. Use pandas.concat instead.\n",
      "\n",
      "/Users/henrywu/opt/anaconda3/lib/python3.9/site-packages/plotly/express/_core.py:271: FutureWarning:\n",
      "\n",
      "The frame.append method is deprecated and will be removed from pandas in a future version. Use pandas.concat instead.\n",
      "\n"
     ]
    },
    {
     "data": {
      "application/vnd.plotly.v1+json": {
       "config": {
        "plotlyServerURL": "https://plot.ly"
       },
       "data": [
        {
         "hovertemplate": "Day Type=Weekday<br>Trip Type=Departures<br>Trips=%{r}<br>Time=%{theta}<extra></extra>",
         "legendgroup": "Weekday, Departures",
         "line": {
          "color": "#636efa",
          "dash": "solid"
         },
         "marker": {
          "symbol": "circle"
         },
         "mode": "lines",
         "name": "Weekday, Departures",
         "r": [
          0.34282700421940926,
          0.21835443037974683,
          0.12447257383966245,
          0.10021097046413502,
          0.1160337552742616,
          0.2109704641350211,
          0.45147679324894513,
          1.6835443037974684,
          2.367088607594937,
          1.1898734177215189,
          0.9388185654008439,
          1.209915611814346,
          1.6487341772151898,
          1.4662447257383966,
          1.159282700421941,
          1.0696202531645569,
          1.3776371308016877,
          1.7531645569620253,
          1.6445147679324894,
          1.2573839662447257,
          0.9715189873417721,
          1.1054852320675106,
          0.9883966244725738,
          0.6181434599156118,
          0.34282700421940926
         ],
         "showlegend": true,
         "subplot": "polar",
         "theta": [
          7.5,
          22.5,
          37.5,
          52.5,
          67.5,
          82.5,
          97.5,
          112.5,
          127.5,
          142.5,
          157.5,
          172.5,
          187.5,
          202.5,
          217.5,
          232.5,
          247.5,
          262.5,
          277.5,
          292.5,
          307.5,
          322.5,
          337.5,
          352.5,
          7.5
         ],
         "type": "scatterpolar"
        },
        {
         "hovertemplate": "Day Type=Weekday<br>Trip Type=Arrivals<br>Trips=%{r}<br>Time=%{theta}<extra></extra>",
         "legendgroup": "Weekday, Arrivals",
         "line": {
          "color": "#636efa",
          "dash": "dot"
         },
         "marker": {
          "symbol": "circle"
         },
         "mode": "lines",
         "name": "Weekday, Arrivals",
         "r": [
          0.6561181434599156,
          0.43354430379746833,
          0.30168776371308015,
          0.1877637130801688,
          0.08860759493670886,
          0.1149789029535865,
          0.15611814345991562,
          0.4029535864978903,
          0.5611814345991561,
          0.39345991561181437,
          0.4177215189873418,
          0.5622362869198312,
          0.9451476793248945,
          0.8850210970464135,
          0.9567510548523207,
          1.3196202531645569,
          2.2046413502109705,
          2.99789029535865,
          2.70042194092827,
          1.910337552742616,
          1.6740506329113924,
          1.8860759493670887,
          1.620253164556962,
          1.0738396624472575,
          0.6561181434599156
         ],
         "showlegend": true,
         "subplot": "polar",
         "theta": [
          7.5,
          22.5,
          37.5,
          52.5,
          67.5,
          82.5,
          97.5,
          112.5,
          127.5,
          142.5,
          157.5,
          172.5,
          187.5,
          202.5,
          217.5,
          232.5,
          247.5,
          262.5,
          277.5,
          292.5,
          307.5,
          322.5,
          337.5,
          352.5,
          7.5
         ],
         "type": "scatterpolar"
        },
        {
         "hovertemplate": "Day Type=Weekend<br>Trip Type=Departures<br>Trips=%{r}<br>Time=%{theta}<extra></extra>",
         "legendgroup": "Weekend, Departures",
         "line": {
          "color": "#EF553B",
          "dash": "solid"
         },
         "marker": {
          "symbol": "circle"
         },
         "mode": "lines",
         "name": "Weekend, Departures",
         "r": [
          0.18143459915611815,
          0.11181434599156118,
          0.08544303797468354,
          0.06223628691983123,
          0.06329113924050633,
          0.0981012658227848,
          0.06434599156118144,
          0.12236286919831224,
          0.26054852320675104,
          0.3871308016877637,
          0.509493670886076,
          0.6286919831223629,
          0.7415611814345991,
          0.8449367088607594,
          0.8312236286919831,
          0.7827004219409283,
          0.819620253164557,
          0.7710970464135021,
          0.6919831223628692,
          0.6033755274261603,
          0.4440928270042194,
          0.39345991561181437,
          0.3069620253164557,
          0.2552742616033755,
          0.18143459915611815
         ],
         "showlegend": true,
         "subplot": "polar",
         "theta": [
          7.5,
          22.5,
          37.5,
          52.5,
          67.5,
          82.5,
          97.5,
          112.5,
          127.5,
          142.5,
          157.5,
          172.5,
          187.5,
          202.5,
          217.5,
          232.5,
          247.5,
          262.5,
          277.5,
          292.5,
          307.5,
          322.5,
          337.5,
          352.5,
          7.5
         ],
         "type": "scatterpolar"
        },
        {
         "hovertemplate": "Day Type=Weekend<br>Trip Type=Arrivals<br>Trips=%{r}<br>Time=%{theta}<extra></extra>",
         "legendgroup": "Weekend, Arrivals",
         "line": {
          "color": "#EF553B",
          "dash": "dot"
         },
         "marker": {
          "symbol": "circle"
         },
         "mode": "lines",
         "name": "Weekend, Arrivals",
         "r": [
          0.30063291139240506,
          0.2679324894514768,
          0.17721518987341772,
          0.13291139240506328,
          0.10126582278481013,
          0.11919831223628692,
          0.12552742616033755,
          0.10864978902953587,
          0.13291139240506328,
          0.1719409282700422,
          0.2563291139240506,
          0.43354430379746833,
          0.5580168776371308,
          0.6107594936708861,
          0.6624472573839663,
          0.7774261603375527,
          0.8027426160337553,
          0.790084388185654,
          0.8027426160337553,
          0.7426160337552743,
          0.540084388185654,
          0.47468354430379744,
          0.39345991561181437,
          0.35548523206751054,
          0.30063291139240506
         ],
         "showlegend": true,
         "subplot": "polar",
         "theta": [
          7.5,
          22.5,
          37.5,
          52.5,
          67.5,
          82.5,
          97.5,
          112.5,
          127.5,
          142.5,
          157.5,
          172.5,
          187.5,
          202.5,
          217.5,
          232.5,
          247.5,
          262.5,
          277.5,
          292.5,
          307.5,
          322.5,
          337.5,
          352.5,
          7.5
         ],
         "type": "scatterpolar"
        }
       ],
       "layout": {
        "legend": {
         "title": {
          "text": "Day Type, Trip Type"
         },
         "tracegroupgap": 0
        },
        "margin": {
         "t": 60
        },
        "polar": {
         "angularaxis": {
          "direction": "clockwise",
          "rotation": -90,
          "tickmode": "array",
          "ticktext": [
           "12 AM",
           "1 AM",
           "2 AM",
           "3 AM",
           "4 AM",
           "5 AM",
           "6 AM",
           "7 AM",
           "8 AM",
           "9 AM",
           "10 AM",
           "11 AM",
           "12 PM",
           "1 PM",
           "2 PM",
           "3 PM",
           "4 PM",
           "5 PM",
           "6 PM",
           "7 PM",
           "8 PM",
           "9 PM",
           "10 PM",
           "11 PM"
          ],
          "tickvals": [
           0,
           15,
           30,
           45,
           60,
           75,
           90,
           105,
           120,
           135,
           150,
           165,
           180,
           195,
           210,
           225,
           240,
           255,
           270,
           285,
           300,
           315,
           330,
           345
          ]
         },
         "domain": {
          "x": [
           0,
           1
          ],
          "y": [
           0,
           1
          ]
         }
        },
        "template": {
         "data": {
          "bar": [
           {
            "error_x": {
             "color": "#2a3f5f"
            },
            "error_y": {
             "color": "#2a3f5f"
            },
            "marker": {
             "line": {
              "color": "#E5ECF6",
              "width": 0.5
             },
             "pattern": {
              "fillmode": "overlay",
              "size": 10,
              "solidity": 0.2
             }
            },
            "type": "bar"
           }
          ],
          "barpolar": [
           {
            "marker": {
             "line": {
              "color": "#E5ECF6",
              "width": 0.5
             },
             "pattern": {
              "fillmode": "overlay",
              "size": 10,
              "solidity": 0.2
             }
            },
            "type": "barpolar"
           }
          ],
          "carpet": [
           {
            "aaxis": {
             "endlinecolor": "#2a3f5f",
             "gridcolor": "white",
             "linecolor": "white",
             "minorgridcolor": "white",
             "startlinecolor": "#2a3f5f"
            },
            "baxis": {
             "endlinecolor": "#2a3f5f",
             "gridcolor": "white",
             "linecolor": "white",
             "minorgridcolor": "white",
             "startlinecolor": "#2a3f5f"
            },
            "type": "carpet"
           }
          ],
          "choropleth": [
           {
            "colorbar": {
             "outlinewidth": 0,
             "ticks": ""
            },
            "type": "choropleth"
           }
          ],
          "contour": [
           {
            "colorbar": {
             "outlinewidth": 0,
             "ticks": ""
            },
            "colorscale": [
             [
              0,
              "#0d0887"
             ],
             [
              0.1111111111111111,
              "#46039f"
             ],
             [
              0.2222222222222222,
              "#7201a8"
             ],
             [
              0.3333333333333333,
              "#9c179e"
             ],
             [
              0.4444444444444444,
              "#bd3786"
             ],
             [
              0.5555555555555556,
              "#d8576b"
             ],
             [
              0.6666666666666666,
              "#ed7953"
             ],
             [
              0.7777777777777778,
              "#fb9f3a"
             ],
             [
              0.8888888888888888,
              "#fdca26"
             ],
             [
              1,
              "#f0f921"
             ]
            ],
            "type": "contour"
           }
          ],
          "contourcarpet": [
           {
            "colorbar": {
             "outlinewidth": 0,
             "ticks": ""
            },
            "type": "contourcarpet"
           }
          ],
          "heatmap": [
           {
            "colorbar": {
             "outlinewidth": 0,
             "ticks": ""
            },
            "colorscale": [
             [
              0,
              "#0d0887"
             ],
             [
              0.1111111111111111,
              "#46039f"
             ],
             [
              0.2222222222222222,
              "#7201a8"
             ],
             [
              0.3333333333333333,
              "#9c179e"
             ],
             [
              0.4444444444444444,
              "#bd3786"
             ],
             [
              0.5555555555555556,
              "#d8576b"
             ],
             [
              0.6666666666666666,
              "#ed7953"
             ],
             [
              0.7777777777777778,
              "#fb9f3a"
             ],
             [
              0.8888888888888888,
              "#fdca26"
             ],
             [
              1,
              "#f0f921"
             ]
            ],
            "type": "heatmap"
           }
          ],
          "heatmapgl": [
           {
            "colorbar": {
             "outlinewidth": 0,
             "ticks": ""
            },
            "colorscale": [
             [
              0,
              "#0d0887"
             ],
             [
              0.1111111111111111,
              "#46039f"
             ],
             [
              0.2222222222222222,
              "#7201a8"
             ],
             [
              0.3333333333333333,
              "#9c179e"
             ],
             [
              0.4444444444444444,
              "#bd3786"
             ],
             [
              0.5555555555555556,
              "#d8576b"
             ],
             [
              0.6666666666666666,
              "#ed7953"
             ],
             [
              0.7777777777777778,
              "#fb9f3a"
             ],
             [
              0.8888888888888888,
              "#fdca26"
             ],
             [
              1,
              "#f0f921"
             ]
            ],
            "type": "heatmapgl"
           }
          ],
          "histogram": [
           {
            "marker": {
             "pattern": {
              "fillmode": "overlay",
              "size": 10,
              "solidity": 0.2
             }
            },
            "type": "histogram"
           }
          ],
          "histogram2d": [
           {
            "colorbar": {
             "outlinewidth": 0,
             "ticks": ""
            },
            "colorscale": [
             [
              0,
              "#0d0887"
             ],
             [
              0.1111111111111111,
              "#46039f"
             ],
             [
              0.2222222222222222,
              "#7201a8"
             ],
             [
              0.3333333333333333,
              "#9c179e"
             ],
             [
              0.4444444444444444,
              "#bd3786"
             ],
             [
              0.5555555555555556,
              "#d8576b"
             ],
             [
              0.6666666666666666,
              "#ed7953"
             ],
             [
              0.7777777777777778,
              "#fb9f3a"
             ],
             [
              0.8888888888888888,
              "#fdca26"
             ],
             [
              1,
              "#f0f921"
             ]
            ],
            "type": "histogram2d"
           }
          ],
          "histogram2dcontour": [
           {
            "colorbar": {
             "outlinewidth": 0,
             "ticks": ""
            },
            "colorscale": [
             [
              0,
              "#0d0887"
             ],
             [
              0.1111111111111111,
              "#46039f"
             ],
             [
              0.2222222222222222,
              "#7201a8"
             ],
             [
              0.3333333333333333,
              "#9c179e"
             ],
             [
              0.4444444444444444,
              "#bd3786"
             ],
             [
              0.5555555555555556,
              "#d8576b"
             ],
             [
              0.6666666666666666,
              "#ed7953"
             ],
             [
              0.7777777777777778,
              "#fb9f3a"
             ],
             [
              0.8888888888888888,
              "#fdca26"
             ],
             [
              1,
              "#f0f921"
             ]
            ],
            "type": "histogram2dcontour"
           }
          ],
          "mesh3d": [
           {
            "colorbar": {
             "outlinewidth": 0,
             "ticks": ""
            },
            "type": "mesh3d"
           }
          ],
          "parcoords": [
           {
            "line": {
             "colorbar": {
              "outlinewidth": 0,
              "ticks": ""
             }
            },
            "type": "parcoords"
           }
          ],
          "pie": [
           {
            "automargin": true,
            "type": "pie"
           }
          ],
          "scatter": [
           {
            "fillpattern": {
             "fillmode": "overlay",
             "size": 10,
             "solidity": 0.2
            },
            "type": "scatter"
           }
          ],
          "scatter3d": [
           {
            "line": {
             "colorbar": {
              "outlinewidth": 0,
              "ticks": ""
             }
            },
            "marker": {
             "colorbar": {
              "outlinewidth": 0,
              "ticks": ""
             }
            },
            "type": "scatter3d"
           }
          ],
          "scattercarpet": [
           {
            "marker": {
             "colorbar": {
              "outlinewidth": 0,
              "ticks": ""
             }
            },
            "type": "scattercarpet"
           }
          ],
          "scattergeo": [
           {
            "marker": {
             "colorbar": {
              "outlinewidth": 0,
              "ticks": ""
             }
            },
            "type": "scattergeo"
           }
          ],
          "scattergl": [
           {
            "marker": {
             "colorbar": {
              "outlinewidth": 0,
              "ticks": ""
             }
            },
            "type": "scattergl"
           }
          ],
          "scattermapbox": [
           {
            "marker": {
             "colorbar": {
              "outlinewidth": 0,
              "ticks": ""
             }
            },
            "type": "scattermapbox"
           }
          ],
          "scatterpolar": [
           {
            "marker": {
             "colorbar": {
              "outlinewidth": 0,
              "ticks": ""
             }
            },
            "type": "scatterpolar"
           }
          ],
          "scatterpolargl": [
           {
            "marker": {
             "colorbar": {
              "outlinewidth": 0,
              "ticks": ""
             }
            },
            "type": "scatterpolargl"
           }
          ],
          "scatterternary": [
           {
            "marker": {
             "colorbar": {
              "outlinewidth": 0,
              "ticks": ""
             }
            },
            "type": "scatterternary"
           }
          ],
          "surface": [
           {
            "colorbar": {
             "outlinewidth": 0,
             "ticks": ""
            },
            "colorscale": [
             [
              0,
              "#0d0887"
             ],
             [
              0.1111111111111111,
              "#46039f"
             ],
             [
              0.2222222222222222,
              "#7201a8"
             ],
             [
              0.3333333333333333,
              "#9c179e"
             ],
             [
              0.4444444444444444,
              "#bd3786"
             ],
             [
              0.5555555555555556,
              "#d8576b"
             ],
             [
              0.6666666666666666,
              "#ed7953"
             ],
             [
              0.7777777777777778,
              "#fb9f3a"
             ],
             [
              0.8888888888888888,
              "#fdca26"
             ],
             [
              1,
              "#f0f921"
             ]
            ],
            "type": "surface"
           }
          ],
          "table": [
           {
            "cells": {
             "fill": {
              "color": "#EBF0F8"
             },
             "line": {
              "color": "white"
             }
            },
            "header": {
             "fill": {
              "color": "#C8D4E3"
             },
             "line": {
              "color": "white"
             }
            },
            "type": "table"
           }
          ]
         },
         "layout": {
          "annotationdefaults": {
           "arrowcolor": "#2a3f5f",
           "arrowhead": 0,
           "arrowwidth": 1
          },
          "autotypenumbers": "strict",
          "coloraxis": {
           "colorbar": {
            "outlinewidth": 0,
            "ticks": ""
           }
          },
          "colorscale": {
           "diverging": [
            [
             0,
             "#8e0152"
            ],
            [
             0.1,
             "#c51b7d"
            ],
            [
             0.2,
             "#de77ae"
            ],
            [
             0.3,
             "#f1b6da"
            ],
            [
             0.4,
             "#fde0ef"
            ],
            [
             0.5,
             "#f7f7f7"
            ],
            [
             0.6,
             "#e6f5d0"
            ],
            [
             0.7,
             "#b8e186"
            ],
            [
             0.8,
             "#7fbc41"
            ],
            [
             0.9,
             "#4d9221"
            ],
            [
             1,
             "#276419"
            ]
           ],
           "sequential": [
            [
             0,
             "#0d0887"
            ],
            [
             0.1111111111111111,
             "#46039f"
            ],
            [
             0.2222222222222222,
             "#7201a8"
            ],
            [
             0.3333333333333333,
             "#9c179e"
            ],
            [
             0.4444444444444444,
             "#bd3786"
            ],
            [
             0.5555555555555556,
             "#d8576b"
            ],
            [
             0.6666666666666666,
             "#ed7953"
            ],
            [
             0.7777777777777778,
             "#fb9f3a"
            ],
            [
             0.8888888888888888,
             "#fdca26"
            ],
            [
             1,
             "#f0f921"
            ]
           ],
           "sequentialminus": [
            [
             0,
             "#0d0887"
            ],
            [
             0.1111111111111111,
             "#46039f"
            ],
            [
             0.2222222222222222,
             "#7201a8"
            ],
            [
             0.3333333333333333,
             "#9c179e"
            ],
            [
             0.4444444444444444,
             "#bd3786"
            ],
            [
             0.5555555555555556,
             "#d8576b"
            ],
            [
             0.6666666666666666,
             "#ed7953"
            ],
            [
             0.7777777777777778,
             "#fb9f3a"
            ],
            [
             0.8888888888888888,
             "#fdca26"
            ],
            [
             1,
             "#f0f921"
            ]
           ]
          },
          "colorway": [
           "#636efa",
           "#EF553B",
           "#00cc96",
           "#ab63fa",
           "#FFA15A",
           "#19d3f3",
           "#FF6692",
           "#B6E880",
           "#FF97FF",
           "#FECB52"
          ],
          "font": {
           "color": "#2a3f5f"
          },
          "geo": {
           "bgcolor": "white",
           "lakecolor": "white",
           "landcolor": "#E5ECF6",
           "showlakes": true,
           "showland": true,
           "subunitcolor": "white"
          },
          "hoverlabel": {
           "align": "left"
          },
          "hovermode": "closest",
          "mapbox": {
           "style": "light"
          },
          "paper_bgcolor": "white",
          "plot_bgcolor": "#E5ECF6",
          "polar": {
           "angularaxis": {
            "gridcolor": "white",
            "linecolor": "white",
            "ticks": ""
           },
           "bgcolor": "#E5ECF6",
           "radialaxis": {
            "gridcolor": "white",
            "linecolor": "white",
            "ticks": ""
           }
          },
          "scene": {
           "xaxis": {
            "backgroundcolor": "#E5ECF6",
            "gridcolor": "white",
            "gridwidth": 2,
            "linecolor": "white",
            "showbackground": true,
            "ticks": "",
            "zerolinecolor": "white"
           },
           "yaxis": {
            "backgroundcolor": "#E5ECF6",
            "gridcolor": "white",
            "gridwidth": 2,
            "linecolor": "white",
            "showbackground": true,
            "ticks": "",
            "zerolinecolor": "white"
           },
           "zaxis": {
            "backgroundcolor": "#E5ECF6",
            "gridcolor": "white",
            "gridwidth": 2,
            "linecolor": "white",
            "showbackground": true,
            "ticks": "",
            "zerolinecolor": "white"
           }
          },
          "shapedefaults": {
           "line": {
            "color": "#2a3f5f"
           }
          },
          "ternary": {
           "aaxis": {
            "gridcolor": "white",
            "linecolor": "white",
            "ticks": ""
           },
           "baxis": {
            "gridcolor": "white",
            "linecolor": "white",
            "ticks": ""
           },
           "bgcolor": "#E5ECF6",
           "caxis": {
            "gridcolor": "white",
            "linecolor": "white",
            "ticks": ""
           }
          },
          "title": {
           "x": 0.05
          },
          "xaxis": {
           "automargin": true,
           "gridcolor": "white",
           "linecolor": "white",
           "ticks": "",
           "title": {
            "standoff": 15
           },
           "zerolinecolor": "white",
           "zerolinewidth": 2
          },
          "yaxis": {
           "automargin": true,
           "gridcolor": "white",
           "linecolor": "white",
           "ticks": "",
           "title": {
            "standoff": 15
           },
           "zerolinecolor": "white",
           "zerolinewidth": 2
          }
         }
        }
       }
      }
     },
     "metadata": {},
     "output_type": "display_data"
    },
    {
     "name": "stdout",
     "output_type": "stream",
     "text": [
      "3 nearest stations to Fan Pier Harborwalk: Fan Pier, Seaport Square - Seaport Blvd at Northern Ave, Watermark Seaport - Boston Wharf Rd at Seaport Blvd\n"
     ]
    },
    {
     "name": "stderr",
     "output_type": "stream",
     "text": [
      "/Users/henrywu/opt/anaconda3/lib/python3.9/site-packages/plotly/express/_core.py:271: FutureWarning:\n",
      "\n",
      "The frame.append method is deprecated and will be removed from pandas in a future version. Use pandas.concat instead.\n",
      "\n",
      "/Users/henrywu/opt/anaconda3/lib/python3.9/site-packages/plotly/express/_core.py:271: FutureWarning:\n",
      "\n",
      "The frame.append method is deprecated and will be removed from pandas in a future version. Use pandas.concat instead.\n",
      "\n",
      "/Users/henrywu/opt/anaconda3/lib/python3.9/site-packages/plotly/express/_core.py:271: FutureWarning:\n",
      "\n",
      "The frame.append method is deprecated and will be removed from pandas in a future version. Use pandas.concat instead.\n",
      "\n",
      "/Users/henrywu/opt/anaconda3/lib/python3.9/site-packages/plotly/express/_core.py:271: FutureWarning:\n",
      "\n",
      "The frame.append method is deprecated and will be removed from pandas in a future version. Use pandas.concat instead.\n",
      "\n"
     ]
    },
    {
     "data": {
      "application/vnd.plotly.v1+json": {
       "config": {
        "plotlyServerURL": "https://plot.ly"
       },
       "data": [
        {
         "hovertemplate": "Day Type=Weekday<br>Trip Type=Departures<br>Trips=%{r}<br>Time=%{theta}<extra></extra>",
         "legendgroup": "Weekday, Departures",
         "line": {
          "color": "#636efa",
          "dash": "solid"
         },
         "marker": {
          "symbol": "circle"
         },
         "mode": "lines",
         "name": "Weekday, Departures",
         "r": [
          2.981012658227848,
          1.9504219409282701,
          1.5590717299578059,
          0.8660337552742616,
          0.3924050632911392,
          0.6023206751054853,
          1.3122362869198312,
          2.5464135021097047,
          4.237341772151899,
          2.669831223628692,
          2.5137130801687766,
          4.7289029535864975,
          6.7974683544303796,
          6.624472573839663,
          6.7521097046413505,
          10.89240506329114,
          21.573839662447256,
          28.139240506329113,
          15.629746835443038,
          10.378691983122362,
          8.772151898734178,
          8.541139240506329,
          7.506329113924051,
          5.3428270042194095,
          2.981012658227848
         ],
         "showlegend": true,
         "subplot": "polar",
         "theta": [
          7.5,
          22.5,
          37.5,
          52.5,
          67.5,
          82.5,
          97.5,
          112.5,
          127.5,
          142.5,
          157.5,
          172.5,
          187.5,
          202.5,
          217.5,
          232.5,
          247.5,
          262.5,
          277.5,
          292.5,
          307.5,
          322.5,
          337.5,
          352.5,
          7.5
         ],
         "type": "scatterpolar"
        },
        {
         "hovertemplate": "Day Type=Weekday<br>Trip Type=Arrivals<br>Trips=%{r}<br>Time=%{theta}<extra></extra>",
         "legendgroup": "Weekday, Arrivals",
         "line": {
          "color": "#636efa",
          "dash": "dot"
         },
         "marker": {
          "symbol": "circle"
         },
         "mode": "lines",
         "name": "Weekday, Arrivals",
         "r": [
          2.1202531645569622,
          1.0675105485232068,
          0.7552742616033755,
          0.5316455696202531,
          0.3459915611814346,
          0.8459915611814346,
          5.878691983122363,
          17.091772151898734,
          28.89873417721519,
          13.333333333333334,
          5.796413502109704,
          6.844936708860759,
          10.975738396624472,
          7.727848101265823,
          5.602320675105485,
          6.584388185654008,
          8.186708860759493,
          10.957805907172995,
          10.302742616033756,
          7.9261603375527425,
          6.220464135021097,
          6.025316455696203,
          5.644514767932489,
          3.9008438818565403,
          2.1202531645569622
         ],
         "showlegend": true,
         "subplot": "polar",
         "theta": [
          7.5,
          22.5,
          37.5,
          52.5,
          67.5,
          82.5,
          97.5,
          112.5,
          127.5,
          142.5,
          157.5,
          172.5,
          187.5,
          202.5,
          217.5,
          232.5,
          247.5,
          262.5,
          277.5,
          292.5,
          307.5,
          322.5,
          337.5,
          352.5,
          7.5
         ],
         "type": "scatterpolar"
        },
        {
         "hovertemplate": "Day Type=Weekend<br>Trip Type=Departures<br>Trips=%{r}<br>Time=%{theta}<extra></extra>",
         "legendgroup": "Weekend, Departures",
         "line": {
          "color": "#EF553B",
          "dash": "solid"
         },
         "marker": {
          "symbol": "circle"
         },
         "mode": "lines",
         "name": "Weekend, Departures",
         "r": [
          1.7373417721518987,
          1.7109704641350212,
          1.4430379746835442,
          1.2341772151898733,
          0.6571729957805907,
          0.5632911392405063,
          0.3407172995780591,
          0.3206751054852321,
          0.5611814345991561,
          0.959915611814346,
          1.5748945147679325,
          2.2025316455696204,
          2.7658227848101267,
          3.4746835443037973,
          4.087552742616034,
          4.6265822784810124,
          4.9957805907173,
          4.5358649789029535,
          4.364978902953586,
          3.951476793248945,
          3.8850210970464136,
          3.1940928270042193,
          2.8860759493670884,
          2.4630801687763713,
          1.7373417721518987
         ],
         "showlegend": true,
         "subplot": "polar",
         "theta": [
          7.5,
          22.5,
          37.5,
          52.5,
          67.5,
          82.5,
          97.5,
          112.5,
          127.5,
          142.5,
          157.5,
          172.5,
          187.5,
          202.5,
          217.5,
          232.5,
          247.5,
          262.5,
          277.5,
          292.5,
          307.5,
          322.5,
          337.5,
          352.5,
          7.5
         ],
         "type": "scatterpolar"
        },
        {
         "hovertemplate": "Day Type=Weekend<br>Trip Type=Arrivals<br>Trips=%{r}<br>Time=%{theta}<extra></extra>",
         "legendgroup": "Weekend, Arrivals",
         "line": {
          "color": "#EF553B",
          "dash": "dot"
         },
         "marker": {
          "symbol": "circle"
         },
         "mode": "lines",
         "name": "Weekend, Arrivals",
         "r": [
          1.409282700421941,
          1.1234177215189873,
          0.7869198312236287,
          0.5464135021097046,
          0.37869198312236285,
          0.3333333333333333,
          0.4040084388185654,
          0.4050632911392405,
          0.7974683544303798,
          1.4725738396624473,
          1.9124472573839661,
          2.6877637130801686,
          3.5938818565400843,
          4.406118143459915,
          4.922995780590718,
          5.416666666666667,
          5.382911392405063,
          4.9641350210970465,
          4.79535864978903,
          4.355485232067511,
          3.4736286919831225,
          2.530590717299578,
          2.238396624472574,
          1.7869198312236287,
          1.409282700421941
         ],
         "showlegend": true,
         "subplot": "polar",
         "theta": [
          7.5,
          22.5,
          37.5,
          52.5,
          67.5,
          82.5,
          97.5,
          112.5,
          127.5,
          142.5,
          157.5,
          172.5,
          187.5,
          202.5,
          217.5,
          232.5,
          247.5,
          262.5,
          277.5,
          292.5,
          307.5,
          322.5,
          337.5,
          352.5,
          7.5
         ],
         "type": "scatterpolar"
        }
       ],
       "layout": {
        "legend": {
         "title": {
          "text": "Day Type, Trip Type"
         },
         "tracegroupgap": 0
        },
        "margin": {
         "t": 60
        },
        "polar": {
         "angularaxis": {
          "direction": "clockwise",
          "rotation": -90,
          "tickmode": "array",
          "ticktext": [
           "12 AM",
           "1 AM",
           "2 AM",
           "3 AM",
           "4 AM",
           "5 AM",
           "6 AM",
           "7 AM",
           "8 AM",
           "9 AM",
           "10 AM",
           "11 AM",
           "12 PM",
           "1 PM",
           "2 PM",
           "3 PM",
           "4 PM",
           "5 PM",
           "6 PM",
           "7 PM",
           "8 PM",
           "9 PM",
           "10 PM",
           "11 PM"
          ],
          "tickvals": [
           0,
           15,
           30,
           45,
           60,
           75,
           90,
           105,
           120,
           135,
           150,
           165,
           180,
           195,
           210,
           225,
           240,
           255,
           270,
           285,
           300,
           315,
           330,
           345
          ]
         },
         "domain": {
          "x": [
           0,
           1
          ],
          "y": [
           0,
           1
          ]
         }
        },
        "template": {
         "data": {
          "bar": [
           {
            "error_x": {
             "color": "#2a3f5f"
            },
            "error_y": {
             "color": "#2a3f5f"
            },
            "marker": {
             "line": {
              "color": "#E5ECF6",
              "width": 0.5
             },
             "pattern": {
              "fillmode": "overlay",
              "size": 10,
              "solidity": 0.2
             }
            },
            "type": "bar"
           }
          ],
          "barpolar": [
           {
            "marker": {
             "line": {
              "color": "#E5ECF6",
              "width": 0.5
             },
             "pattern": {
              "fillmode": "overlay",
              "size": 10,
              "solidity": 0.2
             }
            },
            "type": "barpolar"
           }
          ],
          "carpet": [
           {
            "aaxis": {
             "endlinecolor": "#2a3f5f",
             "gridcolor": "white",
             "linecolor": "white",
             "minorgridcolor": "white",
             "startlinecolor": "#2a3f5f"
            },
            "baxis": {
             "endlinecolor": "#2a3f5f",
             "gridcolor": "white",
             "linecolor": "white",
             "minorgridcolor": "white",
             "startlinecolor": "#2a3f5f"
            },
            "type": "carpet"
           }
          ],
          "choropleth": [
           {
            "colorbar": {
             "outlinewidth": 0,
             "ticks": ""
            },
            "type": "choropleth"
           }
          ],
          "contour": [
           {
            "colorbar": {
             "outlinewidth": 0,
             "ticks": ""
            },
            "colorscale": [
             [
              0,
              "#0d0887"
             ],
             [
              0.1111111111111111,
              "#46039f"
             ],
             [
              0.2222222222222222,
              "#7201a8"
             ],
             [
              0.3333333333333333,
              "#9c179e"
             ],
             [
              0.4444444444444444,
              "#bd3786"
             ],
             [
              0.5555555555555556,
              "#d8576b"
             ],
             [
              0.6666666666666666,
              "#ed7953"
             ],
             [
              0.7777777777777778,
              "#fb9f3a"
             ],
             [
              0.8888888888888888,
              "#fdca26"
             ],
             [
              1,
              "#f0f921"
             ]
            ],
            "type": "contour"
           }
          ],
          "contourcarpet": [
           {
            "colorbar": {
             "outlinewidth": 0,
             "ticks": ""
            },
            "type": "contourcarpet"
           }
          ],
          "heatmap": [
           {
            "colorbar": {
             "outlinewidth": 0,
             "ticks": ""
            },
            "colorscale": [
             [
              0,
              "#0d0887"
             ],
             [
              0.1111111111111111,
              "#46039f"
             ],
             [
              0.2222222222222222,
              "#7201a8"
             ],
             [
              0.3333333333333333,
              "#9c179e"
             ],
             [
              0.4444444444444444,
              "#bd3786"
             ],
             [
              0.5555555555555556,
              "#d8576b"
             ],
             [
              0.6666666666666666,
              "#ed7953"
             ],
             [
              0.7777777777777778,
              "#fb9f3a"
             ],
             [
              0.8888888888888888,
              "#fdca26"
             ],
             [
              1,
              "#f0f921"
             ]
            ],
            "type": "heatmap"
           }
          ],
          "heatmapgl": [
           {
            "colorbar": {
             "outlinewidth": 0,
             "ticks": ""
            },
            "colorscale": [
             [
              0,
              "#0d0887"
             ],
             [
              0.1111111111111111,
              "#46039f"
             ],
             [
              0.2222222222222222,
              "#7201a8"
             ],
             [
              0.3333333333333333,
              "#9c179e"
             ],
             [
              0.4444444444444444,
              "#bd3786"
             ],
             [
              0.5555555555555556,
              "#d8576b"
             ],
             [
              0.6666666666666666,
              "#ed7953"
             ],
             [
              0.7777777777777778,
              "#fb9f3a"
             ],
             [
              0.8888888888888888,
              "#fdca26"
             ],
             [
              1,
              "#f0f921"
             ]
            ],
            "type": "heatmapgl"
           }
          ],
          "histogram": [
           {
            "marker": {
             "pattern": {
              "fillmode": "overlay",
              "size": 10,
              "solidity": 0.2
             }
            },
            "type": "histogram"
           }
          ],
          "histogram2d": [
           {
            "colorbar": {
             "outlinewidth": 0,
             "ticks": ""
            },
            "colorscale": [
             [
              0,
              "#0d0887"
             ],
             [
              0.1111111111111111,
              "#46039f"
             ],
             [
              0.2222222222222222,
              "#7201a8"
             ],
             [
              0.3333333333333333,
              "#9c179e"
             ],
             [
              0.4444444444444444,
              "#bd3786"
             ],
             [
              0.5555555555555556,
              "#d8576b"
             ],
             [
              0.6666666666666666,
              "#ed7953"
             ],
             [
              0.7777777777777778,
              "#fb9f3a"
             ],
             [
              0.8888888888888888,
              "#fdca26"
             ],
             [
              1,
              "#f0f921"
             ]
            ],
            "type": "histogram2d"
           }
          ],
          "histogram2dcontour": [
           {
            "colorbar": {
             "outlinewidth": 0,
             "ticks": ""
            },
            "colorscale": [
             [
              0,
              "#0d0887"
             ],
             [
              0.1111111111111111,
              "#46039f"
             ],
             [
              0.2222222222222222,
              "#7201a8"
             ],
             [
              0.3333333333333333,
              "#9c179e"
             ],
             [
              0.4444444444444444,
              "#bd3786"
             ],
             [
              0.5555555555555556,
              "#d8576b"
             ],
             [
              0.6666666666666666,
              "#ed7953"
             ],
             [
              0.7777777777777778,
              "#fb9f3a"
             ],
             [
              0.8888888888888888,
              "#fdca26"
             ],
             [
              1,
              "#f0f921"
             ]
            ],
            "type": "histogram2dcontour"
           }
          ],
          "mesh3d": [
           {
            "colorbar": {
             "outlinewidth": 0,
             "ticks": ""
            },
            "type": "mesh3d"
           }
          ],
          "parcoords": [
           {
            "line": {
             "colorbar": {
              "outlinewidth": 0,
              "ticks": ""
             }
            },
            "type": "parcoords"
           }
          ],
          "pie": [
           {
            "automargin": true,
            "type": "pie"
           }
          ],
          "scatter": [
           {
            "fillpattern": {
             "fillmode": "overlay",
             "size": 10,
             "solidity": 0.2
            },
            "type": "scatter"
           }
          ],
          "scatter3d": [
           {
            "line": {
             "colorbar": {
              "outlinewidth": 0,
              "ticks": ""
             }
            },
            "marker": {
             "colorbar": {
              "outlinewidth": 0,
              "ticks": ""
             }
            },
            "type": "scatter3d"
           }
          ],
          "scattercarpet": [
           {
            "marker": {
             "colorbar": {
              "outlinewidth": 0,
              "ticks": ""
             }
            },
            "type": "scattercarpet"
           }
          ],
          "scattergeo": [
           {
            "marker": {
             "colorbar": {
              "outlinewidth": 0,
              "ticks": ""
             }
            },
            "type": "scattergeo"
           }
          ],
          "scattergl": [
           {
            "marker": {
             "colorbar": {
              "outlinewidth": 0,
              "ticks": ""
             }
            },
            "type": "scattergl"
           }
          ],
          "scattermapbox": [
           {
            "marker": {
             "colorbar": {
              "outlinewidth": 0,
              "ticks": ""
             }
            },
            "type": "scattermapbox"
           }
          ],
          "scatterpolar": [
           {
            "marker": {
             "colorbar": {
              "outlinewidth": 0,
              "ticks": ""
             }
            },
            "type": "scatterpolar"
           }
          ],
          "scatterpolargl": [
           {
            "marker": {
             "colorbar": {
              "outlinewidth": 0,
              "ticks": ""
             }
            },
            "type": "scatterpolargl"
           }
          ],
          "scatterternary": [
           {
            "marker": {
             "colorbar": {
              "outlinewidth": 0,
              "ticks": ""
             }
            },
            "type": "scatterternary"
           }
          ],
          "surface": [
           {
            "colorbar": {
             "outlinewidth": 0,
             "ticks": ""
            },
            "colorscale": [
             [
              0,
              "#0d0887"
             ],
             [
              0.1111111111111111,
              "#46039f"
             ],
             [
              0.2222222222222222,
              "#7201a8"
             ],
             [
              0.3333333333333333,
              "#9c179e"
             ],
             [
              0.4444444444444444,
              "#bd3786"
             ],
             [
              0.5555555555555556,
              "#d8576b"
             ],
             [
              0.6666666666666666,
              "#ed7953"
             ],
             [
              0.7777777777777778,
              "#fb9f3a"
             ],
             [
              0.8888888888888888,
              "#fdca26"
             ],
             [
              1,
              "#f0f921"
             ]
            ],
            "type": "surface"
           }
          ],
          "table": [
           {
            "cells": {
             "fill": {
              "color": "#EBF0F8"
             },
             "line": {
              "color": "white"
             }
            },
            "header": {
             "fill": {
              "color": "#C8D4E3"
             },
             "line": {
              "color": "white"
             }
            },
            "type": "table"
           }
          ]
         },
         "layout": {
          "annotationdefaults": {
           "arrowcolor": "#2a3f5f",
           "arrowhead": 0,
           "arrowwidth": 1
          },
          "autotypenumbers": "strict",
          "coloraxis": {
           "colorbar": {
            "outlinewidth": 0,
            "ticks": ""
           }
          },
          "colorscale": {
           "diverging": [
            [
             0,
             "#8e0152"
            ],
            [
             0.1,
             "#c51b7d"
            ],
            [
             0.2,
             "#de77ae"
            ],
            [
             0.3,
             "#f1b6da"
            ],
            [
             0.4,
             "#fde0ef"
            ],
            [
             0.5,
             "#f7f7f7"
            ],
            [
             0.6,
             "#e6f5d0"
            ],
            [
             0.7,
             "#b8e186"
            ],
            [
             0.8,
             "#7fbc41"
            ],
            [
             0.9,
             "#4d9221"
            ],
            [
             1,
             "#276419"
            ]
           ],
           "sequential": [
            [
             0,
             "#0d0887"
            ],
            [
             0.1111111111111111,
             "#46039f"
            ],
            [
             0.2222222222222222,
             "#7201a8"
            ],
            [
             0.3333333333333333,
             "#9c179e"
            ],
            [
             0.4444444444444444,
             "#bd3786"
            ],
            [
             0.5555555555555556,
             "#d8576b"
            ],
            [
             0.6666666666666666,
             "#ed7953"
            ],
            [
             0.7777777777777778,
             "#fb9f3a"
            ],
            [
             0.8888888888888888,
             "#fdca26"
            ],
            [
             1,
             "#f0f921"
            ]
           ],
           "sequentialminus": [
            [
             0,
             "#0d0887"
            ],
            [
             0.1111111111111111,
             "#46039f"
            ],
            [
             0.2222222222222222,
             "#7201a8"
            ],
            [
             0.3333333333333333,
             "#9c179e"
            ],
            [
             0.4444444444444444,
             "#bd3786"
            ],
            [
             0.5555555555555556,
             "#d8576b"
            ],
            [
             0.6666666666666666,
             "#ed7953"
            ],
            [
             0.7777777777777778,
             "#fb9f3a"
            ],
            [
             0.8888888888888888,
             "#fdca26"
            ],
            [
             1,
             "#f0f921"
            ]
           ]
          },
          "colorway": [
           "#636efa",
           "#EF553B",
           "#00cc96",
           "#ab63fa",
           "#FFA15A",
           "#19d3f3",
           "#FF6692",
           "#B6E880",
           "#FF97FF",
           "#FECB52"
          ],
          "font": {
           "color": "#2a3f5f"
          },
          "geo": {
           "bgcolor": "white",
           "lakecolor": "white",
           "landcolor": "#E5ECF6",
           "showlakes": true,
           "showland": true,
           "subunitcolor": "white"
          },
          "hoverlabel": {
           "align": "left"
          },
          "hovermode": "closest",
          "mapbox": {
           "style": "light"
          },
          "paper_bgcolor": "white",
          "plot_bgcolor": "#E5ECF6",
          "polar": {
           "angularaxis": {
            "gridcolor": "white",
            "linecolor": "white",
            "ticks": ""
           },
           "bgcolor": "#E5ECF6",
           "radialaxis": {
            "gridcolor": "white",
            "linecolor": "white",
            "ticks": ""
           }
          },
          "scene": {
           "xaxis": {
            "backgroundcolor": "#E5ECF6",
            "gridcolor": "white",
            "gridwidth": 2,
            "linecolor": "white",
            "showbackground": true,
            "ticks": "",
            "zerolinecolor": "white"
           },
           "yaxis": {
            "backgroundcolor": "#E5ECF6",
            "gridcolor": "white",
            "gridwidth": 2,
            "linecolor": "white",
            "showbackground": true,
            "ticks": "",
            "zerolinecolor": "white"
           },
           "zaxis": {
            "backgroundcolor": "#E5ECF6",
            "gridcolor": "white",
            "gridwidth": 2,
            "linecolor": "white",
            "showbackground": true,
            "ticks": "",
            "zerolinecolor": "white"
           }
          },
          "shapedefaults": {
           "line": {
            "color": "#2a3f5f"
           }
          },
          "ternary": {
           "aaxis": {
            "gridcolor": "white",
            "linecolor": "white",
            "ticks": ""
           },
           "baxis": {
            "gridcolor": "white",
            "linecolor": "white",
            "ticks": ""
           },
           "bgcolor": "#E5ECF6",
           "caxis": {
            "gridcolor": "white",
            "linecolor": "white",
            "ticks": ""
           }
          },
          "title": {
           "x": 0.05
          },
          "xaxis": {
           "automargin": true,
           "gridcolor": "white",
           "linecolor": "white",
           "ticks": "",
           "title": {
            "standoff": 15
           },
           "zerolinecolor": "white",
           "zerolinewidth": 2
          },
          "yaxis": {
           "automargin": true,
           "gridcolor": "white",
           "linecolor": "white",
           "ticks": "",
           "title": {
            "standoff": 15
           },
           "zerolinecolor": "white",
           "zerolinewidth": 2
          }
         }
        }
       }
      }
     },
     "metadata": {},
     "output_type": "display_data"
    },
    {
     "name": "stdout",
     "output_type": "stream",
     "text": [
      "No stations within 0.3 km of Dorchester North Burying Ground\n"
     ]
    }
   ],
   "source": [
    "for c in np.random.choice(open_spaces['Name'], 25):\n",
    "    plot_activity(c)"
   ]
  }
 ],
 "metadata": {
  "kernelspec": {
   "display_name": "base",
   "language": "python",
   "name": "python3"
  },
  "language_info": {
   "codemirror_mode": {
    "name": "ipython",
    "version": 3
   },
   "file_extension": ".py",
   "mimetype": "text/x-python",
   "name": "python",
   "nbconvert_exporter": "python",
   "pygments_lexer": "ipython3",
   "version": "3.9.13"
  }
 },
 "nbformat": 4,
 "nbformat_minor": 2
}
