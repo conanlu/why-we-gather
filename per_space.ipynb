{
 "cells": [
  {
   "cell_type": "code",
   "execution_count": 1,
   "metadata": {},
   "outputs": [],
   "source": [
    "import numpy as np\n",
    "import pandas as pd\n",
    "import datetime\n",
    "from matplotlib import pyplot as plt\n",
    "# from matplotlib import dates as mdates\n",
    "import plotly.express as px\n",
    "import plotly.graph_objects as go\n",
    "px.set_mapbox_access_token(open(\".mapbox_token\").read())\n",
    "from exported import *"
   ]
  },
  {
   "cell_type": "code",
   "execution_count": 2,
   "metadata": {},
   "outputs": [
    {
     "data": {
      "text/html": [
       "<div>\n",
       "<style scoped>\n",
       "    .dataframe tbody tr th:only-of-type {\n",
       "        vertical-align: middle;\n",
       "    }\n",
       "\n",
       "    .dataframe tbody tr th {\n",
       "        vertical-align: top;\n",
       "    }\n",
       "\n",
       "    .dataframe thead th {\n",
       "        text-align: right;\n",
       "    }\n",
       "</style>\n",
       "<table border=\"1\" class=\"dataframe\">\n",
       "  <thead>\n",
       "    <tr style=\"text-align: right;\">\n",
       "      <th></th>\n",
       "      <th>duration</th>\n",
       "      <th>started_at</th>\n",
       "      <th>ended_at</th>\n",
       "      <th>start_station_id_old</th>\n",
       "      <th>start_station_name</th>\n",
       "      <th>start_lat</th>\n",
       "      <th>start_lng</th>\n",
       "      <th>end_station_id_old</th>\n",
       "      <th>end_station_name</th>\n",
       "      <th>end_lat</th>\n",
       "      <th>...</th>\n",
       "      <th>bikeid</th>\n",
       "      <th>usertype</th>\n",
       "      <th>birth year</th>\n",
       "      <th>gender</th>\n",
       "      <th>postal code</th>\n",
       "      <th>ride_id</th>\n",
       "      <th>rideable_type</th>\n",
       "      <th>start_station_id_new</th>\n",
       "      <th>end_station_id_new</th>\n",
       "      <th>member_casual</th>\n",
       "    </tr>\n",
       "  </thead>\n",
       "  <tbody>\n",
       "    <tr>\n",
       "      <th>0</th>\n",
       "      <td>413</td>\n",
       "      <td>2015-01-01 16:19:32</td>\n",
       "      <td>2015-01-01 16:26:26</td>\n",
       "      <td>143.0</td>\n",
       "      <td>EF - North Point Park</td>\n",
       "      <td>42.369885</td>\n",
       "      <td>-71.069957</td>\n",
       "      <td>85</td>\n",
       "      <td>Spaulding Rehabilitation Hospital - Charlestow...</td>\n",
       "      <td>42.378338</td>\n",
       "      <td>...</td>\n",
       "      <td>481.0</td>\n",
       "      <td>member</td>\n",
       "      <td>1983</td>\n",
       "      <td>1.0</td>\n",
       "      <td>NaN</td>\n",
       "      <td>NaN</td>\n",
       "      <td>NaN</td>\n",
       "      <td>NaN</td>\n",
       "      <td>NaN</td>\n",
       "      <td>NaN</td>\n",
       "    </tr>\n",
       "    <tr>\n",
       "      <th>1</th>\n",
       "      <td>575</td>\n",
       "      <td>2015-01-02 08:06:49</td>\n",
       "      <td>2015-01-02 08:16:25</td>\n",
       "      <td>90.0</td>\n",
       "      <td>Lechmere Station at Cambridge St / First St</td>\n",
       "      <td>42.370677</td>\n",
       "      <td>-71.076529</td>\n",
       "      <td>85</td>\n",
       "      <td>Spaulding Rehabilitation Hospital - Charlestow...</td>\n",
       "      <td>42.378338</td>\n",
       "      <td>...</td>\n",
       "      <td>1295.0</td>\n",
       "      <td>member</td>\n",
       "      <td>1983</td>\n",
       "      <td>1.0</td>\n",
       "      <td>NaN</td>\n",
       "      <td>NaN</td>\n",
       "      <td>NaN</td>\n",
       "      <td>NaN</td>\n",
       "      <td>NaN</td>\n",
       "      <td>NaN</td>\n",
       "    </tr>\n",
       "    <tr>\n",
       "      <th>2</th>\n",
       "      <td>886</td>\n",
       "      <td>2015-01-02 11:38:38</td>\n",
       "      <td>2015-01-02 11:53:24</td>\n",
       "      <td>95.0</td>\n",
       "      <td>Cambridge St - at Columbia St / Webster Ave</td>\n",
       "      <td>42.372969</td>\n",
       "      <td>-71.094445</td>\n",
       "      <td>85</td>\n",
       "      <td>Spaulding Rehabilitation Hospital - Charlestow...</td>\n",
       "      <td>42.378338</td>\n",
       "      <td>...</td>\n",
       "      <td>652.0</td>\n",
       "      <td>casual</td>\n",
       "      <td>1992</td>\n",
       "      <td>2.0</td>\n",
       "      <td>NaN</td>\n",
       "      <td>NaN</td>\n",
       "      <td>NaN</td>\n",
       "      <td>NaN</td>\n",
       "      <td>NaN</td>\n",
       "      <td>NaN</td>\n",
       "    </tr>\n",
       "    <tr>\n",
       "      <th>3</th>\n",
       "      <td>1027</td>\n",
       "      <td>2015-01-02 13:33:05</td>\n",
       "      <td>2015-01-02 13:50:12</td>\n",
       "      <td>91.0</td>\n",
       "      <td>One Kendall Square at Hampshire St / Portland St</td>\n",
       "      <td>42.366277</td>\n",
       "      <td>-71.091690</td>\n",
       "      <td>85</td>\n",
       "      <td>Spaulding Rehabilitation Hospital - Charlestow...</td>\n",
       "      <td>42.378338</td>\n",
       "      <td>...</td>\n",
       "      <td>1094.0</td>\n",
       "      <td>member</td>\n",
       "      <td>1983</td>\n",
       "      <td>1.0</td>\n",
       "      <td>NaN</td>\n",
       "      <td>NaN</td>\n",
       "      <td>NaN</td>\n",
       "      <td>NaN</td>\n",
       "      <td>NaN</td>\n",
       "      <td>NaN</td>\n",
       "    </tr>\n",
       "    <tr>\n",
       "      <th>4</th>\n",
       "      <td>383</td>\n",
       "      <td>2015-01-05 10:15:46</td>\n",
       "      <td>2015-01-05 10:22:09</td>\n",
       "      <td>143.0</td>\n",
       "      <td>EF - North Point Park</td>\n",
       "      <td>42.369885</td>\n",
       "      <td>-71.069957</td>\n",
       "      <td>85</td>\n",
       "      <td>Spaulding Rehabilitation Hospital - Charlestow...</td>\n",
       "      <td>42.378338</td>\n",
       "      <td>...</td>\n",
       "      <td>761.0</td>\n",
       "      <td>member</td>\n",
       "      <td>1983</td>\n",
       "      <td>1.0</td>\n",
       "      <td>NaN</td>\n",
       "      <td>NaN</td>\n",
       "      <td>NaN</td>\n",
       "      <td>NaN</td>\n",
       "      <td>NaN</td>\n",
       "      <td>NaN</td>\n",
       "    </tr>\n",
       "    <tr>\n",
       "      <th>...</th>\n",
       "      <td>...</td>\n",
       "      <td>...</td>\n",
       "      <td>...</td>\n",
       "      <td>...</td>\n",
       "      <td>...</td>\n",
       "      <td>...</td>\n",
       "      <td>...</td>\n",
       "      <td>...</td>\n",
       "      <td>...</td>\n",
       "      <td>...</td>\n",
       "      <td>...</td>\n",
       "      <td>...</td>\n",
       "      <td>...</td>\n",
       "      <td>...</td>\n",
       "      <td>...</td>\n",
       "      <td>...</td>\n",
       "      <td>...</td>\n",
       "      <td>...</td>\n",
       "      <td>...</td>\n",
       "      <td>...</td>\n",
       "      <td>...</td>\n",
       "    </tr>\n",
       "    <tr>\n",
       "      <th>11616979</th>\n",
       "      <td>312</td>\n",
       "      <td>2024-01-12 15:38:53</td>\n",
       "      <td>2024-01-12 15:44:05</td>\n",
       "      <td>NaN</td>\n",
       "      <td>Charlestown Navy Yard</td>\n",
       "      <td>42.374125</td>\n",
       "      <td>-71.054812</td>\n",
       "      <td>NaN</td>\n",
       "      <td>Main St at Thompson Sq</td>\n",
       "      <td>42.374878</td>\n",
       "      <td>...</td>\n",
       "      <td>NaN</td>\n",
       "      <td>NaN</td>\n",
       "      <td>NaN</td>\n",
       "      <td>NaN</td>\n",
       "      <td>NaN</td>\n",
       "      <td>BA5F71F2B4F60857</td>\n",
       "      <td>classic_bike</td>\n",
       "      <td>D32039</td>\n",
       "      <td>D32038</td>\n",
       "      <td>member</td>\n",
       "    </tr>\n",
       "    <tr>\n",
       "      <th>11616980</th>\n",
       "      <td>1926</td>\n",
       "      <td>2024-01-13 12:10:36</td>\n",
       "      <td>2024-01-13 12:42:42</td>\n",
       "      <td>NaN</td>\n",
       "      <td>Newmarket Square T Stop - Massachusetts Ave at...</td>\n",
       "      <td>42.326599</td>\n",
       "      <td>-71.066498</td>\n",
       "      <td>NaN</td>\n",
       "      <td>Somerville City Hall Annex</td>\n",
       "      <td>42.391898</td>\n",
       "      <td>...</td>\n",
       "      <td>NaN</td>\n",
       "      <td>NaN</td>\n",
       "      <td>NaN</td>\n",
       "      <td>NaN</td>\n",
       "      <td>NaN</td>\n",
       "      <td>C77DAA204E19EF6A</td>\n",
       "      <td>classic_bike</td>\n",
       "      <td>C32022</td>\n",
       "      <td>S32036</td>\n",
       "      <td>member</td>\n",
       "    </tr>\n",
       "    <tr>\n",
       "      <th>11616981</th>\n",
       "      <td>2214</td>\n",
       "      <td>2024-01-27 12:08:39</td>\n",
       "      <td>2024-01-27 12:45:33</td>\n",
       "      <td>NaN</td>\n",
       "      <td>Newmarket Square T Stop - Massachusetts Ave at...</td>\n",
       "      <td>42.326599</td>\n",
       "      <td>-71.066498</td>\n",
       "      <td>NaN</td>\n",
       "      <td>Somerville City Hall Annex</td>\n",
       "      <td>42.391898</td>\n",
       "      <td>...</td>\n",
       "      <td>NaN</td>\n",
       "      <td>NaN</td>\n",
       "      <td>NaN</td>\n",
       "      <td>NaN</td>\n",
       "      <td>NaN</td>\n",
       "      <td>77BC9B9BCAD3EBA6</td>\n",
       "      <td>classic_bike</td>\n",
       "      <td>C32022</td>\n",
       "      <td>S32036</td>\n",
       "      <td>member</td>\n",
       "    </tr>\n",
       "    <tr>\n",
       "      <th>11616982</th>\n",
       "      <td>457</td>\n",
       "      <td>2024-01-23 19:13:05</td>\n",
       "      <td>2024-01-23 19:20:42</td>\n",
       "      <td>NaN</td>\n",
       "      <td>Aquarium T Stop - 200 Atlantic Ave</td>\n",
       "      <td>42.360479</td>\n",
       "      <td>-71.050593</td>\n",
       "      <td>NaN</td>\n",
       "      <td>Main St at Thompson Sq</td>\n",
       "      <td>42.374878</td>\n",
       "      <td>...</td>\n",
       "      <td>NaN</td>\n",
       "      <td>NaN</td>\n",
       "      <td>NaN</td>\n",
       "      <td>NaN</td>\n",
       "      <td>NaN</td>\n",
       "      <td>C24A84547C47B792</td>\n",
       "      <td>electric_bike</td>\n",
       "      <td>B32004</td>\n",
       "      <td>D32038</td>\n",
       "      <td>member</td>\n",
       "    </tr>\n",
       "    <tr>\n",
       "      <th>11616983</th>\n",
       "      <td>1150</td>\n",
       "      <td>2024-01-27 00:12:18</td>\n",
       "      <td>2024-01-27 00:31:28</td>\n",
       "      <td>NaN</td>\n",
       "      <td>Aquarium T Stop - 200 Atlantic Ave</td>\n",
       "      <td>42.360441</td>\n",
       "      <td>-71.050439</td>\n",
       "      <td>NaN</td>\n",
       "      <td>Main St at Thompson Sq</td>\n",
       "      <td>42.374878</td>\n",
       "      <td>...</td>\n",
       "      <td>NaN</td>\n",
       "      <td>NaN</td>\n",
       "      <td>NaN</td>\n",
       "      <td>NaN</td>\n",
       "      <td>NaN</td>\n",
       "      <td>0C09D09DCF1171F1</td>\n",
       "      <td>classic_bike</td>\n",
       "      <td>B32004</td>\n",
       "      <td>D32038</td>\n",
       "      <td>casual</td>\n",
       "    </tr>\n",
       "  </tbody>\n",
       "</table>\n",
       "<p>11616984 rows × 21 columns</p>\n",
       "</div>"
      ],
      "text/plain": [
       "          duration          started_at            ended_at  \\\n",
       "0              413 2015-01-01 16:19:32 2015-01-01 16:26:26   \n",
       "1              575 2015-01-02 08:06:49 2015-01-02 08:16:25   \n",
       "2              886 2015-01-02 11:38:38 2015-01-02 11:53:24   \n",
       "3             1027 2015-01-02 13:33:05 2015-01-02 13:50:12   \n",
       "4              383 2015-01-05 10:15:46 2015-01-05 10:22:09   \n",
       "...            ...                 ...                 ...   \n",
       "11616979       312 2024-01-12 15:38:53 2024-01-12 15:44:05   \n",
       "11616980      1926 2024-01-13 12:10:36 2024-01-13 12:42:42   \n",
       "11616981      2214 2024-01-27 12:08:39 2024-01-27 12:45:33   \n",
       "11616982       457 2024-01-23 19:13:05 2024-01-23 19:20:42   \n",
       "11616983      1150 2024-01-27 00:12:18 2024-01-27 00:31:28   \n",
       "\n",
       "          start_station_id_old  \\\n",
       "0                        143.0   \n",
       "1                         90.0   \n",
       "2                         95.0   \n",
       "3                         91.0   \n",
       "4                        143.0   \n",
       "...                        ...   \n",
       "11616979                   NaN   \n",
       "11616980                   NaN   \n",
       "11616981                   NaN   \n",
       "11616982                   NaN   \n",
       "11616983                   NaN   \n",
       "\n",
       "                                         start_station_name  start_lat  \\\n",
       "0                                     EF - North Point Park  42.369885   \n",
       "1               Lechmere Station at Cambridge St / First St  42.370677   \n",
       "2               Cambridge St - at Columbia St / Webster Ave  42.372969   \n",
       "3          One Kendall Square at Hampshire St / Portland St  42.366277   \n",
       "4                                     EF - North Point Park  42.369885   \n",
       "...                                                     ...        ...   \n",
       "11616979                              Charlestown Navy Yard  42.374125   \n",
       "11616980  Newmarket Square T Stop - Massachusetts Ave at...  42.326599   \n",
       "11616981  Newmarket Square T Stop - Massachusetts Ave at...  42.326599   \n",
       "11616982                 Aquarium T Stop - 200 Atlantic Ave  42.360479   \n",
       "11616983                 Aquarium T Stop - 200 Atlantic Ave  42.360441   \n",
       "\n",
       "          start_lng end_station_id_old  \\\n",
       "0        -71.069957                 85   \n",
       "1        -71.076529                 85   \n",
       "2        -71.094445                 85   \n",
       "3        -71.091690                 85   \n",
       "4        -71.069957                 85   \n",
       "...             ...                ...   \n",
       "11616979 -71.054812                NaN   \n",
       "11616980 -71.066498                NaN   \n",
       "11616981 -71.066498                NaN   \n",
       "11616982 -71.050593                NaN   \n",
       "11616983 -71.050439                NaN   \n",
       "\n",
       "                                           end_station_name    end_lat  ...  \\\n",
       "0         Spaulding Rehabilitation Hospital - Charlestow...  42.378338  ...   \n",
       "1         Spaulding Rehabilitation Hospital - Charlestow...  42.378338  ...   \n",
       "2         Spaulding Rehabilitation Hospital - Charlestow...  42.378338  ...   \n",
       "3         Spaulding Rehabilitation Hospital - Charlestow...  42.378338  ...   \n",
       "4         Spaulding Rehabilitation Hospital - Charlestow...  42.378338  ...   \n",
       "...                                                     ...        ...  ...   \n",
       "11616979                             Main St at Thompson Sq  42.374878  ...   \n",
       "11616980                         Somerville City Hall Annex  42.391898  ...   \n",
       "11616981                         Somerville City Hall Annex  42.391898  ...   \n",
       "11616982                             Main St at Thompson Sq  42.374878  ...   \n",
       "11616983                             Main St at Thompson Sq  42.374878  ...   \n",
       "\n",
       "          bikeid  usertype birth year gender  postal code           ride_id  \\\n",
       "0          481.0    member       1983    1.0          NaN               NaN   \n",
       "1         1295.0    member       1983    1.0          NaN               NaN   \n",
       "2          652.0    casual       1992    2.0          NaN               NaN   \n",
       "3         1094.0    member       1983    1.0          NaN               NaN   \n",
       "4          761.0    member       1983    1.0          NaN               NaN   \n",
       "...          ...       ...        ...    ...          ...               ...   \n",
       "11616979     NaN       NaN        NaN    NaN          NaN  BA5F71F2B4F60857   \n",
       "11616980     NaN       NaN        NaN    NaN          NaN  C77DAA204E19EF6A   \n",
       "11616981     NaN       NaN        NaN    NaN          NaN  77BC9B9BCAD3EBA6   \n",
       "11616982     NaN       NaN        NaN    NaN          NaN  C24A84547C47B792   \n",
       "11616983     NaN       NaN        NaN    NaN          NaN  0C09D09DCF1171F1   \n",
       "\n",
       "          rideable_type start_station_id_new end_station_id_new member_casual  \n",
       "0                   NaN                  NaN                NaN           NaN  \n",
       "1                   NaN                  NaN                NaN           NaN  \n",
       "2                   NaN                  NaN                NaN           NaN  \n",
       "3                   NaN                  NaN                NaN           NaN  \n",
       "4                   NaN                  NaN                NaN           NaN  \n",
       "...                 ...                  ...                ...           ...  \n",
       "11616979   classic_bike               D32039             D32038        member  \n",
       "11616980   classic_bike               C32022             S32036        member  \n",
       "11616981   classic_bike               C32022             S32036        member  \n",
       "11616982  electric_bike               B32004             D32038        member  \n",
       "11616983   classic_bike               B32004             D32038        casual  \n",
       "\n",
       "[11616984 rows x 21 columns]"
      ]
     },
     "execution_count": 2,
     "metadata": {},
     "output_type": "execute_result"
    }
   ],
   "source": [
    "trips = []\n",
    "for i in range(1, 25):\n",
    "    trips.append(pd.read_pickle(f'data/bluebikes/trips_combined_boston/{i}.pkl'))\n",
    "combined_trips = pd.concat(trips)\n",
    "combined_trips"
   ]
  },
  {
   "cell_type": "code",
   "execution_count": 3,
   "metadata": {},
   "outputs": [],
   "source": [
    "open_spaces = pd.read_csv('open_spaces_nearest_stations_k_10_d_0.3.csv')"
   ]
  },
  {
   "cell_type": "code",
   "execution_count": 4,
   "metadata": {},
   "outputs": [
    {
     "data": {
      "text/html": [
       "<div>\n",
       "<style scoped>\n",
       "    .dataframe tbody tr th:only-of-type {\n",
       "        vertical-align: middle;\n",
       "    }\n",
       "\n",
       "    .dataframe tbody tr th {\n",
       "        vertical-align: top;\n",
       "    }\n",
       "\n",
       "    .dataframe thead th {\n",
       "        text-align: right;\n",
       "    }\n",
       "</style>\n",
       "<table border=\"1\" class=\"dataframe\">\n",
       "  <thead>\n",
       "    <tr style=\"text-align: right;\">\n",
       "      <th></th>\n",
       "      <th>Number</th>\n",
       "      <th>Name</th>\n",
       "      <th>Latitude</th>\n",
       "      <th>Longitude</th>\n",
       "      <th>Public</th>\n",
       "      <th>Total docks</th>\n",
       "      <th>roundtrip_ratio</th>\n",
       "      <th>trips</th>\n",
       "      <th>log_trips</th>\n",
       "    </tr>\n",
       "  </thead>\n",
       "  <tbody>\n",
       "    <tr>\n",
       "      <th>0</th>\n",
       "      <td>A32019</td>\n",
       "      <td>175 N Harvard St</td>\n",
       "      <td>42.364475</td>\n",
       "      <td>-71.128408</td>\n",
       "      <td>Yes</td>\n",
       "      <td>17</td>\n",
       "      <td>0.041054</td>\n",
       "      <td>175088</td>\n",
       "      <td>5.243256</td>\n",
       "    </tr>\n",
       "    <tr>\n",
       "      <th>1</th>\n",
       "      <td>C32094</td>\n",
       "      <td>2 Hummingbird Lane at Olmsted Green</td>\n",
       "      <td>42.288870</td>\n",
       "      <td>-71.095003</td>\n",
       "      <td>Yes</td>\n",
       "      <td>17</td>\n",
       "      <td>0.329957</td>\n",
       "      <td>691</td>\n",
       "      <td>2.839478</td>\n",
       "    </tr>\n",
       "    <tr>\n",
       "      <th>2</th>\n",
       "      <td>C32106</td>\n",
       "      <td>555 Metropolitan Ave</td>\n",
       "      <td>42.268100</td>\n",
       "      <td>-71.119240</td>\n",
       "      <td>Yes</td>\n",
       "      <td>18</td>\n",
       "      <td>0.275449</td>\n",
       "      <td>334</td>\n",
       "      <td>2.523746</td>\n",
       "    </tr>\n",
       "    <tr>\n",
       "      <th>3</th>\n",
       "      <td>C32105</td>\n",
       "      <td>606 American Legion Hwy at Canterbury St</td>\n",
       "      <td>42.285780</td>\n",
       "      <td>-71.109725</td>\n",
       "      <td>Yes</td>\n",
       "      <td>18</td>\n",
       "      <td>0.075178</td>\n",
       "      <td>1543</td>\n",
       "      <td>3.188366</td>\n",
       "    </tr>\n",
       "    <tr>\n",
       "      <th>4</th>\n",
       "      <td>C32091</td>\n",
       "      <td>645 Summer St</td>\n",
       "      <td>42.341781</td>\n",
       "      <td>-71.039870</td>\n",
       "      <td>Yes</td>\n",
       "      <td>19</td>\n",
       "      <td>0.027830</td>\n",
       "      <td>17032</td>\n",
       "      <td>4.231266</td>\n",
       "    </tr>\n",
       "    <tr>\n",
       "      <th>...</th>\n",
       "      <td>...</td>\n",
       "      <td>...</td>\n",
       "      <td>...</td>\n",
       "      <td>...</td>\n",
       "      <td>...</td>\n",
       "      <td>...</td>\n",
       "      <td>...</td>\n",
       "      <td>...</td>\n",
       "      <td>...</td>\n",
       "    </tr>\n",
       "    <tr>\n",
       "      <th>208</th>\n",
       "      <td>C32034</td>\n",
       "      <td>Watermark Seaport - Boston Wharf Rd at Seaport...</td>\n",
       "      <td>42.351586</td>\n",
       "      <td>-71.045693</td>\n",
       "      <td>Yes</td>\n",
       "      <td>15</td>\n",
       "      <td>0.026880</td>\n",
       "      <td>161461</td>\n",
       "      <td>5.208068</td>\n",
       "    </tr>\n",
       "    <tr>\n",
       "      <th>209</th>\n",
       "      <td>B32021</td>\n",
       "      <td>Wentworth Institute of Technology - Huntington...</td>\n",
       "      <td>42.337586</td>\n",
       "      <td>-71.096271</td>\n",
       "      <td>Yes</td>\n",
       "      <td>12</td>\n",
       "      <td>0.049047</td>\n",
       "      <td>89669</td>\n",
       "      <td>4.952642</td>\n",
       "    </tr>\n",
       "    <tr>\n",
       "      <th>210</th>\n",
       "      <td>D32022</td>\n",
       "      <td>West End Park</td>\n",
       "      <td>42.365908</td>\n",
       "      <td>-71.064467</td>\n",
       "      <td>Yes</td>\n",
       "      <td>35</td>\n",
       "      <td>0.015364</td>\n",
       "      <td>41526</td>\n",
       "      <td>4.618320</td>\n",
       "    </tr>\n",
       "    <tr>\n",
       "      <th>211</th>\n",
       "      <td>B32059</td>\n",
       "      <td>Whittier St Health Center</td>\n",
       "      <td>42.332863</td>\n",
       "      <td>-71.092189</td>\n",
       "      <td>Yes</td>\n",
       "      <td>19</td>\n",
       "      <td>0.017747</td>\n",
       "      <td>12284</td>\n",
       "      <td>4.089340</td>\n",
       "    </tr>\n",
       "    <tr>\n",
       "      <th>212</th>\n",
       "      <td>D32040</td>\n",
       "      <td>Williams St at Washington St</td>\n",
       "      <td>42.306539</td>\n",
       "      <td>-71.107669</td>\n",
       "      <td>Yes</td>\n",
       "      <td>23</td>\n",
       "      <td>0.057739</td>\n",
       "      <td>33253</td>\n",
       "      <td>4.521831</td>\n",
       "    </tr>\n",
       "  </tbody>\n",
       "</table>\n",
       "<p>213 rows × 9 columns</p>\n",
       "</div>"
      ],
      "text/plain": [
       "     Number                                               Name   Latitude  \\\n",
       "0    A32019                                   175 N Harvard St  42.364475   \n",
       "1    C32094                2 Hummingbird Lane at Olmsted Green  42.288870   \n",
       "2    C32106                               555 Metropolitan Ave  42.268100   \n",
       "3    C32105           606 American Legion Hwy at Canterbury St  42.285780   \n",
       "4    C32091                                      645 Summer St  42.341781   \n",
       "..      ...                                                ...        ...   \n",
       "208  C32034  Watermark Seaport - Boston Wharf Rd at Seaport...  42.351586   \n",
       "209  B32021  Wentworth Institute of Technology - Huntington...  42.337586   \n",
       "210  D32022                                      West End Park  42.365908   \n",
       "211  B32059                          Whittier St Health Center  42.332863   \n",
       "212  D32040                       Williams St at Washington St  42.306539   \n",
       "\n",
       "     Longitude Public  Total docks  roundtrip_ratio   trips  log_trips  \n",
       "0   -71.128408    Yes           17         0.041054  175088   5.243256  \n",
       "1   -71.095003    Yes           17         0.329957     691   2.839478  \n",
       "2   -71.119240    Yes           18         0.275449     334   2.523746  \n",
       "3   -71.109725    Yes           18         0.075178    1543   3.188366  \n",
       "4   -71.039870    Yes           19         0.027830   17032   4.231266  \n",
       "..         ...    ...          ...              ...     ...        ...  \n",
       "208 -71.045693    Yes           15         0.026880  161461   5.208068  \n",
       "209 -71.096271    Yes           12         0.049047   89669   4.952642  \n",
       "210 -71.064467    Yes           35         0.015364   41526   4.618320  \n",
       "211 -71.092189    Yes           19         0.017747   12284   4.089340  \n",
       "212 -71.107669    Yes           23         0.057739   33253   4.521831  \n",
       "\n",
       "[213 rows x 9 columns]"
      ]
     },
     "execution_count": 4,
     "metadata": {},
     "output_type": "execute_result"
    }
   ],
   "source": [
    "stations = pd.read_csv('data/bluebikes/stations_with_roundtrip_data.csv')\n",
    "stations"
   ]
  },
  {
   "cell_type": "markdown",
   "metadata": {},
   "source": [
    "# Weighted Roundtrip Ratio Bar Graph\n",
    "Do the thing like Four Seasons"
   ]
  },
  {
   "cell_type": "markdown",
   "metadata": {},
   "source": [
    "Correlation between weighted roundtrip ratios if you consider trips between two different stations close to an open space as roundtrips or not?"
   ]
  },
  {
   "cell_type": "code",
   "execution_count": 5,
   "metadata": {},
   "outputs": [
    {
     "data": {
      "text/html": [
       "<div>\n",
       "<style scoped>\n",
       "    .dataframe tbody tr th:only-of-type {\n",
       "        vertical-align: middle;\n",
       "    }\n",
       "\n",
       "    .dataframe tbody tr th {\n",
       "        vertical-align: top;\n",
       "    }\n",
       "\n",
       "    .dataframe thead th {\n",
       "        text-align: right;\n",
       "    }\n",
       "</style>\n",
       "<table border=\"1\" class=\"dataframe\">\n",
       "  <thead>\n",
       "    <tr style=\"text-align: right;\">\n",
       "      <th></th>\n",
       "      <th>Name</th>\n",
       "      <th>Weighted Roundtrip Ratio</th>\n",
       "    </tr>\n",
       "  </thead>\n",
       "  <tbody>\n",
       "    <tr>\n",
       "      <th>0</th>\n",
       "      <td>Wilson Park</td>\n",
       "      <td>0.000000</td>\n",
       "    </tr>\n",
       "    <tr>\n",
       "      <th>1</th>\n",
       "      <td>James H. Roberts Playground</td>\n",
       "      <td>0.051670</td>\n",
       "    </tr>\n",
       "    <tr>\n",
       "      <th>2</th>\n",
       "      <td>Smith Playground</td>\n",
       "      <td>0.041054</td>\n",
       "    </tr>\n",
       "    <tr>\n",
       "      <th>3</th>\n",
       "      <td>Fern Square</td>\n",
       "      <td>0.000000</td>\n",
       "    </tr>\n",
       "    <tr>\n",
       "      <th>4</th>\n",
       "      <td>Ringer Playground</td>\n",
       "      <td>0.031234</td>\n",
       "    </tr>\n",
       "    <tr>\n",
       "      <th>...</th>\n",
       "      <td>...</td>\n",
       "      <td>...</td>\n",
       "    </tr>\n",
       "    <tr>\n",
       "      <th>529</th>\n",
       "      <td>Mahoney Park</td>\n",
       "      <td>0.028803</td>\n",
       "    </tr>\n",
       "    <tr>\n",
       "      <th>530</th>\n",
       "      <td>Boundary I</td>\n",
       "      <td>0.000000</td>\n",
       "    </tr>\n",
       "    <tr>\n",
       "      <th>531</th>\n",
       "      <td>Sprague Pond</td>\n",
       "      <td>0.000000</td>\n",
       "    </tr>\n",
       "    <tr>\n",
       "      <th>532</th>\n",
       "      <td>Codman Square</td>\n",
       "      <td>0.126667</td>\n",
       "    </tr>\n",
       "    <tr>\n",
       "      <th>533</th>\n",
       "      <td>Murphy Playground I</td>\n",
       "      <td>0.076338</td>\n",
       "    </tr>\n",
       "  </tbody>\n",
       "</table>\n",
       "<p>534 rows × 2 columns</p>\n",
       "</div>"
      ],
      "text/plain": [
       "                            Name  Weighted Roundtrip Ratio\n",
       "0                    Wilson Park                  0.000000\n",
       "1    James H. Roberts Playground                  0.051670\n",
       "2               Smith Playground                  0.041054\n",
       "3                    Fern Square                  0.000000\n",
       "4              Ringer Playground                  0.031234\n",
       "..                           ...                       ...\n",
       "529                 Mahoney Park                  0.028803\n",
       "530                   Boundary I                  0.000000\n",
       "531                 Sprague Pond                  0.000000\n",
       "532                Codman Square                  0.126667\n",
       "533          Murphy Playground I                  0.076338\n",
       "\n",
       "[534 rows x 2 columns]"
      ]
     },
     "execution_count": 5,
     "metadata": {},
     "output_type": "execute_result"
    }
   ],
   "source": [
    "open_spaces['Weighted Roundtrip Ratio'] = open_spaces['Name'].apply(get_weighted_roundtrip_ratio)\n",
    "open_spaces[['Name', 'Weighted Roundtrip Ratio']]"
   ]
  },
  {
   "cell_type": "code",
   "execution_count": 6,
   "metadata": {},
   "outputs": [
    {
     "data": {
      "application/vnd.plotly.v1+json": {
       "config": {
        "plotlyServerURL": "https://plot.ly"
       },
       "data": [
        {
         "alignmentgroup": "True",
         "hovertemplate": "Name=%{x}<br>Weighted Roundtrip Ratio=%{y}<extra></extra>",
         "legendgroup": "",
         "marker": {
          "color": "#636efa",
          "pattern": {
           "shape": ""
          }
         },
         "name": "",
         "offsetgroup": "",
         "orientation": "v",
         "showlegend": false,
         "textposition": "auto",
         "type": "bar",
         "x": [
          "Wilson Park",
          "Franklin Park Zoo",
          "West Austin Rock",
          "Truman Parkway",
          "Condor Street Overlook",
          "Parley Vale Preserve",
          "Rivermoor III",
          "Rivermoor II",
          "Leo M. Birmingham Parkway",
          "Stanley-Bellevue Park",
          "Patten's Cove",
          "Morton Street",
          "American Legion Highway",
          "Chestnut Street",
          "Perkins Street",
          "Allandale Field",
          "Belle Isle Marsh Reservation",
          "Oakview Terrace",
          "Daniel E. O'Connor Park",
          "St Michael's Cemetery",
          "Allandale Woods ROW",
          "Theresa Hynes Park",
          "Ernst Chery Jr. Playground",
          "Allandale Woods V",
          "Allandale Woods IV",
          "Arborway II",
          "East Boston Memorial Park II",
          "Woodworth Square",
          "Roslindale Wetlands Urban Wild I",
          "Schraffts Centre Harborwalk",
          "Jones Square",
          "Golden Stairs Terrace Park II",
          "Algonquin Square",
          "Beethoven School Play Area",
          "Mattahunt Woods I",
          "Mattahunt Woods II",
          "Allandale Woods II",
          "Brian Honan Park",
          "Franklin Park II",
          "McGann Park",
          "North Point Park",
          "Millennium Park II",
          "Savin Hill Cove",
          "Back Bay Fens",
          "Kennedy Library Harborwalk",
          "Little Mystic Access Area",
          "Stonehill Park",
          "M Street Beach",
          "L Street Beach",
          "East Boston Piers Park",
          "Chestnut Hill Reservoir",
          "West Roxbury H.S. Athletic Fields",
          "Bellevue Hill Reservation",
          "Allandale Woods III",
          "Strandway/Castle Island",
          "Allandale Woods I",
          "Piemonte Park",
          "Draper Playground",
          "Congregation Mishkan Tefia Cemetery",
          "Sawmill Brook/Brook Farm",
          "Hancock Woods I",
          "Gethsemane Cemetery",
          "Mount Lebanon Cemetery",
          "Mount Benedict Cemetery",
          "St Joseph's Cemetery",
          "Malibu Beach",
          "Victory Road Park",
          "Parkman Memorial",
          "Ohrenberger Play Area",
          "Chestnut Hill Reservoir Garden",
          "Nellie Miranda Memorial Park",
          "The Rockies",
          "Golden Stairs Terrace Park I",
          "Millennium Park I",
          "Havey Beach",
          "Kennedy Garden",
          "Clark/Cooper Community Garden",
          "Stony Brook Reservation I",
          "Dooley Playground",
          "Neponset Valley Parkway",
          "Colella Playground",
          "Reservation Road Park",
          "Martini Playground",
          "Cedar Grove Cemetery",
          "Tenean Beach",
          "West Roxbury Parkway",
          "West Roxbury High School Marsh",
          "Moakley Park",
          "Riverway I",
          "Jamaica Pond Park",
          "Charlesgate II",
          "Calvary Cemetery",
          "Mt. Hope Cemetery",
          "Union Park Street Playground",
          "Forbes Street Playground",
          "Charles River Reservation",
          "Commercial Point",
          "Carson Beach",
          "West Link Park",
          "New Calvary Cemetery",
          "Neponset River Reservation I",
          "Port Norfolk Park",
          "Pope John Paul II Park I",
          "Arnold Arboretum",
          "Charlesgate I",
          "Franklin Park",
          "Fort Point Channel Harborwalk",
          "Stony Brook Reservation II",
          "Puopolo Playground",
          "Pope John Paul II Park II",
          "Savin Hill Park",
          "Boston Nature Center_Visitor Ctr",
          "Boston Nature Center",
          "Sprague Pond",
          "Boundary I",
          "Nonquit Street Green",
          "Paula Titus Park",
          "Dearborn Street Square",
          "Wood Island Bay Edge Park",
          "Mount Hope Park",
          "Rink Grounds 2",
          "Stony Brook Reservation CR",
          "Blake Estates Urban Wild II",
          "Theresa Hynes Park Access Easement",
          "Mirabella Pool",
          "Bellevue Street Green",
          "Columbia Road/Day Boulevard",
          "Grove Street Cemetery",
          "O'Donnell Square",
          "Carroll Pond Playground",
          "VFW Parkway II",
          "VFW Parkway I",
          "Massport Harborwalk",
          "Spectacle Island II",
          "Spectacle Island I",
          "Healy Playground",
          "Hynes Playground",
          "Laviscount Park",
          "Lincoln Square 2",
          "Dunbarton Woods",
          "Elmhurst Street Park",
          "Meany Park",
          "Adams/King Playground",
          "Ryan Play Area",
          "Brighton Common",
          "Nancy Kafka Reserve",
          "Tunnel Harborwalk",
          "Centre Street IV",
          "Centre Street I",
          "Centre Street II",
          "Riverway II",
          "Fire Alarm House Grounds",
          "Park Drive I",
          "Boylston Street II",
          "Agassiz Road",
          "Blake Estates Urban Wild I",
          "Commonwealth Plaza",
          "Railroad Avenue",
          "Joyce Playground",
          "Hannon Playground",
          "Denton Square",
          "Winthrop Playground",
          "Children's Park",
          "Beauford Play Area",
          "Parker Hilltop",
          "McLaughlin Playground",
          "DeForest Urban Wild",
          "George Wright Golf Course",
          "Stony Brook Reservation III",
          "Willow Pond Meadow",
          "Richardson Park",
          "Bonito Square",
          "Tremlett Square",
          "Emmel Square",
          "Mt. Pleasant Play Area",
          "Tebroc Street Playlot",
          "The Fenway I",
          "St Augustine Burying Ground",
          "Fairview Cemetery",
          "Titus Sparrow Park",
          "Wilson Square",
          "Monterey Hilltop I",
          "Elm Hill Park",
          "West Street",
          "Doyle Playground",
          "Quincy Street Play Area",
          "Howes Playground",
          "Sherrin Woods I",
          "Little Scobie Playground",
          "Weider Park",
          "Connell Fields/Hickey Courts",
          "Bynoe Park",
          "Cedar Square",
          "Buena Vista",
          "Dennis Street Park",
          "Georges Island",
          "Medal of Honor Park",
          "Christopher Lee Playground",
          "Lovells Island",
          "Hawes Burying Ground",
          "Union Burying Ground",
          "Dorchester Heights NHS",
          "Willowwood Rock",
          "Condor Street Beach I",
          "Thompson Island",
          "Putnam Square",
          "Dell Rock I",
          "Marcella Playground",
          "Walker Playground",
          "Gladeside I",
          "Kennedy Playground",
          "Forest Hills Cemetery",
          "Walter Street Cemetery",
          "Pagel Playground",
          "Thetford/Evans Playground",
          "Poplar Street Play Area",
          "Delano Park",
          "Lawrence Farm",
          "Highland Park",
          "Mother Brook Reservation",
          "Williams Square",
          "Rockledge Street Urban Wild",
          "St James Street Park",
          "Stony Brook Recreation Complex",
          "Jeremiah Hurley Memorial Park",
          "Camp Meigs",
          "Trotter School Playground",
          "Iacono/Readville Playground",
          "Moynihan Playground",
          "Amatucci Playground",
          "Dana Avenue Urban Wild I",
          "Ronan Park",
          "Gallops Island",
          "Ripley Playground",
          "Mother's Rest at Four Corners",
          "Byrne Playground",
          "Garvey Playground",
          "Paul Revere Mall",
          "Charter Street Park",
          "Foster Street Play Area",
          "Copp's Hill Terrace",
          "Copp's Hill Burying Ground",
          "Old Harbor Park",
          "Ventura Playground",
          "Savin Hill Beach",
          "10 Josephine Street Garden",
          "Deer Street Park",
          "Downer Avenue Playground",
          "Dorchester North Burying Ground",
          "Geneva Cliffs I",
          "Mullen Square",
          "Chandler Pond",
          "Evergreen Cemetery",
          "Boyden Park",
          "Jackson Square",
          "Hobart Park",
          "McKinney Playground",
          "Fern Square",
          "Quincy/Stanley Play Area",
          "Martin/Hilltop Playground",
          "Msgr. Francis A. Ryan Park",
          "Gallivan/Hallet Circle",
          "Wellesley Park",
          "Bennington Street Cemetery",
          "East Boston Memorial Park I",
          "Hayes Square",
          "St Francis De Sales Cemetery",
          "Toohig Playground",
          "Doherty Playground",
          "Prescott Square",
          "Barry Playground",
          "Ryan Playground",
          "McMorrow Playground",
          "American Legion Playground",
          "Dorchester Park",
          "Prince Street Park",
          "Walsh Playground",
          "Dorchester South Burying Ground",
          "Langone Park",
          "Hemenway Playground",
          "Riverway IV",
          "Riverway III",
          "Riverway V",
          "Joslin Park",
          "Nashua Street Park",
          "Federal Reserve Bank Harborwalk",
          "Russia Wharf Harborwalk",
          "Tai Tung Park",
          "Hanlon Square",
          "Chinatown Park",
          "Lincoln Street Green",
          "Norman Leventhal Park",
          "Dewey Square Parks",
          "Mission Hill Playground",
          "Roxbury Heritage State Park I",
          "Bradford Street Play Area",
          "Peters Park II",
          "Temple Street Park",
          "Independence Wharf Harborwalk",
          "Tufts Wharf Harborwalk",
          "Lambert Avenue Playground",
          "Kittredge Park",
          "Phillips Street Play Area",
          "Myrtle Street Playground",
          "Frieda Garcia Park",
          "Martin's Park",
          "Children's Wharf Harborwalk",
          "St Helena's Park",
          "Waltham Square",
          "Puerto Rican Veterans Memorial Park",
          "Msgr. Reynolds Playground",
          "South Bank Park",
          "Union Park",
          "Portal Park",
          "DeFilippo Playground",
          "Bunker Hill Monument",
          "Peter Looney Park",
          "Rink Grounds 1",
          "Phipps Street Burying Ground",
          "Jeep Jones Park",
          "King Street Play Area",
          "Peters Park I",
          "Ringgold Park",
          "Watson Park",
          "Linwood Park",
          "Gibbons Playground",
          "Rotch Playground",
          "Childe Hassam Park",
          "Blackstone Square",
          "South End South Burying Ground",
          "Worcester Square",
          "Caldwell Street Play Area",
          "Franklin Square",
          "General Edward O. Gourdin African-American Veterans Memorial Park",
          "408 Atlantic Avenue Harborwalk",
          "Edgerly Road Playground",
          "O'Day Playground",
          "Newland Street Park",
          "400R Atlantic Avenue Harborwalk",
          "Park Drive II",
          "The Fenway II",
          "Copley Square Park",
          "Reserved Channel Harborwalk",
          "Concord Square",
          "Rutland Square",
          "BPL Courtyard",
          "Clifford Playground",
          "A Street Park",
          "Flaherty Park",
          "Mahoney Park",
          "City Hall Plaza",
          "King's Chapel Burying Ground",
          "Stony Brook Sewer Easement",
          "Carter Playground",
          "Cutillo Park",
          "Endicott Triangle",
          "Faneuil Square",
          "Hayes Park",
          "Angell Memorial Square",
          "Union Street Park I",
          "Commonwealth Avenue Outbound",
          "Ringer Playground",
          "Fan Pier Plaza",
          "Ramler Park",
          "Polcari Park",
          "Union Square Plaza",
          "Penniman Road Play Area",
          "Fidelis Way Park",
          "Amory Street Park",
          "Hiscock Park",
          "Harriet Tubman Square",
          "North End Park",
          "Eliot Burying Ground",
          "Orton Field",
          "Buckley Playground",
          "Sweeney Playground",
          "Boylston Street I",
          "Spaulding Rehabilitation Plaza",
          "Menino Park",
          "Ramsay Park",
          "Fan Pier Harborwalk",
          "Pier Four Harborwalk",
          "ICA Pier Walk",
          "Melnea A. Cass Recreational Complex",
          "Malcolm X Park I",
          "Mozart Street Playground",
          "Heath Square",
          "Wharf District Park",
          "Rowe's Wharf Harborwalk",
          "Chester Square",
          "Braddock Park",
          "Essex Square",
          "Clarendon Street Playlot",
          "Elliot Norton Park",
          "Bay Village Garden",
          "Leo F. McCarthy Playground",
          "Olmsted Park",
          "Jamaicaway",
          "Back of the Hill Urban Wild",
          "Nira Rock",
          "Jefferson Playground",
          "Central Burying Ground",
          "Commonwealth Avenue Mall II",
          "Bay Village Neighborhood Park",
          "Mahoney Square",
          "Paul Gore Street Park",
          "Cunningham Park",
          "Market Street Burying Ground",
          "Public Ground",
          "Smith Playground",
          "Aquarium Harborwalk II",
          "India Wharf Harborwalk",
          "Aquarium Harborwalk I",
          "Rachel Revere Square",
          "Symphony Community Park",
          "Granary Burying Ground",
          "John Harvard Mall",
          "Charlestown Naval Shipyard Park I",
          "Navy Yard Grounds",
          "Patrick J. Kelly Park",
          "Holborn Street Playlot",
          "Robert G. Lawson Park",
          "Walnut Park",
          "Lincoln Square 1",
          "Statler Park",
          "Madison Park H.S. Athletic Fields",
          "Paul Revere Park",
          "Winthrop Square",
          "City Square",
          "Mt. Bowdoin Green",
          "Armenian Heritage Park",
          "Commercial Wharf Harborwalk",
          "Long Wharf",
          "Raymond V. Mellone Park II",
          "Rena Park",
          "James H. Roberts Playground",
          "Raymond V. Mellone Park I",
          "Christopher Columbus Park",
          "Joe's American Harborwalk",
          "Portsmouth Street Playground",
          "Charlestown Sprouts Garden",
          "Bunker Hill Burying Ground",
          "Charlestown H.S. Athletic Fields",
          "Cook Street Play Area",
          "Dudley Town Common",
          "Boston Common",
          "English H.S. Athletic Fields",
          "Rossmore/Stedman Park",
          "Southwest Corridor Park",
          "Flaherty Playground",
          "Johnson Park II",
          "Johnson Park I",
          "Beecher Street Play Area",
          "First Church Cemetery",
          "Soldier's Monument",
          "Brewer-Burroughs Tot Lot",
          "Commonwealth Avenue Mall I",
          "Horatio Harris Park",
          "Wolf Square",
          "Crawford Street Playground",
          "Fernald Rock",
          "Coppens Square",
          "Allen Park",
          "Murphy Playground I",
          "South Street Mall & Courts",
          "Public Garden",
          "Veterans Park II",
          "Shubow Park I",
          "Shubow Park II",
          "Oak Square I",
          "Hardiman Playground",
          "Central Square",
          "Sharon's Park",
          "Columbia Road Park",
          "Fenelon Street Playground",
          "Bremen Street Park II",
          "Parkman Playground",
          "Bussey Brook Meadow I",
          "Toll Gate Cemetery",
          "Ceylon Park",
          "Grove Hall Plaza",
          "Bussey Brook Meadow II",
          "Arborway Overpass Path",
          "Arborway I",
          "Florida Street Reservation",
          "Duffie Square",
          "Rogers Park",
          "Adams Park",
          "Roberts Playground",
          "Rev. Loesch Family Park",
          "St Mary's Cemetery",
          "Peabody Square",
          "McConnell Park",
          "Codman Burying Ground",
          "Codman Square",
          "Doherty/Gibson Playground",
          "Cassidy Playground",
          "Reilly Playground",
          "East Boston Greenway",
          "Father Jack Play Area",
          "East Boston Memorial Park III",
          "Bremen Street Park I",
          "Zero Quinn Way",
          "Westerly Burying Ground",
          "Billings Field",
          "Fallon Field",
          "Webster Square",
          "Columbia Park",
          "White Stadium",
          "Porzio Park",
          "Navy Fuel Pier Airport Edge Buffer",
          "LoPresti Park",
          "Brophy Park",
          "Sumner & Lamson Street Playground",
          "UMass Harborwalk",
          "Constitution Beach",
          "Noyes Playground",
          "Paris Street Playground",
          "Woodhaven",
          "Cuneo Park",
          "McLean Playground",
          "Temple Ohabei Shalom Cemetery",
          "East Boston Greenway Extension",
          "Harambee Park",
          "Blue Hill Club Recreation Center",
          "Puddingstone Park",
          "Erie/Ellington Playground",
          "Marine Park",
          "Babson Cookson Tract",
          "Hunt Playground",
          "Hunt Playground II",
          "Henry Square",
          "Foley Square",
          "Ross Playground"
         ],
         "xaxis": "x",
         "y": [
          0,
          0,
          0,
          0,
          0,
          0,
          0,
          0,
          0,
          0,
          0,
          0,
          0,
          0,
          0,
          0,
          0,
          0,
          0,
          0,
          0,
          0,
          0,
          0,
          0,
          0,
          0,
          0,
          0,
          0,
          0,
          0,
          0,
          0,
          0,
          0,
          0,
          0,
          0,
          0,
          0,
          0,
          0,
          0,
          0,
          0,
          0,
          0,
          0,
          0,
          0,
          0,
          0,
          0,
          0,
          0,
          0,
          0,
          0,
          0,
          0,
          0,
          0,
          0,
          0,
          0,
          0,
          0,
          0,
          0,
          0,
          0,
          0,
          0,
          0,
          0,
          0,
          0,
          0,
          0,
          0,
          0,
          0,
          0,
          0,
          0,
          0,
          0,
          0,
          0,
          0,
          0,
          0,
          0,
          0,
          0,
          0,
          0,
          0,
          0,
          0,
          0,
          0,
          0,
          0,
          0,
          0,
          0,
          0,
          0,
          0,
          0,
          0,
          0,
          0,
          0,
          0,
          0,
          0,
          0,
          0,
          0,
          0,
          0,
          0,
          0,
          0,
          0,
          0,
          0,
          0,
          0,
          0,
          0,
          0,
          0,
          0,
          0,
          0,
          0,
          0,
          0,
          0,
          0,
          0,
          0,
          0,
          0,
          0,
          0,
          0,
          0,
          0,
          0,
          0,
          0,
          0,
          0,
          0,
          0,
          0,
          0,
          0,
          0,
          0,
          0,
          0,
          0,
          0,
          0,
          0,
          0,
          0,
          0,
          0,
          0,
          0,
          0,
          0,
          0,
          0,
          0,
          0,
          0,
          0,
          0,
          0,
          0,
          0,
          0,
          0,
          0,
          0,
          0,
          0,
          0,
          0,
          0,
          0,
          0,
          0,
          0,
          0,
          0,
          0,
          0,
          0,
          0,
          0,
          0,
          0,
          0,
          0,
          0,
          0,
          0,
          0,
          0,
          0,
          0,
          0,
          0,
          0,
          0,
          0,
          0,
          0,
          0,
          0,
          0,
          0,
          0,
          0,
          0,
          0,
          0,
          0,
          0,
          0,
          0,
          0,
          0,
          0,
          0,
          0,
          0,
          0,
          0,
          0,
          0,
          0,
          0,
          0,
          0,
          0,
          0,
          0,
          0,
          0,
          0,
          0,
          0,
          0,
          0,
          0,
          0,
          0,
          0,
          0,
          0,
          0,
          0,
          0,
          0,
          0,
          0,
          0,
          0,
          0,
          0,
          0.0120978828704976,
          0.0120978828704976,
          0.0120978828704976,
          0.012991259884654183,
          0.015363868419785098,
          0.0158956603370576,
          0.016736284990926685,
          0.01741754639781176,
          0.018195267606650183,
          0.018652409607304004,
          0.018652409607304004,
          0.0193322475570032,
          0.0193322475570032,
          0.0197220014179216,
          0.01972439279592148,
          0.0201639850818128,
          0.0201639850818128,
          0.020388831250845743,
          0.0204489308637013,
          0.0204489308637013,
          0.0204688218170675,
          0.0204688218170675,
          0.0205206459106748,
          0.0205206459106748,
          0.020828823347004668,
          0.021084952041706004,
          0.021084952041706004,
          0.021470820610279447,
          0.021470820610279447,
          0.021470820610279447,
          0.021470820610279447,
          0.021488069477605027,
          0.02169169495652006,
          0.0218901391843744,
          0.0218901391843744,
          0.0219465456379223,
          0.02196344026666094,
          0.02196344026666094,
          0.02196947323685966,
          0.02209960533018481,
          0.02209960533018481,
          0.022524313362577205,
          0.022524313362577205,
          0.022524313362577205,
          0.0227457154968812,
          0.0227457154968812,
          0.023390861623046,
          0.02340546319590331,
          0.0235063337433919,
          0.0235063337433919,
          0.0235063337433919,
          0.023795315530359504,
          0.02379657941485065,
          0.0238782565308813,
          0.02409131270348793,
          0.0253370864727393,
          0.025495967796464937,
          0.02573189100369705,
          0.026545121406452234,
          0.0269565742794748,
          0.0269565742794748,
          0.027013568236383532,
          0.0278299671207139,
          0.02822882837871591,
          0.02822882837871591,
          0.028376544661757496,
          0.0287784467802837,
          0.0288033423915448,
          0.0288033423915448,
          0.0288033423915448,
          0.028860736224513187,
          0.029175163261388398,
          0.0293518744770494,
          0.029551751769146803,
          0.029845107669059304,
          0.029845107669059304,
          0.030206898813036863,
          0.03061238080017042,
          0.0306594638670879,
          0.030873497861274322,
          0.0312344693604012,
          0.0312344693604012,
          0.031294929854007586,
          0.031932341491031926,
          0.0320058483603704,
          0.0323114292400681,
          0.0323114292400681,
          0.03252982959960354,
          0.0326207442596991,
          0.03281216186972512,
          0.03281216186972512,
          0.032990435674248066,
          0.0329964513250461,
          0.0330226791915179,
          0.0330226791915179,
          0.0330226791915179,
          0.0331055166248522,
          0.0333705810646078,
          0.0333705810646078,
          0.033847407496830975,
          0.03515017929247618,
          0.03515017929247618,
          0.03515017929247618,
          0.035521087653789,
          0.035521087653789,
          0.0356737963872723,
          0.0356737963872723,
          0.03577607778651599,
          0.03577607778651599,
          0.035885296174745736,
          0.036399414003242016,
          0.036575640666422375,
          0.036650379203708,
          0.03686190470644409,
          0.03686190470644409,
          0.0369510159778714,
          0.0385007310265384,
          0.0385007310265384,
          0.0385007310265384,
          0.0385007310265384,
          0.0385007310265384,
          0.039462813710550916,
          0.03989629375397125,
          0.04005199020300215,
          0.040348391835878,
          0.040348391835878,
          0.0407578052002448,
          0.0407578052002448,
          0.0407578052002448,
          0.0410536415973681,
          0.04235384317330241,
          0.04235384317330241,
          0.04235384317330241,
          0.04246010774731454,
          0.0427840572325801,
          0.043316201519639656,
          0.044315323174915065,
          0.0444325930440745,
          0.0444325930440745,
          0.0444325930440745,
          0.0469651031448784,
          0.0474144624462963,
          0.0474144624462963,
          0.047707533927172224,
          0.047707533927172224,
          0.0481768685035472,
          0.0502597145016644,
          0.0502597145016644,
          0.0502597145016644,
          0.0509554140127388,
          0.05114325948416942,
          0.0513097567386035,
          0.0513097567386035,
          0.0516696852220509,
          0.0516696852220509,
          0.0516696852220509,
          0.0516696852220509,
          0.05354929078585112,
          0.05354929078585112,
          0.053632398753894,
          0.0537648934158268,
          0.0537648934158268,
          0.0537648934158268,
          0.0537648934158268,
          0.05410806240873099,
          0.05528781360847859,
          0.0577391513547649,
          0.0577391513547649,
          0.0585376457618433,
          0.0585376457618433,
          0.0585376457618433,
          0.0585376457618433,
          0.0592069442932034,
          0.0669585115908864,
          0.0669585115908864,
          0.0669585115908864,
          0.0694493971972898,
          0.0711049146043917,
          0.0711049146043917,
          0.0711049146043917,
          0.0752602081665332,
          0.0752602081665332,
          0.0752602081665332,
          0.07633846269611338,
          0.07633846269611338,
          0.07769100702183875,
          0.07962725440410434,
          0.0807051255273821,
          0.0807051255273821,
          0.0876677316293929,
          0.0876677316293929,
          0.08818092856366204,
          0.0907518450184501,
          0.0907518450184501,
          0.09107768390686173,
          0.0931329207191276,
          0.0955041234370843,
          0.0955041234370843,
          0.0955041234370843,
          0.0960321136328547,
          0.0986259149865159,
          0.1051485759776445,
          0.1051485759776445,
          0.1054500540373629,
          0.1054706752094628,
          0.1059050064184852,
          0.1084904171008177,
          0.10911042213212492,
          0.1106107007746352,
          0.1143005585140927,
          0.1196581196581196,
          0.1217022915463123,
          0.122948312773983,
          0.1266666666666666,
          0.1266666666666666,
          0.1371787455582183,
          0.1447391982809342,
          0.1447391982809342,
          0.1606547748253891,
          0.1777930324352153,
          0.1836538461538461,
          0.1836538461538461,
          0.1983769161406672,
          0.1983769161406672,
          0.1983769161406672,
          0.2009910802775024,
          0.2166666666666666,
          0.2214878357474335,
          0.2301487721813945,
          0.2333584054155697,
          0.2333584054155697,
          0.2369595864661654,
          0.2473856209150327,
          0.2473856209150327,
          0.2550626243708299,
          0.2599708879184861,
          0.2599708879184861,
          0.2708803611738149,
          0.2758620689655172,
          0.292399022232569,
          0.292399022232569,
          0.292399022232569,
          0.292399022232569,
          0.2967101179391682,
          0.2967101179391682,
          0.3070751898950243,
          0.3070751898950243,
          0.3087432016327879,
          0.3268348623853211,
          0.3268348623853211,
          0.3268348623853211,
          0.4158212698050837,
          0.5511811023622047,
          0.5511811023622047
         ],
         "yaxis": "y"
        }
       ],
       "layout": {
        "barmode": "relative",
        "legend": {
         "tracegroupgap": 0
        },
        "margin": {
         "t": 60
        },
        "template": {
         "data": {
          "bar": [
           {
            "error_x": {
             "color": "#2a3f5f"
            },
            "error_y": {
             "color": "#2a3f5f"
            },
            "marker": {
             "line": {
              "color": "#E5ECF6",
              "width": 0.5
             },
             "pattern": {
              "fillmode": "overlay",
              "size": 10,
              "solidity": 0.2
             }
            },
            "type": "bar"
           }
          ],
          "barpolar": [
           {
            "marker": {
             "line": {
              "color": "#E5ECF6",
              "width": 0.5
             },
             "pattern": {
              "fillmode": "overlay",
              "size": 10,
              "solidity": 0.2
             }
            },
            "type": "barpolar"
           }
          ],
          "carpet": [
           {
            "aaxis": {
             "endlinecolor": "#2a3f5f",
             "gridcolor": "white",
             "linecolor": "white",
             "minorgridcolor": "white",
             "startlinecolor": "#2a3f5f"
            },
            "baxis": {
             "endlinecolor": "#2a3f5f",
             "gridcolor": "white",
             "linecolor": "white",
             "minorgridcolor": "white",
             "startlinecolor": "#2a3f5f"
            },
            "type": "carpet"
           }
          ],
          "choropleth": [
           {
            "colorbar": {
             "outlinewidth": 0,
             "ticks": ""
            },
            "type": "choropleth"
           }
          ],
          "contour": [
           {
            "colorbar": {
             "outlinewidth": 0,
             "ticks": ""
            },
            "colorscale": [
             [
              0,
              "#0d0887"
             ],
             [
              0.1111111111111111,
              "#46039f"
             ],
             [
              0.2222222222222222,
              "#7201a8"
             ],
             [
              0.3333333333333333,
              "#9c179e"
             ],
             [
              0.4444444444444444,
              "#bd3786"
             ],
             [
              0.5555555555555556,
              "#d8576b"
             ],
             [
              0.6666666666666666,
              "#ed7953"
             ],
             [
              0.7777777777777778,
              "#fb9f3a"
             ],
             [
              0.8888888888888888,
              "#fdca26"
             ],
             [
              1,
              "#f0f921"
             ]
            ],
            "type": "contour"
           }
          ],
          "contourcarpet": [
           {
            "colorbar": {
             "outlinewidth": 0,
             "ticks": ""
            },
            "type": "contourcarpet"
           }
          ],
          "heatmap": [
           {
            "colorbar": {
             "outlinewidth": 0,
             "ticks": ""
            },
            "colorscale": [
             [
              0,
              "#0d0887"
             ],
             [
              0.1111111111111111,
              "#46039f"
             ],
             [
              0.2222222222222222,
              "#7201a8"
             ],
             [
              0.3333333333333333,
              "#9c179e"
             ],
             [
              0.4444444444444444,
              "#bd3786"
             ],
             [
              0.5555555555555556,
              "#d8576b"
             ],
             [
              0.6666666666666666,
              "#ed7953"
             ],
             [
              0.7777777777777778,
              "#fb9f3a"
             ],
             [
              0.8888888888888888,
              "#fdca26"
             ],
             [
              1,
              "#f0f921"
             ]
            ],
            "type": "heatmap"
           }
          ],
          "heatmapgl": [
           {
            "colorbar": {
             "outlinewidth": 0,
             "ticks": ""
            },
            "colorscale": [
             [
              0,
              "#0d0887"
             ],
             [
              0.1111111111111111,
              "#46039f"
             ],
             [
              0.2222222222222222,
              "#7201a8"
             ],
             [
              0.3333333333333333,
              "#9c179e"
             ],
             [
              0.4444444444444444,
              "#bd3786"
             ],
             [
              0.5555555555555556,
              "#d8576b"
             ],
             [
              0.6666666666666666,
              "#ed7953"
             ],
             [
              0.7777777777777778,
              "#fb9f3a"
             ],
             [
              0.8888888888888888,
              "#fdca26"
             ],
             [
              1,
              "#f0f921"
             ]
            ],
            "type": "heatmapgl"
           }
          ],
          "histogram": [
           {
            "marker": {
             "pattern": {
              "fillmode": "overlay",
              "size": 10,
              "solidity": 0.2
             }
            },
            "type": "histogram"
           }
          ],
          "histogram2d": [
           {
            "colorbar": {
             "outlinewidth": 0,
             "ticks": ""
            },
            "colorscale": [
             [
              0,
              "#0d0887"
             ],
             [
              0.1111111111111111,
              "#46039f"
             ],
             [
              0.2222222222222222,
              "#7201a8"
             ],
             [
              0.3333333333333333,
              "#9c179e"
             ],
             [
              0.4444444444444444,
              "#bd3786"
             ],
             [
              0.5555555555555556,
              "#d8576b"
             ],
             [
              0.6666666666666666,
              "#ed7953"
             ],
             [
              0.7777777777777778,
              "#fb9f3a"
             ],
             [
              0.8888888888888888,
              "#fdca26"
             ],
             [
              1,
              "#f0f921"
             ]
            ],
            "type": "histogram2d"
           }
          ],
          "histogram2dcontour": [
           {
            "colorbar": {
             "outlinewidth": 0,
             "ticks": ""
            },
            "colorscale": [
             [
              0,
              "#0d0887"
             ],
             [
              0.1111111111111111,
              "#46039f"
             ],
             [
              0.2222222222222222,
              "#7201a8"
             ],
             [
              0.3333333333333333,
              "#9c179e"
             ],
             [
              0.4444444444444444,
              "#bd3786"
             ],
             [
              0.5555555555555556,
              "#d8576b"
             ],
             [
              0.6666666666666666,
              "#ed7953"
             ],
             [
              0.7777777777777778,
              "#fb9f3a"
             ],
             [
              0.8888888888888888,
              "#fdca26"
             ],
             [
              1,
              "#f0f921"
             ]
            ],
            "type": "histogram2dcontour"
           }
          ],
          "mesh3d": [
           {
            "colorbar": {
             "outlinewidth": 0,
             "ticks": ""
            },
            "type": "mesh3d"
           }
          ],
          "parcoords": [
           {
            "line": {
             "colorbar": {
              "outlinewidth": 0,
              "ticks": ""
             }
            },
            "type": "parcoords"
           }
          ],
          "pie": [
           {
            "automargin": true,
            "type": "pie"
           }
          ],
          "scatter": [
           {
            "fillpattern": {
             "fillmode": "overlay",
             "size": 10,
             "solidity": 0.2
            },
            "type": "scatter"
           }
          ],
          "scatter3d": [
           {
            "line": {
             "colorbar": {
              "outlinewidth": 0,
              "ticks": ""
             }
            },
            "marker": {
             "colorbar": {
              "outlinewidth": 0,
              "ticks": ""
             }
            },
            "type": "scatter3d"
           }
          ],
          "scattercarpet": [
           {
            "marker": {
             "colorbar": {
              "outlinewidth": 0,
              "ticks": ""
             }
            },
            "type": "scattercarpet"
           }
          ],
          "scattergeo": [
           {
            "marker": {
             "colorbar": {
              "outlinewidth": 0,
              "ticks": ""
             }
            },
            "type": "scattergeo"
           }
          ],
          "scattergl": [
           {
            "marker": {
             "colorbar": {
              "outlinewidth": 0,
              "ticks": ""
             }
            },
            "type": "scattergl"
           }
          ],
          "scattermapbox": [
           {
            "marker": {
             "colorbar": {
              "outlinewidth": 0,
              "ticks": ""
             }
            },
            "type": "scattermapbox"
           }
          ],
          "scatterpolar": [
           {
            "marker": {
             "colorbar": {
              "outlinewidth": 0,
              "ticks": ""
             }
            },
            "type": "scatterpolar"
           }
          ],
          "scatterpolargl": [
           {
            "marker": {
             "colorbar": {
              "outlinewidth": 0,
              "ticks": ""
             }
            },
            "type": "scatterpolargl"
           }
          ],
          "scatterternary": [
           {
            "marker": {
             "colorbar": {
              "outlinewidth": 0,
              "ticks": ""
             }
            },
            "type": "scatterternary"
           }
          ],
          "surface": [
           {
            "colorbar": {
             "outlinewidth": 0,
             "ticks": ""
            },
            "colorscale": [
             [
              0,
              "#0d0887"
             ],
             [
              0.1111111111111111,
              "#46039f"
             ],
             [
              0.2222222222222222,
              "#7201a8"
             ],
             [
              0.3333333333333333,
              "#9c179e"
             ],
             [
              0.4444444444444444,
              "#bd3786"
             ],
             [
              0.5555555555555556,
              "#d8576b"
             ],
             [
              0.6666666666666666,
              "#ed7953"
             ],
             [
              0.7777777777777778,
              "#fb9f3a"
             ],
             [
              0.8888888888888888,
              "#fdca26"
             ],
             [
              1,
              "#f0f921"
             ]
            ],
            "type": "surface"
           }
          ],
          "table": [
           {
            "cells": {
             "fill": {
              "color": "#EBF0F8"
             },
             "line": {
              "color": "white"
             }
            },
            "header": {
             "fill": {
              "color": "#C8D4E3"
             },
             "line": {
              "color": "white"
             }
            },
            "type": "table"
           }
          ]
         },
         "layout": {
          "annotationdefaults": {
           "arrowcolor": "#2a3f5f",
           "arrowhead": 0,
           "arrowwidth": 1
          },
          "autotypenumbers": "strict",
          "coloraxis": {
           "colorbar": {
            "outlinewidth": 0,
            "ticks": ""
           }
          },
          "colorscale": {
           "diverging": [
            [
             0,
             "#8e0152"
            ],
            [
             0.1,
             "#c51b7d"
            ],
            [
             0.2,
             "#de77ae"
            ],
            [
             0.3,
             "#f1b6da"
            ],
            [
             0.4,
             "#fde0ef"
            ],
            [
             0.5,
             "#f7f7f7"
            ],
            [
             0.6,
             "#e6f5d0"
            ],
            [
             0.7,
             "#b8e186"
            ],
            [
             0.8,
             "#7fbc41"
            ],
            [
             0.9,
             "#4d9221"
            ],
            [
             1,
             "#276419"
            ]
           ],
           "sequential": [
            [
             0,
             "#0d0887"
            ],
            [
             0.1111111111111111,
             "#46039f"
            ],
            [
             0.2222222222222222,
             "#7201a8"
            ],
            [
             0.3333333333333333,
             "#9c179e"
            ],
            [
             0.4444444444444444,
             "#bd3786"
            ],
            [
             0.5555555555555556,
             "#d8576b"
            ],
            [
             0.6666666666666666,
             "#ed7953"
            ],
            [
             0.7777777777777778,
             "#fb9f3a"
            ],
            [
             0.8888888888888888,
             "#fdca26"
            ],
            [
             1,
             "#f0f921"
            ]
           ],
           "sequentialminus": [
            [
             0,
             "#0d0887"
            ],
            [
             0.1111111111111111,
             "#46039f"
            ],
            [
             0.2222222222222222,
             "#7201a8"
            ],
            [
             0.3333333333333333,
             "#9c179e"
            ],
            [
             0.4444444444444444,
             "#bd3786"
            ],
            [
             0.5555555555555556,
             "#d8576b"
            ],
            [
             0.6666666666666666,
             "#ed7953"
            ],
            [
             0.7777777777777778,
             "#fb9f3a"
            ],
            [
             0.8888888888888888,
             "#fdca26"
            ],
            [
             1,
             "#f0f921"
            ]
           ]
          },
          "colorway": [
           "#636efa",
           "#EF553B",
           "#00cc96",
           "#ab63fa",
           "#FFA15A",
           "#19d3f3",
           "#FF6692",
           "#B6E880",
           "#FF97FF",
           "#FECB52"
          ],
          "font": {
           "color": "#2a3f5f"
          },
          "geo": {
           "bgcolor": "white",
           "lakecolor": "white",
           "landcolor": "#E5ECF6",
           "showlakes": true,
           "showland": true,
           "subunitcolor": "white"
          },
          "hoverlabel": {
           "align": "left"
          },
          "hovermode": "closest",
          "mapbox": {
           "style": "light"
          },
          "paper_bgcolor": "white",
          "plot_bgcolor": "#E5ECF6",
          "polar": {
           "angularaxis": {
            "gridcolor": "white",
            "linecolor": "white",
            "ticks": ""
           },
           "bgcolor": "#E5ECF6",
           "radialaxis": {
            "gridcolor": "white",
            "linecolor": "white",
            "ticks": ""
           }
          },
          "scene": {
           "xaxis": {
            "backgroundcolor": "#E5ECF6",
            "gridcolor": "white",
            "gridwidth": 2,
            "linecolor": "white",
            "showbackground": true,
            "ticks": "",
            "zerolinecolor": "white"
           },
           "yaxis": {
            "backgroundcolor": "#E5ECF6",
            "gridcolor": "white",
            "gridwidth": 2,
            "linecolor": "white",
            "showbackground": true,
            "ticks": "",
            "zerolinecolor": "white"
           },
           "zaxis": {
            "backgroundcolor": "#E5ECF6",
            "gridcolor": "white",
            "gridwidth": 2,
            "linecolor": "white",
            "showbackground": true,
            "ticks": "",
            "zerolinecolor": "white"
           }
          },
          "shapedefaults": {
           "line": {
            "color": "#2a3f5f"
           }
          },
          "ternary": {
           "aaxis": {
            "gridcolor": "white",
            "linecolor": "white",
            "ticks": ""
           },
           "baxis": {
            "gridcolor": "white",
            "linecolor": "white",
            "ticks": ""
           },
           "bgcolor": "#E5ECF6",
           "caxis": {
            "gridcolor": "white",
            "linecolor": "white",
            "ticks": ""
           }
          },
          "title": {
           "x": 0.05
          },
          "xaxis": {
           "automargin": true,
           "gridcolor": "white",
           "linecolor": "white",
           "ticks": "",
           "title": {
            "standoff": 15
           },
           "zerolinecolor": "white",
           "zerolinewidth": 2
          },
          "yaxis": {
           "automargin": true,
           "gridcolor": "white",
           "linecolor": "white",
           "ticks": "",
           "title": {
            "standoff": 15
           },
           "zerolinecolor": "white",
           "zerolinewidth": 2
          }
         }
        },
        "xaxis": {
         "anchor": "y",
         "domain": [
          0,
          1
         ],
         "showticklabels": false,
         "title": {
          "text": "Weighted Roundtrip Ratio (proportion of nearby rides that start and end at the same station)"
         }
        },
        "yaxis": {
         "anchor": "x",
         "domain": [
          0,
          1
         ],
         "title": {
          "text": "Ratio"
         }
        }
       }
      }
     },
     "metadata": {},
     "output_type": "display_data"
    }
   ],
   "source": [
    "fig = px.bar(open_spaces.sort_values(by='Weighted Roundtrip Ratio'), x='Name', y='Weighted Roundtrip Ratio')\n",
    "fig.update_layout(\n",
    "    xaxis_title='Weighted Roundtrip Ratio (proportion of nearby rides that start and end at the same station)',\n",
    "    yaxis_title='Ratio',\n",
    "    xaxis={\n",
    "    'showticklabels': False,\n",
    "})\n",
    "fig.show()"
   ]
  },
  {
   "cell_type": "markdown",
   "metadata": {},
   "source": [
    "# Hourly Activity Plots"
   ]
  },
  {
   "cell_type": "code",
   "execution_count": 7,
   "metadata": {},
   "outputs": [],
   "source": [
    "TOTAL_DAYS = (datetime.date(2024, 1, 31) - datetime.date(2015, 1, 1)).days + 1\n",
    "TOTAL_WEEKDAYS = TOTAL_DAYS * 5 / 7\n",
    "TOTAL_WEEKENDS = TOTAL_DAYS * 2 / 7\n",
    "HOURS_FORMATTED = [datetime.time(i).strftime('%-I %p') for i in range(24)]"
   ]
  },
  {
   "cell_type": "code",
   "execution_count": 8,
   "metadata": {},
   "outputs": [],
   "source": [
    "def generate_df_by_day_type(df_name, df, station_names):\n",
    "    day_corrector = TOTAL_WEEKDAYS if df_name == 'weekdays' else TOTAL_WEEKENDS\n",
    "    started = df.loc[df['start_station_name'].isin(station_names)]\n",
    "    ended = df.loc[df['end_station_name'].isin(station_names)]\n",
    "\n",
    "    departures = pd.DataFrame(columns=['Time', 'Trips', 'Day Type', 'Trip Type'])\n",
    "    departures['Time'] = np.linspace(7.5, 352.5, 24)\n",
    "    departures['Day Type'] = df_name.title()\n",
    "    arrivals = departures.copy()\n",
    "\n",
    "    b1 = np.histogram([t.hour for t in started['started_at'].dt.time], bins=range(25))[0] / day_corrector\n",
    "    b2 = np.histogram([t.hour for t in ended['ended_at'].dt.time], bins=range(25))[0] / day_corrector\n",
    "    departures['Trips'] = b1\n",
    "    departures['Trip Type'] = 'Departures'\n",
    "    arrivals['Trips'] = b2\n",
    "    arrivals['Trip Type'] = 'Arrivals'\n",
    "    return [departures, arrivals]"
   ]
  },
  {
   "cell_type": "code",
   "execution_count": 9,
   "metadata": {},
   "outputs": [],
   "source": [
    "def plot_activity(open_space):\n",
    "    station_names = get_nearest_stations(open_space, verbose=True)\n",
    "    if len(station_names) == 0:\n",
    "        return\n",
    "    selected_stations = combined_trips.loc[(combined_trips['start_station_name'].isin(station_names)) | (combined_trips['end_station_name'].isin(station_names))]\n",
    "    weekday = selected_stations.loc[selected_stations['ended_at'].dt.day_of_week < 5]\n",
    "    weekend = selected_stations.loc[selected_stations['ended_at'].dt.day_of_week >= 5]\n",
    "    \n",
    "    temp_data = []\n",
    "    for w in ['weekday', 'weekend']:\n",
    "        temp_data.extend(generate_df_by_day_type(w, eval(w), station_names))\n",
    "    \n",
    "    fig = px.line_polar(pd.concat(temp_data), 'Trips', 'Time', 'Day Type', 'Trip Type', hover_data={\n",
    "        'Trips': ':.2f',\n",
    "        'Time': False\n",
    "    }, line_close=True, start_angle=270, width=600, height=500)\n",
    "    fig.update_layout(\n",
    "        title=f'Hourly Bluebike Trips Near {open_space}',\n",
    "        polar={\n",
    "            'angularaxis': {\n",
    "                'tickmode': 'array',\n",
    "                'tickvals': np.linspace(0, 345, 24),\n",
    "                'ticktext': HOURS_FORMATTED\n",
    "            }\n",
    "        },\n",
    "        legend_title_text=''\n",
    "    )\n",
    "    fig.show()"
   ]
  },
  {
   "cell_type": "code",
   "execution_count": 10,
   "metadata": {},
   "outputs": [
    {
     "name": "stdout",
     "output_type": "stream",
     "text": [
      "2 nearest stations to Ringgold Park: Washington St at Waltham St, Tremont St at E Berkeley St\n"
     ]
    },
    {
     "name": "stderr",
     "output_type": "stream",
     "text": [
      "/Users/henrywu/opt/anaconda3/lib/python3.9/site-packages/plotly/express/_core.py:271: FutureWarning:\n",
      "\n",
      "The frame.append method is deprecated and will be removed from pandas in a future version. Use pandas.concat instead.\n",
      "\n",
      "/Users/henrywu/opt/anaconda3/lib/python3.9/site-packages/plotly/express/_core.py:271: FutureWarning:\n",
      "\n",
      "The frame.append method is deprecated and will be removed from pandas in a future version. Use pandas.concat instead.\n",
      "\n",
      "/Users/henrywu/opt/anaconda3/lib/python3.9/site-packages/plotly/express/_core.py:271: FutureWarning:\n",
      "\n",
      "The frame.append method is deprecated and will be removed from pandas in a future version. Use pandas.concat instead.\n",
      "\n",
      "/Users/henrywu/opt/anaconda3/lib/python3.9/site-packages/plotly/express/_core.py:271: FutureWarning:\n",
      "\n",
      "The frame.append method is deprecated and will be removed from pandas in a future version. Use pandas.concat instead.\n",
      "\n"
     ]
    },
    {
     "data": {
      "application/vnd.plotly.v1+json": {
       "config": {
        "plotlyServerURL": "https://plot.ly"
       },
       "data": [
        {
         "customdata": [
          [
           1.7457805907172996,
           7.5
          ],
          [
           1.2109704641350212,
           22.5
          ],
          [
           0.9135021097046413,
           37.5
          ],
          [
           0.5073839662447257,
           52.5
          ],
          [
           0.31329113924050633,
           67.5
          ],
          [
           1.6476793248945147,
           82.5
          ],
          [
           4.132911392405063,
           97.5
          ],
          [
           9.80168776371308,
           112.5
          ],
          [
           11.276371308016877,
           127.5
          ],
          [
           5.590717299578059,
           142.5
          ],
          [
           4.006329113924051,
           157.5
          ],
          [
           5.040084388185654,
           172.5
          ],
          [
           6.612869198312236,
           187.5
          ],
          [
           5.406118143459915,
           202.5
          ],
          [
           4.331223628691983,
           217.5
          ],
          [
           4.608649789029536,
           232.5
          ],
          [
           6.54957805907173,
           247.5
          ],
          [
           9.455696202531646,
           262.5
          ],
          [
           8.08860759493671,
           277.5
          ],
          [
           6.10126582278481,
           292.5
          ],
          [
           5.017932489451477,
           307.5
          ],
          [
           5.122362869198312,
           322.5
          ],
          [
           4.7141350210970465,
           337.5
          ],
          [
           3.060126582278481,
           352.5
          ],
          [
           1.7457805907172996,
           7.5
          ]
         ],
         "hovertemplate": "Day Type=Weekday<br>Trip Type=Departures<br>Trips=%{customdata[0]:.2f}<extra></extra>",
         "legendgroup": "Weekday, Departures",
         "line": {
          "color": "#636efa",
          "dash": "solid"
         },
         "marker": {
          "symbol": "circle"
         },
         "mode": "lines",
         "name": "Weekday, Departures",
         "r": [
          1.7457805907172996,
          1.2109704641350212,
          0.9135021097046413,
          0.5073839662447257,
          0.31329113924050633,
          1.6476793248945147,
          4.132911392405063,
          9.80168776371308,
          11.276371308016877,
          5.590717299578059,
          4.006329113924051,
          5.040084388185654,
          6.612869198312236,
          5.406118143459915,
          4.331223628691983,
          4.608649789029536,
          6.54957805907173,
          9.455696202531646,
          8.08860759493671,
          6.10126582278481,
          5.017932489451477,
          5.122362869198312,
          4.7141350210970465,
          3.060126582278481,
          1.7457805907172996
         ],
         "showlegend": true,
         "subplot": "polar",
         "theta": [
          7.5,
          22.5,
          37.5,
          52.5,
          67.5,
          82.5,
          97.5,
          112.5,
          127.5,
          142.5,
          157.5,
          172.5,
          187.5,
          202.5,
          217.5,
          232.5,
          247.5,
          262.5,
          277.5,
          292.5,
          307.5,
          322.5,
          337.5,
          352.5,
          7.5
         ],
         "type": "scatterpolar"
        },
        {
         "customdata": [
          [
           2.028481012658228,
           7.5
          ],
          [
           1.1529535864978904,
           22.5
          ],
          [
           0.880801687763713,
           37.5
          ],
          [
           0.49683544303797467,
           52.5
          ],
          [
           0.31751054852320676,
           67.5
          ],
          [
           0.5263713080168776,
           82.5
          ],
          [
           1.1962025316455696,
           97.5
          ],
          [
           2.6255274261603376,
           112.5
          ],
          [
           4.993670886075949,
           127.5
          ],
          [
           4.140295358649789,
           142.5
          ],
          [
           2.5126582278481013,
           157.5
          ],
          [
           3.6487341772151898,
           172.5
          ],
          [
           4.976793248945148,
           187.5
          ],
          [
           4.703586497890296,
           202.5
          ],
          [
           4.8386075949367084,
           217.5
          ],
          [
           6.197257383966245,
           232.5
          ],
          [
           9.754219409282701,
           247.5
          ],
          [
           16.7710970464135,
           262.5
          ],
          [
           12.945147679324894,
           277.5
          ],
          [
           8.717299578059071,
           292.5
          ],
          [
           6.095991561181434,
           307.5
          ],
          [
           6.386075949367089,
           322.5
          ],
          [
           5.94198312236287,
           337.5
          ],
          [
           4.140295358649789,
           352.5
          ],
          [
           2.028481012658228,
           7.5
          ]
         ],
         "hovertemplate": "Day Type=Weekday<br>Trip Type=Arrivals<br>Trips=%{customdata[0]:.2f}<extra></extra>",
         "legendgroup": "Weekday, Arrivals",
         "line": {
          "color": "#636efa",
          "dash": "dot"
         },
         "marker": {
          "symbol": "circle"
         },
         "mode": "lines",
         "name": "Weekday, Arrivals",
         "r": [
          2.028481012658228,
          1.1529535864978904,
          0.880801687763713,
          0.49683544303797467,
          0.31751054852320676,
          0.5263713080168776,
          1.1962025316455696,
          2.6255274261603376,
          4.993670886075949,
          4.140295358649789,
          2.5126582278481013,
          3.6487341772151898,
          4.976793248945148,
          4.703586497890296,
          4.8386075949367084,
          6.197257383966245,
          9.754219409282701,
          16.7710970464135,
          12.945147679324894,
          8.717299578059071,
          6.095991561181434,
          6.386075949367089,
          5.94198312236287,
          4.140295358649789,
          2.028481012658228
         ],
         "showlegend": true,
         "subplot": "polar",
         "theta": [
          7.5,
          22.5,
          37.5,
          52.5,
          67.5,
          82.5,
          97.5,
          112.5,
          127.5,
          142.5,
          157.5,
          172.5,
          187.5,
          202.5,
          217.5,
          232.5,
          247.5,
          262.5,
          277.5,
          292.5,
          307.5,
          322.5,
          337.5,
          352.5,
          7.5
         ],
         "type": "scatterpolar"
        },
        {
         "customdata": [
          [
           1.089662447257384,
           7.5
          ],
          [
           0.8765822784810127,
           22.5
          ],
          [
           0.7415611814345991,
           37.5
          ],
          [
           0.5748945147679325,
           52.5
          ],
          [
           0.39451476793248946,
           67.5
          ],
          [
           0.3755274261603376,
           82.5
          ],
          [
           0.6023206751054853,
           97.5
          ],
          [
           0.6065400843881856,
           112.5
          ],
          [
           0.8639240506329114,
           127.5
          ],
          [
           1.410337552742616,
           142.5
          ],
          [
           2.1529535864978904,
           157.5
          ],
          [
           2.619198312236287,
           172.5
          ],
          [
           3.1371308016877637,
           187.5
          ],
          [
           3.4862869198312234,
           202.5
          ],
          [
           3.180379746835443,
           217.5
          ],
          [
           3.4029535864978904,
           232.5
          ],
          [
           3.2974683544303796,
           247.5
          ],
          [
           2.871308016877637,
           262.5
          ],
          [
           2.5316455696202533,
           277.5
          ],
          [
           2.3987341772151898,
           292.5
          ],
          [
           1.9746835443037976,
           307.5
          ],
          [
           1.6529535864978904,
           322.5
          ],
          [
           1.5485232067510548,
           337.5
          ],
          [
           1.219409282700422,
           352.5
          ],
          [
           1.089662447257384,
           7.5
          ]
         ],
         "hovertemplate": "Day Type=Weekend<br>Trip Type=Departures<br>Trips=%{customdata[0]:.2f}<extra></extra>",
         "legendgroup": "Weekend, Departures",
         "line": {
          "color": "#EF553B",
          "dash": "solid"
         },
         "marker": {
          "symbol": "circle"
         },
         "mode": "lines",
         "name": "Weekend, Departures",
         "r": [
          1.089662447257384,
          0.8765822784810127,
          0.7415611814345991,
          0.5748945147679325,
          0.39451476793248946,
          0.3755274261603376,
          0.6023206751054853,
          0.6065400843881856,
          0.8639240506329114,
          1.410337552742616,
          2.1529535864978904,
          2.619198312236287,
          3.1371308016877637,
          3.4862869198312234,
          3.180379746835443,
          3.4029535864978904,
          3.2974683544303796,
          2.871308016877637,
          2.5316455696202533,
          2.3987341772151898,
          1.9746835443037976,
          1.6529535864978904,
          1.5485232067510548,
          1.219409282700422,
          1.089662447257384
         ],
         "showlegend": true,
         "subplot": "polar",
         "theta": [
          7.5,
          22.5,
          37.5,
          52.5,
          67.5,
          82.5,
          97.5,
          112.5,
          127.5,
          142.5,
          157.5,
          172.5,
          187.5,
          202.5,
          217.5,
          232.5,
          247.5,
          262.5,
          277.5,
          292.5,
          307.5,
          322.5,
          337.5,
          352.5,
          7.5
         ],
         "type": "scatterpolar"
        },
        {
         "customdata": [
          [
           1.1877637130801688,
           7.5
          ],
          [
           0.8438818565400844,
           22.5
          ],
          [
           0.6033755274261603,
           37.5
          ],
          [
           0.47890295358649787,
           52.5
          ],
          [
           0.37130801687763715,
           67.5
          ],
          [
           0.33544303797468356,
           82.5
          ],
          [
           0.23417721518987342,
           97.5
          ],
          [
           0.4345991561181435,
           112.5
          ],
          [
           0.7795358649789029,
           127.5
          ],
          [
           1.3343881856540085,
           142.5
          ],
          [
           1.9029535864978904,
           157.5
          ],
          [
           2.570675105485232,
           172.5
          ],
          [
           2.8660337552742616,
           187.5
          ],
          [
           2.9535864978902953,
           202.5
          ],
          [
           3.2183544303797467,
           217.5
          ],
          [
           3.361814345991561,
           232.5
          ],
          [
           3.5031645569620253,
           247.5
          ],
          [
           3.2679324894514767,
           262.5
          ],
          [
           3.1360759493670884,
           277.5
          ],
          [
           2.7668776371308015,
           292.5
          ],
          [
           2.2035864978902953,
           307.5
          ],
          [
           1.8955696202531647,
           322.5
          ],
          [
           1.620253164556962,
           337.5
          ],
          [
           1.2573839662447257,
           352.5
          ],
          [
           1.1877637130801688,
           7.5
          ]
         ],
         "hovertemplate": "Day Type=Weekend<br>Trip Type=Arrivals<br>Trips=%{customdata[0]:.2f}<extra></extra>",
         "legendgroup": "Weekend, Arrivals",
         "line": {
          "color": "#EF553B",
          "dash": "dot"
         },
         "marker": {
          "symbol": "circle"
         },
         "mode": "lines",
         "name": "Weekend, Arrivals",
         "r": [
          1.1877637130801688,
          0.8438818565400844,
          0.6033755274261603,
          0.47890295358649787,
          0.37130801687763715,
          0.33544303797468356,
          0.23417721518987342,
          0.4345991561181435,
          0.7795358649789029,
          1.3343881856540085,
          1.9029535864978904,
          2.570675105485232,
          2.8660337552742616,
          2.9535864978902953,
          3.2183544303797467,
          3.361814345991561,
          3.5031645569620253,
          3.2679324894514767,
          3.1360759493670884,
          2.7668776371308015,
          2.2035864978902953,
          1.8955696202531647,
          1.620253164556962,
          1.2573839662447257,
          1.1877637130801688
         ],
         "showlegend": true,
         "subplot": "polar",
         "theta": [
          7.5,
          22.5,
          37.5,
          52.5,
          67.5,
          82.5,
          97.5,
          112.5,
          127.5,
          142.5,
          157.5,
          172.5,
          187.5,
          202.5,
          217.5,
          232.5,
          247.5,
          262.5,
          277.5,
          292.5,
          307.5,
          322.5,
          337.5,
          352.5,
          7.5
         ],
         "type": "scatterpolar"
        }
       ],
       "layout": {
        "height": 500,
        "legend": {
         "title": {
          "text": ""
         },
         "tracegroupgap": 0
        },
        "margin": {
         "t": 60
        },
        "polar": {
         "angularaxis": {
          "direction": "clockwise",
          "rotation": -90,
          "tickmode": "array",
          "ticktext": [
           "12 AM",
           "1 AM",
           "2 AM",
           "3 AM",
           "4 AM",
           "5 AM",
           "6 AM",
           "7 AM",
           "8 AM",
           "9 AM",
           "10 AM",
           "11 AM",
           "12 PM",
           "1 PM",
           "2 PM",
           "3 PM",
           "4 PM",
           "5 PM",
           "6 PM",
           "7 PM",
           "8 PM",
           "9 PM",
           "10 PM",
           "11 PM"
          ],
          "tickvals": [
           0,
           15,
           30,
           45,
           60,
           75,
           90,
           105,
           120,
           135,
           150,
           165,
           180,
           195,
           210,
           225,
           240,
           255,
           270,
           285,
           300,
           315,
           330,
           345
          ]
         },
         "domain": {
          "x": [
           0,
           1
          ],
          "y": [
           0,
           1
          ]
         }
        },
        "template": {
         "data": {
          "bar": [
           {
            "error_x": {
             "color": "#2a3f5f"
            },
            "error_y": {
             "color": "#2a3f5f"
            },
            "marker": {
             "line": {
              "color": "#E5ECF6",
              "width": 0.5
             },
             "pattern": {
              "fillmode": "overlay",
              "size": 10,
              "solidity": 0.2
             }
            },
            "type": "bar"
           }
          ],
          "barpolar": [
           {
            "marker": {
             "line": {
              "color": "#E5ECF6",
              "width": 0.5
             },
             "pattern": {
              "fillmode": "overlay",
              "size": 10,
              "solidity": 0.2
             }
            },
            "type": "barpolar"
           }
          ],
          "carpet": [
           {
            "aaxis": {
             "endlinecolor": "#2a3f5f",
             "gridcolor": "white",
             "linecolor": "white",
             "minorgridcolor": "white",
             "startlinecolor": "#2a3f5f"
            },
            "baxis": {
             "endlinecolor": "#2a3f5f",
             "gridcolor": "white",
             "linecolor": "white",
             "minorgridcolor": "white",
             "startlinecolor": "#2a3f5f"
            },
            "type": "carpet"
           }
          ],
          "choropleth": [
           {
            "colorbar": {
             "outlinewidth": 0,
             "ticks": ""
            },
            "type": "choropleth"
           }
          ],
          "contour": [
           {
            "colorbar": {
             "outlinewidth": 0,
             "ticks": ""
            },
            "colorscale": [
             [
              0,
              "#0d0887"
             ],
             [
              0.1111111111111111,
              "#46039f"
             ],
             [
              0.2222222222222222,
              "#7201a8"
             ],
             [
              0.3333333333333333,
              "#9c179e"
             ],
             [
              0.4444444444444444,
              "#bd3786"
             ],
             [
              0.5555555555555556,
              "#d8576b"
             ],
             [
              0.6666666666666666,
              "#ed7953"
             ],
             [
              0.7777777777777778,
              "#fb9f3a"
             ],
             [
              0.8888888888888888,
              "#fdca26"
             ],
             [
              1,
              "#f0f921"
             ]
            ],
            "type": "contour"
           }
          ],
          "contourcarpet": [
           {
            "colorbar": {
             "outlinewidth": 0,
             "ticks": ""
            },
            "type": "contourcarpet"
           }
          ],
          "heatmap": [
           {
            "colorbar": {
             "outlinewidth": 0,
             "ticks": ""
            },
            "colorscale": [
             [
              0,
              "#0d0887"
             ],
             [
              0.1111111111111111,
              "#46039f"
             ],
             [
              0.2222222222222222,
              "#7201a8"
             ],
             [
              0.3333333333333333,
              "#9c179e"
             ],
             [
              0.4444444444444444,
              "#bd3786"
             ],
             [
              0.5555555555555556,
              "#d8576b"
             ],
             [
              0.6666666666666666,
              "#ed7953"
             ],
             [
              0.7777777777777778,
              "#fb9f3a"
             ],
             [
              0.8888888888888888,
              "#fdca26"
             ],
             [
              1,
              "#f0f921"
             ]
            ],
            "type": "heatmap"
           }
          ],
          "heatmapgl": [
           {
            "colorbar": {
             "outlinewidth": 0,
             "ticks": ""
            },
            "colorscale": [
             [
              0,
              "#0d0887"
             ],
             [
              0.1111111111111111,
              "#46039f"
             ],
             [
              0.2222222222222222,
              "#7201a8"
             ],
             [
              0.3333333333333333,
              "#9c179e"
             ],
             [
              0.4444444444444444,
              "#bd3786"
             ],
             [
              0.5555555555555556,
              "#d8576b"
             ],
             [
              0.6666666666666666,
              "#ed7953"
             ],
             [
              0.7777777777777778,
              "#fb9f3a"
             ],
             [
              0.8888888888888888,
              "#fdca26"
             ],
             [
              1,
              "#f0f921"
             ]
            ],
            "type": "heatmapgl"
           }
          ],
          "histogram": [
           {
            "marker": {
             "pattern": {
              "fillmode": "overlay",
              "size": 10,
              "solidity": 0.2
             }
            },
            "type": "histogram"
           }
          ],
          "histogram2d": [
           {
            "colorbar": {
             "outlinewidth": 0,
             "ticks": ""
            },
            "colorscale": [
             [
              0,
              "#0d0887"
             ],
             [
              0.1111111111111111,
              "#46039f"
             ],
             [
              0.2222222222222222,
              "#7201a8"
             ],
             [
              0.3333333333333333,
              "#9c179e"
             ],
             [
              0.4444444444444444,
              "#bd3786"
             ],
             [
              0.5555555555555556,
              "#d8576b"
             ],
             [
              0.6666666666666666,
              "#ed7953"
             ],
             [
              0.7777777777777778,
              "#fb9f3a"
             ],
             [
              0.8888888888888888,
              "#fdca26"
             ],
             [
              1,
              "#f0f921"
             ]
            ],
            "type": "histogram2d"
           }
          ],
          "histogram2dcontour": [
           {
            "colorbar": {
             "outlinewidth": 0,
             "ticks": ""
            },
            "colorscale": [
             [
              0,
              "#0d0887"
             ],
             [
              0.1111111111111111,
              "#46039f"
             ],
             [
              0.2222222222222222,
              "#7201a8"
             ],
             [
              0.3333333333333333,
              "#9c179e"
             ],
             [
              0.4444444444444444,
              "#bd3786"
             ],
             [
              0.5555555555555556,
              "#d8576b"
             ],
             [
              0.6666666666666666,
              "#ed7953"
             ],
             [
              0.7777777777777778,
              "#fb9f3a"
             ],
             [
              0.8888888888888888,
              "#fdca26"
             ],
             [
              1,
              "#f0f921"
             ]
            ],
            "type": "histogram2dcontour"
           }
          ],
          "mesh3d": [
           {
            "colorbar": {
             "outlinewidth": 0,
             "ticks": ""
            },
            "type": "mesh3d"
           }
          ],
          "parcoords": [
           {
            "line": {
             "colorbar": {
              "outlinewidth": 0,
              "ticks": ""
             }
            },
            "type": "parcoords"
           }
          ],
          "pie": [
           {
            "automargin": true,
            "type": "pie"
           }
          ],
          "scatter": [
           {
            "fillpattern": {
             "fillmode": "overlay",
             "size": 10,
             "solidity": 0.2
            },
            "type": "scatter"
           }
          ],
          "scatter3d": [
           {
            "line": {
             "colorbar": {
              "outlinewidth": 0,
              "ticks": ""
             }
            },
            "marker": {
             "colorbar": {
              "outlinewidth": 0,
              "ticks": ""
             }
            },
            "type": "scatter3d"
           }
          ],
          "scattercarpet": [
           {
            "marker": {
             "colorbar": {
              "outlinewidth": 0,
              "ticks": ""
             }
            },
            "type": "scattercarpet"
           }
          ],
          "scattergeo": [
           {
            "marker": {
             "colorbar": {
              "outlinewidth": 0,
              "ticks": ""
             }
            },
            "type": "scattergeo"
           }
          ],
          "scattergl": [
           {
            "marker": {
             "colorbar": {
              "outlinewidth": 0,
              "ticks": ""
             }
            },
            "type": "scattergl"
           }
          ],
          "scattermapbox": [
           {
            "marker": {
             "colorbar": {
              "outlinewidth": 0,
              "ticks": ""
             }
            },
            "type": "scattermapbox"
           }
          ],
          "scatterpolar": [
           {
            "marker": {
             "colorbar": {
              "outlinewidth": 0,
              "ticks": ""
             }
            },
            "type": "scatterpolar"
           }
          ],
          "scatterpolargl": [
           {
            "marker": {
             "colorbar": {
              "outlinewidth": 0,
              "ticks": ""
             }
            },
            "type": "scatterpolargl"
           }
          ],
          "scatterternary": [
           {
            "marker": {
             "colorbar": {
              "outlinewidth": 0,
              "ticks": ""
             }
            },
            "type": "scatterternary"
           }
          ],
          "surface": [
           {
            "colorbar": {
             "outlinewidth": 0,
             "ticks": ""
            },
            "colorscale": [
             [
              0,
              "#0d0887"
             ],
             [
              0.1111111111111111,
              "#46039f"
             ],
             [
              0.2222222222222222,
              "#7201a8"
             ],
             [
              0.3333333333333333,
              "#9c179e"
             ],
             [
              0.4444444444444444,
              "#bd3786"
             ],
             [
              0.5555555555555556,
              "#d8576b"
             ],
             [
              0.6666666666666666,
              "#ed7953"
             ],
             [
              0.7777777777777778,
              "#fb9f3a"
             ],
             [
              0.8888888888888888,
              "#fdca26"
             ],
             [
              1,
              "#f0f921"
             ]
            ],
            "type": "surface"
           }
          ],
          "table": [
           {
            "cells": {
             "fill": {
              "color": "#EBF0F8"
             },
             "line": {
              "color": "white"
             }
            },
            "header": {
             "fill": {
              "color": "#C8D4E3"
             },
             "line": {
              "color": "white"
             }
            },
            "type": "table"
           }
          ]
         },
         "layout": {
          "annotationdefaults": {
           "arrowcolor": "#2a3f5f",
           "arrowhead": 0,
           "arrowwidth": 1
          },
          "autotypenumbers": "strict",
          "coloraxis": {
           "colorbar": {
            "outlinewidth": 0,
            "ticks": ""
           }
          },
          "colorscale": {
           "diverging": [
            [
             0,
             "#8e0152"
            ],
            [
             0.1,
             "#c51b7d"
            ],
            [
             0.2,
             "#de77ae"
            ],
            [
             0.3,
             "#f1b6da"
            ],
            [
             0.4,
             "#fde0ef"
            ],
            [
             0.5,
             "#f7f7f7"
            ],
            [
             0.6,
             "#e6f5d0"
            ],
            [
             0.7,
             "#b8e186"
            ],
            [
             0.8,
             "#7fbc41"
            ],
            [
             0.9,
             "#4d9221"
            ],
            [
             1,
             "#276419"
            ]
           ],
           "sequential": [
            [
             0,
             "#0d0887"
            ],
            [
             0.1111111111111111,
             "#46039f"
            ],
            [
             0.2222222222222222,
             "#7201a8"
            ],
            [
             0.3333333333333333,
             "#9c179e"
            ],
            [
             0.4444444444444444,
             "#bd3786"
            ],
            [
             0.5555555555555556,
             "#d8576b"
            ],
            [
             0.6666666666666666,
             "#ed7953"
            ],
            [
             0.7777777777777778,
             "#fb9f3a"
            ],
            [
             0.8888888888888888,
             "#fdca26"
            ],
            [
             1,
             "#f0f921"
            ]
           ],
           "sequentialminus": [
            [
             0,
             "#0d0887"
            ],
            [
             0.1111111111111111,
             "#46039f"
            ],
            [
             0.2222222222222222,
             "#7201a8"
            ],
            [
             0.3333333333333333,
             "#9c179e"
            ],
            [
             0.4444444444444444,
             "#bd3786"
            ],
            [
             0.5555555555555556,
             "#d8576b"
            ],
            [
             0.6666666666666666,
             "#ed7953"
            ],
            [
             0.7777777777777778,
             "#fb9f3a"
            ],
            [
             0.8888888888888888,
             "#fdca26"
            ],
            [
             1,
             "#f0f921"
            ]
           ]
          },
          "colorway": [
           "#636efa",
           "#EF553B",
           "#00cc96",
           "#ab63fa",
           "#FFA15A",
           "#19d3f3",
           "#FF6692",
           "#B6E880",
           "#FF97FF",
           "#FECB52"
          ],
          "font": {
           "color": "#2a3f5f"
          },
          "geo": {
           "bgcolor": "white",
           "lakecolor": "white",
           "landcolor": "#E5ECF6",
           "showlakes": true,
           "showland": true,
           "subunitcolor": "white"
          },
          "hoverlabel": {
           "align": "left"
          },
          "hovermode": "closest",
          "mapbox": {
           "style": "light"
          },
          "paper_bgcolor": "white",
          "plot_bgcolor": "#E5ECF6",
          "polar": {
           "angularaxis": {
            "gridcolor": "white",
            "linecolor": "white",
            "ticks": ""
           },
           "bgcolor": "#E5ECF6",
           "radialaxis": {
            "gridcolor": "white",
            "linecolor": "white",
            "ticks": ""
           }
          },
          "scene": {
           "xaxis": {
            "backgroundcolor": "#E5ECF6",
            "gridcolor": "white",
            "gridwidth": 2,
            "linecolor": "white",
            "showbackground": true,
            "ticks": "",
            "zerolinecolor": "white"
           },
           "yaxis": {
            "backgroundcolor": "#E5ECF6",
            "gridcolor": "white",
            "gridwidth": 2,
            "linecolor": "white",
            "showbackground": true,
            "ticks": "",
            "zerolinecolor": "white"
           },
           "zaxis": {
            "backgroundcolor": "#E5ECF6",
            "gridcolor": "white",
            "gridwidth": 2,
            "linecolor": "white",
            "showbackground": true,
            "ticks": "",
            "zerolinecolor": "white"
           }
          },
          "shapedefaults": {
           "line": {
            "color": "#2a3f5f"
           }
          },
          "ternary": {
           "aaxis": {
            "gridcolor": "white",
            "linecolor": "white",
            "ticks": ""
           },
           "baxis": {
            "gridcolor": "white",
            "linecolor": "white",
            "ticks": ""
           },
           "bgcolor": "#E5ECF6",
           "caxis": {
            "gridcolor": "white",
            "linecolor": "white",
            "ticks": ""
           }
          },
          "title": {
           "x": 0.05
          },
          "xaxis": {
           "automargin": true,
           "gridcolor": "white",
           "linecolor": "white",
           "ticks": "",
           "title": {
            "standoff": 15
           },
           "zerolinecolor": "white",
           "zerolinewidth": 2
          },
          "yaxis": {
           "automargin": true,
           "gridcolor": "white",
           "linecolor": "white",
           "ticks": "",
           "title": {
            "standoff": 15
           },
           "zerolinecolor": "white",
           "zerolinewidth": 2
          }
         }
        },
        "title": {
         "text": "Hourly Bluebike Trips Near Ringgold Park"
        },
        "width": 600
       }
      }
     },
     "metadata": {},
     "output_type": "display_data"
    },
    {
     "name": "stdout",
     "output_type": "stream",
     "text": [
      "No stations within 0.3 km of Ernst Chery Jr. Playground\n",
      "No stations within 0.3 km of McMorrow Playground\n",
      "No stations within 0.3 km of Dorchester Heights NHS\n",
      "No stations within 0.3 km of West Roxbury Parkway\n",
      "1 nearest station to Smith Playground: 175 N Harvard St\n"
     ]
    },
    {
     "name": "stderr",
     "output_type": "stream",
     "text": [
      "/Users/henrywu/opt/anaconda3/lib/python3.9/site-packages/plotly/express/_core.py:271: FutureWarning:\n",
      "\n",
      "The frame.append method is deprecated and will be removed from pandas in a future version. Use pandas.concat instead.\n",
      "\n",
      "/Users/henrywu/opt/anaconda3/lib/python3.9/site-packages/plotly/express/_core.py:271: FutureWarning:\n",
      "\n",
      "The frame.append method is deprecated and will be removed from pandas in a future version. Use pandas.concat instead.\n",
      "\n",
      "/Users/henrywu/opt/anaconda3/lib/python3.9/site-packages/plotly/express/_core.py:271: FutureWarning:\n",
      "\n",
      "The frame.append method is deprecated and will be removed from pandas in a future version. Use pandas.concat instead.\n",
      "\n",
      "/Users/henrywu/opt/anaconda3/lib/python3.9/site-packages/plotly/express/_core.py:271: FutureWarning:\n",
      "\n",
      "The frame.append method is deprecated and will be removed from pandas in a future version. Use pandas.concat instead.\n",
      "\n"
     ]
    },
    {
     "data": {
      "application/vnd.plotly.v1+json": {
       "config": {
        "plotlyServerURL": "https://plot.ly"
       },
       "data": [
        {
         "customdata": [
          [
           1.4314345991561181,
           7.5
          ],
          [
           0.7489451476793249,
           22.5
          ],
          [
           0.5453586497890295,
           37.5
          ],
          [
           0.27637130801687765,
           52.5
          ],
          [
           0.2320675105485232,
           67.5
          ],
          [
           0.2141350210970464,
           82.5
          ],
          [
           0.6118143459915611,
           97.5
          ],
          [
           2.217299578059072,
           112.5
          ],
          [
           4.693037974683544,
           127.5
          ],
          [
           2.7932489451476794,
           142.5
          ],
          [
           2.339662447257384,
           157.5
          ],
          [
           2.7668776371308015,
           172.5
          ],
          [
           2.9915611814345993,
           187.5
          ],
          [
           3.0970464135021096,
           202.5
          ],
          [
           3.0569620253164556,
           217.5
          ],
          [
           3.4567510548523206,
           232.5
          ],
          [
           4.14662447257384,
           247.5
          ],
          [
           5.434599156118144,
           262.5
          ],
          [
           5.14873417721519,
           277.5
          ],
          [
           4.6761603375527425,
           292.5
          ],
          [
           3.850210970464135,
           307.5
          ],
          [
           3.378691983122363,
           322.5
          ],
          [
           3.25,
           337.5
          ],
          [
           2.4367088607594938,
           352.5
          ],
          [
           1.4314345991561181,
           7.5
          ]
         ],
         "hovertemplate": "Day Type=Weekday<br>Trip Type=Departures<br>Trips=%{customdata[0]:.2f}<extra></extra>",
         "legendgroup": "Weekday, Departures",
         "line": {
          "color": "#636efa",
          "dash": "solid"
         },
         "marker": {
          "symbol": "circle"
         },
         "mode": "lines",
         "name": "Weekday, Departures",
         "r": [
          1.4314345991561181,
          0.7489451476793249,
          0.5453586497890295,
          0.27637130801687765,
          0.2320675105485232,
          0.2141350210970464,
          0.6118143459915611,
          2.217299578059072,
          4.693037974683544,
          2.7932489451476794,
          2.339662447257384,
          2.7668776371308015,
          2.9915611814345993,
          3.0970464135021096,
          3.0569620253164556,
          3.4567510548523206,
          4.14662447257384,
          5.434599156118144,
          5.14873417721519,
          4.6761603375527425,
          3.850210970464135,
          3.378691983122363,
          3.25,
          2.4367088607594938,
          1.4314345991561181
         ],
         "showlegend": true,
         "subplot": "polar",
         "theta": [
          7.5,
          22.5,
          37.5,
          52.5,
          67.5,
          82.5,
          97.5,
          112.5,
          127.5,
          142.5,
          157.5,
          172.5,
          187.5,
          202.5,
          217.5,
          232.5,
          247.5,
          262.5,
          277.5,
          292.5,
          307.5,
          322.5,
          337.5,
          352.5,
          7.5
         ],
         "type": "scatterpolar"
        },
        {
         "customdata": [
          [
           1.6012658227848102,
           7.5
          ],
          [
           0.9968354430379747,
           22.5
          ],
          [
           0.680379746835443,
           37.5
          ],
          [
           0.5274261603375527,
           52.5
          ],
          [
           0.34282700421940926,
           67.5
          ],
          [
           0.46835443037974683,
           82.5
          ],
          [
           0.9651898734177216,
           97.5
          ],
          [
           1.3027426160337552,
           112.5
          ],
          [
           2.178270042194093,
           127.5
          ],
          [
           2.521097046413502,
           142.5
          ],
          [
           2.20042194092827,
           157.5
          ],
          [
           2.19831223628692,
           172.5
          ],
          [
           2.8554852320675104,
           187.5
          ],
          [
           3.228902953586498,
           202.5
          ],
          [
           3.3164556962025316,
           217.5
          ],
          [
           3.7130801687763713,
           232.5
          ],
          [
           4.462025316455696,
           247.5
          ],
          [
           6.511603375527426,
           262.5
          ],
          [
           6.627637130801688,
           277.5
          ],
          [
           5.09915611814346,
           292.5
          ],
          [
           4.3354430379746836,
           307.5
          ],
          [
           3.7489451476793247,
           322.5
          ],
          [
           3.4050632911392404,
           337.5
          ],
          [
           2.5474683544303796,
           352.5
          ],
          [
           1.6012658227848102,
           7.5
          ]
         ],
         "hovertemplate": "Day Type=Weekday<br>Trip Type=Arrivals<br>Trips=%{customdata[0]:.2f}<extra></extra>",
         "legendgroup": "Weekday, Arrivals",
         "line": {
          "color": "#636efa",
          "dash": "dot"
         },
         "marker": {
          "symbol": "circle"
         },
         "mode": "lines",
         "name": "Weekday, Arrivals",
         "r": [
          1.6012658227848102,
          0.9968354430379747,
          0.680379746835443,
          0.5274261603375527,
          0.34282700421940926,
          0.46835443037974683,
          0.9651898734177216,
          1.3027426160337552,
          2.178270042194093,
          2.521097046413502,
          2.20042194092827,
          2.19831223628692,
          2.8554852320675104,
          3.228902953586498,
          3.3164556962025316,
          3.7130801687763713,
          4.462025316455696,
          6.511603375527426,
          6.627637130801688,
          5.09915611814346,
          4.3354430379746836,
          3.7489451476793247,
          3.4050632911392404,
          2.5474683544303796,
          1.6012658227848102
         ],
         "showlegend": true,
         "subplot": "polar",
         "theta": [
          7.5,
          22.5,
          37.5,
          52.5,
          67.5,
          82.5,
          97.5,
          112.5,
          127.5,
          142.5,
          157.5,
          172.5,
          187.5,
          202.5,
          217.5,
          232.5,
          247.5,
          262.5,
          277.5,
          292.5,
          307.5,
          322.5,
          337.5,
          352.5,
          7.5
         ],
         "type": "scatterpolar"
        },
        {
         "customdata": [
          [
           0.7172995780590717,
           7.5
          ],
          [
           0.41561181434599154,
           22.5
          ],
          [
           0.36603375527426163,
           37.5
          ],
          [
           0.1909282700421941,
           52.5
          ],
          [
           0.10548523206751055,
           67.5
          ],
          [
           0.1308016877637131,
           82.5
          ],
          [
           0.12552742616033755,
           97.5
          ],
          [
           0.21624472573839662,
           112.5
          ],
          [
           0.4166666666666667,
           127.5
          ],
          [
           0.8175105485232067,
           142.5
          ],
          [
           1.1867088607594938,
           157.5
          ],
          [
           1.6139240506329113,
           172.5
          ],
          [
           1.8238396624472575,
           187.5
          ],
          [
           1.9345991561181435,
           202.5
          ],
          [
           2.1244725738396624,
           217.5
          ],
          [
           2.3607594936708862,
           232.5
          ],
          [
           2.3565400843881856,
           247.5
          ],
          [
           2.0970464135021096,
           262.5
          ],
          [
           2.1930379746835444,
           277.5
          ],
          [
           1.9398734177215189,
           292.5
          ],
          [
           1.5780590717299579,
           307.5
          ],
          [
           1.2668776371308017,
           322.5
          ],
          [
           1.0759493670886076,
           337.5
          ],
          [
           0.8354430379746836,
           352.5
          ],
          [
           0.7172995780590717,
           7.5
          ]
         ],
         "hovertemplate": "Day Type=Weekend<br>Trip Type=Departures<br>Trips=%{customdata[0]:.2f}<extra></extra>",
         "legendgroup": "Weekend, Departures",
         "line": {
          "color": "#EF553B",
          "dash": "solid"
         },
         "marker": {
          "symbol": "circle"
         },
         "mode": "lines",
         "name": "Weekend, Departures",
         "r": [
          0.7172995780590717,
          0.41561181434599154,
          0.36603375527426163,
          0.1909282700421941,
          0.10548523206751055,
          0.1308016877637131,
          0.12552742616033755,
          0.21624472573839662,
          0.4166666666666667,
          0.8175105485232067,
          1.1867088607594938,
          1.6139240506329113,
          1.8238396624472575,
          1.9345991561181435,
          2.1244725738396624,
          2.3607594936708862,
          2.3565400843881856,
          2.0970464135021096,
          2.1930379746835444,
          1.9398734177215189,
          1.5780590717299579,
          1.2668776371308017,
          1.0759493670886076,
          0.8354430379746836,
          0.7172995780590717
         ],
         "showlegend": true,
         "subplot": "polar",
         "theta": [
          7.5,
          22.5,
          37.5,
          52.5,
          67.5,
          82.5,
          97.5,
          112.5,
          127.5,
          142.5,
          157.5,
          172.5,
          187.5,
          202.5,
          217.5,
          232.5,
          247.5,
          262.5,
          277.5,
          292.5,
          307.5,
          322.5,
          337.5,
          352.5,
          7.5
         ],
         "type": "scatterpolar"
        },
        {
         "customdata": [
          [
           0.8966244725738397,
           7.5
          ],
          [
           0.5727848101265823,
           22.5
          ],
          [
           0.39556962025316456,
           37.5
          ],
          [
           0.2848101265822785,
           52.5
          ],
          [
           0.24261603375527427,
           67.5
          ],
          [
           0.25,
           82.5
          ],
          [
           0.2478902953586498,
           97.5
          ],
          [
           0.23734177215189872,
           112.5
          ],
          [
           0.5073839662447257,
           127.5
          ],
          [
           0.8227848101265823,
           142.5
          ],
          [
           1.0611814345991561,
           157.5
          ],
          [
           1.371308016877637,
           172.5
          ],
          [
           1.540084388185654,
           187.5
          ],
          [
           1.8375527426160339,
           202.5
          ],
          [
           2.009493670886076,
           217.5
          ],
          [
           2.2352320675105486,
           232.5
          ],
          [
           2.3987341772151898,
           247.5
          ],
          [
           2.3702531645569622,
           262.5
          ],
          [
           2.2510548523206753,
           277.5
          ],
          [
           1.8818565400843883,
           292.5
          ],
          [
           1.6561181434599157,
           307.5
          ],
          [
           1.369198312236287,
           322.5
          ],
          [
           1.120253164556962,
           337.5
          ],
          [
           0.8544303797468354,
           352.5
          ],
          [
           0.8966244725738397,
           7.5
          ]
         ],
         "hovertemplate": "Day Type=Weekend<br>Trip Type=Arrivals<br>Trips=%{customdata[0]:.2f}<extra></extra>",
         "legendgroup": "Weekend, Arrivals",
         "line": {
          "color": "#EF553B",
          "dash": "dot"
         },
         "marker": {
          "symbol": "circle"
         },
         "mode": "lines",
         "name": "Weekend, Arrivals",
         "r": [
          0.8966244725738397,
          0.5727848101265823,
          0.39556962025316456,
          0.2848101265822785,
          0.24261603375527427,
          0.25,
          0.2478902953586498,
          0.23734177215189872,
          0.5073839662447257,
          0.8227848101265823,
          1.0611814345991561,
          1.371308016877637,
          1.540084388185654,
          1.8375527426160339,
          2.009493670886076,
          2.2352320675105486,
          2.3987341772151898,
          2.3702531645569622,
          2.2510548523206753,
          1.8818565400843883,
          1.6561181434599157,
          1.369198312236287,
          1.120253164556962,
          0.8544303797468354,
          0.8966244725738397
         ],
         "showlegend": true,
         "subplot": "polar",
         "theta": [
          7.5,
          22.5,
          37.5,
          52.5,
          67.5,
          82.5,
          97.5,
          112.5,
          127.5,
          142.5,
          157.5,
          172.5,
          187.5,
          202.5,
          217.5,
          232.5,
          247.5,
          262.5,
          277.5,
          292.5,
          307.5,
          322.5,
          337.5,
          352.5,
          7.5
         ],
         "type": "scatterpolar"
        }
       ],
       "layout": {
        "height": 500,
        "legend": {
         "title": {
          "text": ""
         },
         "tracegroupgap": 0
        },
        "margin": {
         "t": 60
        },
        "polar": {
         "angularaxis": {
          "direction": "clockwise",
          "rotation": -90,
          "tickmode": "array",
          "ticktext": [
           "12 AM",
           "1 AM",
           "2 AM",
           "3 AM",
           "4 AM",
           "5 AM",
           "6 AM",
           "7 AM",
           "8 AM",
           "9 AM",
           "10 AM",
           "11 AM",
           "12 PM",
           "1 PM",
           "2 PM",
           "3 PM",
           "4 PM",
           "5 PM",
           "6 PM",
           "7 PM",
           "8 PM",
           "9 PM",
           "10 PM",
           "11 PM"
          ],
          "tickvals": [
           0,
           15,
           30,
           45,
           60,
           75,
           90,
           105,
           120,
           135,
           150,
           165,
           180,
           195,
           210,
           225,
           240,
           255,
           270,
           285,
           300,
           315,
           330,
           345
          ]
         },
         "domain": {
          "x": [
           0,
           1
          ],
          "y": [
           0,
           1
          ]
         }
        },
        "template": {
         "data": {
          "bar": [
           {
            "error_x": {
             "color": "#2a3f5f"
            },
            "error_y": {
             "color": "#2a3f5f"
            },
            "marker": {
             "line": {
              "color": "#E5ECF6",
              "width": 0.5
             },
             "pattern": {
              "fillmode": "overlay",
              "size": 10,
              "solidity": 0.2
             }
            },
            "type": "bar"
           }
          ],
          "barpolar": [
           {
            "marker": {
             "line": {
              "color": "#E5ECF6",
              "width": 0.5
             },
             "pattern": {
              "fillmode": "overlay",
              "size": 10,
              "solidity": 0.2
             }
            },
            "type": "barpolar"
           }
          ],
          "carpet": [
           {
            "aaxis": {
             "endlinecolor": "#2a3f5f",
             "gridcolor": "white",
             "linecolor": "white",
             "minorgridcolor": "white",
             "startlinecolor": "#2a3f5f"
            },
            "baxis": {
             "endlinecolor": "#2a3f5f",
             "gridcolor": "white",
             "linecolor": "white",
             "minorgridcolor": "white",
             "startlinecolor": "#2a3f5f"
            },
            "type": "carpet"
           }
          ],
          "choropleth": [
           {
            "colorbar": {
             "outlinewidth": 0,
             "ticks": ""
            },
            "type": "choropleth"
           }
          ],
          "contour": [
           {
            "colorbar": {
             "outlinewidth": 0,
             "ticks": ""
            },
            "colorscale": [
             [
              0,
              "#0d0887"
             ],
             [
              0.1111111111111111,
              "#46039f"
             ],
             [
              0.2222222222222222,
              "#7201a8"
             ],
             [
              0.3333333333333333,
              "#9c179e"
             ],
             [
              0.4444444444444444,
              "#bd3786"
             ],
             [
              0.5555555555555556,
              "#d8576b"
             ],
             [
              0.6666666666666666,
              "#ed7953"
             ],
             [
              0.7777777777777778,
              "#fb9f3a"
             ],
             [
              0.8888888888888888,
              "#fdca26"
             ],
             [
              1,
              "#f0f921"
             ]
            ],
            "type": "contour"
           }
          ],
          "contourcarpet": [
           {
            "colorbar": {
             "outlinewidth": 0,
             "ticks": ""
            },
            "type": "contourcarpet"
           }
          ],
          "heatmap": [
           {
            "colorbar": {
             "outlinewidth": 0,
             "ticks": ""
            },
            "colorscale": [
             [
              0,
              "#0d0887"
             ],
             [
              0.1111111111111111,
              "#46039f"
             ],
             [
              0.2222222222222222,
              "#7201a8"
             ],
             [
              0.3333333333333333,
              "#9c179e"
             ],
             [
              0.4444444444444444,
              "#bd3786"
             ],
             [
              0.5555555555555556,
              "#d8576b"
             ],
             [
              0.6666666666666666,
              "#ed7953"
             ],
             [
              0.7777777777777778,
              "#fb9f3a"
             ],
             [
              0.8888888888888888,
              "#fdca26"
             ],
             [
              1,
              "#f0f921"
             ]
            ],
            "type": "heatmap"
           }
          ],
          "heatmapgl": [
           {
            "colorbar": {
             "outlinewidth": 0,
             "ticks": ""
            },
            "colorscale": [
             [
              0,
              "#0d0887"
             ],
             [
              0.1111111111111111,
              "#46039f"
             ],
             [
              0.2222222222222222,
              "#7201a8"
             ],
             [
              0.3333333333333333,
              "#9c179e"
             ],
             [
              0.4444444444444444,
              "#bd3786"
             ],
             [
              0.5555555555555556,
              "#d8576b"
             ],
             [
              0.6666666666666666,
              "#ed7953"
             ],
             [
              0.7777777777777778,
              "#fb9f3a"
             ],
             [
              0.8888888888888888,
              "#fdca26"
             ],
             [
              1,
              "#f0f921"
             ]
            ],
            "type": "heatmapgl"
           }
          ],
          "histogram": [
           {
            "marker": {
             "pattern": {
              "fillmode": "overlay",
              "size": 10,
              "solidity": 0.2
             }
            },
            "type": "histogram"
           }
          ],
          "histogram2d": [
           {
            "colorbar": {
             "outlinewidth": 0,
             "ticks": ""
            },
            "colorscale": [
             [
              0,
              "#0d0887"
             ],
             [
              0.1111111111111111,
              "#46039f"
             ],
             [
              0.2222222222222222,
              "#7201a8"
             ],
             [
              0.3333333333333333,
              "#9c179e"
             ],
             [
              0.4444444444444444,
              "#bd3786"
             ],
             [
              0.5555555555555556,
              "#d8576b"
             ],
             [
              0.6666666666666666,
              "#ed7953"
             ],
             [
              0.7777777777777778,
              "#fb9f3a"
             ],
             [
              0.8888888888888888,
              "#fdca26"
             ],
             [
              1,
              "#f0f921"
             ]
            ],
            "type": "histogram2d"
           }
          ],
          "histogram2dcontour": [
           {
            "colorbar": {
             "outlinewidth": 0,
             "ticks": ""
            },
            "colorscale": [
             [
              0,
              "#0d0887"
             ],
             [
              0.1111111111111111,
              "#46039f"
             ],
             [
              0.2222222222222222,
              "#7201a8"
             ],
             [
              0.3333333333333333,
              "#9c179e"
             ],
             [
              0.4444444444444444,
              "#bd3786"
             ],
             [
              0.5555555555555556,
              "#d8576b"
             ],
             [
              0.6666666666666666,
              "#ed7953"
             ],
             [
              0.7777777777777778,
              "#fb9f3a"
             ],
             [
              0.8888888888888888,
              "#fdca26"
             ],
             [
              1,
              "#f0f921"
             ]
            ],
            "type": "histogram2dcontour"
           }
          ],
          "mesh3d": [
           {
            "colorbar": {
             "outlinewidth": 0,
             "ticks": ""
            },
            "type": "mesh3d"
           }
          ],
          "parcoords": [
           {
            "line": {
             "colorbar": {
              "outlinewidth": 0,
              "ticks": ""
             }
            },
            "type": "parcoords"
           }
          ],
          "pie": [
           {
            "automargin": true,
            "type": "pie"
           }
          ],
          "scatter": [
           {
            "fillpattern": {
             "fillmode": "overlay",
             "size": 10,
             "solidity": 0.2
            },
            "type": "scatter"
           }
          ],
          "scatter3d": [
           {
            "line": {
             "colorbar": {
              "outlinewidth": 0,
              "ticks": ""
             }
            },
            "marker": {
             "colorbar": {
              "outlinewidth": 0,
              "ticks": ""
             }
            },
            "type": "scatter3d"
           }
          ],
          "scattercarpet": [
           {
            "marker": {
             "colorbar": {
              "outlinewidth": 0,
              "ticks": ""
             }
            },
            "type": "scattercarpet"
           }
          ],
          "scattergeo": [
           {
            "marker": {
             "colorbar": {
              "outlinewidth": 0,
              "ticks": ""
             }
            },
            "type": "scattergeo"
           }
          ],
          "scattergl": [
           {
            "marker": {
             "colorbar": {
              "outlinewidth": 0,
              "ticks": ""
             }
            },
            "type": "scattergl"
           }
          ],
          "scattermapbox": [
           {
            "marker": {
             "colorbar": {
              "outlinewidth": 0,
              "ticks": ""
             }
            },
            "type": "scattermapbox"
           }
          ],
          "scatterpolar": [
           {
            "marker": {
             "colorbar": {
              "outlinewidth": 0,
              "ticks": ""
             }
            },
            "type": "scatterpolar"
           }
          ],
          "scatterpolargl": [
           {
            "marker": {
             "colorbar": {
              "outlinewidth": 0,
              "ticks": ""
             }
            },
            "type": "scatterpolargl"
           }
          ],
          "scatterternary": [
           {
            "marker": {
             "colorbar": {
              "outlinewidth": 0,
              "ticks": ""
             }
            },
            "type": "scatterternary"
           }
          ],
          "surface": [
           {
            "colorbar": {
             "outlinewidth": 0,
             "ticks": ""
            },
            "colorscale": [
             [
              0,
              "#0d0887"
             ],
             [
              0.1111111111111111,
              "#46039f"
             ],
             [
              0.2222222222222222,
              "#7201a8"
             ],
             [
              0.3333333333333333,
              "#9c179e"
             ],
             [
              0.4444444444444444,
              "#bd3786"
             ],
             [
              0.5555555555555556,
              "#d8576b"
             ],
             [
              0.6666666666666666,
              "#ed7953"
             ],
             [
              0.7777777777777778,
              "#fb9f3a"
             ],
             [
              0.8888888888888888,
              "#fdca26"
             ],
             [
              1,
              "#f0f921"
             ]
            ],
            "type": "surface"
           }
          ],
          "table": [
           {
            "cells": {
             "fill": {
              "color": "#EBF0F8"
             },
             "line": {
              "color": "white"
             }
            },
            "header": {
             "fill": {
              "color": "#C8D4E3"
             },
             "line": {
              "color": "white"
             }
            },
            "type": "table"
           }
          ]
         },
         "layout": {
          "annotationdefaults": {
           "arrowcolor": "#2a3f5f",
           "arrowhead": 0,
           "arrowwidth": 1
          },
          "autotypenumbers": "strict",
          "coloraxis": {
           "colorbar": {
            "outlinewidth": 0,
            "ticks": ""
           }
          },
          "colorscale": {
           "diverging": [
            [
             0,
             "#8e0152"
            ],
            [
             0.1,
             "#c51b7d"
            ],
            [
             0.2,
             "#de77ae"
            ],
            [
             0.3,
             "#f1b6da"
            ],
            [
             0.4,
             "#fde0ef"
            ],
            [
             0.5,
             "#f7f7f7"
            ],
            [
             0.6,
             "#e6f5d0"
            ],
            [
             0.7,
             "#b8e186"
            ],
            [
             0.8,
             "#7fbc41"
            ],
            [
             0.9,
             "#4d9221"
            ],
            [
             1,
             "#276419"
            ]
           ],
           "sequential": [
            [
             0,
             "#0d0887"
            ],
            [
             0.1111111111111111,
             "#46039f"
            ],
            [
             0.2222222222222222,
             "#7201a8"
            ],
            [
             0.3333333333333333,
             "#9c179e"
            ],
            [
             0.4444444444444444,
             "#bd3786"
            ],
            [
             0.5555555555555556,
             "#d8576b"
            ],
            [
             0.6666666666666666,
             "#ed7953"
            ],
            [
             0.7777777777777778,
             "#fb9f3a"
            ],
            [
             0.8888888888888888,
             "#fdca26"
            ],
            [
             1,
             "#f0f921"
            ]
           ],
           "sequentialminus": [
            [
             0,
             "#0d0887"
            ],
            [
             0.1111111111111111,
             "#46039f"
            ],
            [
             0.2222222222222222,
             "#7201a8"
            ],
            [
             0.3333333333333333,
             "#9c179e"
            ],
            [
             0.4444444444444444,
             "#bd3786"
            ],
            [
             0.5555555555555556,
             "#d8576b"
            ],
            [
             0.6666666666666666,
             "#ed7953"
            ],
            [
             0.7777777777777778,
             "#fb9f3a"
            ],
            [
             0.8888888888888888,
             "#fdca26"
            ],
            [
             1,
             "#f0f921"
            ]
           ]
          },
          "colorway": [
           "#636efa",
           "#EF553B",
           "#00cc96",
           "#ab63fa",
           "#FFA15A",
           "#19d3f3",
           "#FF6692",
           "#B6E880",
           "#FF97FF",
           "#FECB52"
          ],
          "font": {
           "color": "#2a3f5f"
          },
          "geo": {
           "bgcolor": "white",
           "lakecolor": "white",
           "landcolor": "#E5ECF6",
           "showlakes": true,
           "showland": true,
           "subunitcolor": "white"
          },
          "hoverlabel": {
           "align": "left"
          },
          "hovermode": "closest",
          "mapbox": {
           "style": "light"
          },
          "paper_bgcolor": "white",
          "plot_bgcolor": "#E5ECF6",
          "polar": {
           "angularaxis": {
            "gridcolor": "white",
            "linecolor": "white",
            "ticks": ""
           },
           "bgcolor": "#E5ECF6",
           "radialaxis": {
            "gridcolor": "white",
            "linecolor": "white",
            "ticks": ""
           }
          },
          "scene": {
           "xaxis": {
            "backgroundcolor": "#E5ECF6",
            "gridcolor": "white",
            "gridwidth": 2,
            "linecolor": "white",
            "showbackground": true,
            "ticks": "",
            "zerolinecolor": "white"
           },
           "yaxis": {
            "backgroundcolor": "#E5ECF6",
            "gridcolor": "white",
            "gridwidth": 2,
            "linecolor": "white",
            "showbackground": true,
            "ticks": "",
            "zerolinecolor": "white"
           },
           "zaxis": {
            "backgroundcolor": "#E5ECF6",
            "gridcolor": "white",
            "gridwidth": 2,
            "linecolor": "white",
            "showbackground": true,
            "ticks": "",
            "zerolinecolor": "white"
           }
          },
          "shapedefaults": {
           "line": {
            "color": "#2a3f5f"
           }
          },
          "ternary": {
           "aaxis": {
            "gridcolor": "white",
            "linecolor": "white",
            "ticks": ""
           },
           "baxis": {
            "gridcolor": "white",
            "linecolor": "white",
            "ticks": ""
           },
           "bgcolor": "#E5ECF6",
           "caxis": {
            "gridcolor": "white",
            "linecolor": "white",
            "ticks": ""
           }
          },
          "title": {
           "x": 0.05
          },
          "xaxis": {
           "automargin": true,
           "gridcolor": "white",
           "linecolor": "white",
           "ticks": "",
           "title": {
            "standoff": 15
           },
           "zerolinecolor": "white",
           "zerolinewidth": 2
          },
          "yaxis": {
           "automargin": true,
           "gridcolor": "white",
           "linecolor": "white",
           "ticks": "",
           "title": {
            "standoff": 15
           },
           "zerolinecolor": "white",
           "zerolinewidth": 2
          }
         }
        },
        "title": {
         "text": "Hourly Bluebike Trips Near Smith Playground"
        },
        "width": 600
       }
      }
     },
     "metadata": {},
     "output_type": "display_data"
    },
    {
     "name": "stdout",
     "output_type": "stream",
     "text": [
      "No stations within 0.3 km of Tunnel Harborwalk\n",
      "No stations within 0.3 km of Forest Hills Cemetery\n",
      "1 nearest station to Navy Fuel Pier Airport Edge Buffer: Porzio Park\n"
     ]
    },
    {
     "name": "stderr",
     "output_type": "stream",
     "text": [
      "/Users/henrywu/opt/anaconda3/lib/python3.9/site-packages/plotly/express/_core.py:271: FutureWarning:\n",
      "\n",
      "The frame.append method is deprecated and will be removed from pandas in a future version. Use pandas.concat instead.\n",
      "\n",
      "/Users/henrywu/opt/anaconda3/lib/python3.9/site-packages/plotly/express/_core.py:271: FutureWarning:\n",
      "\n",
      "The frame.append method is deprecated and will be removed from pandas in a future version. Use pandas.concat instead.\n",
      "\n",
      "/Users/henrywu/opt/anaconda3/lib/python3.9/site-packages/plotly/express/_core.py:271: FutureWarning:\n",
      "\n",
      "The frame.append method is deprecated and will be removed from pandas in a future version. Use pandas.concat instead.\n",
      "\n",
      "/Users/henrywu/opt/anaconda3/lib/python3.9/site-packages/plotly/express/_core.py:271: FutureWarning:\n",
      "\n",
      "The frame.append method is deprecated and will be removed from pandas in a future version. Use pandas.concat instead.\n",
      "\n"
     ]
    },
    {
     "data": {
      "application/vnd.plotly.v1+json": {
       "config": {
        "plotlyServerURL": "https://plot.ly"
       },
       "data": [
        {
         "customdata": [
          [
           0.1308016877637131,
           7.5
          ],
          [
           0.06751054852320675,
           22.5
          ],
          [
           0.04113924050632911,
           37.5
          ],
          [
           0.022151898734177215,
           52.5
          ],
          [
           0.02109704641350211,
           67.5
          ],
          [
           0.03059071729957806,
           82.5
          ],
          [
           0.056962025316455694,
           97.5
          ],
          [
           0.16455696202531644,
           112.5
          ],
          [
           0.17827004219409281,
           127.5
          ],
          [
           0.09177215189873418,
           142.5
          ],
          [
           0.08227848101265822,
           157.5
          ],
          [
           0.1719409282700422,
           172.5
          ],
          [
           0.22679324894514769,
           187.5
          ],
          [
           0.18354430379746836,
           202.5
          ],
          [
           0.16666666666666666,
           217.5
          ],
          [
           0.189873417721519,
           232.5
          ],
          [
           0.2721518987341772,
           247.5
          ],
          [
           0.2679324894514768,
           262.5
          ],
          [
           0.28270042194092826,
           277.5
          ],
          [
           0.22468354430379747,
           292.5
          ],
          [
           0.21624472573839662,
           307.5
          ],
          [
           0.21308016877637131,
           322.5
          ],
          [
           0.2563291139240506,
           337.5
          ],
          [
           0.21308016877637131,
           352.5
          ],
          [
           0.1308016877637131,
           7.5
          ]
         ],
         "hovertemplate": "Day Type=Weekday<br>Trip Type=Departures<br>Trips=%{customdata[0]:.2f}<extra></extra>",
         "legendgroup": "Weekday, Departures",
         "line": {
          "color": "#636efa",
          "dash": "solid"
         },
         "marker": {
          "symbol": "circle"
         },
         "mode": "lines",
         "name": "Weekday, Departures",
         "r": [
          0.1308016877637131,
          0.06751054852320675,
          0.04113924050632911,
          0.022151898734177215,
          0.02109704641350211,
          0.03059071729957806,
          0.056962025316455694,
          0.16455696202531644,
          0.17827004219409281,
          0.09177215189873418,
          0.08227848101265822,
          0.1719409282700422,
          0.22679324894514769,
          0.18354430379746836,
          0.16666666666666666,
          0.189873417721519,
          0.2721518987341772,
          0.2679324894514768,
          0.28270042194092826,
          0.22468354430379747,
          0.21624472573839662,
          0.21308016877637131,
          0.2563291139240506,
          0.21308016877637131,
          0.1308016877637131
         ],
         "showlegend": true,
         "subplot": "polar",
         "theta": [
          7.5,
          22.5,
          37.5,
          52.5,
          67.5,
          82.5,
          97.5,
          112.5,
          127.5,
          142.5,
          157.5,
          172.5,
          187.5,
          202.5,
          217.5,
          232.5,
          247.5,
          262.5,
          277.5,
          292.5,
          307.5,
          322.5,
          337.5,
          352.5,
          7.5
         ],
         "type": "scatterpolar"
        },
        {
         "customdata": [
          [
           0.14662447257383968,
           7.5
          ],
          [
           0.08333333333333333,
           22.5
          ],
          [
           0.0580168776371308,
           37.5
          ],
          [
           0.06962025316455696,
           52.5
          ],
          [
           0.04746835443037975,
           67.5
          ],
          [
           0.035864978902953586,
           82.5
          ],
          [
           0.049578059071729956,
           97.5
          ],
          [
           0.06118143459915612,
           112.5
          ],
          [
           0.11392405063291139,
           127.5
          ],
          [
           0.08860759493670886,
           142.5
          ],
          [
           0.07805907172995781,
           157.5
          ],
          [
           0.09599156118143459,
           172.5
          ],
          [
           0.16244725738396623,
           187.5
          ],
          [
           0.1529535864978903,
           202.5
          ],
          [
           0.14345991561181434,
           217.5
          ],
          [
           0.23523206751054854,
           232.5
          ],
          [
           0.27531645569620256,
           247.5
          ],
          [
           0.3111814345991561,
           262.5
          ],
          [
           0.33755274261603374,
           277.5
          ],
          [
           0.2848101265822785,
           292.5
          ],
          [
           0.24367088607594936,
           307.5
          ],
          [
           0.2974683544303797,
           322.5
          ],
          [
           0.2879746835443038,
           337.5
          ],
          [
           0.22151898734177214,
           352.5
          ],
          [
           0.14662447257383968,
           7.5
          ]
         ],
         "hovertemplate": "Day Type=Weekday<br>Trip Type=Arrivals<br>Trips=%{customdata[0]:.2f}<extra></extra>",
         "legendgroup": "Weekday, Arrivals",
         "line": {
          "color": "#636efa",
          "dash": "dot"
         },
         "marker": {
          "symbol": "circle"
         },
         "mode": "lines",
         "name": "Weekday, Arrivals",
         "r": [
          0.14662447257383968,
          0.08333333333333333,
          0.0580168776371308,
          0.06962025316455696,
          0.04746835443037975,
          0.035864978902953586,
          0.049578059071729956,
          0.06118143459915612,
          0.11392405063291139,
          0.08860759493670886,
          0.07805907172995781,
          0.09599156118143459,
          0.16244725738396623,
          0.1529535864978903,
          0.14345991561181434,
          0.23523206751054854,
          0.27531645569620256,
          0.3111814345991561,
          0.33755274261603374,
          0.2848101265822785,
          0.24367088607594936,
          0.2974683544303797,
          0.2879746835443038,
          0.22151898734177214,
          0.14662447257383968
         ],
         "showlegend": true,
         "subplot": "polar",
         "theta": [
          7.5,
          22.5,
          37.5,
          52.5,
          67.5,
          82.5,
          97.5,
          112.5,
          127.5,
          142.5,
          157.5,
          172.5,
          187.5,
          202.5,
          217.5,
          232.5,
          247.5,
          262.5,
          277.5,
          292.5,
          307.5,
          322.5,
          337.5,
          352.5,
          7.5
         ],
         "type": "scatterpolar"
        },
        {
         "customdata": [
          [
           0.04746835443037975,
           7.5
          ],
          [
           0.04008438818565401,
           22.5
          ],
          [
           0.013713080168776372,
           37.5
          ],
          [
           0.015822784810126583,
           52.5
          ],
          [
           0.008438818565400843,
           67.5
          ],
          [
           0.012658227848101266,
           82.5
          ],
          [
           0.012658227848101266,
           97.5
          ],
          [
           0.015822784810126583,
           112.5
          ],
          [
           0.02109704641350211,
           127.5
          ],
          [
           0.046413502109704644,
           142.5
          ],
          [
           0.060126582278481014,
           157.5
          ],
          [
           0.08016877637130802,
           172.5
          ],
          [
           0.09177215189873418,
           187.5
          ],
          [
           0.11392405063291139,
           202.5
          ],
          [
           0.14240506329113925,
           217.5
          ],
          [
           0.11286919831223628,
           232.5
          ],
          [
           0.1571729957805907,
           247.5
          ],
          [
           0.1550632911392405,
           262.5
          ],
          [
           0.1308016877637131,
           277.5
          ],
          [
           0.1350210970464135,
           292.5
          ],
          [
           0.1371308016877637,
           307.5
          ],
          [
           0.12025316455696203,
           322.5
          ],
          [
           0.10232067510548523,
           337.5
          ],
          [
           0.06540084388185655,
           352.5
          ],
          [
           0.04746835443037975,
           7.5
          ]
         ],
         "hovertemplate": "Day Type=Weekend<br>Trip Type=Departures<br>Trips=%{customdata[0]:.2f}<extra></extra>",
         "legendgroup": "Weekend, Departures",
         "line": {
          "color": "#EF553B",
          "dash": "solid"
         },
         "marker": {
          "symbol": "circle"
         },
         "mode": "lines",
         "name": "Weekend, Departures",
         "r": [
          0.04746835443037975,
          0.04008438818565401,
          0.013713080168776372,
          0.015822784810126583,
          0.008438818565400843,
          0.012658227848101266,
          0.012658227848101266,
          0.015822784810126583,
          0.02109704641350211,
          0.046413502109704644,
          0.060126582278481014,
          0.08016877637130802,
          0.09177215189873418,
          0.11392405063291139,
          0.14240506329113925,
          0.11286919831223628,
          0.1571729957805907,
          0.1550632911392405,
          0.1308016877637131,
          0.1350210970464135,
          0.1371308016877637,
          0.12025316455696203,
          0.10232067510548523,
          0.06540084388185655,
          0.04746835443037975
         ],
         "showlegend": true,
         "subplot": "polar",
         "theta": [
          7.5,
          22.5,
          37.5,
          52.5,
          67.5,
          82.5,
          97.5,
          112.5,
          127.5,
          142.5,
          157.5,
          172.5,
          187.5,
          202.5,
          217.5,
          232.5,
          247.5,
          262.5,
          277.5,
          292.5,
          307.5,
          322.5,
          337.5,
          352.5,
          7.5
         ],
         "type": "scatterpolar"
        },
        {
         "customdata": [
          [
           0.06540084388185655,
           7.5
          ],
          [
           0.04008438818565401,
           22.5
          ],
          [
           0.03481012658227848,
           37.5
          ],
          [
           0.035864978902953586,
           52.5
          ],
          [
           0.022151898734177215,
           67.5
          ],
          [
           0.023206751054852322,
           82.5
          ],
          [
           0.011603375527426161,
           97.5
          ],
          [
           0.015822784810126583,
           112.5
          ],
          [
           0.024261603375527425,
           127.5
          ],
          [
           0.03270042194092827,
           142.5
          ],
          [
           0.06540084388185655,
           157.5
          ],
          [
           0.06856540084388185,
           172.5
          ],
          [
           0.10654008438818566,
           187.5
          ],
          [
           0.08966244725738397,
           202.5
          ],
          [
           0.12236286919831224,
           217.5
          ],
          [
           0.16772151898734178,
           232.5
          ],
          [
           0.11814345991561181,
           247.5
          ],
          [
           0.13818565400843882,
           262.5
          ],
          [
           0.14451476793248946,
           277.5
          ],
          [
           0.13185654008438819,
           292.5
          ],
          [
           0.11075949367088607,
           307.5
          ],
          [
           0.10970464135021098,
           322.5
          ],
          [
           0.09599156118143459,
           337.5
          ],
          [
           0.07805907172995781,
           352.5
          ],
          [
           0.06540084388185655,
           7.5
          ]
         ],
         "hovertemplate": "Day Type=Weekend<br>Trip Type=Arrivals<br>Trips=%{customdata[0]:.2f}<extra></extra>",
         "legendgroup": "Weekend, Arrivals",
         "line": {
          "color": "#EF553B",
          "dash": "dot"
         },
         "marker": {
          "symbol": "circle"
         },
         "mode": "lines",
         "name": "Weekend, Arrivals",
         "r": [
          0.06540084388185655,
          0.04008438818565401,
          0.03481012658227848,
          0.035864978902953586,
          0.022151898734177215,
          0.023206751054852322,
          0.011603375527426161,
          0.015822784810126583,
          0.024261603375527425,
          0.03270042194092827,
          0.06540084388185655,
          0.06856540084388185,
          0.10654008438818566,
          0.08966244725738397,
          0.12236286919831224,
          0.16772151898734178,
          0.11814345991561181,
          0.13818565400843882,
          0.14451476793248946,
          0.13185654008438819,
          0.11075949367088607,
          0.10970464135021098,
          0.09599156118143459,
          0.07805907172995781,
          0.06540084388185655
         ],
         "showlegend": true,
         "subplot": "polar",
         "theta": [
          7.5,
          22.5,
          37.5,
          52.5,
          67.5,
          82.5,
          97.5,
          112.5,
          127.5,
          142.5,
          157.5,
          172.5,
          187.5,
          202.5,
          217.5,
          232.5,
          247.5,
          262.5,
          277.5,
          292.5,
          307.5,
          322.5,
          337.5,
          352.5,
          7.5
         ],
         "type": "scatterpolar"
        }
       ],
       "layout": {
        "height": 500,
        "legend": {
         "title": {
          "text": ""
         },
         "tracegroupgap": 0
        },
        "margin": {
         "t": 60
        },
        "polar": {
         "angularaxis": {
          "direction": "clockwise",
          "rotation": -90,
          "tickmode": "array",
          "ticktext": [
           "12 AM",
           "1 AM",
           "2 AM",
           "3 AM",
           "4 AM",
           "5 AM",
           "6 AM",
           "7 AM",
           "8 AM",
           "9 AM",
           "10 AM",
           "11 AM",
           "12 PM",
           "1 PM",
           "2 PM",
           "3 PM",
           "4 PM",
           "5 PM",
           "6 PM",
           "7 PM",
           "8 PM",
           "9 PM",
           "10 PM",
           "11 PM"
          ],
          "tickvals": [
           0,
           15,
           30,
           45,
           60,
           75,
           90,
           105,
           120,
           135,
           150,
           165,
           180,
           195,
           210,
           225,
           240,
           255,
           270,
           285,
           300,
           315,
           330,
           345
          ]
         },
         "domain": {
          "x": [
           0,
           1
          ],
          "y": [
           0,
           1
          ]
         }
        },
        "template": {
         "data": {
          "bar": [
           {
            "error_x": {
             "color": "#2a3f5f"
            },
            "error_y": {
             "color": "#2a3f5f"
            },
            "marker": {
             "line": {
              "color": "#E5ECF6",
              "width": 0.5
             },
             "pattern": {
              "fillmode": "overlay",
              "size": 10,
              "solidity": 0.2
             }
            },
            "type": "bar"
           }
          ],
          "barpolar": [
           {
            "marker": {
             "line": {
              "color": "#E5ECF6",
              "width": 0.5
             },
             "pattern": {
              "fillmode": "overlay",
              "size": 10,
              "solidity": 0.2
             }
            },
            "type": "barpolar"
           }
          ],
          "carpet": [
           {
            "aaxis": {
             "endlinecolor": "#2a3f5f",
             "gridcolor": "white",
             "linecolor": "white",
             "minorgridcolor": "white",
             "startlinecolor": "#2a3f5f"
            },
            "baxis": {
             "endlinecolor": "#2a3f5f",
             "gridcolor": "white",
             "linecolor": "white",
             "minorgridcolor": "white",
             "startlinecolor": "#2a3f5f"
            },
            "type": "carpet"
           }
          ],
          "choropleth": [
           {
            "colorbar": {
             "outlinewidth": 0,
             "ticks": ""
            },
            "type": "choropleth"
           }
          ],
          "contour": [
           {
            "colorbar": {
             "outlinewidth": 0,
             "ticks": ""
            },
            "colorscale": [
             [
              0,
              "#0d0887"
             ],
             [
              0.1111111111111111,
              "#46039f"
             ],
             [
              0.2222222222222222,
              "#7201a8"
             ],
             [
              0.3333333333333333,
              "#9c179e"
             ],
             [
              0.4444444444444444,
              "#bd3786"
             ],
             [
              0.5555555555555556,
              "#d8576b"
             ],
             [
              0.6666666666666666,
              "#ed7953"
             ],
             [
              0.7777777777777778,
              "#fb9f3a"
             ],
             [
              0.8888888888888888,
              "#fdca26"
             ],
             [
              1,
              "#f0f921"
             ]
            ],
            "type": "contour"
           }
          ],
          "contourcarpet": [
           {
            "colorbar": {
             "outlinewidth": 0,
             "ticks": ""
            },
            "type": "contourcarpet"
           }
          ],
          "heatmap": [
           {
            "colorbar": {
             "outlinewidth": 0,
             "ticks": ""
            },
            "colorscale": [
             [
              0,
              "#0d0887"
             ],
             [
              0.1111111111111111,
              "#46039f"
             ],
             [
              0.2222222222222222,
              "#7201a8"
             ],
             [
              0.3333333333333333,
              "#9c179e"
             ],
             [
              0.4444444444444444,
              "#bd3786"
             ],
             [
              0.5555555555555556,
              "#d8576b"
             ],
             [
              0.6666666666666666,
              "#ed7953"
             ],
             [
              0.7777777777777778,
              "#fb9f3a"
             ],
             [
              0.8888888888888888,
              "#fdca26"
             ],
             [
              1,
              "#f0f921"
             ]
            ],
            "type": "heatmap"
           }
          ],
          "heatmapgl": [
           {
            "colorbar": {
             "outlinewidth": 0,
             "ticks": ""
            },
            "colorscale": [
             [
              0,
              "#0d0887"
             ],
             [
              0.1111111111111111,
              "#46039f"
             ],
             [
              0.2222222222222222,
              "#7201a8"
             ],
             [
              0.3333333333333333,
              "#9c179e"
             ],
             [
              0.4444444444444444,
              "#bd3786"
             ],
             [
              0.5555555555555556,
              "#d8576b"
             ],
             [
              0.6666666666666666,
              "#ed7953"
             ],
             [
              0.7777777777777778,
              "#fb9f3a"
             ],
             [
              0.8888888888888888,
              "#fdca26"
             ],
             [
              1,
              "#f0f921"
             ]
            ],
            "type": "heatmapgl"
           }
          ],
          "histogram": [
           {
            "marker": {
             "pattern": {
              "fillmode": "overlay",
              "size": 10,
              "solidity": 0.2
             }
            },
            "type": "histogram"
           }
          ],
          "histogram2d": [
           {
            "colorbar": {
             "outlinewidth": 0,
             "ticks": ""
            },
            "colorscale": [
             [
              0,
              "#0d0887"
             ],
             [
              0.1111111111111111,
              "#46039f"
             ],
             [
              0.2222222222222222,
              "#7201a8"
             ],
             [
              0.3333333333333333,
              "#9c179e"
             ],
             [
              0.4444444444444444,
              "#bd3786"
             ],
             [
              0.5555555555555556,
              "#d8576b"
             ],
             [
              0.6666666666666666,
              "#ed7953"
             ],
             [
              0.7777777777777778,
              "#fb9f3a"
             ],
             [
              0.8888888888888888,
              "#fdca26"
             ],
             [
              1,
              "#f0f921"
             ]
            ],
            "type": "histogram2d"
           }
          ],
          "histogram2dcontour": [
           {
            "colorbar": {
             "outlinewidth": 0,
             "ticks": ""
            },
            "colorscale": [
             [
              0,
              "#0d0887"
             ],
             [
              0.1111111111111111,
              "#46039f"
             ],
             [
              0.2222222222222222,
              "#7201a8"
             ],
             [
              0.3333333333333333,
              "#9c179e"
             ],
             [
              0.4444444444444444,
              "#bd3786"
             ],
             [
              0.5555555555555556,
              "#d8576b"
             ],
             [
              0.6666666666666666,
              "#ed7953"
             ],
             [
              0.7777777777777778,
              "#fb9f3a"
             ],
             [
              0.8888888888888888,
              "#fdca26"
             ],
             [
              1,
              "#f0f921"
             ]
            ],
            "type": "histogram2dcontour"
           }
          ],
          "mesh3d": [
           {
            "colorbar": {
             "outlinewidth": 0,
             "ticks": ""
            },
            "type": "mesh3d"
           }
          ],
          "parcoords": [
           {
            "line": {
             "colorbar": {
              "outlinewidth": 0,
              "ticks": ""
             }
            },
            "type": "parcoords"
           }
          ],
          "pie": [
           {
            "automargin": true,
            "type": "pie"
           }
          ],
          "scatter": [
           {
            "fillpattern": {
             "fillmode": "overlay",
             "size": 10,
             "solidity": 0.2
            },
            "type": "scatter"
           }
          ],
          "scatter3d": [
           {
            "line": {
             "colorbar": {
              "outlinewidth": 0,
              "ticks": ""
             }
            },
            "marker": {
             "colorbar": {
              "outlinewidth": 0,
              "ticks": ""
             }
            },
            "type": "scatter3d"
           }
          ],
          "scattercarpet": [
           {
            "marker": {
             "colorbar": {
              "outlinewidth": 0,
              "ticks": ""
             }
            },
            "type": "scattercarpet"
           }
          ],
          "scattergeo": [
           {
            "marker": {
             "colorbar": {
              "outlinewidth": 0,
              "ticks": ""
             }
            },
            "type": "scattergeo"
           }
          ],
          "scattergl": [
           {
            "marker": {
             "colorbar": {
              "outlinewidth": 0,
              "ticks": ""
             }
            },
            "type": "scattergl"
           }
          ],
          "scattermapbox": [
           {
            "marker": {
             "colorbar": {
              "outlinewidth": 0,
              "ticks": ""
             }
            },
            "type": "scattermapbox"
           }
          ],
          "scatterpolar": [
           {
            "marker": {
             "colorbar": {
              "outlinewidth": 0,
              "ticks": ""
             }
            },
            "type": "scatterpolar"
           }
          ],
          "scatterpolargl": [
           {
            "marker": {
             "colorbar": {
              "outlinewidth": 0,
              "ticks": ""
             }
            },
            "type": "scatterpolargl"
           }
          ],
          "scatterternary": [
           {
            "marker": {
             "colorbar": {
              "outlinewidth": 0,
              "ticks": ""
             }
            },
            "type": "scatterternary"
           }
          ],
          "surface": [
           {
            "colorbar": {
             "outlinewidth": 0,
             "ticks": ""
            },
            "colorscale": [
             [
              0,
              "#0d0887"
             ],
             [
              0.1111111111111111,
              "#46039f"
             ],
             [
              0.2222222222222222,
              "#7201a8"
             ],
             [
              0.3333333333333333,
              "#9c179e"
             ],
             [
              0.4444444444444444,
              "#bd3786"
             ],
             [
              0.5555555555555556,
              "#d8576b"
             ],
             [
              0.6666666666666666,
              "#ed7953"
             ],
             [
              0.7777777777777778,
              "#fb9f3a"
             ],
             [
              0.8888888888888888,
              "#fdca26"
             ],
             [
              1,
              "#f0f921"
             ]
            ],
            "type": "surface"
           }
          ],
          "table": [
           {
            "cells": {
             "fill": {
              "color": "#EBF0F8"
             },
             "line": {
              "color": "white"
             }
            },
            "header": {
             "fill": {
              "color": "#C8D4E3"
             },
             "line": {
              "color": "white"
             }
            },
            "type": "table"
           }
          ]
         },
         "layout": {
          "annotationdefaults": {
           "arrowcolor": "#2a3f5f",
           "arrowhead": 0,
           "arrowwidth": 1
          },
          "autotypenumbers": "strict",
          "coloraxis": {
           "colorbar": {
            "outlinewidth": 0,
            "ticks": ""
           }
          },
          "colorscale": {
           "diverging": [
            [
             0,
             "#8e0152"
            ],
            [
             0.1,
             "#c51b7d"
            ],
            [
             0.2,
             "#de77ae"
            ],
            [
             0.3,
             "#f1b6da"
            ],
            [
             0.4,
             "#fde0ef"
            ],
            [
             0.5,
             "#f7f7f7"
            ],
            [
             0.6,
             "#e6f5d0"
            ],
            [
             0.7,
             "#b8e186"
            ],
            [
             0.8,
             "#7fbc41"
            ],
            [
             0.9,
             "#4d9221"
            ],
            [
             1,
             "#276419"
            ]
           ],
           "sequential": [
            [
             0,
             "#0d0887"
            ],
            [
             0.1111111111111111,
             "#46039f"
            ],
            [
             0.2222222222222222,
             "#7201a8"
            ],
            [
             0.3333333333333333,
             "#9c179e"
            ],
            [
             0.4444444444444444,
             "#bd3786"
            ],
            [
             0.5555555555555556,
             "#d8576b"
            ],
            [
             0.6666666666666666,
             "#ed7953"
            ],
            [
             0.7777777777777778,
             "#fb9f3a"
            ],
            [
             0.8888888888888888,
             "#fdca26"
            ],
            [
             1,
             "#f0f921"
            ]
           ],
           "sequentialminus": [
            [
             0,
             "#0d0887"
            ],
            [
             0.1111111111111111,
             "#46039f"
            ],
            [
             0.2222222222222222,
             "#7201a8"
            ],
            [
             0.3333333333333333,
             "#9c179e"
            ],
            [
             0.4444444444444444,
             "#bd3786"
            ],
            [
             0.5555555555555556,
             "#d8576b"
            ],
            [
             0.6666666666666666,
             "#ed7953"
            ],
            [
             0.7777777777777778,
             "#fb9f3a"
            ],
            [
             0.8888888888888888,
             "#fdca26"
            ],
            [
             1,
             "#f0f921"
            ]
           ]
          },
          "colorway": [
           "#636efa",
           "#EF553B",
           "#00cc96",
           "#ab63fa",
           "#FFA15A",
           "#19d3f3",
           "#FF6692",
           "#B6E880",
           "#FF97FF",
           "#FECB52"
          ],
          "font": {
           "color": "#2a3f5f"
          },
          "geo": {
           "bgcolor": "white",
           "lakecolor": "white",
           "landcolor": "#E5ECF6",
           "showlakes": true,
           "showland": true,
           "subunitcolor": "white"
          },
          "hoverlabel": {
           "align": "left"
          },
          "hovermode": "closest",
          "mapbox": {
           "style": "light"
          },
          "paper_bgcolor": "white",
          "plot_bgcolor": "#E5ECF6",
          "polar": {
           "angularaxis": {
            "gridcolor": "white",
            "linecolor": "white",
            "ticks": ""
           },
           "bgcolor": "#E5ECF6",
           "radialaxis": {
            "gridcolor": "white",
            "linecolor": "white",
            "ticks": ""
           }
          },
          "scene": {
           "xaxis": {
            "backgroundcolor": "#E5ECF6",
            "gridcolor": "white",
            "gridwidth": 2,
            "linecolor": "white",
            "showbackground": true,
            "ticks": "",
            "zerolinecolor": "white"
           },
           "yaxis": {
            "backgroundcolor": "#E5ECF6",
            "gridcolor": "white",
            "gridwidth": 2,
            "linecolor": "white",
            "showbackground": true,
            "ticks": "",
            "zerolinecolor": "white"
           },
           "zaxis": {
            "backgroundcolor": "#E5ECF6",
            "gridcolor": "white",
            "gridwidth": 2,
            "linecolor": "white",
            "showbackground": true,
            "ticks": "",
            "zerolinecolor": "white"
           }
          },
          "shapedefaults": {
           "line": {
            "color": "#2a3f5f"
           }
          },
          "ternary": {
           "aaxis": {
            "gridcolor": "white",
            "linecolor": "white",
            "ticks": ""
           },
           "baxis": {
            "gridcolor": "white",
            "linecolor": "white",
            "ticks": ""
           },
           "bgcolor": "#E5ECF6",
           "caxis": {
            "gridcolor": "white",
            "linecolor": "white",
            "ticks": ""
           }
          },
          "title": {
           "x": 0.05
          },
          "xaxis": {
           "automargin": true,
           "gridcolor": "white",
           "linecolor": "white",
           "ticks": "",
           "title": {
            "standoff": 15
           },
           "zerolinecolor": "white",
           "zerolinewidth": 2
          },
          "yaxis": {
           "automargin": true,
           "gridcolor": "white",
           "linecolor": "white",
           "ticks": "",
           "title": {
            "standoff": 15
           },
           "zerolinecolor": "white",
           "zerolinewidth": 2
          }
         }
        },
        "title": {
         "text": "Hourly Bluebike Trips Near Navy Fuel Pier Airport Edge Buffer"
        },
        "width": 600
       }
      }
     },
     "metadata": {},
     "output_type": "display_data"
    },
    {
     "name": "stdout",
     "output_type": "stream",
     "text": [
      "No stations within 0.3 km of Tenean Beach\n",
      "No stations within 0.3 km of Wellesley Park\n",
      "No stations within 0.3 km of The Fenway I\n",
      "2 nearest stations to Cutillo Park: Cross St at Hanover St, Valenti Way at Haverhill St\n"
     ]
    },
    {
     "name": "stderr",
     "output_type": "stream",
     "text": [
      "/Users/henrywu/opt/anaconda3/lib/python3.9/site-packages/plotly/express/_core.py:271: FutureWarning:\n",
      "\n",
      "The frame.append method is deprecated and will be removed from pandas in a future version. Use pandas.concat instead.\n",
      "\n",
      "/Users/henrywu/opt/anaconda3/lib/python3.9/site-packages/plotly/express/_core.py:271: FutureWarning:\n",
      "\n",
      "The frame.append method is deprecated and will be removed from pandas in a future version. Use pandas.concat instead.\n",
      "\n",
      "/Users/henrywu/opt/anaconda3/lib/python3.9/site-packages/plotly/express/_core.py:271: FutureWarning:\n",
      "\n",
      "The frame.append method is deprecated and will be removed from pandas in a future version. Use pandas.concat instead.\n",
      "\n",
      "/Users/henrywu/opt/anaconda3/lib/python3.9/site-packages/plotly/express/_core.py:271: FutureWarning:\n",
      "\n",
      "The frame.append method is deprecated and will be removed from pandas in a future version. Use pandas.concat instead.\n",
      "\n"
     ]
    },
    {
     "data": {
      "application/vnd.plotly.v1+json": {
       "config": {
        "plotlyServerURL": "https://plot.ly"
       },
       "data": [
        {
         "customdata": [
          [
           2.830168776371308,
           7.5
          ],
          [
           2.3069620253164556,
           22.5
          ],
          [
           1.8248945147679325,
           37.5
          ],
          [
           1.261603375527426,
           52.5
          ],
          [
           0.7869198312236287,
           67.5
          ],
          [
           1.9029535864978904,
           82.5
          ],
          [
           4.613924050632911,
           97.5
          ],
          [
           7.625527426160337,
           112.5
          ],
          [
           9.033755274261603,
           127.5
          ],
          [
           4.296413502109704,
           142.5
          ],
          [
           3.7679324894514767,
           157.5
          ],
          [
           5.012658227848101,
           172.5
          ],
          [
           6.579113924050633,
           187.5
          ],
          [
           5.546413502109704,
           202.5
          ],
          [
           5.156118143459915,
           217.5
          ],
          [
           5.886075949367089,
           232.5
          ],
          [
           7.578059071729958,
           247.5
          ],
          [
           10.58860759493671,
           262.5
          ],
          [
           9.618143459915611,
           277.5
          ],
          [
           7.688818565400844,
           292.5
          ],
          [
           6.855485232067511,
           307.5
          ],
          [
           7.515822784810126,
           322.5
          ],
          [
           6.904008438818566,
           337.5
          ],
          [
           4.488396624472574,
           352.5
          ],
          [
           2.830168776371308,
           7.5
          ]
         ],
         "hovertemplate": "Day Type=Weekday<br>Trip Type=Departures<br>Trips=%{customdata[0]:.2f}<extra></extra>",
         "legendgroup": "Weekday, Departures",
         "line": {
          "color": "#636efa",
          "dash": "solid"
         },
         "marker": {
          "symbol": "circle"
         },
         "mode": "lines",
         "name": "Weekday, Departures",
         "r": [
          2.830168776371308,
          2.3069620253164556,
          1.8248945147679325,
          1.261603375527426,
          0.7869198312236287,
          1.9029535864978904,
          4.613924050632911,
          7.625527426160337,
          9.033755274261603,
          4.296413502109704,
          3.7679324894514767,
          5.012658227848101,
          6.579113924050633,
          5.546413502109704,
          5.156118143459915,
          5.886075949367089,
          7.578059071729958,
          10.58860759493671,
          9.618143459915611,
          7.688818565400844,
          6.855485232067511,
          7.515822784810126,
          6.904008438818566,
          4.488396624472574,
          2.830168776371308
         ],
         "showlegend": true,
         "subplot": "polar",
         "theta": [
          7.5,
          22.5,
          37.5,
          52.5,
          67.5,
          82.5,
          97.5,
          112.5,
          127.5,
          142.5,
          157.5,
          172.5,
          187.5,
          202.5,
          217.5,
          232.5,
          247.5,
          262.5,
          277.5,
          292.5,
          307.5,
          322.5,
          337.5,
          352.5,
          7.5
         ],
         "type": "scatterpolar"
        },
        {
         "customdata": [
          [
           3.1149789029535864,
           7.5
          ],
          [
           2.1044303797468356,
           22.5
          ],
          [
           1.6550632911392404,
           37.5
          ],
          [
           1.0611814345991561,
           52.5
          ],
          [
           0.6613924050632911,
           67.5
          ],
          [
           0.6635021097046413,
           82.5
          ],
          [
           0.959915611814346,
           97.5
          ],
          [
           2.4968354430379747,
           112.5
          ],
          [
           4.068565400843882,
           127.5
          ],
          [
           3.6751054852320677,
           142.5
          ],
          [
           2.6318565400843883,
           157.5
          ],
          [
           3.7130801687763713,
           172.5
          ],
          [
           5.481012658227848,
           187.5
          ],
          [
           5.624472573839663,
           202.5
          ],
          [
           6.19198312236287,
           217.5
          ],
          [
           7.486286919831223,
           232.5
          ],
          [
           11.981012658227849,
           247.5
          ],
          [
           16.00632911392405,
           262.5
          ],
          [
           12.369198312236287,
           277.5
          ],
          [
           9.509493670886076,
           292.5
          ],
          [
           7.8618143459915615,
           307.5
          ],
          [
           8.421940928270041,
           322.5
          ],
          [
           7.6571729957805905,
           337.5
          ],
          [
           5.947257383966245,
           352.5
          ],
          [
           3.1149789029535864,
           7.5
          ]
         ],
         "hovertemplate": "Day Type=Weekday<br>Trip Type=Arrivals<br>Trips=%{customdata[0]:.2f}<extra></extra>",
         "legendgroup": "Weekday, Arrivals",
         "line": {
          "color": "#636efa",
          "dash": "dot"
         },
         "marker": {
          "symbol": "circle"
         },
         "mode": "lines",
         "name": "Weekday, Arrivals",
         "r": [
          3.1149789029535864,
          2.1044303797468356,
          1.6550632911392404,
          1.0611814345991561,
          0.6613924050632911,
          0.6635021097046413,
          0.959915611814346,
          2.4968354430379747,
          4.068565400843882,
          3.6751054852320677,
          2.6318565400843883,
          3.7130801687763713,
          5.481012658227848,
          5.624472573839663,
          6.19198312236287,
          7.486286919831223,
          11.981012658227849,
          16.00632911392405,
          12.369198312236287,
          9.509493670886076,
          7.8618143459915615,
          8.421940928270041,
          7.6571729957805905,
          5.947257383966245,
          3.1149789029535864
         ],
         "showlegend": true,
         "subplot": "polar",
         "theta": [
          7.5,
          22.5,
          37.5,
          52.5,
          67.5,
          82.5,
          97.5,
          112.5,
          127.5,
          142.5,
          157.5,
          172.5,
          187.5,
          202.5,
          217.5,
          232.5,
          247.5,
          262.5,
          277.5,
          292.5,
          307.5,
          322.5,
          337.5,
          352.5,
          7.5
         ],
         "type": "scatterpolar"
        },
        {
         "customdata": [
          [
           2.2067510548523206,
           7.5
          ],
          [
           2.088607594936709,
           22.5
          ],
          [
           1.731012658227848,
           37.5
          ],
          [
           1.1761603375527425,
           52.5
          ],
          [
           0.9736286919831224,
           67.5
          ],
          [
           1.169831223628692,
           82.5
          ],
          [
           0.9672995780590717,
           97.5
          ],
          [
           0.6466244725738397,
           112.5
          ],
          [
           1.090717299578059,
           127.5
          ],
          [
           1.6561181434599157,
           142.5
          ],
          [
           2.1350210970464136,
           157.5
          ],
          [
           2.690928270042194,
           172.5
          ],
          [
           3.4430379746835444,
           187.5
          ],
          [
           3.6930379746835444,
           202.5
          ],
          [
           4.2215189873417724,
           217.5
          ],
          [
           4.484177215189874,
           232.5
          ],
          [
           4.572784810126582,
           247.5
          ],
          [
           4.432489451476793,
           262.5
          ],
          [
           4.340717299578059,
           277.5
          ],
          [
           3.9957805907172994,
           292.5
          ],
          [
           3.5179324894514767,
           307.5
          ],
          [
           3.1339662447257384,
           322.5
          ],
          [
           2.8027426160337554,
           337.5
          ],
          [
           2.382911392405063,
           352.5
          ],
          [
           2.2067510548523206,
           7.5
          ]
         ],
         "hovertemplate": "Day Type=Weekend<br>Trip Type=Departures<br>Trips=%{customdata[0]:.2f}<extra></extra>",
         "legendgroup": "Weekend, Departures",
         "line": {
          "color": "#EF553B",
          "dash": "solid"
         },
         "marker": {
          "symbol": "circle"
         },
         "mode": "lines",
         "name": "Weekend, Departures",
         "r": [
          2.2067510548523206,
          2.088607594936709,
          1.731012658227848,
          1.1761603375527425,
          0.9736286919831224,
          1.169831223628692,
          0.9672995780590717,
          0.6466244725738397,
          1.090717299578059,
          1.6561181434599157,
          2.1350210970464136,
          2.690928270042194,
          3.4430379746835444,
          3.6930379746835444,
          4.2215189873417724,
          4.484177215189874,
          4.572784810126582,
          4.432489451476793,
          4.340717299578059,
          3.9957805907172994,
          3.5179324894514767,
          3.1339662447257384,
          2.8027426160337554,
          2.382911392405063,
          2.2067510548523206
         ],
         "showlegend": true,
         "subplot": "polar",
         "theta": [
          7.5,
          22.5,
          37.5,
          52.5,
          67.5,
          82.5,
          97.5,
          112.5,
          127.5,
          142.5,
          157.5,
          172.5,
          187.5,
          202.5,
          217.5,
          232.5,
          247.5,
          262.5,
          277.5,
          292.5,
          307.5,
          322.5,
          337.5,
          352.5,
          7.5
         ],
         "type": "scatterpolar"
        },
        {
         "customdata": [
          [
           2.1434599156118144,
           7.5
          ],
          [
           1.6867088607594938,
           22.5
          ],
          [
           1.3924050632911393,
           37.5
          ],
          [
           1.0516877637130801,
           52.5
          ],
          [
           0.7932489451476793,
           67.5
          ],
          [
           0.7573839662447257,
           82.5
          ],
          [
           0.5717299578059072,
           97.5
          ],
          [
           0.4641350210970464,
           112.5
          ],
          [
           0.6951476793248945,
           127.5
          ],
          [
           1.2320675105485233,
           142.5
          ],
          [
           1.9746835443037976,
           157.5
          ],
          [
           2.5569620253164556,
           172.5
          ],
          [
           3.268987341772152,
           187.5
          ],
          [
           3.9546413502109705,
           202.5
          ],
          [
           4.341772151898734,
           217.5
          ],
          [
           4.654008438818566,
           232.5
          ],
          [
           4.935654008438819,
           247.5
          ],
          [
           5.125527426160337,
           262.5
          ],
          [
           4.949367088607595,
           277.5
          ],
          [
           4.5,
           292.5
          ],
          [
           3.771097046413502,
           307.5
          ],
          [
           3.2320675105485233,
           322.5
          ],
          [
           2.8470464135021096,
           337.5
          ],
          [
           2.4535864978902953,
           352.5
          ],
          [
           2.1434599156118144,
           7.5
          ]
         ],
         "hovertemplate": "Day Type=Weekend<br>Trip Type=Arrivals<br>Trips=%{customdata[0]:.2f}<extra></extra>",
         "legendgroup": "Weekend, Arrivals",
         "line": {
          "color": "#EF553B",
          "dash": "dot"
         },
         "marker": {
          "symbol": "circle"
         },
         "mode": "lines",
         "name": "Weekend, Arrivals",
         "r": [
          2.1434599156118144,
          1.6867088607594938,
          1.3924050632911393,
          1.0516877637130801,
          0.7932489451476793,
          0.7573839662447257,
          0.5717299578059072,
          0.4641350210970464,
          0.6951476793248945,
          1.2320675105485233,
          1.9746835443037976,
          2.5569620253164556,
          3.268987341772152,
          3.9546413502109705,
          4.341772151898734,
          4.654008438818566,
          4.935654008438819,
          5.125527426160337,
          4.949367088607595,
          4.5,
          3.771097046413502,
          3.2320675105485233,
          2.8470464135021096,
          2.4535864978902953,
          2.1434599156118144
         ],
         "showlegend": true,
         "subplot": "polar",
         "theta": [
          7.5,
          22.5,
          37.5,
          52.5,
          67.5,
          82.5,
          97.5,
          112.5,
          127.5,
          142.5,
          157.5,
          172.5,
          187.5,
          202.5,
          217.5,
          232.5,
          247.5,
          262.5,
          277.5,
          292.5,
          307.5,
          322.5,
          337.5,
          352.5,
          7.5
         ],
         "type": "scatterpolar"
        }
       ],
       "layout": {
        "height": 500,
        "legend": {
         "title": {
          "text": ""
         },
         "tracegroupgap": 0
        },
        "margin": {
         "t": 60
        },
        "polar": {
         "angularaxis": {
          "direction": "clockwise",
          "rotation": -90,
          "tickmode": "array",
          "ticktext": [
           "12 AM",
           "1 AM",
           "2 AM",
           "3 AM",
           "4 AM",
           "5 AM",
           "6 AM",
           "7 AM",
           "8 AM",
           "9 AM",
           "10 AM",
           "11 AM",
           "12 PM",
           "1 PM",
           "2 PM",
           "3 PM",
           "4 PM",
           "5 PM",
           "6 PM",
           "7 PM",
           "8 PM",
           "9 PM",
           "10 PM",
           "11 PM"
          ],
          "tickvals": [
           0,
           15,
           30,
           45,
           60,
           75,
           90,
           105,
           120,
           135,
           150,
           165,
           180,
           195,
           210,
           225,
           240,
           255,
           270,
           285,
           300,
           315,
           330,
           345
          ]
         },
         "domain": {
          "x": [
           0,
           1
          ],
          "y": [
           0,
           1
          ]
         }
        },
        "template": {
         "data": {
          "bar": [
           {
            "error_x": {
             "color": "#2a3f5f"
            },
            "error_y": {
             "color": "#2a3f5f"
            },
            "marker": {
             "line": {
              "color": "#E5ECF6",
              "width": 0.5
             },
             "pattern": {
              "fillmode": "overlay",
              "size": 10,
              "solidity": 0.2
             }
            },
            "type": "bar"
           }
          ],
          "barpolar": [
           {
            "marker": {
             "line": {
              "color": "#E5ECF6",
              "width": 0.5
             },
             "pattern": {
              "fillmode": "overlay",
              "size": 10,
              "solidity": 0.2
             }
            },
            "type": "barpolar"
           }
          ],
          "carpet": [
           {
            "aaxis": {
             "endlinecolor": "#2a3f5f",
             "gridcolor": "white",
             "linecolor": "white",
             "minorgridcolor": "white",
             "startlinecolor": "#2a3f5f"
            },
            "baxis": {
             "endlinecolor": "#2a3f5f",
             "gridcolor": "white",
             "linecolor": "white",
             "minorgridcolor": "white",
             "startlinecolor": "#2a3f5f"
            },
            "type": "carpet"
           }
          ],
          "choropleth": [
           {
            "colorbar": {
             "outlinewidth": 0,
             "ticks": ""
            },
            "type": "choropleth"
           }
          ],
          "contour": [
           {
            "colorbar": {
             "outlinewidth": 0,
             "ticks": ""
            },
            "colorscale": [
             [
              0,
              "#0d0887"
             ],
             [
              0.1111111111111111,
              "#46039f"
             ],
             [
              0.2222222222222222,
              "#7201a8"
             ],
             [
              0.3333333333333333,
              "#9c179e"
             ],
             [
              0.4444444444444444,
              "#bd3786"
             ],
             [
              0.5555555555555556,
              "#d8576b"
             ],
             [
              0.6666666666666666,
              "#ed7953"
             ],
             [
              0.7777777777777778,
              "#fb9f3a"
             ],
             [
              0.8888888888888888,
              "#fdca26"
             ],
             [
              1,
              "#f0f921"
             ]
            ],
            "type": "contour"
           }
          ],
          "contourcarpet": [
           {
            "colorbar": {
             "outlinewidth": 0,
             "ticks": ""
            },
            "type": "contourcarpet"
           }
          ],
          "heatmap": [
           {
            "colorbar": {
             "outlinewidth": 0,
             "ticks": ""
            },
            "colorscale": [
             [
              0,
              "#0d0887"
             ],
             [
              0.1111111111111111,
              "#46039f"
             ],
             [
              0.2222222222222222,
              "#7201a8"
             ],
             [
              0.3333333333333333,
              "#9c179e"
             ],
             [
              0.4444444444444444,
              "#bd3786"
             ],
             [
              0.5555555555555556,
              "#d8576b"
             ],
             [
              0.6666666666666666,
              "#ed7953"
             ],
             [
              0.7777777777777778,
              "#fb9f3a"
             ],
             [
              0.8888888888888888,
              "#fdca26"
             ],
             [
              1,
              "#f0f921"
             ]
            ],
            "type": "heatmap"
           }
          ],
          "heatmapgl": [
           {
            "colorbar": {
             "outlinewidth": 0,
             "ticks": ""
            },
            "colorscale": [
             [
              0,
              "#0d0887"
             ],
             [
              0.1111111111111111,
              "#46039f"
             ],
             [
              0.2222222222222222,
              "#7201a8"
             ],
             [
              0.3333333333333333,
              "#9c179e"
             ],
             [
              0.4444444444444444,
              "#bd3786"
             ],
             [
              0.5555555555555556,
              "#d8576b"
             ],
             [
              0.6666666666666666,
              "#ed7953"
             ],
             [
              0.7777777777777778,
              "#fb9f3a"
             ],
             [
              0.8888888888888888,
              "#fdca26"
             ],
             [
              1,
              "#f0f921"
             ]
            ],
            "type": "heatmapgl"
           }
          ],
          "histogram": [
           {
            "marker": {
             "pattern": {
              "fillmode": "overlay",
              "size": 10,
              "solidity": 0.2
             }
            },
            "type": "histogram"
           }
          ],
          "histogram2d": [
           {
            "colorbar": {
             "outlinewidth": 0,
             "ticks": ""
            },
            "colorscale": [
             [
              0,
              "#0d0887"
             ],
             [
              0.1111111111111111,
              "#46039f"
             ],
             [
              0.2222222222222222,
              "#7201a8"
             ],
             [
              0.3333333333333333,
              "#9c179e"
             ],
             [
              0.4444444444444444,
              "#bd3786"
             ],
             [
              0.5555555555555556,
              "#d8576b"
             ],
             [
              0.6666666666666666,
              "#ed7953"
             ],
             [
              0.7777777777777778,
              "#fb9f3a"
             ],
             [
              0.8888888888888888,
              "#fdca26"
             ],
             [
              1,
              "#f0f921"
             ]
            ],
            "type": "histogram2d"
           }
          ],
          "histogram2dcontour": [
           {
            "colorbar": {
             "outlinewidth": 0,
             "ticks": ""
            },
            "colorscale": [
             [
              0,
              "#0d0887"
             ],
             [
              0.1111111111111111,
              "#46039f"
             ],
             [
              0.2222222222222222,
              "#7201a8"
             ],
             [
              0.3333333333333333,
              "#9c179e"
             ],
             [
              0.4444444444444444,
              "#bd3786"
             ],
             [
              0.5555555555555556,
              "#d8576b"
             ],
             [
              0.6666666666666666,
              "#ed7953"
             ],
             [
              0.7777777777777778,
              "#fb9f3a"
             ],
             [
              0.8888888888888888,
              "#fdca26"
             ],
             [
              1,
              "#f0f921"
             ]
            ],
            "type": "histogram2dcontour"
           }
          ],
          "mesh3d": [
           {
            "colorbar": {
             "outlinewidth": 0,
             "ticks": ""
            },
            "type": "mesh3d"
           }
          ],
          "parcoords": [
           {
            "line": {
             "colorbar": {
              "outlinewidth": 0,
              "ticks": ""
             }
            },
            "type": "parcoords"
           }
          ],
          "pie": [
           {
            "automargin": true,
            "type": "pie"
           }
          ],
          "scatter": [
           {
            "fillpattern": {
             "fillmode": "overlay",
             "size": 10,
             "solidity": 0.2
            },
            "type": "scatter"
           }
          ],
          "scatter3d": [
           {
            "line": {
             "colorbar": {
              "outlinewidth": 0,
              "ticks": ""
             }
            },
            "marker": {
             "colorbar": {
              "outlinewidth": 0,
              "ticks": ""
             }
            },
            "type": "scatter3d"
           }
          ],
          "scattercarpet": [
           {
            "marker": {
             "colorbar": {
              "outlinewidth": 0,
              "ticks": ""
             }
            },
            "type": "scattercarpet"
           }
          ],
          "scattergeo": [
           {
            "marker": {
             "colorbar": {
              "outlinewidth": 0,
              "ticks": ""
             }
            },
            "type": "scattergeo"
           }
          ],
          "scattergl": [
           {
            "marker": {
             "colorbar": {
              "outlinewidth": 0,
              "ticks": ""
             }
            },
            "type": "scattergl"
           }
          ],
          "scattermapbox": [
           {
            "marker": {
             "colorbar": {
              "outlinewidth": 0,
              "ticks": ""
             }
            },
            "type": "scattermapbox"
           }
          ],
          "scatterpolar": [
           {
            "marker": {
             "colorbar": {
              "outlinewidth": 0,
              "ticks": ""
             }
            },
            "type": "scatterpolar"
           }
          ],
          "scatterpolargl": [
           {
            "marker": {
             "colorbar": {
              "outlinewidth": 0,
              "ticks": ""
             }
            },
            "type": "scatterpolargl"
           }
          ],
          "scatterternary": [
           {
            "marker": {
             "colorbar": {
              "outlinewidth": 0,
              "ticks": ""
             }
            },
            "type": "scatterternary"
           }
          ],
          "surface": [
           {
            "colorbar": {
             "outlinewidth": 0,
             "ticks": ""
            },
            "colorscale": [
             [
              0,
              "#0d0887"
             ],
             [
              0.1111111111111111,
              "#46039f"
             ],
             [
              0.2222222222222222,
              "#7201a8"
             ],
             [
              0.3333333333333333,
              "#9c179e"
             ],
             [
              0.4444444444444444,
              "#bd3786"
             ],
             [
              0.5555555555555556,
              "#d8576b"
             ],
             [
              0.6666666666666666,
              "#ed7953"
             ],
             [
              0.7777777777777778,
              "#fb9f3a"
             ],
             [
              0.8888888888888888,
              "#fdca26"
             ],
             [
              1,
              "#f0f921"
             ]
            ],
            "type": "surface"
           }
          ],
          "table": [
           {
            "cells": {
             "fill": {
              "color": "#EBF0F8"
             },
             "line": {
              "color": "white"
             }
            },
            "header": {
             "fill": {
              "color": "#C8D4E3"
             },
             "line": {
              "color": "white"
             }
            },
            "type": "table"
           }
          ]
         },
         "layout": {
          "annotationdefaults": {
           "arrowcolor": "#2a3f5f",
           "arrowhead": 0,
           "arrowwidth": 1
          },
          "autotypenumbers": "strict",
          "coloraxis": {
           "colorbar": {
            "outlinewidth": 0,
            "ticks": ""
           }
          },
          "colorscale": {
           "diverging": [
            [
             0,
             "#8e0152"
            ],
            [
             0.1,
             "#c51b7d"
            ],
            [
             0.2,
             "#de77ae"
            ],
            [
             0.3,
             "#f1b6da"
            ],
            [
             0.4,
             "#fde0ef"
            ],
            [
             0.5,
             "#f7f7f7"
            ],
            [
             0.6,
             "#e6f5d0"
            ],
            [
             0.7,
             "#b8e186"
            ],
            [
             0.8,
             "#7fbc41"
            ],
            [
             0.9,
             "#4d9221"
            ],
            [
             1,
             "#276419"
            ]
           ],
           "sequential": [
            [
             0,
             "#0d0887"
            ],
            [
             0.1111111111111111,
             "#46039f"
            ],
            [
             0.2222222222222222,
             "#7201a8"
            ],
            [
             0.3333333333333333,
             "#9c179e"
            ],
            [
             0.4444444444444444,
             "#bd3786"
            ],
            [
             0.5555555555555556,
             "#d8576b"
            ],
            [
             0.6666666666666666,
             "#ed7953"
            ],
            [
             0.7777777777777778,
             "#fb9f3a"
            ],
            [
             0.8888888888888888,
             "#fdca26"
            ],
            [
             1,
             "#f0f921"
            ]
           ],
           "sequentialminus": [
            [
             0,
             "#0d0887"
            ],
            [
             0.1111111111111111,
             "#46039f"
            ],
            [
             0.2222222222222222,
             "#7201a8"
            ],
            [
             0.3333333333333333,
             "#9c179e"
            ],
            [
             0.4444444444444444,
             "#bd3786"
            ],
            [
             0.5555555555555556,
             "#d8576b"
            ],
            [
             0.6666666666666666,
             "#ed7953"
            ],
            [
             0.7777777777777778,
             "#fb9f3a"
            ],
            [
             0.8888888888888888,
             "#fdca26"
            ],
            [
             1,
             "#f0f921"
            ]
           ]
          },
          "colorway": [
           "#636efa",
           "#EF553B",
           "#00cc96",
           "#ab63fa",
           "#FFA15A",
           "#19d3f3",
           "#FF6692",
           "#B6E880",
           "#FF97FF",
           "#FECB52"
          ],
          "font": {
           "color": "#2a3f5f"
          },
          "geo": {
           "bgcolor": "white",
           "lakecolor": "white",
           "landcolor": "#E5ECF6",
           "showlakes": true,
           "showland": true,
           "subunitcolor": "white"
          },
          "hoverlabel": {
           "align": "left"
          },
          "hovermode": "closest",
          "mapbox": {
           "style": "light"
          },
          "paper_bgcolor": "white",
          "plot_bgcolor": "#E5ECF6",
          "polar": {
           "angularaxis": {
            "gridcolor": "white",
            "linecolor": "white",
            "ticks": ""
           },
           "bgcolor": "#E5ECF6",
           "radialaxis": {
            "gridcolor": "white",
            "linecolor": "white",
            "ticks": ""
           }
          },
          "scene": {
           "xaxis": {
            "backgroundcolor": "#E5ECF6",
            "gridcolor": "white",
            "gridwidth": 2,
            "linecolor": "white",
            "showbackground": true,
            "ticks": "",
            "zerolinecolor": "white"
           },
           "yaxis": {
            "backgroundcolor": "#E5ECF6",
            "gridcolor": "white",
            "gridwidth": 2,
            "linecolor": "white",
            "showbackground": true,
            "ticks": "",
            "zerolinecolor": "white"
           },
           "zaxis": {
            "backgroundcolor": "#E5ECF6",
            "gridcolor": "white",
            "gridwidth": 2,
            "linecolor": "white",
            "showbackground": true,
            "ticks": "",
            "zerolinecolor": "white"
           }
          },
          "shapedefaults": {
           "line": {
            "color": "#2a3f5f"
           }
          },
          "ternary": {
           "aaxis": {
            "gridcolor": "white",
            "linecolor": "white",
            "ticks": ""
           },
           "baxis": {
            "gridcolor": "white",
            "linecolor": "white",
            "ticks": ""
           },
           "bgcolor": "#E5ECF6",
           "caxis": {
            "gridcolor": "white",
            "linecolor": "white",
            "ticks": ""
           }
          },
          "title": {
           "x": 0.05
          },
          "xaxis": {
           "automargin": true,
           "gridcolor": "white",
           "linecolor": "white",
           "ticks": "",
           "title": {
            "standoff": 15
           },
           "zerolinecolor": "white",
           "zerolinewidth": 2
          },
          "yaxis": {
           "automargin": true,
           "gridcolor": "white",
           "linecolor": "white",
           "ticks": "",
           "title": {
            "standoff": 15
           },
           "zerolinecolor": "white",
           "zerolinewidth": 2
          }
         }
        },
        "title": {
         "text": "Hourly Bluebike Trips Near Cutillo Park"
        },
        "width": 600
       }
      }
     },
     "metadata": {},
     "output_type": "display_data"
    },
    {
     "name": "stdout",
     "output_type": "stream",
     "text": [
      "1 nearest station to Commercial Wharf Harborwalk: Aquarium T Stop - 200 Atlantic Ave\n"
     ]
    },
    {
     "name": "stderr",
     "output_type": "stream",
     "text": [
      "/Users/henrywu/opt/anaconda3/lib/python3.9/site-packages/plotly/express/_core.py:271: FutureWarning:\n",
      "\n",
      "The frame.append method is deprecated and will be removed from pandas in a future version. Use pandas.concat instead.\n",
      "\n",
      "/Users/henrywu/opt/anaconda3/lib/python3.9/site-packages/plotly/express/_core.py:271: FutureWarning:\n",
      "\n",
      "The frame.append method is deprecated and will be removed from pandas in a future version. Use pandas.concat instead.\n",
      "\n",
      "/Users/henrywu/opt/anaconda3/lib/python3.9/site-packages/plotly/express/_core.py:271: FutureWarning:\n",
      "\n",
      "The frame.append method is deprecated and will be removed from pandas in a future version. Use pandas.concat instead.\n",
      "\n",
      "/Users/henrywu/opt/anaconda3/lib/python3.9/site-packages/plotly/express/_core.py:271: FutureWarning:\n",
      "\n",
      "The frame.append method is deprecated and will be removed from pandas in a future version. Use pandas.concat instead.\n",
      "\n"
     ]
    },
    {
     "data": {
      "application/vnd.plotly.v1+json": {
       "config": {
        "plotlyServerURL": "https://plot.ly"
       },
       "data": [
        {
         "customdata": [
          [
           1.1149789029535866,
           7.5
          ],
          [
           0.9156118143459916,
           22.5
          ],
          [
           0.6835443037974683,
           37.5
          ],
          [
           0.3681434599156118,
           52.5
          ],
          [
           0.18565400843881857,
           67.5
          ],
          [
           0.5390295358649789,
           82.5
          ],
          [
           3.537974683544304,
           97.5
          ],
          [
           5.602320675105485,
           112.5
          ],
          [
           6.801687763713081,
           127.5
          ],
          [
           2.9261603375527425,
           142.5
          ],
          [
           1.8375527426160339,
           157.5
          ],
          [
           2.5063291139240507,
           172.5
          ],
          [
           3.2964135021097047,
           187.5
          ],
          [
           3.0938818565400843,
           202.5
          ],
          [
           3.1487341772151898,
           217.5
          ],
          [
           3.99789029535865,
           232.5
          ],
          [
           5.2594936708860756,
           247.5
          ],
          [
           7.162447257383966,
           262.5
          ],
          [
           5.848101265822785,
           277.5
          ],
          [
           4.391350210970464,
           292.5
          ],
          [
           3.451476793248945,
           307.5
          ],
          [
           3.382911392405063,
           322.5
          ],
          [
           2.8164556962025316,
           337.5
          ],
          [
           1.8280590717299579,
           352.5
          ],
          [
           1.1149789029535866,
           7.5
          ]
         ],
         "hovertemplate": "Day Type=Weekday<br>Trip Type=Departures<br>Trips=%{customdata[0]:.2f}<extra></extra>",
         "legendgroup": "Weekday, Departures",
         "line": {
          "color": "#636efa",
          "dash": "solid"
         },
         "marker": {
          "symbol": "circle"
         },
         "mode": "lines",
         "name": "Weekday, Departures",
         "r": [
          1.1149789029535866,
          0.9156118143459916,
          0.6835443037974683,
          0.3681434599156118,
          0.18565400843881857,
          0.5390295358649789,
          3.537974683544304,
          5.602320675105485,
          6.801687763713081,
          2.9261603375527425,
          1.8375527426160339,
          2.5063291139240507,
          3.2964135021097047,
          3.0938818565400843,
          3.1487341772151898,
          3.99789029535865,
          5.2594936708860756,
          7.162447257383966,
          5.848101265822785,
          4.391350210970464,
          3.451476793248945,
          3.382911392405063,
          2.8164556962025316,
          1.8280590717299579,
          1.1149789029535866
         ],
         "showlegend": true,
         "subplot": "polar",
         "theta": [
          7.5,
          22.5,
          37.5,
          52.5,
          67.5,
          82.5,
          97.5,
          112.5,
          127.5,
          142.5,
          157.5,
          172.5,
          187.5,
          202.5,
          217.5,
          232.5,
          247.5,
          262.5,
          277.5,
          292.5,
          307.5,
          322.5,
          337.5,
          352.5,
          7.5
         ],
         "type": "scatterpolar"
        },
        {
         "customdata": [
          [
           1.2151898734177216,
           7.5
          ],
          [
           0.6972573839662447,
           22.5
          ],
          [
           0.6993670886075949,
           37.5
          ],
          [
           0.4620253164556962,
           52.5
          ],
          [
           0.2542194092827004,
           67.5
          ],
          [
           0.29852320675105487,
           82.5
          ],
          [
           0.7858649789029536,
           97.5
          ],
          [
           1.9166666666666667,
           112.5
          ],
          [
           4.276371308016878,
           127.5
          ],
          [
           2.7647679324894514,
           142.5
          ],
          [
           1.959915611814346,
           157.5
          ],
          [
           2.542194092827004,
           172.5
          ],
          [
           3.382911392405063,
           187.5
          ],
          [
           3.7742616033755274,
           202.5
          ],
          [
           4.125527426160337,
           217.5
          ],
          [
           5.4905063291139244,
           232.5
          ],
          [
           8.679324894514767,
           247.5
          ],
          [
           10.035864978902953,
           262.5
          ],
          [
           6.581223628691983,
           277.5
          ],
          [
           4.748945147679325,
           292.5
          ],
          [
           3.7721518987341773,
           307.5
          ],
          [
           3.6571729957805905,
           322.5
          ],
          [
           3.0875527426160336,
           337.5
          ],
          [
           2.2236286919831225,
           352.5
          ],
          [
           1.2151898734177216,
           7.5
          ]
         ],
         "hovertemplate": "Day Type=Weekday<br>Trip Type=Arrivals<br>Trips=%{customdata[0]:.2f}<extra></extra>",
         "legendgroup": "Weekday, Arrivals",
         "line": {
          "color": "#636efa",
          "dash": "dot"
         },
         "marker": {
          "symbol": "circle"
         },
         "mode": "lines",
         "name": "Weekday, Arrivals",
         "r": [
          1.2151898734177216,
          0.6972573839662447,
          0.6993670886075949,
          0.4620253164556962,
          0.2542194092827004,
          0.29852320675105487,
          0.7858649789029536,
          1.9166666666666667,
          4.276371308016878,
          2.7647679324894514,
          1.959915611814346,
          2.542194092827004,
          3.382911392405063,
          3.7742616033755274,
          4.125527426160337,
          5.4905063291139244,
          8.679324894514767,
          10.035864978902953,
          6.581223628691983,
          4.748945147679325,
          3.7721518987341773,
          3.6571729957805905,
          3.0875527426160336,
          2.2236286919831225,
          1.2151898734177216
         ],
         "showlegend": true,
         "subplot": "polar",
         "theta": [
          7.5,
          22.5,
          37.5,
          52.5,
          67.5,
          82.5,
          97.5,
          112.5,
          127.5,
          142.5,
          157.5,
          172.5,
          187.5,
          202.5,
          217.5,
          232.5,
          247.5,
          262.5,
          277.5,
          292.5,
          307.5,
          322.5,
          337.5,
          352.5,
          7.5
         ],
         "type": "scatterpolar"
        },
        {
         "customdata": [
          [
           0.9145569620253164,
           7.5
          ],
          [
           0.8006329113924051,
           22.5
          ],
          [
           0.6487341772151899,
           37.5
          ],
          [
           0.44936708860759494,
           52.5
          ],
          [
           0.35232067510548526,
           67.5
          ],
          [
           0.5295358649789029,
           82.5
          ],
          [
           0.3639240506329114,
           97.5
          ],
          [
           0.2921940928270042,
           112.5
          ],
          [
           0.5147679324894515,
           127.5
          ],
          [
           0.7795358649789029,
           142.5
          ],
          [
           0.9672995780590717,
           157.5
          ],
          [
           1.4187763713080168,
           172.5
          ],
          [
           1.8037974683544304,
           187.5
          ],
          [
           2.2858649789029535,
           202.5
          ],
          [
           2.6751054852320677,
           217.5
          ],
          [
           3.018987341772152,
           232.5
          ],
          [
           2.831223628691983,
           247.5
          ],
          [
           2.7605485232067513,
           262.5
          ],
          [
           2.4345991561181433,
           277.5
          ],
          [
           2.0168776371308015,
           292.5
          ],
          [
           1.7151898734177216,
           307.5
          ],
          [
           1.4831223628691983,
           322.5
          ],
          [
           1.3006329113924051,
           337.5
          ],
          [
           0.9841772151898734,
           352.5
          ],
          [
           0.9145569620253164,
           7.5
          ]
         ],
         "hovertemplate": "Day Type=Weekend<br>Trip Type=Departures<br>Trips=%{customdata[0]:.2f}<extra></extra>",
         "legendgroup": "Weekend, Departures",
         "line": {
          "color": "#EF553B",
          "dash": "solid"
         },
         "marker": {
          "symbol": "circle"
         },
         "mode": "lines",
         "name": "Weekend, Departures",
         "r": [
          0.9145569620253164,
          0.8006329113924051,
          0.6487341772151899,
          0.44936708860759494,
          0.35232067510548526,
          0.5295358649789029,
          0.3639240506329114,
          0.2921940928270042,
          0.5147679324894515,
          0.7795358649789029,
          0.9672995780590717,
          1.4187763713080168,
          1.8037974683544304,
          2.2858649789029535,
          2.6751054852320677,
          3.018987341772152,
          2.831223628691983,
          2.7605485232067513,
          2.4345991561181433,
          2.0168776371308015,
          1.7151898734177216,
          1.4831223628691983,
          1.3006329113924051,
          0.9841772151898734,
          0.9145569620253164
         ],
         "showlegend": true,
         "subplot": "polar",
         "theta": [
          7.5,
          22.5,
          37.5,
          52.5,
          67.5,
          82.5,
          97.5,
          112.5,
          127.5,
          142.5,
          157.5,
          172.5,
          187.5,
          202.5,
          217.5,
          232.5,
          247.5,
          262.5,
          277.5,
          292.5,
          307.5,
          322.5,
          337.5,
          352.5,
          7.5
         ],
         "type": "scatterpolar"
        },
        {
         "customdata": [
          [
           0.9008438818565401,
           7.5
          ],
          [
           0.5421940928270043,
           22.5
          ],
          [
           0.4240506329113924,
           37.5
          ],
          [
           0.39767932489451474,
           52.5
          ],
          [
           0.2616033755274262,
           67.5
          ],
          [
           0.19936708860759494,
           82.5
          ],
          [
           0.17405063291139242,
           97.5
          ],
          [
           0.22573839662447256,
           112.5
          ],
          [
           0.6930379746835443,
           127.5
          ],
          [
           0.9324894514767933,
           142.5
          ],
          [
           1.0938818565400843,
           157.5
          ],
          [
           1.4462025316455696,
           172.5
          ],
          [
           1.8734177215189873,
           187.5
          ],
          [
           2.345991561181435,
           202.5
          ],
          [
           2.6550632911392404,
           217.5
          ],
          [
           2.857594936708861,
           232.5
          ],
          [
           2.9356540084388185,
           247.5
          ],
          [
           2.738396624472574,
           262.5
          ],
          [
           2.457805907172996,
           277.5
          ],
          [
           2.2278481012658227,
           292.5
          ],
          [
           1.869198312236287,
           307.5
          ],
          [
           1.4335443037974684,
           322.5
          ],
          [
           1.3175105485232068,
           337.5
          ],
          [
           1.0654008438818565,
           352.5
          ],
          [
           0.9008438818565401,
           7.5
          ]
         ],
         "hovertemplate": "Day Type=Weekend<br>Trip Type=Arrivals<br>Trips=%{customdata[0]:.2f}<extra></extra>",
         "legendgroup": "Weekend, Arrivals",
         "line": {
          "color": "#EF553B",
          "dash": "dot"
         },
         "marker": {
          "symbol": "circle"
         },
         "mode": "lines",
         "name": "Weekend, Arrivals",
         "r": [
          0.9008438818565401,
          0.5421940928270043,
          0.4240506329113924,
          0.39767932489451474,
          0.2616033755274262,
          0.19936708860759494,
          0.17405063291139242,
          0.22573839662447256,
          0.6930379746835443,
          0.9324894514767933,
          1.0938818565400843,
          1.4462025316455696,
          1.8734177215189873,
          2.345991561181435,
          2.6550632911392404,
          2.857594936708861,
          2.9356540084388185,
          2.738396624472574,
          2.457805907172996,
          2.2278481012658227,
          1.869198312236287,
          1.4335443037974684,
          1.3175105485232068,
          1.0654008438818565,
          0.9008438818565401
         ],
         "showlegend": true,
         "subplot": "polar",
         "theta": [
          7.5,
          22.5,
          37.5,
          52.5,
          67.5,
          82.5,
          97.5,
          112.5,
          127.5,
          142.5,
          157.5,
          172.5,
          187.5,
          202.5,
          217.5,
          232.5,
          247.5,
          262.5,
          277.5,
          292.5,
          307.5,
          322.5,
          337.5,
          352.5,
          7.5
         ],
         "type": "scatterpolar"
        }
       ],
       "layout": {
        "height": 500,
        "legend": {
         "title": {
          "text": ""
         },
         "tracegroupgap": 0
        },
        "margin": {
         "t": 60
        },
        "polar": {
         "angularaxis": {
          "direction": "clockwise",
          "rotation": -90,
          "tickmode": "array",
          "ticktext": [
           "12 AM",
           "1 AM",
           "2 AM",
           "3 AM",
           "4 AM",
           "5 AM",
           "6 AM",
           "7 AM",
           "8 AM",
           "9 AM",
           "10 AM",
           "11 AM",
           "12 PM",
           "1 PM",
           "2 PM",
           "3 PM",
           "4 PM",
           "5 PM",
           "6 PM",
           "7 PM",
           "8 PM",
           "9 PM",
           "10 PM",
           "11 PM"
          ],
          "tickvals": [
           0,
           15,
           30,
           45,
           60,
           75,
           90,
           105,
           120,
           135,
           150,
           165,
           180,
           195,
           210,
           225,
           240,
           255,
           270,
           285,
           300,
           315,
           330,
           345
          ]
         },
         "domain": {
          "x": [
           0,
           1
          ],
          "y": [
           0,
           1
          ]
         }
        },
        "template": {
         "data": {
          "bar": [
           {
            "error_x": {
             "color": "#2a3f5f"
            },
            "error_y": {
             "color": "#2a3f5f"
            },
            "marker": {
             "line": {
              "color": "#E5ECF6",
              "width": 0.5
             },
             "pattern": {
              "fillmode": "overlay",
              "size": 10,
              "solidity": 0.2
             }
            },
            "type": "bar"
           }
          ],
          "barpolar": [
           {
            "marker": {
             "line": {
              "color": "#E5ECF6",
              "width": 0.5
             },
             "pattern": {
              "fillmode": "overlay",
              "size": 10,
              "solidity": 0.2
             }
            },
            "type": "barpolar"
           }
          ],
          "carpet": [
           {
            "aaxis": {
             "endlinecolor": "#2a3f5f",
             "gridcolor": "white",
             "linecolor": "white",
             "minorgridcolor": "white",
             "startlinecolor": "#2a3f5f"
            },
            "baxis": {
             "endlinecolor": "#2a3f5f",
             "gridcolor": "white",
             "linecolor": "white",
             "minorgridcolor": "white",
             "startlinecolor": "#2a3f5f"
            },
            "type": "carpet"
           }
          ],
          "choropleth": [
           {
            "colorbar": {
             "outlinewidth": 0,
             "ticks": ""
            },
            "type": "choropleth"
           }
          ],
          "contour": [
           {
            "colorbar": {
             "outlinewidth": 0,
             "ticks": ""
            },
            "colorscale": [
             [
              0,
              "#0d0887"
             ],
             [
              0.1111111111111111,
              "#46039f"
             ],
             [
              0.2222222222222222,
              "#7201a8"
             ],
             [
              0.3333333333333333,
              "#9c179e"
             ],
             [
              0.4444444444444444,
              "#bd3786"
             ],
             [
              0.5555555555555556,
              "#d8576b"
             ],
             [
              0.6666666666666666,
              "#ed7953"
             ],
             [
              0.7777777777777778,
              "#fb9f3a"
             ],
             [
              0.8888888888888888,
              "#fdca26"
             ],
             [
              1,
              "#f0f921"
             ]
            ],
            "type": "contour"
           }
          ],
          "contourcarpet": [
           {
            "colorbar": {
             "outlinewidth": 0,
             "ticks": ""
            },
            "type": "contourcarpet"
           }
          ],
          "heatmap": [
           {
            "colorbar": {
             "outlinewidth": 0,
             "ticks": ""
            },
            "colorscale": [
             [
              0,
              "#0d0887"
             ],
             [
              0.1111111111111111,
              "#46039f"
             ],
             [
              0.2222222222222222,
              "#7201a8"
             ],
             [
              0.3333333333333333,
              "#9c179e"
             ],
             [
              0.4444444444444444,
              "#bd3786"
             ],
             [
              0.5555555555555556,
              "#d8576b"
             ],
             [
              0.6666666666666666,
              "#ed7953"
             ],
             [
              0.7777777777777778,
              "#fb9f3a"
             ],
             [
              0.8888888888888888,
              "#fdca26"
             ],
             [
              1,
              "#f0f921"
             ]
            ],
            "type": "heatmap"
           }
          ],
          "heatmapgl": [
           {
            "colorbar": {
             "outlinewidth": 0,
             "ticks": ""
            },
            "colorscale": [
             [
              0,
              "#0d0887"
             ],
             [
              0.1111111111111111,
              "#46039f"
             ],
             [
              0.2222222222222222,
              "#7201a8"
             ],
             [
              0.3333333333333333,
              "#9c179e"
             ],
             [
              0.4444444444444444,
              "#bd3786"
             ],
             [
              0.5555555555555556,
              "#d8576b"
             ],
             [
              0.6666666666666666,
              "#ed7953"
             ],
             [
              0.7777777777777778,
              "#fb9f3a"
             ],
             [
              0.8888888888888888,
              "#fdca26"
             ],
             [
              1,
              "#f0f921"
             ]
            ],
            "type": "heatmapgl"
           }
          ],
          "histogram": [
           {
            "marker": {
             "pattern": {
              "fillmode": "overlay",
              "size": 10,
              "solidity": 0.2
             }
            },
            "type": "histogram"
           }
          ],
          "histogram2d": [
           {
            "colorbar": {
             "outlinewidth": 0,
             "ticks": ""
            },
            "colorscale": [
             [
              0,
              "#0d0887"
             ],
             [
              0.1111111111111111,
              "#46039f"
             ],
             [
              0.2222222222222222,
              "#7201a8"
             ],
             [
              0.3333333333333333,
              "#9c179e"
             ],
             [
              0.4444444444444444,
              "#bd3786"
             ],
             [
              0.5555555555555556,
              "#d8576b"
             ],
             [
              0.6666666666666666,
              "#ed7953"
             ],
             [
              0.7777777777777778,
              "#fb9f3a"
             ],
             [
              0.8888888888888888,
              "#fdca26"
             ],
             [
              1,
              "#f0f921"
             ]
            ],
            "type": "histogram2d"
           }
          ],
          "histogram2dcontour": [
           {
            "colorbar": {
             "outlinewidth": 0,
             "ticks": ""
            },
            "colorscale": [
             [
              0,
              "#0d0887"
             ],
             [
              0.1111111111111111,
              "#46039f"
             ],
             [
              0.2222222222222222,
              "#7201a8"
             ],
             [
              0.3333333333333333,
              "#9c179e"
             ],
             [
              0.4444444444444444,
              "#bd3786"
             ],
             [
              0.5555555555555556,
              "#d8576b"
             ],
             [
              0.6666666666666666,
              "#ed7953"
             ],
             [
              0.7777777777777778,
              "#fb9f3a"
             ],
             [
              0.8888888888888888,
              "#fdca26"
             ],
             [
              1,
              "#f0f921"
             ]
            ],
            "type": "histogram2dcontour"
           }
          ],
          "mesh3d": [
           {
            "colorbar": {
             "outlinewidth": 0,
             "ticks": ""
            },
            "type": "mesh3d"
           }
          ],
          "parcoords": [
           {
            "line": {
             "colorbar": {
              "outlinewidth": 0,
              "ticks": ""
             }
            },
            "type": "parcoords"
           }
          ],
          "pie": [
           {
            "automargin": true,
            "type": "pie"
           }
          ],
          "scatter": [
           {
            "fillpattern": {
             "fillmode": "overlay",
             "size": 10,
             "solidity": 0.2
            },
            "type": "scatter"
           }
          ],
          "scatter3d": [
           {
            "line": {
             "colorbar": {
              "outlinewidth": 0,
              "ticks": ""
             }
            },
            "marker": {
             "colorbar": {
              "outlinewidth": 0,
              "ticks": ""
             }
            },
            "type": "scatter3d"
           }
          ],
          "scattercarpet": [
           {
            "marker": {
             "colorbar": {
              "outlinewidth": 0,
              "ticks": ""
             }
            },
            "type": "scattercarpet"
           }
          ],
          "scattergeo": [
           {
            "marker": {
             "colorbar": {
              "outlinewidth": 0,
              "ticks": ""
             }
            },
            "type": "scattergeo"
           }
          ],
          "scattergl": [
           {
            "marker": {
             "colorbar": {
              "outlinewidth": 0,
              "ticks": ""
             }
            },
            "type": "scattergl"
           }
          ],
          "scattermapbox": [
           {
            "marker": {
             "colorbar": {
              "outlinewidth": 0,
              "ticks": ""
             }
            },
            "type": "scattermapbox"
           }
          ],
          "scatterpolar": [
           {
            "marker": {
             "colorbar": {
              "outlinewidth": 0,
              "ticks": ""
             }
            },
            "type": "scatterpolar"
           }
          ],
          "scatterpolargl": [
           {
            "marker": {
             "colorbar": {
              "outlinewidth": 0,
              "ticks": ""
             }
            },
            "type": "scatterpolargl"
           }
          ],
          "scatterternary": [
           {
            "marker": {
             "colorbar": {
              "outlinewidth": 0,
              "ticks": ""
             }
            },
            "type": "scatterternary"
           }
          ],
          "surface": [
           {
            "colorbar": {
             "outlinewidth": 0,
             "ticks": ""
            },
            "colorscale": [
             [
              0,
              "#0d0887"
             ],
             [
              0.1111111111111111,
              "#46039f"
             ],
             [
              0.2222222222222222,
              "#7201a8"
             ],
             [
              0.3333333333333333,
              "#9c179e"
             ],
             [
              0.4444444444444444,
              "#bd3786"
             ],
             [
              0.5555555555555556,
              "#d8576b"
             ],
             [
              0.6666666666666666,
              "#ed7953"
             ],
             [
              0.7777777777777778,
              "#fb9f3a"
             ],
             [
              0.8888888888888888,
              "#fdca26"
             ],
             [
              1,
              "#f0f921"
             ]
            ],
            "type": "surface"
           }
          ],
          "table": [
           {
            "cells": {
             "fill": {
              "color": "#EBF0F8"
             },
             "line": {
              "color": "white"
             }
            },
            "header": {
             "fill": {
              "color": "#C8D4E3"
             },
             "line": {
              "color": "white"
             }
            },
            "type": "table"
           }
          ]
         },
         "layout": {
          "annotationdefaults": {
           "arrowcolor": "#2a3f5f",
           "arrowhead": 0,
           "arrowwidth": 1
          },
          "autotypenumbers": "strict",
          "coloraxis": {
           "colorbar": {
            "outlinewidth": 0,
            "ticks": ""
           }
          },
          "colorscale": {
           "diverging": [
            [
             0,
             "#8e0152"
            ],
            [
             0.1,
             "#c51b7d"
            ],
            [
             0.2,
             "#de77ae"
            ],
            [
             0.3,
             "#f1b6da"
            ],
            [
             0.4,
             "#fde0ef"
            ],
            [
             0.5,
             "#f7f7f7"
            ],
            [
             0.6,
             "#e6f5d0"
            ],
            [
             0.7,
             "#b8e186"
            ],
            [
             0.8,
             "#7fbc41"
            ],
            [
             0.9,
             "#4d9221"
            ],
            [
             1,
             "#276419"
            ]
           ],
           "sequential": [
            [
             0,
             "#0d0887"
            ],
            [
             0.1111111111111111,
             "#46039f"
            ],
            [
             0.2222222222222222,
             "#7201a8"
            ],
            [
             0.3333333333333333,
             "#9c179e"
            ],
            [
             0.4444444444444444,
             "#bd3786"
            ],
            [
             0.5555555555555556,
             "#d8576b"
            ],
            [
             0.6666666666666666,
             "#ed7953"
            ],
            [
             0.7777777777777778,
             "#fb9f3a"
            ],
            [
             0.8888888888888888,
             "#fdca26"
            ],
            [
             1,
             "#f0f921"
            ]
           ],
           "sequentialminus": [
            [
             0,
             "#0d0887"
            ],
            [
             0.1111111111111111,
             "#46039f"
            ],
            [
             0.2222222222222222,
             "#7201a8"
            ],
            [
             0.3333333333333333,
             "#9c179e"
            ],
            [
             0.4444444444444444,
             "#bd3786"
            ],
            [
             0.5555555555555556,
             "#d8576b"
            ],
            [
             0.6666666666666666,
             "#ed7953"
            ],
            [
             0.7777777777777778,
             "#fb9f3a"
            ],
            [
             0.8888888888888888,
             "#fdca26"
            ],
            [
             1,
             "#f0f921"
            ]
           ]
          },
          "colorway": [
           "#636efa",
           "#EF553B",
           "#00cc96",
           "#ab63fa",
           "#FFA15A",
           "#19d3f3",
           "#FF6692",
           "#B6E880",
           "#FF97FF",
           "#FECB52"
          ],
          "font": {
           "color": "#2a3f5f"
          },
          "geo": {
           "bgcolor": "white",
           "lakecolor": "white",
           "landcolor": "#E5ECF6",
           "showlakes": true,
           "showland": true,
           "subunitcolor": "white"
          },
          "hoverlabel": {
           "align": "left"
          },
          "hovermode": "closest",
          "mapbox": {
           "style": "light"
          },
          "paper_bgcolor": "white",
          "plot_bgcolor": "#E5ECF6",
          "polar": {
           "angularaxis": {
            "gridcolor": "white",
            "linecolor": "white",
            "ticks": ""
           },
           "bgcolor": "#E5ECF6",
           "radialaxis": {
            "gridcolor": "white",
            "linecolor": "white",
            "ticks": ""
           }
          },
          "scene": {
           "xaxis": {
            "backgroundcolor": "#E5ECF6",
            "gridcolor": "white",
            "gridwidth": 2,
            "linecolor": "white",
            "showbackground": true,
            "ticks": "",
            "zerolinecolor": "white"
           },
           "yaxis": {
            "backgroundcolor": "#E5ECF6",
            "gridcolor": "white",
            "gridwidth": 2,
            "linecolor": "white",
            "showbackground": true,
            "ticks": "",
            "zerolinecolor": "white"
           },
           "zaxis": {
            "backgroundcolor": "#E5ECF6",
            "gridcolor": "white",
            "gridwidth": 2,
            "linecolor": "white",
            "showbackground": true,
            "ticks": "",
            "zerolinecolor": "white"
           }
          },
          "shapedefaults": {
           "line": {
            "color": "#2a3f5f"
           }
          },
          "ternary": {
           "aaxis": {
            "gridcolor": "white",
            "linecolor": "white",
            "ticks": ""
           },
           "baxis": {
            "gridcolor": "white",
            "linecolor": "white",
            "ticks": ""
           },
           "bgcolor": "#E5ECF6",
           "caxis": {
            "gridcolor": "white",
            "linecolor": "white",
            "ticks": ""
           }
          },
          "title": {
           "x": 0.05
          },
          "xaxis": {
           "automargin": true,
           "gridcolor": "white",
           "linecolor": "white",
           "ticks": "",
           "title": {
            "standoff": 15
           },
           "zerolinecolor": "white",
           "zerolinewidth": 2
          },
          "yaxis": {
           "automargin": true,
           "gridcolor": "white",
           "linecolor": "white",
           "ticks": "",
           "title": {
            "standoff": 15
           },
           "zerolinecolor": "white",
           "zerolinewidth": 2
          }
         }
        },
        "title": {
         "text": "Hourly Bluebike Trips Near Commercial Wharf Harborwalk"
        },
        "width": 600
       }
      }
     },
     "metadata": {},
     "output_type": "display_data"
    },
    {
     "name": "stdout",
     "output_type": "stream",
     "text": [
      "4 nearest stations to King's Chapel Burying Ground: One Beacon St, Government Center - Cambridge St at Court St, Boston City Hall - 28 State St, Tremont St at Hamilton Pl\n"
     ]
    },
    {
     "name": "stderr",
     "output_type": "stream",
     "text": [
      "/Users/henrywu/opt/anaconda3/lib/python3.9/site-packages/plotly/express/_core.py:271: FutureWarning:\n",
      "\n",
      "The frame.append method is deprecated and will be removed from pandas in a future version. Use pandas.concat instead.\n",
      "\n",
      "/Users/henrywu/opt/anaconda3/lib/python3.9/site-packages/plotly/express/_core.py:271: FutureWarning:\n",
      "\n",
      "The frame.append method is deprecated and will be removed from pandas in a future version. Use pandas.concat instead.\n",
      "\n",
      "/Users/henrywu/opt/anaconda3/lib/python3.9/site-packages/plotly/express/_core.py:271: FutureWarning:\n",
      "\n",
      "The frame.append method is deprecated and will be removed from pandas in a future version. Use pandas.concat instead.\n",
      "\n",
      "/Users/henrywu/opt/anaconda3/lib/python3.9/site-packages/plotly/express/_core.py:271: FutureWarning:\n",
      "\n",
      "The frame.append method is deprecated and will be removed from pandas in a future version. Use pandas.concat instead.\n",
      "\n"
     ]
    },
    {
     "data": {
      "application/vnd.plotly.v1+json": {
       "config": {
        "plotlyServerURL": "https://plot.ly"
       },
       "data": [
        {
         "customdata": [
          [
           3.1318565400843883,
           7.5
          ],
          [
           2.161392405063291,
           22.5
          ],
          [
           1.7120253164556962,
           37.5
          ],
          [
           1.1170886075949367,
           52.5
          ],
          [
           0.7130801687763713,
           67.5
          ],
          [
           1.159282700421941,
           82.5
          ],
          [
           2.6044303797468356,
           97.5
          ],
          [
           6.001054852320675,
           112.5
          ],
          [
           13.889240506329115,
           127.5
          ],
          [
           8.51054852320675,
           142.5
          ],
          [
           6.236286919831223,
           157.5
          ],
          [
           8.287974683544304,
           172.5
          ],
          [
           11.881856540084389,
           187.5
          ],
          [
           11.665611814345992,
           202.5
          ],
          [
           11.79746835443038,
           217.5
          ],
          [
           14.364978902953586,
           232.5
          ],
          [
           21.60126582278481,
           247.5
          ],
          [
           30.598101265822784,
           262.5
          ],
          [
           18.925105485232066,
           277.5
          ],
          [
           13.332278481012658,
           292.5
          ],
          [
           11.593881856540085,
           307.5
          ],
          [
           12.558016877637131,
           322.5
          ],
          [
           9.484177215189874,
           337.5
          ],
          [
           6.018987341772152,
           352.5
          ],
          [
           3.1318565400843883,
           7.5
          ]
         ],
         "hovertemplate": "Day Type=Weekday<br>Trip Type=Departures<br>Trips=%{customdata[0]:.2f}<extra></extra>",
         "legendgroup": "Weekday, Departures",
         "line": {
          "color": "#636efa",
          "dash": "solid"
         },
         "marker": {
          "symbol": "circle"
         },
         "mode": "lines",
         "name": "Weekday, Departures",
         "r": [
          3.1318565400843883,
          2.161392405063291,
          1.7120253164556962,
          1.1170886075949367,
          0.7130801687763713,
          1.159282700421941,
          2.6044303797468356,
          6.001054852320675,
          13.889240506329115,
          8.51054852320675,
          6.236286919831223,
          8.287974683544304,
          11.881856540084389,
          11.665611814345992,
          11.79746835443038,
          14.364978902953586,
          21.60126582278481,
          30.598101265822784,
          18.925105485232066,
          13.332278481012658,
          11.593881856540085,
          12.558016877637131,
          9.484177215189874,
          6.018987341772152,
          3.1318565400843883
         ],
         "showlegend": true,
         "subplot": "polar",
         "theta": [
          7.5,
          22.5,
          37.5,
          52.5,
          67.5,
          82.5,
          97.5,
          112.5,
          127.5,
          142.5,
          157.5,
          172.5,
          187.5,
          202.5,
          217.5,
          232.5,
          247.5,
          262.5,
          277.5,
          292.5,
          307.5,
          322.5,
          337.5,
          352.5,
          7.5
         ],
         "type": "scatterpolar"
        },
        {
         "customdata": [
          [
           2.7352320675105486,
           7.5
          ],
          [
           1.731012658227848,
           22.5
          ],
          [
           1.3016877637130801,
           37.5
          ],
          [
           0.959915611814346,
           52.5
          ],
          [
           0.6023206751054853,
           67.5
          ],
          [
           1.1772151898734178,
           82.5
          ],
          [
           3.550632911392405,
           97.5
          ],
          [
           11.30379746835443,
           112.5
          ],
          [
           24.23206751054852,
           127.5
          ],
          [
           15.536919831223628,
           142.5
          ],
          [
           7.666666666666667,
           157.5
          ],
          [
           9.600210970464135,
           172.5
          ],
          [
           14.94831223628692,
           187.5
          ],
          [
           13.428270042194093,
           202.5
          ],
          [
           10.99367088607595,
           217.5
          ],
          [
           11.114978902953586,
           232.5
          ],
          [
           14.254219409282701,
           247.5
          ],
          [
           17.570675105485233,
           262.5
          ],
          [
           13.36603375527426,
           277.5
          ],
          [
           10.477848101265822,
           292.5
          ],
          [
           8.131856540084389,
           307.5
          ],
          [
           7.605485232067511,
           322.5
          ],
          [
           6.930379746835443,
           337.5
          ],
          [
           4.9905063291139244,
           352.5
          ],
          [
           2.7352320675105486,
           7.5
          ]
         ],
         "hovertemplate": "Day Type=Weekday<br>Trip Type=Arrivals<br>Trips=%{customdata[0]:.2f}<extra></extra>",
         "legendgroup": "Weekday, Arrivals",
         "line": {
          "color": "#636efa",
          "dash": "dot"
         },
         "marker": {
          "symbol": "circle"
         },
         "mode": "lines",
         "name": "Weekday, Arrivals",
         "r": [
          2.7352320675105486,
          1.731012658227848,
          1.3016877637130801,
          0.959915611814346,
          0.6023206751054853,
          1.1772151898734178,
          3.550632911392405,
          11.30379746835443,
          24.23206751054852,
          15.536919831223628,
          7.666666666666667,
          9.600210970464135,
          14.94831223628692,
          13.428270042194093,
          10.99367088607595,
          11.114978902953586,
          14.254219409282701,
          17.570675105485233,
          13.36603375527426,
          10.477848101265822,
          8.131856540084389,
          7.605485232067511,
          6.930379746835443,
          4.9905063291139244,
          2.7352320675105486
         ],
         "showlegend": true,
         "subplot": "polar",
         "theta": [
          7.5,
          22.5,
          37.5,
          52.5,
          67.5,
          82.5,
          97.5,
          112.5,
          127.5,
          142.5,
          157.5,
          172.5,
          187.5,
          202.5,
          217.5,
          232.5,
          247.5,
          262.5,
          277.5,
          292.5,
          307.5,
          322.5,
          337.5,
          352.5,
          7.5
         ],
         "type": "scatterpolar"
        },
        {
         "customdata": [
          [
           2.5748945147679323,
           7.5
          ],
          [
           3.0010548523206753,
           22.5
          ],
          [
           1.7225738396624473,
           37.5
          ],
          [
           1.1909282700421941,
           52.5
          ],
          [
           1.2447257383966244,
           67.5
          ],
          [
           1.6951476793248945,
           82.5
          ],
          [
           0.8080168776371308,
           97.5
          ],
          [
           0.6181434599156118,
           112.5
          ],
          [
           0.8512658227848101,
           127.5
          ],
          [
           1.379746835443038,
           142.5
          ],
          [
           1.9767932489451476,
           157.5
          ],
          [
           2.8259493670886076,
           172.5
          ],
          [
           3.532700421940928,
           187.5
          ],
          [
           4.408227848101266,
           202.5
          ],
          [
           5.175105485232067,
           217.5
          ],
          [
           5.744725738396625,
           232.5
          ],
          [
           5.8544303797468356,
           247.5
          ],
          [
           5.493670886075949,
           262.5
          ],
          [
           5.159282700421941,
           277.5
          ],
          [
           4.654008438818566,
           292.5
          ],
          [
           3.909282700421941,
           307.5
          ],
          [
           3.340717299578059,
           322.5
          ],
          [
           3.1582278481012658,
           337.5
          ],
          [
           2.778481012658228,
           352.5
          ],
          [
           2.5748945147679323,
           7.5
          ]
         ],
         "hovertemplate": "Day Type=Weekend<br>Trip Type=Departures<br>Trips=%{customdata[0]:.2f}<extra></extra>",
         "legendgroup": "Weekend, Departures",
         "line": {
          "color": "#EF553B",
          "dash": "solid"
         },
         "marker": {
          "symbol": "circle"
         },
         "mode": "lines",
         "name": "Weekend, Departures",
         "r": [
          2.5748945147679323,
          3.0010548523206753,
          1.7225738396624473,
          1.1909282700421941,
          1.2447257383966244,
          1.6951476793248945,
          0.8080168776371308,
          0.6181434599156118,
          0.8512658227848101,
          1.379746835443038,
          1.9767932489451476,
          2.8259493670886076,
          3.532700421940928,
          4.408227848101266,
          5.175105485232067,
          5.744725738396625,
          5.8544303797468356,
          5.493670886075949,
          5.159282700421941,
          4.654008438818566,
          3.909282700421941,
          3.340717299578059,
          3.1582278481012658,
          2.778481012658228,
          2.5748945147679323
         ],
         "showlegend": true,
         "subplot": "polar",
         "theta": [
          7.5,
          22.5,
          37.5,
          52.5,
          67.5,
          82.5,
          97.5,
          112.5,
          127.5,
          142.5,
          157.5,
          172.5,
          187.5,
          202.5,
          217.5,
          232.5,
          247.5,
          262.5,
          277.5,
          292.5,
          307.5,
          322.5,
          337.5,
          352.5,
          7.5
         ],
         "type": "scatterpolar"
        },
        {
         "customdata": [
          [
           1.9862869198312236,
           7.5
          ],
          [
           1.3734177215189873,
           22.5
          ],
          [
           1.1518987341772151,
           37.5
          ],
          [
           0.9082278481012658,
           52.5
          ],
          [
           0.689873417721519,
           67.5
          ],
          [
           0.6213080168776371,
           82.5
          ],
          [
           0.540084388185654,
           97.5
          ],
          [
           0.5559071729957806,
           112.5
          ],
          [
           1.0632911392405062,
           127.5
          ],
          [
           1.4567510548523206,
           142.5
          ],
          [
           2.371308016877637,
           157.5
          ],
          [
           3.1571729957805905,
           172.5
          ],
          [
           4.1645569620253164,
           187.5
          ],
          [
           4.736286919831223,
           202.5
          ],
          [
           5.3164556962025316,
           217.5
          ],
          [
           5.924050632911392,
           232.5
          ],
          [
           6.040084388185654,
           247.5
          ],
          [
           5.5854430379746836,
           262.5
          ],
          [
           5.19198312236287,
           277.5
          ],
          [
           4.668776371308017,
           292.5
          ],
          [
           4.051687763713081,
           307.5
          ],
          [
           3.4430379746835444,
           322.5
          ],
          [
           2.848101265822785,
           337.5
          ],
          [
           2.179324894514768,
           352.5
          ],
          [
           1.9862869198312236,
           7.5
          ]
         ],
         "hovertemplate": "Day Type=Weekend<br>Trip Type=Arrivals<br>Trips=%{customdata[0]:.2f}<extra></extra>",
         "legendgroup": "Weekend, Arrivals",
         "line": {
          "color": "#EF553B",
          "dash": "dot"
         },
         "marker": {
          "symbol": "circle"
         },
         "mode": "lines",
         "name": "Weekend, Arrivals",
         "r": [
          1.9862869198312236,
          1.3734177215189873,
          1.1518987341772151,
          0.9082278481012658,
          0.689873417721519,
          0.6213080168776371,
          0.540084388185654,
          0.5559071729957806,
          1.0632911392405062,
          1.4567510548523206,
          2.371308016877637,
          3.1571729957805905,
          4.1645569620253164,
          4.736286919831223,
          5.3164556962025316,
          5.924050632911392,
          6.040084388185654,
          5.5854430379746836,
          5.19198312236287,
          4.668776371308017,
          4.051687763713081,
          3.4430379746835444,
          2.848101265822785,
          2.179324894514768,
          1.9862869198312236
         ],
         "showlegend": true,
         "subplot": "polar",
         "theta": [
          7.5,
          22.5,
          37.5,
          52.5,
          67.5,
          82.5,
          97.5,
          112.5,
          127.5,
          142.5,
          157.5,
          172.5,
          187.5,
          202.5,
          217.5,
          232.5,
          247.5,
          262.5,
          277.5,
          292.5,
          307.5,
          322.5,
          337.5,
          352.5,
          7.5
         ],
         "type": "scatterpolar"
        }
       ],
       "layout": {
        "height": 500,
        "legend": {
         "title": {
          "text": ""
         },
         "tracegroupgap": 0
        },
        "margin": {
         "t": 60
        },
        "polar": {
         "angularaxis": {
          "direction": "clockwise",
          "rotation": -90,
          "tickmode": "array",
          "ticktext": [
           "12 AM",
           "1 AM",
           "2 AM",
           "3 AM",
           "4 AM",
           "5 AM",
           "6 AM",
           "7 AM",
           "8 AM",
           "9 AM",
           "10 AM",
           "11 AM",
           "12 PM",
           "1 PM",
           "2 PM",
           "3 PM",
           "4 PM",
           "5 PM",
           "6 PM",
           "7 PM",
           "8 PM",
           "9 PM",
           "10 PM",
           "11 PM"
          ],
          "tickvals": [
           0,
           15,
           30,
           45,
           60,
           75,
           90,
           105,
           120,
           135,
           150,
           165,
           180,
           195,
           210,
           225,
           240,
           255,
           270,
           285,
           300,
           315,
           330,
           345
          ]
         },
         "domain": {
          "x": [
           0,
           1
          ],
          "y": [
           0,
           1
          ]
         }
        },
        "template": {
         "data": {
          "bar": [
           {
            "error_x": {
             "color": "#2a3f5f"
            },
            "error_y": {
             "color": "#2a3f5f"
            },
            "marker": {
             "line": {
              "color": "#E5ECF6",
              "width": 0.5
             },
             "pattern": {
              "fillmode": "overlay",
              "size": 10,
              "solidity": 0.2
             }
            },
            "type": "bar"
           }
          ],
          "barpolar": [
           {
            "marker": {
             "line": {
              "color": "#E5ECF6",
              "width": 0.5
             },
             "pattern": {
              "fillmode": "overlay",
              "size": 10,
              "solidity": 0.2
             }
            },
            "type": "barpolar"
           }
          ],
          "carpet": [
           {
            "aaxis": {
             "endlinecolor": "#2a3f5f",
             "gridcolor": "white",
             "linecolor": "white",
             "minorgridcolor": "white",
             "startlinecolor": "#2a3f5f"
            },
            "baxis": {
             "endlinecolor": "#2a3f5f",
             "gridcolor": "white",
             "linecolor": "white",
             "minorgridcolor": "white",
             "startlinecolor": "#2a3f5f"
            },
            "type": "carpet"
           }
          ],
          "choropleth": [
           {
            "colorbar": {
             "outlinewidth": 0,
             "ticks": ""
            },
            "type": "choropleth"
           }
          ],
          "contour": [
           {
            "colorbar": {
             "outlinewidth": 0,
             "ticks": ""
            },
            "colorscale": [
             [
              0,
              "#0d0887"
             ],
             [
              0.1111111111111111,
              "#46039f"
             ],
             [
              0.2222222222222222,
              "#7201a8"
             ],
             [
              0.3333333333333333,
              "#9c179e"
             ],
             [
              0.4444444444444444,
              "#bd3786"
             ],
             [
              0.5555555555555556,
              "#d8576b"
             ],
             [
              0.6666666666666666,
              "#ed7953"
             ],
             [
              0.7777777777777778,
              "#fb9f3a"
             ],
             [
              0.8888888888888888,
              "#fdca26"
             ],
             [
              1,
              "#f0f921"
             ]
            ],
            "type": "contour"
           }
          ],
          "contourcarpet": [
           {
            "colorbar": {
             "outlinewidth": 0,
             "ticks": ""
            },
            "type": "contourcarpet"
           }
          ],
          "heatmap": [
           {
            "colorbar": {
             "outlinewidth": 0,
             "ticks": ""
            },
            "colorscale": [
             [
              0,
              "#0d0887"
             ],
             [
              0.1111111111111111,
              "#46039f"
             ],
             [
              0.2222222222222222,
              "#7201a8"
             ],
             [
              0.3333333333333333,
              "#9c179e"
             ],
             [
              0.4444444444444444,
              "#bd3786"
             ],
             [
              0.5555555555555556,
              "#d8576b"
             ],
             [
              0.6666666666666666,
              "#ed7953"
             ],
             [
              0.7777777777777778,
              "#fb9f3a"
             ],
             [
              0.8888888888888888,
              "#fdca26"
             ],
             [
              1,
              "#f0f921"
             ]
            ],
            "type": "heatmap"
           }
          ],
          "heatmapgl": [
           {
            "colorbar": {
             "outlinewidth": 0,
             "ticks": ""
            },
            "colorscale": [
             [
              0,
              "#0d0887"
             ],
             [
              0.1111111111111111,
              "#46039f"
             ],
             [
              0.2222222222222222,
              "#7201a8"
             ],
             [
              0.3333333333333333,
              "#9c179e"
             ],
             [
              0.4444444444444444,
              "#bd3786"
             ],
             [
              0.5555555555555556,
              "#d8576b"
             ],
             [
              0.6666666666666666,
              "#ed7953"
             ],
             [
              0.7777777777777778,
              "#fb9f3a"
             ],
             [
              0.8888888888888888,
              "#fdca26"
             ],
             [
              1,
              "#f0f921"
             ]
            ],
            "type": "heatmapgl"
           }
          ],
          "histogram": [
           {
            "marker": {
             "pattern": {
              "fillmode": "overlay",
              "size": 10,
              "solidity": 0.2
             }
            },
            "type": "histogram"
           }
          ],
          "histogram2d": [
           {
            "colorbar": {
             "outlinewidth": 0,
             "ticks": ""
            },
            "colorscale": [
             [
              0,
              "#0d0887"
             ],
             [
              0.1111111111111111,
              "#46039f"
             ],
             [
              0.2222222222222222,
              "#7201a8"
             ],
             [
              0.3333333333333333,
              "#9c179e"
             ],
             [
              0.4444444444444444,
              "#bd3786"
             ],
             [
              0.5555555555555556,
              "#d8576b"
             ],
             [
              0.6666666666666666,
              "#ed7953"
             ],
             [
              0.7777777777777778,
              "#fb9f3a"
             ],
             [
              0.8888888888888888,
              "#fdca26"
             ],
             [
              1,
              "#f0f921"
             ]
            ],
            "type": "histogram2d"
           }
          ],
          "histogram2dcontour": [
           {
            "colorbar": {
             "outlinewidth": 0,
             "ticks": ""
            },
            "colorscale": [
             [
              0,
              "#0d0887"
             ],
             [
              0.1111111111111111,
              "#46039f"
             ],
             [
              0.2222222222222222,
              "#7201a8"
             ],
             [
              0.3333333333333333,
              "#9c179e"
             ],
             [
              0.4444444444444444,
              "#bd3786"
             ],
             [
              0.5555555555555556,
              "#d8576b"
             ],
             [
              0.6666666666666666,
              "#ed7953"
             ],
             [
              0.7777777777777778,
              "#fb9f3a"
             ],
             [
              0.8888888888888888,
              "#fdca26"
             ],
             [
              1,
              "#f0f921"
             ]
            ],
            "type": "histogram2dcontour"
           }
          ],
          "mesh3d": [
           {
            "colorbar": {
             "outlinewidth": 0,
             "ticks": ""
            },
            "type": "mesh3d"
           }
          ],
          "parcoords": [
           {
            "line": {
             "colorbar": {
              "outlinewidth": 0,
              "ticks": ""
             }
            },
            "type": "parcoords"
           }
          ],
          "pie": [
           {
            "automargin": true,
            "type": "pie"
           }
          ],
          "scatter": [
           {
            "fillpattern": {
             "fillmode": "overlay",
             "size": 10,
             "solidity": 0.2
            },
            "type": "scatter"
           }
          ],
          "scatter3d": [
           {
            "line": {
             "colorbar": {
              "outlinewidth": 0,
              "ticks": ""
             }
            },
            "marker": {
             "colorbar": {
              "outlinewidth": 0,
              "ticks": ""
             }
            },
            "type": "scatter3d"
           }
          ],
          "scattercarpet": [
           {
            "marker": {
             "colorbar": {
              "outlinewidth": 0,
              "ticks": ""
             }
            },
            "type": "scattercarpet"
           }
          ],
          "scattergeo": [
           {
            "marker": {
             "colorbar": {
              "outlinewidth": 0,
              "ticks": ""
             }
            },
            "type": "scattergeo"
           }
          ],
          "scattergl": [
           {
            "marker": {
             "colorbar": {
              "outlinewidth": 0,
              "ticks": ""
             }
            },
            "type": "scattergl"
           }
          ],
          "scattermapbox": [
           {
            "marker": {
             "colorbar": {
              "outlinewidth": 0,
              "ticks": ""
             }
            },
            "type": "scattermapbox"
           }
          ],
          "scatterpolar": [
           {
            "marker": {
             "colorbar": {
              "outlinewidth": 0,
              "ticks": ""
             }
            },
            "type": "scatterpolar"
           }
          ],
          "scatterpolargl": [
           {
            "marker": {
             "colorbar": {
              "outlinewidth": 0,
              "ticks": ""
             }
            },
            "type": "scatterpolargl"
           }
          ],
          "scatterternary": [
           {
            "marker": {
             "colorbar": {
              "outlinewidth": 0,
              "ticks": ""
             }
            },
            "type": "scatterternary"
           }
          ],
          "surface": [
           {
            "colorbar": {
             "outlinewidth": 0,
             "ticks": ""
            },
            "colorscale": [
             [
              0,
              "#0d0887"
             ],
             [
              0.1111111111111111,
              "#46039f"
             ],
             [
              0.2222222222222222,
              "#7201a8"
             ],
             [
              0.3333333333333333,
              "#9c179e"
             ],
             [
              0.4444444444444444,
              "#bd3786"
             ],
             [
              0.5555555555555556,
              "#d8576b"
             ],
             [
              0.6666666666666666,
              "#ed7953"
             ],
             [
              0.7777777777777778,
              "#fb9f3a"
             ],
             [
              0.8888888888888888,
              "#fdca26"
             ],
             [
              1,
              "#f0f921"
             ]
            ],
            "type": "surface"
           }
          ],
          "table": [
           {
            "cells": {
             "fill": {
              "color": "#EBF0F8"
             },
             "line": {
              "color": "white"
             }
            },
            "header": {
             "fill": {
              "color": "#C8D4E3"
             },
             "line": {
              "color": "white"
             }
            },
            "type": "table"
           }
          ]
         },
         "layout": {
          "annotationdefaults": {
           "arrowcolor": "#2a3f5f",
           "arrowhead": 0,
           "arrowwidth": 1
          },
          "autotypenumbers": "strict",
          "coloraxis": {
           "colorbar": {
            "outlinewidth": 0,
            "ticks": ""
           }
          },
          "colorscale": {
           "diverging": [
            [
             0,
             "#8e0152"
            ],
            [
             0.1,
             "#c51b7d"
            ],
            [
             0.2,
             "#de77ae"
            ],
            [
             0.3,
             "#f1b6da"
            ],
            [
             0.4,
             "#fde0ef"
            ],
            [
             0.5,
             "#f7f7f7"
            ],
            [
             0.6,
             "#e6f5d0"
            ],
            [
             0.7,
             "#b8e186"
            ],
            [
             0.8,
             "#7fbc41"
            ],
            [
             0.9,
             "#4d9221"
            ],
            [
             1,
             "#276419"
            ]
           ],
           "sequential": [
            [
             0,
             "#0d0887"
            ],
            [
             0.1111111111111111,
             "#46039f"
            ],
            [
             0.2222222222222222,
             "#7201a8"
            ],
            [
             0.3333333333333333,
             "#9c179e"
            ],
            [
             0.4444444444444444,
             "#bd3786"
            ],
            [
             0.5555555555555556,
             "#d8576b"
            ],
            [
             0.6666666666666666,
             "#ed7953"
            ],
            [
             0.7777777777777778,
             "#fb9f3a"
            ],
            [
             0.8888888888888888,
             "#fdca26"
            ],
            [
             1,
             "#f0f921"
            ]
           ],
           "sequentialminus": [
            [
             0,
             "#0d0887"
            ],
            [
             0.1111111111111111,
             "#46039f"
            ],
            [
             0.2222222222222222,
             "#7201a8"
            ],
            [
             0.3333333333333333,
             "#9c179e"
            ],
            [
             0.4444444444444444,
             "#bd3786"
            ],
            [
             0.5555555555555556,
             "#d8576b"
            ],
            [
             0.6666666666666666,
             "#ed7953"
            ],
            [
             0.7777777777777778,
             "#fb9f3a"
            ],
            [
             0.8888888888888888,
             "#fdca26"
            ],
            [
             1,
             "#f0f921"
            ]
           ]
          },
          "colorway": [
           "#636efa",
           "#EF553B",
           "#00cc96",
           "#ab63fa",
           "#FFA15A",
           "#19d3f3",
           "#FF6692",
           "#B6E880",
           "#FF97FF",
           "#FECB52"
          ],
          "font": {
           "color": "#2a3f5f"
          },
          "geo": {
           "bgcolor": "white",
           "lakecolor": "white",
           "landcolor": "#E5ECF6",
           "showlakes": true,
           "showland": true,
           "subunitcolor": "white"
          },
          "hoverlabel": {
           "align": "left"
          },
          "hovermode": "closest",
          "mapbox": {
           "style": "light"
          },
          "paper_bgcolor": "white",
          "plot_bgcolor": "#E5ECF6",
          "polar": {
           "angularaxis": {
            "gridcolor": "white",
            "linecolor": "white",
            "ticks": ""
           },
           "bgcolor": "#E5ECF6",
           "radialaxis": {
            "gridcolor": "white",
            "linecolor": "white",
            "ticks": ""
           }
          },
          "scene": {
           "xaxis": {
            "backgroundcolor": "#E5ECF6",
            "gridcolor": "white",
            "gridwidth": 2,
            "linecolor": "white",
            "showbackground": true,
            "ticks": "",
            "zerolinecolor": "white"
           },
           "yaxis": {
            "backgroundcolor": "#E5ECF6",
            "gridcolor": "white",
            "gridwidth": 2,
            "linecolor": "white",
            "showbackground": true,
            "ticks": "",
            "zerolinecolor": "white"
           },
           "zaxis": {
            "backgroundcolor": "#E5ECF6",
            "gridcolor": "white",
            "gridwidth": 2,
            "linecolor": "white",
            "showbackground": true,
            "ticks": "",
            "zerolinecolor": "white"
           }
          },
          "shapedefaults": {
           "line": {
            "color": "#2a3f5f"
           }
          },
          "ternary": {
           "aaxis": {
            "gridcolor": "white",
            "linecolor": "white",
            "ticks": ""
           },
           "baxis": {
            "gridcolor": "white",
            "linecolor": "white",
            "ticks": ""
           },
           "bgcolor": "#E5ECF6",
           "caxis": {
            "gridcolor": "white",
            "linecolor": "white",
            "ticks": ""
           }
          },
          "title": {
           "x": 0.05
          },
          "xaxis": {
           "automargin": true,
           "gridcolor": "white",
           "linecolor": "white",
           "ticks": "",
           "title": {
            "standoff": 15
           },
           "zerolinecolor": "white",
           "zerolinewidth": 2
          },
          "yaxis": {
           "automargin": true,
           "gridcolor": "white",
           "linecolor": "white",
           "ticks": "",
           "title": {
            "standoff": 15
           },
           "zerolinecolor": "white",
           "zerolinewidth": 2
          }
         }
        },
        "title": {
         "text": "Hourly Bluebike Trips Near King's Chapel Burying Ground"
        },
        "width": 600
       }
      }
     },
     "metadata": {},
     "output_type": "display_data"
    },
    {
     "name": "stdout",
     "output_type": "stream",
     "text": [
      "1 nearest station to Spaulding Rehabilitation Plaza: Spaulding Rehabilitation Hospital - Charlestown Navy Yard\n"
     ]
    },
    {
     "name": "stderr",
     "output_type": "stream",
     "text": [
      "/Users/henrywu/opt/anaconda3/lib/python3.9/site-packages/plotly/express/_core.py:271: FutureWarning:\n",
      "\n",
      "The frame.append method is deprecated and will be removed from pandas in a future version. Use pandas.concat instead.\n",
      "\n",
      "/Users/henrywu/opt/anaconda3/lib/python3.9/site-packages/plotly/express/_core.py:271: FutureWarning:\n",
      "\n",
      "The frame.append method is deprecated and will be removed from pandas in a future version. Use pandas.concat instead.\n",
      "\n",
      "/Users/henrywu/opt/anaconda3/lib/python3.9/site-packages/plotly/express/_core.py:271: FutureWarning:\n",
      "\n",
      "The frame.append method is deprecated and will be removed from pandas in a future version. Use pandas.concat instead.\n",
      "\n",
      "/Users/henrywu/opt/anaconda3/lib/python3.9/site-packages/plotly/express/_core.py:271: FutureWarning:\n",
      "\n",
      "The frame.append method is deprecated and will be removed from pandas in a future version. Use pandas.concat instead.\n",
      "\n"
     ]
    },
    {
     "data": {
      "application/vnd.plotly.v1+json": {
       "config": {
        "plotlyServerURL": "https://plot.ly"
       },
       "data": [
        {
         "customdata": [
          [
           0.6033755274261603,
           7.5
          ],
          [
           0.28164556962025317,
           22.5
          ],
          [
           0.16877637130801687,
           37.5
          ],
          [
           0.16666666666666666,
           52.5
          ],
          [
           0.0770042194092827,
           67.5
          ],
          [
           0.1940928270042194,
           82.5
          ],
          [
           0.9082278481012658,
           97.5
          ],
          [
           1.5833333333333333,
           112.5
          ],
          [
           2.80168776371308,
           127.5
          ],
          [
           1.0748945147679325,
           142.5
          ],
          [
           1.0137130801687764,
           157.5
          ],
          [
           1.3080168776371308,
           172.5
          ],
          [
           1.8670886075949367,
           187.5
          ],
          [
           2.067510548523207,
           202.5
          ],
          [
           2.492616033755274,
           217.5
          ],
          [
           3.571729957805907,
           232.5
          ],
          [
           6.537974683544304,
           247.5
          ],
          [
           7.6075949367088604,
           262.5
          ],
          [
           5.082278481012659,
           277.5
          ],
          [
           3.030590717299578,
           292.5
          ],
          [
           2.712025316455696,
           307.5
          ],
          [
           2.7816455696202533,
           322.5
          ],
          [
           1.7637130801687764,
           337.5
          ],
          [
           1.010548523206751,
           352.5
          ],
          [
           0.6033755274261603,
           7.5
          ]
         ],
         "hovertemplate": "Day Type=Weekday<br>Trip Type=Departures<br>Trips=%{customdata[0]:.2f}<extra></extra>",
         "legendgroup": "Weekday, Departures",
         "line": {
          "color": "#636efa",
          "dash": "solid"
         },
         "marker": {
          "symbol": "circle"
         },
         "mode": "lines",
         "name": "Weekday, Departures",
         "r": [
          0.6033755274261603,
          0.28164556962025317,
          0.16877637130801687,
          0.16666666666666666,
          0.0770042194092827,
          0.1940928270042194,
          0.9082278481012658,
          1.5833333333333333,
          2.80168776371308,
          1.0748945147679325,
          1.0137130801687764,
          1.3080168776371308,
          1.8670886075949367,
          2.067510548523207,
          2.492616033755274,
          3.571729957805907,
          6.537974683544304,
          7.6075949367088604,
          5.082278481012659,
          3.030590717299578,
          2.712025316455696,
          2.7816455696202533,
          1.7637130801687764,
          1.010548523206751,
          0.6033755274261603
         ],
         "showlegend": true,
         "subplot": "polar",
         "theta": [
          7.5,
          22.5,
          37.5,
          52.5,
          67.5,
          82.5,
          97.5,
          112.5,
          127.5,
          142.5,
          157.5,
          172.5,
          187.5,
          202.5,
          217.5,
          232.5,
          247.5,
          262.5,
          277.5,
          292.5,
          307.5,
          322.5,
          337.5,
          352.5,
          7.5
         ],
         "type": "scatterpolar"
        },
        {
         "customdata": [
          [
           0.3407172995780591,
           7.5
          ],
          [
           0.17721518987341772,
           22.5
          ],
          [
           0.12658227848101267,
           37.5
          ],
          [
           0.11181434599156118,
           52.5
          ],
          [
           0.05485232067510549,
           67.5
          ],
          [
           0.12869198312236288,
           82.5
          ],
          [
           1.2869198312236287,
           97.5
          ],
          [
           4.155063291139241,
           112.5
          ],
          [
           7.310126582278481,
           127.5
          ],
          [
           6.172995780590718,
           142.5
          ],
          [
           3.3797468354430378,
           157.5
          ],
          [
           2.4989451476793247,
           172.5
          ],
          [
           3.5738396624472575,
           187.5
          ],
          [
           3.380801687763713,
           202.5
          ],
          [
           2.2352320675105486,
           217.5
          ],
          [
           2.0474683544303796,
           232.5
          ],
          [
           2.2742616033755274,
           247.5
          ],
          [
           4.118143459915612,
           262.5
          ],
          [
           3.2858649789029535,
           277.5
          ],
          [
           1.8649789029535866,
           292.5
          ],
          [
           1.4419831223628692,
           307.5
          ],
          [
           1.391350210970464,
           322.5
          ],
          [
           1.2552742616033756,
           337.5
          ],
          [
           0.8227848101265823,
           352.5
          ],
          [
           0.3407172995780591,
           7.5
          ]
         ],
         "hovertemplate": "Day Type=Weekday<br>Trip Type=Arrivals<br>Trips=%{customdata[0]:.2f}<extra></extra>",
         "legendgroup": "Weekday, Arrivals",
         "line": {
          "color": "#636efa",
          "dash": "dot"
         },
         "marker": {
          "symbol": "circle"
         },
         "mode": "lines",
         "name": "Weekday, Arrivals",
         "r": [
          0.3407172995780591,
          0.17721518987341772,
          0.12658227848101267,
          0.11181434599156118,
          0.05485232067510549,
          0.12869198312236288,
          1.2869198312236287,
          4.155063291139241,
          7.310126582278481,
          6.172995780590718,
          3.3797468354430378,
          2.4989451476793247,
          3.5738396624472575,
          3.380801687763713,
          2.2352320675105486,
          2.0474683544303796,
          2.2742616033755274,
          4.118143459915612,
          3.2858649789029535,
          1.8649789029535866,
          1.4419831223628692,
          1.391350210970464,
          1.2552742616033756,
          0.8227848101265823,
          0.3407172995780591
         ],
         "showlegend": true,
         "subplot": "polar",
         "theta": [
          7.5,
          22.5,
          37.5,
          52.5,
          67.5,
          82.5,
          97.5,
          112.5,
          127.5,
          142.5,
          157.5,
          172.5,
          187.5,
          202.5,
          217.5,
          232.5,
          247.5,
          262.5,
          277.5,
          292.5,
          307.5,
          322.5,
          337.5,
          352.5,
          7.5
         ],
         "type": "scatterpolar"
        },
        {
         "customdata": [
          [
           0.17721518987341772,
           7.5
          ],
          [
           0.09282700421940929,
           22.5
          ],
          [
           0.06329113924050633,
           37.5
          ],
          [
           0.06223628691983123,
           52.5
          ],
          [
           0.03691983122362869,
           67.5
          ],
          [
           0.03164556962025317,
           82.5
          ],
          [
           0.043248945147679324,
           97.5
          ],
          [
           0.13185654008438819,
           112.5
          ],
          [
           0.2289029535864979,
           127.5
          ],
          [
           0.25738396624472576,
           142.5
          ],
          [
           0.5031645569620253,
           157.5
          ],
          [
           0.6234177215189873,
           172.5
          ],
          [
           0.7436708860759493,
           187.5
          ],
          [
           0.70042194092827,
           202.5
          ],
          [
           0.7236286919831224,
           217.5
          ],
          [
           0.8987341772151899,
           232.5
          ],
          [
           0.8755274261603375,
           247.5
          ],
          [
           0.8639240506329114,
           262.5
          ],
          [
           0.810126582278481,
           277.5
          ],
          [
           0.7151898734177216,
           292.5
          ],
          [
           0.4525316455696203,
           307.5
          ],
          [
           0.4282700421940928,
           322.5
          ],
          [
           0.3649789029535865,
           337.5
          ],
          [
           0.29535864978902954,
           352.5
          ],
          [
           0.17721518987341772,
           7.5
          ]
         ],
         "hovertemplate": "Day Type=Weekend<br>Trip Type=Departures<br>Trips=%{customdata[0]:.2f}<extra></extra>",
         "legendgroup": "Weekend, Departures",
         "line": {
          "color": "#EF553B",
          "dash": "solid"
         },
         "marker": {
          "symbol": "circle"
         },
         "mode": "lines",
         "name": "Weekend, Departures",
         "r": [
          0.17721518987341772,
          0.09282700421940929,
          0.06329113924050633,
          0.06223628691983123,
          0.03691983122362869,
          0.03164556962025317,
          0.043248945147679324,
          0.13185654008438819,
          0.2289029535864979,
          0.25738396624472576,
          0.5031645569620253,
          0.6234177215189873,
          0.7436708860759493,
          0.70042194092827,
          0.7236286919831224,
          0.8987341772151899,
          0.8755274261603375,
          0.8639240506329114,
          0.810126582278481,
          0.7151898734177216,
          0.4525316455696203,
          0.4282700421940928,
          0.3649789029535865,
          0.29535864978902954,
          0.17721518987341772
         ],
         "showlegend": true,
         "subplot": "polar",
         "theta": [
          7.5,
          22.5,
          37.5,
          52.5,
          67.5,
          82.5,
          97.5,
          112.5,
          127.5,
          142.5,
          157.5,
          172.5,
          187.5,
          202.5,
          217.5,
          232.5,
          247.5,
          262.5,
          277.5,
          292.5,
          307.5,
          322.5,
          337.5,
          352.5,
          7.5
         ],
         "type": "scatterpolar"
        },
        {
         "customdata": [
          [
           0.19936708860759494,
           7.5
          ],
          [
           0.12025316455696203,
           22.5
          ],
          [
           0.07278481012658228,
           37.5
          ],
          [
           0.07805907172995781,
           52.5
          ],
          [
           0.06118143459915612,
           67.5
          ],
          [
           0.05063291139240506,
           82.5
          ],
          [
           0.12763713080168776,
           97.5
          ],
          [
           0.2468354430379747,
           112.5
          ],
          [
           0.37341772151898733,
           127.5
          ],
          [
           0.5907172995780591,
           142.5
          ],
          [
           0.6919831223628692,
           157.5
          ],
          [
           0.7130801687763713,
           172.5
          ],
          [
           0.7109704641350211,
           187.5
          ],
          [
           0.7921940928270043,
           202.5
          ],
          [
           0.8913502109704642,
           217.5
          ],
          [
           0.9683544303797469,
           232.5
          ],
          [
           0.9092827004219409,
           247.5
          ],
          [
           0.7267932489451476,
           262.5
          ],
          [
           0.7710970464135021,
           277.5
          ],
          [
           0.5970464135021097,
           292.5
          ],
          [
           0.47468354430379744,
           307.5
          ],
          [
           0.3575949367088608,
           322.5
          ],
          [
           0.27848101265822783,
           337.5
          ],
          [
           0.20147679324894516,
           352.5
          ],
          [
           0.19936708860759494,
           7.5
          ]
         ],
         "hovertemplate": "Day Type=Weekend<br>Trip Type=Arrivals<br>Trips=%{customdata[0]:.2f}<extra></extra>",
         "legendgroup": "Weekend, Arrivals",
         "line": {
          "color": "#EF553B",
          "dash": "dot"
         },
         "marker": {
          "symbol": "circle"
         },
         "mode": "lines",
         "name": "Weekend, Arrivals",
         "r": [
          0.19936708860759494,
          0.12025316455696203,
          0.07278481012658228,
          0.07805907172995781,
          0.06118143459915612,
          0.05063291139240506,
          0.12763713080168776,
          0.2468354430379747,
          0.37341772151898733,
          0.5907172995780591,
          0.6919831223628692,
          0.7130801687763713,
          0.7109704641350211,
          0.7921940928270043,
          0.8913502109704642,
          0.9683544303797469,
          0.9092827004219409,
          0.7267932489451476,
          0.7710970464135021,
          0.5970464135021097,
          0.47468354430379744,
          0.3575949367088608,
          0.27848101265822783,
          0.20147679324894516,
          0.19936708860759494
         ],
         "showlegend": true,
         "subplot": "polar",
         "theta": [
          7.5,
          22.5,
          37.5,
          52.5,
          67.5,
          82.5,
          97.5,
          112.5,
          127.5,
          142.5,
          157.5,
          172.5,
          187.5,
          202.5,
          217.5,
          232.5,
          247.5,
          262.5,
          277.5,
          292.5,
          307.5,
          322.5,
          337.5,
          352.5,
          7.5
         ],
         "type": "scatterpolar"
        }
       ],
       "layout": {
        "height": 500,
        "legend": {
         "title": {
          "text": ""
         },
         "tracegroupgap": 0
        },
        "margin": {
         "t": 60
        },
        "polar": {
         "angularaxis": {
          "direction": "clockwise",
          "rotation": -90,
          "tickmode": "array",
          "ticktext": [
           "12 AM",
           "1 AM",
           "2 AM",
           "3 AM",
           "4 AM",
           "5 AM",
           "6 AM",
           "7 AM",
           "8 AM",
           "9 AM",
           "10 AM",
           "11 AM",
           "12 PM",
           "1 PM",
           "2 PM",
           "3 PM",
           "4 PM",
           "5 PM",
           "6 PM",
           "7 PM",
           "8 PM",
           "9 PM",
           "10 PM",
           "11 PM"
          ],
          "tickvals": [
           0,
           15,
           30,
           45,
           60,
           75,
           90,
           105,
           120,
           135,
           150,
           165,
           180,
           195,
           210,
           225,
           240,
           255,
           270,
           285,
           300,
           315,
           330,
           345
          ]
         },
         "domain": {
          "x": [
           0,
           1
          ],
          "y": [
           0,
           1
          ]
         }
        },
        "template": {
         "data": {
          "bar": [
           {
            "error_x": {
             "color": "#2a3f5f"
            },
            "error_y": {
             "color": "#2a3f5f"
            },
            "marker": {
             "line": {
              "color": "#E5ECF6",
              "width": 0.5
             },
             "pattern": {
              "fillmode": "overlay",
              "size": 10,
              "solidity": 0.2
             }
            },
            "type": "bar"
           }
          ],
          "barpolar": [
           {
            "marker": {
             "line": {
              "color": "#E5ECF6",
              "width": 0.5
             },
             "pattern": {
              "fillmode": "overlay",
              "size": 10,
              "solidity": 0.2
             }
            },
            "type": "barpolar"
           }
          ],
          "carpet": [
           {
            "aaxis": {
             "endlinecolor": "#2a3f5f",
             "gridcolor": "white",
             "linecolor": "white",
             "minorgridcolor": "white",
             "startlinecolor": "#2a3f5f"
            },
            "baxis": {
             "endlinecolor": "#2a3f5f",
             "gridcolor": "white",
             "linecolor": "white",
             "minorgridcolor": "white",
             "startlinecolor": "#2a3f5f"
            },
            "type": "carpet"
           }
          ],
          "choropleth": [
           {
            "colorbar": {
             "outlinewidth": 0,
             "ticks": ""
            },
            "type": "choropleth"
           }
          ],
          "contour": [
           {
            "colorbar": {
             "outlinewidth": 0,
             "ticks": ""
            },
            "colorscale": [
             [
              0,
              "#0d0887"
             ],
             [
              0.1111111111111111,
              "#46039f"
             ],
             [
              0.2222222222222222,
              "#7201a8"
             ],
             [
              0.3333333333333333,
              "#9c179e"
             ],
             [
              0.4444444444444444,
              "#bd3786"
             ],
             [
              0.5555555555555556,
              "#d8576b"
             ],
             [
              0.6666666666666666,
              "#ed7953"
             ],
             [
              0.7777777777777778,
              "#fb9f3a"
             ],
             [
              0.8888888888888888,
              "#fdca26"
             ],
             [
              1,
              "#f0f921"
             ]
            ],
            "type": "contour"
           }
          ],
          "contourcarpet": [
           {
            "colorbar": {
             "outlinewidth": 0,
             "ticks": ""
            },
            "type": "contourcarpet"
           }
          ],
          "heatmap": [
           {
            "colorbar": {
             "outlinewidth": 0,
             "ticks": ""
            },
            "colorscale": [
             [
              0,
              "#0d0887"
             ],
             [
              0.1111111111111111,
              "#46039f"
             ],
             [
              0.2222222222222222,
              "#7201a8"
             ],
             [
              0.3333333333333333,
              "#9c179e"
             ],
             [
              0.4444444444444444,
              "#bd3786"
             ],
             [
              0.5555555555555556,
              "#d8576b"
             ],
             [
              0.6666666666666666,
              "#ed7953"
             ],
             [
              0.7777777777777778,
              "#fb9f3a"
             ],
             [
              0.8888888888888888,
              "#fdca26"
             ],
             [
              1,
              "#f0f921"
             ]
            ],
            "type": "heatmap"
           }
          ],
          "heatmapgl": [
           {
            "colorbar": {
             "outlinewidth": 0,
             "ticks": ""
            },
            "colorscale": [
             [
              0,
              "#0d0887"
             ],
             [
              0.1111111111111111,
              "#46039f"
             ],
             [
              0.2222222222222222,
              "#7201a8"
             ],
             [
              0.3333333333333333,
              "#9c179e"
             ],
             [
              0.4444444444444444,
              "#bd3786"
             ],
             [
              0.5555555555555556,
              "#d8576b"
             ],
             [
              0.6666666666666666,
              "#ed7953"
             ],
             [
              0.7777777777777778,
              "#fb9f3a"
             ],
             [
              0.8888888888888888,
              "#fdca26"
             ],
             [
              1,
              "#f0f921"
             ]
            ],
            "type": "heatmapgl"
           }
          ],
          "histogram": [
           {
            "marker": {
             "pattern": {
              "fillmode": "overlay",
              "size": 10,
              "solidity": 0.2
             }
            },
            "type": "histogram"
           }
          ],
          "histogram2d": [
           {
            "colorbar": {
             "outlinewidth": 0,
             "ticks": ""
            },
            "colorscale": [
             [
              0,
              "#0d0887"
             ],
             [
              0.1111111111111111,
              "#46039f"
             ],
             [
              0.2222222222222222,
              "#7201a8"
             ],
             [
              0.3333333333333333,
              "#9c179e"
             ],
             [
              0.4444444444444444,
              "#bd3786"
             ],
             [
              0.5555555555555556,
              "#d8576b"
             ],
             [
              0.6666666666666666,
              "#ed7953"
             ],
             [
              0.7777777777777778,
              "#fb9f3a"
             ],
             [
              0.8888888888888888,
              "#fdca26"
             ],
             [
              1,
              "#f0f921"
             ]
            ],
            "type": "histogram2d"
           }
          ],
          "histogram2dcontour": [
           {
            "colorbar": {
             "outlinewidth": 0,
             "ticks": ""
            },
            "colorscale": [
             [
              0,
              "#0d0887"
             ],
             [
              0.1111111111111111,
              "#46039f"
             ],
             [
              0.2222222222222222,
              "#7201a8"
             ],
             [
              0.3333333333333333,
              "#9c179e"
             ],
             [
              0.4444444444444444,
              "#bd3786"
             ],
             [
              0.5555555555555556,
              "#d8576b"
             ],
             [
              0.6666666666666666,
              "#ed7953"
             ],
             [
              0.7777777777777778,
              "#fb9f3a"
             ],
             [
              0.8888888888888888,
              "#fdca26"
             ],
             [
              1,
              "#f0f921"
             ]
            ],
            "type": "histogram2dcontour"
           }
          ],
          "mesh3d": [
           {
            "colorbar": {
             "outlinewidth": 0,
             "ticks": ""
            },
            "type": "mesh3d"
           }
          ],
          "parcoords": [
           {
            "line": {
             "colorbar": {
              "outlinewidth": 0,
              "ticks": ""
             }
            },
            "type": "parcoords"
           }
          ],
          "pie": [
           {
            "automargin": true,
            "type": "pie"
           }
          ],
          "scatter": [
           {
            "fillpattern": {
             "fillmode": "overlay",
             "size": 10,
             "solidity": 0.2
            },
            "type": "scatter"
           }
          ],
          "scatter3d": [
           {
            "line": {
             "colorbar": {
              "outlinewidth": 0,
              "ticks": ""
             }
            },
            "marker": {
             "colorbar": {
              "outlinewidth": 0,
              "ticks": ""
             }
            },
            "type": "scatter3d"
           }
          ],
          "scattercarpet": [
           {
            "marker": {
             "colorbar": {
              "outlinewidth": 0,
              "ticks": ""
             }
            },
            "type": "scattercarpet"
           }
          ],
          "scattergeo": [
           {
            "marker": {
             "colorbar": {
              "outlinewidth": 0,
              "ticks": ""
             }
            },
            "type": "scattergeo"
           }
          ],
          "scattergl": [
           {
            "marker": {
             "colorbar": {
              "outlinewidth": 0,
              "ticks": ""
             }
            },
            "type": "scattergl"
           }
          ],
          "scattermapbox": [
           {
            "marker": {
             "colorbar": {
              "outlinewidth": 0,
              "ticks": ""
             }
            },
            "type": "scattermapbox"
           }
          ],
          "scatterpolar": [
           {
            "marker": {
             "colorbar": {
              "outlinewidth": 0,
              "ticks": ""
             }
            },
            "type": "scatterpolar"
           }
          ],
          "scatterpolargl": [
           {
            "marker": {
             "colorbar": {
              "outlinewidth": 0,
              "ticks": ""
             }
            },
            "type": "scatterpolargl"
           }
          ],
          "scatterternary": [
           {
            "marker": {
             "colorbar": {
              "outlinewidth": 0,
              "ticks": ""
             }
            },
            "type": "scatterternary"
           }
          ],
          "surface": [
           {
            "colorbar": {
             "outlinewidth": 0,
             "ticks": ""
            },
            "colorscale": [
             [
              0,
              "#0d0887"
             ],
             [
              0.1111111111111111,
              "#46039f"
             ],
             [
              0.2222222222222222,
              "#7201a8"
             ],
             [
              0.3333333333333333,
              "#9c179e"
             ],
             [
              0.4444444444444444,
              "#bd3786"
             ],
             [
              0.5555555555555556,
              "#d8576b"
             ],
             [
              0.6666666666666666,
              "#ed7953"
             ],
             [
              0.7777777777777778,
              "#fb9f3a"
             ],
             [
              0.8888888888888888,
              "#fdca26"
             ],
             [
              1,
              "#f0f921"
             ]
            ],
            "type": "surface"
           }
          ],
          "table": [
           {
            "cells": {
             "fill": {
              "color": "#EBF0F8"
             },
             "line": {
              "color": "white"
             }
            },
            "header": {
             "fill": {
              "color": "#C8D4E3"
             },
             "line": {
              "color": "white"
             }
            },
            "type": "table"
           }
          ]
         },
         "layout": {
          "annotationdefaults": {
           "arrowcolor": "#2a3f5f",
           "arrowhead": 0,
           "arrowwidth": 1
          },
          "autotypenumbers": "strict",
          "coloraxis": {
           "colorbar": {
            "outlinewidth": 0,
            "ticks": ""
           }
          },
          "colorscale": {
           "diverging": [
            [
             0,
             "#8e0152"
            ],
            [
             0.1,
             "#c51b7d"
            ],
            [
             0.2,
             "#de77ae"
            ],
            [
             0.3,
             "#f1b6da"
            ],
            [
             0.4,
             "#fde0ef"
            ],
            [
             0.5,
             "#f7f7f7"
            ],
            [
             0.6,
             "#e6f5d0"
            ],
            [
             0.7,
             "#b8e186"
            ],
            [
             0.8,
             "#7fbc41"
            ],
            [
             0.9,
             "#4d9221"
            ],
            [
             1,
             "#276419"
            ]
           ],
           "sequential": [
            [
             0,
             "#0d0887"
            ],
            [
             0.1111111111111111,
             "#46039f"
            ],
            [
             0.2222222222222222,
             "#7201a8"
            ],
            [
             0.3333333333333333,
             "#9c179e"
            ],
            [
             0.4444444444444444,
             "#bd3786"
            ],
            [
             0.5555555555555556,
             "#d8576b"
            ],
            [
             0.6666666666666666,
             "#ed7953"
            ],
            [
             0.7777777777777778,
             "#fb9f3a"
            ],
            [
             0.8888888888888888,
             "#fdca26"
            ],
            [
             1,
             "#f0f921"
            ]
           ],
           "sequentialminus": [
            [
             0,
             "#0d0887"
            ],
            [
             0.1111111111111111,
             "#46039f"
            ],
            [
             0.2222222222222222,
             "#7201a8"
            ],
            [
             0.3333333333333333,
             "#9c179e"
            ],
            [
             0.4444444444444444,
             "#bd3786"
            ],
            [
             0.5555555555555556,
             "#d8576b"
            ],
            [
             0.6666666666666666,
             "#ed7953"
            ],
            [
             0.7777777777777778,
             "#fb9f3a"
            ],
            [
             0.8888888888888888,
             "#fdca26"
            ],
            [
             1,
             "#f0f921"
            ]
           ]
          },
          "colorway": [
           "#636efa",
           "#EF553B",
           "#00cc96",
           "#ab63fa",
           "#FFA15A",
           "#19d3f3",
           "#FF6692",
           "#B6E880",
           "#FF97FF",
           "#FECB52"
          ],
          "font": {
           "color": "#2a3f5f"
          },
          "geo": {
           "bgcolor": "white",
           "lakecolor": "white",
           "landcolor": "#E5ECF6",
           "showlakes": true,
           "showland": true,
           "subunitcolor": "white"
          },
          "hoverlabel": {
           "align": "left"
          },
          "hovermode": "closest",
          "mapbox": {
           "style": "light"
          },
          "paper_bgcolor": "white",
          "plot_bgcolor": "#E5ECF6",
          "polar": {
           "angularaxis": {
            "gridcolor": "white",
            "linecolor": "white",
            "ticks": ""
           },
           "bgcolor": "#E5ECF6",
           "radialaxis": {
            "gridcolor": "white",
            "linecolor": "white",
            "ticks": ""
           }
          },
          "scene": {
           "xaxis": {
            "backgroundcolor": "#E5ECF6",
            "gridcolor": "white",
            "gridwidth": 2,
            "linecolor": "white",
            "showbackground": true,
            "ticks": "",
            "zerolinecolor": "white"
           },
           "yaxis": {
            "backgroundcolor": "#E5ECF6",
            "gridcolor": "white",
            "gridwidth": 2,
            "linecolor": "white",
            "showbackground": true,
            "ticks": "",
            "zerolinecolor": "white"
           },
           "zaxis": {
            "backgroundcolor": "#E5ECF6",
            "gridcolor": "white",
            "gridwidth": 2,
            "linecolor": "white",
            "showbackground": true,
            "ticks": "",
            "zerolinecolor": "white"
           }
          },
          "shapedefaults": {
           "line": {
            "color": "#2a3f5f"
           }
          },
          "ternary": {
           "aaxis": {
            "gridcolor": "white",
            "linecolor": "white",
            "ticks": ""
           },
           "baxis": {
            "gridcolor": "white",
            "linecolor": "white",
            "ticks": ""
           },
           "bgcolor": "#E5ECF6",
           "caxis": {
            "gridcolor": "white",
            "linecolor": "white",
            "ticks": ""
           }
          },
          "title": {
           "x": 0.05
          },
          "xaxis": {
           "automargin": true,
           "gridcolor": "white",
           "linecolor": "white",
           "ticks": "",
           "title": {
            "standoff": 15
           },
           "zerolinecolor": "white",
           "zerolinewidth": 2
          },
          "yaxis": {
           "automargin": true,
           "gridcolor": "white",
           "linecolor": "white",
           "ticks": "",
           "title": {
            "standoff": 15
           },
           "zerolinecolor": "white",
           "zerolinewidth": 2
          }
         }
        },
        "title": {
         "text": "Hourly Bluebike Trips Near Spaulding Rehabilitation Plaza"
        },
        "width": 600
       }
      }
     },
     "metadata": {},
     "output_type": "display_data"
    },
    {
     "name": "stdout",
     "output_type": "stream",
     "text": [
      "No stations within 0.3 km of Foster Street Play Area\n",
      "No stations within 0.3 km of Daniel E. O'Connor Park\n",
      "No stations within 0.3 km of Bynoe Park\n",
      "1 nearest station to Patrick J. Kelly Park: Charlestown Navy Yard\n"
     ]
    },
    {
     "name": "stderr",
     "output_type": "stream",
     "text": [
      "/Users/henrywu/opt/anaconda3/lib/python3.9/site-packages/plotly/express/_core.py:271: FutureWarning:\n",
      "\n",
      "The frame.append method is deprecated and will be removed from pandas in a future version. Use pandas.concat instead.\n",
      "\n",
      "/Users/henrywu/opt/anaconda3/lib/python3.9/site-packages/plotly/express/_core.py:271: FutureWarning:\n",
      "\n",
      "The frame.append method is deprecated and will be removed from pandas in a future version. Use pandas.concat instead.\n",
      "\n",
      "/Users/henrywu/opt/anaconda3/lib/python3.9/site-packages/plotly/express/_core.py:271: FutureWarning:\n",
      "\n",
      "The frame.append method is deprecated and will be removed from pandas in a future version. Use pandas.concat instead.\n",
      "\n",
      "/Users/henrywu/opt/anaconda3/lib/python3.9/site-packages/plotly/express/_core.py:271: FutureWarning:\n",
      "\n",
      "The frame.append method is deprecated and will be removed from pandas in a future version. Use pandas.concat instead.\n",
      "\n"
     ]
    },
    {
     "data": {
      "application/vnd.plotly.v1+json": {
       "config": {
        "plotlyServerURL": "https://plot.ly"
       },
       "data": [
        {
         "customdata": [
          [
           0.8955696202531646,
           7.5
          ],
          [
           0.459915611814346,
           22.5
          ],
          [
           0.4208860759493671,
           37.5
          ],
          [
           0.29430379746835444,
           52.5
          ],
          [
           0.20253164556962025,
           67.5
          ],
          [
           0.24578059071729957,
           82.5
          ],
          [
           0.9345991561181435,
           97.5
          ],
          [
           1.5411392405063291,
           112.5
          ],
          [
           2.8818565400843883,
           127.5
          ],
          [
           1.720464135021097,
           142.5
          ],
          [
           1.4082278481012658,
           157.5
          ],
          [
           1.90084388185654,
           172.5
          ],
          [
           2.7658227848101267,
           187.5
          ],
          [
           2.397679324894515,
           202.5
          ],
          [
           2.5010548523206753,
           217.5
          ],
          [
           3.081223628691983,
           232.5
          ],
          [
           3.9957805907172994,
           247.5
          ],
          [
           5.422995780590718,
           262.5
          ],
          [
           4.671940928270042,
           277.5
          ],
          [
           3.6930379746835444,
           292.5
          ],
          [
           3.042194092827004,
           307.5
          ],
          [
           2.9008438818565403,
           322.5
          ],
          [
           2.350210970464135,
           337.5
          ],
          [
           1.7014767932489452,
           352.5
          ],
          [
           0.8955696202531646,
           7.5
          ]
         ],
         "hovertemplate": "Day Type=Weekday<br>Trip Type=Departures<br>Trips=%{customdata[0]:.2f}<extra></extra>",
         "legendgroup": "Weekday, Departures",
         "line": {
          "color": "#636efa",
          "dash": "solid"
         },
         "marker": {
          "symbol": "circle"
         },
         "mode": "lines",
         "name": "Weekday, Departures",
         "r": [
          0.8955696202531646,
          0.459915611814346,
          0.4208860759493671,
          0.29430379746835444,
          0.20253164556962025,
          0.24578059071729957,
          0.9345991561181435,
          1.5411392405063291,
          2.8818565400843883,
          1.720464135021097,
          1.4082278481012658,
          1.90084388185654,
          2.7658227848101267,
          2.397679324894515,
          2.5010548523206753,
          3.081223628691983,
          3.9957805907172994,
          5.422995780590718,
          4.671940928270042,
          3.6930379746835444,
          3.042194092827004,
          2.9008438818565403,
          2.350210970464135,
          1.7014767932489452,
          0.8955696202531646
         ],
         "showlegend": true,
         "subplot": "polar",
         "theta": [
          7.5,
          22.5,
          37.5,
          52.5,
          67.5,
          82.5,
          97.5,
          112.5,
          127.5,
          142.5,
          157.5,
          172.5,
          187.5,
          202.5,
          217.5,
          232.5,
          247.5,
          262.5,
          277.5,
          292.5,
          307.5,
          322.5,
          337.5,
          352.5,
          7.5
         ],
         "type": "scatterpolar"
        },
        {
         "customdata": [
          [
           0.7584388185654009,
           7.5
          ],
          [
           0.5253164556962026,
           22.5
          ],
          [
           0.38396624472573837,
           37.5
          ],
          [
           0.2489451476793249,
           52.5
          ],
          [
           0.1339662447257384,
           67.5
          ],
          [
           0.17932489451476794,
           82.5
          ],
          [
           0.620253164556962,
           97.5
          ],
          [
           1.910337552742616,
           112.5
          ],
          [
           3.8681434599156117,
           127.5
          ],
          [
           3.9736286919831225,
           142.5
          ],
          [
           2.201476793248945,
           157.5
          ],
          [
           2.1202531645569622,
           172.5
          ],
          [
           3.154008438818565,
           187.5
          ],
          [
           3.273206751054852,
           202.5
          ],
          [
           2.642405063291139,
           217.5
          ],
          [
           2.70042194092827,
           232.5
          ],
          [
           3.6149789029535864,
           247.5
          ],
          [
           4.621308016877637,
           262.5
          ],
          [
           3.817510548523207,
           277.5
          ],
          [
           2.909282700421941,
           292.5
          ],
          [
           2.409282700421941,
           307.5
          ],
          [
           2.773206751054852,
           322.5
          ],
          [
           2.2584388185654007,
           337.5
          ],
          [
           1.3955696202531647,
           352.5
          ],
          [
           0.7584388185654009,
           7.5
          ]
         ],
         "hovertemplate": "Day Type=Weekday<br>Trip Type=Arrivals<br>Trips=%{customdata[0]:.2f}<extra></extra>",
         "legendgroup": "Weekday, Arrivals",
         "line": {
          "color": "#636efa",
          "dash": "dot"
         },
         "marker": {
          "symbol": "circle"
         },
         "mode": "lines",
         "name": "Weekday, Arrivals",
         "r": [
          0.7584388185654009,
          0.5253164556962026,
          0.38396624472573837,
          0.2489451476793249,
          0.1339662447257384,
          0.17932489451476794,
          0.620253164556962,
          1.910337552742616,
          3.8681434599156117,
          3.9736286919831225,
          2.201476793248945,
          2.1202531645569622,
          3.154008438818565,
          3.273206751054852,
          2.642405063291139,
          2.70042194092827,
          3.6149789029535864,
          4.621308016877637,
          3.817510548523207,
          2.909282700421941,
          2.409282700421941,
          2.773206751054852,
          2.2584388185654007,
          1.3955696202531647,
          0.7584388185654009
         ],
         "showlegend": true,
         "subplot": "polar",
         "theta": [
          7.5,
          22.5,
          37.5,
          52.5,
          67.5,
          82.5,
          97.5,
          112.5,
          127.5,
          142.5,
          157.5,
          172.5,
          187.5,
          202.5,
          217.5,
          232.5,
          247.5,
          262.5,
          277.5,
          292.5,
          307.5,
          322.5,
          337.5,
          352.5,
          7.5
         ],
         "type": "scatterpolar"
        },
        {
         "customdata": [
          [
           0.41350210970464135,
           7.5
          ],
          [
           0.23417721518987342,
           22.5
          ],
          [
           0.17827004219409281,
           37.5
          ],
          [
           0.20147679324894516,
           52.5
          ],
          [
           0.1540084388185654,
           67.5
          ],
          [
           0.07911392405063292,
           82.5
          ],
          [
           0.07383966244725738,
           97.5
          ],
          [
           0.16139240506329114,
           112.5
          ],
          [
           0.3227848101265823,
           127.5
          ],
          [
           0.5305907172995781,
           142.5
          ],
          [
           0.6413502109704642,
           157.5
          ],
          [
           0.7626582278481012,
           172.5
          ],
          [
           1.0654008438818565,
           187.5
          ],
          [
           1.1339662447257384,
           202.5
          ],
          [
           1.4187763713080168,
           217.5
          ],
          [
           1.6708860759493671,
           232.5
          ],
          [
           1.5791139240506329,
           247.5
          ],
          [
           1.608649789029536,
           262.5
          ],
          [
           1.4018987341772151,
           277.5
          ],
          [
           1.1835443037974684,
           292.5
          ],
          [
           0.979957805907173,
           307.5
          ],
          [
           0.890295358649789,
           322.5
          ],
          [
           0.6476793248945147,
           337.5
          ],
          [
           0.5327004219409283,
           352.5
          ],
          [
           0.41350210970464135,
           7.5
          ]
         ],
         "hovertemplate": "Day Type=Weekend<br>Trip Type=Departures<br>Trips=%{customdata[0]:.2f}<extra></extra>",
         "legendgroup": "Weekend, Departures",
         "line": {
          "color": "#EF553B",
          "dash": "solid"
         },
         "marker": {
          "symbol": "circle"
         },
         "mode": "lines",
         "name": "Weekend, Departures",
         "r": [
          0.41350210970464135,
          0.23417721518987342,
          0.17827004219409281,
          0.20147679324894516,
          0.1540084388185654,
          0.07911392405063292,
          0.07383966244725738,
          0.16139240506329114,
          0.3227848101265823,
          0.5305907172995781,
          0.6413502109704642,
          0.7626582278481012,
          1.0654008438818565,
          1.1339662447257384,
          1.4187763713080168,
          1.6708860759493671,
          1.5791139240506329,
          1.608649789029536,
          1.4018987341772151,
          1.1835443037974684,
          0.979957805907173,
          0.890295358649789,
          0.6476793248945147,
          0.5327004219409283,
          0.41350210970464135
         ],
         "showlegend": true,
         "subplot": "polar",
         "theta": [
          7.5,
          22.5,
          37.5,
          52.5,
          67.5,
          82.5,
          97.5,
          112.5,
          127.5,
          142.5,
          157.5,
          172.5,
          187.5,
          202.5,
          217.5,
          232.5,
          247.5,
          262.5,
          277.5,
          292.5,
          307.5,
          322.5,
          337.5,
          352.5,
          7.5
         ],
         "type": "scatterpolar"
        },
        {
         "customdata": [
          [
           0.3871308016877637,
           7.5
          ],
          [
           0.31962025316455694,
           22.5
          ],
          [
           0.22257383966244726,
           37.5
          ],
          [
           0.189873417721519,
           52.5
          ],
          [
           0.18459915611814345,
           67.5
          ],
          [
           0.14345991561181434,
           82.5
          ],
          [
           0.0981012658227848,
           97.5
          ],
          [
           0.16877637130801687,
           112.5
          ],
          [
           0.24050632911392406,
           127.5
          ],
          [
           0.5780590717299579,
           142.5
          ],
          [
           0.6824894514767933,
           157.5
          ],
          [
           0.930379746835443,
           172.5
          ],
          [
           1.0021097046413503,
           187.5
          ],
          [
           1.3322784810126582,
           202.5
          ],
          [
           1.3829113924050633,
           217.5
          ],
          [
           1.4852320675105486,
           232.5
          ],
          [
           1.5147679324894514,
           247.5
          ],
          [
           1.350210970464135,
           262.5
          ],
          [
           1.2974683544303798,
           277.5
          ],
          [
           1.1919831223628692,
           292.5
          ],
          [
           0.9430379746835443,
           307.5
          ],
          [
           0.8217299578059072,
           322.5
          ],
          [
           0.6128691983122363,
           337.5
          ],
          [
           0.5295358649789029,
           352.5
          ],
          [
           0.3871308016877637,
           7.5
          ]
         ],
         "hovertemplate": "Day Type=Weekend<br>Trip Type=Arrivals<br>Trips=%{customdata[0]:.2f}<extra></extra>",
         "legendgroup": "Weekend, Arrivals",
         "line": {
          "color": "#EF553B",
          "dash": "dot"
         },
         "marker": {
          "symbol": "circle"
         },
         "mode": "lines",
         "name": "Weekend, Arrivals",
         "r": [
          0.3871308016877637,
          0.31962025316455694,
          0.22257383966244726,
          0.189873417721519,
          0.18459915611814345,
          0.14345991561181434,
          0.0981012658227848,
          0.16877637130801687,
          0.24050632911392406,
          0.5780590717299579,
          0.6824894514767933,
          0.930379746835443,
          1.0021097046413503,
          1.3322784810126582,
          1.3829113924050633,
          1.4852320675105486,
          1.5147679324894514,
          1.350210970464135,
          1.2974683544303798,
          1.1919831223628692,
          0.9430379746835443,
          0.8217299578059072,
          0.6128691983122363,
          0.5295358649789029,
          0.3871308016877637
         ],
         "showlegend": true,
         "subplot": "polar",
         "theta": [
          7.5,
          22.5,
          37.5,
          52.5,
          67.5,
          82.5,
          97.5,
          112.5,
          127.5,
          142.5,
          157.5,
          172.5,
          187.5,
          202.5,
          217.5,
          232.5,
          247.5,
          262.5,
          277.5,
          292.5,
          307.5,
          322.5,
          337.5,
          352.5,
          7.5
         ],
         "type": "scatterpolar"
        }
       ],
       "layout": {
        "height": 500,
        "legend": {
         "title": {
          "text": ""
         },
         "tracegroupgap": 0
        },
        "margin": {
         "t": 60
        },
        "polar": {
         "angularaxis": {
          "direction": "clockwise",
          "rotation": -90,
          "tickmode": "array",
          "ticktext": [
           "12 AM",
           "1 AM",
           "2 AM",
           "3 AM",
           "4 AM",
           "5 AM",
           "6 AM",
           "7 AM",
           "8 AM",
           "9 AM",
           "10 AM",
           "11 AM",
           "12 PM",
           "1 PM",
           "2 PM",
           "3 PM",
           "4 PM",
           "5 PM",
           "6 PM",
           "7 PM",
           "8 PM",
           "9 PM",
           "10 PM",
           "11 PM"
          ],
          "tickvals": [
           0,
           15,
           30,
           45,
           60,
           75,
           90,
           105,
           120,
           135,
           150,
           165,
           180,
           195,
           210,
           225,
           240,
           255,
           270,
           285,
           300,
           315,
           330,
           345
          ]
         },
         "domain": {
          "x": [
           0,
           1
          ],
          "y": [
           0,
           1
          ]
         }
        },
        "template": {
         "data": {
          "bar": [
           {
            "error_x": {
             "color": "#2a3f5f"
            },
            "error_y": {
             "color": "#2a3f5f"
            },
            "marker": {
             "line": {
              "color": "#E5ECF6",
              "width": 0.5
             },
             "pattern": {
              "fillmode": "overlay",
              "size": 10,
              "solidity": 0.2
             }
            },
            "type": "bar"
           }
          ],
          "barpolar": [
           {
            "marker": {
             "line": {
              "color": "#E5ECF6",
              "width": 0.5
             },
             "pattern": {
              "fillmode": "overlay",
              "size": 10,
              "solidity": 0.2
             }
            },
            "type": "barpolar"
           }
          ],
          "carpet": [
           {
            "aaxis": {
             "endlinecolor": "#2a3f5f",
             "gridcolor": "white",
             "linecolor": "white",
             "minorgridcolor": "white",
             "startlinecolor": "#2a3f5f"
            },
            "baxis": {
             "endlinecolor": "#2a3f5f",
             "gridcolor": "white",
             "linecolor": "white",
             "minorgridcolor": "white",
             "startlinecolor": "#2a3f5f"
            },
            "type": "carpet"
           }
          ],
          "choropleth": [
           {
            "colorbar": {
             "outlinewidth": 0,
             "ticks": ""
            },
            "type": "choropleth"
           }
          ],
          "contour": [
           {
            "colorbar": {
             "outlinewidth": 0,
             "ticks": ""
            },
            "colorscale": [
             [
              0,
              "#0d0887"
             ],
             [
              0.1111111111111111,
              "#46039f"
             ],
             [
              0.2222222222222222,
              "#7201a8"
             ],
             [
              0.3333333333333333,
              "#9c179e"
             ],
             [
              0.4444444444444444,
              "#bd3786"
             ],
             [
              0.5555555555555556,
              "#d8576b"
             ],
             [
              0.6666666666666666,
              "#ed7953"
             ],
             [
              0.7777777777777778,
              "#fb9f3a"
             ],
             [
              0.8888888888888888,
              "#fdca26"
             ],
             [
              1,
              "#f0f921"
             ]
            ],
            "type": "contour"
           }
          ],
          "contourcarpet": [
           {
            "colorbar": {
             "outlinewidth": 0,
             "ticks": ""
            },
            "type": "contourcarpet"
           }
          ],
          "heatmap": [
           {
            "colorbar": {
             "outlinewidth": 0,
             "ticks": ""
            },
            "colorscale": [
             [
              0,
              "#0d0887"
             ],
             [
              0.1111111111111111,
              "#46039f"
             ],
             [
              0.2222222222222222,
              "#7201a8"
             ],
             [
              0.3333333333333333,
              "#9c179e"
             ],
             [
              0.4444444444444444,
              "#bd3786"
             ],
             [
              0.5555555555555556,
              "#d8576b"
             ],
             [
              0.6666666666666666,
              "#ed7953"
             ],
             [
              0.7777777777777778,
              "#fb9f3a"
             ],
             [
              0.8888888888888888,
              "#fdca26"
             ],
             [
              1,
              "#f0f921"
             ]
            ],
            "type": "heatmap"
           }
          ],
          "heatmapgl": [
           {
            "colorbar": {
             "outlinewidth": 0,
             "ticks": ""
            },
            "colorscale": [
             [
              0,
              "#0d0887"
             ],
             [
              0.1111111111111111,
              "#46039f"
             ],
             [
              0.2222222222222222,
              "#7201a8"
             ],
             [
              0.3333333333333333,
              "#9c179e"
             ],
             [
              0.4444444444444444,
              "#bd3786"
             ],
             [
              0.5555555555555556,
              "#d8576b"
             ],
             [
              0.6666666666666666,
              "#ed7953"
             ],
             [
              0.7777777777777778,
              "#fb9f3a"
             ],
             [
              0.8888888888888888,
              "#fdca26"
             ],
             [
              1,
              "#f0f921"
             ]
            ],
            "type": "heatmapgl"
           }
          ],
          "histogram": [
           {
            "marker": {
             "pattern": {
              "fillmode": "overlay",
              "size": 10,
              "solidity": 0.2
             }
            },
            "type": "histogram"
           }
          ],
          "histogram2d": [
           {
            "colorbar": {
             "outlinewidth": 0,
             "ticks": ""
            },
            "colorscale": [
             [
              0,
              "#0d0887"
             ],
             [
              0.1111111111111111,
              "#46039f"
             ],
             [
              0.2222222222222222,
              "#7201a8"
             ],
             [
              0.3333333333333333,
              "#9c179e"
             ],
             [
              0.4444444444444444,
              "#bd3786"
             ],
             [
              0.5555555555555556,
              "#d8576b"
             ],
             [
              0.6666666666666666,
              "#ed7953"
             ],
             [
              0.7777777777777778,
              "#fb9f3a"
             ],
             [
              0.8888888888888888,
              "#fdca26"
             ],
             [
              1,
              "#f0f921"
             ]
            ],
            "type": "histogram2d"
           }
          ],
          "histogram2dcontour": [
           {
            "colorbar": {
             "outlinewidth": 0,
             "ticks": ""
            },
            "colorscale": [
             [
              0,
              "#0d0887"
             ],
             [
              0.1111111111111111,
              "#46039f"
             ],
             [
              0.2222222222222222,
              "#7201a8"
             ],
             [
              0.3333333333333333,
              "#9c179e"
             ],
             [
              0.4444444444444444,
              "#bd3786"
             ],
             [
              0.5555555555555556,
              "#d8576b"
             ],
             [
              0.6666666666666666,
              "#ed7953"
             ],
             [
              0.7777777777777778,
              "#fb9f3a"
             ],
             [
              0.8888888888888888,
              "#fdca26"
             ],
             [
              1,
              "#f0f921"
             ]
            ],
            "type": "histogram2dcontour"
           }
          ],
          "mesh3d": [
           {
            "colorbar": {
             "outlinewidth": 0,
             "ticks": ""
            },
            "type": "mesh3d"
           }
          ],
          "parcoords": [
           {
            "line": {
             "colorbar": {
              "outlinewidth": 0,
              "ticks": ""
             }
            },
            "type": "parcoords"
           }
          ],
          "pie": [
           {
            "automargin": true,
            "type": "pie"
           }
          ],
          "scatter": [
           {
            "fillpattern": {
             "fillmode": "overlay",
             "size": 10,
             "solidity": 0.2
            },
            "type": "scatter"
           }
          ],
          "scatter3d": [
           {
            "line": {
             "colorbar": {
              "outlinewidth": 0,
              "ticks": ""
             }
            },
            "marker": {
             "colorbar": {
              "outlinewidth": 0,
              "ticks": ""
             }
            },
            "type": "scatter3d"
           }
          ],
          "scattercarpet": [
           {
            "marker": {
             "colorbar": {
              "outlinewidth": 0,
              "ticks": ""
             }
            },
            "type": "scattercarpet"
           }
          ],
          "scattergeo": [
           {
            "marker": {
             "colorbar": {
              "outlinewidth": 0,
              "ticks": ""
             }
            },
            "type": "scattergeo"
           }
          ],
          "scattergl": [
           {
            "marker": {
             "colorbar": {
              "outlinewidth": 0,
              "ticks": ""
             }
            },
            "type": "scattergl"
           }
          ],
          "scattermapbox": [
           {
            "marker": {
             "colorbar": {
              "outlinewidth": 0,
              "ticks": ""
             }
            },
            "type": "scattermapbox"
           }
          ],
          "scatterpolar": [
           {
            "marker": {
             "colorbar": {
              "outlinewidth": 0,
              "ticks": ""
             }
            },
            "type": "scatterpolar"
           }
          ],
          "scatterpolargl": [
           {
            "marker": {
             "colorbar": {
              "outlinewidth": 0,
              "ticks": ""
             }
            },
            "type": "scatterpolargl"
           }
          ],
          "scatterternary": [
           {
            "marker": {
             "colorbar": {
              "outlinewidth": 0,
              "ticks": ""
             }
            },
            "type": "scatterternary"
           }
          ],
          "surface": [
           {
            "colorbar": {
             "outlinewidth": 0,
             "ticks": ""
            },
            "colorscale": [
             [
              0,
              "#0d0887"
             ],
             [
              0.1111111111111111,
              "#46039f"
             ],
             [
              0.2222222222222222,
              "#7201a8"
             ],
             [
              0.3333333333333333,
              "#9c179e"
             ],
             [
              0.4444444444444444,
              "#bd3786"
             ],
             [
              0.5555555555555556,
              "#d8576b"
             ],
             [
              0.6666666666666666,
              "#ed7953"
             ],
             [
              0.7777777777777778,
              "#fb9f3a"
             ],
             [
              0.8888888888888888,
              "#fdca26"
             ],
             [
              1,
              "#f0f921"
             ]
            ],
            "type": "surface"
           }
          ],
          "table": [
           {
            "cells": {
             "fill": {
              "color": "#EBF0F8"
             },
             "line": {
              "color": "white"
             }
            },
            "header": {
             "fill": {
              "color": "#C8D4E3"
             },
             "line": {
              "color": "white"
             }
            },
            "type": "table"
           }
          ]
         },
         "layout": {
          "annotationdefaults": {
           "arrowcolor": "#2a3f5f",
           "arrowhead": 0,
           "arrowwidth": 1
          },
          "autotypenumbers": "strict",
          "coloraxis": {
           "colorbar": {
            "outlinewidth": 0,
            "ticks": ""
           }
          },
          "colorscale": {
           "diverging": [
            [
             0,
             "#8e0152"
            ],
            [
             0.1,
             "#c51b7d"
            ],
            [
             0.2,
             "#de77ae"
            ],
            [
             0.3,
             "#f1b6da"
            ],
            [
             0.4,
             "#fde0ef"
            ],
            [
             0.5,
             "#f7f7f7"
            ],
            [
             0.6,
             "#e6f5d0"
            ],
            [
             0.7,
             "#b8e186"
            ],
            [
             0.8,
             "#7fbc41"
            ],
            [
             0.9,
             "#4d9221"
            ],
            [
             1,
             "#276419"
            ]
           ],
           "sequential": [
            [
             0,
             "#0d0887"
            ],
            [
             0.1111111111111111,
             "#46039f"
            ],
            [
             0.2222222222222222,
             "#7201a8"
            ],
            [
             0.3333333333333333,
             "#9c179e"
            ],
            [
             0.4444444444444444,
             "#bd3786"
            ],
            [
             0.5555555555555556,
             "#d8576b"
            ],
            [
             0.6666666666666666,
             "#ed7953"
            ],
            [
             0.7777777777777778,
             "#fb9f3a"
            ],
            [
             0.8888888888888888,
             "#fdca26"
            ],
            [
             1,
             "#f0f921"
            ]
           ],
           "sequentialminus": [
            [
             0,
             "#0d0887"
            ],
            [
             0.1111111111111111,
             "#46039f"
            ],
            [
             0.2222222222222222,
             "#7201a8"
            ],
            [
             0.3333333333333333,
             "#9c179e"
            ],
            [
             0.4444444444444444,
             "#bd3786"
            ],
            [
             0.5555555555555556,
             "#d8576b"
            ],
            [
             0.6666666666666666,
             "#ed7953"
            ],
            [
             0.7777777777777778,
             "#fb9f3a"
            ],
            [
             0.8888888888888888,
             "#fdca26"
            ],
            [
             1,
             "#f0f921"
            ]
           ]
          },
          "colorway": [
           "#636efa",
           "#EF553B",
           "#00cc96",
           "#ab63fa",
           "#FFA15A",
           "#19d3f3",
           "#FF6692",
           "#B6E880",
           "#FF97FF",
           "#FECB52"
          ],
          "font": {
           "color": "#2a3f5f"
          },
          "geo": {
           "bgcolor": "white",
           "lakecolor": "white",
           "landcolor": "#E5ECF6",
           "showlakes": true,
           "showland": true,
           "subunitcolor": "white"
          },
          "hoverlabel": {
           "align": "left"
          },
          "hovermode": "closest",
          "mapbox": {
           "style": "light"
          },
          "paper_bgcolor": "white",
          "plot_bgcolor": "#E5ECF6",
          "polar": {
           "angularaxis": {
            "gridcolor": "white",
            "linecolor": "white",
            "ticks": ""
           },
           "bgcolor": "#E5ECF6",
           "radialaxis": {
            "gridcolor": "white",
            "linecolor": "white",
            "ticks": ""
           }
          },
          "scene": {
           "xaxis": {
            "backgroundcolor": "#E5ECF6",
            "gridcolor": "white",
            "gridwidth": 2,
            "linecolor": "white",
            "showbackground": true,
            "ticks": "",
            "zerolinecolor": "white"
           },
           "yaxis": {
            "backgroundcolor": "#E5ECF6",
            "gridcolor": "white",
            "gridwidth": 2,
            "linecolor": "white",
            "showbackground": true,
            "ticks": "",
            "zerolinecolor": "white"
           },
           "zaxis": {
            "backgroundcolor": "#E5ECF6",
            "gridcolor": "white",
            "gridwidth": 2,
            "linecolor": "white",
            "showbackground": true,
            "ticks": "",
            "zerolinecolor": "white"
           }
          },
          "shapedefaults": {
           "line": {
            "color": "#2a3f5f"
           }
          },
          "ternary": {
           "aaxis": {
            "gridcolor": "white",
            "linecolor": "white",
            "ticks": ""
           },
           "baxis": {
            "gridcolor": "white",
            "linecolor": "white",
            "ticks": ""
           },
           "bgcolor": "#E5ECF6",
           "caxis": {
            "gridcolor": "white",
            "linecolor": "white",
            "ticks": ""
           }
          },
          "title": {
           "x": 0.05
          },
          "xaxis": {
           "automargin": true,
           "gridcolor": "white",
           "linecolor": "white",
           "ticks": "",
           "title": {
            "standoff": 15
           },
           "zerolinecolor": "white",
           "zerolinewidth": 2
          },
          "yaxis": {
           "automargin": true,
           "gridcolor": "white",
           "linecolor": "white",
           "ticks": "",
           "title": {
            "standoff": 15
           },
           "zerolinecolor": "white",
           "zerolinewidth": 2
          }
         }
        },
        "title": {
         "text": "Hourly Bluebike Trips Near Patrick J. Kelly Park"
        },
        "width": 600
       }
      }
     },
     "metadata": {},
     "output_type": "display_data"
    },
    {
     "name": "stdout",
     "output_type": "stream",
     "text": [
      "No stations within 0.3 km of Ryan Play Area\n",
      "1 nearest station to Cunningham Park: Brighton Center - Washington St at Cambridge St\n"
     ]
    },
    {
     "name": "stderr",
     "output_type": "stream",
     "text": [
      "/Users/henrywu/opt/anaconda3/lib/python3.9/site-packages/plotly/express/_core.py:271: FutureWarning:\n",
      "\n",
      "The frame.append method is deprecated and will be removed from pandas in a future version. Use pandas.concat instead.\n",
      "\n",
      "/Users/henrywu/opt/anaconda3/lib/python3.9/site-packages/plotly/express/_core.py:271: FutureWarning:\n",
      "\n",
      "The frame.append method is deprecated and will be removed from pandas in a future version. Use pandas.concat instead.\n",
      "\n",
      "/Users/henrywu/opt/anaconda3/lib/python3.9/site-packages/plotly/express/_core.py:271: FutureWarning:\n",
      "\n",
      "The frame.append method is deprecated and will be removed from pandas in a future version. Use pandas.concat instead.\n",
      "\n",
      "/Users/henrywu/opt/anaconda3/lib/python3.9/site-packages/plotly/express/_core.py:271: FutureWarning:\n",
      "\n",
      "The frame.append method is deprecated and will be removed from pandas in a future version. Use pandas.concat instead.\n",
      "\n"
     ]
    },
    {
     "data": {
      "application/vnd.plotly.v1+json": {
       "config": {
        "plotlyServerURL": "https://plot.ly"
       },
       "data": [
        {
         "customdata": [
          [
           0.33122362869198313,
           7.5
          ],
          [
           0.22784810126582278,
           22.5
          ],
          [
           0.189873417721519,
           37.5
          ],
          [
           0.15611814345991562,
           52.5
          ],
          [
           0.09915611814345991,
           67.5
          ],
          [
           0.23628691983122363,
           82.5
          ],
          [
           0.5685654008438819,
           97.5
          ],
          [
           2.028481012658228,
           112.5
          ],
          [
           2.289029535864979,
           127.5
          ],
          [
           1.3227848101265822,
           142.5
          ],
          [
           1.121308016877637,
           157.5
          ],
          [
           1.2985232067510548,
           172.5
          ],
          [
           1.4029535864978904,
           187.5
          ],
          [
           1.391350210970464,
           202.5
          ],
          [
           1.2816455696202531,
           217.5
          ],
          [
           1.5084388185654007,
           232.5
          ],
          [
           1.5042194092827004,
           247.5
          ],
          [
           1.7995780590717299,
           262.5
          ],
          [
           1.620253164556962,
           277.5
          ],
          [
           1.360759493670886,
           292.5
          ],
          [
           1.0611814345991561,
           307.5
          ],
          [
           1.09915611814346,
           322.5
          ],
          [
           0.9050632911392406,
           337.5
          ],
          [
           0.70042194092827,
           352.5
          ],
          [
           0.33122362869198313,
           7.5
          ]
         ],
         "hovertemplate": "Day Type=Weekday<br>Trip Type=Departures<br>Trips=%{customdata[0]:.2f}<extra></extra>",
         "legendgroup": "Weekday, Departures",
         "line": {
          "color": "#636efa",
          "dash": "solid"
         },
         "marker": {
          "symbol": "circle"
         },
         "mode": "lines",
         "name": "Weekday, Departures",
         "r": [
          0.33122362869198313,
          0.22784810126582278,
          0.189873417721519,
          0.15611814345991562,
          0.09915611814345991,
          0.23628691983122363,
          0.5685654008438819,
          2.028481012658228,
          2.289029535864979,
          1.3227848101265822,
          1.121308016877637,
          1.2985232067510548,
          1.4029535864978904,
          1.391350210970464,
          1.2816455696202531,
          1.5084388185654007,
          1.5042194092827004,
          1.7995780590717299,
          1.620253164556962,
          1.360759493670886,
          1.0611814345991561,
          1.09915611814346,
          0.9050632911392406,
          0.70042194092827,
          0.33122362869198313
         ],
         "showlegend": true,
         "subplot": "polar",
         "theta": [
          7.5,
          22.5,
          37.5,
          52.5,
          67.5,
          82.5,
          97.5,
          112.5,
          127.5,
          142.5,
          157.5,
          172.5,
          187.5,
          202.5,
          217.5,
          232.5,
          247.5,
          262.5,
          277.5,
          292.5,
          307.5,
          322.5,
          337.5,
          352.5,
          7.5
         ],
         "type": "scatterpolar"
        },
        {
         "customdata": [
          [
           0.7383966244725738,
           7.5
          ],
          [
           0.5938818565400844,
           22.5
          ],
          [
           0.4578059071729958,
           37.5
          ],
          [
           0.28164556962025317,
           52.5
          ],
          [
           0.21835443037974683,
           67.5
          ],
          [
           0.22046413502109705,
           82.5
          ],
          [
           0.4641350210970464,
           97.5
          ],
          [
           0.439873417721519,
           112.5
          ],
          [
           0.6160337552742616,
           127.5
          ],
          [
           0.370253164556962,
           142.5
          ],
          [
           0.39451476793248946,
           157.5
          ],
          [
           0.5443037974683544,
           172.5
          ],
          [
           0.6940928270042194,
           187.5
          ],
          [
           0.7035864978902954,
           202.5
          ],
          [
           0.7964135021097046,
           217.5
          ],
          [
           0.9831223628691983,
           232.5
          ],
          [
           1.3375527426160339,
           247.5
          ],
          [
           2.1033755274261603,
           262.5
          ],
          [
           2.2510548523206753,
           277.5
          ],
          [
           2.020042194092827,
           292.5
          ],
          [
           1.6381856540084387,
           307.5
          ],
          [
           1.4757383966244726,
           322.5
          ],
          [
           1.520042194092827,
           337.5
          ],
          [
           1.140295358649789,
           352.5
          ],
          [
           0.7383966244725738,
           7.5
          ]
         ],
         "hovertemplate": "Day Type=Weekday<br>Trip Type=Arrivals<br>Trips=%{customdata[0]:.2f}<extra></extra>",
         "legendgroup": "Weekday, Arrivals",
         "line": {
          "color": "#636efa",
          "dash": "dot"
         },
         "marker": {
          "symbol": "circle"
         },
         "mode": "lines",
         "name": "Weekday, Arrivals",
         "r": [
          0.7383966244725738,
          0.5938818565400844,
          0.4578059071729958,
          0.28164556962025317,
          0.21835443037974683,
          0.22046413502109705,
          0.4641350210970464,
          0.439873417721519,
          0.6160337552742616,
          0.370253164556962,
          0.39451476793248946,
          0.5443037974683544,
          0.6940928270042194,
          0.7035864978902954,
          0.7964135021097046,
          0.9831223628691983,
          1.3375527426160339,
          2.1033755274261603,
          2.2510548523206753,
          2.020042194092827,
          1.6381856540084387,
          1.4757383966244726,
          1.520042194092827,
          1.140295358649789,
          0.7383966244725738
         ],
         "showlegend": true,
         "subplot": "polar",
         "theta": [
          7.5,
          22.5,
          37.5,
          52.5,
          67.5,
          82.5,
          97.5,
          112.5,
          127.5,
          142.5,
          157.5,
          172.5,
          187.5,
          202.5,
          217.5,
          232.5,
          247.5,
          262.5,
          277.5,
          292.5,
          307.5,
          322.5,
          337.5,
          352.5,
          7.5
         ],
         "type": "scatterpolar"
        },
        {
         "customdata": [
          [
           0.23417721518987342,
           7.5
          ],
          [
           0.18037974683544303,
           22.5
          ],
          [
           0.12974683544303797,
           37.5
          ],
          [
           0.10759493670886076,
           52.5
          ],
          [
           0.11181434599156118,
           67.5
          ],
          [
           0.11814345991561181,
           82.5
          ],
          [
           0.09071729957805907,
           97.5
          ],
          [
           0.1518987341772152,
           112.5
          ],
          [
           0.27637130801687765,
           127.5
          ],
          [
           0.4008438818565401,
           142.5
          ],
          [
           0.5042194092827004,
           157.5
          ],
          [
           0.6286919831223629,
           172.5
          ],
          [
           0.6983122362869199,
           187.5
          ],
          [
           0.7215189873417721,
           202.5
          ],
          [
           0.6930379746835443,
           217.5
          ],
          [
           0.7668776371308017,
           232.5
          ],
          [
           0.629746835443038,
           247.5
          ],
          [
           0.5928270042194093,
           262.5
          ],
          [
           0.5822784810126582,
           277.5
          ],
          [
           0.510548523206751,
           292.5
          ],
          [
           0.37236286919831224,
           307.5
          ],
          [
           0.3575949367088608,
           322.5
          ],
          [
           0.33016877637130804,
           337.5
          ],
          [
           0.26582278481012656,
           352.5
          ],
          [
           0.23417721518987342,
           7.5
          ]
         ],
         "hovertemplate": "Day Type=Weekend<br>Trip Type=Departures<br>Trips=%{customdata[0]:.2f}<extra></extra>",
         "legendgroup": "Weekend, Departures",
         "line": {
          "color": "#EF553B",
          "dash": "solid"
         },
         "marker": {
          "symbol": "circle"
         },
         "mode": "lines",
         "name": "Weekend, Departures",
         "r": [
          0.23417721518987342,
          0.18037974683544303,
          0.12974683544303797,
          0.10759493670886076,
          0.11181434599156118,
          0.11814345991561181,
          0.09071729957805907,
          0.1518987341772152,
          0.27637130801687765,
          0.4008438818565401,
          0.5042194092827004,
          0.6286919831223629,
          0.6983122362869199,
          0.7215189873417721,
          0.6930379746835443,
          0.7668776371308017,
          0.629746835443038,
          0.5928270042194093,
          0.5822784810126582,
          0.510548523206751,
          0.37236286919831224,
          0.3575949367088608,
          0.33016877637130804,
          0.26582278481012656,
          0.23417721518987342
         ],
         "showlegend": true,
         "subplot": "polar",
         "theta": [
          7.5,
          22.5,
          37.5,
          52.5,
          67.5,
          82.5,
          97.5,
          112.5,
          127.5,
          142.5,
          157.5,
          172.5,
          187.5,
          202.5,
          217.5,
          232.5,
          247.5,
          262.5,
          277.5,
          292.5,
          307.5,
          322.5,
          337.5,
          352.5,
          7.5
         ],
         "type": "scatterpolar"
        },
        {
         "customdata": [
          [
           0.4409282700421941,
           7.5
          ],
          [
           0.40717299578059074,
           22.5
          ],
          [
           0.3291139240506329,
           37.5
          ],
          [
           0.2320675105485232,
           52.5
          ],
          [
           0.17827004219409281,
           67.5
          ],
          [
           0.18565400843881857,
           82.5
          ],
          [
           0.2858649789029536,
           97.5
          ],
          [
           0.16033755274261605,
           112.5
          ],
          [
           0.11708860759493671,
           127.5
          ],
          [
           0.17827004219409281,
           142.5
          ],
          [
           0.22784810126582278,
           157.5
          ],
          [
           0.33438818565400846,
           172.5
          ],
          [
           0.4166666666666667,
           187.5
          ],
          [
           0.41350210970464135,
           202.5
          ],
          [
           0.4810126582278481,
           217.5
          ],
          [
           0.4831223628691983,
           232.5
          ],
          [
           0.5474683544303798,
           247.5
          ],
          [
           0.5748945147679325,
           262.5
          ],
          [
           0.6213080168776371,
           277.5
          ],
          [
           0.5949367088607594,
           292.5
          ],
          [
           0.5379746835443038,
           307.5
          ],
          [
           0.4356540084388186,
           322.5
          ],
          [
           0.43354430379746833,
           337.5
          ],
          [
           0.37763713080168776,
           352.5
          ],
          [
           0.4409282700421941,
           7.5
          ]
         ],
         "hovertemplate": "Day Type=Weekend<br>Trip Type=Arrivals<br>Trips=%{customdata[0]:.2f}<extra></extra>",
         "legendgroup": "Weekend, Arrivals",
         "line": {
          "color": "#EF553B",
          "dash": "dot"
         },
         "marker": {
          "symbol": "circle"
         },
         "mode": "lines",
         "name": "Weekend, Arrivals",
         "r": [
          0.4409282700421941,
          0.40717299578059074,
          0.3291139240506329,
          0.2320675105485232,
          0.17827004219409281,
          0.18565400843881857,
          0.2858649789029536,
          0.16033755274261605,
          0.11708860759493671,
          0.17827004219409281,
          0.22784810126582278,
          0.33438818565400846,
          0.4166666666666667,
          0.41350210970464135,
          0.4810126582278481,
          0.4831223628691983,
          0.5474683544303798,
          0.5748945147679325,
          0.6213080168776371,
          0.5949367088607594,
          0.5379746835443038,
          0.4356540084388186,
          0.43354430379746833,
          0.37763713080168776,
          0.4409282700421941
         ],
         "showlegend": true,
         "subplot": "polar",
         "theta": [
          7.5,
          22.5,
          37.5,
          52.5,
          67.5,
          82.5,
          97.5,
          112.5,
          127.5,
          142.5,
          157.5,
          172.5,
          187.5,
          202.5,
          217.5,
          232.5,
          247.5,
          262.5,
          277.5,
          292.5,
          307.5,
          322.5,
          337.5,
          352.5,
          7.5
         ],
         "type": "scatterpolar"
        }
       ],
       "layout": {
        "height": 500,
        "legend": {
         "title": {
          "text": ""
         },
         "tracegroupgap": 0
        },
        "margin": {
         "t": 60
        },
        "polar": {
         "angularaxis": {
          "direction": "clockwise",
          "rotation": -90,
          "tickmode": "array",
          "ticktext": [
           "12 AM",
           "1 AM",
           "2 AM",
           "3 AM",
           "4 AM",
           "5 AM",
           "6 AM",
           "7 AM",
           "8 AM",
           "9 AM",
           "10 AM",
           "11 AM",
           "12 PM",
           "1 PM",
           "2 PM",
           "3 PM",
           "4 PM",
           "5 PM",
           "6 PM",
           "7 PM",
           "8 PM",
           "9 PM",
           "10 PM",
           "11 PM"
          ],
          "tickvals": [
           0,
           15,
           30,
           45,
           60,
           75,
           90,
           105,
           120,
           135,
           150,
           165,
           180,
           195,
           210,
           225,
           240,
           255,
           270,
           285,
           300,
           315,
           330,
           345
          ]
         },
         "domain": {
          "x": [
           0,
           1
          ],
          "y": [
           0,
           1
          ]
         }
        },
        "template": {
         "data": {
          "bar": [
           {
            "error_x": {
             "color": "#2a3f5f"
            },
            "error_y": {
             "color": "#2a3f5f"
            },
            "marker": {
             "line": {
              "color": "#E5ECF6",
              "width": 0.5
             },
             "pattern": {
              "fillmode": "overlay",
              "size": 10,
              "solidity": 0.2
             }
            },
            "type": "bar"
           }
          ],
          "barpolar": [
           {
            "marker": {
             "line": {
              "color": "#E5ECF6",
              "width": 0.5
             },
             "pattern": {
              "fillmode": "overlay",
              "size": 10,
              "solidity": 0.2
             }
            },
            "type": "barpolar"
           }
          ],
          "carpet": [
           {
            "aaxis": {
             "endlinecolor": "#2a3f5f",
             "gridcolor": "white",
             "linecolor": "white",
             "minorgridcolor": "white",
             "startlinecolor": "#2a3f5f"
            },
            "baxis": {
             "endlinecolor": "#2a3f5f",
             "gridcolor": "white",
             "linecolor": "white",
             "minorgridcolor": "white",
             "startlinecolor": "#2a3f5f"
            },
            "type": "carpet"
           }
          ],
          "choropleth": [
           {
            "colorbar": {
             "outlinewidth": 0,
             "ticks": ""
            },
            "type": "choropleth"
           }
          ],
          "contour": [
           {
            "colorbar": {
             "outlinewidth": 0,
             "ticks": ""
            },
            "colorscale": [
             [
              0,
              "#0d0887"
             ],
             [
              0.1111111111111111,
              "#46039f"
             ],
             [
              0.2222222222222222,
              "#7201a8"
             ],
             [
              0.3333333333333333,
              "#9c179e"
             ],
             [
              0.4444444444444444,
              "#bd3786"
             ],
             [
              0.5555555555555556,
              "#d8576b"
             ],
             [
              0.6666666666666666,
              "#ed7953"
             ],
             [
              0.7777777777777778,
              "#fb9f3a"
             ],
             [
              0.8888888888888888,
              "#fdca26"
             ],
             [
              1,
              "#f0f921"
             ]
            ],
            "type": "contour"
           }
          ],
          "contourcarpet": [
           {
            "colorbar": {
             "outlinewidth": 0,
             "ticks": ""
            },
            "type": "contourcarpet"
           }
          ],
          "heatmap": [
           {
            "colorbar": {
             "outlinewidth": 0,
             "ticks": ""
            },
            "colorscale": [
             [
              0,
              "#0d0887"
             ],
             [
              0.1111111111111111,
              "#46039f"
             ],
             [
              0.2222222222222222,
              "#7201a8"
             ],
             [
              0.3333333333333333,
              "#9c179e"
             ],
             [
              0.4444444444444444,
              "#bd3786"
             ],
             [
              0.5555555555555556,
              "#d8576b"
             ],
             [
              0.6666666666666666,
              "#ed7953"
             ],
             [
              0.7777777777777778,
              "#fb9f3a"
             ],
             [
              0.8888888888888888,
              "#fdca26"
             ],
             [
              1,
              "#f0f921"
             ]
            ],
            "type": "heatmap"
           }
          ],
          "heatmapgl": [
           {
            "colorbar": {
             "outlinewidth": 0,
             "ticks": ""
            },
            "colorscale": [
             [
              0,
              "#0d0887"
             ],
             [
              0.1111111111111111,
              "#46039f"
             ],
             [
              0.2222222222222222,
              "#7201a8"
             ],
             [
              0.3333333333333333,
              "#9c179e"
             ],
             [
              0.4444444444444444,
              "#bd3786"
             ],
             [
              0.5555555555555556,
              "#d8576b"
             ],
             [
              0.6666666666666666,
              "#ed7953"
             ],
             [
              0.7777777777777778,
              "#fb9f3a"
             ],
             [
              0.8888888888888888,
              "#fdca26"
             ],
             [
              1,
              "#f0f921"
             ]
            ],
            "type": "heatmapgl"
           }
          ],
          "histogram": [
           {
            "marker": {
             "pattern": {
              "fillmode": "overlay",
              "size": 10,
              "solidity": 0.2
             }
            },
            "type": "histogram"
           }
          ],
          "histogram2d": [
           {
            "colorbar": {
             "outlinewidth": 0,
             "ticks": ""
            },
            "colorscale": [
             [
              0,
              "#0d0887"
             ],
             [
              0.1111111111111111,
              "#46039f"
             ],
             [
              0.2222222222222222,
              "#7201a8"
             ],
             [
              0.3333333333333333,
              "#9c179e"
             ],
             [
              0.4444444444444444,
              "#bd3786"
             ],
             [
              0.5555555555555556,
              "#d8576b"
             ],
             [
              0.6666666666666666,
              "#ed7953"
             ],
             [
              0.7777777777777778,
              "#fb9f3a"
             ],
             [
              0.8888888888888888,
              "#fdca26"
             ],
             [
              1,
              "#f0f921"
             ]
            ],
            "type": "histogram2d"
           }
          ],
          "histogram2dcontour": [
           {
            "colorbar": {
             "outlinewidth": 0,
             "ticks": ""
            },
            "colorscale": [
             [
              0,
              "#0d0887"
             ],
             [
              0.1111111111111111,
              "#46039f"
             ],
             [
              0.2222222222222222,
              "#7201a8"
             ],
             [
              0.3333333333333333,
              "#9c179e"
             ],
             [
              0.4444444444444444,
              "#bd3786"
             ],
             [
              0.5555555555555556,
              "#d8576b"
             ],
             [
              0.6666666666666666,
              "#ed7953"
             ],
             [
              0.7777777777777778,
              "#fb9f3a"
             ],
             [
              0.8888888888888888,
              "#fdca26"
             ],
             [
              1,
              "#f0f921"
             ]
            ],
            "type": "histogram2dcontour"
           }
          ],
          "mesh3d": [
           {
            "colorbar": {
             "outlinewidth": 0,
             "ticks": ""
            },
            "type": "mesh3d"
           }
          ],
          "parcoords": [
           {
            "line": {
             "colorbar": {
              "outlinewidth": 0,
              "ticks": ""
             }
            },
            "type": "parcoords"
           }
          ],
          "pie": [
           {
            "automargin": true,
            "type": "pie"
           }
          ],
          "scatter": [
           {
            "fillpattern": {
             "fillmode": "overlay",
             "size": 10,
             "solidity": 0.2
            },
            "type": "scatter"
           }
          ],
          "scatter3d": [
           {
            "line": {
             "colorbar": {
              "outlinewidth": 0,
              "ticks": ""
             }
            },
            "marker": {
             "colorbar": {
              "outlinewidth": 0,
              "ticks": ""
             }
            },
            "type": "scatter3d"
           }
          ],
          "scattercarpet": [
           {
            "marker": {
             "colorbar": {
              "outlinewidth": 0,
              "ticks": ""
             }
            },
            "type": "scattercarpet"
           }
          ],
          "scattergeo": [
           {
            "marker": {
             "colorbar": {
              "outlinewidth": 0,
              "ticks": ""
             }
            },
            "type": "scattergeo"
           }
          ],
          "scattergl": [
           {
            "marker": {
             "colorbar": {
              "outlinewidth": 0,
              "ticks": ""
             }
            },
            "type": "scattergl"
           }
          ],
          "scattermapbox": [
           {
            "marker": {
             "colorbar": {
              "outlinewidth": 0,
              "ticks": ""
             }
            },
            "type": "scattermapbox"
           }
          ],
          "scatterpolar": [
           {
            "marker": {
             "colorbar": {
              "outlinewidth": 0,
              "ticks": ""
             }
            },
            "type": "scatterpolar"
           }
          ],
          "scatterpolargl": [
           {
            "marker": {
             "colorbar": {
              "outlinewidth": 0,
              "ticks": ""
             }
            },
            "type": "scatterpolargl"
           }
          ],
          "scatterternary": [
           {
            "marker": {
             "colorbar": {
              "outlinewidth": 0,
              "ticks": ""
             }
            },
            "type": "scatterternary"
           }
          ],
          "surface": [
           {
            "colorbar": {
             "outlinewidth": 0,
             "ticks": ""
            },
            "colorscale": [
             [
              0,
              "#0d0887"
             ],
             [
              0.1111111111111111,
              "#46039f"
             ],
             [
              0.2222222222222222,
              "#7201a8"
             ],
             [
              0.3333333333333333,
              "#9c179e"
             ],
             [
              0.4444444444444444,
              "#bd3786"
             ],
             [
              0.5555555555555556,
              "#d8576b"
             ],
             [
              0.6666666666666666,
              "#ed7953"
             ],
             [
              0.7777777777777778,
              "#fb9f3a"
             ],
             [
              0.8888888888888888,
              "#fdca26"
             ],
             [
              1,
              "#f0f921"
             ]
            ],
            "type": "surface"
           }
          ],
          "table": [
           {
            "cells": {
             "fill": {
              "color": "#EBF0F8"
             },
             "line": {
              "color": "white"
             }
            },
            "header": {
             "fill": {
              "color": "#C8D4E3"
             },
             "line": {
              "color": "white"
             }
            },
            "type": "table"
           }
          ]
         },
         "layout": {
          "annotationdefaults": {
           "arrowcolor": "#2a3f5f",
           "arrowhead": 0,
           "arrowwidth": 1
          },
          "autotypenumbers": "strict",
          "coloraxis": {
           "colorbar": {
            "outlinewidth": 0,
            "ticks": ""
           }
          },
          "colorscale": {
           "diverging": [
            [
             0,
             "#8e0152"
            ],
            [
             0.1,
             "#c51b7d"
            ],
            [
             0.2,
             "#de77ae"
            ],
            [
             0.3,
             "#f1b6da"
            ],
            [
             0.4,
             "#fde0ef"
            ],
            [
             0.5,
             "#f7f7f7"
            ],
            [
             0.6,
             "#e6f5d0"
            ],
            [
             0.7,
             "#b8e186"
            ],
            [
             0.8,
             "#7fbc41"
            ],
            [
             0.9,
             "#4d9221"
            ],
            [
             1,
             "#276419"
            ]
           ],
           "sequential": [
            [
             0,
             "#0d0887"
            ],
            [
             0.1111111111111111,
             "#46039f"
            ],
            [
             0.2222222222222222,
             "#7201a8"
            ],
            [
             0.3333333333333333,
             "#9c179e"
            ],
            [
             0.4444444444444444,
             "#bd3786"
            ],
            [
             0.5555555555555556,
             "#d8576b"
            ],
            [
             0.6666666666666666,
             "#ed7953"
            ],
            [
             0.7777777777777778,
             "#fb9f3a"
            ],
            [
             0.8888888888888888,
             "#fdca26"
            ],
            [
             1,
             "#f0f921"
            ]
           ],
           "sequentialminus": [
            [
             0,
             "#0d0887"
            ],
            [
             0.1111111111111111,
             "#46039f"
            ],
            [
             0.2222222222222222,
             "#7201a8"
            ],
            [
             0.3333333333333333,
             "#9c179e"
            ],
            [
             0.4444444444444444,
             "#bd3786"
            ],
            [
             0.5555555555555556,
             "#d8576b"
            ],
            [
             0.6666666666666666,
             "#ed7953"
            ],
            [
             0.7777777777777778,
             "#fb9f3a"
            ],
            [
             0.8888888888888888,
             "#fdca26"
            ],
            [
             1,
             "#f0f921"
            ]
           ]
          },
          "colorway": [
           "#636efa",
           "#EF553B",
           "#00cc96",
           "#ab63fa",
           "#FFA15A",
           "#19d3f3",
           "#FF6692",
           "#B6E880",
           "#FF97FF",
           "#FECB52"
          ],
          "font": {
           "color": "#2a3f5f"
          },
          "geo": {
           "bgcolor": "white",
           "lakecolor": "white",
           "landcolor": "#E5ECF6",
           "showlakes": true,
           "showland": true,
           "subunitcolor": "white"
          },
          "hoverlabel": {
           "align": "left"
          },
          "hovermode": "closest",
          "mapbox": {
           "style": "light"
          },
          "paper_bgcolor": "white",
          "plot_bgcolor": "#E5ECF6",
          "polar": {
           "angularaxis": {
            "gridcolor": "white",
            "linecolor": "white",
            "ticks": ""
           },
           "bgcolor": "#E5ECF6",
           "radialaxis": {
            "gridcolor": "white",
            "linecolor": "white",
            "ticks": ""
           }
          },
          "scene": {
           "xaxis": {
            "backgroundcolor": "#E5ECF6",
            "gridcolor": "white",
            "gridwidth": 2,
            "linecolor": "white",
            "showbackground": true,
            "ticks": "",
            "zerolinecolor": "white"
           },
           "yaxis": {
            "backgroundcolor": "#E5ECF6",
            "gridcolor": "white",
            "gridwidth": 2,
            "linecolor": "white",
            "showbackground": true,
            "ticks": "",
            "zerolinecolor": "white"
           },
           "zaxis": {
            "backgroundcolor": "#E5ECF6",
            "gridcolor": "white",
            "gridwidth": 2,
            "linecolor": "white",
            "showbackground": true,
            "ticks": "",
            "zerolinecolor": "white"
           }
          },
          "shapedefaults": {
           "line": {
            "color": "#2a3f5f"
           }
          },
          "ternary": {
           "aaxis": {
            "gridcolor": "white",
            "linecolor": "white",
            "ticks": ""
           },
           "baxis": {
            "gridcolor": "white",
            "linecolor": "white",
            "ticks": ""
           },
           "bgcolor": "#E5ECF6",
           "caxis": {
            "gridcolor": "white",
            "linecolor": "white",
            "ticks": ""
           }
          },
          "title": {
           "x": 0.05
          },
          "xaxis": {
           "automargin": true,
           "gridcolor": "white",
           "linecolor": "white",
           "ticks": "",
           "title": {
            "standoff": 15
           },
           "zerolinecolor": "white",
           "zerolinewidth": 2
          },
          "yaxis": {
           "automargin": true,
           "gridcolor": "white",
           "linecolor": "white",
           "ticks": "",
           "title": {
            "standoff": 15
           },
           "zerolinecolor": "white",
           "zerolinewidth": 2
          }
         }
        },
        "title": {
         "text": "Hourly Bluebike Trips Near Cunningham Park"
        },
        "width": 600
       }
      }
     },
     "metadata": {},
     "output_type": "display_data"
    },
    {
     "name": "stdout",
     "output_type": "stream",
     "text": [
      "No stations within 0.3 km of Healy Playground\n",
      "No stations within 0.3 km of American Legion Playground\n",
      "2 nearest stations to Armenian Heritage Park: Clinton St at North St, Aquarium T Stop - 200 Atlantic Ave\n"
     ]
    },
    {
     "name": "stderr",
     "output_type": "stream",
     "text": [
      "/Users/henrywu/opt/anaconda3/lib/python3.9/site-packages/plotly/express/_core.py:271: FutureWarning:\n",
      "\n",
      "The frame.append method is deprecated and will be removed from pandas in a future version. Use pandas.concat instead.\n",
      "\n",
      "/Users/henrywu/opt/anaconda3/lib/python3.9/site-packages/plotly/express/_core.py:271: FutureWarning:\n",
      "\n",
      "The frame.append method is deprecated and will be removed from pandas in a future version. Use pandas.concat instead.\n",
      "\n",
      "/Users/henrywu/opt/anaconda3/lib/python3.9/site-packages/plotly/express/_core.py:271: FutureWarning:\n",
      "\n",
      "The frame.append method is deprecated and will be removed from pandas in a future version. Use pandas.concat instead.\n",
      "\n",
      "/Users/henrywu/opt/anaconda3/lib/python3.9/site-packages/plotly/express/_core.py:271: FutureWarning:\n",
      "\n",
      "The frame.append method is deprecated and will be removed from pandas in a future version. Use pandas.concat instead.\n",
      "\n"
     ]
    },
    {
     "data": {
      "application/vnd.plotly.v1+json": {
       "config": {
        "plotlyServerURL": "https://plot.ly"
       },
       "data": [
        {
         "customdata": [
          [
           1.369198312236287,
           7.5
          ],
          [
           1.141350210970464,
           22.5
          ],
          [
           0.8839662447257384,
           37.5
          ],
          [
           0.4820675105485232,
           52.5
          ],
          [
           0.2689873417721519,
           67.5
          ],
          [
           0.6508438818565401,
           82.5
          ],
          [
           3.659282700421941,
           97.5
          ],
          [
           5.784810126582278,
           112.5
          ],
          [
           7.141350210970464,
           127.5
          ],
          [
           3.2489451476793247,
           142.5
          ],
          [
           2.0432489451476794,
           157.5
          ],
          [
           2.8132911392405062,
           172.5
          ],
          [
           3.8037974683544302,
           187.5
          ],
          [
           3.588607594936709,
           202.5
          ],
          [
           3.654008438818565,
           217.5
          ],
          [
           4.5284810126582276,
           232.5
          ],
          [
           5.8808016877637135,
           247.5
          ],
          [
           8.112869198312236,
           262.5
          ],
          [
           6.606540084388186,
           277.5
          ],
          [
           5.042194092827004,
           292.5
          ],
          [
           4.089662447257384,
           307.5
          ],
          [
           3.95042194092827,
           322.5
          ],
          [
           3.380801687763713,
           337.5
          ],
          [
           2.1951476793248945,
           352.5
          ],
          [
           1.369198312236287,
           7.5
          ]
         ],
         "hovertemplate": "Day Type=Weekday<br>Trip Type=Departures<br>Trips=%{customdata[0]:.2f}<extra></extra>",
         "legendgroup": "Weekday, Departures",
         "line": {
          "color": "#636efa",
          "dash": "solid"
         },
         "marker": {
          "symbol": "circle"
         },
         "mode": "lines",
         "name": "Weekday, Departures",
         "r": [
          1.369198312236287,
          1.141350210970464,
          0.8839662447257384,
          0.4820675105485232,
          0.2689873417721519,
          0.6508438818565401,
          3.659282700421941,
          5.784810126582278,
          7.141350210970464,
          3.2489451476793247,
          2.0432489451476794,
          2.8132911392405062,
          3.8037974683544302,
          3.588607594936709,
          3.654008438818565,
          4.5284810126582276,
          5.8808016877637135,
          8.112869198312236,
          6.606540084388186,
          5.042194092827004,
          4.089662447257384,
          3.95042194092827,
          3.380801687763713,
          2.1951476793248945,
          1.369198312236287
         ],
         "showlegend": true,
         "subplot": "polar",
         "theta": [
          7.5,
          22.5,
          37.5,
          52.5,
          67.5,
          82.5,
          97.5,
          112.5,
          127.5,
          142.5,
          157.5,
          172.5,
          187.5,
          202.5,
          217.5,
          232.5,
          247.5,
          262.5,
          277.5,
          292.5,
          307.5,
          322.5,
          337.5,
          352.5,
          7.5
         ],
         "type": "scatterpolar"
        },
        {
         "customdata": [
          [
           1.5052742616033756,
           7.5
          ],
          [
           0.8554852320675106,
           22.5
          ],
          [
           0.7890295358649789,
           37.5
          ],
          [
           0.54957805907173,
           52.5
          ],
          [
           0.32489451476793246,
           67.5
          ],
          [
           0.3217299578059072,
           82.5
          ],
          [
           0.8175105485232067,
           97.5
          ],
          [
           2.079113924050633,
           112.5
          ],
          [
           4.526371308016878,
           127.5
          ],
          [
           3.029535864978903,
           142.5
          ],
          [
           2.2035864978902953,
           157.5
          ],
          [
           2.8343881856540083,
           172.5
          ],
          [
           3.8491561181434597,
           187.5
          ],
          [
           4.234177215189874,
           202.5
          ],
          [
           4.655063291139241,
           217.5
          ],
          [
           6.154008438818566,
           232.5
          ],
          [
           9.387130801687764,
           247.5
          ],
          [
           10.868143459915611,
           262.5
          ],
          [
           7.451476793248945,
           277.5
          ],
          [
           5.6265822784810124,
           292.5
          ],
          [
           4.4831223628691985,
           307.5
          ],
          [
           4.231012658227848,
           322.5
          ],
          [
           3.707805907172996,
           337.5
          ],
          [
           2.7531645569620253,
           352.5
          ],
          [
           1.5052742616033756,
           7.5
          ]
         ],
         "hovertemplate": "Day Type=Weekday<br>Trip Type=Arrivals<br>Trips=%{customdata[0]:.2f}<extra></extra>",
         "legendgroup": "Weekday, Arrivals",
         "line": {
          "color": "#636efa",
          "dash": "dot"
         },
         "marker": {
          "symbol": "circle"
         },
         "mode": "lines",
         "name": "Weekday, Arrivals",
         "r": [
          1.5052742616033756,
          0.8554852320675106,
          0.7890295358649789,
          0.54957805907173,
          0.32489451476793246,
          0.3217299578059072,
          0.8175105485232067,
          2.079113924050633,
          4.526371308016878,
          3.029535864978903,
          2.2035864978902953,
          2.8343881856540083,
          3.8491561181434597,
          4.234177215189874,
          4.655063291139241,
          6.154008438818566,
          9.387130801687764,
          10.868143459915611,
          7.451476793248945,
          5.6265822784810124,
          4.4831223628691985,
          4.231012658227848,
          3.707805907172996,
          2.7531645569620253,
          1.5052742616033756
         ],
         "showlegend": true,
         "subplot": "polar",
         "theta": [
          7.5,
          22.5,
          37.5,
          52.5,
          67.5,
          82.5,
          97.5,
          112.5,
          127.5,
          142.5,
          157.5,
          172.5,
          187.5,
          202.5,
          217.5,
          232.5,
          247.5,
          262.5,
          277.5,
          292.5,
          307.5,
          322.5,
          337.5,
          352.5,
          7.5
         ],
         "type": "scatterpolar"
        },
        {
         "customdata": [
          [
           1.2637130801687764,
           7.5
          ],
          [
           1.1898734177215189,
           22.5
          ],
          [
           0.8565400843881856,
           37.5
          ],
          [
           0.609704641350211,
           52.5
          ],
          [
           0.570675105485232,
           67.5
          ],
          [
           0.8913502109704642,
           82.5
          ],
          [
           0.509493670886076,
           97.5
          ],
          [
           0.33544303797468356,
           112.5
          ],
          [
           0.5537974683544303,
           127.5
          ],
          [
           0.8628691983122363,
           142.5
          ],
          [
           1.090717299578059,
           157.5
          ],
          [
           1.5812236286919832,
           172.5
          ],
          [
           2.1065400843881856,
           187.5
          ],
          [
           2.589662447257384,
           202.5
          ],
          [
           3.0432489451476794,
           217.5
          ],
          [
           3.4556962025316458,
           232.5
          ],
          [
           3.392405063291139,
           247.5
          ],
          [
           3.270042194092827,
           262.5
          ],
          [
           2.941983122362869,
           277.5
          ],
          [
           2.509493670886076,
           292.5
          ],
          [
           2.1571729957805905,
           307.5
          ],
          [
           1.8280590717299579,
           322.5
          ],
          [
           1.5643459915611815,
           337.5
          ],
          [
           1.2257383966244726,
           352.5
          ],
          [
           1.2637130801687764,
           7.5
          ]
         ],
         "hovertemplate": "Day Type=Weekend<br>Trip Type=Departures<br>Trips=%{customdata[0]:.2f}<extra></extra>",
         "legendgroup": "Weekend, Departures",
         "line": {
          "color": "#EF553B",
          "dash": "solid"
         },
         "marker": {
          "symbol": "circle"
         },
         "mode": "lines",
         "name": "Weekend, Departures",
         "r": [
          1.2637130801687764,
          1.1898734177215189,
          0.8565400843881856,
          0.609704641350211,
          0.570675105485232,
          0.8913502109704642,
          0.509493670886076,
          0.33544303797468356,
          0.5537974683544303,
          0.8628691983122363,
          1.090717299578059,
          1.5812236286919832,
          2.1065400843881856,
          2.589662447257384,
          3.0432489451476794,
          3.4556962025316458,
          3.392405063291139,
          3.270042194092827,
          2.941983122362869,
          2.509493670886076,
          2.1571729957805905,
          1.8280590717299579,
          1.5643459915611815,
          1.2257383966244726,
          1.2637130801687764
         ],
         "showlegend": true,
         "subplot": "polar",
         "theta": [
          7.5,
          22.5,
          37.5,
          52.5,
          67.5,
          82.5,
          97.5,
          112.5,
          127.5,
          142.5,
          157.5,
          172.5,
          187.5,
          202.5,
          217.5,
          232.5,
          247.5,
          262.5,
          277.5,
          292.5,
          307.5,
          322.5,
          337.5,
          352.5,
          7.5
         ],
         "type": "scatterpolar"
        },
        {
         "customdata": [
          [
           1.141350210970464,
           7.5
          ],
          [
           0.6983122362869199,
           22.5
          ],
          [
           0.5485232067510548,
           37.5
          ],
          [
           0.4651898734177215,
           52.5
          ],
          [
           0.3154008438818565,
           67.5
          ],
          [
           0.23734177215189872,
           82.5
          ],
          [
           0.19514767932489452,
           97.5
          ],
          [
           0.24367088607594936,
           112.5
          ],
          [
           0.7215189873417721,
           127.5
          ],
          [
           1.0221518987341771,
           142.5
          ],
          [
           1.259493670886076,
           157.5
          ],
          [
           1.6856540084388185,
           172.5
          ],
          [
           2.2352320675105486,
           187.5
          ],
          [
           2.7183544303797467,
           202.5
          ],
          [
           3.117088607594937,
           217.5
          ],
          [
           3.3343881856540083,
           232.5
          ],
          [
           3.5316455696202533,
           247.5
          ],
          [
           3.3354430379746836,
           262.5
          ],
          [
           2.9567510548523206,
           277.5
          ],
          [
           2.6877637130801686,
           292.5
          ],
          [
           2.317510548523207,
           307.5
          ],
          [
           1.8723628691983123,
           322.5
          ],
          [
           1.6582278481012658,
           337.5
          ],
          [
           1.3206751054852321,
           352.5
          ],
          [
           1.141350210970464,
           7.5
          ]
         ],
         "hovertemplate": "Day Type=Weekend<br>Trip Type=Arrivals<br>Trips=%{customdata[0]:.2f}<extra></extra>",
         "legendgroup": "Weekend, Arrivals",
         "line": {
          "color": "#EF553B",
          "dash": "dot"
         },
         "marker": {
          "symbol": "circle"
         },
         "mode": "lines",
         "name": "Weekend, Arrivals",
         "r": [
          1.141350210970464,
          0.6983122362869199,
          0.5485232067510548,
          0.4651898734177215,
          0.3154008438818565,
          0.23734177215189872,
          0.19514767932489452,
          0.24367088607594936,
          0.7215189873417721,
          1.0221518987341771,
          1.259493670886076,
          1.6856540084388185,
          2.2352320675105486,
          2.7183544303797467,
          3.117088607594937,
          3.3343881856540083,
          3.5316455696202533,
          3.3354430379746836,
          2.9567510548523206,
          2.6877637130801686,
          2.317510548523207,
          1.8723628691983123,
          1.6582278481012658,
          1.3206751054852321,
          1.141350210970464
         ],
         "showlegend": true,
         "subplot": "polar",
         "theta": [
          7.5,
          22.5,
          37.5,
          52.5,
          67.5,
          82.5,
          97.5,
          112.5,
          127.5,
          142.5,
          157.5,
          172.5,
          187.5,
          202.5,
          217.5,
          232.5,
          247.5,
          262.5,
          277.5,
          292.5,
          307.5,
          322.5,
          337.5,
          352.5,
          7.5
         ],
         "type": "scatterpolar"
        }
       ],
       "layout": {
        "height": 500,
        "legend": {
         "title": {
          "text": ""
         },
         "tracegroupgap": 0
        },
        "margin": {
         "t": 60
        },
        "polar": {
         "angularaxis": {
          "direction": "clockwise",
          "rotation": -90,
          "tickmode": "array",
          "ticktext": [
           "12 AM",
           "1 AM",
           "2 AM",
           "3 AM",
           "4 AM",
           "5 AM",
           "6 AM",
           "7 AM",
           "8 AM",
           "9 AM",
           "10 AM",
           "11 AM",
           "12 PM",
           "1 PM",
           "2 PM",
           "3 PM",
           "4 PM",
           "5 PM",
           "6 PM",
           "7 PM",
           "8 PM",
           "9 PM",
           "10 PM",
           "11 PM"
          ],
          "tickvals": [
           0,
           15,
           30,
           45,
           60,
           75,
           90,
           105,
           120,
           135,
           150,
           165,
           180,
           195,
           210,
           225,
           240,
           255,
           270,
           285,
           300,
           315,
           330,
           345
          ]
         },
         "domain": {
          "x": [
           0,
           1
          ],
          "y": [
           0,
           1
          ]
         }
        },
        "template": {
         "data": {
          "bar": [
           {
            "error_x": {
             "color": "#2a3f5f"
            },
            "error_y": {
             "color": "#2a3f5f"
            },
            "marker": {
             "line": {
              "color": "#E5ECF6",
              "width": 0.5
             },
             "pattern": {
              "fillmode": "overlay",
              "size": 10,
              "solidity": 0.2
             }
            },
            "type": "bar"
           }
          ],
          "barpolar": [
           {
            "marker": {
             "line": {
              "color": "#E5ECF6",
              "width": 0.5
             },
             "pattern": {
              "fillmode": "overlay",
              "size": 10,
              "solidity": 0.2
             }
            },
            "type": "barpolar"
           }
          ],
          "carpet": [
           {
            "aaxis": {
             "endlinecolor": "#2a3f5f",
             "gridcolor": "white",
             "linecolor": "white",
             "minorgridcolor": "white",
             "startlinecolor": "#2a3f5f"
            },
            "baxis": {
             "endlinecolor": "#2a3f5f",
             "gridcolor": "white",
             "linecolor": "white",
             "minorgridcolor": "white",
             "startlinecolor": "#2a3f5f"
            },
            "type": "carpet"
           }
          ],
          "choropleth": [
           {
            "colorbar": {
             "outlinewidth": 0,
             "ticks": ""
            },
            "type": "choropleth"
           }
          ],
          "contour": [
           {
            "colorbar": {
             "outlinewidth": 0,
             "ticks": ""
            },
            "colorscale": [
             [
              0,
              "#0d0887"
             ],
             [
              0.1111111111111111,
              "#46039f"
             ],
             [
              0.2222222222222222,
              "#7201a8"
             ],
             [
              0.3333333333333333,
              "#9c179e"
             ],
             [
              0.4444444444444444,
              "#bd3786"
             ],
             [
              0.5555555555555556,
              "#d8576b"
             ],
             [
              0.6666666666666666,
              "#ed7953"
             ],
             [
              0.7777777777777778,
              "#fb9f3a"
             ],
             [
              0.8888888888888888,
              "#fdca26"
             ],
             [
              1,
              "#f0f921"
             ]
            ],
            "type": "contour"
           }
          ],
          "contourcarpet": [
           {
            "colorbar": {
             "outlinewidth": 0,
             "ticks": ""
            },
            "type": "contourcarpet"
           }
          ],
          "heatmap": [
           {
            "colorbar": {
             "outlinewidth": 0,
             "ticks": ""
            },
            "colorscale": [
             [
              0,
              "#0d0887"
             ],
             [
              0.1111111111111111,
              "#46039f"
             ],
             [
              0.2222222222222222,
              "#7201a8"
             ],
             [
              0.3333333333333333,
              "#9c179e"
             ],
             [
              0.4444444444444444,
              "#bd3786"
             ],
             [
              0.5555555555555556,
              "#d8576b"
             ],
             [
              0.6666666666666666,
              "#ed7953"
             ],
             [
              0.7777777777777778,
              "#fb9f3a"
             ],
             [
              0.8888888888888888,
              "#fdca26"
             ],
             [
              1,
              "#f0f921"
             ]
            ],
            "type": "heatmap"
           }
          ],
          "heatmapgl": [
           {
            "colorbar": {
             "outlinewidth": 0,
             "ticks": ""
            },
            "colorscale": [
             [
              0,
              "#0d0887"
             ],
             [
              0.1111111111111111,
              "#46039f"
             ],
             [
              0.2222222222222222,
              "#7201a8"
             ],
             [
              0.3333333333333333,
              "#9c179e"
             ],
             [
              0.4444444444444444,
              "#bd3786"
             ],
             [
              0.5555555555555556,
              "#d8576b"
             ],
             [
              0.6666666666666666,
              "#ed7953"
             ],
             [
              0.7777777777777778,
              "#fb9f3a"
             ],
             [
              0.8888888888888888,
              "#fdca26"
             ],
             [
              1,
              "#f0f921"
             ]
            ],
            "type": "heatmapgl"
           }
          ],
          "histogram": [
           {
            "marker": {
             "pattern": {
              "fillmode": "overlay",
              "size": 10,
              "solidity": 0.2
             }
            },
            "type": "histogram"
           }
          ],
          "histogram2d": [
           {
            "colorbar": {
             "outlinewidth": 0,
             "ticks": ""
            },
            "colorscale": [
             [
              0,
              "#0d0887"
             ],
             [
              0.1111111111111111,
              "#46039f"
             ],
             [
              0.2222222222222222,
              "#7201a8"
             ],
             [
              0.3333333333333333,
              "#9c179e"
             ],
             [
              0.4444444444444444,
              "#bd3786"
             ],
             [
              0.5555555555555556,
              "#d8576b"
             ],
             [
              0.6666666666666666,
              "#ed7953"
             ],
             [
              0.7777777777777778,
              "#fb9f3a"
             ],
             [
              0.8888888888888888,
              "#fdca26"
             ],
             [
              1,
              "#f0f921"
             ]
            ],
            "type": "histogram2d"
           }
          ],
          "histogram2dcontour": [
           {
            "colorbar": {
             "outlinewidth": 0,
             "ticks": ""
            },
            "colorscale": [
             [
              0,
              "#0d0887"
             ],
             [
              0.1111111111111111,
              "#46039f"
             ],
             [
              0.2222222222222222,
              "#7201a8"
             ],
             [
              0.3333333333333333,
              "#9c179e"
             ],
             [
              0.4444444444444444,
              "#bd3786"
             ],
             [
              0.5555555555555556,
              "#d8576b"
             ],
             [
              0.6666666666666666,
              "#ed7953"
             ],
             [
              0.7777777777777778,
              "#fb9f3a"
             ],
             [
              0.8888888888888888,
              "#fdca26"
             ],
             [
              1,
              "#f0f921"
             ]
            ],
            "type": "histogram2dcontour"
           }
          ],
          "mesh3d": [
           {
            "colorbar": {
             "outlinewidth": 0,
             "ticks": ""
            },
            "type": "mesh3d"
           }
          ],
          "parcoords": [
           {
            "line": {
             "colorbar": {
              "outlinewidth": 0,
              "ticks": ""
             }
            },
            "type": "parcoords"
           }
          ],
          "pie": [
           {
            "automargin": true,
            "type": "pie"
           }
          ],
          "scatter": [
           {
            "fillpattern": {
             "fillmode": "overlay",
             "size": 10,
             "solidity": 0.2
            },
            "type": "scatter"
           }
          ],
          "scatter3d": [
           {
            "line": {
             "colorbar": {
              "outlinewidth": 0,
              "ticks": ""
             }
            },
            "marker": {
             "colorbar": {
              "outlinewidth": 0,
              "ticks": ""
             }
            },
            "type": "scatter3d"
           }
          ],
          "scattercarpet": [
           {
            "marker": {
             "colorbar": {
              "outlinewidth": 0,
              "ticks": ""
             }
            },
            "type": "scattercarpet"
           }
          ],
          "scattergeo": [
           {
            "marker": {
             "colorbar": {
              "outlinewidth": 0,
              "ticks": ""
             }
            },
            "type": "scattergeo"
           }
          ],
          "scattergl": [
           {
            "marker": {
             "colorbar": {
              "outlinewidth": 0,
              "ticks": ""
             }
            },
            "type": "scattergl"
           }
          ],
          "scattermapbox": [
           {
            "marker": {
             "colorbar": {
              "outlinewidth": 0,
              "ticks": ""
             }
            },
            "type": "scattermapbox"
           }
          ],
          "scatterpolar": [
           {
            "marker": {
             "colorbar": {
              "outlinewidth": 0,
              "ticks": ""
             }
            },
            "type": "scatterpolar"
           }
          ],
          "scatterpolargl": [
           {
            "marker": {
             "colorbar": {
              "outlinewidth": 0,
              "ticks": ""
             }
            },
            "type": "scatterpolargl"
           }
          ],
          "scatterternary": [
           {
            "marker": {
             "colorbar": {
              "outlinewidth": 0,
              "ticks": ""
             }
            },
            "type": "scatterternary"
           }
          ],
          "surface": [
           {
            "colorbar": {
             "outlinewidth": 0,
             "ticks": ""
            },
            "colorscale": [
             [
              0,
              "#0d0887"
             ],
             [
              0.1111111111111111,
              "#46039f"
             ],
             [
              0.2222222222222222,
              "#7201a8"
             ],
             [
              0.3333333333333333,
              "#9c179e"
             ],
             [
              0.4444444444444444,
              "#bd3786"
             ],
             [
              0.5555555555555556,
              "#d8576b"
             ],
             [
              0.6666666666666666,
              "#ed7953"
             ],
             [
              0.7777777777777778,
              "#fb9f3a"
             ],
             [
              0.8888888888888888,
              "#fdca26"
             ],
             [
              1,
              "#f0f921"
             ]
            ],
            "type": "surface"
           }
          ],
          "table": [
           {
            "cells": {
             "fill": {
              "color": "#EBF0F8"
             },
             "line": {
              "color": "white"
             }
            },
            "header": {
             "fill": {
              "color": "#C8D4E3"
             },
             "line": {
              "color": "white"
             }
            },
            "type": "table"
           }
          ]
         },
         "layout": {
          "annotationdefaults": {
           "arrowcolor": "#2a3f5f",
           "arrowhead": 0,
           "arrowwidth": 1
          },
          "autotypenumbers": "strict",
          "coloraxis": {
           "colorbar": {
            "outlinewidth": 0,
            "ticks": ""
           }
          },
          "colorscale": {
           "diverging": [
            [
             0,
             "#8e0152"
            ],
            [
             0.1,
             "#c51b7d"
            ],
            [
             0.2,
             "#de77ae"
            ],
            [
             0.3,
             "#f1b6da"
            ],
            [
             0.4,
             "#fde0ef"
            ],
            [
             0.5,
             "#f7f7f7"
            ],
            [
             0.6,
             "#e6f5d0"
            ],
            [
             0.7,
             "#b8e186"
            ],
            [
             0.8,
             "#7fbc41"
            ],
            [
             0.9,
             "#4d9221"
            ],
            [
             1,
             "#276419"
            ]
           ],
           "sequential": [
            [
             0,
             "#0d0887"
            ],
            [
             0.1111111111111111,
             "#46039f"
            ],
            [
             0.2222222222222222,
             "#7201a8"
            ],
            [
             0.3333333333333333,
             "#9c179e"
            ],
            [
             0.4444444444444444,
             "#bd3786"
            ],
            [
             0.5555555555555556,
             "#d8576b"
            ],
            [
             0.6666666666666666,
             "#ed7953"
            ],
            [
             0.7777777777777778,
             "#fb9f3a"
            ],
            [
             0.8888888888888888,
             "#fdca26"
            ],
            [
             1,
             "#f0f921"
            ]
           ],
           "sequentialminus": [
            [
             0,
             "#0d0887"
            ],
            [
             0.1111111111111111,
             "#46039f"
            ],
            [
             0.2222222222222222,
             "#7201a8"
            ],
            [
             0.3333333333333333,
             "#9c179e"
            ],
            [
             0.4444444444444444,
             "#bd3786"
            ],
            [
             0.5555555555555556,
             "#d8576b"
            ],
            [
             0.6666666666666666,
             "#ed7953"
            ],
            [
             0.7777777777777778,
             "#fb9f3a"
            ],
            [
             0.8888888888888888,
             "#fdca26"
            ],
            [
             1,
             "#f0f921"
            ]
           ]
          },
          "colorway": [
           "#636efa",
           "#EF553B",
           "#00cc96",
           "#ab63fa",
           "#FFA15A",
           "#19d3f3",
           "#FF6692",
           "#B6E880",
           "#FF97FF",
           "#FECB52"
          ],
          "font": {
           "color": "#2a3f5f"
          },
          "geo": {
           "bgcolor": "white",
           "lakecolor": "white",
           "landcolor": "#E5ECF6",
           "showlakes": true,
           "showland": true,
           "subunitcolor": "white"
          },
          "hoverlabel": {
           "align": "left"
          },
          "hovermode": "closest",
          "mapbox": {
           "style": "light"
          },
          "paper_bgcolor": "white",
          "plot_bgcolor": "#E5ECF6",
          "polar": {
           "angularaxis": {
            "gridcolor": "white",
            "linecolor": "white",
            "ticks": ""
           },
           "bgcolor": "#E5ECF6",
           "radialaxis": {
            "gridcolor": "white",
            "linecolor": "white",
            "ticks": ""
           }
          },
          "scene": {
           "xaxis": {
            "backgroundcolor": "#E5ECF6",
            "gridcolor": "white",
            "gridwidth": 2,
            "linecolor": "white",
            "showbackground": true,
            "ticks": "",
            "zerolinecolor": "white"
           },
           "yaxis": {
            "backgroundcolor": "#E5ECF6",
            "gridcolor": "white",
            "gridwidth": 2,
            "linecolor": "white",
            "showbackground": true,
            "ticks": "",
            "zerolinecolor": "white"
           },
           "zaxis": {
            "backgroundcolor": "#E5ECF6",
            "gridcolor": "white",
            "gridwidth": 2,
            "linecolor": "white",
            "showbackground": true,
            "ticks": "",
            "zerolinecolor": "white"
           }
          },
          "shapedefaults": {
           "line": {
            "color": "#2a3f5f"
           }
          },
          "ternary": {
           "aaxis": {
            "gridcolor": "white",
            "linecolor": "white",
            "ticks": ""
           },
           "baxis": {
            "gridcolor": "white",
            "linecolor": "white",
            "ticks": ""
           },
           "bgcolor": "#E5ECF6",
           "caxis": {
            "gridcolor": "white",
            "linecolor": "white",
            "ticks": ""
           }
          },
          "title": {
           "x": 0.05
          },
          "xaxis": {
           "automargin": true,
           "gridcolor": "white",
           "linecolor": "white",
           "ticks": "",
           "title": {
            "standoff": 15
           },
           "zerolinecolor": "white",
           "zerolinewidth": 2
          },
          "yaxis": {
           "automargin": true,
           "gridcolor": "white",
           "linecolor": "white",
           "ticks": "",
           "title": {
            "standoff": 15
           },
           "zerolinecolor": "white",
           "zerolinewidth": 2
          }
         }
        },
        "title": {
         "text": "Hourly Bluebike Trips Near Armenian Heritage Park"
        },
        "width": 600
       }
      }
     },
     "metadata": {},
     "output_type": "display_data"
    }
   ],
   "source": [
    "for c in np.random.choice(open_spaces['Name'], 25):\n",
    "    plot_activity(c)"
   ]
  }
 ],
 "metadata": {
  "kernelspec": {
   "display_name": "base",
   "language": "python",
   "name": "python3"
  },
  "language_info": {
   "codemirror_mode": {
    "name": "ipython",
    "version": 3
   },
   "file_extension": ".py",
   "mimetype": "text/x-python",
   "name": "python",
   "nbconvert_exporter": "python",
   "pygments_lexer": "ipython3",
   "version": "3.9.13"
  }
 },
 "nbformat": 4,
 "nbformat_minor": 2
}
