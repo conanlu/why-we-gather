{
 "cells": [
  {
   "cell_type": "markdown",
   "id": "d220ecef",
   "metadata": {},
   "source": [
    "## Plotting open spaces as polygons"
   ]
  },
  {
   "cell_type": "code",
   "execution_count": 1,
   "id": "c2e05d96",
   "metadata": {},
   "outputs": [],
   "source": [
    "import pandas as pd\n",
    "import json\n",
    "import plotly.express as px\n",
    "px.set_mapbox_access_token(open(\".mapbox_token\").read())\n",
    "import plotly.io as pio\n",
    "pio.renderers.default = \"notebook\""
   ]
  },
  {
   "cell_type": "code",
   "execution_count": 2,
   "id": "6a892067",
   "metadata": {},
   "outputs": [],
   "source": [
    "with open('data/locations/Open_Space.geojson') as f:\n",
    "    data = json.load(f)"
   ]
  },
  {
   "cell_type": "code",
   "execution_count": 3,
   "id": "474da394",
   "metadata": {},
   "outputs": [],
   "source": [
    "stations = pd.read_csv('data/locations/bluebike_stations.csv')\n",
    "open_spaces = pd.read_csv('data/locations/open_spaces.csv')\n",
    "open_spaces = open_spaces.loc[~open_spaces['Type'].isin(['Cemeteries & Burying Grounds', 'Urban Wilds', 'Open Land', 'Other Open Land'])]\n",
    "open_spaces_small = open_spaces.loc[open_spaces['Acres'] < 3]"
   ]
  },
  {
   "cell_type": "code",
   "execution_count": null,
   "id": "89042111",
   "metadata": {},
   "outputs": [],
   "source": [
    "# version with just chloropleth\n",
    "fig = px.choropleth_mapbox(open_spaces, geojson=data, locations='OBJECTID', color='Type', featureidkey='properties.OBJECTID', center={'lat': 42.32, \"lon\": -71.0902}, zoom=10)\n",
    "fig.update_traces(marker_line_width=0)\n",
    "fig.update_layout(margin={\"r\":0,\"t\":0,\"l\":0,\"b\":0})\n",
    "fig.show()\n",
    "pio.write_json(fig, 'choropleth.json')"
   ]
  },
  {
   "cell_type": "code",
   "execution_count": null,
   "id": "c2149b4b",
   "metadata": {},
   "outputs": [],
   "source": [
    "# version with points for small spaces\n",
    "fig = px.scatter_mapbox(open_spaces_small, lat='Avg. Lat', lon='Avg. Long', color='Type', hover_name='Name', size=[1] * len(open_spaces_small), size_max=3,\n",
    "                        center={'lat': 42.32, \"lon\": -71.0902}, zoom=10)\n",
    "\n",
    "colorscales = [\n",
    "    ((0.0, '#636EFA'), (1.0, '#636EFA')),\n",
    "    ((0.0, '#EF553B'), (1.0, '#EF553B')),\n",
    "    ((0.0, '#00CC96'), (1.0, '#00CC96')),\n",
    "    ((0.0, '#AB63FA'), (1.0, '#AB63FA')),\n",
    "    ((0.0, '#00cc96'), (1.0, '#19D3F3')),\n",
    "    ((0.0, '#FFA15A'), (1.0, '#FFA15A'))\n",
    "]\n",
    "for i, space_type in enumerate(open_spaces['Type'].unique()):\n",
    "    temp = open_spaces[open_spaces['Type'] == space_type]\n",
    "    fig.add_choroplethmapbox(geojson=data, locations=temp['OBJECTID'],\n",
    "                             z=[i,] * len(temp), featureidkey=\"properties.OBJECTID\",\n",
    "                             showlegend=True, text=temp['Name'],\n",
    "                             colorscale=colorscales[i], showscale=False, marker_line_width=0)\n",
    "\n",
    "fig.update_layout(mapbox={'accesstoken': open(\".mapbox_token\").read()}, margin={\"r\":0,\"t\":0,\"l\":0,\"b\":0})\n",
    "fig.show()\n",
    "pio.write_json(fig, 'choropleth_with_scatter.json')"
   ]
  }
 ],
 "metadata": {
  "kernelspec": {
   "display_name": "Python 3 (ipykernel)",
   "language": "python",
   "name": "python3"
  },
  "language_info": {
   "codemirror_mode": {
    "name": "ipython",
    "version": 3
   },
   "file_extension": ".py",
   "mimetype": "text/x-python",
   "name": "python",
   "nbconvert_exporter": "python",
   "pygments_lexer": "ipython3",
   "version": "3.9.13"
  }
 },
 "nbformat": 4,
 "nbformat_minor": 5
}
