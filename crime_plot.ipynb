{
 "cells": [
  {
   "cell_type": "code",
   "execution_count": 2,
   "metadata": {},
   "outputs": [
    {
     "name": "stderr",
     "output_type": "stream",
     "text": [
      "/var/folders/hp/6dmmpscs1k102dtp0nj9snw40000gn/T/ipykernel_56976/1289400133.py:3: DeprecationWarning: \n",
      "Pyarrow will become a required dependency of pandas in the next major release of pandas (pandas 3.0),\n",
      "(to allow more performant data types, such as the Arrow string type, and better interoperability with other libraries)\n",
      "but was not found to be installed on your system.\n",
      "If this would cause problems for you,\n",
      "please provide us feedback at https://github.com/pandas-dev/pandas/issues/54466\n",
      "        \n",
      "  import pandas as pd\n"
     ]
    }
   ],
   "source": [
    "import numpy as np\n",
    "import matplotlib.pyplot as plt\n",
    "import pandas as pd\n",
    "import seaborn as sns\n",
    "import plotly.express as px\n",
    "import nbformat\n",
    "import pickle\n",
    "import geopandas\n",
    "import geodatasets\n",
    "px.set_mapbox_access_token(open(\".mapbox_token\").read())\n",
    "import plotly.io as pio\n",
    "pio.renderers.default = \"notebook\""
   ]
  },
  {
   "cell_type": "code",
   "execution_count": 3,
   "metadata": {},
   "outputs": [
    {
     "name": "stdout",
     "output_type": "stream",
     "text": [
      "42.46141002105424\n",
      "1.32727612912185e-07\n",
      "42.2975553295965\n",
      "42.32237417190875\n",
      "42.34866470503313\n",
      "5.24969124614893e-08\n",
      "-71.34946994725333\n",
      "-71.09823049\n",
      "-71.08317620396562\n",
      "-71.0619078\n"
     ]
    }
   ],
   "source": [
    "with open('data/crimes_combined/combined_df1.pkl', \"rb\") as f:\n",
    "    # Load the object from the pickle file\n",
    "    \n",
    "    combined_df1 = pickle.load(f)\n",
    "\n",
    "with open('data/crimes_combined/combined_df2.pkl', \"rb\") as f:\n",
    "    # Load the object from the pickle file\n",
    "    \n",
    "    combined_df2 = pickle.load(f)\n",
    "\n",
    "combined_df = pd.concat([combined_df1, combined_df2])\n",
    "#return the first quatile of the lat and long, after removing the nan\n",
    "print(np.max(combined_df['Lat']))\n",
    "print(np.min(combined_df['Lat']))\n",
    "print(np.nanquantile(combined_df['Lat'], 0.25))\n",
    "print(np.nanmean(combined_df['Lat']))\n",
    "print(np.nanquantile(combined_df['Lat'], 0.75))\n",
    "\n",
    "\n",
    "print(np.max(combined_df['Long']))\n",
    "print(np.min(combined_df['Long']))\n",
    "print(np.nanquantile(combined_df['Long'], 0.25))\n",
    "print(np.nanmean(combined_df['Long']))\n",
    "print(np.nanquantile(combined_df['Long'], 0.75))\n",
    "\n"
   ]
  },
  {
   "cell_type": "code",
   "execution_count": 4,
   "metadata": {},
   "outputs": [
    {
     "data": {
      "text/html": [
       "<div>\n",
       "<style scoped>\n",
       "    .dataframe tbody tr th:only-of-type {\n",
       "        vertical-align: middle;\n",
       "    }\n",
       "\n",
       "    .dataframe tbody tr th {\n",
       "        vertical-align: top;\n",
       "    }\n",
       "\n",
       "    .dataframe thead th {\n",
       "        text-align: right;\n",
       "    }\n",
       "</style>\n",
       "<table border=\"1\" class=\"dataframe\">\n",
       "  <thead>\n",
       "    <tr style=\"text-align: right;\">\n",
       "      <th></th>\n",
       "      <th>Number</th>\n",
       "      <th>Name</th>\n",
       "      <th>Latitude</th>\n",
       "      <th>Longitude</th>\n",
       "      <th>District</th>\n",
       "      <th>Public</th>\n",
       "      <th>Total docks</th>\n",
       "    </tr>\n",
       "  </thead>\n",
       "  <tbody>\n",
       "    <tr>\n",
       "      <th>0</th>\n",
       "      <td>K32015</td>\n",
       "      <td>1200 Beacon St</td>\n",
       "      <td>42.344149</td>\n",
       "      <td>-71.114674</td>\n",
       "      <td>Brookline</td>\n",
       "      <td>Yes</td>\n",
       "      <td>15</td>\n",
       "    </tr>\n",
       "    <tr>\n",
       "      <th>1</th>\n",
       "      <td>W32006</td>\n",
       "      <td>160 Arsenal St</td>\n",
       "      <td>42.364664</td>\n",
       "      <td>-71.175694</td>\n",
       "      <td>Watertown</td>\n",
       "      <td>Yes</td>\n",
       "      <td>11</td>\n",
       "    </tr>\n",
       "    <tr>\n",
       "      <th>2</th>\n",
       "      <td>A32019</td>\n",
       "      <td>175 N Harvard St</td>\n",
       "      <td>42.364475</td>\n",
       "      <td>-71.128408</td>\n",
       "      <td>Boston</td>\n",
       "      <td>Yes</td>\n",
       "      <td>17</td>\n",
       "    </tr>\n",
       "    <tr>\n",
       "      <th>3</th>\n",
       "      <td>S32035</td>\n",
       "      <td>191 Beacon St</td>\n",
       "      <td>42.380323</td>\n",
       "      <td>-71.108786</td>\n",
       "      <td>Somerville</td>\n",
       "      <td>Yes</td>\n",
       "      <td>19</td>\n",
       "    </tr>\n",
       "    <tr>\n",
       "      <th>4</th>\n",
       "      <td>C32094</td>\n",
       "      <td>2 Hummingbird Lane at Olmsted Green</td>\n",
       "      <td>42.288870</td>\n",
       "      <td>-71.095003</td>\n",
       "      <td>Boston</td>\n",
       "      <td>Yes</td>\n",
       "      <td>17</td>\n",
       "    </tr>\n",
       "    <tr>\n",
       "      <th>...</th>\n",
       "      <td>...</td>\n",
       "      <td>...</td>\n",
       "      <td>...</td>\n",
       "      <td>...</td>\n",
       "      <td>...</td>\n",
       "      <td>...</td>\n",
       "      <td>...</td>\n",
       "    </tr>\n",
       "    <tr>\n",
       "      <th>416</th>\n",
       "      <td>D32022</td>\n",
       "      <td>West End Park</td>\n",
       "      <td>42.365908</td>\n",
       "      <td>-71.064467</td>\n",
       "      <td>Boston</td>\n",
       "      <td>Yes</td>\n",
       "      <td>35</td>\n",
       "    </tr>\n",
       "    <tr>\n",
       "      <th>417</th>\n",
       "      <td>N32005</td>\n",
       "      <td>West Newton</td>\n",
       "      <td>42.349601</td>\n",
       "      <td>-71.226275</td>\n",
       "      <td>Newton</td>\n",
       "      <td>Yes</td>\n",
       "      <td>15</td>\n",
       "    </tr>\n",
       "    <tr>\n",
       "      <th>418</th>\n",
       "      <td>B32059</td>\n",
       "      <td>Whittier St Health Center</td>\n",
       "      <td>42.332863</td>\n",
       "      <td>-71.092189</td>\n",
       "      <td>Boston</td>\n",
       "      <td>Yes</td>\n",
       "      <td>19</td>\n",
       "    </tr>\n",
       "    <tr>\n",
       "      <th>419</th>\n",
       "      <td>D32040</td>\n",
       "      <td>Williams St at Washington St</td>\n",
       "      <td>42.306539</td>\n",
       "      <td>-71.107669</td>\n",
       "      <td>Boston</td>\n",
       "      <td>Yes</td>\n",
       "      <td>23</td>\n",
       "    </tr>\n",
       "    <tr>\n",
       "      <th>420</th>\n",
       "      <td>S32005</td>\n",
       "      <td>Wilson Square</td>\n",
       "      <td>42.385676</td>\n",
       "      <td>-71.114121</td>\n",
       "      <td>Somerville</td>\n",
       "      <td>Yes</td>\n",
       "      <td>15</td>\n",
       "    </tr>\n",
       "  </tbody>\n",
       "</table>\n",
       "<p>421 rows × 7 columns</p>\n",
       "</div>"
      ],
      "text/plain": [
       "     Number                                 Name   Latitude  Longitude  \\\n",
       "0    K32015                       1200 Beacon St  42.344149 -71.114674   \n",
       "1    W32006                       160 Arsenal St  42.364664 -71.175694   \n",
       "2    A32019                     175 N Harvard St  42.364475 -71.128408   \n",
       "3    S32035                        191 Beacon St  42.380323 -71.108786   \n",
       "4    C32094  2 Hummingbird Lane at Olmsted Green  42.288870 -71.095003   \n",
       "..      ...                                  ...        ...        ...   \n",
       "416  D32022                        West End Park  42.365908 -71.064467   \n",
       "417  N32005                          West Newton  42.349601 -71.226275   \n",
       "418  B32059            Whittier St Health Center  42.332863 -71.092189   \n",
       "419  D32040         Williams St at Washington St  42.306539 -71.107669   \n",
       "420  S32005                        Wilson Square  42.385676 -71.114121   \n",
       "\n",
       "       District Public  Total docks  \n",
       "0     Brookline    Yes           15  \n",
       "1     Watertown    Yes           11  \n",
       "2        Boston    Yes           17  \n",
       "3    Somerville    Yes           19  \n",
       "4        Boston    Yes           17  \n",
       "..          ...    ...          ...  \n",
       "416      Boston    Yes           35  \n",
       "417      Newton    Yes           15  \n",
       "418      Boston    Yes           19  \n",
       "419      Boston    Yes           23  \n",
       "420  Somerville    Yes           15  \n",
       "\n",
       "[421 rows x 7 columns]"
      ]
     },
     "execution_count": 4,
     "metadata": {},
     "output_type": "execute_result"
    }
   ],
   "source": [
    "#\n",
    "stations = pd.read_csv('data/raw/current_bluebikes_stations.csv', skiprows=1)\n",
    "stations"
   ]
  },
  {
   "cell_type": "code",
   "execution_count": 5,
   "metadata": {},
   "outputs": [],
   "source": [
    "#Remove the nas from the Lat and Long in the combined_df\n",
    "combined_df = combined_df.dropna(subset=['Lat', 'Long']).reset_index(drop=True)"
   ]
  },
  {
   "cell_type": "code",
   "execution_count": 6,
   "metadata": {},
   "outputs": [
    {
     "data": {
      "text/html": [
       "<div>\n",
       "<style scoped>\n",
       "    .dataframe tbody tr th:only-of-type {\n",
       "        vertical-align: middle;\n",
       "    }\n",
       "\n",
       "    .dataframe tbody tr th {\n",
       "        vertical-align: top;\n",
       "    }\n",
       "\n",
       "    .dataframe thead th {\n",
       "        text-align: right;\n",
       "    }\n",
       "</style>\n",
       "<table border=\"1\" class=\"dataframe\">\n",
       "  <thead>\n",
       "    <tr style=\"text-align: right;\">\n",
       "      <th></th>\n",
       "      <th>INCIDENT_NUMBER</th>\n",
       "      <th>OFFENSE_CODE</th>\n",
       "      <th>OFFENSE_CODE_GROUP</th>\n",
       "      <th>OFFENSE_DESCRIPTION</th>\n",
       "      <th>DISTRICT</th>\n",
       "      <th>REPORTING_AREA</th>\n",
       "      <th>SHOOTING</th>\n",
       "      <th>OCCURRED_ON_DATE</th>\n",
       "      <th>YEAR</th>\n",
       "      <th>MONTH</th>\n",
       "      <th>DAY_OF_WEEK</th>\n",
       "      <th>HOUR</th>\n",
       "      <th>UCR_PART</th>\n",
       "      <th>STREET</th>\n",
       "      <th>Lat</th>\n",
       "      <th>Long</th>\n",
       "      <th>Location</th>\n",
       "    </tr>\n",
       "  </thead>\n",
       "  <tbody>\n",
       "    <tr>\n",
       "      <th>0</th>\n",
       "      <td>I172040657</td>\n",
       "      <td>2629</td>\n",
       "      <td>Harassment</td>\n",
       "      <td>HARASSMENT</td>\n",
       "      <td>C11</td>\n",
       "      <td>397</td>\n",
       "      <td>NaN</td>\n",
       "      <td>2015-06-15 00:00:00</td>\n",
       "      <td>2015</td>\n",
       "      <td>6</td>\n",
       "      <td>Monday</td>\n",
       "      <td>0</td>\n",
       "      <td>Part Two</td>\n",
       "      <td>MELBOURNE ST</td>\n",
       "      <td>42.291093</td>\n",
       "      <td>-71.065945</td>\n",
       "      <td>(42.29109287, -71.06594539)</td>\n",
       "    </tr>\n",
       "    <tr>\n",
       "      <th>1</th>\n",
       "      <td>I162013546</td>\n",
       "      <td>3201</td>\n",
       "      <td>Property Lost</td>\n",
       "      <td>PROPERTY - LOST</td>\n",
       "      <td>B3</td>\n",
       "      <td>433</td>\n",
       "      <td>NaN</td>\n",
       "      <td>2015-06-15 00:00:00</td>\n",
       "      <td>2015</td>\n",
       "      <td>6</td>\n",
       "      <td>Monday</td>\n",
       "      <td>0</td>\n",
       "      <td>Part Three</td>\n",
       "      <td>NORFOLK ST</td>\n",
       "      <td>42.283634</td>\n",
       "      <td>-71.082813</td>\n",
       "      <td>(42.28363434, -71.08281320)</td>\n",
       "    </tr>\n",
       "    <tr>\n",
       "      <th>2</th>\n",
       "      <td>I152051083</td>\n",
       "      <td>3115</td>\n",
       "      <td>Investigate Person</td>\n",
       "      <td>INVESTIGATE PERSON</td>\n",
       "      <td>A7</td>\n",
       "      <td>20</td>\n",
       "      <td>NaN</td>\n",
       "      <td>2015-06-15 00:00:00</td>\n",
       "      <td>2015</td>\n",
       "      <td>6</td>\n",
       "      <td>Monday</td>\n",
       "      <td>0</td>\n",
       "      <td>Part Three</td>\n",
       "      <td>PARIS ST</td>\n",
       "      <td>42.377023</td>\n",
       "      <td>-71.032247</td>\n",
       "      <td>(42.37702319, -71.03224730)</td>\n",
       "    </tr>\n",
       "    <tr>\n",
       "      <th>3</th>\n",
       "      <td>I152059178</td>\n",
       "      <td>2647</td>\n",
       "      <td>Other</td>\n",
       "      <td>THREATS TO DO BODILY HARM</td>\n",
       "      <td>C11</td>\n",
       "      <td>359</td>\n",
       "      <td>NaN</td>\n",
       "      <td>2015-06-15 00:00:00</td>\n",
       "      <td>2015</td>\n",
       "      <td>6</td>\n",
       "      <td>Monday</td>\n",
       "      <td>0</td>\n",
       "      <td>Part Two</td>\n",
       "      <td>WASHINGTON ST</td>\n",
       "      <td>42.293606</td>\n",
       "      <td>-71.071887</td>\n",
       "      <td>(42.29360585, -71.07188650)</td>\n",
       "    </tr>\n",
       "    <tr>\n",
       "      <th>4</th>\n",
       "      <td>I152049897</td>\n",
       "      <td>3201</td>\n",
       "      <td>Property Lost</td>\n",
       "      <td>PROPERTY - LOST</td>\n",
       "      <td>B2</td>\n",
       "      <td>282</td>\n",
       "      <td>NaN</td>\n",
       "      <td>2015-06-15 00:00:00</td>\n",
       "      <td>2015</td>\n",
       "      <td>6</td>\n",
       "      <td>Monday</td>\n",
       "      <td>0</td>\n",
       "      <td>Part Three</td>\n",
       "      <td>WASHINGTON ST</td>\n",
       "      <td>42.328663</td>\n",
       "      <td>-71.085634</td>\n",
       "      <td>(42.32866284, -71.08563401)</td>\n",
       "    </tr>\n",
       "    <tr>\n",
       "      <th>...</th>\n",
       "      <td>...</td>\n",
       "      <td>...</td>\n",
       "      <td>...</td>\n",
       "      <td>...</td>\n",
       "      <td>...</td>\n",
       "      <td>...</td>\n",
       "      <td>...</td>\n",
       "      <td>...</td>\n",
       "      <td>...</td>\n",
       "      <td>...</td>\n",
       "      <td>...</td>\n",
       "      <td>...</td>\n",
       "      <td>...</td>\n",
       "      <td>...</td>\n",
       "      <td>...</td>\n",
       "      <td>...</td>\n",
       "      <td>...</td>\n",
       "    </tr>\n",
       "    <tr>\n",
       "      <th>699941</th>\n",
       "      <td>232068532</td>\n",
       "      <td>1831</td>\n",
       "      <td>NaN</td>\n",
       "      <td>SICK ASSIST</td>\n",
       "      <td>D14</td>\n",
       "      <td>786</td>\n",
       "      <td>0</td>\n",
       "      <td>2023-08-26 13:40:00</td>\n",
       "      <td>2023</td>\n",
       "      <td>8</td>\n",
       "      <td>Saturday</td>\n",
       "      <td>13</td>\n",
       "      <td>NaN</td>\n",
       "      <td>EGREMONT RD</td>\n",
       "      <td>42.341151</td>\n",
       "      <td>-71.143435</td>\n",
       "      <td>(42.34115090157489, -71.14343484505726)</td>\n",
       "    </tr>\n",
       "    <tr>\n",
       "      <th>699942</th>\n",
       "      <td>232068926</td>\n",
       "      <td>1831</td>\n",
       "      <td>NaN</td>\n",
       "      <td>SICK ASSIST</td>\n",
       "      <td>B2</td>\n",
       "      <td>261</td>\n",
       "      <td>0</td>\n",
       "      <td>2023-08-27 21:25:00</td>\n",
       "      <td>2023</td>\n",
       "      <td>8</td>\n",
       "      <td>Sunday</td>\n",
       "      <td>21</td>\n",
       "      <td>NaN</td>\n",
       "      <td>BROOK AVE</td>\n",
       "      <td>42.320477</td>\n",
       "      <td>-71.072737</td>\n",
       "      <td>(42.32047707642095, -71.07273728950177)</td>\n",
       "    </tr>\n",
       "    <tr>\n",
       "      <th>699943</th>\n",
       "      <td>232070395</td>\n",
       "      <td>301</td>\n",
       "      <td>NaN</td>\n",
       "      <td>ROBBERY</td>\n",
       "      <td>A1</td>\n",
       "      <td>93</td>\n",
       "      <td>0</td>\n",
       "      <td>2023-09-01 13:18:00</td>\n",
       "      <td>2023</td>\n",
       "      <td>9</td>\n",
       "      <td>Friday</td>\n",
       "      <td>13</td>\n",
       "      <td>NaN</td>\n",
       "      <td>UNION ST</td>\n",
       "      <td>42.360687</td>\n",
       "      <td>-71.056873</td>\n",
       "      <td>(42.36068738800536, -71.05687337090743)</td>\n",
       "    </tr>\n",
       "    <tr>\n",
       "      <th>699944</th>\n",
       "      <td>232071411</td>\n",
       "      <td>3207</td>\n",
       "      <td>NaN</td>\n",
       "      <td>PROPERTY - FOUND</td>\n",
       "      <td>C11</td>\n",
       "      <td>355</td>\n",
       "      <td>0</td>\n",
       "      <td>2023-09-04 21:00:00</td>\n",
       "      <td>2023</td>\n",
       "      <td>9</td>\n",
       "      <td>Monday</td>\n",
       "      <td>21</td>\n",
       "      <td>NaN</td>\n",
       "      <td>GIBSON ST</td>\n",
       "      <td>42.297555</td>\n",
       "      <td>-71.059710</td>\n",
       "      <td>(42.297554856340426, -71.05970968687002)</td>\n",
       "    </tr>\n",
       "    <tr>\n",
       "      <th>699945</th>\n",
       "      <td>232071422</td>\n",
       "      <td>3831</td>\n",
       "      <td>NaN</td>\n",
       "      <td>M/V - LEAVING SCENE - PROPERTY DAMAGE</td>\n",
       "      <td>D14</td>\n",
       "      <td>793</td>\n",
       "      <td>0</td>\n",
       "      <td>2023-09-04 21:42:00</td>\n",
       "      <td>2023</td>\n",
       "      <td>9</td>\n",
       "      <td>Monday</td>\n",
       "      <td>21</td>\n",
       "      <td>NaN</td>\n",
       "      <td>COMMONWEALTH AVE</td>\n",
       "      <td>42.347953</td>\n",
       "      <td>-71.136308</td>\n",
       "      <td>(42.34795320232855, -71.1363080075282)</td>\n",
       "    </tr>\n",
       "  </tbody>\n",
       "</table>\n",
       "<p>699946 rows × 17 columns</p>\n",
       "</div>"
      ],
      "text/plain": [
       "       INCIDENT_NUMBER  OFFENSE_CODE  OFFENSE_CODE_GROUP  \\\n",
       "0           I172040657          2629          Harassment   \n",
       "1           I162013546          3201       Property Lost   \n",
       "2           I152051083          3115  Investigate Person   \n",
       "3           I152059178          2647               Other   \n",
       "4           I152049897          3201       Property Lost   \n",
       "...                ...           ...                 ...   \n",
       "699941       232068532          1831                 NaN   \n",
       "699942       232068926          1831                 NaN   \n",
       "699943       232070395           301                 NaN   \n",
       "699944       232071411          3207                 NaN   \n",
       "699945       232071422          3831                 NaN   \n",
       "\n",
       "                          OFFENSE_DESCRIPTION DISTRICT REPORTING_AREA  \\\n",
       "0                                  HARASSMENT      C11            397   \n",
       "1                             PROPERTY - LOST       B3            433   \n",
       "2                          INVESTIGATE PERSON       A7             20   \n",
       "3                   THREATS TO DO BODILY HARM      C11            359   \n",
       "4                             PROPERTY - LOST       B2            282   \n",
       "...                                       ...      ...            ...   \n",
       "699941                            SICK ASSIST      D14            786   \n",
       "699942                            SICK ASSIST       B2            261   \n",
       "699943                                ROBBERY       A1             93   \n",
       "699944                       PROPERTY - FOUND      C11            355   \n",
       "699945  M/V - LEAVING SCENE - PROPERTY DAMAGE      D14            793   \n",
       "\n",
       "       SHOOTING    OCCURRED_ON_DATE  YEAR  MONTH DAY_OF_WEEK  HOUR  \\\n",
       "0           NaN 2015-06-15 00:00:00  2015      6      Monday     0   \n",
       "1           NaN 2015-06-15 00:00:00  2015      6      Monday     0   \n",
       "2           NaN 2015-06-15 00:00:00  2015      6      Monday     0   \n",
       "3           NaN 2015-06-15 00:00:00  2015      6      Monday     0   \n",
       "4           NaN 2015-06-15 00:00:00  2015      6      Monday     0   \n",
       "...         ...                 ...   ...    ...         ...   ...   \n",
       "699941        0 2023-08-26 13:40:00  2023      8    Saturday    13   \n",
       "699942        0 2023-08-27 21:25:00  2023      8      Sunday    21   \n",
       "699943        0 2023-09-01 13:18:00  2023      9      Friday    13   \n",
       "699944        0 2023-09-04 21:00:00  2023      9      Monday    21   \n",
       "699945        0 2023-09-04 21:42:00  2023      9      Monday    21   \n",
       "\n",
       "          UCR_PART            STREET        Lat       Long  \\\n",
       "0         Part Two      MELBOURNE ST  42.291093 -71.065945   \n",
       "1       Part Three        NORFOLK ST  42.283634 -71.082813   \n",
       "2       Part Three          PARIS ST  42.377023 -71.032247   \n",
       "3         Part Two     WASHINGTON ST  42.293606 -71.071887   \n",
       "4       Part Three     WASHINGTON ST  42.328663 -71.085634   \n",
       "...            ...               ...        ...        ...   \n",
       "699941         NaN       EGREMONT RD  42.341151 -71.143435   \n",
       "699942         NaN         BROOK AVE  42.320477 -71.072737   \n",
       "699943         NaN          UNION ST  42.360687 -71.056873   \n",
       "699944         NaN         GIBSON ST  42.297555 -71.059710   \n",
       "699945         NaN  COMMONWEALTH AVE  42.347953 -71.136308   \n",
       "\n",
       "                                        Location  \n",
       "0                    (42.29109287, -71.06594539)  \n",
       "1                    (42.28363434, -71.08281320)  \n",
       "2                    (42.37702319, -71.03224730)  \n",
       "3                    (42.29360585, -71.07188650)  \n",
       "4                    (42.32866284, -71.08563401)  \n",
       "...                                          ...  \n",
       "699941   (42.34115090157489, -71.14343484505726)  \n",
       "699942   (42.32047707642095, -71.07273728950177)  \n",
       "699943   (42.36068738800536, -71.05687337090743)  \n",
       "699944  (42.297554856340426, -71.05970968687002)  \n",
       "699945    (42.34795320232855, -71.1363080075282)  \n",
       "\n",
       "[699946 rows x 17 columns]"
      ]
     },
     "execution_count": 6,
     "metadata": {},
     "output_type": "execute_result"
    }
   ],
   "source": [
    "combined_df"
   ]
  },
  {
   "cell_type": "code",
   "execution_count": 7,
   "metadata": {},
   "outputs": [],
   "source": [
    "#\n",
    "\n",
    "from scipy.spatial.distance import cdist\n",
    "\n",
    "# Step 1: Calculate the euclidean distance between each crime and each station\n",
    "distances = cdist(combined_df[['Lat', 'Long']], stations[['Latitude', 'Longitude']], metric='euclidean')\n",
    "\n"
   ]
  },
  {
   "cell_type": "code",
   "execution_count": 8,
   "metadata": {},
   "outputs": [],
   "source": [
    "# Step 2: Find the index of the closest station for each crime\n",
    "closest_station_index = distances.argmin(axis=1)"
   ]
  },
  {
   "cell_type": "code",
   "execution_count": 19,
   "metadata": {},
   "outputs": [],
   "source": [
    "\n",
    "\n",
    "# Now, crimes_df has a new column indicating the closest station,\n",
    "# and stations_df has a new column indicating the number of crimes close to each station\n"
   ]
  },
  {
   "cell_type": "code",
   "execution_count": 9,
   "metadata": {},
   "outputs": [],
   "source": [
    "#combined_df"
   ]
  },
  {
   "cell_type": "code",
   "execution_count": 10,
   "metadata": {},
   "outputs": [],
   "source": [
    "# Step 3: Update crimes dataframe with a new column indicating the closest station\n",
    "combined_df['Closest_Station'] = stations.iloc[closest_station_index]['Number'].values\n",
    "\n",
    "# Another potential way?\n",
    "# Assuming a threshold distance beyond which a crime is not considered close to a station\n",
    "#threshold_distance = 0.1  # Adjust as needed\n",
    "\n",
    "# Count crimes close to each station\n",
    "#station_counts = (distances < threshold_distance).sum(axis=0)\n",
    "\n",
    "# Update stations dataframe with the count information\n",
    "#stations['Crime_Count'] = station_counts\n"
   ]
  },
  {
   "cell_type": "code",
   "execution_count": null,
   "metadata": {},
   "outputs": [],
   "source": []
  },
  {
   "cell_type": "code",
   "execution_count": 11,
   "metadata": {},
   "outputs": [
    {
     "data": {
      "text/html": [
       "<div>\n",
       "<style scoped>\n",
       "    .dataframe tbody tr th:only-of-type {\n",
       "        vertical-align: middle;\n",
       "    }\n",
       "\n",
       "    .dataframe tbody tr th {\n",
       "        vertical-align: top;\n",
       "    }\n",
       "\n",
       "    .dataframe thead th {\n",
       "        text-align: right;\n",
       "    }\n",
       "</style>\n",
       "<table border=\"1\" class=\"dataframe\">\n",
       "  <thead>\n",
       "    <tr style=\"text-align: right;\">\n",
       "      <th></th>\n",
       "      <th>Number</th>\n",
       "      <th>count</th>\n",
       "    </tr>\n",
       "  </thead>\n",
       "  <tbody>\n",
       "    <tr>\n",
       "      <th>0</th>\n",
       "      <td>A32000</td>\n",
       "      <td>507</td>\n",
       "    </tr>\n",
       "    <tr>\n",
       "      <th>1</th>\n",
       "      <td>A32001</td>\n",
       "      <td>3598</td>\n",
       "    </tr>\n",
       "    <tr>\n",
       "      <th>2</th>\n",
       "      <td>A32002</td>\n",
       "      <td>851</td>\n",
       "    </tr>\n",
       "    <tr>\n",
       "      <th>3</th>\n",
       "      <td>A32003</td>\n",
       "      <td>160</td>\n",
       "    </tr>\n",
       "    <tr>\n",
       "      <th>4</th>\n",
       "      <td>A32004</td>\n",
       "      <td>837</td>\n",
       "    </tr>\n",
       "    <tr>\n",
       "      <th>...</th>\n",
       "      <td>...</td>\n",
       "      <td>...</td>\n",
       "    </tr>\n",
       "    <tr>\n",
       "      <th>231</th>\n",
       "      <td>V32004</td>\n",
       "      <td>40</td>\n",
       "    </tr>\n",
       "    <tr>\n",
       "      <th>232</th>\n",
       "      <td>V32005</td>\n",
       "      <td>96</td>\n",
       "    </tr>\n",
       "    <tr>\n",
       "      <th>233</th>\n",
       "      <td>W32004</td>\n",
       "      <td>669</td>\n",
       "    </tr>\n",
       "    <tr>\n",
       "      <th>234</th>\n",
       "      <td>Z32997</td>\n",
       "      <td>426</td>\n",
       "    </tr>\n",
       "    <tr>\n",
       "      <th>235</th>\n",
       "      <td>Z32999</td>\n",
       "      <td>5914</td>\n",
       "    </tr>\n",
       "  </tbody>\n",
       "</table>\n",
       "<p>236 rows × 2 columns</p>\n",
       "</div>"
      ],
      "text/plain": [
       "     Number  count\n",
       "0    A32000    507\n",
       "1    A32001   3598\n",
       "2    A32002    851\n",
       "3    A32003    160\n",
       "4    A32004    837\n",
       "..      ...    ...\n",
       "231  V32004     40\n",
       "232  V32005     96\n",
       "233  W32004    669\n",
       "234  Z32997    426\n",
       "235  Z32999   5914\n",
       "\n",
       "[236 rows x 2 columns]"
      ]
     },
     "execution_count": 11,
     "metadata": {},
     "output_type": "execute_result"
    }
   ],
   "source": [
    "# Group by station number and count occurrences\n",
    "station_counts = combined_df.groupby('Closest_Station').size().reset_index(name='count')\n",
    "\n",
    "\n",
    "#rename the closest station to station number\n",
    "station_counts = station_counts.rename(columns={\"Closest_Station\": \"Number\"})\n",
    "station_counts"
   ]
  },
  {
   "cell_type": "code",
   "execution_count": 12,
   "metadata": {},
   "outputs": [
    {
     "data": {
      "text/plain": [
       "count      236.000000\n",
       "mean      2965.872881\n",
       "std       3408.664745\n",
       "min          1.000000\n",
       "25%        704.250000\n",
       "50%       2000.000000\n",
       "75%       3738.500000\n",
       "max      24215.000000\n",
       "Name: count, dtype: float64"
      ]
     },
     "execution_count": 12,
     "metadata": {},
     "output_type": "execute_result"
    }
   ],
   "source": [
    "station_counts['count'].describe()"
   ]
  },
  {
   "cell_type": "code",
   "execution_count": 13,
   "metadata": {},
   "outputs": [
    {
     "name": "stderr",
     "output_type": "stream",
     "text": [
      "/var/folders/hp/6dmmpscs1k102dtp0nj9snw40000gn/T/ipykernel_56976/60918886.py:6: FutureWarning:\n",
      "\n",
      "A value is trying to be set on a copy of a DataFrame or Series through chained assignment using an inplace method.\n",
      "The behavior will change in pandas 3.0. This inplace method will never work because the intermediate object on which we are setting values always behaves as a copy.\n",
      "\n",
      "For example, when doing 'df[col].method(value, inplace=True)', try using 'df.method({col: value}, inplace=True)' or df[col] = df[col].method(value) instead, to perform the operation inplace on the original object.\n",
      "\n",
      "\n",
      "\n"
     ]
    }
   ],
   "source": [
    "# Merge station_counts with stations DataFrame\n",
    "# Perform left merge\n",
    "stations = pd.merge(stations, station_counts, on='Number', how='left')\n",
    "\n",
    "# Fill NaN values in 'count' column with 0\n",
    "stations['count'].fillna(0, inplace=True)\n"
   ]
  },
  {
   "cell_type": "code",
   "execution_count": 14,
   "metadata": {},
   "outputs": [],
   "source": [
    "stations['count'] = stations['count'].astype(int)"
   ]
  },
  {
   "cell_type": "code",
   "execution_count": 19,
   "metadata": {},
   "outputs": [
    {
     "data": {
      "text/plain": [
       "array(['Brookline', 'Watertown', 'Boston', 'Somerville', 'Cambridge',\n",
       "       'Everett', 'Chelsea', 'Medford', 'Newton', 'Salem', nan,\n",
       "       'Arlington', 'Malden', 'Revere'], dtype=object)"
      ]
     },
     "execution_count": 19,
     "metadata": {},
     "output_type": "execute_result"
    }
   ],
   "source": [
    "pd.unique(stations['District'])"
   ]
  },
  {
   "cell_type": "code",
   "execution_count": 20,
   "metadata": {},
   "outputs": [
    {
     "data": {
      "text/html": [
       "<div>                            <div id=\"419fc64f-5ea6-4e05-8214-45cf30726594\" class=\"plotly-graph-div\" style=\"height:525px; width:100%;\"></div>            <script type=\"text/javascript\">                require([\"plotly\"], function(Plotly) {                    window.PLOTLYENV=window.PLOTLYENV || {};                                    if (document.getElementById(\"419fc64f-5ea6-4e05-8214-45cf30726594\")) {                    Plotly.newPlot(                        \"419fc64f-5ea6-4e05-8214-45cf30726594\",                        [{\"customdata\":[[0,\"Brookline\"],[0,\"Watertown\"],[344,\"Boston\"],[0,\"Somerville\"],[2352,\"Boston\"],[0,\"Somerville\"],[0,\"Cambridge\"],[0,\"Somerville\"],[0,\"Cambridge\"],[3731,\"Boston\"],[2071,\"Boston\"],[313,\"Boston\"],[0,\"Cambridge\"],[0,\"Everett\"],[110,\"Boston\"],[0,\"Cambridge\"],[0,\"Cambridge\"],[0,\"Cambridge\"],[0,\"Chelsea\"],[0,\"Cambridge\"],[0,\"Cambridge\"],[8887,\"Boston\"],[0,\"Cambridge\"],[0,\"Cambridge\"],[5151,\"Boston\"],[0,\"Cambridge\"],[0,\"Cambridge\"],[527,\"Boston\"],[4052,\"Boston\"],[669,\"Watertown\"],[3856,\"Boston\"],[0,\"Somerville\"],[0,\"Medford\"],[1,\"Newton\"],[160,\"Boston\"],[1378,\"Boston\"],[0,\"Newton\"],[0,\"Somerville\"],[2717,\"Boston\"],[3456,\"Boston\"],[0,\"Newton\"],[1662,\"Boston\"],[675,\"Brookline\"],[5519,\"Boston\"],[0,\"Chelsea\"],[2020,\"Boston\"],[1229,\"Boston\"],[0,\"Cambridge\"],[0,\"Cambridge\"],[2762,\"Boston\"],[18307,\"Boston\"],[3360,\"Boston\"],[569,\"Newton\"],[230,\"Boston\"],[1093,\"Boston\"],[961,\"Boston\"],[11849,\"Boston\"],[1194,\"Boston\"],[3007,\"Boston\"],[2399,\"Boston\"],[4722,\"Boston\"],[3717,\"Boston\"],[6129,\"Boston\"],[0,\"Somerville\"],[2712,\"Boston\"],[0,\"Salem\"],[301,\"Boston\"],[9459,\"Boston\"],[1538,\"Boston\"],[0,\"Cambridge\"],[0,\"Everett\"],[0,\"Somerville\"],[0,\"Chelsea\"],[0,\"Cambridge\"],[40,\"Everett\"],[0,\"Everett\"],[435,\"Somerville\"],[1078,\"Boston\"],[0,\"Brookline\"],[192,\"Brookline\"],[307,\"Boston\"],[1339,\"Boston\"],[0,\"Newton\"],[0,\"Cambridge\"],[0,\"Cambridge\"],[0,\"Cambridge\"],[0,\"Cambridge\"],[3327,\"Boston\"],[0,\"Cambridge\"],[0,\"Chelsea\"],[3181,\"Boston\"],[0,\"Cambridge\"],[0,\"Cambridge\"],[6833,\"Boston\"],[0,\"Newton\"],[2237,\"Boston\"],[8142,\"Boston\"],[0,\"Newton\"],[2400,\"Boston\"],[3734,\"Boston\"],[107,\"Chelsea\"],[0,\"Everett\"],[0,\"Chelsea\"],[0,\"Cambridge\"],[3752,\"Boston\"],[6874,\"Boston\"],[3931,\"Boston\"],[0,\"Cambridge\"],[1151,\"Boston\"],[0,\"Somerville\"],[17181,\"Boston\"],[1105,\"Boston\"],[2454,\"Boston\"],[5575,\"Boston\"],[249,\"Boston\"],[10946,\"Boston\"],[9318,\"Boston\"],[1488,\"Boston\"],[851,\"Boston\"],[354,\"Brookline\"],[3372,\"Boston\"],[2621,\"Boston\"],[3607,\"Boston\"],[0,\"Salem\"],[0,\"Somerville\"],[0,\"Somerville\"],[0,\"Cambridge\"],[1456,\"Boston\"],[257,\"Boston\"],[0,\"Somerville\"],[0,\"Somerville\"],[0,\"Brookline\"],[0,\"Watertown\"],[2702,\"Boston\"],[3002,\"Boston\"],[5914,\"Boston\"],[2617,\"Boston\"],[0,\"Brookline\"],[0,\"Cambridge\"],[0,\"Cambridge\"],[0,\"Cambridge\"],[1931,\"Boston\"],[0,\"Somerville\"],[4227,\"Boston\"],[174,\"Boston\"],[0,\"Salem\"],[0,\"Cambridge\"],[82,\"Boston\"],[4742,\"Boston\"],[17258,\"Boston\"],[10952,\"Boston\"],[4856,\"Boston\"],[0,\"Somerville\"],[0,\"Somerville\"],[1143,\"Boston\"],[0,\"Cambridge\"],[5374,\"Boston\"],[96,\"Everett\"],[0,\"Salem\"],[0,\"Everett\"],[507,\"Boston\"],[1316,\"Boston\"],[24215,\"Boston\"],[1121,\"Boston\"],[0,\"Somerville\"],[1573,\"Boston\"],[2,\"Salem\"],[1346,\"Boston\"],[0,\"Somerville\"],[3417,\"Boston\"],[7064,\"Boston\"],[4065,\"Boston\"],[5853,\"Boston\"],[0,\"Cambridge\"],[0,\"Cambridge\"],[0,\"Cambridge\"],[6201,\"Boston\"],[1553,\"Boston\"],[0,\"Somerville\"],[0,\"Everett\"],[0,\"Salem\"],[0,\"Cambridge\"],[1221,\"Boston\"],[6604,\"Boston\"],[0,\"Cambridge\"],[0,\"Everett\"],[7446,\"Boston\"],[9218,\"Boston\"],[0,\"Somerville\"],[0,\"Medford\"],[0,\"Everett\"],[6574,null],[0,\"Medford\"],[1521,\"Boston\"],[10917,\"Boston\"],[2116,\"Boston\"],[3383,\"Boston\"],[0,\"Cambridge\"],[0,\"Cambridge\"],[0,\"Cambridge\"],[0,\"Cambridge\"],[1,\"Brookline\"],[0,\"Cambridge\"],[92,\"Boston\"],[0,\"Cambridge\"],[0,\"Cambridge\"],[0,\"Cambridge\"],[0,\"Cambridge\"],[0,\"Cambridge\"],[0,\"Salem\"],[172,\"Brookline\"],[595,\"Boston\"],[1991,\"Boston\"],[111,\"Boston\"],[0,\"Medford\"],[922,\"Boston\"],[0,\"Cambridge\"],[1232,\"Boston\"],[4816,\"Boston\"],[4202,\"Boston\"],[55,\"Boston\"],[115,\"Boston\"],[350,\"Boston\"],[0,\"Cambridge\"],[88,\"Boston\"],[2947,\"Boston\"],[1546,\"Boston\"],[0,\"Brookline\"],[298,\"Boston\"],[0,\"Cambridge\"],[0,\"Everett\"],[0,\"Cambridge\"],[0,\"Cambridge\"],[2286,\"Boston\"],[0,\"Cambridge\"],[0,\"Salem\"],[0,\"Cambridge\"],[1110,\"Boston\"],[0,\"Newton\"],[898,\"Boston\"],[1536,\"Boston\"],[0,\"Cambridge\"],[297,\"Boston\"],[2404,\"Boston\"],[0,\"Cambridge\"],[0,\"Arlington\"],[837,\"Boston\"],[1,\"Cambridge\"],[0,\"Somerville\"],[970,\"Boston\"],[669,\"Boston\"],[0,\"Medford\"],[968,\"Boston\"],[0,\"Cambridge\"],[0,\"Malden\"],[1,\"Malden\"],[0,\"Brookline\"],[5226,\"Boston\"],[2,\"Cambridge\"],[0,\"Cambridge\"],[1313,\"Boston\"],[0,\"Cambridge\"],[1570,\"Boston\"],[5935,\"Boston\"],[4196,\"Boston\"],[1349,\"Boston\"],[1351,\"Boston\"],[0,\"Salem\"],[10131,null],[0,\"Medford\"],[3485,\"Boston\"],[0,\"Cambridge\"],[0,\"Cambridge\"],[0,\"Cambridge\"],[0,\"Cambridge\"],[0,\"Cambridge\"],[0,\"Cambridge\"],[3007,\"Boston\"],[0,\"Cambridge\"],[10045,\"Boston\"],[0,\"Cambridge\"],[1052,\"Boston\"],[473,\"Boston\"],[196,\"Cambridge\"],[1470,\"Boston\"],[3841,\"Boston\"],[2732,\"Boston\"],[8742,\"Boston\"],[0,\"Newton\"],[0,\"Newton\"],[0,\"Watertown\"],[0,\"Newton\"],[0,\"Salem\"],[0,\"Malden\"],[2582,\"Boston\"],[0,\"Cambridge\"],[1357,\"Boston\"],[2649,\"Boston\"],[0,\"Cambridge\"],[0,\"Cambridge\"],[0,\"Cambridge\"],[3243,\"Boston\"],[0,\"Revere\"],[0,\"Somerville\"],[1544,\"Boston\"],[714,\"Boston\"],[1167,\"Boston\"],[426,\"Boston\"],[1,\"Somerville\"],[81,\"Boston\"],[0,\"Everett\"],[0,\"Cambridge\"],[375,\"Boston\"],[0,\"Somerville\"],[3379,\"Boston\"],[1385,\"Boston\"],[0,\"Arlington\"],[0,\"Cambridge\"],[0,\"Revere\"],[0,\"Revere\"],[0,\"Cambridge\"],[2153,\"Boston\"],[0,\"Cambridge\"],[1495,\"Boston\"],[2933,\"Boston\"],[4296,\"Boston\"],[452,\"Boston\"],[2690,\"Boston\"],[10697,\"Boston\"],[786,\"Boston\"],[1825,\"Boston\"],[0,\"Salem\"],[0,\"Salem\"],[0,\"Salem\"],[2605,\"Boston\"],[1519,\"Boston\"],[75,\"Boston\"],[269,\"Boston\"],[0,\"Cambridge\"],[1224,\"Boston\"],[1848,\"Boston\"],[3352,\"Boston\"],[0,\"Salem\"],[0,\"Cambridge\"],[192,\"Boston\"],[0,\"Cambridge\"],[153,\"Boston\"],[0,\"Somerville\"],[0,\"Somerville\"],[0,\"Somerville\"],[0,\"Somerville\"],[4631,\"Boston\"],[1913,\"Boston\"],[892,\"Boston\"],[321,\"Boston\"],[7150,\"Boston\"],[75,\"Brookline\"],[2365,\"Boston\"],[6688,\"Boston\"],[2009,\"Boston\"],[1890,\"Boston\"],[2610,\"Boston\"],[722,\"Boston\"],[0,\"Revere\"],[2382,\"Boston\"],[2176,\"Boston\"],[0,\"Everett\"],[2244,\"Boston\"],[7338,\"Boston\"],[9173,\"Boston\"],[1,\"Brookline\"],[0,\"Somerville\"],[2467,\"Boston\"],[590,\"Boston\"],[518,\"Boston\"],[3359,\"Boston\"],[0,\"Cambridge\"],[0,\"Arlington\"],[2359,\"Boston\"],[8267,\"Boston\"],[1852,\"Boston\"],[2199,\"Boston\"],[3064,\"Boston\"],[1212,null],[914,\"Boston\"],[0,\"Somerville\"],[0,\"Medford\"],[3598,\"Boston\"],[0,\"Somerville\"],[0,\"Somerville\"],[40,\"Boston\"],[0,\"Cambridge\"],[6441,\"Boston\"],[0,\"Cambridge\"],[0,\"Cambridge\"],[0,\"Salem\"],[4759,\"Boston\"],[4023,\"Boston\"],[2764,\"Boston\"],[911,\"Boston\"],[0,\"Brookline\"],[0,\"Somerville\"],[2311,\"Boston\"],[0,\"Newton\"],[6275,\"Boston\"],[3036,\"Boston\"],[6306,\"Boston\"],[7179,\"Boston\"],[0,\"Newton\"],[1806,\"Boston\"],[422,\"Boston\"],[0,\"Watertown\"],[0,\"Watertown\"],[0,\"Newton\"],[0,\"Everett\"],[617,\"Boston\"],[368,\"Boston\"],[0,\"Newton\"],[3127,\"Boston\"],[2103,\"Boston\"],[0,\"Somerville\"]],\"hovertemplate\":\"\\u003cb\\u003e%{hovertext}\\u003c\\u002fb\\u003e\\u003cbr\\u003e\\u003cbr\\u003eLatitude=%{lat}\\u003cbr\\u003eLongitude=%{lon}\\u003cbr\\u003ecount=%{marker.color}\\u003cbr\\u003eDistrict=%{customdata[1]}\\u003cextra\\u003e\\u003c\\u002fextra\\u003e\",\"hovertext\":[\"1200 Beacon St\",\"160 Arsenal St\",\"175 N Harvard St\",\"191 Beacon St\",\"2 Hummingbird Lane at Olmsted Green\",\"30 Dane St\",\"359 Broadway - Broadway at Fayette Street\",\"515 Somerville Ave (Temp. Winter Location)\",\"55 Wheeler Street\",\"555 Metropolitan Ave\",\"606 American Legion Hwy at Canterbury St\",\"645 Summer St\",\"699 Mt Auburn St\",\"7 Acre Park\",\"700 Commonwealth Ave.\",\"700 Huron Ave\",\"75 Binney St\",\"84 Cambridgepark Dr\",\"855 Broadway\",\"87-101 Cambridgepark Drive\",\"955 Mass Ave\",\"Albany St at E. Brookline St\",\"Alewife MBTA at Steel Place\",\"Alewife Station at Russell Field\",\"American Legion Hwy at Cummins Hwy\",\"Ames St at Broadway\",\"Ames St at Main St\",\"Aquarium T Stop - 200 Atlantic Ave\",\"Archdale Rd at Washington St\",\"Arsenal Yards\",\"Ashmont T Stop\",\"Assembly Square T\",\"Auburn St. at Mystic River\",\"Auburndale\",\"B.U. Central - 725 Comm. Ave.\",\"Back Bay T Stop - Dartmouth St at Stuart St\",\"Bacon St at Washington St\",\"Ball Sq\",\"Bartlett St at John Elliot Sq\",\"Beach St at Freeport St\",\"Beacon at Walnut\",\"Beacon St at Charles St\",\"Beacon St at Tappan St\",\"Belgrade Ave at Walworth St\",\"Bellingham Square\",\"Bennington St at Byron St\",\"Bennington St at Constitution Beach\",\"Berkshire Street at Cambridge Street\",\"Binney St \\u002f Sixth St\",\"Blue Hill Ave at Almont St\",\"Blue Hill Ave at Havelock St\",\"Boston City Hall - 28 State St\",\"Boston College T\",\"Boston Convention and Exhibition Center - Summer St at West Side Dr\",\"Boston East - 126 Border St\",\"Boston Landing\",\"Bowdoin St at Quincy St\",\"Boylston St at Arlington St\",\"Boylston St at Berkeley St\",\"Boylston St at Exeter St\",\"Boylston St at Fairfield St\",\"Boylston St at Jersey St\",\"Boylston St at Massachusetts Ave\",\"Boynton Yards at 101 South Street\",\"Bremen St at Marion St\",\"Bridge Street Neck\",\"Brigham Circle - Francis St at Huntington Ave\",\"Brighton Center - Washington St at Cambridge St\",\"Brighton Mills - 370 Western Ave\",\"Broad Canal Way at Third Street\",\"Broadway at Beacham St\",\"Broadway at Central St\",\"Broadway at Gerrish Ave\",\"Broadway at Kittie Knox Bike Path\",\"Broadway at Lynde St\",\"Broadway at Maple St\",\"Broadway St at Mt Pleasant St\",\"Broadway T Stop\",\"Brookline Town Hall\",\"Brookline Village - Station Street at MBTA\",\"Bunker Hill Community College\",\"Burlington Ave at Brookline Ave\",\"California at Chapel\",\"Cambridge Crossing at North First Street\",\"Cambridge Dept. of Public Works -147 Hampshire St.\",\"Cambridge Main Library at Broadway \\u002f Trowbridge St\",\"Cambridge St - at Columbia St \\u002f Webster Ave\",\"Cambridge St at Joy St\",\"CambridgeSide Galleria - CambridgeSide PL at Land Blvd\",\"Cary Square\",\"Cedar Grove T Stop\",\"Central Sq Post Office \\u002f Cambridge City Hall at Mass Ave \\u002f Pleasant St\",\"Central Square at Mass Ave \\u002f Essex St\",\"Central Square East Boston\",\"Centre St at Commonwealth Ave\",\"Centre St at Parkway YMCA\",\"Centre St at W. Roxbury Post Office\",\"Centre St at Washington St\",\"Charles Circle - Charles St at Cambridge St\",\"Charlestown Navy Yard\",\"Chelsea Square\",\"Chelsea St at Vine St\",\"Chelsea Station\",\"Child Street at Brian P. Murphy Staircase\",\"Chinatown Gate Plaza\",\"Chinatown T Stop\",\"Christian Science Plaza - Massachusetts Ave at Westland Ave\",\"Church St\",\"Circuit Drive at American Legion Hwy\",\"Clarendon Hill at Broadway\",\"Cleary Sq\",\"Cleveland Circle\",\"Clinton St at North St\",\"Codman Square Library\",\"Colleges of the Fenway - Fenway at Avenue Louis Pasteur\",\"Columbia Rd at Ceylon St\",\"Columbia Rd at Tierney Community Center\",\"Columbus Ave at W. Canton St\",\"Commonwealth Ave at Agganis Way\",\"Commonwealth Ave At Babcock St\",\"Commonwealth Ave at Chiswick Rd\",\"Commonwealth Ave at Griggs St\",\"Commonwealth Ave at Kelton St\",\"Community Life Center\",\"Community Path at Cedar Street\",\"Community Path at Lowell St\",\"Concord Ave at Spinelli Place\",\"Congress St at Boston City Hall\",\"Congress St at Northern Ave\",\"Conway Park - Somerville Avenue\",\"Conway Park @ Bleachery Ct (Temp Winter Station)\",\"Coolidge Corner - Beacon St at Centre St\",\"Coolidge Sq.\",\"Copley Square - Dartmouth St at Boylston St\",\"Cross St at Hanover St\",\"Cummins Highway at Blue Hill Ave T Stop\",\"Curtis Hall - South St at Centre St\",\"Cypress St at Clark Playground\",\"Dana Park\",\"Danehy Park\",\"Danehy Park at New Street\",\"Dartmouth St at Newbury St\",\"Davis Square\",\"Day Sq\",\"Deerfield St at Commonwealth Ave\",\"Derby Street\",\"Discovery Park - 30 Acorn Park Drive\",\"Dorchester Ave at Gillette Park\",\"Dorchester Ave at King St\",\"Dudley Square - Bolling Building\",\"Dudley Town Common - Mt Pleasant Ave at Blue Hill Ave\",\"East Boston Neighborhood Health Center - 20 Maverick Square\",\"East Somerville Library (Broadway and Illinois)\",\"Edgerly Education Center\",\"Edwards Playground - Main St at Eden St\",\"EF - North Point Park\",\"Egleston Square - Atherton St at Washington St\",\"Encore\",\"Essex St at Dalton Parkway\",\"Everett Square (Broadway at Chelsea St)\",\"Fan Pier\",\"Farragut Rd at E. 6th St\",\"Fields Corner T Stop\",\"Flat 9 at Whittier\",\"Foley St at Grand Union Blvd\",\"Forest Hills\",\"Forest River Park\",\"Forsyth St at Huntington Ave\",\"Foss Park\",\"Four Corners - 157 Washington St\",\"Four Corners\\u002fGeneva T Stop\",\"Franklin Park - Seaver St at Humboldt Ave\",\"Franklin Park Zoo - Franklin Park Rd at Blue Hill Ave\",\"Fresh Pond Reservation\",\"Galileo Galilei Way at Fulkerson St\\u002fBinney St\",\"Galileo Galilei Way at Main Street\",\"Gallivan Blvd at Adams St\",\"Geiger Gibson Community Health Center\",\"Gilman Square T at Medford St\",\"Glendale Square (Ferry St at Broadway)\",\"Goodhue St at Grove St\",\"Gore Street at Lambert Street\",\"Gove St at Orleans St\",\"Government Center - Cambridge St at Court St\",\"Graham and Parks School \\u2013 Linnaean St at Walker St\",\"Gramsdorf Playground\",\"Green Street T Stop - Green St at Amory St\",\"Grove Hall Library - 41 Geneva Ave\",\"Grove St at Community Path\",\"Haines Square\",\"Hale Park\",\"Hancock St at Pleasant St\",\"Harris Park\",\"Harrison Ave at Bennet St\",\"Harrison Ave at E. Dedham St\",\"Harrison Ave at Mullins Way\",\"Harvard Ave at Brainerd Rd\",\"Harvard Kennedy School at Bennett St \\u002f Eliot St\",\"Harvard Law School at Mass Ave \\u002f Jarvis St\",\"Harvard Square at Brattle St \\u002f Eliot St\",\"Harvard Square at Mass Ave\\u002f Dunster\",\"Harvard St and Stedman St\",\"Harvard St at Greene-Rose Heritage Park\",\"Harvard Stadium: N. Harvard St at Soldiers Field Rd\",\"Harvard University \\u002f SEAS Cruft-Pierce Halls at 29 Oxford St\",\"Harvard University Gund Hall at Quincy St \\u002f Kirkland St\",\"Harvard University Housing - 115 Putnam Ave at Peabody Terrace\",\"Harvard University Radcliffe Quadrangle at Shepard St \\u002f Garden St\",\"Harvard University River Houses at DeWolfe St \\u002f Cowperthwaite St\",\"Hawthorne Boulevard\",\"High St at Cypress St\",\"HMS\\u002fHSPH - Avenue Louis Pasteur at Longwood Ave\",\"Honan Library\",\"Hood Park\",\"Hormel Stadium\",\"Huntington Ave at Mass Art\",\"Huron Ave At Vassal Lane\",\"Hyde Park Ave at Walk Hill St\",\"Hyde Park Library\",\"Hyde Square - Barbara St at Centre St\",\"ID Building East\",\"ID Building West\",\"Ink Block - Harrison Ave at Herald St\",\"Inman Square at Springfield St.\",\"Innovation Lab - 125 Western Ave at Batten Way\",\"Jackson Square T Stop\",\"Jamaica St at South St\",\"JFK Crossing at Harvard St. \\u002f Thorndike St.\",\"JFK\\u002fUMass T Stop\",\"John Ahern Field at Kennedy-Longfellow School\",\"Kearins Playground\",\"Kendall Street\",\"Kendall T\",\"Kenmore Square\",\"Kennedy-Longfellow School 158 Spring St\",\"Lafayette at Leach St\",\"Lafayette Square at Mass Ave \\u002f Main St \\u002f Columbia St\",\"Landmark Center - Brookline Ave at Park Dr\",\"Langley Lot\",\"Lansdowne T Stop\",\"Lenox St at Kendall St\",\"Lesley University\",\"Lewis Mall Wharf\",\"Lewis Wharf at Atlantic Ave\",\"Linear Park - Mass. Ave. at Cameron Ave. \",\"Linwood St at Minuteman Bikeway\",\"Longwood Ave at Binney St\",\"Lower Cambridgeport at Magazine St \\u002f Riverside Rd\",\"Magoun Square at Trum Field\",\"Main St at Austin St\",\"Main St at Baldwin St\",\"Main St at Brooks Park\",\"Main St at Thompson Sq\",\"Main Street\\u002fAlbany Street\\u002fTechnology Square\",\"Malden Center T Station\",\"Malden High School\",\"Marion St at Harvard St\",\"Martha Eliot Health Center\",\"Mass Ave at Albany St\",\"Mass Ave at Hadley\\u002fWalden\",\"Mass Ave T Station\",\"Mass Ave\\u002fLafayette Square\",\"Massachusetts Ave at Columbus Ave\",\"Mattapan Library\",\"Mattapan T Stop\",\"Maverick Square - Lewis Mall\",\"Maverick St at Massport Path\",\"Mayor Salvo Path at Mill St\",\"Meaney Playground - Pleasant St at E Cottage St\",\"Medford Sq - Riverside Ave at River St\",\"Medford St at Charlestown BCYF\",\"MIT at Mass Ave \\u002f Amherst St\",\"MIT Carleton St at Amherst St\",\"MIT Hayward St at Amherst St\",\"MIT Pacific St at Purrington St\",\"MIT Stata Center at Vassar St \\u002f Main St\",\"MIT Vassar St\",\"MLK Blvd at Washington St\",\"Morgan Ave at North First St\",\"Morton St at Gallivan Blvd\",\"Mt Auburn\",\"Mugar Way at Beacon St\",\"Murphy Skating Rink - 1880 Day Blvd\",\"Museum of Science\",\"Nashua Street at Red Auerbach Way\",\"NCAAA - Walnut Ave at Crawford St\",\"New Balance - 20 Guest St\",\"Newmarket Square T Stop - Massachusetts Ave at Newmarket Square\",\"Newton Highlands T\",\"Newton Library\",\"Nichols Ave. at Watertown Greenway\",\"Nonantum Library\",\"North St at Liberty Hill Ave\",\"Northern Strand at Main St\",\"Oak Square - 615 Washington St\",\"Old Morse Park at Putnam Ave\",\"One Beacon St\",\"One Brigham Circle\",\"One Broadway \\u002f Kendall Sq at Main St \\u002f 3rd St\",\"One Kendall Square at Hampshire St \\u002f Portland St\",\"One Memorial Drive\",\"Orient Heights T Stop - Bennington St at Saratoga St\",\"Orr Sq (Shirley Ave)\",\"Packard Ave at Powderhouse Blvd\",\"Packard's Corner - Commonwealth Ave at Brighton Ave\",\"Park Dr at Buswell St\",\"Park Plaza at Charles St S.\",\"Parker St at Huntington Ave\",\"Perry Park\",\"Pier 4 Blvd at Autumn Ln\",\"Pope John High School\",\"Porter Square Station\",\"Porzio Park\",\"Powder House Circle - Nathan Tufts Park\",\"Prudential Center - 101 Huntington Ave\",\"Purchase St at Pearl St\",\"Railroad Lot and Minuteman Bikeway\",\"Raymond Park at Walden St\",\"Revere City Hall\",\"Revere Public Library\",\"Rindge Avenue - O'Neill Library\",\"Riverway at Brookline Ave\",\"Rogers St & Land Blvd\",\"Roslindale Village - South St\",\"Roslindale Village - Washington St\",\"Ross Playground\",\"Rowes Wharf at Atlantic Ave\",\"Roxbury Crossing T Stop - Columbus Ave at Tremont St\",\"Roxbury YMCA - Warren St at MLK Blvd\",\"Ruggles T Stop - Columbus Ave at Melnea Cass Blvd\",\"S Huntington Ave at Heath St\",\"Salem MBTA - Lower Level\",\"Salem MBTA - Washington at Federal St\",\"Salem State University - Bike Path at Loring Ave\",\"Savin Hill T Stop - S Sydney St at Bay St\",\"Seaport Blvd at Sleeper St\",\"Seaport Hotel - Congress St at Seaport Ln\",\"Seaport Square - Seaport Blvd at Northern Ave\",\"Sennott Park Broadway at Norfolk Street\",\"Shawmut Ave at Lenox St\",\"Shawmut Ave at Oak St W\",\"Shawmut T Stop\",\"Shetland Park - Congress at Peabody St\",\"Sidney Research Campus\\u002fErie Street at Waverly\",\"Silber Way\",\"Smith Pl at Wilson Rd\",\"Soldiers Field Park - 111 Western Ave\",\"Somerville City Hall\",\"Somerville City Hall Annex\",\"Somerville High School & Central Library\",\"Somerville Hospital\",\"South Boston Library - 646 E Broadway\",\"South End Library - Tremont St at W Newton St\",\"South Station - 700 Atlantic Ave\",\"Spaulding Rehabilitation Hospital - Charlestown Navy Yard\",\"Spring St at Powell St\",\"St Mary's\",\"St. Alphonsus St at Tremont St\",\"State Street at Channel Center\",\"Stony Brook T Stop\",\"Stuart St at Berkeley St\",\"Stuart St at Charles St\",\"Sullivan Square\",\"Sumner St at Shirley Ave\",\"Surface Rd at India St\",\"Surface Rd at Summer St\",\"Swan St. Park\",\"Sydney St at Carson St\",\"Talbot Ave At Blue Hill Ave\",\"Talbot Ave T Station\",\"Tappan St at Brookline Hills MBTA\",\"Teele Square\",\"The Dimock Center\",\"The Eddy - New St at Sumner St\",\"The Lawn on D\",\"The Overlook at St. Gabriel's\",\"Third at Binney\",\"Thorndike Field at Minuteman Bikeway\",\"Tremont St at E Berkeley St\",\"Tremont St at Hamilton Pl\",\"Tremont St at Northampton St\",\"Tremont St at W. Dedham St\",\"Tremont St at West St\",\"Tremont St. at Court St.\",\"Troy Boston\",\"Trum Field @ Cedar St (Temp Winter Station)\",\"Tufts Sq - Main St at Medford St\",\"Union Square - Brighton Ave at Cambridge St\",\"Union Square - Somerville\",\"Union Square East\",\"University of Massachusetts Boston - Campus Center\",\"University Park\",\"Valenti Way at Haverhill St\",\"Vassal Lane at Tobin\\u002fVLUS\",\"Verizon Innovation Hub 10 Ware Street\",\"Vinnin Square\",\"W Broadway at D St\",\"W Broadway at Dorchester St\",\"Walnut Ave at School St\",\"Warren St at Chelsea St\",\"Washington Sq\",\"Washington St @ New Washington St (Temp Winter Station)\",\"Washington St at Brock St\",\"Washington St at Crafts St\",\"Washington St at Lenox St\",\"Washington St at Melnea Cass Blvd\",\"Washington St at Rutland St\",\"Washington St at Talbot Ave\",\"Washington St at Walnut St\",\"Washington St at Waltham St\",\"Watermark Seaport - Boston Wharf Rd at Seaport Blvd\",\"Watertown City Hall\",\"Watertown Sq\",\"Watertown St at Albemarle Rd\",\"Wellington MBTA\",\"Wentworth Institute of Technology - Huntington Ave at Vancouver St\",\"West End Park\",\"West Newton\",\"Whittier St Health Center\",\"Williams St at Washington St\",\"Wilson Square\"],\"lat\":[42.34414899,42.36466403,42.36447457,42.38032335,42.28887,42.38100143,42.370803,42.38322727,42.390821,42.2681,42.28578,42.34178089,42.37500235,42.41143223,42.34960945,42.38078817,42.36550729,42.3936,42.39841773,42.39522187,42.36895181,42.33664795,42.39558846,42.396105,42.27881158,42.3636929,42.3625,42.36044136,42.29266593,42.36277389,42.2856944,42.39223284,42.4175909,42.34805541,42.350406,42.34807412,42.35711921,42.39936816,42.3294633,42.30367409,42.33006232,42.356052,42.3382668,42.28634589,42.39319611,42.38353252,42.38522394,42.37207658,42.36608797,42.27462067,42.286012,42.35892,42.33987892,42.34776345,42.37331213,42.35656092,42.30785224,42.35206005,42.35114198,42.34958942,42.34880382,42.34465063,42.34740621,42.3754476,42.37410622,42.52810052,42.33462893,42.34894857,42.36154571,42.3630455,42.3983606,42.3951715,42.39453079,42.36412659,42.39648358,42.41034691,42.38614141,42.34304858,42.33376473,42.33274392,42.37408991,42.345733,42.36514871,42.371141,42.37119728,42.373379,42.372969,42.36125722,42.36707407,42.39813565,42.2796076,42.366426,42.36507,42.37544913,42.3362358,42.28277901,42.28633199,42.35574335,42.36079297,42.37412455,42.39022671,42.40336946,42.39636528,42.37197678,42.351356,42.352409,42.34366582,42.37433925,42.29704126,42.406302,42.2556,42.33554308,42.36070284,42.2873611,42.34011512,42.309572,42.33023071,42.34474225,42.35169202,42.35154735,42.34024645,42.34922469,42.34835863,42.520136,42.39407224,42.392525,42.390719,42.36041775,42.3481,42.38363895,42.3834575,42.341598,42.37207611,42.34992828,42.362811,42.26998847,42.309054,42.32784317,42.36178044,42.388966,42.389456,42.35096144,42.396969,42.379295,42.34924377,42.52009618,42.39790817,42.34404051,42.291718,42.32984299,42.325333,42.369536,42.38762811,42.38717463,42.378965,42.369885,42.315692,42.39329263,42.516223,42.40701602,42.35339051,42.3334,42.29963349,42.33420351,42.3930184,42.300923,42.506395,42.339202,42.39108438,42.30412793,42.30321535,42.309796,42.303469,42.38267828,42.3664204,42.36300378,42.28297568,42.31886468,42.3867355,42.41427294,42.520897,42.3730798,42.37057753,42.3598254,42.3829443,42.408156,42.310579,42.30791,42.39638681,42.42333137,42.4153271,42.30981925,42.41081837,42.3494261,42.339194,42.34521562,42.34953017,42.3722168,42.379011,42.3733288,42.373268,42.34435176,42.36599433,42.368019,42.377945,42.376369,42.366621,42.380287,42.36923907,42.5223714,42.32464511,42.33741748,42.3602737,42.38004535,42.40721644,42.33658555,42.38165061,42.29606705,42.2568376,42.32176526,42.344827,42.344796,42.345901,42.37426714,42.36371276,42.32293117,42.30604563,42.34655124,42.32033974,42.36903567,42.40616124,42.36356016,42.36242784,42.348706,42.36955298,42.51142784,42.36346469,42.34369056,42.330528,42.34734473,42.33759485,42.38674802,42.36567871,42.363871,42.397828,42.40935396,42.338629,42.3572185,42.3977834,42.375603,42.380857,42.411709,42.37487847,42.3629016,42.426541,42.42653766,42.34012243,42.324173,42.36135838,42.39120972,42.34135616,42.36356499,42.340835,42.2773889,42.267902,42.36884408,42.36774122,42.5180352,42.31870275,42.417724,42.38042947,42.3581,42.36054174,42.36085937,42.3595732,42.36213123,42.35560121,42.32143814,42.37197726,42.278747,42.37478629,42.35553628,42.336448,42.36769018,42.365673,42.316902,42.35732922,42.326599,42.32206566,42.33620337,42.36762049,42.36068456,42.52989965,42.42386,42.35057,42.35766248,42.35847764,42.3339227,42.36224179,42.366277,42.36161932,42.386781,42.40715656,42.40449,42.352261,42.347241,42.35182807,42.33848849,42.37927325,42.3502102,42.4203487,42.387995,42.36411904,42.400877,42.34652004,42.354659,42.41606457,42.38736954,42.40741,42.408088,42.392766,42.33661006,42.36644674,42.287072,42.28630716,42.2645666,42.357143,42.331184,42.31787329,42.33624445,42.32760387,42.523994,42.52345239,42.50182399,42.3106,42.35317809,42.34881026,42.35148193,42.36860524,42.33584613,42.34854543,42.292917,42.51836788,42.35775309,42.349496,42.39239749,42.36426344,42.386844,42.39189812,42.3864,42.39044622,42.335741,42.341332,42.352175,42.378338,42.27748444,42.34619708,42.33329255,42.344137,42.316966,42.34954403,42.351146,42.38445226,42.40833706,42.358155,42.3529457,42.41250451,42.32039374,42.2945833,42.29225148,42.33137017,42.4008795,42.31930943,42.370744,42.344792,42.34679008,42.36544486,42.40016805,42.345392,42.35668335,42.3384318,42.34254914,42.354979,42.359322,42.343749,42.398444,42.401697,42.353334,42.3796479,42.380078,42.31218918,42.36264779,42.36473899,42.38536765,42.37250865,42.48628785,42.3391085,42.33595898,42.31242399,42.371848,42.33985827,42.38103732,42.34895285,42.35389024,42.33509899,42.332817,42.3385146,42.290333,42.35145812,42.34157472,42.351586,42.36759308,42.36526032,42.35410408,42.4023682,42.33758601,42.36590788,42.3496005,42.33286288,42.306539,42.38567579],\"legendgroup\":\"\",\"lon\":[-71.11467361,-71.17569387,-71.12840831,-71.10878613,-71.095003,-71.10402523,-71.104412,-71.10606909,-71.143946,-71.11924,-71.109725,-71.03987017,-71.14871614,-71.06823265,-71.10391524,-71.15412891,-71.0801376,-71.143941,-71.02390923,-71.14421904,-71.1099878,-71.0689446,-71.14260614,-71.139459,-71.11687703,-71.0875672,-71.08822,-71.0504394,-71.12119539,-71.15764854,-71.0641389,-71.07746601,-71.12608128,-71.24775946,-71.108279,-71.07657015,-71.18604537,-71.11111522,-71.0901582,-71.05425954,-71.20668411,-71.069849,-71.13894682,-71.1367213,-71.0334456,-71.01619095,-71.01063069,-71.08995434,-71.08633604,-71.09372552,-71.090986,-71.057629,-71.16708934,-71.04535997,-71.04102008,-71.14167538,-71.06512249,-71.07046366,-71.07329249,-71.07946779,-71.08236909,-71.09732501,-71.08678415,-71.09117389,-71.03276253,-70.88971138,-71.10407918,-71.15027189,-71.13776207,-71.08287079,-71.06373843,-71.09850592,-71.03085594,-71.08738632,-71.0654676,-71.05260458,-71.0782814,-71.0580343,-71.12046447,-71.11626681,-71.06905997,-71.100694,-71.20236039,-71.076198,-71.09759867,-71.111075,-71.094445,-71.06528744,-71.07679278,-71.03070972,-71.0602212,-71.105495,-71.1031,-71.03918549,-71.1934421,-71.15728851,-71.15344755,-71.18641943,-71.07118962,-71.054812,-71.03857018,-71.04731441,-71.03987179,-71.07200496,-71.059367,-71.062679,-71.08582377,-71.11966431,-71.09171927,-71.132446,-71.12444,-71.1506152,-71.05524927,-71.071111,-71.10061884,-71.0729,-71.05060093,-71.07648162,-71.11903489,-71.12126246,-71.15168806,-71.13275303,-71.13997217,-70.906271,-71.11133695,-71.105587,-71.1538877,-71.05752244,-71.03764,-71.10853672,-71.1077106,-71.123338,-71.15683131,-71.07739207,-71.056067,-71.09746183,-71.11543,-71.12536222,-71.10809952,-71.132788,-71.139019,-71.07782811,-71.123024,-71.027733,-71.0972821,-70.89139044,-71.14797131,-71.05737627,-71.062571,-71.08386572,-71.075354,-71.039431,-71.08318716,-71.08714389,-71.068607,-71.069957,-71.098634,-71.0724476,-70.905535,-71.05645001,-71.0445714,-71.02495,-71.06068976,-71.08767617,-71.08071685,-71.114249,-70.88693,-71.090511,-71.09039426,-71.07929528,-71.07820988,-71.092225,-71.085347,-71.14347895,-71.0885418,-71.08974038,-71.05466698,-71.04536798,-71.0946444,-71.04479656,-70.910528,-71.08634234,-71.0355854,-71.05979576,-71.12449831,-71.0429,-71.107341,-71.080952,-71.12011306,-71.09124541,-71.0528183,-71.06019938,-71.08152866,-71.0620996,-71.06975,-71.06384031,-71.13022771,-71.12188071,-71.119945,-71.12098601,-71.118579,-71.12490356,-71.09522222,-71.1242,-71.116865,-71.114025,-71.114214,-71.125107,-71.11687034,-70.8903331,-71.12135231,-71.10286117,-71.12852452,-71.07304573,-71.09651506,-71.09886996,-71.13426981,-71.116012,-71.122509,-71.10984161,-71.028664,-71.031614,-71.063187,-71.10026479,-71.12459779,-71.10014141,-71.11570891,-71.12833211,-71.05118036,-71.0863096,-71.06041655,-71.08216792,-71.08495474,-71.097009,-71.08579015,-70.89183301,-71.10057324,-71.10235287,-71.192861,-71.10016808,-71.08255059,-71.11901879,-71.04030132,-71.050877,-71.130516,-71.14906519,-71.1065,-71.11387163,-71.10594004,-71.064608,-71.070629,-71.110444,-71.06383499,-71.0915669,-71.073179,-71.06393695,-71.12070564,-71.10196,-71.09670274,-71.12260755,-71.08336953,-71.10044184,-71.0816197,-71.09325,-71.093641,-71.03977829,-71.03335975,-70.89570075,-71.05889978,-71.108102,-71.06055722,-71.093198,-71.08669817,-71.08551858,-71.10129476,-71.09115601,-71.10394478,-71.09126061,-71.07585847,-71.080286,-71.13320231,-71.0728687,-71.023739,-71.07116282,-71.064263,-71.091946,-71.1467354,-71.066498,-71.20637298,-71.20779455,-71.15656637,-71.201462,-70.90614259,-71.067793,-71.166491,-71.10841334,-71.0613513,-71.10446509,-71.08311072,-71.09169,-71.08043551,-71.006098,-70.9927243,-71.123413,-71.123831,-71.105301,-71.06781138,-71.09261138,-71.10341903,-71.0446705,-71.04419768,-71.119084,-71.02876782,-71.116772,-71.08065777,-71.053181,-71.15336637,-71.12761001,-71.0139,-71.008942,-71.129042,-71.1100468,-71.07654601,-71.127754,-71.12820532,-71.1145523,-71.050699,-71.095171,-71.08243078,-71.08798563,-71.1108917,-70.89684,-70.89611113,-70.89478076,-71.0539,-71.04817357,-71.04167744,-71.04436085,-71.09930186,-71.08038157,-71.06559185,-71.06575,-70.88952363,-71.10393405,-71.10057592,-71.15058332,-71.1182757,-71.09812,-71.09745376,-71.09601,-71.10856622,-71.03877,-71.076847,-71.055547,-71.048927,-71.16341468,-71.10728681,-71.10124648,-71.052608,-71.104374,-71.07242074,-71.066289,-71.07514855,-70.99804848,-71.052163,-71.05656401,-71.05842225,-71.05355408,-71.087111,-71.07797205,-71.12688361,-71.12590793,-71.09639924,-71.044201,-71.044024,-71.14549814,-71.08277142,-71.14456963,-71.069616,-71.06166646,-71.0816905,-71.07421449,-71.063348,-71.059624,-71.062256,-71.107833,-71.106128,-71.137313,-71.09540476,-71.090098,-71.03648586,-71.10006094,-71.05934903,-71.13775671,-71.11305356,-70.90166733,-71.0514432,-71.046229,-71.09616905,-71.060292,-71.13421171,-71.08709779,-71.16031677,-71.19943707,-71.07903779,-71.081198,-71.07404083,-71.071806,-71.20764971,-71.0689044,-71.04569256,-71.18751436,-71.18573324,-71.21382214,-71.07573182,-71.09627098,-71.06446669,-71.22627497,-71.09218862,-71.107669,-71.11412136],\"marker\":{\"color\":[0,0,344,0,2352,0,0,0,0,3731,2071,313,0,0,110,0,0,0,0,0,0,8887,0,0,5151,0,0,527,4052,669,3856,0,0,1,160,1378,0,0,2717,3456,0,1662,675,5519,0,2020,1229,0,0,2762,18307,3360,569,230,1093,961,11849,1194,3007,2399,4722,3717,6129,0,2712,0,301,9459,1538,0,0,0,0,0,40,0,435,1078,0,192,307,1339,0,0,0,0,0,3327,0,0,3181,0,0,6833,0,2237,8142,0,2400,3734,107,0,0,0,3752,6874,3931,0,1151,0,17181,1105,2454,5575,249,10946,9318,1488,851,354,3372,2621,3607,0,0,0,0,1456,257,0,0,0,0,2702,3002,5914,2617,0,0,0,0,1931,0,4227,174,0,0,82,4742,17258,10952,4856,0,0,1143,0,5374,96,0,0,507,1316,24215,1121,0,1573,2,1346,0,3417,7064,4065,5853,0,0,0,6201,1553,0,0,0,0,1221,6604,0,0,7446,9218,0,0,0,6574,0,1521,10917,2116,3383,0,0,0,0,1,0,92,0,0,0,0,0,0,172,595,1991,111,0,922,0,1232,4816,4202,55,115,350,0,88,2947,1546,0,298,0,0,0,0,2286,0,0,0,1110,0,898,1536,0,297,2404,0,0,837,1,0,970,669,0,968,0,0,1,0,5226,2,0,1313,0,1570,5935,4196,1349,1351,0,10131,0,3485,0,0,0,0,0,0,3007,0,10045,0,1052,473,196,1470,3841,2732,8742,0,0,0,0,0,0,2582,0,1357,2649,0,0,0,3243,0,0,1544,714,1167,426,1,81,0,0,375,0,3379,1385,0,0,0,0,0,2153,0,1495,2933,4296,452,2690,10697,786,1825,0,0,0,2605,1519,75,269,0,1224,1848,3352,0,0,192,0,153,0,0,0,0,4631,1913,892,321,7150,75,2365,6688,2009,1890,2610,722,0,2382,2176,0,2244,7338,9173,1,0,2467,590,518,3359,0,0,2359,8267,1852,2199,3064,1212,914,0,0,3598,0,0,40,0,6441,0,0,0,4759,4023,2764,911,0,0,2311,0,6275,3036,6306,7179,0,1806,422,0,0,0,0,617,368,0,3127,2103,0],\"coloraxis\":\"coloraxis\"},\"mode\":\"markers\",\"name\":\"\",\"showlegend\":false,\"subplot\":\"mapbox\",\"type\":\"scattermapbox\"}],                        {\"template\":{\"data\":{\"histogram2dcontour\":[{\"type\":\"histogram2dcontour\",\"colorbar\":{\"outlinewidth\":0,\"ticks\":\"\"},\"colorscale\":[[0.0,\"#0d0887\"],[0.1111111111111111,\"#46039f\"],[0.2222222222222222,\"#7201a8\"],[0.3333333333333333,\"#9c179e\"],[0.4444444444444444,\"#bd3786\"],[0.5555555555555556,\"#d8576b\"],[0.6666666666666666,\"#ed7953\"],[0.7777777777777778,\"#fb9f3a\"],[0.8888888888888888,\"#fdca26\"],[1.0,\"#f0f921\"]]}],\"choropleth\":[{\"type\":\"choropleth\",\"colorbar\":{\"outlinewidth\":0,\"ticks\":\"\"}}],\"histogram2d\":[{\"type\":\"histogram2d\",\"colorbar\":{\"outlinewidth\":0,\"ticks\":\"\"},\"colorscale\":[[0.0,\"#0d0887\"],[0.1111111111111111,\"#46039f\"],[0.2222222222222222,\"#7201a8\"],[0.3333333333333333,\"#9c179e\"],[0.4444444444444444,\"#bd3786\"],[0.5555555555555556,\"#d8576b\"],[0.6666666666666666,\"#ed7953\"],[0.7777777777777778,\"#fb9f3a\"],[0.8888888888888888,\"#fdca26\"],[1.0,\"#f0f921\"]]}],\"heatmap\":[{\"type\":\"heatmap\",\"colorbar\":{\"outlinewidth\":0,\"ticks\":\"\"},\"colorscale\":[[0.0,\"#0d0887\"],[0.1111111111111111,\"#46039f\"],[0.2222222222222222,\"#7201a8\"],[0.3333333333333333,\"#9c179e\"],[0.4444444444444444,\"#bd3786\"],[0.5555555555555556,\"#d8576b\"],[0.6666666666666666,\"#ed7953\"],[0.7777777777777778,\"#fb9f3a\"],[0.8888888888888888,\"#fdca26\"],[1.0,\"#f0f921\"]]}],\"heatmapgl\":[{\"type\":\"heatmapgl\",\"colorbar\":{\"outlinewidth\":0,\"ticks\":\"\"},\"colorscale\":[[0.0,\"#0d0887\"],[0.1111111111111111,\"#46039f\"],[0.2222222222222222,\"#7201a8\"],[0.3333333333333333,\"#9c179e\"],[0.4444444444444444,\"#bd3786\"],[0.5555555555555556,\"#d8576b\"],[0.6666666666666666,\"#ed7953\"],[0.7777777777777778,\"#fb9f3a\"],[0.8888888888888888,\"#fdca26\"],[1.0,\"#f0f921\"]]}],\"contourcarpet\":[{\"type\":\"contourcarpet\",\"colorbar\":{\"outlinewidth\":0,\"ticks\":\"\"}}],\"contour\":[{\"type\":\"contour\",\"colorbar\":{\"outlinewidth\":0,\"ticks\":\"\"},\"colorscale\":[[0.0,\"#0d0887\"],[0.1111111111111111,\"#46039f\"],[0.2222222222222222,\"#7201a8\"],[0.3333333333333333,\"#9c179e\"],[0.4444444444444444,\"#bd3786\"],[0.5555555555555556,\"#d8576b\"],[0.6666666666666666,\"#ed7953\"],[0.7777777777777778,\"#fb9f3a\"],[0.8888888888888888,\"#fdca26\"],[1.0,\"#f0f921\"]]}],\"surface\":[{\"type\":\"surface\",\"colorbar\":{\"outlinewidth\":0,\"ticks\":\"\"},\"colorscale\":[[0.0,\"#0d0887\"],[0.1111111111111111,\"#46039f\"],[0.2222222222222222,\"#7201a8\"],[0.3333333333333333,\"#9c179e\"],[0.4444444444444444,\"#bd3786\"],[0.5555555555555556,\"#d8576b\"],[0.6666666666666666,\"#ed7953\"],[0.7777777777777778,\"#fb9f3a\"],[0.8888888888888888,\"#fdca26\"],[1.0,\"#f0f921\"]]}],\"mesh3d\":[{\"type\":\"mesh3d\",\"colorbar\":{\"outlinewidth\":0,\"ticks\":\"\"}}],\"scatter\":[{\"fillpattern\":{\"fillmode\":\"overlay\",\"size\":10,\"solidity\":0.2},\"type\":\"scatter\"}],\"parcoords\":[{\"type\":\"parcoords\",\"line\":{\"colorbar\":{\"outlinewidth\":0,\"ticks\":\"\"}}}],\"scatterpolargl\":[{\"type\":\"scatterpolargl\",\"marker\":{\"colorbar\":{\"outlinewidth\":0,\"ticks\":\"\"}}}],\"bar\":[{\"error_x\":{\"color\":\"#2a3f5f\"},\"error_y\":{\"color\":\"#2a3f5f\"},\"marker\":{\"line\":{\"color\":\"#E5ECF6\",\"width\":0.5},\"pattern\":{\"fillmode\":\"overlay\",\"size\":10,\"solidity\":0.2}},\"type\":\"bar\"}],\"scattergeo\":[{\"type\":\"scattergeo\",\"marker\":{\"colorbar\":{\"outlinewidth\":0,\"ticks\":\"\"}}}],\"scatterpolar\":[{\"type\":\"scatterpolar\",\"marker\":{\"colorbar\":{\"outlinewidth\":0,\"ticks\":\"\"}}}],\"histogram\":[{\"marker\":{\"pattern\":{\"fillmode\":\"overlay\",\"size\":10,\"solidity\":0.2}},\"type\":\"histogram\"}],\"scattergl\":[{\"type\":\"scattergl\",\"marker\":{\"colorbar\":{\"outlinewidth\":0,\"ticks\":\"\"}}}],\"scatter3d\":[{\"type\":\"scatter3d\",\"line\":{\"colorbar\":{\"outlinewidth\":0,\"ticks\":\"\"}},\"marker\":{\"colorbar\":{\"outlinewidth\":0,\"ticks\":\"\"}}}],\"scattermapbox\":[{\"type\":\"scattermapbox\",\"marker\":{\"colorbar\":{\"outlinewidth\":0,\"ticks\":\"\"}}}],\"scatterternary\":[{\"type\":\"scatterternary\",\"marker\":{\"colorbar\":{\"outlinewidth\":0,\"ticks\":\"\"}}}],\"scattercarpet\":[{\"type\":\"scattercarpet\",\"marker\":{\"colorbar\":{\"outlinewidth\":0,\"ticks\":\"\"}}}],\"carpet\":[{\"aaxis\":{\"endlinecolor\":\"#2a3f5f\",\"gridcolor\":\"white\",\"linecolor\":\"white\",\"minorgridcolor\":\"white\",\"startlinecolor\":\"#2a3f5f\"},\"baxis\":{\"endlinecolor\":\"#2a3f5f\",\"gridcolor\":\"white\",\"linecolor\":\"white\",\"minorgridcolor\":\"white\",\"startlinecolor\":\"#2a3f5f\"},\"type\":\"carpet\"}],\"table\":[{\"cells\":{\"fill\":{\"color\":\"#EBF0F8\"},\"line\":{\"color\":\"white\"}},\"header\":{\"fill\":{\"color\":\"#C8D4E3\"},\"line\":{\"color\":\"white\"}},\"type\":\"table\"}],\"barpolar\":[{\"marker\":{\"line\":{\"color\":\"#E5ECF6\",\"width\":0.5},\"pattern\":{\"fillmode\":\"overlay\",\"size\":10,\"solidity\":0.2}},\"type\":\"barpolar\"}],\"pie\":[{\"automargin\":true,\"type\":\"pie\"}]},\"layout\":{\"autotypenumbers\":\"strict\",\"colorway\":[\"#636efa\",\"#EF553B\",\"#00cc96\",\"#ab63fa\",\"#FFA15A\",\"#19d3f3\",\"#FF6692\",\"#B6E880\",\"#FF97FF\",\"#FECB52\"],\"font\":{\"color\":\"#2a3f5f\"},\"hovermode\":\"closest\",\"hoverlabel\":{\"align\":\"left\"},\"paper_bgcolor\":\"white\",\"plot_bgcolor\":\"#E5ECF6\",\"polar\":{\"bgcolor\":\"#E5ECF6\",\"angularaxis\":{\"gridcolor\":\"white\",\"linecolor\":\"white\",\"ticks\":\"\"},\"radialaxis\":{\"gridcolor\":\"white\",\"linecolor\":\"white\",\"ticks\":\"\"}},\"ternary\":{\"bgcolor\":\"#E5ECF6\",\"aaxis\":{\"gridcolor\":\"white\",\"linecolor\":\"white\",\"ticks\":\"\"},\"baxis\":{\"gridcolor\":\"white\",\"linecolor\":\"white\",\"ticks\":\"\"},\"caxis\":{\"gridcolor\":\"white\",\"linecolor\":\"white\",\"ticks\":\"\"}},\"coloraxis\":{\"colorbar\":{\"outlinewidth\":0,\"ticks\":\"\"}},\"colorscale\":{\"sequential\":[[0.0,\"#0d0887\"],[0.1111111111111111,\"#46039f\"],[0.2222222222222222,\"#7201a8\"],[0.3333333333333333,\"#9c179e\"],[0.4444444444444444,\"#bd3786\"],[0.5555555555555556,\"#d8576b\"],[0.6666666666666666,\"#ed7953\"],[0.7777777777777778,\"#fb9f3a\"],[0.8888888888888888,\"#fdca26\"],[1.0,\"#f0f921\"]],\"sequentialminus\":[[0.0,\"#0d0887\"],[0.1111111111111111,\"#46039f\"],[0.2222222222222222,\"#7201a8\"],[0.3333333333333333,\"#9c179e\"],[0.4444444444444444,\"#bd3786\"],[0.5555555555555556,\"#d8576b\"],[0.6666666666666666,\"#ed7953\"],[0.7777777777777778,\"#fb9f3a\"],[0.8888888888888888,\"#fdca26\"],[1.0,\"#f0f921\"]],\"diverging\":[[0,\"#8e0152\"],[0.1,\"#c51b7d\"],[0.2,\"#de77ae\"],[0.3,\"#f1b6da\"],[0.4,\"#fde0ef\"],[0.5,\"#f7f7f7\"],[0.6,\"#e6f5d0\"],[0.7,\"#b8e186\"],[0.8,\"#7fbc41\"],[0.9,\"#4d9221\"],[1,\"#276419\"]]},\"xaxis\":{\"gridcolor\":\"white\",\"linecolor\":\"white\",\"ticks\":\"\",\"title\":{\"standoff\":15},\"zerolinecolor\":\"white\",\"automargin\":true,\"zerolinewidth\":2},\"yaxis\":{\"gridcolor\":\"white\",\"linecolor\":\"white\",\"ticks\":\"\",\"title\":{\"standoff\":15},\"zerolinecolor\":\"white\",\"automargin\":true,\"zerolinewidth\":2},\"scene\":{\"xaxis\":{\"backgroundcolor\":\"#E5ECF6\",\"gridcolor\":\"white\",\"linecolor\":\"white\",\"showbackground\":true,\"ticks\":\"\",\"zerolinecolor\":\"white\",\"gridwidth\":2},\"yaxis\":{\"backgroundcolor\":\"#E5ECF6\",\"gridcolor\":\"white\",\"linecolor\":\"white\",\"showbackground\":true,\"ticks\":\"\",\"zerolinecolor\":\"white\",\"gridwidth\":2},\"zaxis\":{\"backgroundcolor\":\"#E5ECF6\",\"gridcolor\":\"white\",\"linecolor\":\"white\",\"showbackground\":true,\"ticks\":\"\",\"zerolinecolor\":\"white\",\"gridwidth\":2}},\"shapedefaults\":{\"line\":{\"color\":\"#2a3f5f\"}},\"annotationdefaults\":{\"arrowcolor\":\"#2a3f5f\",\"arrowhead\":0,\"arrowwidth\":1},\"geo\":{\"bgcolor\":\"white\",\"landcolor\":\"#E5ECF6\",\"subunitcolor\":\"white\",\"showland\":true,\"showlakes\":true,\"lakecolor\":\"white\"},\"title\":{\"x\":0.05},\"mapbox\":{\"style\":\"light\"}}},\"mapbox\":{\"domain\":{\"x\":[0.0,1.0],\"y\":[0.0,1.0]},\"center\":{\"lat\":42.36139627636579,\"lon\":-71.08680946736342},\"accesstoken\":\"pk.eyJ1IjoiaGh3dSIsImEiOiJjbHN4dWw3bDMwNnl1MmpvNmR4NGV3MzZyIn0.IVqdEW_S0XsUExEQs1xLaQ\",\"zoom\":8},\"coloraxis\":{\"colorbar\":{\"title\":{\"text\":\"count\"}},\"colorscale\":[[0.0,\"#0d0887\"],[0.1111111111111111,\"#46039f\"],[0.2222222222222222,\"#7201a8\"],[0.3333333333333333,\"#9c179e\"],[0.4444444444444444,\"#bd3786\"],[0.5555555555555556,\"#d8576b\"],[0.6666666666666666,\"#ed7953\"],[0.7777777777777778,\"#fb9f3a\"],[0.8888888888888888,\"#fdca26\"],[1.0,\"#f0f921\"]]},\"legend\":{\"tracegroupgap\":0},\"margin\":{\"t\":60}},                        {\"responsive\": true}                    ).then(function(){\n",
       "                            \n",
       "var gd = document.getElementById('419fc64f-5ea6-4e05-8214-45cf30726594');\n",
       "var x = new MutationObserver(function (mutations, observer) {{\n",
       "        var display = window.getComputedStyle(gd).display;\n",
       "        if (!display || display === 'none') {{\n",
       "            console.log([gd, 'removed!']);\n",
       "            Plotly.purge(gd);\n",
       "            observer.disconnect();\n",
       "        }}\n",
       "}});\n",
       "\n",
       "// Listen for the removal of the full notebook cells\n",
       "var notebookContainer = gd.closest('#notebook-container');\n",
       "if (notebookContainer) {{\n",
       "    x.observe(notebookContainer, {childList: true});\n",
       "}}\n",
       "\n",
       "// Listen for the clearing of the current output cell\n",
       "var outputEl = gd.closest('.output');\n",
       "if (outputEl) {{\n",
       "    x.observe(outputEl, {childList: true});\n",
       "}}\n",
       "\n",
       "                        })                };                });            </script>        </div>"
      ]
     },
     "metadata": {},
     "output_type": "display_data"
    }
   ],
   "source": [
    "fig = px.scatter_mapbox(stations, lat='Latitude', lon='Longitude',\n",
    "                         color='count',\n",
    "                        hover_name='Name', hover_data=['count', 'District'])\n",
    "fig.show()"
   ]
  },
  {
   "cell_type": "code",
   "execution_count": 46,
   "metadata": {},
   "outputs": [
    {
     "data": {
      "application/vnd.plotly.v1+json": {
       "config": {
        "plotlyServerURL": "https://plot.ly"
       },
       "data": [
        {
         "customdata": [
          [
           0
          ],
          [
           0
          ],
          [
           344
          ],
          [
           0
          ],
          [
           2352
          ],
          [
           0
          ],
          [
           0
          ],
          [
           0
          ],
          [
           0
          ],
          [
           3731
          ],
          [
           2071
          ],
          [
           313
          ],
          [
           0
          ],
          [
           0
          ],
          [
           110
          ],
          [
           0
          ],
          [
           0
          ],
          [
           0
          ],
          [
           0
          ],
          [
           0
          ],
          [
           0
          ],
          [
           8887
          ],
          [
           0
          ],
          [
           0
          ],
          [
           5151
          ],
          [
           0
          ],
          [
           0
          ],
          [
           527
          ],
          [
           4052
          ],
          [
           669
          ],
          [
           3856
          ],
          [
           0
          ],
          [
           0
          ],
          [
           1
          ],
          [
           160
          ],
          [
           1378
          ],
          [
           0
          ],
          [
           0
          ],
          [
           2717
          ],
          [
           3456
          ],
          [
           0
          ],
          [
           1662
          ],
          [
           675
          ],
          [
           5519
          ],
          [
           0
          ],
          [
           2020
          ],
          [
           1229
          ],
          [
           0
          ],
          [
           0
          ],
          [
           2762
          ],
          [
           18307
          ],
          [
           3360
          ],
          [
           569
          ],
          [
           230
          ],
          [
           1093
          ],
          [
           961
          ],
          [
           11849
          ],
          [
           1194
          ],
          [
           3007
          ],
          [
           2399
          ],
          [
           4722
          ],
          [
           3717
          ],
          [
           6129
          ],
          [
           0
          ],
          [
           2712
          ],
          [
           0
          ],
          [
           301
          ],
          [
           9459
          ],
          [
           1538
          ],
          [
           0
          ],
          [
           0
          ],
          [
           0
          ],
          [
           0
          ],
          [
           0
          ],
          [
           40
          ],
          [
           0
          ],
          [
           435
          ],
          [
           1078
          ],
          [
           0
          ],
          [
           192
          ],
          [
           307
          ],
          [
           1339
          ],
          [
           0
          ],
          [
           0
          ],
          [
           0
          ],
          [
           0
          ],
          [
           0
          ],
          [
           3327
          ],
          [
           0
          ],
          [
           0
          ],
          [
           3181
          ],
          [
           0
          ],
          [
           0
          ],
          [
           6833
          ],
          [
           0
          ],
          [
           2237
          ],
          [
           8142
          ],
          [
           0
          ],
          [
           2400
          ],
          [
           3734
          ],
          [
           107
          ],
          [
           0
          ],
          [
           0
          ],
          [
           0
          ],
          [
           3752
          ],
          [
           6874
          ],
          [
           3931
          ],
          [
           0
          ],
          [
           1151
          ],
          [
           0
          ],
          [
           17181
          ],
          [
           1105
          ],
          [
           2454
          ],
          [
           5575
          ],
          [
           249
          ],
          [
           10946
          ],
          [
           9318
          ],
          [
           1488
          ],
          [
           851
          ],
          [
           354
          ],
          [
           3372
          ],
          [
           2621
          ],
          [
           3607
          ],
          [
           0
          ],
          [
           0
          ],
          [
           0
          ],
          [
           0
          ],
          [
           1456
          ],
          [
           257
          ],
          [
           0
          ],
          [
           0
          ],
          [
           0
          ],
          [
           0
          ],
          [
           2702
          ],
          [
           3002
          ],
          [
           5914
          ],
          [
           2617
          ],
          [
           0
          ],
          [
           0
          ],
          [
           0
          ],
          [
           0
          ],
          [
           1931
          ],
          [
           0
          ],
          [
           4227
          ],
          [
           174
          ],
          [
           0
          ],
          [
           0
          ],
          [
           82
          ],
          [
           4742
          ],
          [
           17258
          ],
          [
           10952
          ],
          [
           4856
          ],
          [
           0
          ],
          [
           0
          ],
          [
           1143
          ],
          [
           0
          ],
          [
           5374
          ],
          [
           96
          ],
          [
           0
          ],
          [
           0
          ],
          [
           507
          ],
          [
           1316
          ],
          [
           24215
          ],
          [
           1121
          ],
          [
           0
          ],
          [
           1573
          ],
          [
           2
          ],
          [
           1346
          ],
          [
           0
          ],
          [
           3417
          ],
          [
           7064
          ],
          [
           4065
          ],
          [
           5853
          ],
          [
           0
          ],
          [
           0
          ],
          [
           0
          ],
          [
           6201
          ],
          [
           1553
          ],
          [
           0
          ],
          [
           0
          ],
          [
           0
          ],
          [
           0
          ],
          [
           1221
          ],
          [
           6604
          ],
          [
           0
          ],
          [
           0
          ],
          [
           7446
          ],
          [
           9218
          ],
          [
           0
          ],
          [
           0
          ],
          [
           0
          ],
          [
           6574
          ],
          [
           0
          ],
          [
           1521
          ],
          [
           10917
          ],
          [
           2116
          ],
          [
           3383
          ],
          [
           0
          ],
          [
           0
          ],
          [
           0
          ],
          [
           0
          ],
          [
           1
          ],
          [
           0
          ],
          [
           92
          ],
          [
           0
          ],
          [
           0
          ],
          [
           0
          ],
          [
           0
          ],
          [
           0
          ],
          [
           0
          ],
          [
           172
          ],
          [
           595
          ],
          [
           1991
          ],
          [
           111
          ],
          [
           0
          ],
          [
           922
          ],
          [
           0
          ],
          [
           1232
          ],
          [
           4816
          ],
          [
           4202
          ],
          [
           55
          ],
          [
           115
          ],
          [
           350
          ],
          [
           0
          ],
          [
           88
          ],
          [
           2947
          ],
          [
           1546
          ],
          [
           0
          ],
          [
           298
          ],
          [
           0
          ],
          [
           0
          ],
          [
           0
          ],
          [
           0
          ],
          [
           2286
          ],
          [
           0
          ],
          [
           0
          ],
          [
           0
          ],
          [
           1110
          ],
          [
           0
          ],
          [
           898
          ],
          [
           1536
          ],
          [
           0
          ],
          [
           297
          ],
          [
           2404
          ],
          [
           0
          ],
          [
           0
          ],
          [
           837
          ],
          [
           1
          ],
          [
           0
          ],
          [
           970
          ],
          [
           669
          ],
          [
           0
          ],
          [
           968
          ],
          [
           0
          ],
          [
           0
          ],
          [
           1
          ],
          [
           0
          ],
          [
           5226
          ],
          [
           2
          ],
          [
           0
          ],
          [
           1313
          ],
          [
           0
          ],
          [
           1570
          ],
          [
           5935
          ],
          [
           4196
          ],
          [
           1349
          ],
          [
           1351
          ],
          [
           0
          ],
          [
           10131
          ],
          [
           0
          ],
          [
           3485
          ],
          [
           0
          ],
          [
           0
          ],
          [
           0
          ],
          [
           0
          ],
          [
           0
          ],
          [
           0
          ],
          [
           3007
          ],
          [
           0
          ],
          [
           10045
          ],
          [
           0
          ],
          [
           1052
          ],
          [
           473
          ],
          [
           196
          ],
          [
           1470
          ],
          [
           3841
          ],
          [
           2732
          ],
          [
           8742
          ],
          [
           0
          ],
          [
           0
          ],
          [
           0
          ],
          [
           0
          ],
          [
           0
          ],
          [
           0
          ],
          [
           2582
          ],
          [
           0
          ],
          [
           1357
          ],
          [
           2649
          ],
          [
           0
          ],
          [
           0
          ],
          [
           0
          ],
          [
           3243
          ],
          [
           0
          ],
          [
           0
          ],
          [
           1544
          ],
          [
           714
          ],
          [
           1167
          ],
          [
           426
          ],
          [
           1
          ],
          [
           81
          ],
          [
           0
          ],
          [
           0
          ],
          [
           375
          ],
          [
           0
          ],
          [
           3379
          ],
          [
           1385
          ],
          [
           0
          ],
          [
           0
          ],
          [
           0
          ],
          [
           0
          ],
          [
           0
          ],
          [
           2153
          ],
          [
           0
          ],
          [
           1495
          ],
          [
           2933
          ],
          [
           4296
          ],
          [
           452
          ],
          [
           2690
          ],
          [
           10697
          ],
          [
           786
          ],
          [
           1825
          ],
          [
           0
          ],
          [
           0
          ],
          [
           0
          ],
          [
           2605
          ],
          [
           1519
          ],
          [
           75
          ],
          [
           269
          ],
          [
           0
          ],
          [
           1224
          ],
          [
           1848
          ],
          [
           3352
          ],
          [
           0
          ],
          [
           0
          ],
          [
           192
          ],
          [
           0
          ],
          [
           153
          ],
          [
           0
          ],
          [
           0
          ],
          [
           0
          ],
          [
           0
          ],
          [
           4631
          ],
          [
           1913
          ],
          [
           892
          ],
          [
           321
          ],
          [
           7150
          ],
          [
           75
          ],
          [
           2365
          ],
          [
           6688
          ],
          [
           2009
          ],
          [
           1890
          ],
          [
           2610
          ],
          [
           722
          ],
          [
           0
          ],
          [
           2382
          ],
          [
           2176
          ],
          [
           0
          ],
          [
           2244
          ],
          [
           7338
          ],
          [
           9173
          ],
          [
           1
          ],
          [
           0
          ],
          [
           2467
          ],
          [
           590
          ],
          [
           518
          ],
          [
           3359
          ],
          [
           0
          ],
          [
           0
          ],
          [
           2359
          ],
          [
           8267
          ],
          [
           1852
          ],
          [
           2199
          ],
          [
           3064
          ],
          [
           1212
          ],
          [
           914
          ],
          [
           0
          ],
          [
           0
          ],
          [
           3598
          ],
          [
           0
          ],
          [
           0
          ],
          [
           40
          ],
          [
           0
          ],
          [
           6441
          ],
          [
           0
          ],
          [
           0
          ],
          [
           0
          ],
          [
           4759
          ],
          [
           4023
          ],
          [
           2764
          ],
          [
           911
          ],
          [
           0
          ],
          [
           0
          ],
          [
           2311
          ],
          [
           0
          ],
          [
           6275
          ],
          [
           3036
          ],
          [
           6306
          ],
          [
           7179
          ],
          [
           0
          ],
          [
           1806
          ],
          [
           422
          ],
          [
           0
          ],
          [
           0
          ],
          [
           0
          ],
          [
           0
          ],
          [
           617
          ],
          [
           368
          ],
          [
           0
          ],
          [
           3127
          ],
          [
           2103
          ],
          [
           0
          ]
         ],
         "hovertemplate": "<b>%{hovertext}</b><br><br>count=%{marker.color}<br>Latitude=%{lat}<br>Longitude=%{lon}<extra></extra>",
         "hovertext": [
          "1200 Beacon St",
          "160 Arsenal St",
          "175 N Harvard St",
          "191 Beacon St",
          "2 Hummingbird Lane at Olmsted Green",
          "30 Dane St",
          "359 Broadway - Broadway at Fayette Street",
          "515 Somerville Ave (Temp. Winter Location)",
          "55 Wheeler Street",
          "555 Metropolitan Ave",
          "606 American Legion Hwy at Canterbury St",
          "645 Summer St",
          "699 Mt Auburn St",
          "7 Acre Park",
          "700 Commonwealth Ave.",
          "700 Huron Ave",
          "75 Binney St",
          "84 Cambridgepark Dr",
          "855 Broadway",
          "87-101 Cambridgepark Drive",
          "955 Mass Ave",
          "Albany St at E. Brookline St",
          "Alewife MBTA at Steel Place",
          "Alewife Station at Russell Field",
          "American Legion Hwy at Cummins Hwy",
          "Ames St at Broadway",
          "Ames St at Main St",
          "Aquarium T Stop - 200 Atlantic Ave",
          "Archdale Rd at Washington St",
          "Arsenal Yards",
          "Ashmont T Stop",
          "Assembly Square T",
          "Auburn St. at Mystic River",
          "Auburndale",
          "B.U. Central - 725 Comm. Ave.",
          "Back Bay T Stop - Dartmouth St at Stuart St",
          "Bacon St at Washington St",
          "Ball Sq",
          "Bartlett St at John Elliot Sq",
          "Beach St at Freeport St",
          "Beacon at Walnut",
          "Beacon St at Charles St",
          "Beacon St at Tappan St",
          "Belgrade Ave at Walworth St",
          "Bellingham Square",
          "Bennington St at Byron St",
          "Bennington St at Constitution Beach",
          "Berkshire Street at Cambridge Street",
          "Binney St / Sixth St",
          "Blue Hill Ave at Almont St",
          "Blue Hill Ave at Havelock St",
          "Boston City Hall - 28 State St",
          "Boston College T",
          "Boston Convention and Exhibition Center - Summer St at West Side Dr",
          "Boston East - 126 Border St",
          "Boston Landing",
          "Bowdoin St at Quincy St",
          "Boylston St at Arlington St",
          "Boylston St at Berkeley St",
          "Boylston St at Exeter St",
          "Boylston St at Fairfield St",
          "Boylston St at Jersey St",
          "Boylston St at Massachusetts Ave",
          "Boynton Yards at 101 South Street",
          "Bremen St at Marion St",
          "Bridge Street Neck",
          "Brigham Circle - Francis St at Huntington Ave",
          "Brighton Center - Washington St at Cambridge St",
          "Brighton Mills - 370 Western Ave",
          "Broad Canal Way at Third Street",
          "Broadway at Beacham St",
          "Broadway at Central St",
          "Broadway at Gerrish Ave",
          "Broadway at Kittie Knox Bike Path",
          "Broadway at Lynde St",
          "Broadway at Maple St",
          "Broadway St at Mt Pleasant St",
          "Broadway T Stop",
          "Brookline Town Hall",
          "Brookline Village - Station Street at MBTA",
          "Bunker Hill Community College",
          "Burlington Ave at Brookline Ave",
          "California at Chapel",
          "Cambridge Crossing at North First Street",
          "Cambridge Dept. of Public Works -147 Hampshire St.",
          "Cambridge Main Library at Broadway / Trowbridge St",
          "Cambridge St - at Columbia St / Webster Ave",
          "Cambridge St at Joy St",
          "CambridgeSide Galleria - CambridgeSide PL at Land Blvd",
          "Cary Square",
          "Cedar Grove T Stop",
          "Central Sq Post Office / Cambridge City Hall at Mass Ave / Pleasant St",
          "Central Square at Mass Ave / Essex St",
          "Central Square East Boston",
          "Centre St at Commonwealth Ave",
          "Centre St at Parkway YMCA",
          "Centre St at W. Roxbury Post Office",
          "Centre St at Washington St",
          "Charles Circle - Charles St at Cambridge St",
          "Charlestown Navy Yard",
          "Chelsea Square",
          "Chelsea St at Vine St",
          "Chelsea Station",
          "Child Street at Brian P. Murphy Staircase",
          "Chinatown Gate Plaza",
          "Chinatown T Stop",
          "Christian Science Plaza - Massachusetts Ave at Westland Ave",
          "Church St",
          "Circuit Drive at American Legion Hwy",
          "Clarendon Hill at Broadway",
          "Cleary Sq",
          "Cleveland Circle",
          "Clinton St at North St",
          "Codman Square Library",
          "Colleges of the Fenway - Fenway at Avenue Louis Pasteur",
          "Columbia Rd at Ceylon St",
          "Columbia Rd at Tierney Community Center",
          "Columbus Ave at W. Canton St",
          "Commonwealth Ave at Agganis Way",
          "Commonwealth Ave At Babcock St",
          "Commonwealth Ave at Chiswick Rd",
          "Commonwealth Ave at Griggs St",
          "Commonwealth Ave at Kelton St",
          "Community Life Center",
          "Community Path at Cedar Street",
          "Community Path at Lowell St",
          "Concord Ave at Spinelli Place",
          "Congress St at Boston City Hall",
          "Congress St at Northern Ave",
          "Conway Park - Somerville Avenue",
          "Conway Park @ Bleachery Ct (Temp Winter Station)",
          "Coolidge Corner - Beacon St at Centre St",
          "Coolidge Sq.",
          "Copley Square - Dartmouth St at Boylston St",
          "Cross St at Hanover St",
          "Cummins Highway at Blue Hill Ave T Stop",
          "Curtis Hall - South St at Centre St",
          "Cypress St at Clark Playground",
          "Dana Park",
          "Danehy Park",
          "Danehy Park at New Street",
          "Dartmouth St at Newbury St",
          "Davis Square",
          "Day Sq",
          "Deerfield St at Commonwealth Ave",
          "Derby Street",
          "Discovery Park - 30 Acorn Park Drive",
          "Dorchester Ave at Gillette Park",
          "Dorchester Ave at King St",
          "Dudley Square - Bolling Building",
          "Dudley Town Common - Mt Pleasant Ave at Blue Hill Ave",
          "East Boston Neighborhood Health Center - 20 Maverick Square",
          "East Somerville Library (Broadway and Illinois)",
          "Edgerly Education Center",
          "Edwards Playground - Main St at Eden St",
          "EF - North Point Park",
          "Egleston Square - Atherton St at Washington St",
          "Encore",
          "Essex St at Dalton Parkway",
          "Everett Square (Broadway at Chelsea St)",
          "Fan Pier",
          "Farragut Rd at E. 6th St",
          "Fields Corner T Stop",
          "Flat 9 at Whittier",
          "Foley St at Grand Union Blvd",
          "Forest Hills",
          "Forest River Park",
          "Forsyth St at Huntington Ave",
          "Foss Park",
          "Four Corners - 157 Washington St",
          "Four Corners/Geneva T Stop",
          "Franklin Park - Seaver St at Humboldt Ave",
          "Franklin Park Zoo - Franklin Park Rd at Blue Hill Ave",
          "Fresh Pond Reservation",
          "Galileo Galilei Way at Fulkerson St/Binney St",
          "Galileo Galilei Way at Main Street",
          "Gallivan Blvd at Adams St",
          "Geiger Gibson Community Health Center",
          "Gilman Square T at Medford St",
          "Glendale Square (Ferry St at Broadway)",
          "Goodhue St at Grove St",
          "Gore Street at Lambert Street",
          "Gove St at Orleans St",
          "Government Center - Cambridge St at Court St",
          "Graham and Parks School – Linnaean St at Walker St",
          "Gramsdorf Playground",
          "Green Street T Stop - Green St at Amory St",
          "Grove Hall Library - 41 Geneva Ave",
          "Grove St at Community Path",
          "Haines Square",
          "Hale Park",
          "Hancock St at Pleasant St",
          "Harris Park",
          "Harrison Ave at Bennet St",
          "Harrison Ave at E. Dedham St",
          "Harrison Ave at Mullins Way",
          "Harvard Ave at Brainerd Rd",
          "Harvard Kennedy School at Bennett St / Eliot St",
          "Harvard Law School at Mass Ave / Jarvis St",
          "Harvard Square at Brattle St / Eliot St",
          "Harvard Square at Mass Ave/ Dunster",
          "Harvard St and Stedman St",
          "Harvard St at Greene-Rose Heritage Park",
          "Harvard Stadium: N. Harvard St at Soldiers Field Rd",
          "Harvard University / SEAS Cruft-Pierce Halls at 29 Oxford St",
          "Harvard University Gund Hall at Quincy St / Kirkland St",
          "Harvard University Housing - 115 Putnam Ave at Peabody Terrace",
          "Harvard University Radcliffe Quadrangle at Shepard St / Garden St",
          "Harvard University River Houses at DeWolfe St / Cowperthwaite St",
          "Hawthorne Boulevard",
          "High St at Cypress St",
          "HMS/HSPH - Avenue Louis Pasteur at Longwood Ave",
          "Honan Library",
          "Hood Park",
          "Hormel Stadium",
          "Huntington Ave at Mass Art",
          "Huron Ave At Vassal Lane",
          "Hyde Park Ave at Walk Hill St",
          "Hyde Park Library",
          "Hyde Square - Barbara St at Centre St",
          "ID Building East",
          "ID Building West",
          "Ink Block - Harrison Ave at Herald St",
          "Inman Square at Springfield St.",
          "Innovation Lab - 125 Western Ave at Batten Way",
          "Jackson Square T Stop",
          "Jamaica St at South St",
          "JFK Crossing at Harvard St. / Thorndike St.",
          "JFK/UMass T Stop",
          "John Ahern Field at Kennedy-Longfellow School",
          "Kearins Playground",
          "Kendall Street",
          "Kendall T",
          "Kenmore Square",
          "Kennedy-Longfellow School 158 Spring St",
          "Lafayette at Leach St",
          "Lafayette Square at Mass Ave / Main St / Columbia St",
          "Landmark Center - Brookline Ave at Park Dr",
          "Langley Lot",
          "Lansdowne T Stop",
          "Lenox St at Kendall St",
          "Lesley University",
          "Lewis Mall Wharf",
          "Lewis Wharf at Atlantic Ave",
          "Linear Park - Mass. Ave. at Cameron Ave. ",
          "Linwood St at Minuteman Bikeway",
          "Longwood Ave at Binney St",
          "Lower Cambridgeport at Magazine St / Riverside Rd",
          "Magoun Square at Trum Field",
          "Main St at Austin St",
          "Main St at Baldwin St",
          "Main St at Brooks Park",
          "Main St at Thompson Sq",
          "Main Street/Albany Street/Technology Square",
          "Malden Center T Station",
          "Malden High School",
          "Marion St at Harvard St",
          "Martha Eliot Health Center",
          "Mass Ave at Albany St",
          "Mass Ave at Hadley/Walden",
          "Mass Ave T Station",
          "Mass Ave/Lafayette Square",
          "Massachusetts Ave at Columbus Ave",
          "Mattapan Library",
          "Mattapan T Stop",
          "Maverick Square - Lewis Mall",
          "Maverick St at Massport Path",
          "Mayor Salvo Path at Mill St",
          "Meaney Playground - Pleasant St at E Cottage St",
          "Medford Sq - Riverside Ave at River St",
          "Medford St at Charlestown BCYF",
          "MIT at Mass Ave / Amherst St",
          "MIT Carleton St at Amherst St",
          "MIT Hayward St at Amherst St",
          "MIT Pacific St at Purrington St",
          "MIT Stata Center at Vassar St / Main St",
          "MIT Vassar St",
          "MLK Blvd at Washington St",
          "Morgan Ave at North First St",
          "Morton St at Gallivan Blvd",
          "Mt Auburn",
          "Mugar Way at Beacon St",
          "Murphy Skating Rink - 1880 Day Blvd",
          "Museum of Science",
          "Nashua Street at Red Auerbach Way",
          "NCAAA - Walnut Ave at Crawford St",
          "New Balance - 20 Guest St",
          "Newmarket Square T Stop - Massachusetts Ave at Newmarket Square",
          "Newton Highlands T",
          "Newton Library",
          "Nichols Ave. at Watertown Greenway",
          "Nonantum Library",
          "North St at Liberty Hill Ave",
          "Northern Strand at Main St",
          "Oak Square - 615 Washington St",
          "Old Morse Park at Putnam Ave",
          "One Beacon St",
          "One Brigham Circle",
          "One Broadway / Kendall Sq at Main St / 3rd St",
          "One Kendall Square at Hampshire St / Portland St",
          "One Memorial Drive",
          "Orient Heights T Stop - Bennington St at Saratoga St",
          "Orr Sq (Shirley Ave)",
          "Packard Ave at Powderhouse Blvd",
          "Packard's Corner - Commonwealth Ave at Brighton Ave",
          "Park Dr at Buswell St",
          "Park Plaza at Charles St S.",
          "Parker St at Huntington Ave",
          "Perry Park",
          "Pier 4 Blvd at Autumn Ln",
          "Pope John High School",
          "Porter Square Station",
          "Porzio Park",
          "Powder House Circle - Nathan Tufts Park",
          "Prudential Center - 101 Huntington Ave",
          "Purchase St at Pearl St",
          "Railroad Lot and Minuteman Bikeway",
          "Raymond Park at Walden St",
          "Revere City Hall",
          "Revere Public Library",
          "Rindge Avenue - O'Neill Library",
          "Riverway at Brookline Ave",
          "Rogers St & Land Blvd",
          "Roslindale Village - South St",
          "Roslindale Village - Washington St",
          "Ross Playground",
          "Rowes Wharf at Atlantic Ave",
          "Roxbury Crossing T Stop - Columbus Ave at Tremont St",
          "Roxbury YMCA - Warren St at MLK Blvd",
          "Ruggles T Stop - Columbus Ave at Melnea Cass Blvd",
          "S Huntington Ave at Heath St",
          "Salem MBTA - Lower Level",
          "Salem MBTA - Washington at Federal St",
          "Salem State University - Bike Path at Loring Ave",
          "Savin Hill T Stop - S Sydney St at Bay St",
          "Seaport Blvd at Sleeper St",
          "Seaport Hotel - Congress St at Seaport Ln",
          "Seaport Square - Seaport Blvd at Northern Ave",
          "Sennott Park Broadway at Norfolk Street",
          "Shawmut Ave at Lenox St",
          "Shawmut Ave at Oak St W",
          "Shawmut T Stop",
          "Shetland Park - Congress at Peabody St",
          "Sidney Research Campus/Erie Street at Waverly",
          "Silber Way",
          "Smith Pl at Wilson Rd",
          "Soldiers Field Park - 111 Western Ave",
          "Somerville City Hall",
          "Somerville City Hall Annex",
          "Somerville High School & Central Library",
          "Somerville Hospital",
          "South Boston Library - 646 E Broadway",
          "South End Library - Tremont St at W Newton St",
          "South Station - 700 Atlantic Ave",
          "Spaulding Rehabilitation Hospital - Charlestown Navy Yard",
          "Spring St at Powell St",
          "St Mary's",
          "St. Alphonsus St at Tremont St",
          "State Street at Channel Center",
          "Stony Brook T Stop",
          "Stuart St at Berkeley St",
          "Stuart St at Charles St",
          "Sullivan Square",
          "Sumner St at Shirley Ave",
          "Surface Rd at India St",
          "Surface Rd at Summer St",
          "Swan St. Park",
          "Sydney St at Carson St",
          "Talbot Ave At Blue Hill Ave",
          "Talbot Ave T Station",
          "Tappan St at Brookline Hills MBTA",
          "Teele Square",
          "The Dimock Center",
          "The Eddy - New St at Sumner St",
          "The Lawn on D",
          "The Overlook at St. Gabriel's",
          "Third at Binney",
          "Thorndike Field at Minuteman Bikeway",
          "Tremont St at E Berkeley St",
          "Tremont St at Hamilton Pl",
          "Tremont St at Northampton St",
          "Tremont St at W. Dedham St",
          "Tremont St at West St",
          "Tremont St. at Court St.",
          "Troy Boston",
          "Trum Field @ Cedar St (Temp Winter Station)",
          "Tufts Sq - Main St at Medford St",
          "Union Square - Brighton Ave at Cambridge St",
          "Union Square - Somerville",
          "Union Square East",
          "University of Massachusetts Boston - Campus Center",
          "University Park",
          "Valenti Way at Haverhill St",
          "Vassal Lane at Tobin/VLUS",
          "Verizon Innovation Hub 10 Ware Street",
          "Vinnin Square",
          "W Broadway at D St",
          "W Broadway at Dorchester St",
          "Walnut Ave at School St",
          "Warren St at Chelsea St",
          "Washington Sq",
          "Washington St @ New Washington St (Temp Winter Station)",
          "Washington St at Brock St",
          "Washington St at Crafts St",
          "Washington St at Lenox St",
          "Washington St at Melnea Cass Blvd",
          "Washington St at Rutland St",
          "Washington St at Talbot Ave",
          "Washington St at Walnut St",
          "Washington St at Waltham St",
          "Watermark Seaport - Boston Wharf Rd at Seaport Blvd",
          "Watertown City Hall",
          "Watertown Sq",
          "Watertown St at Albemarle Rd",
          "Wellington MBTA",
          "Wentworth Institute of Technology - Huntington Ave at Vancouver St",
          "West End Park",
          "West Newton",
          "Whittier St Health Center",
          "Williams St at Washington St",
          "Wilson Square"
         ],
         "lat": [
          42.34414899,
          42.36466403,
          42.36447457,
          42.38032335,
          42.28887,
          42.38100143,
          42.370803,
          42.38322727,
          42.390821,
          42.2681,
          42.28578,
          42.34178089,
          42.37500235,
          42.41143223,
          42.34960945,
          42.38078817,
          42.36550729,
          42.3936,
          42.39841773,
          42.39522187,
          42.36895181,
          42.33664795,
          42.39558846,
          42.396105,
          42.27881158,
          42.3636929,
          42.3625,
          42.36044136,
          42.29266593,
          42.36277389,
          42.2856944,
          42.39223284,
          42.4175909,
          42.34805541,
          42.350406,
          42.34807412,
          42.35711921,
          42.39936816,
          42.3294633,
          42.30367409,
          42.33006232,
          42.356052,
          42.3382668,
          42.28634589,
          42.39319611,
          42.38353252,
          42.38522394,
          42.37207658,
          42.36608797,
          42.27462067,
          42.286012,
          42.35892,
          42.33987892,
          42.34776345,
          42.37331213,
          42.35656092,
          42.30785224,
          42.35206005,
          42.35114198,
          42.34958942,
          42.34880382,
          42.34465063,
          42.34740621,
          42.3754476,
          42.37410622,
          42.52810052,
          42.33462893,
          42.34894857,
          42.36154571,
          42.3630455,
          42.3983606,
          42.3951715,
          42.39453079,
          42.36412659,
          42.39648358,
          42.41034691,
          42.38614141,
          42.34304858,
          42.33376473,
          42.33274392,
          42.37408991,
          42.345733,
          42.36514871,
          42.371141,
          42.37119728,
          42.373379,
          42.372969,
          42.36125722,
          42.36707407,
          42.39813565,
          42.2796076,
          42.366426,
          42.36507,
          42.37544913,
          42.3362358,
          42.28277901,
          42.28633199,
          42.35574335,
          42.36079297,
          42.37412455,
          42.39022671,
          42.40336946,
          42.39636528,
          42.37197678,
          42.351356,
          42.352409,
          42.34366582,
          42.37433925,
          42.29704126,
          42.406302,
          42.2556,
          42.33554308,
          42.36070284,
          42.2873611,
          42.34011512,
          42.309572,
          42.33023071,
          42.34474225,
          42.35169202,
          42.35154735,
          42.34024645,
          42.34922469,
          42.34835863,
          42.520136,
          42.39407224,
          42.392525,
          42.390719,
          42.36041775,
          42.3481,
          42.38363895,
          42.3834575,
          42.341598,
          42.37207611,
          42.34992828,
          42.362811,
          42.26998847,
          42.309054,
          42.32784317,
          42.36178044,
          42.388966,
          42.389456,
          42.35096144,
          42.396969,
          42.379295,
          42.34924377,
          42.52009618,
          42.39790817,
          42.34404051,
          42.291718,
          42.32984299,
          42.325333,
          42.369536,
          42.38762811,
          42.38717463,
          42.378965,
          42.369885,
          42.315692,
          42.39329263,
          42.516223,
          42.40701602,
          42.35339051,
          42.3334,
          42.29963349,
          42.33420351,
          42.3930184,
          42.300923,
          42.506395,
          42.339202,
          42.39108438,
          42.30412793,
          42.30321535,
          42.309796,
          42.303469,
          42.38267828,
          42.3664204,
          42.36300378,
          42.28297568,
          42.31886468,
          42.3867355,
          42.41427294,
          42.520897,
          42.3730798,
          42.37057753,
          42.3598254,
          42.3829443,
          42.408156,
          42.310579,
          42.30791,
          42.39638681,
          42.42333137,
          42.4153271,
          42.30981925,
          42.41081837,
          42.3494261,
          42.339194,
          42.34521562,
          42.34953017,
          42.3722168,
          42.379011,
          42.3733288,
          42.373268,
          42.34435176,
          42.36599433,
          42.368019,
          42.377945,
          42.376369,
          42.366621,
          42.380287,
          42.36923907,
          42.5223714,
          42.32464511,
          42.33741748,
          42.3602737,
          42.38004535,
          42.40721644,
          42.33658555,
          42.38165061,
          42.29606705,
          42.2568376,
          42.32176526,
          42.344827,
          42.344796,
          42.345901,
          42.37426714,
          42.36371276,
          42.32293117,
          42.30604563,
          42.34655124,
          42.32033974,
          42.36903567,
          42.40616124,
          42.36356016,
          42.36242784,
          42.348706,
          42.36955298,
          42.51142784,
          42.36346469,
          42.34369056,
          42.330528,
          42.34734473,
          42.33759485,
          42.38674802,
          42.36567871,
          42.363871,
          42.397828,
          42.40935396,
          42.338629,
          42.3572185,
          42.3977834,
          42.375603,
          42.380857,
          42.411709,
          42.37487847,
          42.3629016,
          42.426541,
          42.42653766,
          42.34012243,
          42.324173,
          42.36135838,
          42.39120972,
          42.34135616,
          42.36356499,
          42.340835,
          42.2773889,
          42.267902,
          42.36884408,
          42.36774122,
          42.5180352,
          42.31870275,
          42.417724,
          42.38042947,
          42.3581,
          42.36054174,
          42.36085937,
          42.3595732,
          42.36213123,
          42.35560121,
          42.32143814,
          42.37197726,
          42.278747,
          42.37478629,
          42.35553628,
          42.336448,
          42.36769018,
          42.365673,
          42.316902,
          42.35732922,
          42.326599,
          42.32206566,
          42.33620337,
          42.36762049,
          42.36068456,
          42.52989965,
          42.42386,
          42.35057,
          42.35766248,
          42.35847764,
          42.3339227,
          42.36224179,
          42.366277,
          42.36161932,
          42.386781,
          42.40715656,
          42.40449,
          42.352261,
          42.347241,
          42.35182807,
          42.33848849,
          42.37927325,
          42.3502102,
          42.4203487,
          42.387995,
          42.36411904,
          42.400877,
          42.34652004,
          42.354659,
          42.41606457,
          42.38736954,
          42.40741,
          42.408088,
          42.392766,
          42.33661006,
          42.36644674,
          42.287072,
          42.28630716,
          42.2645666,
          42.357143,
          42.331184,
          42.31787329,
          42.33624445,
          42.32760387,
          42.523994,
          42.52345239,
          42.50182399,
          42.3106,
          42.35317809,
          42.34881026,
          42.35148193,
          42.36860524,
          42.33584613,
          42.34854543,
          42.292917,
          42.51836788,
          42.35775309,
          42.349496,
          42.39239749,
          42.36426344,
          42.386844,
          42.39189812,
          42.3864,
          42.39044622,
          42.335741,
          42.341332,
          42.352175,
          42.378338,
          42.27748444,
          42.34619708,
          42.33329255,
          42.344137,
          42.316966,
          42.34954403,
          42.351146,
          42.38445226,
          42.40833706,
          42.358155,
          42.3529457,
          42.41250451,
          42.32039374,
          42.2945833,
          42.29225148,
          42.33137017,
          42.4008795,
          42.31930943,
          42.370744,
          42.344792,
          42.34679008,
          42.36544486,
          42.40016805,
          42.345392,
          42.35668335,
          42.3384318,
          42.34254914,
          42.354979,
          42.359322,
          42.343749,
          42.398444,
          42.401697,
          42.353334,
          42.3796479,
          42.380078,
          42.31218918,
          42.36264779,
          42.36473899,
          42.38536765,
          42.37250865,
          42.48628785,
          42.3391085,
          42.33595898,
          42.31242399,
          42.371848,
          42.33985827,
          42.38103732,
          42.34895285,
          42.35389024,
          42.33509899,
          42.332817,
          42.3385146,
          42.290333,
          42.35145812,
          42.34157472,
          42.351586,
          42.36759308,
          42.36526032,
          42.35410408,
          42.4023682,
          42.33758601,
          42.36590788,
          42.3496005,
          42.33286288,
          42.306539,
          42.38567579
         ],
         "legendgroup": "",
         "lon": [
          -71.11467361,
          -71.17569387,
          -71.12840831,
          -71.10878613,
          -71.095003,
          -71.10402523,
          -71.104412,
          -71.10606909,
          -71.143946,
          -71.11924,
          -71.109725,
          -71.03987017,
          -71.14871614,
          -71.06823265,
          -71.10391524,
          -71.15412891,
          -71.0801376,
          -71.143941,
          -71.02390923,
          -71.14421904,
          -71.1099878,
          -71.0689446,
          -71.14260614,
          -71.139459,
          -71.11687703,
          -71.0875672,
          -71.08822,
          -71.0504394,
          -71.12119539,
          -71.15764854,
          -71.0641389,
          -71.07746601,
          -71.12608128,
          -71.24775946,
          -71.108279,
          -71.07657015,
          -71.18604537,
          -71.11111522,
          -71.0901582,
          -71.05425954,
          -71.20668411,
          -71.069849,
          -71.13894682,
          -71.1367213,
          -71.0334456,
          -71.01619095,
          -71.01063069,
          -71.08995434,
          -71.08633604,
          -71.09372552,
          -71.090986,
          -71.057629,
          -71.16708934,
          -71.04535997,
          -71.04102008,
          -71.14167538,
          -71.06512249,
          -71.07046366,
          -71.07329249,
          -71.07946779,
          -71.08236909,
          -71.09732501,
          -71.08678415,
          -71.09117389,
          -71.03276253,
          -70.88971138,
          -71.10407918,
          -71.15027189,
          -71.13776207,
          -71.08287079,
          -71.06373843,
          -71.09850592,
          -71.03085594,
          -71.08738632,
          -71.0654676,
          -71.05260458,
          -71.0782814,
          -71.0580343,
          -71.12046447,
          -71.11626681,
          -71.06905997,
          -71.100694,
          -71.20236039,
          -71.076198,
          -71.09759867,
          -71.111075,
          -71.094445,
          -71.06528744,
          -71.07679278,
          -71.03070972,
          -71.0602212,
          -71.105495,
          -71.1031,
          -71.03918549,
          -71.1934421,
          -71.15728851,
          -71.15344755,
          -71.18641943,
          -71.07118962,
          -71.054812,
          -71.03857018,
          -71.04731441,
          -71.03987179,
          -71.07200496,
          -71.059367,
          -71.062679,
          -71.08582377,
          -71.11966431,
          -71.09171927,
          -71.132446,
          -71.12444,
          -71.1506152,
          -71.05524927,
          -71.071111,
          -71.10061884,
          -71.0729,
          -71.05060093,
          -71.07648162,
          -71.11903489,
          -71.12126246,
          -71.15168806,
          -71.13275303,
          -71.13997217,
          -70.906271,
          -71.11133695,
          -71.105587,
          -71.1538877,
          -71.05752244,
          -71.03764,
          -71.10853672,
          -71.1077106,
          -71.123338,
          -71.15683131,
          -71.07739207,
          -71.056067,
          -71.09746183,
          -71.11543,
          -71.12536222,
          -71.10809952,
          -71.132788,
          -71.139019,
          -71.07782811,
          -71.123024,
          -71.027733,
          -71.0972821,
          -70.89139044,
          -71.14797131,
          -71.05737627,
          -71.062571,
          -71.08386572,
          -71.075354,
          -71.039431,
          -71.08318716,
          -71.08714389,
          -71.068607,
          -71.069957,
          -71.098634,
          -71.0724476,
          -70.905535,
          -71.05645001,
          -71.0445714,
          -71.02495,
          -71.06068976,
          -71.08767617,
          -71.08071685,
          -71.114249,
          -70.88693,
          -71.090511,
          -71.09039426,
          -71.07929528,
          -71.07820988,
          -71.092225,
          -71.085347,
          -71.14347895,
          -71.0885418,
          -71.08974038,
          -71.05466698,
          -71.04536798,
          -71.0946444,
          -71.04479656,
          -70.910528,
          -71.08634234,
          -71.0355854,
          -71.05979576,
          -71.12449831,
          -71.0429,
          -71.107341,
          -71.080952,
          -71.12011306,
          -71.09124541,
          -71.0528183,
          -71.06019938,
          -71.08152866,
          -71.0620996,
          -71.06975,
          -71.06384031,
          -71.13022771,
          -71.12188071,
          -71.119945,
          -71.12098601,
          -71.118579,
          -71.12490356,
          -71.09522222,
          -71.1242,
          -71.116865,
          -71.114025,
          -71.114214,
          -71.125107,
          -71.11687034,
          -70.8903331,
          -71.12135231,
          -71.10286117,
          -71.12852452,
          -71.07304573,
          -71.09651506,
          -71.09886996,
          -71.13426981,
          -71.116012,
          -71.122509,
          -71.10984161,
          -71.028664,
          -71.031614,
          -71.063187,
          -71.10026479,
          -71.12459779,
          -71.10014141,
          -71.11570891,
          -71.12833211,
          -71.05118036,
          -71.0863096,
          -71.06041655,
          -71.08216792,
          -71.08495474,
          -71.097009,
          -71.08579015,
          -70.89183301,
          -71.10057324,
          -71.10235287,
          -71.192861,
          -71.10016808,
          -71.08255059,
          -71.11901879,
          -71.04030132,
          -71.050877,
          -71.130516,
          -71.14906519,
          -71.1065,
          -71.11387163,
          -71.10594004,
          -71.064608,
          -71.070629,
          -71.110444,
          -71.06383499,
          -71.0915669,
          -71.073179,
          -71.06393695,
          -71.12070564,
          -71.10196,
          -71.09670274,
          -71.12260755,
          -71.08336953,
          -71.10044184,
          -71.0816197,
          -71.09325,
          -71.093641,
          -71.03977829,
          -71.03335975,
          -70.89570075,
          -71.05889978,
          -71.108102,
          -71.06055722,
          -71.093198,
          -71.08669817,
          -71.08551858,
          -71.10129476,
          -71.09115601,
          -71.10394478,
          -71.09126061,
          -71.07585847,
          -71.080286,
          -71.13320231,
          -71.0728687,
          -71.023739,
          -71.07116282,
          -71.064263,
          -71.091946,
          -71.1467354,
          -71.066498,
          -71.20637298,
          -71.20779455,
          -71.15656637,
          -71.201462,
          -70.90614259,
          -71.067793,
          -71.166491,
          -71.10841334,
          -71.0613513,
          -71.10446509,
          -71.08311072,
          -71.09169,
          -71.08043551,
          -71.006098,
          -70.9927243,
          -71.123413,
          -71.123831,
          -71.105301,
          -71.06781138,
          -71.09261138,
          -71.10341903,
          -71.0446705,
          -71.04419768,
          -71.119084,
          -71.02876782,
          -71.116772,
          -71.08065777,
          -71.053181,
          -71.15336637,
          -71.12761001,
          -71.0139,
          -71.008942,
          -71.129042,
          -71.1100468,
          -71.07654601,
          -71.127754,
          -71.12820532,
          -71.1145523,
          -71.050699,
          -71.095171,
          -71.08243078,
          -71.08798563,
          -71.1108917,
          -70.89684,
          -70.89611113,
          -70.89478076,
          -71.0539,
          -71.04817357,
          -71.04167744,
          -71.04436085,
          -71.09930186,
          -71.08038157,
          -71.06559185,
          -71.06575,
          -70.88952363,
          -71.10393405,
          -71.10057592,
          -71.15058332,
          -71.1182757,
          -71.09812,
          -71.09745376,
          -71.09601,
          -71.10856622,
          -71.03877,
          -71.076847,
          -71.055547,
          -71.048927,
          -71.16341468,
          -71.10728681,
          -71.10124648,
          -71.052608,
          -71.104374,
          -71.07242074,
          -71.066289,
          -71.07514855,
          -70.99804848,
          -71.052163,
          -71.05656401,
          -71.05842225,
          -71.05355408,
          -71.087111,
          -71.07797205,
          -71.12688361,
          -71.12590793,
          -71.09639924,
          -71.044201,
          -71.044024,
          -71.14549814,
          -71.08277142,
          -71.14456963,
          -71.069616,
          -71.06166646,
          -71.0816905,
          -71.07421449,
          -71.063348,
          -71.059624,
          -71.062256,
          -71.107833,
          -71.106128,
          -71.137313,
          -71.09540476,
          -71.090098,
          -71.03648586,
          -71.10006094,
          -71.05934903,
          -71.13775671,
          -71.11305356,
          -70.90166733,
          -71.0514432,
          -71.046229,
          -71.09616905,
          -71.060292,
          -71.13421171,
          -71.08709779,
          -71.16031677,
          -71.19943707,
          -71.07903779,
          -71.081198,
          -71.07404083,
          -71.071806,
          -71.20764971,
          -71.0689044,
          -71.04569256,
          -71.18751436,
          -71.18573324,
          -71.21382214,
          -71.07573182,
          -71.09627098,
          -71.06446669,
          -71.22627497,
          -71.09218862,
          -71.107669,
          -71.11412136
         ],
         "marker": {
          "color": [
           0,
           0,
           344,
           0,
           2352,
           0,
           0,
           0,
           0,
           3731,
           2071,
           313,
           0,
           0,
           110,
           0,
           0,
           0,
           0,
           0,
           0,
           8887,
           0,
           0,
           5151,
           0,
           0,
           527,
           4052,
           669,
           3856,
           0,
           0,
           1,
           160,
           1378,
           0,
           0,
           2717,
           3456,
           0,
           1662,
           675,
           5519,
           0,
           2020,
           1229,
           0,
           0,
           2762,
           18307,
           3360,
           569,
           230,
           1093,
           961,
           11849,
           1194,
           3007,
           2399,
           4722,
           3717,
           6129,
           0,
           2712,
           0,
           301,
           9459,
           1538,
           0,
           0,
           0,
           0,
           0,
           40,
           0,
           435,
           1078,
           0,
           192,
           307,
           1339,
           0,
           0,
           0,
           0,
           0,
           3327,
           0,
           0,
           3181,
           0,
           0,
           6833,
           0,
           2237,
           8142,
           0,
           2400,
           3734,
           107,
           0,
           0,
           0,
           3752,
           6874,
           3931,
           0,
           1151,
           0,
           17181,
           1105,
           2454,
           5575,
           249,
           10946,
           9318,
           1488,
           851,
           354,
           3372,
           2621,
           3607,
           0,
           0,
           0,
           0,
           1456,
           257,
           0,
           0,
           0,
           0,
           2702,
           3002,
           5914,
           2617,
           0,
           0,
           0,
           0,
           1931,
           0,
           4227,
           174,
           0,
           0,
           82,
           4742,
           17258,
           10952,
           4856,
           0,
           0,
           1143,
           0,
           5374,
           96,
           0,
           0,
           507,
           1316,
           24215,
           1121,
           0,
           1573,
           2,
           1346,
           0,
           3417,
           7064,
           4065,
           5853,
           0,
           0,
           0,
           6201,
           1553,
           0,
           0,
           0,
           0,
           1221,
           6604,
           0,
           0,
           7446,
           9218,
           0,
           0,
           0,
           6574,
           0,
           1521,
           10917,
           2116,
           3383,
           0,
           0,
           0,
           0,
           1,
           0,
           92,
           0,
           0,
           0,
           0,
           0,
           0,
           172,
           595,
           1991,
           111,
           0,
           922,
           0,
           1232,
           4816,
           4202,
           55,
           115,
           350,
           0,
           88,
           2947,
           1546,
           0,
           298,
           0,
           0,
           0,
           0,
           2286,
           0,
           0,
           0,
           1110,
           0,
           898,
           1536,
           0,
           297,
           2404,
           0,
           0,
           837,
           1,
           0,
           970,
           669,
           0,
           968,
           0,
           0,
           1,
           0,
           5226,
           2,
           0,
           1313,
           0,
           1570,
           5935,
           4196,
           1349,
           1351,
           0,
           10131,
           0,
           3485,
           0,
           0,
           0,
           0,
           0,
           0,
           3007,
           0,
           10045,
           0,
           1052,
           473,
           196,
           1470,
           3841,
           2732,
           8742,
           0,
           0,
           0,
           0,
           0,
           0,
           2582,
           0,
           1357,
           2649,
           0,
           0,
           0,
           3243,
           0,
           0,
           1544,
           714,
           1167,
           426,
           1,
           81,
           0,
           0,
           375,
           0,
           3379,
           1385,
           0,
           0,
           0,
           0,
           0,
           2153,
           0,
           1495,
           2933,
           4296,
           452,
           2690,
           10697,
           786,
           1825,
           0,
           0,
           0,
           2605,
           1519,
           75,
           269,
           0,
           1224,
           1848,
           3352,
           0,
           0,
           192,
           0,
           153,
           0,
           0,
           0,
           0,
           4631,
           1913,
           892,
           321,
           7150,
           75,
           2365,
           6688,
           2009,
           1890,
           2610,
           722,
           0,
           2382,
           2176,
           0,
           2244,
           7338,
           9173,
           1,
           0,
           2467,
           590,
           518,
           3359,
           0,
           0,
           2359,
           8267,
           1852,
           2199,
           3064,
           1212,
           914,
           0,
           0,
           3598,
           0,
           0,
           40,
           0,
           6441,
           0,
           0,
           0,
           4759,
           4023,
           2764,
           911,
           0,
           0,
           2311,
           0,
           6275,
           3036,
           6306,
           7179,
           0,
           1806,
           422,
           0,
           0,
           0,
           0,
           617,
           368,
           0,
           3127,
           2103,
           0
          ],
          "coloraxis": "coloraxis",
          "size": [
           0,
           0,
           344,
           0,
           2352,
           0,
           0,
           0,
           0,
           3731,
           2071,
           313,
           0,
           0,
           110,
           0,
           0,
           0,
           0,
           0,
           0,
           8887,
           0,
           0,
           5151,
           0,
           0,
           527,
           4052,
           669,
           3856,
           0,
           0,
           1,
           160,
           1378,
           0,
           0,
           2717,
           3456,
           0,
           1662,
           675,
           5519,
           0,
           2020,
           1229,
           0,
           0,
           2762,
           18307,
           3360,
           569,
           230,
           1093,
           961,
           11849,
           1194,
           3007,
           2399,
           4722,
           3717,
           6129,
           0,
           2712,
           0,
           301,
           9459,
           1538,
           0,
           0,
           0,
           0,
           0,
           40,
           0,
           435,
           1078,
           0,
           192,
           307,
           1339,
           0,
           0,
           0,
           0,
           0,
           3327,
           0,
           0,
           3181,
           0,
           0,
           6833,
           0,
           2237,
           8142,
           0,
           2400,
           3734,
           107,
           0,
           0,
           0,
           3752,
           6874,
           3931,
           0,
           1151,
           0,
           17181,
           1105,
           2454,
           5575,
           249,
           10946,
           9318,
           1488,
           851,
           354,
           3372,
           2621,
           3607,
           0,
           0,
           0,
           0,
           1456,
           257,
           0,
           0,
           0,
           0,
           2702,
           3002,
           5914,
           2617,
           0,
           0,
           0,
           0,
           1931,
           0,
           4227,
           174,
           0,
           0,
           82,
           4742,
           17258,
           10952,
           4856,
           0,
           0,
           1143,
           0,
           5374,
           96,
           0,
           0,
           507,
           1316,
           24215,
           1121,
           0,
           1573,
           2,
           1346,
           0,
           3417,
           7064,
           4065,
           5853,
           0,
           0,
           0,
           6201,
           1553,
           0,
           0,
           0,
           0,
           1221,
           6604,
           0,
           0,
           7446,
           9218,
           0,
           0,
           0,
           6574,
           0,
           1521,
           10917,
           2116,
           3383,
           0,
           0,
           0,
           0,
           1,
           0,
           92,
           0,
           0,
           0,
           0,
           0,
           0,
           172,
           595,
           1991,
           111,
           0,
           922,
           0,
           1232,
           4816,
           4202,
           55,
           115,
           350,
           0,
           88,
           2947,
           1546,
           0,
           298,
           0,
           0,
           0,
           0,
           2286,
           0,
           0,
           0,
           1110,
           0,
           898,
           1536,
           0,
           297,
           2404,
           0,
           0,
           837,
           1,
           0,
           970,
           669,
           0,
           968,
           0,
           0,
           1,
           0,
           5226,
           2,
           0,
           1313,
           0,
           1570,
           5935,
           4196,
           1349,
           1351,
           0,
           10131,
           0,
           3485,
           0,
           0,
           0,
           0,
           0,
           0,
           3007,
           0,
           10045,
           0,
           1052,
           473,
           196,
           1470,
           3841,
           2732,
           8742,
           0,
           0,
           0,
           0,
           0,
           0,
           2582,
           0,
           1357,
           2649,
           0,
           0,
           0,
           3243,
           0,
           0,
           1544,
           714,
           1167,
           426,
           1,
           81,
           0,
           0,
           375,
           0,
           3379,
           1385,
           0,
           0,
           0,
           0,
           0,
           2153,
           0,
           1495,
           2933,
           4296,
           452,
           2690,
           10697,
           786,
           1825,
           0,
           0,
           0,
           2605,
           1519,
           75,
           269,
           0,
           1224,
           1848,
           3352,
           0,
           0,
           192,
           0,
           153,
           0,
           0,
           0,
           0,
           4631,
           1913,
           892,
           321,
           7150,
           75,
           2365,
           6688,
           2009,
           1890,
           2610,
           722,
           0,
           2382,
           2176,
           0,
           2244,
           7338,
           9173,
           1,
           0,
           2467,
           590,
           518,
           3359,
           0,
           0,
           2359,
           8267,
           1852,
           2199,
           3064,
           1212,
           914,
           0,
           0,
           3598,
           0,
           0,
           40,
           0,
           6441,
           0,
           0,
           0,
           4759,
           4023,
           2764,
           911,
           0,
           0,
           2311,
           0,
           6275,
           3036,
           6306,
           7179,
           0,
           1806,
           422,
           0,
           0,
           0,
           0,
           617,
           368,
           0,
           3127,
           2103,
           0
          ],
          "sizemode": "area",
          "sizeref": 60.5375
         },
         "mode": "markers",
         "name": "",
         "showlegend": false,
         "subplot": "mapbox",
         "type": "scattermapbox"
        }
       ],
       "layout": {
        "coloraxis": {
         "colorbar": {
          "title": {
           "text": "count"
          }
         },
         "colorscale": [
          [
           0,
           "#0d0887"
          ],
          [
           0.1111111111111111,
           "#46039f"
          ],
          [
           0.2222222222222222,
           "#7201a8"
          ],
          [
           0.3333333333333333,
           "#9c179e"
          ],
          [
           0.4444444444444444,
           "#bd3786"
          ],
          [
           0.5555555555555556,
           "#d8576b"
          ],
          [
           0.6666666666666666,
           "#ed7953"
          ],
          [
           0.7777777777777778,
           "#fb9f3a"
          ],
          [
           0.8888888888888888,
           "#fdca26"
          ],
          [
           1,
           "#f0f921"
          ]
         ]
        },
        "legend": {
         "itemsizing": "constant",
         "tracegroupgap": 0
        },
        "mapbox": {
         "center": {
          "lat": 42.36139627636579,
          "lon": -71.08680946736342
         },
         "domain": {
          "x": [
           0,
           1
          ],
          "y": [
           0,
           1
          ]
         },
         "zoom": 8
        },
        "margin": {
         "t": 60
        },
        "template": {
         "data": {
          "bar": [
           {
            "error_x": {
             "color": "#2a3f5f"
            },
            "error_y": {
             "color": "#2a3f5f"
            },
            "marker": {
             "line": {
              "color": "#E5ECF6",
              "width": 0.5
             },
             "pattern": {
              "fillmode": "overlay",
              "size": 10,
              "solidity": 0.2
             }
            },
            "type": "bar"
           }
          ],
          "barpolar": [
           {
            "marker": {
             "line": {
              "color": "#E5ECF6",
              "width": 0.5
             },
             "pattern": {
              "fillmode": "overlay",
              "size": 10,
              "solidity": 0.2
             }
            },
            "type": "barpolar"
           }
          ],
          "carpet": [
           {
            "aaxis": {
             "endlinecolor": "#2a3f5f",
             "gridcolor": "white",
             "linecolor": "white",
             "minorgridcolor": "white",
             "startlinecolor": "#2a3f5f"
            },
            "baxis": {
             "endlinecolor": "#2a3f5f",
             "gridcolor": "white",
             "linecolor": "white",
             "minorgridcolor": "white",
             "startlinecolor": "#2a3f5f"
            },
            "type": "carpet"
           }
          ],
          "choropleth": [
           {
            "colorbar": {
             "outlinewidth": 0,
             "ticks": ""
            },
            "type": "choropleth"
           }
          ],
          "contour": [
           {
            "colorbar": {
             "outlinewidth": 0,
             "ticks": ""
            },
            "colorscale": [
             [
              0,
              "#0d0887"
             ],
             [
              0.1111111111111111,
              "#46039f"
             ],
             [
              0.2222222222222222,
              "#7201a8"
             ],
             [
              0.3333333333333333,
              "#9c179e"
             ],
             [
              0.4444444444444444,
              "#bd3786"
             ],
             [
              0.5555555555555556,
              "#d8576b"
             ],
             [
              0.6666666666666666,
              "#ed7953"
             ],
             [
              0.7777777777777778,
              "#fb9f3a"
             ],
             [
              0.8888888888888888,
              "#fdca26"
             ],
             [
              1,
              "#f0f921"
             ]
            ],
            "type": "contour"
           }
          ],
          "contourcarpet": [
           {
            "colorbar": {
             "outlinewidth": 0,
             "ticks": ""
            },
            "type": "contourcarpet"
           }
          ],
          "heatmap": [
           {
            "colorbar": {
             "outlinewidth": 0,
             "ticks": ""
            },
            "colorscale": [
             [
              0,
              "#0d0887"
             ],
             [
              0.1111111111111111,
              "#46039f"
             ],
             [
              0.2222222222222222,
              "#7201a8"
             ],
             [
              0.3333333333333333,
              "#9c179e"
             ],
             [
              0.4444444444444444,
              "#bd3786"
             ],
             [
              0.5555555555555556,
              "#d8576b"
             ],
             [
              0.6666666666666666,
              "#ed7953"
             ],
             [
              0.7777777777777778,
              "#fb9f3a"
             ],
             [
              0.8888888888888888,
              "#fdca26"
             ],
             [
              1,
              "#f0f921"
             ]
            ],
            "type": "heatmap"
           }
          ],
          "heatmapgl": [
           {
            "colorbar": {
             "outlinewidth": 0,
             "ticks": ""
            },
            "colorscale": [
             [
              0,
              "#0d0887"
             ],
             [
              0.1111111111111111,
              "#46039f"
             ],
             [
              0.2222222222222222,
              "#7201a8"
             ],
             [
              0.3333333333333333,
              "#9c179e"
             ],
             [
              0.4444444444444444,
              "#bd3786"
             ],
             [
              0.5555555555555556,
              "#d8576b"
             ],
             [
              0.6666666666666666,
              "#ed7953"
             ],
             [
              0.7777777777777778,
              "#fb9f3a"
             ],
             [
              0.8888888888888888,
              "#fdca26"
             ],
             [
              1,
              "#f0f921"
             ]
            ],
            "type": "heatmapgl"
           }
          ],
          "histogram": [
           {
            "marker": {
             "pattern": {
              "fillmode": "overlay",
              "size": 10,
              "solidity": 0.2
             }
            },
            "type": "histogram"
           }
          ],
          "histogram2d": [
           {
            "colorbar": {
             "outlinewidth": 0,
             "ticks": ""
            },
            "colorscale": [
             [
              0,
              "#0d0887"
             ],
             [
              0.1111111111111111,
              "#46039f"
             ],
             [
              0.2222222222222222,
              "#7201a8"
             ],
             [
              0.3333333333333333,
              "#9c179e"
             ],
             [
              0.4444444444444444,
              "#bd3786"
             ],
             [
              0.5555555555555556,
              "#d8576b"
             ],
             [
              0.6666666666666666,
              "#ed7953"
             ],
             [
              0.7777777777777778,
              "#fb9f3a"
             ],
             [
              0.8888888888888888,
              "#fdca26"
             ],
             [
              1,
              "#f0f921"
             ]
            ],
            "type": "histogram2d"
           }
          ],
          "histogram2dcontour": [
           {
            "colorbar": {
             "outlinewidth": 0,
             "ticks": ""
            },
            "colorscale": [
             [
              0,
              "#0d0887"
             ],
             [
              0.1111111111111111,
              "#46039f"
             ],
             [
              0.2222222222222222,
              "#7201a8"
             ],
             [
              0.3333333333333333,
              "#9c179e"
             ],
             [
              0.4444444444444444,
              "#bd3786"
             ],
             [
              0.5555555555555556,
              "#d8576b"
             ],
             [
              0.6666666666666666,
              "#ed7953"
             ],
             [
              0.7777777777777778,
              "#fb9f3a"
             ],
             [
              0.8888888888888888,
              "#fdca26"
             ],
             [
              1,
              "#f0f921"
             ]
            ],
            "type": "histogram2dcontour"
           }
          ],
          "mesh3d": [
           {
            "colorbar": {
             "outlinewidth": 0,
             "ticks": ""
            },
            "type": "mesh3d"
           }
          ],
          "parcoords": [
           {
            "line": {
             "colorbar": {
              "outlinewidth": 0,
              "ticks": ""
             }
            },
            "type": "parcoords"
           }
          ],
          "pie": [
           {
            "automargin": true,
            "type": "pie"
           }
          ],
          "scatter": [
           {
            "fillpattern": {
             "fillmode": "overlay",
             "size": 10,
             "solidity": 0.2
            },
            "type": "scatter"
           }
          ],
          "scatter3d": [
           {
            "line": {
             "colorbar": {
              "outlinewidth": 0,
              "ticks": ""
             }
            },
            "marker": {
             "colorbar": {
              "outlinewidth": 0,
              "ticks": ""
             }
            },
            "type": "scatter3d"
           }
          ],
          "scattercarpet": [
           {
            "marker": {
             "colorbar": {
              "outlinewidth": 0,
              "ticks": ""
             }
            },
            "type": "scattercarpet"
           }
          ],
          "scattergeo": [
           {
            "marker": {
             "colorbar": {
              "outlinewidth": 0,
              "ticks": ""
             }
            },
            "type": "scattergeo"
           }
          ],
          "scattergl": [
           {
            "marker": {
             "colorbar": {
              "outlinewidth": 0,
              "ticks": ""
             }
            },
            "type": "scattergl"
           }
          ],
          "scattermapbox": [
           {
            "marker": {
             "colorbar": {
              "outlinewidth": 0,
              "ticks": ""
             }
            },
            "type": "scattermapbox"
           }
          ],
          "scatterpolar": [
           {
            "marker": {
             "colorbar": {
              "outlinewidth": 0,
              "ticks": ""
             }
            },
            "type": "scatterpolar"
           }
          ],
          "scatterpolargl": [
           {
            "marker": {
             "colorbar": {
              "outlinewidth": 0,
              "ticks": ""
             }
            },
            "type": "scatterpolargl"
           }
          ],
          "scatterternary": [
           {
            "marker": {
             "colorbar": {
              "outlinewidth": 0,
              "ticks": ""
             }
            },
            "type": "scatterternary"
           }
          ],
          "surface": [
           {
            "colorbar": {
             "outlinewidth": 0,
             "ticks": ""
            },
            "colorscale": [
             [
              0,
              "#0d0887"
             ],
             [
              0.1111111111111111,
              "#46039f"
             ],
             [
              0.2222222222222222,
              "#7201a8"
             ],
             [
              0.3333333333333333,
              "#9c179e"
             ],
             [
              0.4444444444444444,
              "#bd3786"
             ],
             [
              0.5555555555555556,
              "#d8576b"
             ],
             [
              0.6666666666666666,
              "#ed7953"
             ],
             [
              0.7777777777777778,
              "#fb9f3a"
             ],
             [
              0.8888888888888888,
              "#fdca26"
             ],
             [
              1,
              "#f0f921"
             ]
            ],
            "type": "surface"
           }
          ],
          "table": [
           {
            "cells": {
             "fill": {
              "color": "#EBF0F8"
             },
             "line": {
              "color": "white"
             }
            },
            "header": {
             "fill": {
              "color": "#C8D4E3"
             },
             "line": {
              "color": "white"
             }
            },
            "type": "table"
           }
          ]
         },
         "layout": {
          "annotationdefaults": {
           "arrowcolor": "#2a3f5f",
           "arrowhead": 0,
           "arrowwidth": 1
          },
          "autotypenumbers": "strict",
          "coloraxis": {
           "colorbar": {
            "outlinewidth": 0,
            "ticks": ""
           }
          },
          "colorscale": {
           "diverging": [
            [
             0,
             "#8e0152"
            ],
            [
             0.1,
             "#c51b7d"
            ],
            [
             0.2,
             "#de77ae"
            ],
            [
             0.3,
             "#f1b6da"
            ],
            [
             0.4,
             "#fde0ef"
            ],
            [
             0.5,
             "#f7f7f7"
            ],
            [
             0.6,
             "#e6f5d0"
            ],
            [
             0.7,
             "#b8e186"
            ],
            [
             0.8,
             "#7fbc41"
            ],
            [
             0.9,
             "#4d9221"
            ],
            [
             1,
             "#276419"
            ]
           ],
           "sequential": [
            [
             0,
             "#0d0887"
            ],
            [
             0.1111111111111111,
             "#46039f"
            ],
            [
             0.2222222222222222,
             "#7201a8"
            ],
            [
             0.3333333333333333,
             "#9c179e"
            ],
            [
             0.4444444444444444,
             "#bd3786"
            ],
            [
             0.5555555555555556,
             "#d8576b"
            ],
            [
             0.6666666666666666,
             "#ed7953"
            ],
            [
             0.7777777777777778,
             "#fb9f3a"
            ],
            [
             0.8888888888888888,
             "#fdca26"
            ],
            [
             1,
             "#f0f921"
            ]
           ],
           "sequentialminus": [
            [
             0,
             "#0d0887"
            ],
            [
             0.1111111111111111,
             "#46039f"
            ],
            [
             0.2222222222222222,
             "#7201a8"
            ],
            [
             0.3333333333333333,
             "#9c179e"
            ],
            [
             0.4444444444444444,
             "#bd3786"
            ],
            [
             0.5555555555555556,
             "#d8576b"
            ],
            [
             0.6666666666666666,
             "#ed7953"
            ],
            [
             0.7777777777777778,
             "#fb9f3a"
            ],
            [
             0.8888888888888888,
             "#fdca26"
            ],
            [
             1,
             "#f0f921"
            ]
           ]
          },
          "colorway": [
           "#636efa",
           "#EF553B",
           "#00cc96",
           "#ab63fa",
           "#FFA15A",
           "#19d3f3",
           "#FF6692",
           "#B6E880",
           "#FF97FF",
           "#FECB52"
          ],
          "font": {
           "color": "#2a3f5f"
          },
          "geo": {
           "bgcolor": "white",
           "lakecolor": "white",
           "landcolor": "#E5ECF6",
           "showlakes": true,
           "showland": true,
           "subunitcolor": "white"
          },
          "hoverlabel": {
           "align": "left"
          },
          "hovermode": "closest",
          "mapbox": {
           "style": "light"
          },
          "paper_bgcolor": "white",
          "plot_bgcolor": "#E5ECF6",
          "polar": {
           "angularaxis": {
            "gridcolor": "white",
            "linecolor": "white",
            "ticks": ""
           },
           "bgcolor": "#E5ECF6",
           "radialaxis": {
            "gridcolor": "white",
            "linecolor": "white",
            "ticks": ""
           }
          },
          "scene": {
           "xaxis": {
            "backgroundcolor": "#E5ECF6",
            "gridcolor": "white",
            "gridwidth": 2,
            "linecolor": "white",
            "showbackground": true,
            "ticks": "",
            "zerolinecolor": "white"
           },
           "yaxis": {
            "backgroundcolor": "#E5ECF6",
            "gridcolor": "white",
            "gridwidth": 2,
            "linecolor": "white",
            "showbackground": true,
            "ticks": "",
            "zerolinecolor": "white"
           },
           "zaxis": {
            "backgroundcolor": "#E5ECF6",
            "gridcolor": "white",
            "gridwidth": 2,
            "linecolor": "white",
            "showbackground": true,
            "ticks": "",
            "zerolinecolor": "white"
           }
          },
          "shapedefaults": {
           "line": {
            "color": "#2a3f5f"
           }
          },
          "ternary": {
           "aaxis": {
            "gridcolor": "white",
            "linecolor": "white",
            "ticks": ""
           },
           "baxis": {
            "gridcolor": "white",
            "linecolor": "white",
            "ticks": ""
           },
           "bgcolor": "#E5ECF6",
           "caxis": {
            "gridcolor": "white",
            "linecolor": "white",
            "ticks": ""
           }
          },
          "title": {
           "x": 0.05
          },
          "xaxis": {
           "automargin": true,
           "gridcolor": "white",
           "linecolor": "white",
           "ticks": "",
           "title": {
            "standoff": 15
           },
           "zerolinecolor": "white",
           "zerolinewidth": 2
          },
          "yaxis": {
           "automargin": true,
           "gridcolor": "white",
           "linecolor": "white",
           "ticks": "",
           "title": {
            "standoff": 15
           },
           "zerolinecolor": "white",
           "zerolinewidth": 2
          }
         }
        }
       }
      }
     },
     "metadata": {},
     "output_type": "display_data"
    }
   ],
   "source": []
  },
  {
   "cell_type": "code",
   "execution_count": null,
   "metadata": {},
   "outputs": [],
   "source": []
  }
 ],
 "metadata": {
  "kernelspec": {
   "display_name": "Python 3",
   "language": "python",
   "name": "python3"
  },
  "language_info": {
   "codemirror_mode": {
    "name": "ipython",
    "version": 3
   },
   "file_extension": ".py",
   "mimetype": "text/x-python",
   "name": "python",
   "nbconvert_exporter": "python",
   "pygments_lexer": "ipython3",
   "version": "3.11.5"
  }
 },
 "nbformat": 4,
 "nbformat_minor": 2
}
