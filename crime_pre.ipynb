{
 "cells": [
  {
   "cell_type": "code",
   "execution_count": 11,
   "metadata": {},
   "outputs": [],
   "source": [
    "import pandas as pd\n",
    "import numpy as np \n",
    "import os"
   ]
  },
  {
   "cell_type": "markdown",
   "metadata": {},
   "source": [
    "# Loading and Preprocessing Data"
   ]
  },
  {
   "cell_type": "markdown",
   "metadata": {},
   "source": [
    "## Crime codes Data"
   ]
  },
  {
   "cell_type": "markdown",
   "metadata": {},
   "source": [
    "The code mapped with the crime types"
   ]
  },
  {
   "cell_type": "code",
   "execution_count": 10,
   "metadata": {},
   "outputs": [
    {
     "data": {
      "text/html": [
       "<div>\n",
       "<style scoped>\n",
       "    .dataframe tbody tr th:only-of-type {\n",
       "        vertical-align: middle;\n",
       "    }\n",
       "\n",
       "    .dataframe tbody tr th {\n",
       "        vertical-align: top;\n",
       "    }\n",
       "\n",
       "    .dataframe thead th {\n",
       "        text-align: right;\n",
       "    }\n",
       "</style>\n",
       "<table border=\"1\" class=\"dataframe\">\n",
       "  <thead>\n",
       "    <tr style=\"text-align: right;\">\n",
       "      <th></th>\n",
       "      <th>CODE</th>\n",
       "      <th>NAME</th>\n",
       "    </tr>\n",
       "  </thead>\n",
       "  <tbody>\n",
       "    <tr>\n",
       "      <th>0</th>\n",
       "      <td>612</td>\n",
       "      <td>LARCENY PURSE SNATCH - NO FORCE</td>\n",
       "    </tr>\n",
       "    <tr>\n",
       "      <th>1</th>\n",
       "      <td>613</td>\n",
       "      <td>LARCENY SHOPLIFTING</td>\n",
       "    </tr>\n",
       "    <tr>\n",
       "      <th>2</th>\n",
       "      <td>615</td>\n",
       "      <td>LARCENY THEFT OF MV PARTS &amp; ACCESSORIES</td>\n",
       "    </tr>\n",
       "    <tr>\n",
       "      <th>3</th>\n",
       "      <td>1731</td>\n",
       "      <td>INCEST</td>\n",
       "    </tr>\n",
       "    <tr>\n",
       "      <th>4</th>\n",
       "      <td>3111</td>\n",
       "      <td>LICENSE PREMISE VIOLATION</td>\n",
       "    </tr>\n",
       "    <tr>\n",
       "      <th>...</th>\n",
       "      <td>...</td>\n",
       "      <td>...</td>\n",
       "    </tr>\n",
       "    <tr>\n",
       "      <th>571</th>\n",
       "      <td>1806</td>\n",
       "      <td>DRUGS - CLASS B TRAFFICKING OVER 18 GRAMS</td>\n",
       "    </tr>\n",
       "    <tr>\n",
       "      <th>572</th>\n",
       "      <td>1807</td>\n",
       "      <td>DRUGS - CLASS D TRAFFICKING OVER 50 GRAMS</td>\n",
       "    </tr>\n",
       "    <tr>\n",
       "      <th>573</th>\n",
       "      <td>1610</td>\n",
       "      <td>HUMAN TRAFFICKING - COMMERCIAL SEX ACTS</td>\n",
       "    </tr>\n",
       "    <tr>\n",
       "      <th>574</th>\n",
       "      <td>2010</td>\n",
       "      <td>HOME INVASION</td>\n",
       "    </tr>\n",
       "    <tr>\n",
       "      <th>575</th>\n",
       "      <td>1620</td>\n",
       "      <td>HUMAN TRAFFICKING - INVOLUNTARY SERVITUDE</td>\n",
       "    </tr>\n",
       "  </tbody>\n",
       "</table>\n",
       "<p>576 rows × 2 columns</p>\n",
       "</div>"
      ],
      "text/plain": [
       "     CODE                                       NAME\n",
       "0     612           LARCENY PURSE SNATCH - NO FORCE \n",
       "1     613                        LARCENY SHOPLIFTING\n",
       "2     615    LARCENY THEFT OF MV PARTS & ACCESSORIES\n",
       "3    1731                                     INCEST\n",
       "4    3111                  LICENSE PREMISE VIOLATION\n",
       "..    ...                                        ...\n",
       "571  1806  DRUGS - CLASS B TRAFFICKING OVER 18 GRAMS\n",
       "572  1807  DRUGS - CLASS D TRAFFICKING OVER 50 GRAMS\n",
       "573  1610    HUMAN TRAFFICKING - COMMERCIAL SEX ACTS\n",
       "574  2010                              HOME INVASION\n",
       "575  1620  HUMAN TRAFFICKING - INVOLUNTARY SERVITUDE\n",
       "\n",
       "[576 rows x 2 columns]"
      ]
     },
     "execution_count": 10,
     "metadata": {},
     "output_type": "execute_result"
    }
   ],
   "source": [
    "codes = pd.read_excel('data/crimes_raw/crime_codes.xlsx')\n",
    "codes"
   ]
  },
  {
   "cell_type": "markdown",
   "metadata": {},
   "source": [
    "## Crime Data"
   ]
  },
  {
   "cell_type": "markdown",
   "metadata": {},
   "source": [
    "The columns are the same, but for different years, the time format of when the crime occurred might be a little bit different, so made them the same date time format."
   ]
  },
  {
   "cell_type": "code",
   "execution_count": 75,
   "metadata": {},
   "outputs": [
    {
     "name": "stdout",
     "output_type": "stream",
     "text": [
      "data/crimes_raw/crime2015.csv\n",
      "data/crimes_raw/crime2016.csv\n",
      "data/crimes_raw/crime2017.csv\n",
      "data/crimes_raw/crime2018.csv\n",
      "data/crimes_raw/crime2019.csv\n"
     ]
    },
    {
     "name": "stderr",
     "output_type": "stream",
     "text": [
      "/var/folders/hp/6dmmpscs1k102dtp0nj9snw40000gn/T/ipykernel_13783/2511399115.py:16: DtypeWarning: Columns (0) have mixed types. Specify dtype option on import or set low_memory=False.\n",
      "  df = pd.read_csv(filename)\n"
     ]
    },
    {
     "name": "stdout",
     "output_type": "stream",
     "text": [
      "data/crimes_raw/crime2020.csv\n"
     ]
    },
    {
     "name": "stderr",
     "output_type": "stream",
     "text": [
      "/var/folders/hp/6dmmpscs1k102dtp0nj9snw40000gn/T/ipykernel_13783/2511399115.py:16: DtypeWarning: Columns (0) have mixed types. Specify dtype option on import or set low_memory=False.\n",
      "  df = pd.read_csv(filename)\n"
     ]
    },
    {
     "name": "stdout",
     "output_type": "stream",
     "text": [
      "data/crimes_raw/crime2021.csv\n"
     ]
    },
    {
     "name": "stderr",
     "output_type": "stream",
     "text": [
      "/var/folders/hp/6dmmpscs1k102dtp0nj9snw40000gn/T/ipykernel_13783/2511399115.py:16: DtypeWarning: Columns (0) have mixed types. Specify dtype option on import or set low_memory=False.\n",
      "  df = pd.read_csv(filename)\n"
     ]
    },
    {
     "name": "stdout",
     "output_type": "stream",
     "text": [
      "data/crimes_raw/crime2022.csv\n"
     ]
    },
    {
     "name": "stderr",
     "output_type": "stream",
     "text": [
      "/var/folders/hp/6dmmpscs1k102dtp0nj9snw40000gn/T/ipykernel_13783/2511399115.py:16: DtypeWarning: Columns (0) have mixed types. Specify dtype option on import or set low_memory=False.\n",
      "  df = pd.read_csv(filename)\n"
     ]
    },
    {
     "name": "stdout",
     "output_type": "stream",
     "text": [
      "data/crimes_raw/crime2023.csv\n"
     ]
    },
    {
     "name": "stderr",
     "output_type": "stream",
     "text": [
      "/var/folders/hp/6dmmpscs1k102dtp0nj9snw40000gn/T/ipykernel_13783/2511399115.py:16: DtypeWarning: Columns (0) have mixed types. Specify dtype option on import or set low_memory=False.\n",
      "  df = pd.read_csv(filename)\n"
     ]
    },
    {
     "data": {
      "text/html": [
       "<div>\n",
       "<style scoped>\n",
       "    .dataframe tbody tr th:only-of-type {\n",
       "        vertical-align: middle;\n",
       "    }\n",
       "\n",
       "    .dataframe tbody tr th {\n",
       "        vertical-align: top;\n",
       "    }\n",
       "\n",
       "    .dataframe thead th {\n",
       "        text-align: right;\n",
       "    }\n",
       "</style>\n",
       "<table border=\"1\" class=\"dataframe\">\n",
       "  <thead>\n",
       "    <tr style=\"text-align: right;\">\n",
       "      <th></th>\n",
       "      <th>INCIDENT_NUMBER</th>\n",
       "      <th>OFFENSE_CODE</th>\n",
       "      <th>OFFENSE_CODE_GROUP</th>\n",
       "      <th>OFFENSE_DESCRIPTION</th>\n",
       "      <th>DISTRICT</th>\n",
       "      <th>REPORTING_AREA</th>\n",
       "      <th>SHOOTING</th>\n",
       "      <th>OCCURRED_ON_DATE</th>\n",
       "      <th>YEAR</th>\n",
       "      <th>MONTH</th>\n",
       "      <th>DAY_OF_WEEK</th>\n",
       "      <th>HOUR</th>\n",
       "      <th>UCR_PART</th>\n",
       "      <th>STREET</th>\n",
       "      <th>Lat</th>\n",
       "      <th>Long</th>\n",
       "      <th>Location</th>\n",
       "    </tr>\n",
       "  </thead>\n",
       "  <tbody>\n",
       "    <tr>\n",
       "      <th>0</th>\n",
       "      <td>I172040657</td>\n",
       "      <td>2629</td>\n",
       "      <td>Harassment</td>\n",
       "      <td>HARASSMENT</td>\n",
       "      <td>C11</td>\n",
       "      <td>397</td>\n",
       "      <td>NaN</td>\n",
       "      <td>2015-06-15</td>\n",
       "      <td>2015</td>\n",
       "      <td>6</td>\n",
       "      <td>Monday</td>\n",
       "      <td>0</td>\n",
       "      <td>Part Two</td>\n",
       "      <td>MELBOURNE ST</td>\n",
       "      <td>42.291093</td>\n",
       "      <td>-71.065945</td>\n",
       "      <td>(42.29109287, -71.06594539)</td>\n",
       "    </tr>\n",
       "    <tr>\n",
       "      <th>1</th>\n",
       "      <td>I182061268</td>\n",
       "      <td>3201</td>\n",
       "      <td>Property Lost</td>\n",
       "      <td>PROPERTY - LOST</td>\n",
       "      <td>NaN</td>\n",
       "      <td></td>\n",
       "      <td>NaN</td>\n",
       "      <td>2015-06-15</td>\n",
       "      <td>2015</td>\n",
       "      <td>6</td>\n",
       "      <td>Monday</td>\n",
       "      <td>0</td>\n",
       "      <td>Part Three</td>\n",
       "      <td>BERNARD</td>\n",
       "      <td>NaN</td>\n",
       "      <td>NaN</td>\n",
       "      <td>NaN</td>\n",
       "    </tr>\n",
       "    <tr>\n",
       "      <th>2</th>\n",
       "      <td>I162013546</td>\n",
       "      <td>3201</td>\n",
       "      <td>Property Lost</td>\n",
       "      <td>PROPERTY - LOST</td>\n",
       "      <td>B3</td>\n",
       "      <td>433</td>\n",
       "      <td>NaN</td>\n",
       "      <td>2015-06-15</td>\n",
       "      <td>2015</td>\n",
       "      <td>6</td>\n",
       "      <td>Monday</td>\n",
       "      <td>0</td>\n",
       "      <td>Part Three</td>\n",
       "      <td>NORFOLK ST</td>\n",
       "      <td>42.283634</td>\n",
       "      <td>-71.082813</td>\n",
       "      <td>(42.28363434, -71.08281320)</td>\n",
       "    </tr>\n",
       "    <tr>\n",
       "      <th>3</th>\n",
       "      <td>I152051083</td>\n",
       "      <td>3115</td>\n",
       "      <td>Investigate Person</td>\n",
       "      <td>INVESTIGATE PERSON</td>\n",
       "      <td>A7</td>\n",
       "      <td>20</td>\n",
       "      <td>NaN</td>\n",
       "      <td>2015-06-15</td>\n",
       "      <td>2015</td>\n",
       "      <td>6</td>\n",
       "      <td>Monday</td>\n",
       "      <td>0</td>\n",
       "      <td>Part Three</td>\n",
       "      <td>PARIS ST</td>\n",
       "      <td>42.377023</td>\n",
       "      <td>-71.032247</td>\n",
       "      <td>(42.37702319, -71.03224730)</td>\n",
       "    </tr>\n",
       "    <tr>\n",
       "      <th>4</th>\n",
       "      <td>I152059178</td>\n",
       "      <td>2647</td>\n",
       "      <td>Other</td>\n",
       "      <td>THREATS TO DO BODILY HARM</td>\n",
       "      <td>C11</td>\n",
       "      <td>359</td>\n",
       "      <td>NaN</td>\n",
       "      <td>2015-06-15</td>\n",
       "      <td>2015</td>\n",
       "      <td>6</td>\n",
       "      <td>Monday</td>\n",
       "      <td>0</td>\n",
       "      <td>Part Two</td>\n",
       "      <td>WASHINGTON ST</td>\n",
       "      <td>42.293606</td>\n",
       "      <td>-71.071887</td>\n",
       "      <td>(42.29360585, -71.07188650)</td>\n",
       "    </tr>\n",
       "  </tbody>\n",
       "</table>\n",
       "</div>"
      ],
      "text/plain": [
       "  INCIDENT_NUMBER  OFFENSE_CODE  OFFENSE_CODE_GROUP  \\\n",
       "0      I172040657          2629          Harassment   \n",
       "1      I182061268          3201       Property Lost   \n",
       "2      I162013546          3201       Property Lost   \n",
       "3      I152051083          3115  Investigate Person   \n",
       "4      I152059178          2647               Other   \n",
       "\n",
       "         OFFENSE_DESCRIPTION DISTRICT REPORTING_AREA SHOOTING  \\\n",
       "0                 HARASSMENT      C11            397      NaN   \n",
       "1            PROPERTY - LOST      NaN                     NaN   \n",
       "2            PROPERTY - LOST       B3            433      NaN   \n",
       "3         INVESTIGATE PERSON       A7             20      NaN   \n",
       "4  THREATS TO DO BODILY HARM      C11            359      NaN   \n",
       "\n",
       "  OCCURRED_ON_DATE  YEAR  MONTH DAY_OF_WEEK  HOUR    UCR_PART         STREET  \\\n",
       "0       2015-06-15  2015      6      Monday     0    Part Two   MELBOURNE ST   \n",
       "1       2015-06-15  2015      6      Monday     0  Part Three        BERNARD   \n",
       "2       2015-06-15  2015      6      Monday     0  Part Three     NORFOLK ST   \n",
       "3       2015-06-15  2015      6      Monday     0  Part Three       PARIS ST   \n",
       "4       2015-06-15  2015      6      Monday     0    Part Two  WASHINGTON ST   \n",
       "\n",
       "         Lat       Long                     Location  \n",
       "0  42.291093 -71.065945  (42.29109287, -71.06594539)  \n",
       "1        NaN        NaN                          NaN  \n",
       "2  42.283634 -71.082813  (42.28363434, -71.08281320)  \n",
       "3  42.377023 -71.032247  (42.37702319, -71.03224730)  \n",
       "4  42.293606 -71.071887  (42.29360585, -71.07188650)  "
      ]
     },
     "execution_count": 75,
     "metadata": {},
     "output_type": "execute_result"
    }
   ],
   "source": [
    "#write code to read in file from the data/crime_raw folder for crime_year 2015 to 2023 and format the Occurred_on_date column as a datetime object\n",
    "\n",
    "\n",
    "# Directory where the Excel files are located\n",
    "directory = 'data/crimes_raw/'\n",
    "\n",
    "# List to store dataframes for each year\n",
    "dataframes = []\n",
    "\n",
    "# Loop through each year from 2015 to 2023\n",
    "for year in range(2015, 2024):\n",
    "    filename = os.path.join(directory, f'crime{year}.csv')\n",
    "    print(filename)\n",
    "    if os.path.exists(filename):\n",
    "        # Read file\n",
    "        df = pd.read_csv(filename)\n",
    "        \n",
    "        # Parse 'Occurred_on_date' column as datetime\n",
    "        \n",
    "        df['OCCURRED_ON_DATE'] = df['OCCURRED_ON_DATE'].str.split('+').str[0]\n",
    "\n",
    "        # Convert the 'Occurred_on_date' column to datetime objects with correct format\n",
    "        df['OCCURRED_ON_DATE'] = pd.to_datetime(df['OCCURRED_ON_DATE'], format='%Y-%m-%d %H:%M:%S')\n",
    "\n",
    "        #df['OCCURRED_ON_DATE']= df['OCCURRED_ON_DATE'].apply(lambda x: x.tz_localize(None))\n",
    "        \n",
    "        # Append the dataframe to the list\n",
    "        dataframes.append(df)\n",
    "\n",
    "# Concatenate all dataframes into a single dataframe\n",
    "combined_df = pd.concat(dataframes, ignore_index=True)\n",
    "\n",
    "# Display the combined dataframe\n",
    "combined_df.head()\n"
   ]
  },
  {
   "cell_type": "code",
   "execution_count": 24,
   "metadata": {},
   "outputs": [
    {
     "name": "stdout",
     "output_type": "stream",
     "text": [
      "[2015 2016 2017 2018 2019 2020 2021 2022 2023 2024]\n"
     ]
    }
   ],
   "source": [
    "len(combined_df)\n",
    "print(pd.unique(combined_df['YEAR']))"
   ]
  },
  {
   "cell_type": "code",
   "execution_count": 82,
   "metadata": {},
   "outputs": [
    {
     "name": "stdout",
     "output_type": "stream",
     "text": [
      "INCIDENT_NUMBER                object\n",
      "OFFENSE_CODE                    int64\n",
      "OFFENSE_CODE_GROUP             object\n",
      "OFFENSE_DESCRIPTION            object\n",
      "DISTRICT                       object\n",
      "REPORTING_AREA                 object\n",
      "SHOOTING                       object\n",
      "OCCURRED_ON_DATE       datetime64[ns]\n",
      "YEAR                            int64\n",
      "MONTH                           int64\n",
      "DAY_OF_WEEK                    object\n",
      "HOUR                            int64\n",
      "UCR_PART                       object\n",
      "STREET                         object\n",
      "Lat                           float64\n",
      "Long                          float64\n",
      "Location                       object\n",
      "dtype: object\n"
     ]
    }
   ],
   "source": [
    "print(combined_df.dtypes)"
   ]
  },
  {
   "cell_type": "code",
   "execution_count": 21,
   "metadata": {},
   "outputs": [
    {
     "data": {
      "text/plain": [
       "array(['Harassment', 'Property Lost', 'Investigate Person', 'Other',\n",
       "       'Confidence Games', 'Search Warrants', 'Fraud',\n",
       "       'Larceny From Motor Vehicle', 'Drug Violation', 'Vandalism',\n",
       "       'Simple Assault', 'Violations', 'Medical Assistance', 'Towed',\n",
       "       'Criminal Harassment', 'Firearm Violations', 'Firearm Discovery',\n",
       "       'Larceny', 'Aggravated Assault', 'Warrant Arrests', 'Auto Theft',\n",
       "       'Investigate Property', 'Motor Vehicle Accident Response',\n",
       "       'Property Found', 'Residential Burglary',\n",
       "       'Restraining Order Violations', 'Verbal Disputes',\n",
       "       'Police Service Incidents', 'Fire Related Reports',\n",
       "       'Missing Person Located', 'Other Burglary', 'Counterfeiting',\n",
       "       'License Plate Related Incidents', 'Missing Person Reported',\n",
       "       'Disorderly Conduct', 'Service', 'Commercial Burglary', 'Robbery',\n",
       "       'Ballistics', 'Recovered Stolen Property',\n",
       "       'Assembly or Gathering Violations',\n",
       "       'Offenses Against Child / Family', 'Property Related Damage',\n",
       "       'License Violation', 'Auto Theft Recovery', 'Prostitution',\n",
       "       'Embezzlement', 'Liquor Violation', 'Landlord/Tenant Disputes',\n",
       "       'Operating Under the Influence', 'Bomb Hoax', 'Evading Fare',\n",
       "       'Prisoner Related Incidents', 'Arson', 'Harbor Related Incidents',\n",
       "       'Explosives', 'Homicide', 'Aircraft', 'Phone Call Complaints',\n",
       "       'Gambling', 'INVESTIGATE PERSON', 'Burglary - No Property Taken',\n",
       "       'Manslaughter', 'HOME INVASION',\n",
       "       'HUMAN TRAFFICKING - INVOLUNTARY SERVITUDE', 'HUMAN TRAFFICKING',\n",
       "       'Biological Threat', nan], dtype=object)"
      ]
     },
     "execution_count": 21,
     "metadata": {},
     "output_type": "execute_result"
    }
   ],
   "source": [
    "# Look at the unique values of each column:\n",
    "pd.unique(combined_df['OFFENSE_CODE_GROUP'])"
   ]
  },
  {
   "cell_type": "code",
   "execution_count": 33,
   "metadata": {},
   "outputs": [
    {
     "name": "stdout",
     "output_type": "stream",
     "text": [
      "['Monday' 'Tuesday' 'Wednesday' 'Thursday' 'Friday' 'Saturday' 'Sunday']\n",
      "['C11' nan 'B3' 'A7' 'B2' 'A1' 'D4' 'E18' 'D14' 'C6' 'E5' 'A15' 'E13'\n",
      " 'External' 'Outside of']\n",
      "['Part Two' 'Part Three' 'Part One' 'Other' nan]\n"
     ]
    },
    {
     "data": {
      "text/plain": [
       "array([nan, 'Y', 0, 1], dtype=object)"
      ]
     },
     "execution_count": 33,
     "metadata": {},
     "output_type": "execute_result"
    }
   ],
   "source": [
    "print(pd.unique(combined_df['DAY_OF_WEEK']))\n",
    "print(pd.unique(combined_df[\"DISTRICT\"]))\n",
    "len(pd.unique(combined_df[\"REPORTING_AREA\"]))\n",
    "print(pd.unique(combined_df[\"UCR_PART\"]) )\n",
    "print(pd.unique(combined_df[\"SHOOTING\"])  )"
   ]
  },
  {
   "cell_type": "code",
   "execution_count": 36,
   "metadata": {},
   "outputs": [
    {
     "data": {
      "text/plain": [
       "19248"
      ]
     },
     "execution_count": 36,
     "metadata": {},
     "output_type": "execute_result"
    }
   ],
   "source": [
    "\n",
    "       \n",
    "len(pd.unique(combined_df[\"STREET\"]) )             \n",
    "\n",
    "     "
   ]
  },
  {
   "cell_type": "code",
   "execution_count": 83,
   "metadata": {},
   "outputs": [],
   "source": [
    "# push the combined_df to the data/crimes_combined folder\n",
    "#because the df is large, take the years 2015 to 2020 as combined_df1\n",
    "#and 2021 to 2024 as combined_df2\n",
    "combined_df1 = combined_df[combined_df['YEAR'] <= 2020]\n",
    "combined_df2 = combined_df[combined_df['YEAR'] > 2020]"
   ]
  },
  {
   "cell_type": "code",
   "execution_count": 84,
   "metadata": {},
   "outputs": [],
   "source": [
    "combined_df1.to_pickle('data/crimes_combined/combined_df1.pkl')\n",
    "combined_df2.to_pickle('data/crimes_combined/combined_df2.pkl')\n",
    "    "
   ]
  },
  {
   "cell_type": "code",
   "execution_count": 85,
   "metadata": {},
   "outputs": [
    {
     "data": {
      "text/plain": [
       "dtype('<M8[ns]')"
      ]
     },
     "execution_count": 85,
     "metadata": {},
     "output_type": "execute_result"
    }
   ],
   "source": [
    "\n",
    "\n",
    "\n",
    "\n",
    "# check whether the ocurred_on_date column is in datetime format\n",
    "combined_df2[combined_df2['YEAR'] == 2023]['OCCURRED_ON_DATE'].dtypes\n"
   ]
  },
  {
   "cell_type": "code",
   "execution_count": null,
   "metadata": {},
   "outputs": [],
   "source": []
  },
  {
   "cell_type": "code",
   "execution_count": null,
   "metadata": {},
   "outputs": [],
   "source": []
  }
 ],
 "metadata": {
  "kernelspec": {
   "display_name": "base",
   "language": "python",
   "name": "python3"
  },
  "language_info": {
   "codemirror_mode": {
    "name": "ipython",
    "version": 3
   },
   "file_extension": ".py",
   "mimetype": "text/x-python",
   "name": "python",
   "nbconvert_exporter": "python",
   "pygments_lexer": "ipython3",
   "version": "3.11.5"
  }
 },
 "nbformat": 4,
 "nbformat_minor": 2
}
